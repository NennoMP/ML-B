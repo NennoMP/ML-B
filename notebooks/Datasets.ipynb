{
 "cells": [
  {
   "cell_type": "markdown",
   "id": "80e857aa-4b65-43dc-b8b4-c53ad5dffc92",
   "metadata": {
    "tags": []
   },
   "source": [
    "## Imports"
   ]
  },
  {
   "cell_type": "code",
   "execution_count": 8,
   "id": "180952bf-7e52-411c-b24e-2de9f1f16371",
   "metadata": {
    "tags": []
   },
   "outputs": [
    {
     "name": "stdout",
     "output_type": "stream",
     "text": [
      "The autoreload extension is already loaded. To reload it, use:\n",
      "  %reload_ext autoreload\n"
     ]
    }
   ],
   "source": [
    "import os\n",
    "import sys\n",
    "\n",
    "import numpy as np\n",
    "import pandas as pd\n",
    "\n",
    "dir_parts = os.getcwd().split(os.path.sep)\n",
    "root_index = dir_parts.index('ML-B')\n",
    "root_path = os.path.sep.join(dir_parts[:root_index + 1])\n",
    "sys.path.append(root_path + '/code/')\n",
    "from data.data_config import Dataset\n",
    "from data.data_utils import load_monk, load_cup\n",
    "\n",
    "%load_ext autoreload\n",
    "%autoreload 2"
   ]
  },
  {
   "cell_type": "markdown",
   "id": "7833c477-92ff-4574-8ee4-de11eb0aeb9e",
   "metadata": {
    "tags": []
   },
   "source": [
    "## Path"
   ]
  },
  {
   "cell_type": "code",
   "execution_count": 2,
   "id": "178f492d-362a-4d3e-853e-18c04a4ac7e5",
   "metadata": {
    "tags": []
   },
   "outputs": [],
   "source": [
    "# Directories\n",
    "monk_dir = root_path + '/data/monk/'\n",
    "cup_dir = root_path + '/data/cup/'\n",
    "\n",
    "# Filepaths (MONK)\n",
    "m1_dev_path, m1_test_path = Dataset.MONK_1.dev_path, Dataset.MONK_1.test_path # MONK 1\n",
    "m2_dev_path, m2_test_path = Dataset.MONK_2.dev_path, Dataset.MONK_2.test_path # MONK 2\n",
    "m3_dev_path, m3_test_path = Dataset.MONK_3.dev_path, Dataset.MONK_3.test_path # MONK 3\n",
    "\n",
    "# Filepaths (CUP)\n",
    "cup_dev_path, cup_test_path = Dataset.CUP.dev_path, Dataset.CUP.test_path"
   ]
  },
  {
   "cell_type": "markdown",
   "id": "e3109356-0a09-455a-89ab-2d1a97ea87ee",
   "metadata": {
    "jp-MarkdownHeadingCollapsed": true,
    "tags": []
   },
   "source": [
    "# Introduction\n",
    "In this notebook we take a look at the datasets at hand, i.e. the three MONK's problems and the CUP datasets dedicated to the ML challenge."
   ]
  },
  {
   "cell_type": "markdown",
   "id": "024651fe-db66-41ac-8581-d7daba9ac204",
   "metadata": {
    "jp-MarkdownHeadingCollapsed": true,
    "tags": []
   },
   "source": [
    "## MONK\n",
    "MONK's problems is a set of three artificial domains over the same attribute space. Note that, one of the MONK's problems has some noise added.\n",
    "\n",
    "Each problem has the same characteristics:\n",
    "- **Number of Instances**: 432;\n",
    "- **Number of Attributes**: 8 (including class/target attribute).\n",
    "- **Missing attribute values**: None\n",
    "\n",
    "The attributes format is the following:\n",
    "1. **class**: 0, 1 \n",
    "2. **a1**:    1, 2, 3\n",
    "3. **a2**:    1, 2, 3\n",
    "4. **a3**:    1, 2\n",
    "5. **a4**:    1, 2, 3\n",
    "6. **a5**:    1, 2, 3, 4\n",
    "7. **a6**:    1, 2\n",
    "8. **Id**:    (A unique symbol for each instance)\n",
    "\n",
    "where each $ai$ with $i = \\{1, ..., 6\\}$ corresponds to an attribute/feature of the dataset.\n",
    "\n",
    "Target concepts associated to the MONK's problems:\n",
    "- **MONK-1**: $(a1 = a2) \\text{ or } (a5 = 1)$;\n",
    "- **MONK-2**: EXACTLY TWO of ${a1 = 1, a2 = 1, a3 = 1, a4 = 1, a5 = 1, a6 = 1}$;\n",
    "- **MONK-3**: $(a5 = 3 \\text{ and } a4 = 1)$ or $(a5 /= 4 \\text{ and } a2 /= 3)$, with $5\\%$ class noise added to the training set.\n",
    "\n",
    "\n",
    "For simplicity, considering the the three MONK datasets are of same format, the following steps are performed only for one the MONK-1 problem."
   ]
  },
  {
   "cell_type": "markdown",
   "id": "03085c69-3705-472b-8c42-771845639331",
   "metadata": {
    "tags": []
   },
   "source": [
    "## Data\n",
    "The MONK datasets is loaded into memory in one-hot encoding format, separating the features (x) and the labels/classes (y)."
   ]
  },
  {
   "cell_type": "code",
   "execution_count": 3,
   "id": "a9ba40a5-2ba3-47d8-bc0a-a42a071f78ea",
   "metadata": {
    "tags": []
   },
   "outputs": [],
   "source": [
    "# Load MONK-1\n",
    "x_dev_m1, y_dev_m1, x_test_m1, y_test_m1 = load_monk(m1_dev_path, m1_test_path)"
   ]
  },
  {
   "cell_type": "code",
   "execution_count": 4,
   "id": "7393a19b-a379-4076-9527-a5ef73cc0da8",
   "metadata": {
    "tags": []
   },
   "outputs": [
    {
     "data": {
      "text/plain": [
       "((124, 17), (124,))"
      ]
     },
     "execution_count": 4,
     "metadata": {},
     "output_type": "execute_result"
    }
   ],
   "source": [
    "x_dev_m1.shape, y_dev_m1.shape"
   ]
  },
  {
   "cell_type": "code",
   "execution_count": 8,
   "id": "54f35eee-702a-4fe6-8962-e15e0451b5eb",
   "metadata": {
    "tags": []
   },
   "outputs": [
    {
     "data": {
      "text/plain": [
       "((124, 17), (124,))"
      ]
     },
     "execution_count": 8,
     "metadata": {},
     "output_type": "execute_result"
    }
   ],
   "source": [
    "x_test_m1.shape, y_test_m1.shape"
   ]
  },
  {
   "cell_type": "code",
   "execution_count": 9,
   "id": "0e978997-285b-4150-9e80-689e0a487b54",
   "metadata": {
    "tags": []
   },
   "outputs": [
    {
     "data": {
      "text/plain": [
       "array([[ True, False, False, ..., False,  True, False],\n",
       "       [ True, False, False, ..., False, False,  True],\n",
       "       [ True, False, False, ..., False,  True, False],\n",
       "       ...,\n",
       "       [False, False,  True, ..., False, False,  True],\n",
       "       [False, False,  True, ..., False, False,  True],\n",
       "       [False, False,  True, ...,  True, False,  True]])"
      ]
     },
     "execution_count": 9,
     "metadata": {},
     "output_type": "execute_result"
    }
   ],
   "source": [
    "x_dev_m1"
   ]
  },
  {
   "cell_type": "code",
   "execution_count": 10,
   "id": "40315406-4ea5-431e-987b-d022cabeacb4",
   "metadata": {
    "tags": []
   },
   "outputs": [
    {
     "data": {
      "text/plain": [
       "array([1, 1, 1, 1, 1, 1, 1, 1, 1, 1, 0, 0, 0, 1, 0, 0, 0, 0, 0, 0, 0, 0,\n",
       "       0, 0, 0, 0, 0, 0, 0, 0, 1, 0, 0, 0, 0, 0, 1, 0, 0, 0, 0, 1, 0, 0,\n",
       "       0, 0, 0, 1, 1, 0, 0, 0, 0, 0, 0, 0, 0, 0, 0, 0, 0, 1, 1, 1, 1, 1,\n",
       "       1, 1, 1, 1, 1, 1, 1, 1, 1, 1, 1, 1, 0, 1, 0, 0, 0, 1, 1, 0, 0, 1,\n",
       "       1, 1, 0, 0, 1, 0, 0, 0, 0, 1, 0, 1, 0, 1, 1, 0, 1, 0, 0, 1, 1, 1,\n",
       "       1, 1, 1, 1, 1, 1, 1, 1, 1, 1, 1, 1, 1, 1], dtype=int64)"
      ]
     },
     "execution_count": 10,
     "metadata": {},
     "output_type": "execute_result"
    }
   ],
   "source": [
    "y_dev_m1"
   ]
  },
  {
   "cell_type": "markdown",
   "id": "109902ea-768b-46b0-8a9d-4661a3d137c0",
   "metadata": {
    "tags": []
   },
   "source": [
    "# CUP"
   ]
  },
  {
   "cell_type": "markdown",
   "id": "d6ce3d8f-e8ba-498f-9915-cf94d9c1d319",
   "metadata": {},
   "source": [
    "Dataset for che ML competition, consisting of a training set and a **blind** test set (i.e., samples without target values).\n",
    "\n",
    "**Regression** on 3 target variables: *x*, *y*, and *z*.\n",
    "\n",
    "The attributes format is the following:\n",
    "- First column is a pattern name (ID);\n",
    "- Central 10 columns are 10 attributes with continuous values;\n",
    "- Last 3 columns are the 3 labels."
   ]
  },
  {
   "cell_type": "markdown",
   "id": "31620152-7c09-4c15-ba14-b6b56814f500",
   "metadata": {},
   "source": [
    "## Data"
   ]
  },
  {
   "cell_type": "code",
   "execution_count": 3,
   "id": "c33d9c56-b0db-49f2-9d46-09d63ef420ac",
   "metadata": {},
   "outputs": [],
   "source": [
    "# Load CUP\n",
    "x_dev_cup, y_dev_cup, x_test_cup = load_cup(cup_dev_path, cup_test_path)"
   ]
  },
  {
   "cell_type": "code",
   "execution_count": 4,
   "id": "142b01e1-5c8c-4181-853a-2404d93c3e86",
   "metadata": {},
   "outputs": [
    {
     "data": {
      "text/plain": [
       "((1000, 10), (1000, 3))"
      ]
     },
     "execution_count": 4,
     "metadata": {},
     "output_type": "execute_result"
    }
   ],
   "source": [
    "x_dev_cup.shape, y_dev_cup.shape"
   ]
  },
  {
   "cell_type": "code",
   "execution_count": 5,
   "id": "764bf565-b081-4def-a418-4dac3effb380",
   "metadata": {},
   "outputs": [
    {
     "data": {
      "text/plain": [
       "(900, 10)"
      ]
     },
     "execution_count": 5,
     "metadata": {},
     "output_type": "execute_result"
    }
   ],
   "source": [
    "x_test_cup.shape"
   ]
  },
  {
   "cell_type": "code",
   "execution_count": 9,
   "id": "799df795-cdc5-4035-bb6a-4c8c318f448f",
   "metadata": {},
   "outputs": [
    {
     "data": {
      "text/plain": [
       "numpy.ndarray"
      ]
     },
     "execution_count": 9,
     "metadata": {},
     "output_type": "execute_result"
    }
   ],
   "source": [
    "type(x_dev_cup)"
   ]
  },
  {
   "cell_type": "markdown",
   "id": "fbdeff0e-6f83-4e26-a536-9af26fc036ab",
   "metadata": {},
   "source": [
    "## Feature and Labels scaling\n",
    "Let's check wether the features/labels are already properly scaled and/or normalized."
   ]
  },
  {
   "cell_type": "code",
   "execution_count": 12,
   "id": "14b2ac56-0d69-47f6-9353-67a89aadccf7",
   "metadata": {},
   "outputs": [],
   "source": [
    "def feature_analysis(x_data: np.ndarray):\n",
    "    \"\"\"Compute mean and standard deviation of some data <data>. Returns mean and std dev.\n",
    "    \n",
    "    \n",
    "        Args:\n",
    "        - data: the data to analyze\n",
    "    \"\"\"\n",
    "    return np.mean(data, axis=0), np.std(data, axis=0)"
   ]
  },
  {
   "cell_type": "code",
   "execution_count": 17,
   "id": "4e0bb13f-6e17-46de-a5db-1e9ac75029b3",
   "metadata": {},
   "outputs": [
    {
     "name": "stdout",
     "output_type": "stream",
     "text": [
      "--- DEVELOPMENT ---\n",
      "Features mean:\n",
      " [-2.08721929e-17 -1.24344979e-17  2.48689958e-17  2.32702746e-16\n",
      "  1.70530257e-16  3.19744231e-17 -1.77635684e-18  1.77635684e-17\n",
      " -7.10542736e-18  3.19744231e-17]\n",
      "\n",
      "Features mean:\n",
      " [1. 1. 1. 1. 1. 1. 1. 1. 1. 1.]\n"
     ]
    }
   ],
   "source": [
    "print('--- DEVELOPMENT ---')\n",
    "features_mean_dev, features_std_dev = feature_analysis(x_dev_cup)\n",
    "print(f'Features mean:\\n {features_mean_dev}\\n')\n",
    "print(f'Features mean:\\n {features_std_dev}')"
   ]
  },
  {
   "cell_type": "code",
   "execution_count": null,
   "id": "bd7bf79a-c640-4985-9991-a4289888ef9b",
   "metadata": {},
   "outputs": [],
   "source": []
  }
 ],
 "metadata": {
  "kernelspec": {
   "display_name": "hlt",
   "language": "python",
   "name": "hlt"
  },
  "language_info": {
   "codemirror_mode": {
    "name": "ipython",
    "version": 3
   },
   "file_extension": ".py",
   "mimetype": "text/x-python",
   "name": "python",
   "nbconvert_exporter": "python",
   "pygments_lexer": "ipython3",
   "version": "3.9.7"
  }
 },
 "nbformat": 4,
 "nbformat_minor": 5
}
