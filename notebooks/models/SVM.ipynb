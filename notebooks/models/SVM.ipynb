{
 "cells": [
  {
   "cell_type": "markdown",
   "id": "59d3416e-3aee-496b-9a46-d86fab3fe008",
   "metadata": {
    "tags": []
   },
   "source": [
    "## Imports"
   ]
  },
  {
   "cell_type": "code",
   "execution_count": null,
   "id": "15985a7e-4206-4f13-aaad-d38982df5f10",
   "metadata": {},
   "outputs": [],
   "source": [
    "import os\n",
    "import sys\n",
    "\n",
    "import joblib\n",
    "import numpy as np\n",
    "import pandas as pd\n",
    "import matplotlib.pyplot as plt\n",
    "from scipy.stats import uniform\n",
    "\n",
    "from sklearn.svm import SVC, SVR\n",
    "from sklearn.metrics import accuracy_score, make_scorer, mean_squared_error\n",
    "from sklearn.model_selection import GridSearchCV, RandomizedSearchCV, StratifiedKFold, KFold, train_test_split, ValidationCurveDisplay, validation_curve\n",
    "from sklearn.multioutput import MultiOutputRegressor\n",
    "from sklearn.preprocessing import PolynomialFeatures\n",
    "\n",
    "dir_parts = os.getcwd().split(os.path.sep)\n",
    "root_index = dir_parts.index('ML-B')\n",
    "root_path = os.path.sep.join(dir_parts[:root_index + 1])\n",
    "sys.path.append(root_path + '/code/')\n",
    "from data.data_config import Dataset\n",
    "from data.data_utils import load_monk, load_cup, store_monk_result, store_cup_result\n",
    "from hyperparameter_tuning import tuning_search_top_configs\n",
    "from training.metrics import mean_euclidean_error\n",
    "\n",
    "%load_ext autoreload\n",
    "%autoreload 2"
   ]
  },
  {
   "cell_type": "markdown",
   "id": "2d6931af-0794-42d2-8605-57b0ee93457c",
   "metadata": {
    "tags": []
   },
   "source": [
    "# SVM\n",
    "In this notebook we test a **SVC** and a **SVR** w.r.t. the tasks at hand, i.e. the three MONK's problems and the CUP dataset respectively."
   ]
  },
  {
   "cell_type": "markdown",
   "id": "9f471ba8-3bc2-4487-a9b1-e3dd1f508cdd",
   "metadata": {
    "tags": []
   },
   "source": [
    "## Settings"
   ]
  },
  {
   "cell_type": "code",
   "execution_count": null,
   "id": "5e103d7c-0cc6-4f8c-89a9-aed6653b1abf",
   "metadata": {
    "tags": []
   },
   "outputs": [],
   "source": [
    "MODEL_NAME = 'SVM'\n",
    "INTERNAL_TEST_SPLIT = 0.1 # internal test split percentage\n",
    "RANDOM_STATE = 128 # reproducibility\n",
    "N_SPLITS=5 # for cross-validation\n",
    "POLY_DEGREE = 3 # polynomial features pre-processing"
   ]
  },
  {
   "cell_type": "markdown",
   "id": "84564330-d564-4700-9865-88576073b71b",
   "metadata": {
    "tags": []
   },
   "source": [
    "## Path"
   ]
  },
  {
   "cell_type": "code",
   "execution_count": null,
   "id": "0b342ae0-1ef2-4bdb-9128-cd10ac83adf9",
   "metadata": {},
   "outputs": [],
   "source": [
    "# Directories\n",
    "results_dir = root_path + '/results/' + MODEL_NAME\n",
    "\n",
    "# Filepaths (MONK)\n",
    "m1_dev_path, m1_test_path = Dataset.MONK_1.dev_path, Dataset.MONK_1.test_path # MONK 1\n",
    "m2_dev_path, m2_test_path = Dataset.MONK_2.dev_path, Dataset.MONK_2.test_path # MONK 2\n",
    "m3_dev_path, m3_test_path = Dataset.MONK_3.dev_path, Dataset.MONK_3.test_path # MONK 3\n",
    "\n",
    "# Filepaths (CUP)\n",
    "cup_dev_path, cup_test_path = Dataset.CUP.dev_path, Dataset.CUP.test_path"
   ]
  },
  {
   "cell_type": "markdown",
   "id": "859824b9-6c6c-4f09-b4d9-ad5f9c5e2b29",
   "metadata": {
    "tags": []
   },
   "source": [
    "# MONK-1"
   ]
  },
  {
   "cell_type": "code",
   "execution_count": null,
   "id": "2c6012fa-55b8-4601-83f6-e899603cd1f1",
   "metadata": {},
   "outputs": [],
   "source": [
    "# Load MONK-1\n",
    "x_dev_m1, y_dev_m1, x_test_m1, y_test_m1 = load_monk(m1_dev_path, m1_test_path)"
   ]
  },
  {
   "cell_type": "markdown",
   "id": "e41ee69c-611c-4626-b3cb-441a2d74076e",
   "metadata": {
    "tags": []
   },
   "source": [
    "Let's perform a grid-search to identify promising hyper-paramaters for the task."
   ]
  },
  {
   "cell_type": "code",
   "execution_count": null,
   "id": "bf166ff9-f4d9-4e96-bad2-9b7d13649069",
   "metadata": {},
   "outputs": [],
   "source": [
    "# Grid-search spaces\n",
    "clf_hparams_spaces = [\n",
    "    {\n",
    "        'kernel': ['rbf'], \n",
    "         'gamma': ['scale', 'auto'], \n",
    "         'C': [0.1, 1, 10, 50, 100]\n",
    "    },\n",
    "    \n",
    "    {\n",
    "        'kernel': ['linear'], \n",
    "        'C': [1, 10, 100, 1000]\n",
    "    },\n",
    "    \n",
    "    {\n",
    "        'kernel': ['poly'], 'degree': [2,3,4],\n",
    "         'coef0': [0.0],\n",
    "         'gamma': ['scale', 'auto'],\n",
    "          'C': [0.1, 1, 10, 50, 100] \n",
    "    }\n",
    "]"
   ]
  },
  {
   "cell_type": "code",
   "execution_count": null,
   "id": "be108ca9-3201-4b6f-b2ff-4819db06169f",
   "metadata": {},
   "outputs": [],
   "source": [
    "grid_search_m1 = GridSearchCV(\n",
    "    SVC(),\n",
    "    param_grid=clf_hparams_spaces,\n",
    "    cv=StratifiedKFold(n_splits=5, shuffle=True, random_state=128),\n",
    "    scoring='accuracy',\n",
    "    verbose=1\n",
    ")\n",
    "\n",
    "grid_search_m1.fit(x_dev_m1, y_dev_m1)"
   ]
  },
  {
   "cell_type": "code",
   "execution_count": null,
   "id": "f1ecc14b-3279-44dd-b59f-4e9264b60165",
   "metadata": {},
   "outputs": [],
   "source": [
    "tuning_search_top_configs(grid_search_m1.cv_results_) # top k config"
   ]
  },
  {
   "cell_type": "markdown",
   "id": "566ec35b-02da-42aa-a1c8-977532982fff",
   "metadata": {},
   "source": [
    "## Training - Testing"
   ]
  },
  {
   "cell_type": "code",
   "execution_count": null,
   "id": "0cb51503-5261-4435-8a22-366ba0dcb373",
   "metadata": {},
   "outputs": [],
   "source": [
    "# Create a SVC with the best hparams\n",
    "#svc_m1 = SVC(**grid_search_m1.best_params_)\n",
    "\n",
    "# Create and train the SVM\n",
    "svc_m1 = SVC(C=10, degree=2, kernel='poly')\n",
    "svc_m1.fit(x_dev_m1, y_dev_m1)"
   ]
  },
  {
   "cell_type": "code",
   "execution_count": null,
   "id": "e034c525-0c5a-4737-9186-4cfc0b61ae15",
   "metadata": {},
   "outputs": [],
   "source": [
    "print('-- DEVELOPMENT --')\n",
    "acc_dev_m1 = accuracy_score(y_dev_m1, svc_m1.predict(x_dev_m1))\n",
    "mse_dev_m1 = mean_squared_error(y_dev_m1, svc_m1.predict(x_dev_m1))\n",
    "print(f'Loss (MSE): {mse_dev_m1:.4f} - Accuracy: {acc_dev_m1:.4f}')"
   ]
  },
  {
   "cell_type": "code",
   "execution_count": null,
   "id": "38e328d0-7a8e-463d-b9f3-0b2bdd3700c9",
   "metadata": {},
   "outputs": [],
   "source": [
    "print('-- TEST --')\n",
    "acc_test_m1 = accuracy_score(y_test_m1, svc_m1.predict(x_test_m1))\n",
    "mse_test_m1 = mean_squared_error(y_test_m1, svc_m1.predict(x_test_m1))\n",
    "print(f'Loss (MSE): {mse_test_m1:.4f} - Accuracy: {acc_test_m1:.4f}')"
   ]
  },
  {
   "cell_type": "markdown",
   "id": "5d9a9e02-7de5-4fe0-8b53-5d7e98839b89",
   "metadata": {},
   "source": [
    "## Store results"
   ]
  },
  {
   "cell_type": "code",
   "execution_count": null,
   "id": "ad3d86e0-f5d8-447c-bd7b-fab5262eef82",
   "metadata": {},
   "outputs": [],
   "source": [
    "report_m1 = {\n",
    "    'dev': {'mse': mse_dev_m1, 'accuracy': acc_dev_m1},\n",
    "    'test': {'mse': mse_test_m1, 'accuracy': acc_test_m1}\n",
    "}\n",
    "\n",
    "store_monk_result(results_dir + '/MONK1/', svc_m1.get_params(), report_m1)"
   ]
  },
  {
   "cell_type": "markdown",
   "id": "b216aed0-5ba0-4816-a889-a3be455e73c9",
   "metadata": {
    "jp-MarkdownHeadingCollapsed": true,
    "tags": []
   },
   "source": [
    "# MONK-2"
   ]
  },
  {
   "cell_type": "code",
   "execution_count": null,
   "id": "8481533f-16bb-4d55-99d8-2ea38c97fd4e",
   "metadata": {},
   "outputs": [],
   "source": [
    "# Load MONK-2\n",
    "x_dev_m2, y_dev_m2, x_test_m2, y_test_m2 = load_monk(m2_dev_path, m2_test_path)"
   ]
  },
  {
   "cell_type": "markdown",
   "id": "2d79a396-e0f3-4063-acde-fa6d1ae10be7",
   "metadata": {},
   "source": [
    "Let's perform a grid-search to identify promising hyper-paramaters for the task."
   ]
  },
  {
   "cell_type": "markdown",
   "id": "247963e3-00fc-4b16-be97-8246112a000a",
   "metadata": {
    "tags": []
   },
   "source": [
    "## GridSearch"
   ]
  },
  {
   "cell_type": "code",
   "execution_count": null,
   "id": "7f6feeba-d63e-416e-9461-753844ee76b4",
   "metadata": {},
   "outputs": [],
   "source": [
    "grid_search_m2 = GridSearchCV(\n",
    "    SVC(),\n",
    "    param_grid=clf_hparams_spaces,\n",
    "    cv=StratifiedKFold(n_splits=5, shuffle=True, random_state=128),\n",
    "    scoring='accuracy',\n",
    "    verbose=1\n",
    ")\n",
    "\n",
    "grid_search_m2.fit(x_dev_m2, y_dev_m2)"
   ]
  },
  {
   "cell_type": "code",
   "execution_count": null,
   "id": "5f87eb99-2147-4838-9ddb-d8a2731c8cc4",
   "metadata": {},
   "outputs": [],
   "source": [
    "tuning_search_top_configs(grid_search_m2.cv_results_) # top k config"
   ]
  },
  {
   "cell_type": "markdown",
   "id": "a465b87d-e253-4a52-aca2-6a75190a84d9",
   "metadata": {
    "tags": []
   },
   "source": [
    "## Training - Testing"
   ]
  },
  {
   "cell_type": "code",
   "execution_count": null,
   "id": "7a4ad38f-56c0-45eb-8dff-d050570de8a9",
   "metadata": {},
   "outputs": [],
   "source": [
    "# Create a SVC with the best hparams\n",
    "#svc_m2 = SVC(**grid_search_m2.best_params_)\n",
    "\n",
    "# Create and train the SVM\n",
    "svc_m2 = SVC(C=50, degree=2, kernel='poly')\n",
    "svc_m2.fit(x_dev_m2, y_dev_m2)"
   ]
  },
  {
   "cell_type": "code",
   "execution_count": null,
   "id": "0d8ba0c8-0979-47ae-a2a8-dfbfc0636484",
   "metadata": {},
   "outputs": [],
   "source": [
    "print('-- DEVELOPMENT --')\n",
    "acc_dev_m2 = accuracy_score(y_dev_m2, svc_m2.predict(x_dev_m2))\n",
    "mse_dev_m2 = mean_squared_error(y_dev_m2, svc_m2.predict(x_dev_m2))\n",
    "print(f'MSE: {mse_dev_m2:.4f} - Accuracy: {acc_dev_m2:.4f}')"
   ]
  },
  {
   "cell_type": "code",
   "execution_count": null,
   "id": "6a942149-2b2e-4922-898d-3ec02ed06c38",
   "metadata": {},
   "outputs": [],
   "source": [
    "print('-- TEST --')\n",
    "acc_test_m2 = accuracy_score(y_test_m2, svc_m2.predict(x_test_m2))\n",
    "mse_test_m2 = mean_squared_error(y_test_m2, svc_m2.predict(x_test_m2))\n",
    "print(f'MSE: {mse_test_m2:.4f} - Accuracy: {acc_test_m2:.4f}')"
   ]
  },
  {
   "cell_type": "markdown",
   "id": "ef41bd16-5917-40f8-9319-ca72bb517fcc",
   "metadata": {},
   "source": [
    "## Store results"
   ]
  },
  {
   "cell_type": "code",
   "execution_count": null,
   "id": "9cb1f41d-4a9c-4025-89e5-e9967664fbe1",
   "metadata": {},
   "outputs": [],
   "source": [
    "report_m2 = {\n",
    "    'dev': {'mse': mse_dev_m2, 'accuracy': acc_dev_m2},\n",
    "    'test': {'mse': mse_test_m2, 'accuracy': acc_test_m2}\n",
    "}\n",
    "\n",
    "store_monk_result(results_dir + '/MONK2/', svc_m2.get_params(), report_m2)"
   ]
  },
  {
   "cell_type": "markdown",
   "id": "aea2e408-6d1b-4c43-b70b-c4fec0da831d",
   "metadata": {
    "jp-MarkdownHeadingCollapsed": true,
    "tags": []
   },
   "source": [
    "# MONK-3"
   ]
  },
  {
   "cell_type": "code",
   "execution_count": null,
   "id": "ed40b105-f055-458a-9839-832e831915cc",
   "metadata": {},
   "outputs": [],
   "source": [
    "# Load MONK-3\n",
    "x_dev_m3, y_dev_m3, x_test_m3, y_test_m3 = load_monk(m3_dev_path, m3_test_path)"
   ]
  },
  {
   "cell_type": "markdown",
   "id": "74654263-c2dd-4bef-96b6-0301053ac3f8",
   "metadata": {
    "tags": []
   },
   "source": [
    "Let's perform a grid-search to identify promising hyper-paramaters for the task."
   ]
  },
  {
   "cell_type": "code",
   "execution_count": null,
   "id": "0ef3ef30-a9e1-49d2-b562-3af03a3573d2",
   "metadata": {},
   "outputs": [],
   "source": [
    "grid_search_m3 = GridSearchCV(\n",
    "    SVC(),\n",
    "    param_grid=clf_hparams_spaces,\n",
    "    cv=StratifiedKFold(n_splits=5, shuffle=True, random_state=128),\n",
    "    scoring='accuracy',\n",
    "    verbose=1\n",
    ")\n",
    "\n",
    "grid_search_m3.fit(x_dev_m3, y_dev_m3)"
   ]
  },
  {
   "cell_type": "code",
   "execution_count": null,
   "id": "d12f9aa7-23f1-4632-a157-fbeadfaa5c7d",
   "metadata": {},
   "outputs": [],
   "source": [
    "tuning_search_top_configs(grid_search_m3.cv_results_) # top k config"
   ]
  },
  {
   "cell_type": "markdown",
   "id": "8e3f6857",
   "metadata": {},
   "source": [
    "## Training - Testing"
   ]
  },
  {
   "cell_type": "code",
   "execution_count": null,
   "id": "75fd7ac4-8689-4848-ba38-b65486034aec",
   "metadata": {},
   "outputs": [],
   "source": [
    "# Create a SVC with the best hparams\n",
    "#svc_m3 = SVC(**grid_search_m3.best_params_)\n",
    "\n",
    "# Train the model\n",
    "svc_m3 = SVC(C=10, degree=2, gamma='auto', kernel='poly')\n",
    "svc_m3.fit(x_dev_m3, y_dev_m3)"
   ]
  },
  {
   "cell_type": "code",
   "execution_count": null,
   "id": "59327b63-b89c-4ba9-8c18-6f2336d906ad",
   "metadata": {},
   "outputs": [],
   "source": [
    "print('-- DEVELOPMENT --')\n",
    "acc_dev_m3 = accuracy_score(y_dev_m3, svc_m3.predict(x_dev_m3))\n",
    "mse_dev_m3 = mean_squared_error(y_dev_m3, svc_m3.predict(x_dev_m3))\n",
    "print(f'MSE: {mse_dev_m3:.4f} - Accuracy: {acc_dev_m3:.4f}')"
   ]
  },
  {
   "cell_type": "code",
   "execution_count": null,
   "id": "45007e5e-0e5a-43ac-8a3c-1f0beaa3439a",
   "metadata": {},
   "outputs": [],
   "source": [
    "print('-- TEST --')\n",
    "acc_test_m3 = accuracy_score(y_test_m3, svc_m3.predict(x_test_m3))\n",
    "mse_test_m3 = mean_squared_error(y_test_m3, svc_m3.predict(x_test_m3))\n",
    "print(f'MSE: {mse_test_m3:.4f} - Accuracy: {acc_test_m3:.4f}')"
   ]
  },
  {
   "cell_type": "markdown",
   "id": "85bae353-611d-4f66-98f8-f0b07d83f73e",
   "metadata": {},
   "source": [
    "## Storing results"
   ]
  },
  {
   "cell_type": "code",
   "execution_count": null,
   "id": "bfab177b-e38b-47dd-86fe-0157f345ff66",
   "metadata": {},
   "outputs": [],
   "source": [
    "report_m3 = {\n",
    "    'dev': {'mse': mse_dev_m3, 'accuracy': acc_dev_m3},\n",
    "    'test': {'mse': mse_test_m3, 'accuracy': acc_test_m3}\n",
    "}\n",
    "\n",
    "store_monk_result(results_dir + '/MONK3/', svc_m3.get_params(), report_m3)"
   ]
  },
  {
   "cell_type": "markdown",
   "id": "007f6603-97eb-4bf3-ae71-b1a62be020bd",
   "metadata": {
    "tags": []
   },
   "source": [
    "# CUP"
   ]
  },
  {
   "cell_type": "code",
   "execution_count": null,
   "id": "936d48c0-1745-4513-9f3c-d9785e55217b",
   "metadata": {},
   "outputs": [],
   "source": [
    "# Load CUP\n",
    "x_dev_cup, y_dev_cup, x_test_cup = load_cup(cup_dev_path, cup_test_path)"
   ]
  },
  {
   "cell_type": "markdown",
   "id": "6fa2e202-d598-4536-87b5-325173ca397b",
   "metadata": {},
   "source": [
    "## Dev - Internal Test Split \n",
    "The development dataset is split between training and internal test ($90-10$)."
   ]
  },
  {
   "cell_type": "code",
   "execution_count": null,
   "id": "fbea2c69-ca35-4863-b947-f791a7dec2b2",
   "metadata": {},
   "outputs": [],
   "source": [
    "# Split the internal test set\n",
    "x_train_cup, x_internal_test_cup, y_train_cup, y_internal_test_cup = train_test_split(\n",
    "    x_dev_cup, y_dev_cup, test_size=INTERNAL_TEST_SPLIT, random_state=128\n",
    ")"
   ]
  },
  {
   "cell_type": "markdown",
   "id": "e474aaf9-c583-40e0-81ad-eba14a2be2a0",
   "metadata": {},
   "source": [
    "## Polynomial features pre-processing\n",
    "We create a version of our dataset to which PolynoMialFeatures pre-processing is applied with a fixed degree."
   ]
  },
  {
   "cell_type": "code",
   "execution_count": null,
   "id": "c6b7d299-d630-44e2-aad5-8d1b81444558",
   "metadata": {},
   "outputs": [],
   "source": [
    "# --- COMMENT TO USE NON-ENCHANED DATASET --- \n",
    "# Polynomial features pre-processing\n",
    "poly = PolynomialFeatures(degree=POLY_DEGREE)\n",
    "x_train_cup = poly.fit_transform(x_train_cup)\n",
    "x_internal_test_cup = poly.transform(x_internal_test_cup)\n",
    "x_test_cup = poly.transform(x_test_cup)"
   ]
  },
  {
   "cell_type": "markdown",
   "id": "a745336c-fd11-47a4-b0ca-e0495ac13815",
   "metadata": {
    "jp-MarkdownHeadingCollapsed": true,
    "tags": []
   },
   "source": [
    "## Hyper-parameters Tuning\n",
    "A common approach is to start with a coarse search across a wide range of values to find promising sub-ranges of our parameter space. Then, you would zoom into these ranges and perform another search to fine-tune the configurations.\n",
    "\n",
    "Here, we proceed as follows:\n",
    "1. (coarse) Grid-search across a wide range of hyper-paramaters and values;\n",
    "2. (fine-tune) Random-search into zoomed intervals w.r.t. best configuration found by grid-search.\n",
    "\n",
    "Then, we perform a single run of grid-search and random-search with the respectively best configurations while taking into account a PolynomialFeatures pre-processing with fixed degree. The best configurations that will be used for final re-training and evaluation on internal test is the one with the best mean MEE on the validation cross-validation.\n",
    "\n",
    "Note that, tuning of the polynomial degree wasn't performed because it would be very expensive. Thus, we simply decided to use a fixed degree value."
   ]
  },
  {
   "cell_type": "markdown",
   "id": "0b009f7d-c747-472d-a16a-06f76b8cd589",
   "metadata": {
    "tags": []
   },
   "source": [
    "### Grid Search"
   ]
  },
  {
   "cell_type": "code",
   "execution_count": null,
   "id": "76d3f4fd-844b-4061-be8d-91f72d594911",
   "metadata": {},
   "outputs": [],
   "source": [
    "# Grid-search spaces\n",
    "grid_search_spaces_cup = [\n",
    "    {\n",
    "        'estimator__kernel': ['rbf'], \n",
    "         'estimator__gamma': ['scale', 'auto'], \n",
    "         'estimator__C': [0.1, 1, 10, 100, 500, 1000],\n",
    "         'estimator__epsilon': [0.01, 0.03, 0.05, 0.07, 0.09]\n",
    "    },\n",
    "    \n",
    "    {\n",
    "        'estimator__kernel': ['linear'], \n",
    "        'estimator__C': [0.1, 1, 10, 100, 500, 1000],\n",
    "         'estimator__epsilon': [0.01, 0.03, 0.05, 0.07, 0.09]\n",
    "    },\n",
    "    \n",
    "    {\n",
    "        'estimator__kernel': ['poly'], \n",
    "        'estimator__degree': [2,3,4],                          \n",
    "        'estimator__coef0': [0.0],                          \n",
    "        'estimator__gamma': ['scale', 'auto'],                        \n",
    "        'estimator__C': [0.1, 1, 10, 100, 500, 1000],\n",
    "         'estimator__epsilon': [0.01, 0.03, 0.05, 0.07, 0.09]\n",
    "    }\n",
    "]"
   ]
  },
  {
   "cell_type": "code",
   "execution_count": null,
   "id": "72df4370-2a0d-495b-8bcf-5b44035a474e",
   "metadata": {},
   "outputs": [],
   "source": [
    "grid_search_cup = GridSearchCV(\n",
    "    MultiOutputRegressor(SVR()), \n",
    "    grid_search_spaces_cup, \n",
    "    cv=KFold(n_splits=N_SPLITS, shuffle=True, random_state=RANDOM_STATE),\n",
    "    scoring=make_scorer(mean_euclidean_error, greater_is_better = False),\n",
    "    verbose=1\n",
    ")\n",
    "\n",
    "grid_search_cup.fit(x_train_cup, y_train_cup)"
   ]
  },
  {
   "cell_type": "code",
   "execution_count": null,
   "id": "3a9c95c4-b5a2-4e2f-9ce2-15d17e985e00",
   "metadata": {},
   "outputs": [],
   "source": [
    "tuning_search_top_configs(grid_search_cup.cv_results_) # top k config"
   ]
  },
  {
   "cell_type": "markdown",
   "id": "460667d9-b4b8-44f6-944a-d17e07c6dcad",
   "metadata": {
    "tags": []
   },
   "source": [
    "### Random Search"
   ]
  },
  {
   "cell_type": "code",
   "execution_count": null,
   "id": "f2214ecb-d8dc-404e-a94f-e45c5802ba9c",
   "metadata": {},
   "outputs": [],
   "source": [
    "best_params = grid_search_cup.best_params_"
   ]
  },
  {
   "cell_type": "code",
   "execution_count": null,
   "id": "e303ebd3-c5ca-4d8f-9d15-3c980897a4eb",
   "metadata": {},
   "outputs": [],
   "source": [
    "# Random-search spaces\n",
    "random_search_spaces_cup = {\n",
    "    'estimator__C': [700, 1000, 1300, 1500, 1800, 2000],\n",
    "    'estimator__epsilon': uniform(max(0.01, best_params['estimator__epsilon'] * 0.8), best_params['estimator__epsilon'] * 1.3),\n",
    "    'estimator__kernel': [best_params['estimator__kernel']],\n",
    "    'estimator__gamma': [best_params['estimator__gamma']],\n",
    "}"
   ]
  },
  {
   "cell_type": "code",
   "execution_count": null,
   "id": "ae1d8641-e154-42bb-b9ed-db8ba63c4194",
   "metadata": {},
   "outputs": [],
   "source": [
    "random_search_cup = RandomizedSearchCV(\n",
    "    MultiOutputRegressor(SVR()), \n",
    "    random_search_spaces_cup, \n",
    "    n_iter=50,\n",
    "    cv=KFold(n_splits=N_SPLITS, shuffle=True, random_state=RANDOM_STATE),\n",
    "    scoring=make_scorer(mean_euclidean_error, greater_is_better = False),\n",
    "    verbose=1,\n",
    "    random_state=RANDOM_STATE\n",
    ")\n",
    "\n",
    "random_search_cup.fit(x_train_cup, y_train_cup)"
   ]
  },
  {
   "cell_type": "code",
   "execution_count": null,
   "id": "0fa34640-ef4c-4718-8a7e-10b2ee74f648",
   "metadata": {},
   "outputs": [],
   "source": [
    "tuning_search_top_configs(random_search_cup.cv_results_) # top k config"
   ]
  },
  {
   "cell_type": "markdown",
   "id": "df36886e-c083-46c1-99fe-6d4e518cea4b",
   "metadata": {},
   "source": [
    "### Save tuning results"
   ]
  },
  {
   "cell_type": "code",
   "execution_count": null,
   "id": "f5e1af2a-a444-4acf-bf60-5a2ead314b0c",
   "metadata": {},
   "outputs": [],
   "source": [
    "best_score_grid = grid_search_cup.best_score_\n",
    "best_score_random = random_search_cup.best_score_\n",
    "\n",
    "# Check if best result is from GridSearch or RandomSearch\n",
    "if best_score_random > best_score_grid:\n",
    "    print(\"Best configuration from RandomizedSearch:\\n\")\n",
    "    best_params = random_search_cup.best_params_\n",
    "    print(best_params)\n",
    "else:\n",
    "    print(\"GridSearchCV resulted in the best configuration.\")"
   ]
  },
  {
   "cell_type": "markdown",
   "id": "fadcd8b7-e3bf-4aa9-8f18-744c65fc25fc",
   "metadata": {
    "tags": []
   },
   "source": [
    "## Training and Internal test assessment\n",
    "Let's perform a re-training of our model on the entire development set. In this way, we're able to leverage the entire training data (early stopping is applied w.r.t. the train MEE). Finally, predict on the (untouched) internal test to perform model assessment and estimate our performance on the blind test set.\n",
    "\n",
    "Note that, in this phase, we don't use the internal test in any way (i.e., no training and no validation). We only estimate its errors and plot its curves."
   ]
  },
  {
   "cell_type": "code",
   "execution_count": null,
   "id": "6afa7b38-c9a8-4787-a3f2-74314bef7a76",
   "metadata": {},
   "outputs": [],
   "source": [
    "# --- UNCOMMENT IF YOU USE HPARAMS TUNING ---\n",
    "#best_params = {k.replace('estimator__', ''): v for k, v in best_params.items()}\n",
    "\n",
    "# --- UNCOMMENT TO TEST ---\n",
    "# Best configuration\n",
    "best_params = {\n",
    "    'C': 2000,\n",
    "    'epsilon': 0.07,\n",
    "    'kernel': 'rbf',\n",
    "    'gamma': 'scale',\n",
    "}\n",
    "\n",
    "# Train SVR\n",
    "multi_svr = MultiOutputRegressor(SVR(**best_params))\n",
    "multi_svr.fit(x_train_cup, y_train_cup)"
   ]
  },
  {
   "cell_type": "code",
   "execution_count": null,
   "id": "49a8da1f-ba60-4c86-aacb-f1af51696aa5",
   "metadata": {},
   "outputs": [],
   "source": [
    "print('-- TRAINING --')\n",
    "train_preds = multi_svr.predict(x_train_cup)\n",
    "mee_train_cup = mean_euclidean_error(y_train_cup, train_preds)\n",
    "mse_train_cup = mean_squared_error(y_train_cup, train_preds)\n",
    "print(f'Loss (MSE): {mse_train_cup:.4f} - MEE: {mee_train_cup:.4f}')"
   ]
  },
  {
   "cell_type": "code",
   "execution_count": null,
   "id": "08de7e47-acbf-4cdc-9a67-e239cb609d75",
   "metadata": {},
   "outputs": [],
   "source": [
    "print('-- INTERNAL TEST --')\n",
    "internal_test_preds = multi_svr.predict(x_internal_test_cup)\n",
    "mee_internal_test_cup = mean_euclidean_error(y_internal_test_cup, internal_test_preds)\n",
    "mse_internal_test_cup = mean_squared_error(y_internal_test_cup, internal_test_preds)\n",
    "print(f'Loss (MSE): {mse_internal_test_cup:.4f} - MEE: {mee_internal_test_cup:.4f}')"
   ]
  },
  {
   "cell_type": "code",
   "execution_count": null,
   "id": "568d5ce9-c2cf-4ca4-9dbf-c2cf7ed9ff48",
   "metadata": {},
   "outputs": [],
   "source": [
    "# Blind test set predictions\n",
    "blind_test_preds_cup = multi_svr.predict(x_test_cup)"
   ]
  },
  {
   "cell_type": "markdown",
   "id": "635fb40d-fea2-4780-a1cb-459be883339d",
   "metadata": {},
   "source": [
    "### Store results"
   ]
  },
  {
   "cell_type": "code",
   "execution_count": null,
   "id": "44615d4f-ac8a-4c6a-a10b-89cd8e3411be",
   "metadata": {},
   "outputs": [],
   "source": [
    "#best_index = grid_search_cup.best_index_\n",
    "#mee_mean_score = -grid_search_cup.cv_results_['mean_test_score'][best_index]\n",
    "#mee_std_dev = std_validation_error = grid_search_cup.cv_results_['std_test_score'][best_index]\n",
    "\n",
    "report_cup = {\n",
    "    'train': {'mse': mse_train_cup, 'mee': mee_train_cup},\n",
    "    'internal_test': {'mse': mse_internal_test_cup, 'mee': mee_internal_test_cup},\n",
    "}\n",
    "\n",
    "store_cup_result(results_dir + '/CUP/', best_params, report_cup, blind_test_preds_cup, is_poly=True)"
   ]
  },
  {
   "cell_type": "code",
   "execution_count": null,
   "id": "3d172c53-d7f8-4009-ab70-3a4012239121",
   "metadata": {},
   "outputs": [],
   "source": [
    "# Store train predictions\n",
    "with open(results_dir + '/CUP/train_preds_poly.csv', 'w') as outf:\n",
    "    # Team Info\n",
    "    outf.write(\"# Matteo Pinna, Leonardo Caridi, Marco Sanna\\n\")\n",
    "    outf.write(\"# ACD-TEAM\\n\")\n",
    "    outf.write(\"# ML-CUP23 v2\\n\")\n",
    "    outf.write(\"# 20/01/2024\\n\")\n",
    "\n",
    "    # Writing predictions\n",
    "    for i, pred in enumerate(train_preds, 1):\n",
    "        outf.write(f\"{i},{','.join(map(str, pred))}\\n\")\n",
    "        \n",
    "# Store internal test mean predictions\n",
    "with open(results_dir + '/CUP/internal_test_preds_poly.csv', 'w') as outf:\n",
    "    # Team Info\n",
    "    outf.write(\"# Matteo Pinna, Leonardo Caridi, Marco Sanna\\n\")\n",
    "    outf.write(\"# ACD-TEAM\\n\")\n",
    "    outf.write(\"# ML-CUP23 v2\\n\")\n",
    "    outf.write(\"# 20/01/2024\\n\")\n",
    "\n",
    "    # Writing predictions\n",
    "    for i, pred in enumerate(internal_test_preds, 1):\n",
    "        outf.write(f\"{i},{','.join(map(str, pred))}\\n\")"
   ]
  },
  {
   "cell_type": "markdown",
   "id": "2d5d6851-2e58-4f86-a782-851f95550bba",
   "metadata": {},
   "source": [
    "# Final re-training\n",
    "Since the test error has already been estimated by leveraging the (untouched) internal test, we now perform a final re-training with all the development data. This does not violate the rules, since the internal test is not (and has never) been used for any model selection.\n",
    "\n",
    "Thus, we train on the entire development data, i.e. $90$ train/val + $10$ internal test."
   ]
  },
  {
   "cell_type": "code",
   "execution_count": null,
   "id": "1546d4a9-cd10-436f-af56-ae7e12379af7",
   "metadata": {},
   "outputs": [],
   "source": [
    "# Apply polynomial to the entire development set\n",
    "x_dev_cup = poly.transform(x_dev_cup)"
   ]
  },
  {
   "cell_type": "markdown",
   "id": "51f6d9d6-6b41-439b-b3a4-ffab6c13ba26",
   "metadata": {},
   "source": [
    "This time - since the internal test estimate has already been performed - we're able to use the internal test set either as training data."
   ]
  },
  {
   "cell_type": "code",
   "execution_count": null,
   "id": "b43e54cb-5e6e-430b-9ed4-1de904392e98",
   "metadata": {},
   "outputs": [],
   "source": [
    "# Train SVR\n",
    "multi_svr = MultiOutputRegressor(SVR(**best_params))\n",
    "multi_svr.fit(x_dev_cup, y_dev_cup)"
   ]
  },
  {
   "cell_type": "code",
   "execution_count": null,
   "id": "d1c5024f-8d7c-4891-9d3a-9f7701b37183",
   "metadata": {},
   "outputs": [],
   "source": [
    "print('-- DEVELOPMENT --')\n",
    "final_train_preds = multi_svr.predict(x_dev_cup)\n",
    "loss_dev_cup, mee_dev_cup = mean_squared_error(y_dev_cup, final_train_preds), mean_euclidean_error(y_dev_cup, final_train_preds)\n",
    "print(f'Mean Loss (MSE): {loss_dev_cup:.4f} - Mean MEE: {mee_dev_cup:.4f}')"
   ]
  },
  {
   "cell_type": "code",
   "execution_count": null,
   "id": "a722500c-e15a-43d0-bc4f-46a11d094e17",
   "metadata": {},
   "outputs": [],
   "source": [
    "# Final blind test set predictions\n",
    "final_blind_test_preds = multi_svr.predict(x_test_cup)"
   ]
  },
  {
   "cell_type": "code",
   "execution_count": null,
   "id": "c59369f9-a608-47a7-9dfd-3751c176c18f",
   "metadata": {},
   "outputs": [],
   "source": [
    "# Store final re-training train/dev mean predictions\n",
    "with open(results_dir + '/CUP/final_train.csv', 'w') as outf:\n",
    "    # Team Info\n",
    "    outf.write(\"# Matteo Pinna, Leonardo Caridi, Marco Sanna\\n\")\n",
    "    outf.write(\"# ACD-TEAM\\n\")\n",
    "    outf.write(\"# ML-CUP23 v2\\n\")\n",
    "    outf.write(\"# 20/01/2024\\n\")\n",
    "\n",
    "    # Writing predictions\n",
    "    for i, pred in enumerate(final_train_preds, 1):\n",
    "        outf.write(f\"{i},{','.join(map(str, pred))}\\n\")\n",
    "\n",
    "# Store final blind test mean predictions\n",
    "with open(results_dir + '/CUP/final_blind_test.csv', 'w') as outf:\n",
    "    # Team Info\n",
    "    outf.write(\"# Matteo Pinna, Leonardo Caridi, Marco Sanna\\n\")\n",
    "    outf.write(\"# ACD-TEAM\\n\")\n",
    "    outf.write(\"# ML-CUP23 v2\\n\")\n",
    "    outf.write(\"# 20/01/2024\\n\")\n",
    "\n",
    "    # Writing predictions\n",
    "    for i, pred in enumerate(final_blind_test_preds, 1):\n",
    "        outf.write(f\"{i},{','.join(map(str, pred))}\\n\")"
   ]
  },
  {
   "cell_type": "markdown",
   "id": "2f617846-94d0-42eb-ab1e-1387e566848f",
   "metadata": {},
   "source": [
    "# Validation curves"
   ]
  },
  {
   "cell_type": "code",
   "execution_count": null,
   "id": "0b9e0348-6e4c-4a35-aa9a-83c2f0aaa9e0",
   "metadata": {},
   "outputs": [],
   "source": [
    "# Validation curves with respect to C with four different values of epsilon\n",
    "param_name = \"estimator__C\"\n",
    "param_range = 2.5*np.logspace(0, 3, 20)\n",
    "epsilon_range = [0.007, 0.07, 0.1, 0.7]\n",
    "figure, axis = plt.subplots(2, 2)\n",
    "min_train_scores=[]\n",
    "min_test_scores=[]\n",
    "\n",
    "for (epsilon, i, j) in zip(epsilon_range, [0,0,1,1], [0,1,0,1]):\n",
    "    train_scores, test_scores = validation_curve(MultiOutputRegressor(SVR(kernel = 'rbf', \n",
    "                                                     gamma = 'scale', \n",
    "                                                     epsilon = epsilon)), \n",
    "                                                 x_train_cup, \n",
    "                                                 y_train_cup, \n",
    "                                                 param_name=param_name, \n",
    "                                                 param_range=param_range,\n",
    "                                                 cv=KFold(n_splits=5, shuffle=True, random_state=128),\n",
    "                                                 scoring= make_scorer(mean_euclidean_error, greater_is_better = False),\n",
    "                                                 verbose=1)\n",
    "    \n",
    "    min_train_scores.append(round(np.max(train_scores),4)) #score is negative\n",
    "    min_test_scores.append(round(np.max(test_scores),4)) \n",
    "                                          \n",
    "    display = ValidationCurveDisplay(param_name=param_name, \n",
    "                                     param_range=param_range,\n",
    "                                     train_scores=train_scores, \n",
    "                                     test_scores=test_scores,\n",
    "                                     score_name=\"MEE\")\n",
    "    display.plot(ax=axis[i,j], negate_score = True)\n",
    "    axis[i,j].set_title('epsilon = %1.3f' %epsilon)\n",
    "\n",
    "figure.tight_layout()\n",
    "plt.show()\n",
    "print(f\"min_train_scores = {min_train_scores}\")\n",
    "print(f\"min_test_scores = {min_test_scores}\")"
   ]
  },
  {
   "cell_type": "code",
   "execution_count": null,
   "id": "96101838-498b-4f7f-a9fd-75ee2309db7e",
   "metadata": {},
   "outputs": [],
   "source": []
  }
 ],
 "metadata": {
  "kernelspec": {
   "display_name": "Python 3 (ipykernel)",
   "language": "python",
   "name": "python3"
  },
  "language_info": {
   "codemirror_mode": {
    "name": "ipython",
    "version": 3
   },
   "file_extension": ".py",
   "mimetype": "text/x-python",
   "name": "python",
   "nbconvert_exporter": "python",
   "pygments_lexer": "ipython3",
   "version": "3.11.5"
  }
 },
 "nbformat": 4,
 "nbformat_minor": 5
}
