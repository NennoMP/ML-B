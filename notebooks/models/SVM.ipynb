{
 "cells": [
  {
   "cell_type": "markdown",
   "id": "59d3416e-3aee-496b-9a46-d86fab3fe008",
   "metadata": {
    "tags": []
   },
   "source": [
    "## Imports"
   ]
  },
  {
   "cell_type": "code",
<<<<<<< HEAD
   "execution_count": null,
=======
   "execution_count": 1,
>>>>>>> 333981071777c2a759591c63ee6603ff9fab54e3
   "id": "15985a7e-4206-4f13-aaad-d38982df5f10",
   "metadata": {},
   "outputs": [],
   "source": [
    "import os\n",
    "import sys\n",
    "\n",
    "import numpy as np\n",
    "import pandas as pd\n",
    "import matplotlib.pyplot as plt\n",
    "\n",
    "from sklearn.svm import SVC, SVR\n",
    "from sklearn.metrics import accuracy_score, classification_report, make_scorer, mean_squared_error\n",
<<<<<<< HEAD
    "from sklearn.model_selection import GridSearchCV, RandomizedSearchCV, StratifiedKFold, KFold, train_test_split, ValidationCurveDisplay, validation_curve\n",
=======
    "from sklearn.model_selection import GridSearchCV, StratifiedKFold, KFold, train_test_split, ValidationCurveDisplay, validation_curve\n",
>>>>>>> 333981071777c2a759591c63ee6603ff9fab54e3
    "from sklearn.multioutput import MultiOutputRegressor\n",
    "\n",
    "dir_parts = os.getcwd().split(os.path.sep)\n",
    "root_index = dir_parts.index('ML-B')\n",
    "root_path = os.path.sep.join(dir_parts[:root_index + 1])\n",
    "sys.path.append(root_path + '/code/')\n",
    "from data.data_config import Dataset\n",
    "from data.data_utils import load_monk, load_cup, store_monk_result, store_cup_result\n",
    "from hyperparameter_tuning import tuning_search_top_configs\n",
    "from training.metrics import mean_euclidean_error\n",
    "\n",
    "%load_ext autoreload\n",
    "%autoreload 2"
   ]
  },
  {
   "cell_type": "markdown",
   "id": "2d6931af-0794-42d2-8605-57b0ee93457c",
   "metadata": {
    "tags": []
   },
   "source": [
    "# SVM\n",
    "In this notebook we test a **SVC** and a **SVR** w.r.t. the tasks at hand, i.e. the three MONK's problems and the CUP dataset respectively."
   ]
  },
  {
   "cell_type": "markdown",
   "id": "9f471ba8-3bc2-4487-a9b1-e3dd1f508cdd",
   "metadata": {
    "tags": []
   },
   "source": [
    "## Settings"
   ]
  },
  {
   "cell_type": "code",
<<<<<<< HEAD
   "execution_count": null,
=======
   "execution_count": 2,
>>>>>>> 333981071777c2a759591c63ee6603ff9fab54e3
   "id": "5e103d7c-0cc6-4f8c-89a9-aed6653b1abf",
   "metadata": {
    "tags": []
   },
   "outputs": [],
   "source": [
    "MODEL_NAME = 'SVM'\n",
<<<<<<< HEAD
    "INTERNAL_TEST_SPLIT = 0.1 # internal test split percentage\n",
    "RANDOM_STATE = 128 # reproducibility\n",
    "N_SPLITS=5 # for cross-validation"
=======
    "VAL_SPLIT = 0.2 # validation set percentage\n",
    "INTERNAL_TEST_SPLIT = 0.5 # internal test split (50% of validation split)\n",
    "RANDOM_STATE = 128 # reproducibility"
>>>>>>> 333981071777c2a759591c63ee6603ff9fab54e3
   ]
  },
  {
   "cell_type": "markdown",
   "id": "84564330-d564-4700-9865-88576073b71b",
   "metadata": {
    "tags": []
   },
   "source": [
    "## Path"
   ]
  },
  {
   "cell_type": "code",
<<<<<<< HEAD
   "execution_count": null,
=======
   "execution_count": 3,
>>>>>>> 333981071777c2a759591c63ee6603ff9fab54e3
   "id": "0b342ae0-1ef2-4bdb-9128-cd10ac83adf9",
   "metadata": {},
   "outputs": [],
   "source": [
    "# Directories\n",
    "results_dir = root_path + '/results/' + MODEL_NAME\n",
    "\n",
    "# Filepaths (MONK)\n",
    "m1_dev_path, m1_test_path = Dataset.MONK_1.dev_path, Dataset.MONK_1.test_path # MONK 1\n",
    "m2_dev_path, m2_test_path = Dataset.MONK_2.dev_path, Dataset.MONK_2.test_path # MONK 2\n",
    "m3_dev_path, m3_test_path = Dataset.MONK_3.dev_path, Dataset.MONK_3.test_path # MONK 3\n",
    "\n",
    "# Filepaths (CUP)\n",
    "cup_dev_path, cup_test_path = Dataset.CUP.dev_path, Dataset.CUP.test_path"
   ]
  },
  {
   "cell_type": "markdown",
   "id": "859824b9-6c6c-4f09-b4d9-ad5f9c5e2b29",
   "metadata": {
    "jp-MarkdownHeadingCollapsed": true,
    "tags": []
   },
   "source": [
    "# MONK-1"
   ]
  },
  {
   "cell_type": "code",
<<<<<<< HEAD
   "execution_count": null,
=======
   "execution_count": 4,
>>>>>>> 333981071777c2a759591c63ee6603ff9fab54e3
   "id": "2c6012fa-55b8-4601-83f6-e899603cd1f1",
   "metadata": {},
   "outputs": [],
   "source": [
    "# Load MONK-1\n",
    "x_dev_m1, y_dev_m1, x_test_m1, y_test_m1 = load_monk(m1_dev_path, m1_test_path)"
   ]
  },
  {
   "cell_type": "markdown",
   "id": "e41ee69c-611c-4626-b3cb-441a2d74076e",
   "metadata": {
<<<<<<< HEAD
    "jp-MarkdownHeadingCollapsed": true,
=======
>>>>>>> 333981071777c2a759591c63ee6603ff9fab54e3
    "tags": []
   },
   "source": [
    "## GridSearch\n",
    "Grid search is a simple hyper-parameter tuning techniques useful for finding the best configuration for a specific ML model. It involves:\n",
    "- defining a grid of hparams values\n",
    "- systematically test all possible combinations"
   ]
  },
  {
   "cell_type": "code",
   "execution_count": null,
   "id": "bf166ff9-f4d9-4e96-bad2-9b7d13649069",
   "metadata": {},
   "outputs": [],
   "source": [
    "# hparams grid for grid search\n",
    "#C=np.logspace(-2, 2, 5)\n",
    "#gamma=np.logspace(-9, 3, 13)\n",
    "clf_hparams_spaces = [\n",
    "    {\"kernel\": [\"rbf\"], \"gamma\": [1e-4, 1e-3, 1e-2, 0.1, 'scale', 'auto'], \"C\": [0.01, 0.1, 1, 10, 100, 1000]},\n",
    "    {\"kernel\": [\"linear\"], \"C\": [1, 10, 100, 1000]},\n",
    "    {\"kernel\": [\"poly\"], \"degree\": [2,3,4,5], \"gamma\": [1e-4, 1e-3, 1e-2, 0.1, 'scale', 'auto'], \"C\": [0.01, 0.1, 1, 10, 100, 1000], \"coef0\": [0.0]}\n",
    "]"
   ]
  },
  {
   "cell_type": "code",
   "execution_count": null,
   "id": "be108ca9-3201-4b6f-b2ff-4819db06169f",
   "metadata": {},
   "outputs": [],
   "source": [
    "# perform grid search with KFold\n",
    "\n",
    "grid_search_m1 = GridSearchCV(\n",
    "    SVC(),\n",
    "    param_grid=clf_hparams_spaces,\n",
    "    cv=StratifiedKFold(n_splits=5, shuffle=True, random_state=128),\n",
    "    scoring='accuracy',\n",
    "    verbose=1\n",
    ")\n",
    "\n",
    "grid_search_m1.fit(x_dev_m1, y_dev_m1)"
   ]
  },
  {
   "cell_type": "code",
   "execution_count": null,
   "id": "f1ecc14b-3279-44dd-b59f-4e9264b60165",
   "metadata": {},
   "outputs": [],
   "source": [
<<<<<<< HEAD
    "best_configs_m1 = tuning_search_top_configs(grid_search_m1.cv_results_) # top k config"
=======
    "best_configs_m1, candidates_m1 = grid_search_top_configs(grid_search_m1.cv_results_) # top k config"
>>>>>>> 333981071777c2a759591c63ee6603ff9fab54e3
   ]
  },
  {
   "cell_type": "markdown",
   "id": "566ec35b-02da-42aa-a1c8-977532982fff",
   "metadata": {},
   "source": [
    "## Training - Testing"
<<<<<<< HEAD
=======
   ]
  },
  {
   "cell_type": "code",
   "execution_count": 46,
   "id": "0cb51503-5261-4435-8a22-366ba0dcb373",
   "metadata": {},
   "outputs": [
    {
     "data": {
      "text/html": [
       "<style>#sk-container-id-11 {color: black;}#sk-container-id-11 pre{padding: 0;}#sk-container-id-11 div.sk-toggleable {background-color: white;}#sk-container-id-11 label.sk-toggleable__label {cursor: pointer;display: block;width: 100%;margin-bottom: 0;padding: 0.3em;box-sizing: border-box;text-align: center;}#sk-container-id-11 label.sk-toggleable__label-arrow:before {content: \"▸\";float: left;margin-right: 0.25em;color: #696969;}#sk-container-id-11 label.sk-toggleable__label-arrow:hover:before {color: black;}#sk-container-id-11 div.sk-estimator:hover label.sk-toggleable__label-arrow:before {color: black;}#sk-container-id-11 div.sk-toggleable__content {max-height: 0;max-width: 0;overflow: hidden;text-align: left;background-color: #f0f8ff;}#sk-container-id-11 div.sk-toggleable__content pre {margin: 0.2em;color: black;border-radius: 0.25em;background-color: #f0f8ff;}#sk-container-id-11 input.sk-toggleable__control:checked~div.sk-toggleable__content {max-height: 200px;max-width: 100%;overflow: auto;}#sk-container-id-11 input.sk-toggleable__control:checked~label.sk-toggleable__label-arrow:before {content: \"▾\";}#sk-container-id-11 div.sk-estimator input.sk-toggleable__control:checked~label.sk-toggleable__label {background-color: #d4ebff;}#sk-container-id-11 div.sk-label input.sk-toggleable__control:checked~label.sk-toggleable__label {background-color: #d4ebff;}#sk-container-id-11 input.sk-hidden--visually {border: 0;clip: rect(1px 1px 1px 1px);clip: rect(1px, 1px, 1px, 1px);height: 1px;margin: -1px;overflow: hidden;padding: 0;position: absolute;width: 1px;}#sk-container-id-11 div.sk-estimator {font-family: monospace;background-color: #f0f8ff;border: 1px dotted black;border-radius: 0.25em;box-sizing: border-box;margin-bottom: 0.5em;}#sk-container-id-11 div.sk-estimator:hover {background-color: #d4ebff;}#sk-container-id-11 div.sk-parallel-item::after {content: \"\";width: 100%;border-bottom: 1px solid gray;flex-grow: 1;}#sk-container-id-11 div.sk-label:hover label.sk-toggleable__label {background-color: #d4ebff;}#sk-container-id-11 div.sk-serial::before {content: \"\";position: absolute;border-left: 1px solid gray;box-sizing: border-box;top: 0;bottom: 0;left: 50%;z-index: 0;}#sk-container-id-11 div.sk-serial {display: flex;flex-direction: column;align-items: center;background-color: white;padding-right: 0.2em;padding-left: 0.2em;position: relative;}#sk-container-id-11 div.sk-item {position: relative;z-index: 1;}#sk-container-id-11 div.sk-parallel {display: flex;align-items: stretch;justify-content: center;background-color: white;position: relative;}#sk-container-id-11 div.sk-item::before, #sk-container-id-11 div.sk-parallel-item::before {content: \"\";position: absolute;border-left: 1px solid gray;box-sizing: border-box;top: 0;bottom: 0;left: 50%;z-index: -1;}#sk-container-id-11 div.sk-parallel-item {display: flex;flex-direction: column;z-index: 1;position: relative;background-color: white;}#sk-container-id-11 div.sk-parallel-item:first-child::after {align-self: flex-end;width: 50%;}#sk-container-id-11 div.sk-parallel-item:last-child::after {align-self: flex-start;width: 50%;}#sk-container-id-11 div.sk-parallel-item:only-child::after {width: 0;}#sk-container-id-11 div.sk-dashed-wrapped {border: 1px dashed gray;margin: 0 0.4em 0.5em 0.4em;box-sizing: border-box;padding-bottom: 0.4em;background-color: white;}#sk-container-id-11 div.sk-label label {font-family: monospace;font-weight: bold;display: inline-block;line-height: 1.2em;}#sk-container-id-11 div.sk-label-container {text-align: center;}#sk-container-id-11 div.sk-container {/* jupyter's `normalize.less` sets `[hidden] { display: none; }` but bootstrap.min.css set `[hidden] { display: none !important; }` so we also need the `!important` here to be able to override the default hidden behavior on the sphinx rendered scikit-learn.org. See: https://github.com/scikit-learn/scikit-learn/issues/21755 */display: inline-block !important;position: relative;}#sk-container-id-11 div.sk-text-repr-fallback {display: none;}</style><div id=\"sk-container-id-11\" class=\"sk-top-container\"><div class=\"sk-text-repr-fallback\"><pre>SVC(C=10, kernel=&#x27;poly&#x27;)</pre><b>In a Jupyter environment, please rerun this cell to show the HTML representation or trust the notebook. <br />On GitHub, the HTML representation is unable to render, please try loading this page with nbviewer.org.</b></div><div class=\"sk-container\" hidden><div class=\"sk-item\"><div class=\"sk-estimator sk-toggleable\"><input class=\"sk-toggleable__control sk-hidden--visually\" id=\"sk-estimator-id-11\" type=\"checkbox\" checked><label for=\"sk-estimator-id-11\" class=\"sk-toggleable__label sk-toggleable__label-arrow\">SVC</label><div class=\"sk-toggleable__content\"><pre>SVC(C=10, kernel=&#x27;poly&#x27;)</pre></div></div></div></div></div>"
      ],
      "text/plain": [
       "SVC(C=10, kernel='poly')"
      ]
     },
     "execution_count": 46,
     "metadata": {},
     "output_type": "execute_result"
    }
   ],
   "source": [
    "# Create a SVC with the best hparams\n",
    "#svc_m1 = SVC(**grid_search_m1.best_params_)\n",
    "#svc_m1 = SVC(**grid_search_m1.cv_results_['params'][candidates_m1[2]]) #Uses different model rank (candidates\n",
    "\n",
    "# Create and train the SVM\n",
    "svc_m1 = SVC(C=10, kernel='poly')\n",
    "svc_m1.fit(x_dev_m1, y_dev_m1)"
   ]
  },
  {
   "cell_type": "code",
   "execution_count": 47,
   "id": "e034c525-0c5a-4737-9186-4cfc0b61ae15",
   "metadata": {},
   "outputs": [
    {
     "name": "stdout",
     "output_type": "stream",
     "text": [
      "-- DEVELOPMENT --\n",
      "Loss (MSE): 0.0000 - Accuracy: 1.0000\n"
     ]
    }
   ],
   "source": [
    "print('-- DEVELOPMENT --')\n",
    "acc_dev_m1 = accuracy_score(y_dev_m1, svc_m1.predict(x_dev_m1))\n",
    "mse_dev_m1 = mean_squared_error(y_dev_m1, svc_m1.predict(x_dev_m1))\n",
    "print(f'Loss (MSE): {mse_dev_m1:.4f} - Accuracy: {acc_dev_m1:.4f}')"
>>>>>>> 333981071777c2a759591c63ee6603ff9fab54e3
   ]
  },
  {
   "cell_type": "code",
<<<<<<< HEAD
   "execution_count": null,
   "id": "0cb51503-5261-4435-8a22-366ba0dcb373",
   "metadata": {},
   "outputs": [],
   "source": [
    "# Create a SVC with the best hparams\n",
    "#svc_m1 = SVC(**grid_search_m1.best_params_)\n",
    "\n",
    "# Create and train the SVM\n",
    "svc_m1 = SVC(C=10, kernel='poly')\n",
    "svc_m1.fit(x_dev_m1, y_dev_m1)"
   ]
  },
  {
   "cell_type": "code",
   "execution_count": null,
   "id": "e034c525-0c5a-4737-9186-4cfc0b61ae15",
   "metadata": {},
   "outputs": [],
   "source": [
    "print('-- DEVELOPMENT --')\n",
    "acc_dev_m1 = accuracy_score(y_dev_m1, svc_m1.predict(x_dev_m1))\n",
    "mse_dev_m1 = mean_squared_error(y_dev_m1, svc_m1.predict(x_dev_m1))\n",
    "print(f'Loss (MSE): {mse_dev_m1:.4f} - Accuracy: {acc_dev_m1:.4f}')"
   ]
  },
  {
   "cell_type": "code",
   "execution_count": null,
   "id": "38e328d0-7a8e-463d-b9f3-0b2bdd3700c9",
   "metadata": {},
   "outputs": [],
=======
   "execution_count": 48,
   "id": "38e328d0-7a8e-463d-b9f3-0b2bdd3700c9",
   "metadata": {},
   "outputs": [
    {
     "name": "stdout",
     "output_type": "stream",
     "text": [
      "-- TEST --\n",
      "Loss (MSE): 0.0000 - Accuracy: 1.0000\n"
     ]
    }
   ],
>>>>>>> 333981071777c2a759591c63ee6603ff9fab54e3
   "source": [
    "print('-- TEST --')\n",
    "acc_test_m1 = accuracy_score(y_test_m1, svc_m1.predict(x_test_m1))\n",
    "mse_test_m1 = mean_squared_error(y_test_m1, svc_m1.predict(x_test_m1))\n",
    "print(f'Loss (MSE): {mse_test_m1:.4f} - Accuracy: {acc_test_m1:.4f}')"
   ]
  },
  {
   "cell_type": "markdown",
   "id": "5d9a9e02-7de5-4fe0-8b53-5d7e98839b89",
   "metadata": {},
   "source": [
    "## Store results"
   ]
  },
  {
   "cell_type": "code",
<<<<<<< HEAD
   "execution_count": null,
=======
   "execution_count": 52,
>>>>>>> 333981071777c2a759591c63ee6603ff9fab54e3
   "id": "ad3d86e0-f5d8-447c-bd7b-fab5262eef82",
   "metadata": {},
   "outputs": [],
   "source": [
    "report_m1 = {\n",
    "    'dev': {'mse': mse_dev_m1, 'accuracy': acc_dev_m1},\n",
    "    'test': {'mse': mse_test_m1, 'accuracy': acc_test_m1}\n",
    "}\n",
    "\n",
    "store_monk_result(results_dir + '/MONK1/', svc_m1.get_params(), report_m1)"
   ]
  },
  {
   "cell_type": "markdown",
   "id": "b216aed0-5ba0-4816-a889-a3be455e73c9",
   "metadata": {
<<<<<<< HEAD
=======
    "jp-MarkdownHeadingCollapsed": true,
>>>>>>> 333981071777c2a759591c63ee6603ff9fab54e3
    "tags": []
   },
   "source": [
    "# MONK-2"
   ]
  },
  {
   "cell_type": "code",
<<<<<<< HEAD
   "execution_count": null,
=======
   "execution_count": 77,
>>>>>>> 333981071777c2a759591c63ee6603ff9fab54e3
   "id": "8481533f-16bb-4d55-99d8-2ea38c97fd4e",
   "metadata": {},
   "outputs": [],
   "source": [
    "# Load MONK-2\n",
    "x_dev_m2, y_dev_m2, x_test_m2, y_test_m2 = load_monk(m2_dev_path, m2_test_path)"
   ]
  },
  {
   "cell_type": "markdown",
   "id": "247963e3-00fc-4b16-be97-8246112a000a",
   "metadata": {
    "jp-MarkdownHeadingCollapsed": true,
    "tags": []
   },
   "source": [
    "## GridSearch"
   ]
  },
  {
   "cell_type": "code",
   "execution_count": null,
   "id": "7f6feeba-d63e-416e-9461-753844ee76b4",
   "metadata": {},
   "outputs": [],
   "source": [
    "# perform grid search with KFold\n",
    "grid_search_m2 = GridSearchCV(\n",
    "    SVC(),\n",
    "    param_grid=clf_hparams_spaces,\n",
    "    cv=StratifiedKFold(n_splits=5, shuffle=True, random_state=128),\n",
    "    scoring='accuracy',\n",
    "    verbose=1\n",
    ")\n",
    "\n",
    "grid_search_m2.fit(x_dev_m2, y_dev_m2)"
   ]
  },
  {
   "cell_type": "code",
   "execution_count": null,
   "id": "5f87eb99-2147-4838-9ddb-d8a2731c8cc4",
<<<<<<< HEAD
   "metadata": {},
   "outputs": [],
   "source": [
    "best_configs_m2 = tuning_search_top_configs(grid_search_m2.cv_results_) # top k config"
   ]
  },
  {
   "cell_type": "markdown",
   "id": "a465b87d-e253-4a52-aca2-6a75190a84d9",
   "metadata": {
    "tags": []
   },
   "source": [
    "## Training - Testing"
   ]
  },
  {
   "cell_type": "code",
   "execution_count": null,
   "id": "7a4ad38f-56c0-45eb-8dff-d050570de8a9",
   "metadata": {},
   "outputs": [],
   "source": [
    "# Create a SVC with the best hparams\n",
    "#svc_m2 = SVC(**grid_search_m2.best_params_)\n",
    "\n",
    "# Create and train the SVM\n",
    "svc_m2 = SVC(C=50, degree=2, kernel='poly')\n",
    "svc_m2.fit(x_dev_m2, y_dev_m2)"
   ]
  },
  {
   "cell_type": "code",
   "execution_count": null,
   "id": "0d8ba0c8-0979-47ae-a2a8-dfbfc0636484",
   "metadata": {},
   "outputs": [],
   "source": [
    "print('-- DEVELOPMENT --')\n",
    "acc_dev_m2 = accuracy_score(y_dev_m2, svc_m2.predict(x_dev_m2))\n",
    "mse_dev_m2 = mean_squared_error(y_dev_m2, svc_m2.predict(x_dev_m2))\n",
    "print(f'MSE: {mse_dev_m2:.4f} - Accuracy: {acc_dev_m2:.4f}')"
   ]
  },
  {
   "cell_type": "code",
   "execution_count": null,
   "id": "6a942149-2b2e-4922-898d-3ec02ed06c38",
   "metadata": {},
   "outputs": [],
   "source": [
    "print('-- TEST --')\n",
    "acc_test_m2 = accuracy_score(y_test_m2, svc_m2.predict(x_test_m2))\n",
    "mse_test_m2 = mean_squared_error(y_test_m2, svc_m2.predict(x_test_m2))\n",
    "print(f'MSE: {mse_test_m2:.4f} - Accuracy: {acc_test_m2:.4f}')"
   ]
  },
  {
   "cell_type": "markdown",
   "id": "ef41bd16-5917-40f8-9319-ca72bb517fcc",
   "metadata": {},
   "source": [
    "## Store results"
   ]
  },
  {
   "cell_type": "code",
   "execution_count": null,
   "id": "9cb1f41d-4a9c-4025-89e5-e9967664fbe1",
   "metadata": {},
   "outputs": [],
   "source": [
=======
   "metadata": {},
   "outputs": [],
   "source": [
    "best_configs_m2, candidates_m2 = grid_search_top_configs(grid_search_m2.cv_results_) # top k config"
   ]
  },
  {
   "cell_type": "markdown",
   "id": "a465b87d-e253-4a52-aca2-6a75190a84d9",
   "metadata": {},
   "source": [
    "## Training - Testing"
   ]
  },
  {
   "cell_type": "code",
   "execution_count": 120,
   "id": "7a4ad38f-56c0-45eb-8dff-d050570de8a9",
   "metadata": {},
   "outputs": [
    {
     "data": {
      "text/html": [
       "<style>#sk-container-id-32 {color: black;}#sk-container-id-32 pre{padding: 0;}#sk-container-id-32 div.sk-toggleable {background-color: white;}#sk-container-id-32 label.sk-toggleable__label {cursor: pointer;display: block;width: 100%;margin-bottom: 0;padding: 0.3em;box-sizing: border-box;text-align: center;}#sk-container-id-32 label.sk-toggleable__label-arrow:before {content: \"▸\";float: left;margin-right: 0.25em;color: #696969;}#sk-container-id-32 label.sk-toggleable__label-arrow:hover:before {color: black;}#sk-container-id-32 div.sk-estimator:hover label.sk-toggleable__label-arrow:before {color: black;}#sk-container-id-32 div.sk-toggleable__content {max-height: 0;max-width: 0;overflow: hidden;text-align: left;background-color: #f0f8ff;}#sk-container-id-32 div.sk-toggleable__content pre {margin: 0.2em;color: black;border-radius: 0.25em;background-color: #f0f8ff;}#sk-container-id-32 input.sk-toggleable__control:checked~div.sk-toggleable__content {max-height: 200px;max-width: 100%;overflow: auto;}#sk-container-id-32 input.sk-toggleable__control:checked~label.sk-toggleable__label-arrow:before {content: \"▾\";}#sk-container-id-32 div.sk-estimator input.sk-toggleable__control:checked~label.sk-toggleable__label {background-color: #d4ebff;}#sk-container-id-32 div.sk-label input.sk-toggleable__control:checked~label.sk-toggleable__label {background-color: #d4ebff;}#sk-container-id-32 input.sk-hidden--visually {border: 0;clip: rect(1px 1px 1px 1px);clip: rect(1px, 1px, 1px, 1px);height: 1px;margin: -1px;overflow: hidden;padding: 0;position: absolute;width: 1px;}#sk-container-id-32 div.sk-estimator {font-family: monospace;background-color: #f0f8ff;border: 1px dotted black;border-radius: 0.25em;box-sizing: border-box;margin-bottom: 0.5em;}#sk-container-id-32 div.sk-estimator:hover {background-color: #d4ebff;}#sk-container-id-32 div.sk-parallel-item::after {content: \"\";width: 100%;border-bottom: 1px solid gray;flex-grow: 1;}#sk-container-id-32 div.sk-label:hover label.sk-toggleable__label {background-color: #d4ebff;}#sk-container-id-32 div.sk-serial::before {content: \"\";position: absolute;border-left: 1px solid gray;box-sizing: border-box;top: 0;bottom: 0;left: 50%;z-index: 0;}#sk-container-id-32 div.sk-serial {display: flex;flex-direction: column;align-items: center;background-color: white;padding-right: 0.2em;padding-left: 0.2em;position: relative;}#sk-container-id-32 div.sk-item {position: relative;z-index: 1;}#sk-container-id-32 div.sk-parallel {display: flex;align-items: stretch;justify-content: center;background-color: white;position: relative;}#sk-container-id-32 div.sk-item::before, #sk-container-id-32 div.sk-parallel-item::before {content: \"\";position: absolute;border-left: 1px solid gray;box-sizing: border-box;top: 0;bottom: 0;left: 50%;z-index: -1;}#sk-container-id-32 div.sk-parallel-item {display: flex;flex-direction: column;z-index: 1;position: relative;background-color: white;}#sk-container-id-32 div.sk-parallel-item:first-child::after {align-self: flex-end;width: 50%;}#sk-container-id-32 div.sk-parallel-item:last-child::after {align-self: flex-start;width: 50%;}#sk-container-id-32 div.sk-parallel-item:only-child::after {width: 0;}#sk-container-id-32 div.sk-dashed-wrapped {border: 1px dashed gray;margin: 0 0.4em 0.5em 0.4em;box-sizing: border-box;padding-bottom: 0.4em;background-color: white;}#sk-container-id-32 div.sk-label label {font-family: monospace;font-weight: bold;display: inline-block;line-height: 1.2em;}#sk-container-id-32 div.sk-label-container {text-align: center;}#sk-container-id-32 div.sk-container {/* jupyter's `normalize.less` sets `[hidden] { display: none; }` but bootstrap.min.css set `[hidden] { display: none !important; }` so we also need the `!important` here to be able to override the default hidden behavior on the sphinx rendered scikit-learn.org. See: https://github.com/scikit-learn/scikit-learn/issues/21755 */display: inline-block !important;position: relative;}#sk-container-id-32 div.sk-text-repr-fallback {display: none;}</style><div id=\"sk-container-id-32\" class=\"sk-top-container\"><div class=\"sk-text-repr-fallback\"><pre>SVC(C=50, degree=2, kernel=&#x27;poly&#x27;)</pre><b>In a Jupyter environment, please rerun this cell to show the HTML representation or trust the notebook. <br />On GitHub, the HTML representation is unable to render, please try loading this page with nbviewer.org.</b></div><div class=\"sk-container\" hidden><div class=\"sk-item\"><div class=\"sk-estimator sk-toggleable\"><input class=\"sk-toggleable__control sk-hidden--visually\" id=\"sk-estimator-id-32\" type=\"checkbox\" checked><label for=\"sk-estimator-id-32\" class=\"sk-toggleable__label sk-toggleable__label-arrow\">SVC</label><div class=\"sk-toggleable__content\"><pre>SVC(C=50, degree=2, kernel=&#x27;poly&#x27;)</pre></div></div></div></div></div>"
      ],
      "text/plain": [
       "SVC(C=50, degree=2, kernel='poly')"
      ]
     },
     "execution_count": 120,
     "metadata": {},
     "output_type": "execute_result"
    }
   ],
   "source": [
    "# Create a SVC with the best hparams\n",
    "#svc_m2 = SVC(**grid_search_m2.best_params_)\n",
    "#svc_m2 = SVC(**grid_search_cup.cv_results_['params'][candidates_m2[4]])\n",
    "\n",
    "# Create and train the SVM\n",
    "svc_m2 = SVC(C=50, degree=2, kernel='poly')\n",
    "svc_m2.fit(x_dev_m2, y_dev_m2)"
   ]
  },
  {
   "cell_type": "code",
   "execution_count": 121,
   "id": "0d8ba0c8-0979-47ae-a2a8-dfbfc0636484",
   "metadata": {},
   "outputs": [
    {
     "name": "stdout",
     "output_type": "stream",
     "text": [
      "-- DEVELOPMENT --\n",
      "Loss (MSE): 0.0000 - Accuracy: 1.0000\n"
     ]
    }
   ],
   "source": [
    "print('-- DEVELOPMENT --')\n",
    "acc_dev_m2 = accuracy_score(y_dev_m2, svc_m2.predict(x_dev_m2))\n",
    "mse_dev_m2 = mean_squared_error(y_dev_m2, svc_m2.predict(x_dev_m2))\n",
    "print(f'MSE: {mse_dev_m2:.4f} - Accuracy: {acc_dev_m2:.4f}')"
   ]
  },
  {
   "cell_type": "code",
   "execution_count": 122,
   "id": "6a942149-2b2e-4922-898d-3ec02ed06c38",
   "metadata": {},
   "outputs": [
    {
     "name": "stdout",
     "output_type": "stream",
     "text": [
      "-- TEST --\n",
      "Loss (MSE): 0.0000 - Accuracy: 1.0000\n"
     ]
    }
   ],
   "source": [
    "print('-- TEST --')\n",
    "acc_test_m2 = accuracy_score(y_test_m2, svc_m2.predict(x_test_m2))\n",
    "mse_test_m2 = mean_squared_error(y_test_m2, svc_m2.predict(x_test_m2))\n",
    "print(f'MSE: {mse_test_m2:.4f} - Accuracy: {acc_test_m2:.4f}')"
   ]
  },
  {
   "cell_type": "markdown",
   "id": "ef41bd16-5917-40f8-9319-ca72bb517fcc",
   "metadata": {},
   "source": [
    "## Store results"
   ]
  },
  {
   "cell_type": "code",
   "execution_count": 123,
   "id": "9cb1f41d-4a9c-4025-89e5-e9967664fbe1",
   "metadata": {},
   "outputs": [],
   "source": [
>>>>>>> 333981071777c2a759591c63ee6603ff9fab54e3
    "report_m2 = {\n",
    "    'dev': {'mse': mse_dev_m2, 'accuracy': acc_dev_m2},\n",
    "    'test': {'mse': mse_test_m2, 'accuracy': acc_test_m2}\n",
    "}\n",
    "\n",
    "store_monk_result(results_dir + '/MONK2/', svc_m2.get_params(), report_m2)"
   ]
  },
  {
   "cell_type": "markdown",
   "id": "aea2e408-6d1b-4c43-b70b-c4fec0da831d",
   "metadata": {
<<<<<<< HEAD
=======
    "jp-MarkdownHeadingCollapsed": true,
>>>>>>> 333981071777c2a759591c63ee6603ff9fab54e3
    "tags": []
   },
   "source": [
    "# MONK-3"
   ]
  },
  {
   "cell_type": "code",
<<<<<<< HEAD
   "execution_count": null,
=======
   "execution_count": 125,
>>>>>>> 333981071777c2a759591c63ee6603ff9fab54e3
   "id": "ed40b105-f055-458a-9839-832e831915cc",
   "metadata": {},
   "outputs": [],
   "source": [
    "# Load MONK-3\n",
    "x_dev_m3, y_dev_m3, x_test_m3, y_test_m3 = load_monk(m3_dev_path, m3_test_path)"
   ]
  },
  {
   "cell_type": "markdown",
   "id": "74654263-c2dd-4bef-96b6-0301053ac3f8",
   "metadata": {
    "jp-MarkdownHeadingCollapsed": true,
    "tags": []
   },
   "source": [
    "## GridSearch"
   ]
  },
  {
   "cell_type": "code",
   "execution_count": null,
   "id": "0ef3ef30-a9e1-49d2-b562-3af03a3573d2",
   "metadata": {},
   "outputs": [],
   "source": [
    "# perform grid search with KFold\n",
    "grid_search_m3 = GridSearchCV(\n",
    "    SVC(),\n",
    "    param_grid=clf_hparams_spaces,\n",
    "    cv=StratifiedKFold(n_splits=5, shuffle=True, random_state=128),\n",
    "    scoring='accuracy',\n",
    "    verbose=1\n",
    ")\n",
    "\n",
    "grid_search_m3.fit(x_dev_m3, y_dev_m3)"
   ]
  },
  {
   "cell_type": "code",
   "execution_count": null,
   "id": "d12f9aa7-23f1-4632-a157-fbeadfaa5c7d",
   "metadata": {},
   "outputs": [],
   "source": [
    "best_configs_m3 = tuning_search_top_configs(grid_search_m3.cv_results_) # top k config"
   ]
  },
  {
   "cell_type": "markdown",
   "id": "014ca1a0-42b2-4f95-a616-7515bb30a100",
   "metadata": {},
   "source": [
    "## Training - Testing"
   ]
  },
  {
   "cell_type": "markdown",
   "id": "014ca1a0-42b2-4f95-a616-7515bb30a100",
   "metadata": {},
   "source": [
    "## Training - Testing"
   ]
  },
  {
   "cell_type": "code",
<<<<<<< HEAD
   "execution_count": null,
   "id": "75fd7ac4-8689-4848-ba38-b65486034aec",
   "metadata": {},
   "outputs": [],
   "source": [
    "# Create a SVC with the best hparams\n",
    "#svc_m3 = SVC(**grid_search_m3.best_params_)\n",
=======
   "execution_count": 147,
   "id": "75fd7ac4-8689-4848-ba38-b65486034aec",
   "metadata": {},
   "outputs": [
    {
     "data": {
      "text/html": [
       "<style>#sk-container-id-40 {color: black;}#sk-container-id-40 pre{padding: 0;}#sk-container-id-40 div.sk-toggleable {background-color: white;}#sk-container-id-40 label.sk-toggleable__label {cursor: pointer;display: block;width: 100%;margin-bottom: 0;padding: 0.3em;box-sizing: border-box;text-align: center;}#sk-container-id-40 label.sk-toggleable__label-arrow:before {content: \"▸\";float: left;margin-right: 0.25em;color: #696969;}#sk-container-id-40 label.sk-toggleable__label-arrow:hover:before {color: black;}#sk-container-id-40 div.sk-estimator:hover label.sk-toggleable__label-arrow:before {color: black;}#sk-container-id-40 div.sk-toggleable__content {max-height: 0;max-width: 0;overflow: hidden;text-align: left;background-color: #f0f8ff;}#sk-container-id-40 div.sk-toggleable__content pre {margin: 0.2em;color: black;border-radius: 0.25em;background-color: #f0f8ff;}#sk-container-id-40 input.sk-toggleable__control:checked~div.sk-toggleable__content {max-height: 200px;max-width: 100%;overflow: auto;}#sk-container-id-40 input.sk-toggleable__control:checked~label.sk-toggleable__label-arrow:before {content: \"▾\";}#sk-container-id-40 div.sk-estimator input.sk-toggleable__control:checked~label.sk-toggleable__label {background-color: #d4ebff;}#sk-container-id-40 div.sk-label input.sk-toggleable__control:checked~label.sk-toggleable__label {background-color: #d4ebff;}#sk-container-id-40 input.sk-hidden--visually {border: 0;clip: rect(1px 1px 1px 1px);clip: rect(1px, 1px, 1px, 1px);height: 1px;margin: -1px;overflow: hidden;padding: 0;position: absolute;width: 1px;}#sk-container-id-40 div.sk-estimator {font-family: monospace;background-color: #f0f8ff;border: 1px dotted black;border-radius: 0.25em;box-sizing: border-box;margin-bottom: 0.5em;}#sk-container-id-40 div.sk-estimator:hover {background-color: #d4ebff;}#sk-container-id-40 div.sk-parallel-item::after {content: \"\";width: 100%;border-bottom: 1px solid gray;flex-grow: 1;}#sk-container-id-40 div.sk-label:hover label.sk-toggleable__label {background-color: #d4ebff;}#sk-container-id-40 div.sk-serial::before {content: \"\";position: absolute;border-left: 1px solid gray;box-sizing: border-box;top: 0;bottom: 0;left: 50%;z-index: 0;}#sk-container-id-40 div.sk-serial {display: flex;flex-direction: column;align-items: center;background-color: white;padding-right: 0.2em;padding-left: 0.2em;position: relative;}#sk-container-id-40 div.sk-item {position: relative;z-index: 1;}#sk-container-id-40 div.sk-parallel {display: flex;align-items: stretch;justify-content: center;background-color: white;position: relative;}#sk-container-id-40 div.sk-item::before, #sk-container-id-40 div.sk-parallel-item::before {content: \"\";position: absolute;border-left: 1px solid gray;box-sizing: border-box;top: 0;bottom: 0;left: 50%;z-index: -1;}#sk-container-id-40 div.sk-parallel-item {display: flex;flex-direction: column;z-index: 1;position: relative;background-color: white;}#sk-container-id-40 div.sk-parallel-item:first-child::after {align-self: flex-end;width: 50%;}#sk-container-id-40 div.sk-parallel-item:last-child::after {align-self: flex-start;width: 50%;}#sk-container-id-40 div.sk-parallel-item:only-child::after {width: 0;}#sk-container-id-40 div.sk-dashed-wrapped {border: 1px dashed gray;margin: 0 0.4em 0.5em 0.4em;box-sizing: border-box;padding-bottom: 0.4em;background-color: white;}#sk-container-id-40 div.sk-label label {font-family: monospace;font-weight: bold;display: inline-block;line-height: 1.2em;}#sk-container-id-40 div.sk-label-container {text-align: center;}#sk-container-id-40 div.sk-container {/* jupyter's `normalize.less` sets `[hidden] { display: none; }` but bootstrap.min.css set `[hidden] { display: none !important; }` so we also need the `!important` here to be able to override the default hidden behavior on the sphinx rendered scikit-learn.org. See: https://github.com/scikit-learn/scikit-learn/issues/21755 */display: inline-block !important;position: relative;}#sk-container-id-40 div.sk-text-repr-fallback {display: none;}</style><div id=\"sk-container-id-40\" class=\"sk-top-container\"><div class=\"sk-text-repr-fallback\"><pre>SVC(C=50, degree=2, kernel=&#x27;poly&#x27;)</pre><b>In a Jupyter environment, please rerun this cell to show the HTML representation or trust the notebook. <br />On GitHub, the HTML representation is unable to render, please try loading this page with nbviewer.org.</b></div><div class=\"sk-container\" hidden><div class=\"sk-item\"><div class=\"sk-estimator sk-toggleable\"><input class=\"sk-toggleable__control sk-hidden--visually\" id=\"sk-estimator-id-40\" type=\"checkbox\" checked><label for=\"sk-estimator-id-40\" class=\"sk-toggleable__label sk-toggleable__label-arrow\">SVC</label><div class=\"sk-toggleable__content\"><pre>SVC(C=50, degree=2, kernel=&#x27;poly&#x27;)</pre></div></div></div></div></div>"
      ],
      "text/plain": [
       "SVC(C=50, degree=2, kernel='poly')"
      ]
     },
     "execution_count": 147,
     "metadata": {},
     "output_type": "execute_result"
    }
   ],
   "source": [
    "# Create a SVC with the best hparams\n",
    "#svc_m3 = SVC(**grid_search_m3.best_params_)\n",
    "#svc_m3 = SVC(**grid_search_cup.cv_results_['params'][candidates_m3[4]])\n",
>>>>>>> 333981071777c2a759591c63ee6603ff9fab54e3
    "\n",
    "# Train the model\n",
    "svc_m3 = SVC(C=50, degree=2, kernel='poly')\n",
    "svc_m3.fit(x_dev_m3, y_dev_m3)"
   ]
  },
  {
   "cell_type": "code",
<<<<<<< HEAD
   "execution_count": null,
   "id": "59327b63-b89c-4ba9-8c18-6f2336d906ad",
   "metadata": {},
   "outputs": [],
   "source": [
    "print('-- DEVELOPMENT --')\n",
    "acc_dev_m3 = accuracy_score(y_dev_m3, svc_m3.predict(x_dev_m3))\n",
    "mse_dev_m3 = mean_squared_error(y_dev_m3, svc_m3.predict(x_dev_m3))\n",
    "print(f'MSE: {mse_dev_m3:.4f} - Accuracy: {acc_dev_m3:.4f}')"
=======
   "execution_count": 148,
   "id": "59327b63-b89c-4ba9-8c18-6f2336d906ad",
   "metadata": {},
   "outputs": [
    {
     "name": "stdout",
     "output_type": "stream",
     "text": [
      "-- DEVELOPMENT --\n",
      "Loss (MSE): 0.0000 - Accuracy: 1.0000\n"
     ]
    }
   ],
   "source": [
    "print('-- DEVELOPMENT --')\n",
    "acc_dev_m3 = accuracy_score(y_dev_m3, svc_m3.predict(x_dev_m3))\n",
    "mse_test_m3 = mean_squared_error(y_dev_m3, svc_m3.predict(x_dev_m3))\n",
    "print(f'MSE: {mse_test_m3:.4f} - Accuracy: {acc_dev_m3:.4f}')"
>>>>>>> 333981071777c2a759591c63ee6603ff9fab54e3
   ]
  },
  {
   "cell_type": "code",
<<<<<<< HEAD
   "execution_count": null,
   "id": "45007e5e-0e5a-43ac-8a3c-1f0beaa3439a",
   "metadata": {},
   "outputs": [],
=======
   "execution_count": 149,
   "id": "45007e5e-0e5a-43ac-8a3c-1f0beaa3439a",
   "metadata": {},
   "outputs": [
    {
     "name": "stdout",
     "output_type": "stream",
     "text": [
      "-- TEST --\n",
      "Loss (MSE): 0.0856 - Accuracy: 0.9144\n"
     ]
    }
   ],
>>>>>>> 333981071777c2a759591c63ee6603ff9fab54e3
   "source": [
    "print('-- TEST --')\n",
    "acc_test_m3 = accuracy_score(y_test_m3, svc_m3.predict(x_test_m3))\n",
    "mse_test_m3 = mean_squared_error(y_test_m3, svc_m3.predict(x_test_m3))\n",
    "print(f'MSE: {mse_test_m3:.4f} - Accuracy: {acc_test_m3:.4f}')"
   ]
  },
  {
   "cell_type": "markdown",
   "id": "85bae353-611d-4f66-98f8-f0b07d83f73e",
   "metadata": {},
   "source": [
    "## Storing results"
   ]
  },
  {
   "cell_type": "code",
<<<<<<< HEAD
   "execution_count": null,
=======
   "execution_count": 150,
>>>>>>> 333981071777c2a759591c63ee6603ff9fab54e3
   "id": "bfab177b-e38b-47dd-86fe-0157f345ff66",
   "metadata": {},
   "outputs": [],
   "source": [
    "report_m3 = {\n",
    "    'dev': {'mse': mse_dev_m3, 'accuracy': acc_dev_m3},\n",
    "    'test': {'mse': mse_test_m3, 'accuracy': acc_test_m3}\n",
    "}\n",
    "\n",
    "store_monk_result(results_dir + '/MONK3/', svc_m3.get_params(), report_m3)"
   ]
  },
  {
   "cell_type": "markdown",
   "id": "007f6603-97eb-4bf3-ae71-b1a62be020bd",
   "metadata": {
    "tags": []
   },
   "source": [
    "# CUP"
   ]
  },
  {
   "cell_type": "code",
<<<<<<< HEAD
   "execution_count": null,
=======
   "execution_count": 5,
>>>>>>> 333981071777c2a759591c63ee6603ff9fab54e3
   "id": "936d48c0-1745-4513-9f3c-d9785e55217b",
   "metadata": {},
   "outputs": [],
   "source": [
    "# Load CUP\n",
    "x_dev_cup, y_dev_cup, x_test_cup = load_cup(cup_dev_path, cup_test_path)"
   ]
  },
  {
   "cell_type": "markdown",
   "id": "6fa2e202-d598-4536-87b5-325173ca397b",
   "metadata": {},
   "source": [
<<<<<<< HEAD
    "## Dev - Internal Test Split \n",
    "The development dataset is split between training and internal test ($90-10$)."
=======
    "## Train-Val + Internal Test Split \n",
    "First, the development dataset is split between training-validation ($80-20$). Then, the validation dataset is split between validation and internal test ($50-50$).\n",
    "\n",
    "This means that the final split of our development data is $80-10-10$ for trainining, validation, and internal test, respectively."
>>>>>>> 333981071777c2a759591c63ee6603ff9fab54e3
   ]
  },
  {
   "cell_type": "code",
<<<<<<< HEAD
   "execution_count": null,
=======
   "execution_count": 6,
>>>>>>> 333981071777c2a759591c63ee6603ff9fab54e3
   "id": "fbea2c69-ca35-4863-b947-f791a7dec2b2",
   "metadata": {},
   "outputs": [],
   "source": [
    "# Split the internal test set\n",
    "x_train_cup, x_internal_test_cup, y_train_cup, y_internal_test_cup = train_test_split(\n",
<<<<<<< HEAD
    "    x_dev_cup, y_dev_cup, test_size=INTERNAL_TEST_SPLIT, random_state=128\n",
=======
    "    x_dev_cup, y_dev_cup, test_size=VAL_SPLIT, random_state=128\n",
>>>>>>> 333981071777c2a759591c63ee6603ff9fab54e3
    ")"
   ]
  },
  {
   "cell_type": "markdown",
<<<<<<< HEAD
   "id": "a745336c-fd11-47a4-b0ca-e0495ac13815",
   "metadata": {
    "jp-MarkdownHeadingCollapsed": true,
    "tags": []
   },
   "source": [
    "## Hyper-paramater Tuning\n",
    "\n",
    "\n",
=======
   "id": "1d01fad2-3770-4aa1-97e5-caa5e8a94dfd",
   "metadata": {
    "tags": []
   },
   "source": [
    "## GridSearch\n",
>>>>>>> 333981071777c2a759591c63ee6603ff9fab54e3
    "Here, we define the grid search spaces for the SVR for the CUP dataset."
   ]
  },
  {
<<<<<<< HEAD
   "cell_type": "markdown",
   "id": "0b009f7d-c747-472d-a16a-06f76b8cd589",
   "metadata": {
    "tags": []
   },
   "source": [
    "### Grid Search"
=======
   "cell_type": "code",
   "execution_count": 7,
   "id": "76d3f4fd-844b-4061-be8d-91f72d594911",
   "metadata": {},
   "outputs": [],
   "source": [
    "grid_search_spaces_cup = {\n",
    "    'estimator__C': [0.1, 1, 10, 50, 100],\n",
    "    'estimator__kernel': ['rbf', 'linear'],\n",
    "    'estimator__gamma': ['scale', 'auto'],\n",
    "}"
   ]
  },
  {
   "cell_type": "code",
   "execution_count": 8,
   "id": "72df4370-2a0d-495b-8bcf-5b44035a474e",
   "metadata": {},
   "outputs": [
    {
     "name": "stdout",
     "output_type": "stream",
     "text": [
      "Fitting 5 folds for each of 20 candidates, totalling 100 fits\n"
     ]
    },
    {
     "data": {
      "text/html": [
       "<style>#sk-container-id-1 {color: black;}#sk-container-id-1 pre{padding: 0;}#sk-container-id-1 div.sk-toggleable {background-color: white;}#sk-container-id-1 label.sk-toggleable__label {cursor: pointer;display: block;width: 100%;margin-bottom: 0;padding: 0.3em;box-sizing: border-box;text-align: center;}#sk-container-id-1 label.sk-toggleable__label-arrow:before {content: \"▸\";float: left;margin-right: 0.25em;color: #696969;}#sk-container-id-1 label.sk-toggleable__label-arrow:hover:before {color: black;}#sk-container-id-1 div.sk-estimator:hover label.sk-toggleable__label-arrow:before {color: black;}#sk-container-id-1 div.sk-toggleable__content {max-height: 0;max-width: 0;overflow: hidden;text-align: left;background-color: #f0f8ff;}#sk-container-id-1 div.sk-toggleable__content pre {margin: 0.2em;color: black;border-radius: 0.25em;background-color: #f0f8ff;}#sk-container-id-1 input.sk-toggleable__control:checked~div.sk-toggleable__content {max-height: 200px;max-width: 100%;overflow: auto;}#sk-container-id-1 input.sk-toggleable__control:checked~label.sk-toggleable__label-arrow:before {content: \"▾\";}#sk-container-id-1 div.sk-estimator input.sk-toggleable__control:checked~label.sk-toggleable__label {background-color: #d4ebff;}#sk-container-id-1 div.sk-label input.sk-toggleable__control:checked~label.sk-toggleable__label {background-color: #d4ebff;}#sk-container-id-1 input.sk-hidden--visually {border: 0;clip: rect(1px 1px 1px 1px);clip: rect(1px, 1px, 1px, 1px);height: 1px;margin: -1px;overflow: hidden;padding: 0;position: absolute;width: 1px;}#sk-container-id-1 div.sk-estimator {font-family: monospace;background-color: #f0f8ff;border: 1px dotted black;border-radius: 0.25em;box-sizing: border-box;margin-bottom: 0.5em;}#sk-container-id-1 div.sk-estimator:hover {background-color: #d4ebff;}#sk-container-id-1 div.sk-parallel-item::after {content: \"\";width: 100%;border-bottom: 1px solid gray;flex-grow: 1;}#sk-container-id-1 div.sk-label:hover label.sk-toggleable__label {background-color: #d4ebff;}#sk-container-id-1 div.sk-serial::before {content: \"\";position: absolute;border-left: 1px solid gray;box-sizing: border-box;top: 0;bottom: 0;left: 50%;z-index: 0;}#sk-container-id-1 div.sk-serial {display: flex;flex-direction: column;align-items: center;background-color: white;padding-right: 0.2em;padding-left: 0.2em;position: relative;}#sk-container-id-1 div.sk-item {position: relative;z-index: 1;}#sk-container-id-1 div.sk-parallel {display: flex;align-items: stretch;justify-content: center;background-color: white;position: relative;}#sk-container-id-1 div.sk-item::before, #sk-container-id-1 div.sk-parallel-item::before {content: \"\";position: absolute;border-left: 1px solid gray;box-sizing: border-box;top: 0;bottom: 0;left: 50%;z-index: -1;}#sk-container-id-1 div.sk-parallel-item {display: flex;flex-direction: column;z-index: 1;position: relative;background-color: white;}#sk-container-id-1 div.sk-parallel-item:first-child::after {align-self: flex-end;width: 50%;}#sk-container-id-1 div.sk-parallel-item:last-child::after {align-self: flex-start;width: 50%;}#sk-container-id-1 div.sk-parallel-item:only-child::after {width: 0;}#sk-container-id-1 div.sk-dashed-wrapped {border: 1px dashed gray;margin: 0 0.4em 0.5em 0.4em;box-sizing: border-box;padding-bottom: 0.4em;background-color: white;}#sk-container-id-1 div.sk-label label {font-family: monospace;font-weight: bold;display: inline-block;line-height: 1.2em;}#sk-container-id-1 div.sk-label-container {text-align: center;}#sk-container-id-1 div.sk-container {/* jupyter's `normalize.less` sets `[hidden] { display: none; }` but bootstrap.min.css set `[hidden] { display: none !important; }` so we also need the `!important` here to be able to override the default hidden behavior on the sphinx rendered scikit-learn.org. See: https://github.com/scikit-learn/scikit-learn/issues/21755 */display: inline-block !important;position: relative;}#sk-container-id-1 div.sk-text-repr-fallback {display: none;}</style><div id=\"sk-container-id-1\" class=\"sk-top-container\"><div class=\"sk-text-repr-fallback\"><pre>GridSearchCV(cv=KFold(n_splits=5, random_state=128, shuffle=True),\n",
       "             estimator=MultiOutputRegressor(estimator=SVR()),\n",
       "             param_grid={&#x27;estimator__C&#x27;: [0.1, 1, 10, 50, 100],\n",
       "                         &#x27;estimator__gamma&#x27;: [&#x27;scale&#x27;, &#x27;auto&#x27;],\n",
       "                         &#x27;estimator__kernel&#x27;: [&#x27;rbf&#x27;, &#x27;linear&#x27;]},\n",
       "             scoring=make_scorer(mean_euclidean_error, greater_is_better=False),\n",
       "             verbose=1)</pre><b>In a Jupyter environment, please rerun this cell to show the HTML representation or trust the notebook. <br />On GitHub, the HTML representation is unable to render, please try loading this page with nbviewer.org.</b></div><div class=\"sk-container\" hidden><div class=\"sk-item sk-dashed-wrapped\"><div class=\"sk-label-container\"><div class=\"sk-label sk-toggleable\"><input class=\"sk-toggleable__control sk-hidden--visually\" id=\"sk-estimator-id-1\" type=\"checkbox\" ><label for=\"sk-estimator-id-1\" class=\"sk-toggleable__label sk-toggleable__label-arrow\">GridSearchCV</label><div class=\"sk-toggleable__content\"><pre>GridSearchCV(cv=KFold(n_splits=5, random_state=128, shuffle=True),\n",
       "             estimator=MultiOutputRegressor(estimator=SVR()),\n",
       "             param_grid={&#x27;estimator__C&#x27;: [0.1, 1, 10, 50, 100],\n",
       "                         &#x27;estimator__gamma&#x27;: [&#x27;scale&#x27;, &#x27;auto&#x27;],\n",
       "                         &#x27;estimator__kernel&#x27;: [&#x27;rbf&#x27;, &#x27;linear&#x27;]},\n",
       "             scoring=make_scorer(mean_euclidean_error, greater_is_better=False),\n",
       "             verbose=1)</pre></div></div></div><div class=\"sk-parallel\"><div class=\"sk-parallel-item\"><div class=\"sk-item\"><div class=\"sk-label-container\"><div class=\"sk-label sk-toggleable\"><input class=\"sk-toggleable__control sk-hidden--visually\" id=\"sk-estimator-id-2\" type=\"checkbox\" ><label for=\"sk-estimator-id-2\" class=\"sk-toggleable__label sk-toggleable__label-arrow\">estimator: MultiOutputRegressor</label><div class=\"sk-toggleable__content\"><pre>MultiOutputRegressor(estimator=SVR())</pre></div></div></div><div class=\"sk-serial\"><div class=\"sk-item sk-dashed-wrapped\"><div class=\"sk-parallel\"><div class=\"sk-parallel-item\"><div class=\"sk-item\"><div class=\"sk-label-container\"><div class=\"sk-label sk-toggleable\"><input class=\"sk-toggleable__control sk-hidden--visually\" id=\"sk-estimator-id-3\" type=\"checkbox\" ><label for=\"sk-estimator-id-3\" class=\"sk-toggleable__label sk-toggleable__label-arrow\">estimator: SVR</label><div class=\"sk-toggleable__content\"><pre>SVR()</pre></div></div></div><div class=\"sk-serial\"><div class=\"sk-item\"><div class=\"sk-estimator sk-toggleable\"><input class=\"sk-toggleable__control sk-hidden--visually\" id=\"sk-estimator-id-4\" type=\"checkbox\" ><label for=\"sk-estimator-id-4\" class=\"sk-toggleable__label sk-toggleable__label-arrow\">SVR</label><div class=\"sk-toggleable__content\"><pre>SVR()</pre></div></div></div></div></div></div></div></div></div></div></div></div></div></div></div>"
      ],
      "text/plain": [
       "GridSearchCV(cv=KFold(n_splits=5, random_state=128, shuffle=True),\n",
       "             estimator=MultiOutputRegressor(estimator=SVR()),\n",
       "             param_grid={'estimator__C': [0.1, 1, 10, 50, 100],\n",
       "                         'estimator__gamma': ['scale', 'auto'],\n",
       "                         'estimator__kernel': ['rbf', 'linear']},\n",
       "             scoring=make_scorer(mean_euclidean_error, greater_is_better=False),\n",
       "             verbose=1)"
      ]
     },
     "execution_count": 8,
     "metadata": {},
     "output_type": "execute_result"
    }
   ],
   "source": [
    "grid_search_cup = GridSearchCV(\n",
    "    MultiOutputRegressor(SVR()), \n",
    "    grid_search_spaces_cup, \n",
    "    cv=KFold(n_splits=5, shuffle=True, random_state=RANDOM_STATE),\n",
    "    scoring=make_scorer(mean_euclidean_error, greater_is_better = False),\n",
    "    verbose=1\n",
    ")\n",
    "\n",
    "grid_search_cup.fit(x_train_cup, y_train_cup)"
   ]
  },
  {
   "cell_type": "code",
   "execution_count": 9,
   "id": "729f72e9-c2e5-417c-9abe-99814e650ae7",
   "metadata": {},
   "outputs": [
    {
     "name": "stdout",
     "output_type": "stream",
     "text": [
      "Model rank 1 - Config: {'estimator__C': 100, 'estimator__gamma': 'scale', 'estimator__kernel': 'rbf'}\n",
      "Mean score -0.8651 - Std score: 0.0692\n",
      "\n",
      "Model rank 2 - Config: {'estimator__C': 100, 'estimator__gamma': 'auto', 'estimator__kernel': 'rbf'}\n",
      "Mean score -1.0298 - Std score: 0.0783\n",
      "\n",
      "Model rank 3 - Config: {'estimator__C': 50, 'estimator__gamma': 'scale', 'estimator__kernel': 'rbf'}\n",
      "Mean score -1.0329 - Std score: 0.0813\n",
      "\n",
      "Model rank 4 - Config: {'estimator__C': 50, 'estimator__gamma': 'auto', 'estimator__kernel': 'rbf'}\n",
      "Mean score -1.1845 - Std score: 0.0864\n",
      "\n",
      "Model rank 5 - Config: {'estimator__C': 10, 'estimator__gamma': 'scale', 'estimator__kernel': 'rbf'}\n",
      "Mean score -1.4863 - Std score: 0.1075\n",
      "\n"
     ]
    }
   ],
   "source": [
    "best_configs_cup = grid_search_top_configs(grid_search_cup.cv_results_) # top k config"
   ]
  },
  {
   "cell_type": "markdown",
   "id": "fadcd8b7-e3bf-4aa9-8f18-744c65fc25fc",
   "metadata": {},
   "source": [
    "## Training - Testing"
   ]
  },
  {
   "cell_type": "code",
   "execution_count": 10,
   "id": "4492b9b8-2e62-4268-81f7-78915b283d88",
   "metadata": {},
   "outputs": [
    {
     "data": {
      "text/html": [
       "<style>#sk-container-id-2 {color: black;}#sk-container-id-2 pre{padding: 0;}#sk-container-id-2 div.sk-toggleable {background-color: white;}#sk-container-id-2 label.sk-toggleable__label {cursor: pointer;display: block;width: 100%;margin-bottom: 0;padding: 0.3em;box-sizing: border-box;text-align: center;}#sk-container-id-2 label.sk-toggleable__label-arrow:before {content: \"▸\";float: left;margin-right: 0.25em;color: #696969;}#sk-container-id-2 label.sk-toggleable__label-arrow:hover:before {color: black;}#sk-container-id-2 div.sk-estimator:hover label.sk-toggleable__label-arrow:before {color: black;}#sk-container-id-2 div.sk-toggleable__content {max-height: 0;max-width: 0;overflow: hidden;text-align: left;background-color: #f0f8ff;}#sk-container-id-2 div.sk-toggleable__content pre {margin: 0.2em;color: black;border-radius: 0.25em;background-color: #f0f8ff;}#sk-container-id-2 input.sk-toggleable__control:checked~div.sk-toggleable__content {max-height: 200px;max-width: 100%;overflow: auto;}#sk-container-id-2 input.sk-toggleable__control:checked~label.sk-toggleable__label-arrow:before {content: \"▾\";}#sk-container-id-2 div.sk-estimator input.sk-toggleable__control:checked~label.sk-toggleable__label {background-color: #d4ebff;}#sk-container-id-2 div.sk-label input.sk-toggleable__control:checked~label.sk-toggleable__label {background-color: #d4ebff;}#sk-container-id-2 input.sk-hidden--visually {border: 0;clip: rect(1px 1px 1px 1px);clip: rect(1px, 1px, 1px, 1px);height: 1px;margin: -1px;overflow: hidden;padding: 0;position: absolute;width: 1px;}#sk-container-id-2 div.sk-estimator {font-family: monospace;background-color: #f0f8ff;border: 1px dotted black;border-radius: 0.25em;box-sizing: border-box;margin-bottom: 0.5em;}#sk-container-id-2 div.sk-estimator:hover {background-color: #d4ebff;}#sk-container-id-2 div.sk-parallel-item::after {content: \"\";width: 100%;border-bottom: 1px solid gray;flex-grow: 1;}#sk-container-id-2 div.sk-label:hover label.sk-toggleable__label {background-color: #d4ebff;}#sk-container-id-2 div.sk-serial::before {content: \"\";position: absolute;border-left: 1px solid gray;box-sizing: border-box;top: 0;bottom: 0;left: 50%;z-index: 0;}#sk-container-id-2 div.sk-serial {display: flex;flex-direction: column;align-items: center;background-color: white;padding-right: 0.2em;padding-left: 0.2em;position: relative;}#sk-container-id-2 div.sk-item {position: relative;z-index: 1;}#sk-container-id-2 div.sk-parallel {display: flex;align-items: stretch;justify-content: center;background-color: white;position: relative;}#sk-container-id-2 div.sk-item::before, #sk-container-id-2 div.sk-parallel-item::before {content: \"\";position: absolute;border-left: 1px solid gray;box-sizing: border-box;top: 0;bottom: 0;left: 50%;z-index: -1;}#sk-container-id-2 div.sk-parallel-item {display: flex;flex-direction: column;z-index: 1;position: relative;background-color: white;}#sk-container-id-2 div.sk-parallel-item:first-child::after {align-self: flex-end;width: 50%;}#sk-container-id-2 div.sk-parallel-item:last-child::after {align-self: flex-start;width: 50%;}#sk-container-id-2 div.sk-parallel-item:only-child::after {width: 0;}#sk-container-id-2 div.sk-dashed-wrapped {border: 1px dashed gray;margin: 0 0.4em 0.5em 0.4em;box-sizing: border-box;padding-bottom: 0.4em;background-color: white;}#sk-container-id-2 div.sk-label label {font-family: monospace;font-weight: bold;display: inline-block;line-height: 1.2em;}#sk-container-id-2 div.sk-label-container {text-align: center;}#sk-container-id-2 div.sk-container {/* jupyter's `normalize.less` sets `[hidden] { display: none; }` but bootstrap.min.css set `[hidden] { display: none !important; }` so we also need the `!important` here to be able to override the default hidden behavior on the sphinx rendered scikit-learn.org. See: https://github.com/scikit-learn/scikit-learn/issues/21755 */display: inline-block !important;position: relative;}#sk-container-id-2 div.sk-text-repr-fallback {display: none;}</style><div id=\"sk-container-id-2\" class=\"sk-top-container\"><div class=\"sk-text-repr-fallback\"><pre>MultiOutputRegressor(estimator=SVR(C=100))</pre><b>In a Jupyter environment, please rerun this cell to show the HTML representation or trust the notebook. <br />On GitHub, the HTML representation is unable to render, please try loading this page with nbviewer.org.</b></div><div class=\"sk-container\" hidden><div class=\"sk-item sk-dashed-wrapped\"><div class=\"sk-label-container\"><div class=\"sk-label sk-toggleable\"><input class=\"sk-toggleable__control sk-hidden--visually\" id=\"sk-estimator-id-5\" type=\"checkbox\" ><label for=\"sk-estimator-id-5\" class=\"sk-toggleable__label sk-toggleable__label-arrow\">MultiOutputRegressor</label><div class=\"sk-toggleable__content\"><pre>MultiOutputRegressor(estimator=SVR(C=100))</pre></div></div></div><div class=\"sk-parallel\"><div class=\"sk-parallel-item\"><div class=\"sk-item\"><div class=\"sk-label-container\"><div class=\"sk-label sk-toggleable\"><input class=\"sk-toggleable__control sk-hidden--visually\" id=\"sk-estimator-id-6\" type=\"checkbox\" ><label for=\"sk-estimator-id-6\" class=\"sk-toggleable__label sk-toggleable__label-arrow\">estimator: SVR</label><div class=\"sk-toggleable__content\"><pre>SVR(C=100)</pre></div></div></div><div class=\"sk-serial\"><div class=\"sk-item\"><div class=\"sk-estimator sk-toggleable\"><input class=\"sk-toggleable__control sk-hidden--visually\" id=\"sk-estimator-id-7\" type=\"checkbox\" ><label for=\"sk-estimator-id-7\" class=\"sk-toggleable__label sk-toggleable__label-arrow\">SVR</label><div class=\"sk-toggleable__content\"><pre>SVR(C=100)</pre></div></div></div></div></div></div></div></div></div></div>"
      ],
      "text/plain": [
       "MultiOutputRegressor(estimator=SVR(C=100))"
      ]
     },
     "execution_count": 10,
     "metadata": {},
     "output_type": "execute_result"
    }
   ],
   "source": [
    "svr_best_params = {k.replace('estimator__', ''): v for k, v in grid_search_cup.best_params_.items()}\n",
    "\n",
    "multi_svr = MultiOutputRegressor(SVR(**svr_best_params))\n",
    "multi_svr.fit(x_train_cup, y_train_cup)"
>>>>>>> 333981071777c2a759591c63ee6603ff9fab54e3
   ]
  },
  {
   "cell_type": "code",
   "execution_count": null,
<<<<<<< HEAD
   "id": "76d3f4fd-844b-4061-be8d-91f72d594911",
   "metadata": {},
   "outputs": [],
   "source": [
    "grid_search_spaces_cup = {\n",
    "    'estimator__C': [0.1, 1, 10, 50, 100],\n",
    "    'estimator__epsilon': [0.1, 0.2],\n",
    "    'estimator__kernel': ['rbf', 'linear', 'poly'],\n",
    "    'estimator__gamma': ['scale', 'auto'],\n",
    "}"
=======
   "id": "49a8da1f-ba60-4c86-aacb-f1af51696aa5",
   "metadata": {},
   "outputs": [],
   "source": [
    "print('-- TRAINING --')\n",
    "mee_train_cup = mean_euclidean_error(y_train_cup, multi_svr.predict(x_train_cup))\n",
    "mse_train_cup = mean_squared_error(y_train_cup, multi_svr.predict(x_train_cup))\n",
    "print(f'Loss (MSE): {mse_train_cup:.4f} - MEE: {mee_train_cup:.4f}')"
>>>>>>> 333981071777c2a759591c63ee6603ff9fab54e3
   ]
  },
  {
   "cell_type": "code",
   "execution_count": null,
<<<<<<< HEAD
   "id": "72df4370-2a0d-495b-8bcf-5b44035a474e",
   "metadata": {},
   "outputs": [],
   "source": [
    "grid_search_cup = GridSearchCV(\n",
    "    MultiOutputRegressor(SVR()), \n",
    "    grid_search_spaces_cup, \n",
    "    cv=KFold(n_splits=N_SPLITS, shuffle=True, random_state=RANDOM_STATE),\n",
    "    scoring=make_scorer(mean_euclidean_error, greater_is_better = False),\n",
    "    verbose=1\n",
    ")\n",
    "\n",
    "grid_search_cup.fit(x_train_cup, y_train_cup)"
   ]
  },
  {
   "cell_type": "code",
   "execution_count": null,
   "id": "3a9c95c4-b5a2-4e2f-9ce2-15d17e985e00",
   "metadata": {},
   "outputs": [],
   "source": [
    "best_configs_cup = tuning_search_top_configs(grid_search_cup.cv_results_) # top k config"
   ]
  },
  {
   "cell_type": "markdown",
   "id": "460667d9-b4b8-44f6-944a-d17e07c6dcad",
   "metadata": {
    "tags": []
   },
   "source": [
    "### Random Search"
   ]
  },
  {
   "cell_type": "code",
   "execution_count": null,
   "id": "f2214ecb-d8dc-404e-a94f-e45c5802ba9c",
   "metadata": {},
   "outputs": [],
   "source": [
    "best_params = grid_search_cup.best_params_\n",
    "print(best_params)"
   ]
  },
  {
   "cell_type": "code",
   "execution_count": null,
   "id": "c3960cb8-ee1e-4eb2-8b61-584dd18776df",
   "metadata": {},
   "outputs": [],
   "source": [
    "random_search_spaces_cup = {\n",
    "    'estimator__C': [max(0.1, best_params['estimator__C'] * 0.5), best_params['estimator__C'], best_params['estimator__C'] * 2],\n",
    "    'estimator__epsilon': [max(0.1, best_params['estimator__C'] * 0.8), max(0.1, best_params['estimator__C'] * 1.3)],\n",
    "    'estimator__kernel': [best_params['estimator__kernel']],\n",
    "    'estimator__gamma': [best_params['estimator__gamma']]\n",
    "}"
   ]
  },
  {
   "cell_type": "code",
   "execution_count": null,
   "id": "8890ad63-e985-44de-89a1-fa8bd907300d",
   "metadata": {},
   "outputs": [],
   "source": [
    "random_search_cup = RandomizedSearchCV(\n",
    "    MultiOutputRegressor(SVR()), \n",
    "    random_search_spaces_cup, \n",
    "    n_iter=100, # number of configs sampled (do >100)\n",
    "    cv=KFold(n_splits=N_SPLITS, shuffle=True, random_state=RANDOM_STATE),\n",
    "    scoring=make_scorer(mean_euclidean_error, greater_is_better = False),\n",
    "    verbose=1,\n",
    "    random_state=RANDOM_STATE\n",
    ")\n",
    "\n",
    "random_search_cup.fit(x_train_cup, y_train_cup)"
   ]
  },
  {
   "cell_type": "code",
   "execution_count": null,
   "id": "f1c873ae-55cc-4e69-a6ca-2ab5b7cd5d91",
   "metadata": {},
   "outputs": [],
   "source": [
    "best_score_grid = grid_search_cup.best_score_\n",
    "best_score_random = random_search_cup.best_score_\n",
    "\n",
    "# Check if best result is from GridSearc or RandomSearch\n",
    "if best_score_random > best_score_grid:\n",
    "    print(\"Best configuration from RandomizedSearch:\\n\")\n",
    "    best_hparams = random_search_cup.best_params_\n",
    "    print(best_hparams)\n",
    "else:\n",
    "    print(\"GridSearchCV resulted in the best configuration.\")"
   ]
  },
  {
   "cell_type": "markdown",
   "id": "fadcd8b7-e3bf-4aa9-8f18-744c65fc25fc",
   "metadata": {},
   "source": [
    "## Training - Testing"
   ]
  },
  {
   "cell_type": "code",
   "execution_count": null,
   "id": "19f5ab26-8627-43f9-9968-fd5096c741b3",
   "metadata": {},
   "outputs": [],
   "source": [
    "best_params = {k.replace('estimator__', ''): v for k, v in best_params.items()}\n",
    "\n",
    "multi_svr = MultiOutputRegressor(SVR(**best_params))\n",
    "multi_svr.fit(x_train_cup, y_train_cup)"
   ]
  },
  {
   "cell_type": "code",
   "execution_count": null,
   "id": "49a8da1f-ba60-4c86-aacb-f1af51696aa5",
   "metadata": {},
   "outputs": [],
   "source": [
    "print('-- TRAINING --')\n",
    "mee_train_cup = mean_euclidean_error(y_train_cup, multi_svr.predict(x_train_cup))\n",
    "mse_train_cup = mean_squared_error(y_train_cup, multi_svr.predict(x_train_cup))\n",
    "print(f'Loss (MSE): {mse_train_cup:.4f} - MEE: {mee_train_cup:.4f}')"
   ]
  },
  {
   "cell_type": "code",
   "execution_count": null,
   "id": "08de7e47-acbf-4cdc-9a67-e239cb609d75",
   "metadata": {},
   "outputs": [],
   "source": [
=======
   "id": "08de7e47-acbf-4cdc-9a67-e239cb609d75",
   "metadata": {},
   "outputs": [],
   "source": [
>>>>>>> 333981071777c2a759591c63ee6603ff9fab54e3
    "print('-- INTERNAL TEST --')\n",
    "mee_internal_test_cup = mean_euclidean_error(y_internal_test_cup, multi_svr.predict(x_internal_test_cup))\n",
    "mse_internal_test_cup = mean_squared_error(y_internal_test_cup, multi_svr.predict(x_internal_test_cup))\n",
    "print(f'Loss (MSE): {mse_internal_test_cup:.4f} - MEE: {mee_internal_test_cup:.4f}')"
   ]
  },
  {
   "cell_type": "code",
<<<<<<< HEAD
   "execution_count": null,
=======
   "execution_count": 84,
>>>>>>> 333981071777c2a759591c63ee6603ff9fab54e3
   "id": "568d5ce9-c2cf-4ca4-9dbf-c2cf7ed9ff48",
   "metadata": {},
   "outputs": [],
   "source": [
    "# Blind test set predictions\n",
    "blind_test_preds_cup = multi_svr.predict(x_test_cup)"
   ]
  },
  {
   "cell_type": "markdown",
   "id": "635fb40d-fea2-4780-a1cb-459be883339d",
   "metadata": {},
   "source": [
    "## Store results"
<<<<<<< HEAD
   ]
  },
  {
   "cell_type": "code",
   "execution_count": null,
   "id": "44615d4f-ac8a-4c6a-a10b-89cd8e3411be",
   "metadata": {},
   "outputs": [],
   "source": [
    "best_index = grid_search_cup.best_index_\n",
    "mee_mean_score = -grid_search_cup.cv_results_['mean_test_score'][best_index]\n",
    "mee_std_dev = std_validation_error = grid_search_cup.cv_results_['std_test_score'][best_index]\n",
    "\n",
    "report_cup = {\n",
    "    'train': {'mse': mse_train_cup, 'mee': mee_train_cup},\n",
    "    'validation': {'mean_mee': mee_mean_score, 'std_dev_mee': mee_std_dev},\n",
    "    'internal_test': {'mse': mse_internal_test_cup, 'mee': mee_internal_test_cup},\n",
    "}\n",
    "\n",
    "store_cup_result(results_dir + '/CUP/', svr_best_params, report_cup, blind_test_preds_cup)"
   ]
  },
  {
   "cell_type": "code",
   "execution_count": null,
   "id": "058435e4-0b17-4015-a5af-9186928c2938",
   "metadata": {},
   "outputs": [],
   "source": []
=======
   ]
  },
  {
   "cell_type": "code",
   "execution_count": 91,
   "id": "44615d4f-ac8a-4c6a-a10b-89cd8e3411be",
   "metadata": {},
   "outputs": [],
   "source": [
    "report_cup = {\n",
    "    'train': {'mse': mse_train_cup, 'mee': mee_train_cup},\n",
    "    'val': {'mse': mse_val_cup, 'mee': mee_val_cup},\n",
    "    'internal_test': {'mse': mse_internal_test_cup, 'mee': mee_internal_test_cup}\n",
    "}\n",
    "\n",
    "store_cup_result(results_dir + '/CUP/', svr_best_params, report_cup, blind_test_preds_cup)"
   ]
>>>>>>> 333981071777c2a759591c63ee6603ff9fab54e3
  }
 ],
 "metadata": {
  "kernelspec": {
   "display_name": "hlt",
   "language": "python",
   "name": "hlt"
  },
  "language_info": {
   "codemirror_mode": {
    "name": "ipython",
    "version": 3
   },
   "file_extension": ".py",
   "mimetype": "text/x-python",
   "name": "python",
   "nbconvert_exporter": "python",
   "pygments_lexer": "ipython3",
   "version": "3.9.7"
  }
 },
 "nbformat": 4,
 "nbformat_minor": 5
}
