{
 "cells": [
  {
   "cell_type": "markdown",
   "id": "59d3416e-3aee-496b-9a46-d86fab3fe008",
   "metadata": {
    "tags": []
   },
   "source": [
    "## Imports"
   ]
  },
  {
   "cell_type": "code",
   "execution_count": null,
   "id": "15985a7e-4206-4f13-aaad-d38982df5f10",
   "metadata": {},
   "outputs": [],
   "source": [
    "import os\n",
    "import sys\n",
    "\n",
    "import numpy as np\n",
    "import pandas as pd\n",
    "import matplotlib.pyplot as plt\n",
    "from scipy.stats import uniform\n",
    "\n",
    "from sklearn.svm import SVC, SVR\n",
    "from sklearn.metrics import accuracy_score, make_scorer, mean_squared_error\n",
    "from sklearn.model_selection import GridSearchCV, RandomizedSearchCV, StratifiedKFold, KFold, train_test_split, ValidationCurveDisplay, validation_curve\n",
    "from sklearn.multioutput import MultiOutputRegressor\n",
    "\n",
    "dir_parts = os.getcwd().split(os.path.sep)\n",
    "root_index = dir_parts.index('ML-B')\n",
    "root_path = os.path.sep.join(dir_parts[:root_index + 1])\n",
    "sys.path.append(root_path + '/code/')\n",
    "from data.data_config import Dataset\n",
    "from data.data_utils import load_monk, load_cup, store_monk_result, store_cup_result\n",
    "from hyperparameter_tuning import tuning_search_top_configs\n",
    "from training.metrics import mean_euclidean_error\n",
    "\n",
    "%load_ext autoreload\n",
    "%autoreload 2"
   ]
  },
  {
   "cell_type": "markdown",
   "id": "2d6931af-0794-42d2-8605-57b0ee93457c",
   "metadata": {
    "tags": []
   },
   "source": [
    "# SVM\n",
    "In this notebook we test a **SVC** and a **SVR** w.r.t. the tasks at hand, i.e. the three MONK's problems and the CUP dataset respectively."
   ]
  },
  {
   "cell_type": "markdown",
   "id": "9f471ba8-3bc2-4487-a9b1-e3dd1f508cdd",
   "metadata": {
    "tags": []
   },
   "source": [
    "## Settings"
   ]
  },
  {
   "cell_type": "code",
   "execution_count": null,
   "id": "5e103d7c-0cc6-4f8c-89a9-aed6653b1abf",
   "metadata": {
    "tags": []
   },
   "outputs": [],
   "source": [
    "MODEL_NAME = 'SVM'\n",
    "INTERNAL_TEST_SPLIT = 0.1 # internal test split percentage\n",
    "RANDOM_STATE = 128 # reproducibility\n",
    "N_SPLITS=5 # for cross-validation"
   ]
  },
  {
   "cell_type": "markdown",
   "id": "84564330-d564-4700-9865-88576073b71b",
   "metadata": {
    "tags": []
   },
   "source": [
    "## Path"
   ]
  },
  {
   "cell_type": "code",
   "execution_count": null,
   "id": "0b342ae0-1ef2-4bdb-9128-cd10ac83adf9",
   "metadata": {},
   "outputs": [],
   "source": [
    "# Directories\n",
    "results_dir = root_path + '/results/' + MODEL_NAME\n",
    "\n",
    "# Filepaths (MONK)\n",
    "m1_dev_path, m1_test_path = Dataset.MONK_1.dev_path, Dataset.MONK_1.test_path # MONK 1\n",
    "m2_dev_path, m2_test_path = Dataset.MONK_2.dev_path, Dataset.MONK_2.test_path # MONK 2\n",
    "m3_dev_path, m3_test_path = Dataset.MONK_3.dev_path, Dataset.MONK_3.test_path # MONK 3\n",
    "\n",
    "# Filepaths (CUP)\n",
    "cup_dev_path, cup_test_path = Dataset.CUP.dev_path, Dataset.CUP.test_path"
   ]
  },
  {
   "cell_type": "markdown",
   "id": "859824b9-6c6c-4f09-b4d9-ad5f9c5e2b29",
   "metadata": {
    "jp-MarkdownHeadingCollapsed": true,
    "tags": []
   },
   "source": [
    "# MONK-1"
   ]
  },
  {
   "cell_type": "code",
   "execution_count": null,
   "id": "2c6012fa-55b8-4601-83f6-e899603cd1f1",
   "metadata": {},
   "outputs": [],
   "source": [
    "# Load MONK-1\n",
    "x_dev_m1, y_dev_m1, x_test_m1, y_test_m1 = load_monk(m1_dev_path, m1_test_path)"
   ]
  },
  {
   "cell_type": "markdown",
   "id": "e41ee69c-611c-4626-b3cb-441a2d74076e",
   "metadata": {
    "tags": []
   },
   "source": [
    "## GridSearch\n",
    "Grid search is a simple hyper-parameter tuning techniques useful for finding the best configuration for a specific ML model. It involves:\n",
    "- defining a grid of hparams values\n",
    "- systematically test all possible combinations"
   ]
  },
  {
   "cell_type": "code",
   "execution_count": null,
   "id": "bf166ff9-f4d9-4e96-bad2-9b7d13649069",
   "metadata": {},
   "outputs": [],
   "source": [
    "# hparams grid for grid search\n",
    "# hparams grid for grid search\n",
    "clf_hparams_spaces = [\n",
    "    {'kernel': ['rbf'], 'gamma': ['scale', 'auto'], \n",
    "                        'C': [0.1, 1, 10, 50, 100]\n",
    "    },\n",
    "    {'kernel': ['linear'], 'C': [1, 10, 100, 1000]\n",
    "    },\n",
    "    {'kernel': ['poly'], 'degree': [2,3,4],\n",
    "                         'coef0': [0.0],\n",
    "                         'gamma': ['scale', 'auto'],\n",
    "                         'C': [0.1, 1, 10, 50, 100] \n",
    "    }\n",
    "]"
   ]
  },
  {
   "cell_type": "code",
   "execution_count": null,
   "id": "be108ca9-3201-4b6f-b2ff-4819db06169f",
   "metadata": {},
   "outputs": [],
   "source": [
    "# perform grid search with KFold\n",
    "\n",
    "grid_search_m1 = GridSearchCV(\n",
    "    SVC(),\n",
    "    param_grid=clf_hparams_spaces,\n",
    "    cv=StratifiedKFold(n_splits=5, shuffle=True, random_state=128),\n",
    "    scoring='accuracy',\n",
    "    verbose=1\n",
    ")\n",
    "\n",
    "grid_search_m1.fit(x_dev_m1, y_dev_m1)"
   ]
  },
  {
   "cell_type": "code",
   "execution_count": null,
   "id": "f1ecc14b-3279-44dd-b59f-4e9264b60165",
   "metadata": {},
   "outputs": [],
   "source": [
    "best_configs_m1 = tuning_search_top_configs(grid_search_m1.cv_results_) # top k config"
   ]
  },
  {
   "cell_type": "markdown",
   "id": "566ec35b-02da-42aa-a1c8-977532982fff",
   "metadata": {},
   "source": [
    "## Training - Testing"
   ]
  },
  {
   "cell_type": "code",
   "execution_count": null,
   "id": "0cb51503-5261-4435-8a22-366ba0dcb373",
   "metadata": {},
   "outputs": [],
   "source": [
    "# Create a SVC with the best hparams\n",
    "#svc_m1 = SVC(**grid_search_m1.best_params_)\n",
    "\n",
    "# Create and train the SVM\n",
    "svc_m1 = SVC(C=10, degree=2, kernel='poly')\n",
    "svc_m1.fit(x_dev_m1, y_dev_m1)"
   ]
  },
  {
   "cell_type": "code",
   "execution_count": null,
   "id": "e034c525-0c5a-4737-9186-4cfc0b61ae15",
   "metadata": {},
   "outputs": [],
   "source": [
    "print('-- DEVELOPMENT --')\n",
    "acc_dev_m1 = accuracy_score(y_dev_m1, svc_m1.predict(x_dev_m1))\n",
    "mse_dev_m1 = mean_squared_error(y_dev_m1, svc_m1.predict(x_dev_m1))\n",
    "print(f'Loss (MSE): {mse_dev_m1:.4f} - Accuracy: {acc_dev_m1:.4f}')"
   ]
  },
  {
   "cell_type": "code",
   "execution_count": null,
   "id": "38e328d0-7a8e-463d-b9f3-0b2bdd3700c9",
   "metadata": {},
   "outputs": [],
   "source": [
    "print('-- TEST --')\n",
    "acc_test_m1 = accuracy_score(y_test_m1, svc_m1.predict(x_test_m1))\n",
    "mse_test_m1 = mean_squared_error(y_test_m1, svc_m1.predict(x_test_m1))\n",
    "print(f'Loss (MSE): {mse_test_m1:.4f} - Accuracy: {acc_test_m1:.4f}')"
   ]
  },
  {
   "cell_type": "markdown",
   "id": "5d9a9e02-7de5-4fe0-8b53-5d7e98839b89",
   "metadata": {},
   "source": [
    "## Store results"
   ]
  },
  {
   "cell_type": "code",
   "execution_count": null,
   "id": "ad3d86e0-f5d8-447c-bd7b-fab5262eef82",
   "metadata": {},
   "outputs": [],
   "source": [
    "report_m1 = {\n",
    "    'dev': {'mse': mse_dev_m1, 'accuracy': acc_dev_m1},\n",
    "    'test': {'mse': mse_test_m1, 'accuracy': acc_test_m1}\n",
    "}\n",
    "\n",
    "store_monk_result(results_dir + '/MONK1/', svc_m1.get_params(), report_m1)"
   ]
  },
  {
   "cell_type": "markdown",
   "id": "b216aed0-5ba0-4816-a889-a3be455e73c9",
   "metadata": {
    "jp-MarkdownHeadingCollapsed": true,
    "tags": []
   },
   "source": [
    "# MONK-2"
   ]
  },
  {
   "cell_type": "code",
   "execution_count": null,
   "id": "8481533f-16bb-4d55-99d8-2ea38c97fd4e",
   "metadata": {},
   "outputs": [],
   "source": [
    "# Load MONK-2\n",
    "x_dev_m2, y_dev_m2, x_test_m2, y_test_m2 = load_monk(m2_dev_path, m2_test_path)"
   ]
  },
  {
   "cell_type": "markdown",
   "id": "247963e3-00fc-4b16-be97-8246112a000a",
   "metadata": {
    "tags": []
   },
   "source": [
    "## GridSearch"
   ]
  },
  {
   "cell_type": "code",
   "execution_count": null,
   "id": "7f6feeba-d63e-416e-9461-753844ee76b4",
   "metadata": {},
   "outputs": [],
   "source": [
    "# perform grid search with KFold\n",
    "grid_search_m2 = GridSearchCV(\n",
    "    SVC(),\n",
    "    param_grid=clf_hparams_spaces,\n",
    "    cv=StratifiedKFold(n_splits=5, shuffle=True, random_state=128),\n",
    "    scoring='accuracy',\n",
    "    verbose=1\n",
    ")\n",
    "\n",
    "grid_search_m2.fit(x_dev_m2, y_dev_m2)"
   ]
  },
  {
   "cell_type": "code",
   "execution_count": null,
   "id": "5f87eb99-2147-4838-9ddb-d8a2731c8cc4",
   "metadata": {},
   "outputs": [],
   "source": [
    "best_configs_m2 = tuning_search_top_configs(grid_search_m2.cv_results_) # top k config"
   ]
  },
  {
   "cell_type": "markdown",
   "id": "a465b87d-e253-4a52-aca2-6a75190a84d9",
   "metadata": {
    "tags": []
   },
   "source": [
    "## Training - Testing"
   ]
  },
  {
   "cell_type": "code",
   "execution_count": null,
   "id": "7a4ad38f-56c0-45eb-8dff-d050570de8a9",
   "metadata": {},
   "outputs": [],
   "source": [
    "# Create a SVC with the best hparams\n",
    "#svc_m2 = SVC(**grid_search_m2.best_params_)\n",
    "\n",
    "# Create and train the SVM\n",
    "svc_m2 = SVC(C=50, degree=2, kernel='poly')\n",
    "svc_m2.fit(x_dev_m2, y_dev_m2)"
   ]
  },
  {
   "cell_type": "code",
   "execution_count": null,
   "id": "0d8ba0c8-0979-47ae-a2a8-dfbfc0636484",
   "metadata": {},
   "outputs": [],
   "source": [
    "print('-- DEVELOPMENT --')\n",
    "acc_dev_m2 = accuracy_score(y_dev_m2, svc_m2.predict(x_dev_m2))\n",
    "mse_dev_m2 = mean_squared_error(y_dev_m2, svc_m2.predict(x_dev_m2))\n",
    "print(f'MSE: {mse_dev_m2:.4f} - Accuracy: {acc_dev_m2:.4f}')"
   ]
  },
  {
   "cell_type": "code",
   "execution_count": null,
   "id": "6a942149-2b2e-4922-898d-3ec02ed06c38",
   "metadata": {},
   "outputs": [],
   "source": [
    "print('-- TEST --')\n",
    "acc_test_m2 = accuracy_score(y_test_m2, svc_m2.predict(x_test_m2))\n",
    "mse_test_m2 = mean_squared_error(y_test_m2, svc_m2.predict(x_test_m2))\n",
    "print(f'MSE: {mse_test_m2:.4f} - Accuracy: {acc_test_m2:.4f}')"
   ]
  },
  {
   "cell_type": "markdown",
   "id": "ef41bd16-5917-40f8-9319-ca72bb517fcc",
   "metadata": {},
   "source": [
    "## Store results"
   ]
  },
  {
   "cell_type": "code",
   "execution_count": null,
   "id": "9cb1f41d-4a9c-4025-89e5-e9967664fbe1",
   "metadata": {},
   "outputs": [],
   "source": [
    "report_m2 = {\n",
    "    'dev': {'mse': mse_dev_m2, 'accuracy': acc_dev_m2},\n",
    "    'test': {'mse': mse_test_m2, 'accuracy': acc_test_m2}\n",
    "}\n",
    "\n",
    "store_monk_result(results_dir + '/MONK2/', svc_m2.get_params(), report_m2)"
   ]
  },
  {
   "cell_type": "markdown",
   "id": "aea2e408-6d1b-4c43-b70b-c4fec0da831d",
   "metadata": {
    "jp-MarkdownHeadingCollapsed": true,
    "tags": []
   },
   "source": [
    "# MONK-3"
   ]
  },
  {
   "cell_type": "code",
   "execution_count": null,
   "id": "ed40b105-f055-458a-9839-832e831915cc",
   "metadata": {},
   "outputs": [],
   "source": [
    "# Load MONK-3\n",
    "x_dev_m3, y_dev_m3, x_test_m3, y_test_m3 = load_monk(m3_dev_path, m3_test_path)"
   ]
  },
  {
   "cell_type": "markdown",
   "id": "74654263-c2dd-4bef-96b6-0301053ac3f8",
   "metadata": {
    "tags": []
   },
   "source": [
    "## GridSearch"
   ]
  },
  {
   "cell_type": "code",
   "execution_count": null,
   "id": "0ef3ef30-a9e1-49d2-b562-3af03a3573d2",
   "metadata": {},
   "outputs": [],
   "source": [
    "# perform grid search with KFold\n",
    "grid_search_m3 = GridSearchCV(\n",
    "    SVC(),\n",
    "    param_grid=clf_hparams_spaces,\n",
    "    cv=StratifiedKFold(n_splits=5, shuffle=True, random_state=128),\n",
    "    scoring='accuracy',\n",
    "    verbose=1\n",
    ")\n",
    "\n",
    "grid_search_m3.fit(x_dev_m3, y_dev_m3)"
   ]
  },
  {
   "cell_type": "code",
   "execution_count": null,
   "id": "d12f9aa7-23f1-4632-a157-fbeadfaa5c7d",
   "metadata": {},
   "outputs": [],
   "source": [
    "best_configs_m3 = tuning_search_top_configs(grid_search_m3.cv_results_) # top k config"
   ]
  },
  {
   "cell_type": "markdown",
   "id": "8e3f6857",
   "metadata": {},
   "source": [
    "## Training - Testing"
   ]
  },
  {
   "cell_type": "code",
   "execution_count": null,
   "id": "75fd7ac4-8689-4848-ba38-b65486034aec",
   "metadata": {},
   "outputs": [],
   "source": [
    "# Create a SVC with the best hparams\n",
    "#svc_m3 = SVC(**grid_search_m3.best_params_)\n",
    "\n",
    "# Train the model\n",
    "svc_m3 = SVC(C=10, degree=2, gamma='auto', kernel='poly')\n",
    "svc_m3.fit(x_dev_m3, y_dev_m3)"
   ]
  },
  {
   "cell_type": "code",
   "execution_count": null,
   "id": "59327b63-b89c-4ba9-8c18-6f2336d906ad",
   "metadata": {},
   "outputs": [],
   "source": [
    "print('-- DEVELOPMENT --')\n",
    "acc_dev_m3 = accuracy_score(y_dev_m3, svc_m3.predict(x_dev_m3))\n",
    "mse_dev_m3 = mean_squared_error(y_dev_m3, svc_m3.predict(x_dev_m3))\n",
    "print(f'MSE: {mse_dev_m3:.4f} - Accuracy: {acc_dev_m3:.4f}')"
   ]
  },
  {
   "cell_type": "code",
   "execution_count": null,
   "id": "45007e5e-0e5a-43ac-8a3c-1f0beaa3439a",
   "metadata": {},
   "outputs": [],
   "source": [
    "print('-- TEST --')\n",
    "acc_test_m3 = accuracy_score(y_test_m3, svc_m3.predict(x_test_m3))\n",
    "mse_test_m3 = mean_squared_error(y_test_m3, svc_m3.predict(x_test_m3))\n",
    "print(f'MSE: {mse_test_m3:.4f} - Accuracy: {acc_test_m3:.4f}')"
   ]
  },
  {
   "cell_type": "markdown",
   "id": "85bae353-611d-4f66-98f8-f0b07d83f73e",
   "metadata": {},
   "source": [
    "## Storing results"
   ]
  },
  {
   "cell_type": "code",
   "execution_count": null,
   "id": "bfab177b-e38b-47dd-86fe-0157f345ff66",
   "metadata": {},
   "outputs": [],
   "source": [
    "report_m3 = {\n",
    "    'dev': {'mse': mse_dev_m3, 'accuracy': acc_dev_m3},\n",
    "    'test': {'mse': mse_test_m3, 'accuracy': acc_test_m3}\n",
    "}\n",
    "\n",
    "store_monk_result(results_dir + '/MONK3/', svc_m3.get_params(), report_m3)"
   ]
  },
  {
   "cell_type": "markdown",
   "id": "007f6603-97eb-4bf3-ae71-b1a62be020bd",
   "metadata": {
    "tags": []
   },
   "source": [
    "# CUP"
   ]
  },
  {
   "cell_type": "code",
   "execution_count": null,
   "id": "936d48c0-1745-4513-9f3c-d9785e55217b",
   "metadata": {},
   "outputs": [],
   "source": [
    "# Load CUP\n",
    "x_dev_cup, y_dev_cup, x_test_cup = load_cup(cup_dev_path, cup_test_path)"
   ]
  },
  {
   "cell_type": "markdown",
   "id": "6fa2e202-d598-4536-87b5-325173ca397b",
   "metadata": {},
   "source": [
    "## Dev - Internal Test Split \n",
    "The development dataset is split between training and internal test ($90-10$)."
   ]
  },
  {
   "cell_type": "code",
   "execution_count": null,
   "id": "fbea2c69-ca35-4863-b947-f791a7dec2b2",
   "metadata": {},
   "outputs": [],
   "source": [
    "# Split the internal test set\n",
    "x_train_cup, x_internal_test_cup, y_train_cup, y_internal_test_cup = train_test_split(\n",
    "    x_dev_cup, y_dev_cup, test_size=INTERNAL_TEST_SPLIT, random_state=128\n",
    ")"
   ]
  },
  {
   "cell_type": "markdown",
   "id": "a745336c-fd11-47a4-b0ca-e0495ac13815",
   "metadata": {
    "tags": []
   },
   "source": [
    "## Hyper-paramater Tuning\n",
    "\n",
    "\n",
    "Here, we define the grid search spaces for the SVR for the CUP dataset."
   ]
  },
  {
   "cell_type": "markdown",
   "id": "0b009f7d-c747-472d-a16a-06f76b8cd589",
   "metadata": {
    "tags": []
   },
   "source": [
    "### Grid Search"
   ]
  },
  {
   "cell_type": "code",
   "execution_count": null,
   "id": "76d3f4fd-844b-4061-be8d-91f72d594911",
   "metadata": {},
   "outputs": [],
   "source": [
    "grid_search_spaces_cup = [\n",
    "    {'estimator__kernel': ['rbf'], 'estimator__gamma': ['scale', 'auto'], \n",
    "                                   'estimator__C': [0.1, 1, 10, 50, 100],\n",
    "                                   'estimator__epsilon': [0.01, 0.1, 0.2, 0.5, 1]\n",
    "    },\n",
    "    {'estimator__kernel': ['linear'], 'estimator__C': [1, 10, 100, 1000],\n",
    "                                      'estimator__epsilon': [0.01, 0.1, 0.2, 0.5, 1]\n",
    "    },\n",
    "    {'estimator__kernel': ['poly'], 'estimator__degree': [2,3,4],\n",
    "                                    'estimator__coef0': [0.0],\n",
    "                                    'estimator__gamma': ['scale', 'auto'],\n",
    "                                    'estimator__C': [0.1, 1, 10, 50, 100],\n",
    "                                    'estimator__epsilon': [0.01, 0.1, 0.2, 0.5, 1] \n",
    "    }\n",
    "]"
   ]
  },
  {
   "cell_type": "code",
   "execution_count": null,
   "id": "72df4370-2a0d-495b-8bcf-5b44035a474e",
   "metadata": {},
   "outputs": [],
   "source": [
    "grid_search_cup = GridSearchCV(\n",
    "    MultiOutputRegressor(SVR()), \n",
    "    grid_search_spaces_cup, \n",
    "    cv=KFold(n_splits=N_SPLITS, shuffle=True, random_state=RANDOM_STATE),\n",
    "    scoring=make_scorer(mean_euclidean_error, greater_is_better = False),\n",
    "    verbose=1\n",
    ")\n",
    "\n",
    "grid_search_cup.fit(x_train_cup, y_train_cup)"
   ]
  },
  {
   "cell_type": "code",
   "execution_count": null,
   "id": "3a9c95c4-b5a2-4e2f-9ce2-15d17e985e00",
   "metadata": {},
   "outputs": [],
   "source": [
    "best_configs_cup = tuning_search_top_configs(grid_search_cup.cv_results_) # top k config"
   ]
  },
  {
   "cell_type": "markdown",
   "id": "460667d9-b4b8-44f6-944a-d17e07c6dcad",
   "metadata": {
    "tags": []
   },
   "source": [
    "### Random Search"
   ]
  },
  {
   "cell_type": "code",
   "execution_count": null,
   "id": "f2214ecb-d8dc-404e-a94f-e45c5802ba9c",
   "metadata": {},
   "outputs": [],
   "source": [
    "best_params = grid_search_cup.best_params_\n",
    "print(best_params)"
   ]
  },
  {
   "cell_type": "code",
   "execution_count": null,
   "id": "e303ebd3-c5ca-4d8f-9d15-3c980897a4eb",
   "metadata": {},
   "outputs": [],
   "source": [
    "random_search_spaces_cup = {\n",
    "    'estimator__C': uniform(max(0.1, best_params['estimator__C'] * 0.5), best_params['estimator__C'] * 2),\n",
    "    'estimator__epsilon': uniform(max(0.01, best_params['estimator__epsilon'] * 0.8), best_params['estimator__epsilon'] * 1.3),\n",
    "    'estimator__kernel': [best_params['estimator__kernel']],\n",
    "    'estimator__gamma': [best_params['estimator__gamma']],\n",
    "}\n",
    "\n",
    "# uniform(loc, scale) => [loc, loc + scale] (if C=100 => [50, 250])\n",
    "# If kernel = 'poly' add 'estimator__degree': [best_params['estimator__degree']] to the dict and as parameter in the validation_curve (next cell)"
   ]
  },
  {
   "cell_type": "code",
   "execution_count": null,
   "id": "54b51bab-1232-469d-bbfa-988876d757f6",
   "metadata": {},
   "outputs": [],
   "source": [
    "# Validation curves using random search intervals\n",
    "param_name = \"estimator__C\"\n",
    "param_range = np.linspace(max(0.1, best_params['estimator__C'] * 0.5), best_params['estimator__C'] * 2 + max(0.1, best_params['estimator__C'] * 0.5))\n",
    "epsilon_range = np.linspace(max(0.01, best_params['estimator__epsilon'] * 0.8), best_params['estimator__epsilon'] * 1.3 + max(0.01, best_params['estimator__epsilon'] * 0.8) , 4)\n",
    "figure, axis = plt.subplots(2, 2)\n",
    "min_train_scores=[]\n",
    "min_test_scores=[]\n",
    "\n",
    "for (epsilon, i, j) in zip(epsilon_range, [0,0,1,1], [0,1,0,1]):\n",
    "    train_scores, test_scores = validation_curve(MultiOutputRegressor(SVR(kernel= best_params['estimator__kernel'], \n",
    "                                                     gamma = best_params['estimator__gamma'], \n",
    "                                                     epsilon=epsilon)), \n",
    "                                                 x_train_cup, \n",
    "                                                 y_train_cup, \n",
    "                                                 param_name=param_name, \n",
    "                                                 param_range=param_range,\n",
    "                                                 cv=KFold(n_splits=5, shuffle=True, random_state=128),\n",
    "                                                 scoring= make_scorer(mean_euclidean_error, greater_is_better = False),\n",
    "                                                 verbose=1)\n",
    "    \n",
    "    min_train_scores.append(round(np.max(train_scores),4)) #score is negative\n",
    "    min_test_scores.append(round(np.max(test_scores),4)) \n",
    "                                          \n",
    "    display = ValidationCurveDisplay(param_name=param_name, \n",
    "                                     param_range=param_range,\n",
    "                                     train_scores=train_scores, \n",
    "                                     test_scores=test_scores,\n",
    "                                     score_name=\"MEE\")\n",
    "    display.plot(ax=axis[i,j], negate_score = True)\n",
    "    axis[i,j].set_title('epsilon = %1.3f' %epsilon)\n",
    "\n",
    "figure.tight_layout()\n",
    "plt.show()\n",
    "print(f\"min_train_scores = {min_train_scores}\")\n",
    "print(f\"min_test_scores = {min_test_scores}\")"
   ]
  },
  {
   "cell_type": "code",
   "execution_count": null,
   "id": "ae1d8641-e154-42bb-b9ed-db8ba63c4194",
   "metadata": {},
   "outputs": [],
   "source": [
    "random_search_cup = RandomizedSearchCV(\n",
    "    MultiOutputRegressor(SVR()), \n",
    "    random_search_spaces_cup, \n",
    "    n_iter=100, # number of configs sampled (do >100)\n",
    "    cv=KFold(n_splits=N_SPLITS, shuffle=True, random_state=RANDOM_STATE),\n",
    "    scoring=make_scorer(mean_euclidean_error, greater_is_better = False),\n",
    "    verbose=1,\n",
    "    random_state=RANDOM_STATE\n",
    ")\n",
    "\n",
    "random_search_cup.fit(x_train_cup, y_train_cup)"
   ]
  },
  {
   "cell_type": "code",
   "execution_count": null,
   "id": "f5e1af2a-a444-4acf-bf60-5a2ead314b0c",
   "metadata": {},
   "outputs": [],
   "source": [
    "best_score_grid = grid_search_cup.best_score_\n",
    "best_score_random = random_search_cup.best_score_\n",
    "\n",
    "# Check if best result is from GridSearc or RandomSearch\n",
    "if best_score_random > best_score_grid:\n",
    "    print(\"Best configuration from RandomizedSearch:\\n\")\n",
    "    best_params = random_search_cup.best_params_\n",
    "    print(best_params)\n",
    "else:\n",
    "    print(\"GridSearchCV resulted in the best configuration.\")"
   ]
  },
  {
   "cell_type": "markdown",
   "id": "fadcd8b7-e3bf-4aa9-8f18-744c65fc25fc",
   "metadata": {},
   "source": [
    "## Training - Testing"
   ]
  },
  {
   "cell_type": "code",
   "execution_count": null,
   "id": "19f5ab26-8627-43f9-9968-fd5096c741b3",
   "metadata": {},
   "outputs": [],
   "source": [
    "#best_params = {k.replace('estimator__', ''): v for k, v in best_params.items()}\n",
    "\n",
    "best_params = {\n",
    "    'C': 2000,\n",
    "    'epsilon': 0.07,\n",
    "    'kernel': 'rbf',\n",
    "    'gamma': 'scale',\n",
    "}\n",
    "\n",
    "multi_svr = MultiOutputRegressor(SVR(**best_params))\n",
    "multi_svr.fit(x_train_cup, y_train_cup)"
   ]
  },
  {
   "cell_type": "code",
   "execution_count": null,
   "id": "49a8da1f-ba60-4c86-aacb-f1af51696aa5",
   "metadata": {},
   "outputs": [],
   "source": [
    "print('-- TRAINING --')\n",
    "mee_train_cup = mean_euclidean_error(y_train_cup, multi_svr.predict(x_train_cup))\n",
    "mse_train_cup = mean_squared_error(y_train_cup, multi_svr.predict(x_train_cup))\n",
    "print(f'Loss (MSE): {mse_train_cup:.4f} - MEE: {mee_train_cup:.4f}')"
   ]
  },
  {
   "cell_type": "code",
   "execution_count": null,
   "id": "08de7e47-acbf-4cdc-9a67-e239cb609d75",
   "metadata": {},
   "outputs": [],
   "source": [
    "print('-- INTERNAL TEST --')\n",
    "mee_internal_test_cup = mean_euclidean_error(y_internal_test_cup, multi_svr.predict(x_internal_test_cup))\n",
    "mse_internal_test_cup = mean_squared_error(y_internal_test_cup, multi_svr.predict(x_internal_test_cup))\n",
    "print(f'Loss (MSE): {mse_internal_test_cup:.4f} - MEE: {mee_internal_test_cup:.4f}')"
   ]
  },
  {
   "cell_type": "code",
   "execution_count": null,
   "id": "568d5ce9-c2cf-4ca4-9dbf-c2cf7ed9ff48",
   "metadata": {},
   "outputs": [],
   "source": [
    "# Blind test set predictions\n",
    "blind_test_preds_cup = multi_svr.predict(x_test_cup)"
   ]
  },
  {
   "cell_type": "markdown",
   "id": "635fb40d-fea2-4780-a1cb-459be883339d",
   "metadata": {},
   "source": [
    "## Store results"
   ]
  },
  {
   "cell_type": "code",
   "execution_count": null,
   "id": "44615d4f-ac8a-4c6a-a10b-89cd8e3411be",
   "metadata": {},
   "outputs": [],
   "source": [
    "best_index = grid_search_cup.best_index_\n",
    "mee_mean_score = -grid_search_cup.cv_results_['mean_test_score'][best_index]\n",
    "mee_std_dev = std_validation_error = grid_search_cup.cv_results_['std_test_score'][best_index]\n",
    "\n",
    "report_cup = {\n",
    "    'train': {'mse': mse_train_cup, 'mee': mee_train_cup},\n",
    "    'validation': {'mean_mee': mee_mean_score, 'std_dev_mee': mee_std_dev},\n",
    "    'internal_test': {'mse': mse_internal_test_cup, 'mee': mee_internal_test_cup},\n",
    "}\n",
    "\n",
    "store_cup_result(results_dir + '/CUP/', best_params, report_cup, blind_test_preds_cup)"
   ]
  },
  {
   "cell_type": "code",
   "execution_count": null,
   "id": "058435e4-0b17-4015-a5af-9186928c2938",
   "metadata": {},
   "outputs": [],
   "source": []
  }
 ],
 "metadata": {
  "kernelspec": {
   "display_name": "hlt",
   "language": "python",
   "name": "hlt"
  },
  "language_info": {
   "codemirror_mode": {
    "name": "ipython",
    "version": 3
   },
   "file_extension": ".py",
   "mimetype": "text/x-python",
   "name": "python",
   "nbconvert_exporter": "python",
   "pygments_lexer": "ipython3",
   "version": "3.9.7"
  }
 },
 "nbformat": 4,
 "nbformat_minor": 5
}
