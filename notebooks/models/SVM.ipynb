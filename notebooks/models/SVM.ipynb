{
 "cells": [
  {
   "cell_type": "markdown",
   "id": "59d3416e-3aee-496b-9a46-d86fab3fe008",
   "metadata": {
    "tags": []
   },
   "source": [
    "## Imports"
   ]
  },
  {
   "cell_type": "code",
   "execution_count": 33,
   "id": "15985a7e-4206-4f13-aaad-d38982df5f10",
   "metadata": {},
   "outputs": [
    {
     "name": "stdout",
     "output_type": "stream",
     "text": [
      "The autoreload extension is already loaded. To reload it, use:\n",
      "  %reload_ext autoreload\n"
     ]
    }
   ],
   "source": [
    "import os\n",
    "import sys\n",
    "\n",
    "import numpy as np\n",
    "import pandas as pd\n",
    "import matplotlib.pyplot as plt\n",
    "\n",
    "from sklearn.svm import SVC, SVR\n",
    "from sklearn.metrics import accuracy_score, classification_report, make_scorer, mean_squared_error\n",
    "from sklearn.model_selection import GridSearchCV, StratifiedKFold, KFold, train_test_split, ValidationCurveDisplay, validation_curve\n",
    "#from sklearn.multioutput import MultiOutputRegressor\n",
    "\n",
    "dir_parts = os.getcwd().split(os.path.sep)\n",
    "root_index = dir_parts.index('ML-B-main')\n",
    "root_path = os.path.sep.join(dir_parts[:root_index + 1])\n",
    "sys.path.append(root_path + '/code/')\n",
    "from data.data_config import Dataset\n",
    "from data.data_utils import load_monk, load_cup, store_monk_result, store_cup_result\n",
    "from hyperparameter_tuning import grid_search_top_configs\n",
    "from training.metrics import mean_euclidean_error\n",
    "\n",
    "%load_ext autoreload\n",
    "%autoreload 2"
   ]
  },
  {
   "cell_type": "markdown",
   "id": "796c5562-6b4f-4eb0-bf78-8850ccc95a88",
   "metadata": {
    "tags": []
   },
   "source": [
    "# SVM\n",
    "In this notebook we test a **SVC** and a **SVR** w.r.t. the tasks at hand, i.e. the three MONK's problems and the CUP dataset respectively."
   ]
  },
  {
   "cell_type": "code",
   "execution_count": 11,
   "id": "5e103d7c-0cc6-4f8c-89a9-aed6653b1abf",
   "metadata": {
    "tags": []
   },
   "outputs": [],
   "source": [
    "MODEL_NAME = 'SVM'"
   ]
  },
  {
   "cell_type": "markdown",
   "id": "84564330-d564-4700-9865-88576073b71b",
   "metadata": {
    "tags": []
   },
   "source": [
    "## Path"
   ]
  },
  {
   "cell_type": "code",
   "execution_count": 12,
   "id": "0b342ae0-1ef2-4bdb-9128-cd10ac83adf9",
   "metadata": {},
   "outputs": [],
   "source": [
    "# Directories\n",
    "results_dir = root_path + '/results/' + MODEL_NAME\n",
    "\n",
    "# Filepaths (MONK)\n",
    "m1_dev_path, m1_test_path = Dataset.MONK_1.dev_path, Dataset.MONK_1.test_path # MONK 1\n",
    "m2_dev_path, m2_test_path = Dataset.MONK_2.dev_path, Dataset.MONK_2.test_path # MONK 2\n",
    "m3_dev_path, m3_test_path = Dataset.MONK_3.dev_path, Dataset.MONK_3.test_path # MONK 3\n",
    "\n",
    "# Filepaths (CUP)\n",
    "cup_dev_path, cup_test_path = Dataset.CUP.dev_path, Dataset.CUP.test_path"
   ]
  },
  {
   "cell_type": "markdown",
   "id": "859824b9-6c6c-4f09-b4d9-ad5f9c5e2b29",
   "metadata": {
    "tags": []
   },
   "source": [
    "# MONK-1"
   ]
  },
  {
   "cell_type": "code",
   "execution_count": 32,
   "id": "83acdfd1-f9c0-4e22-9bae-3998e0273ca1",
   "metadata": {},
   "outputs": [],
   "source": [
    "# Load MONK-1\n",
    "x_dev_m1, y_dev_m1, x_test_m1, y_test_m1 = load_monk(m1_dev_path, m1_test_path)"
   ]
  },
  {
   "cell_type": "markdown",
   "id": "eaba9b76-776b-4385-b71c-2cd30f5fed9d",
   "metadata": {},
   "source": [
    "First of all, we define the grid search spaces for the SVC that we're going to use for all three MONK's problems."
   ]
  },
  {
   "cell_type": "code",
   "execution_count": 33,
   "id": "45831b92-a6ae-4950-9a24-475f37115343",
   "metadata": {
    "tags": []
   },
   "outputs": [],
   "source": [
    "# hparams grid for grid search\n",
    "#C=np.logspace(-2, 2, 5)\n",
    "#gamma=np.logspace(-9, 3, 13)\n",
    "clf_hparams_spaces = [\n",
    "    {\"kernel\": [\"rbf\"], \"gamma\": [1e-4, 1e-3, 1e-2, 0.1, 'scale', 'auto'], \"C\": [0.01, 0.1, 1, 10, 100, 1000]},\n",
    "    {\"kernel\": [\"linear\"], \"C\": [1, 10, 100, 1000]},\n",
    "    {\"kernel\": [\"poly\"], \"degree\": [2,3,4,5], \"gamma\": [1e-4, 1e-3, 1e-2, 0.1, 'scale', 'auto'], \"C\": [0.01, 0.1, 1, 10, 100, 1000], \"coef0\": [0.0]}\n",
    "]"
   ]
  },
  {
   "cell_type": "markdown",
   "id": "94fcd744-bfd1-4316-b15d-ab6689988460",
   "metadata": {
    "tags": []
   },
   "source": [
    "## Grid search\n",
    "Grid search is a simple hyper-parameter tuning techniques useful for finding the best configuration for a specific ML model. It involves:\n",
    "- defining a grid of hparams values\n",
    "- systematically test all possible combinations\n"
   ]
  },
  {
   "cell_type": "code",
   "execution_count": 61,
   "id": "533e2fb2-2f18-4f54-88cc-f6f9df08db60",
   "metadata": {
    "scrolled": true
   },
   "outputs": [
    {
     "name": "stdout",
     "output_type": "stream",
     "text": [
      "Fitting 5 folds for each of 184 candidates, totalling 920 fits\n"
     ]
    },
    {
     "data": {
      "text/html": [
       "<style>#sk-container-id-12 {color: black;}#sk-container-id-12 pre{padding: 0;}#sk-container-id-12 div.sk-toggleable {background-color: white;}#sk-container-id-12 label.sk-toggleable__label {cursor: pointer;display: block;width: 100%;margin-bottom: 0;padding: 0.3em;box-sizing: border-box;text-align: center;}#sk-container-id-12 label.sk-toggleable__label-arrow:before {content: \"▸\";float: left;margin-right: 0.25em;color: #696969;}#sk-container-id-12 label.sk-toggleable__label-arrow:hover:before {color: black;}#sk-container-id-12 div.sk-estimator:hover label.sk-toggleable__label-arrow:before {color: black;}#sk-container-id-12 div.sk-toggleable__content {max-height: 0;max-width: 0;overflow: hidden;text-align: left;background-color: #f0f8ff;}#sk-container-id-12 div.sk-toggleable__content pre {margin: 0.2em;color: black;border-radius: 0.25em;background-color: #f0f8ff;}#sk-container-id-12 input.sk-toggleable__control:checked~div.sk-toggleable__content {max-height: 200px;max-width: 100%;overflow: auto;}#sk-container-id-12 input.sk-toggleable__control:checked~label.sk-toggleable__label-arrow:before {content: \"▾\";}#sk-container-id-12 div.sk-estimator input.sk-toggleable__control:checked~label.sk-toggleable__label {background-color: #d4ebff;}#sk-container-id-12 div.sk-label input.sk-toggleable__control:checked~label.sk-toggleable__label {background-color: #d4ebff;}#sk-container-id-12 input.sk-hidden--visually {border: 0;clip: rect(1px 1px 1px 1px);clip: rect(1px, 1px, 1px, 1px);height: 1px;margin: -1px;overflow: hidden;padding: 0;position: absolute;width: 1px;}#sk-container-id-12 div.sk-estimator {font-family: monospace;background-color: #f0f8ff;border: 1px dotted black;border-radius: 0.25em;box-sizing: border-box;margin-bottom: 0.5em;}#sk-container-id-12 div.sk-estimator:hover {background-color: #d4ebff;}#sk-container-id-12 div.sk-parallel-item::after {content: \"\";width: 100%;border-bottom: 1px solid gray;flex-grow: 1;}#sk-container-id-12 div.sk-label:hover label.sk-toggleable__label {background-color: #d4ebff;}#sk-container-id-12 div.sk-serial::before {content: \"\";position: absolute;border-left: 1px solid gray;box-sizing: border-box;top: 0;bottom: 0;left: 50%;z-index: 0;}#sk-container-id-12 div.sk-serial {display: flex;flex-direction: column;align-items: center;background-color: white;padding-right: 0.2em;padding-left: 0.2em;position: relative;}#sk-container-id-12 div.sk-item {position: relative;z-index: 1;}#sk-container-id-12 div.sk-parallel {display: flex;align-items: stretch;justify-content: center;background-color: white;position: relative;}#sk-container-id-12 div.sk-item::before, #sk-container-id-12 div.sk-parallel-item::before {content: \"\";position: absolute;border-left: 1px solid gray;box-sizing: border-box;top: 0;bottom: 0;left: 50%;z-index: -1;}#sk-container-id-12 div.sk-parallel-item {display: flex;flex-direction: column;z-index: 1;position: relative;background-color: white;}#sk-container-id-12 div.sk-parallel-item:first-child::after {align-self: flex-end;width: 50%;}#sk-container-id-12 div.sk-parallel-item:last-child::after {align-self: flex-start;width: 50%;}#sk-container-id-12 div.sk-parallel-item:only-child::after {width: 0;}#sk-container-id-12 div.sk-dashed-wrapped {border: 1px dashed gray;margin: 0 0.4em 0.5em 0.4em;box-sizing: border-box;padding-bottom: 0.4em;background-color: white;}#sk-container-id-12 div.sk-label label {font-family: monospace;font-weight: bold;display: inline-block;line-height: 1.2em;}#sk-container-id-12 div.sk-label-container {text-align: center;}#sk-container-id-12 div.sk-container {/* jupyter's `normalize.less` sets `[hidden] { display: none; }` but bootstrap.min.css set `[hidden] { display: none !important; }` so we also need the `!important` here to be able to override the default hidden behavior on the sphinx rendered scikit-learn.org. See: https://github.com/scikit-learn/scikit-learn/issues/21755 */display: inline-block !important;position: relative;}#sk-container-id-12 div.sk-text-repr-fallback {display: none;}</style><div id=\"sk-container-id-12\" class=\"sk-top-container\"><div class=\"sk-text-repr-fallback\"><pre>GridSearchCV(cv=StratifiedKFold(n_splits=5, random_state=128, shuffle=True),\n",
       "             estimator=SVC(),\n",
       "             param_grid=[{&#x27;C&#x27;: [0.01, 0.1, 1, 10, 100, 1000],\n",
       "                          &#x27;gamma&#x27;: [0.0001, 0.001, 0.01, 0.1, &#x27;scale&#x27;, &#x27;auto&#x27;],\n",
       "                          &#x27;kernel&#x27;: [&#x27;rbf&#x27;]},\n",
       "                         {&#x27;C&#x27;: [1, 10, 100, 1000], &#x27;kernel&#x27;: [&#x27;linear&#x27;]},\n",
       "                         {&#x27;C&#x27;: [0.01, 0.1, 1, 10, 100, 1000], &#x27;coef0&#x27;: [0.0],\n",
       "                          &#x27;degree&#x27;: [2, 3, 4, 5],\n",
       "                          &#x27;gamma&#x27;: [0.0001, 0.001, 0.01, 0.1, &#x27;scale&#x27;, &#x27;auto&#x27;],\n",
       "                          &#x27;kernel&#x27;: [&#x27;poly&#x27;]}],\n",
       "             scoring=&#x27;accuracy&#x27;, verbose=1)</pre><b>In a Jupyter environment, please rerun this cell to show the HTML representation or trust the notebook. <br />On GitHub, the HTML representation is unable to render, please try loading this page with nbviewer.org.</b></div><div class=\"sk-container\" hidden><div class=\"sk-item sk-dashed-wrapped\"><div class=\"sk-label-container\"><div class=\"sk-label sk-toggleable\"><input class=\"sk-toggleable__control sk-hidden--visually\" id=\"sk-estimator-id-22\" type=\"checkbox\" ><label for=\"sk-estimator-id-22\" class=\"sk-toggleable__label sk-toggleable__label-arrow\">GridSearchCV</label><div class=\"sk-toggleable__content\"><pre>GridSearchCV(cv=StratifiedKFold(n_splits=5, random_state=128, shuffle=True),\n",
       "             estimator=SVC(),\n",
       "             param_grid=[{&#x27;C&#x27;: [0.01, 0.1, 1, 10, 100, 1000],\n",
       "                          &#x27;gamma&#x27;: [0.0001, 0.001, 0.01, 0.1, &#x27;scale&#x27;, &#x27;auto&#x27;],\n",
       "                          &#x27;kernel&#x27;: [&#x27;rbf&#x27;]},\n",
       "                         {&#x27;C&#x27;: [1, 10, 100, 1000], &#x27;kernel&#x27;: [&#x27;linear&#x27;]},\n",
       "                         {&#x27;C&#x27;: [0.01, 0.1, 1, 10, 100, 1000], &#x27;coef0&#x27;: [0.0],\n",
       "                          &#x27;degree&#x27;: [2, 3, 4, 5],\n",
       "                          &#x27;gamma&#x27;: [0.0001, 0.001, 0.01, 0.1, &#x27;scale&#x27;, &#x27;auto&#x27;],\n",
       "                          &#x27;kernel&#x27;: [&#x27;poly&#x27;]}],\n",
       "             scoring=&#x27;accuracy&#x27;, verbose=1)</pre></div></div></div><div class=\"sk-parallel\"><div class=\"sk-parallel-item\"><div class=\"sk-item\"><div class=\"sk-label-container\"><div class=\"sk-label sk-toggleable\"><input class=\"sk-toggleable__control sk-hidden--visually\" id=\"sk-estimator-id-23\" type=\"checkbox\" ><label for=\"sk-estimator-id-23\" class=\"sk-toggleable__label sk-toggleable__label-arrow\">estimator: SVC</label><div class=\"sk-toggleable__content\"><pre>SVC()</pre></div></div></div><div class=\"sk-serial\"><div class=\"sk-item\"><div class=\"sk-estimator sk-toggleable\"><input class=\"sk-toggleable__control sk-hidden--visually\" id=\"sk-estimator-id-24\" type=\"checkbox\" ><label for=\"sk-estimator-id-24\" class=\"sk-toggleable__label sk-toggleable__label-arrow\">SVC</label><div class=\"sk-toggleable__content\"><pre>SVC()</pre></div></div></div></div></div></div></div></div></div></div>"
      ],
      "text/plain": [
       "GridSearchCV(cv=StratifiedKFold(n_splits=5, random_state=128, shuffle=True),\n",
       "             estimator=SVC(),\n",
       "             param_grid=[{'C': [0.01, 0.1, 1, 10, 100, 1000],\n",
       "                          'gamma': [0.0001, 0.001, 0.01, 0.1, 'scale', 'auto'],\n",
       "                          'kernel': ['rbf']},\n",
       "                         {'C': [1, 10, 100, 1000], 'kernel': ['linear']},\n",
       "                         {'C': [0.01, 0.1, 1, 10, 100, 1000], 'coef0': [0.0],\n",
       "                          'degree': [2, 3, 4, 5],\n",
       "                          'gamma': [0.0001, 0.001, 0.01, 0.1, 'scale', 'auto'],\n",
       "                          'kernel': ['poly']}],\n",
       "             scoring='accuracy', verbose=1)"
      ]
     },
     "execution_count": 61,
     "metadata": {},
     "output_type": "execute_result"
    }
   ],
   "source": [
    "# perform grid search with KFold\n",
    "\n",
    "grid_search_m1 = GridSearchCV(\n",
    "    SVC(),\n",
    "    param_grid=clf_hparams_spaces,\n",
    "    cv=StratifiedKFold(n_splits=5, shuffle=True, random_state=128),\n",
    "    scoring='accuracy',\n",
    "    verbose=1\n",
    ")\n",
    "\n",
    "grid_search_m1.fit(x_dev_m1, y_dev_m1)\n"
   ]
  },
  {
   "cell_type": "code",
   "execution_count": 62,
   "id": "ce7c6596-ab4e-4b5c-9cce-a257498ca99d",
   "metadata": {},
   "outputs": [
    {
     "name": "stdout",
     "output_type": "stream",
     "text": [
      "Model rank 1 - Config: {'C': 1000, 'gamma': 0.01, 'kernel': 'rbf'}\n",
      "Mean score 1.0000 - Std score: 0.0000\n",
      "\n",
      "Model rank 2 - Config: {'C': 10, 'coef0': 0.0, 'degree': 2, 'gamma': 'scale', 'kernel': 'poly'}\n",
      "Mean score 1.0000 - Std score: 0.0000\n",
      "\n",
      "Model rank 3 - Config: {'C': 100, 'gamma': 'auto', 'kernel': 'rbf'}\n",
      "Mean score 1.0000 - Std score: 0.0000\n",
      "\n",
      "Model rank 4 - Config: {'C': 100, 'coef0': 0.0, 'degree': 2, 'gamma': 0.1, 'kernel': 'poly'}\n",
      "Mean score 1.0000 - Std score: 0.0000\n",
      "\n",
      "Model rank 5 - Config: {'C': 100, 'coef0': 0.0, 'degree': 2, 'gamma': 'scale', 'kernel': 'poly'}\n",
      "Mean score 1.0000 - Std score: 0.0000\n",
      "\n"
     ]
    }
   ],
   "source": [
    "best_configs_m1, candidates_m1 = grid_search_top_configs(grid_search_m1.cv_results_) # top k config"
   ]
  },
  {
   "cell_type": "code",
   "execution_count": 63,
   "id": "51d80917-9ca0-4de4-8db8-045183494e9f",
   "metadata": {},
   "outputs": [
    {
     "data": {
      "text/html": [
       "<style>#sk-container-id-13 {color: black;}#sk-container-id-13 pre{padding: 0;}#sk-container-id-13 div.sk-toggleable {background-color: white;}#sk-container-id-13 label.sk-toggleable__label {cursor: pointer;display: block;width: 100%;margin-bottom: 0;padding: 0.3em;box-sizing: border-box;text-align: center;}#sk-container-id-13 label.sk-toggleable__label-arrow:before {content: \"▸\";float: left;margin-right: 0.25em;color: #696969;}#sk-container-id-13 label.sk-toggleable__label-arrow:hover:before {color: black;}#sk-container-id-13 div.sk-estimator:hover label.sk-toggleable__label-arrow:before {color: black;}#sk-container-id-13 div.sk-toggleable__content {max-height: 0;max-width: 0;overflow: hidden;text-align: left;background-color: #f0f8ff;}#sk-container-id-13 div.sk-toggleable__content pre {margin: 0.2em;color: black;border-radius: 0.25em;background-color: #f0f8ff;}#sk-container-id-13 input.sk-toggleable__control:checked~div.sk-toggleable__content {max-height: 200px;max-width: 100%;overflow: auto;}#sk-container-id-13 input.sk-toggleable__control:checked~label.sk-toggleable__label-arrow:before {content: \"▾\";}#sk-container-id-13 div.sk-estimator input.sk-toggleable__control:checked~label.sk-toggleable__label {background-color: #d4ebff;}#sk-container-id-13 div.sk-label input.sk-toggleable__control:checked~label.sk-toggleable__label {background-color: #d4ebff;}#sk-container-id-13 input.sk-hidden--visually {border: 0;clip: rect(1px 1px 1px 1px);clip: rect(1px, 1px, 1px, 1px);height: 1px;margin: -1px;overflow: hidden;padding: 0;position: absolute;width: 1px;}#sk-container-id-13 div.sk-estimator {font-family: monospace;background-color: #f0f8ff;border: 1px dotted black;border-radius: 0.25em;box-sizing: border-box;margin-bottom: 0.5em;}#sk-container-id-13 div.sk-estimator:hover {background-color: #d4ebff;}#sk-container-id-13 div.sk-parallel-item::after {content: \"\";width: 100%;border-bottom: 1px solid gray;flex-grow: 1;}#sk-container-id-13 div.sk-label:hover label.sk-toggleable__label {background-color: #d4ebff;}#sk-container-id-13 div.sk-serial::before {content: \"\";position: absolute;border-left: 1px solid gray;box-sizing: border-box;top: 0;bottom: 0;left: 50%;z-index: 0;}#sk-container-id-13 div.sk-serial {display: flex;flex-direction: column;align-items: center;background-color: white;padding-right: 0.2em;padding-left: 0.2em;position: relative;}#sk-container-id-13 div.sk-item {position: relative;z-index: 1;}#sk-container-id-13 div.sk-parallel {display: flex;align-items: stretch;justify-content: center;background-color: white;position: relative;}#sk-container-id-13 div.sk-item::before, #sk-container-id-13 div.sk-parallel-item::before {content: \"\";position: absolute;border-left: 1px solid gray;box-sizing: border-box;top: 0;bottom: 0;left: 50%;z-index: -1;}#sk-container-id-13 div.sk-parallel-item {display: flex;flex-direction: column;z-index: 1;position: relative;background-color: white;}#sk-container-id-13 div.sk-parallel-item:first-child::after {align-self: flex-end;width: 50%;}#sk-container-id-13 div.sk-parallel-item:last-child::after {align-self: flex-start;width: 50%;}#sk-container-id-13 div.sk-parallel-item:only-child::after {width: 0;}#sk-container-id-13 div.sk-dashed-wrapped {border: 1px dashed gray;margin: 0 0.4em 0.5em 0.4em;box-sizing: border-box;padding-bottom: 0.4em;background-color: white;}#sk-container-id-13 div.sk-label label {font-family: monospace;font-weight: bold;display: inline-block;line-height: 1.2em;}#sk-container-id-13 div.sk-label-container {text-align: center;}#sk-container-id-13 div.sk-container {/* jupyter's `normalize.less` sets `[hidden] { display: none; }` but bootstrap.min.css set `[hidden] { display: none !important; }` so we also need the `!important` here to be able to override the default hidden behavior on the sphinx rendered scikit-learn.org. See: https://github.com/scikit-learn/scikit-learn/issues/21755 */display: inline-block !important;position: relative;}#sk-container-id-13 div.sk-text-repr-fallback {display: none;}</style><div id=\"sk-container-id-13\" class=\"sk-top-container\"><div class=\"sk-text-repr-fallback\"><pre>SVC(C=100, gamma=&#x27;auto&#x27;)</pre><b>In a Jupyter environment, please rerun this cell to show the HTML representation or trust the notebook. <br />On GitHub, the HTML representation is unable to render, please try loading this page with nbviewer.org.</b></div><div class=\"sk-container\" hidden><div class=\"sk-item\"><div class=\"sk-estimator sk-toggleable\"><input class=\"sk-toggleable__control sk-hidden--visually\" id=\"sk-estimator-id-25\" type=\"checkbox\" checked><label for=\"sk-estimator-id-25\" class=\"sk-toggleable__label sk-toggleable__label-arrow\">SVC</label><div class=\"sk-toggleable__content\"><pre>SVC(C=100, gamma=&#x27;auto&#x27;)</pre></div></div></div></div></div>"
      ],
      "text/plain": [
       "SVC(C=100, gamma='auto')"
      ]
     },
     "execution_count": 63,
     "metadata": {},
     "output_type": "execute_result"
    }
   ],
   "source": [
    "# Create a SVC with the best hparams\n",
    "#clf = SVC(**grid_search_m1.best_params_)\n",
    "clf = SVC(**grid_search_cup.cv_results_['params'][candidates_m1[2]]) #Uses different model rank (candidates[1] = best_params_)\n",
    "\n",
    "# Train the model\n",
    "clf.fit(x_dev_m1, y_dev_m1)\n"
   ]
  },
  {
   "cell_type": "code",
   "execution_count": 64,
   "id": "e034c525-0c5a-4737-9186-4cfc0b61ae15",
   "metadata": {},
   "outputs": [
    {
     "name": "stdout",
     "output_type": "stream",
     "text": [
      "-- DEVELOPMENT --\n",
      "              precision    recall  f1-score   support\n",
      "\n",
      "           0       1.00      1.00      1.00        62\n",
      "           1       1.00      1.00      1.00        62\n",
      "\n",
      "    accuracy                           1.00       124\n",
      "   macro avg       1.00      1.00      1.00       124\n",
      "weighted avg       1.00      1.00      1.00       124\n",
      "\n",
      "Accuracy_dev = 1.00\n",
      "MSE_dev = 0.0000\n"
     ]
    }
   ],
   "source": [
    "print('-- DEVELOPMENT --')\n",
    "print(classification_report(y_dev_m1, clf.predict(x_dev_m1)))\n",
    "accuracy_dev_m1 = accuracy_score(y_dev_m1, clf.predict(x_dev_m1))\n",
    "mse_dev_m1 = mean_squared_error(y_dev_m1, clf.predict(x_dev_m1))\n",
    "print(f\"Accuracy_dev = {accuracy_dev_m1:.2f}\")\n",
    "print(f\"MSE_dev = {mse_dev_m1:.4f}\")"
   ]
  },
  {
   "cell_type": "markdown",
   "id": "6084dbca-3f1e-40f7-bff2-5d3202dce053",
   "metadata": {},
   "source": [
    "- **Precision** is the ability of the classifier not to label as positive a sample that is negative:\n",
    "=> Precision = True Positive / (True Positive + False Positive)\n",
    "\n",
    "- **Recall** (or sensitivity) is the ability of the classifier to find all the positive samples:\n",
    "=> Recall = True Positive / (True Positive + False Negative)\n",
    "\n",
    "**Precision VS Recall**\n",
    "- Use precision when the cost of false positives is high: In situations where misclassifying an instance as positive has serious consequences, precision is a better choice. For example, in medical diagnosis.\n",
    "- Use recall when the cost of false negatives is high: When the consequence of misclassifying an instance as negative is severe, recall is a better choice. For example, in fraud detection.\n",
    "\n",
    "The **F1 score** is the harmonic mean of the precision and recall. It thus symmetrically represents both precision and recall in one metric (F1 score gives equal importance to precision and recall)\n",
    "=> F1 = (Precision * Recall) / (Precision + Recall)"
   ]
  },
  {
   "cell_type": "code",
   "execution_count": 65,
   "id": "38e328d0-7a8e-463d-b9f3-0b2bdd3700c9",
   "metadata": {},
   "outputs": [
    {
     "name": "stdout",
     "output_type": "stream",
     "text": [
      "-- TEST --\n",
      "              precision    recall  f1-score   support\n",
      "\n",
      "           0       1.00      1.00      1.00       216\n",
      "           1       1.00      1.00      1.00       216\n",
      "\n",
      "    accuracy                           1.00       432\n",
      "   macro avg       1.00      1.00      1.00       432\n",
      "weighted avg       1.00      1.00      1.00       432\n",
      "\n",
      "Accuracy_test = 1.00\n",
      "MSE_test = 0.0000\n"
     ]
    }
   ],
   "source": [
    "print('-- TEST --')\n",
    "report_test_m1 = classification_report(y_test_m1, clf.predict(x_test_m1))\n",
    "print(report_test_m1)\n",
    "accuracy_test_m1 = accuracy_score(y_test_m1, clf.predict(x_test_m1))\n",
    "mse_test_m1 = mean_squared_error(y_test_m1, clf.predict(x_test_m1))\n",
    "print(f\"Accuracy_test = {accuracy_test_m1:.2f}\")\n",
    "print(f\"MSE_test = {mse_test_m1:.4f}\")"
   ]
  },
  {
   "cell_type": "markdown",
   "id": "5d9a9e02-7de5-4fe0-8b53-5d7e98839b89",
   "metadata": {},
   "source": [
    "## Store results"
   ]
  },
  {
   "cell_type": "code",
   "execution_count": 66,
   "id": "4b65fea0-49fd-4f42-be28-e03a264f7d6a",
   "metadata": {},
   "outputs": [],
   "source": [
    "store_monk_result(results_dir + '/MONK1/', best_configs_m1, report_test_m1)"
   ]
  },
  {
   "cell_type": "markdown",
   "id": "b216aed0-5ba0-4816-a889-a3be455e73c9",
   "metadata": {},
   "source": [
    "# MONK-2"
   ]
  },
  {
   "cell_type": "code",
   "execution_count": 67,
   "id": "ed53f005-090c-42b0-8fc7-63b6d05bae63",
   "metadata": {},
   "outputs": [],
   "source": [
    "# Load MONK-2\n",
    "x_dev_m2, y_dev_m2, x_test_m2, y_test_m2 = load_monk(m2_dev_path, m2_test_path)"
   ]
  },
  {
   "cell_type": "code",
   "execution_count": 68,
   "id": "7f6feeba-d63e-416e-9461-753844ee76b4",
   "metadata": {},
   "outputs": [
    {
     "name": "stdout",
     "output_type": "stream",
     "text": [
      "Fitting 5 folds for each of 184 candidates, totalling 920 fits\n"
     ]
    },
    {
     "data": {
      "text/html": [
       "<style>#sk-container-id-14 {color: black;}#sk-container-id-14 pre{padding: 0;}#sk-container-id-14 div.sk-toggleable {background-color: white;}#sk-container-id-14 label.sk-toggleable__label {cursor: pointer;display: block;width: 100%;margin-bottom: 0;padding: 0.3em;box-sizing: border-box;text-align: center;}#sk-container-id-14 label.sk-toggleable__label-arrow:before {content: \"▸\";float: left;margin-right: 0.25em;color: #696969;}#sk-container-id-14 label.sk-toggleable__label-arrow:hover:before {color: black;}#sk-container-id-14 div.sk-estimator:hover label.sk-toggleable__label-arrow:before {color: black;}#sk-container-id-14 div.sk-toggleable__content {max-height: 0;max-width: 0;overflow: hidden;text-align: left;background-color: #f0f8ff;}#sk-container-id-14 div.sk-toggleable__content pre {margin: 0.2em;color: black;border-radius: 0.25em;background-color: #f0f8ff;}#sk-container-id-14 input.sk-toggleable__control:checked~div.sk-toggleable__content {max-height: 200px;max-width: 100%;overflow: auto;}#sk-container-id-14 input.sk-toggleable__control:checked~label.sk-toggleable__label-arrow:before {content: \"▾\";}#sk-container-id-14 div.sk-estimator input.sk-toggleable__control:checked~label.sk-toggleable__label {background-color: #d4ebff;}#sk-container-id-14 div.sk-label input.sk-toggleable__control:checked~label.sk-toggleable__label {background-color: #d4ebff;}#sk-container-id-14 input.sk-hidden--visually {border: 0;clip: rect(1px 1px 1px 1px);clip: rect(1px, 1px, 1px, 1px);height: 1px;margin: -1px;overflow: hidden;padding: 0;position: absolute;width: 1px;}#sk-container-id-14 div.sk-estimator {font-family: monospace;background-color: #f0f8ff;border: 1px dotted black;border-radius: 0.25em;box-sizing: border-box;margin-bottom: 0.5em;}#sk-container-id-14 div.sk-estimator:hover {background-color: #d4ebff;}#sk-container-id-14 div.sk-parallel-item::after {content: \"\";width: 100%;border-bottom: 1px solid gray;flex-grow: 1;}#sk-container-id-14 div.sk-label:hover label.sk-toggleable__label {background-color: #d4ebff;}#sk-container-id-14 div.sk-serial::before {content: \"\";position: absolute;border-left: 1px solid gray;box-sizing: border-box;top: 0;bottom: 0;left: 50%;z-index: 0;}#sk-container-id-14 div.sk-serial {display: flex;flex-direction: column;align-items: center;background-color: white;padding-right: 0.2em;padding-left: 0.2em;position: relative;}#sk-container-id-14 div.sk-item {position: relative;z-index: 1;}#sk-container-id-14 div.sk-parallel {display: flex;align-items: stretch;justify-content: center;background-color: white;position: relative;}#sk-container-id-14 div.sk-item::before, #sk-container-id-14 div.sk-parallel-item::before {content: \"\";position: absolute;border-left: 1px solid gray;box-sizing: border-box;top: 0;bottom: 0;left: 50%;z-index: -1;}#sk-container-id-14 div.sk-parallel-item {display: flex;flex-direction: column;z-index: 1;position: relative;background-color: white;}#sk-container-id-14 div.sk-parallel-item:first-child::after {align-self: flex-end;width: 50%;}#sk-container-id-14 div.sk-parallel-item:last-child::after {align-self: flex-start;width: 50%;}#sk-container-id-14 div.sk-parallel-item:only-child::after {width: 0;}#sk-container-id-14 div.sk-dashed-wrapped {border: 1px dashed gray;margin: 0 0.4em 0.5em 0.4em;box-sizing: border-box;padding-bottom: 0.4em;background-color: white;}#sk-container-id-14 div.sk-label label {font-family: monospace;font-weight: bold;display: inline-block;line-height: 1.2em;}#sk-container-id-14 div.sk-label-container {text-align: center;}#sk-container-id-14 div.sk-container {/* jupyter's `normalize.less` sets `[hidden] { display: none; }` but bootstrap.min.css set `[hidden] { display: none !important; }` so we also need the `!important` here to be able to override the default hidden behavior on the sphinx rendered scikit-learn.org. See: https://github.com/scikit-learn/scikit-learn/issues/21755 */display: inline-block !important;position: relative;}#sk-container-id-14 div.sk-text-repr-fallback {display: none;}</style><div id=\"sk-container-id-14\" class=\"sk-top-container\"><div class=\"sk-text-repr-fallback\"><pre>GridSearchCV(cv=StratifiedKFold(n_splits=5, random_state=128, shuffle=True),\n",
       "             estimator=SVC(),\n",
       "             param_grid=[{&#x27;C&#x27;: [0.01, 0.1, 1, 10, 100, 1000],\n",
       "                          &#x27;gamma&#x27;: [0.0001, 0.001, 0.01, 0.1, &#x27;scale&#x27;, &#x27;auto&#x27;],\n",
       "                          &#x27;kernel&#x27;: [&#x27;rbf&#x27;]},\n",
       "                         {&#x27;C&#x27;: [1, 10, 100, 1000], &#x27;kernel&#x27;: [&#x27;linear&#x27;]},\n",
       "                         {&#x27;C&#x27;: [0.01, 0.1, 1, 10, 100, 1000], &#x27;coef0&#x27;: [0.0],\n",
       "                          &#x27;degree&#x27;: [2, 3, 4, 5],\n",
       "                          &#x27;gamma&#x27;: [0.0001, 0.001, 0.01, 0.1, &#x27;scale&#x27;, &#x27;auto&#x27;],\n",
       "                          &#x27;kernel&#x27;: [&#x27;poly&#x27;]}],\n",
       "             scoring=&#x27;accuracy&#x27;, verbose=1)</pre><b>In a Jupyter environment, please rerun this cell to show the HTML representation or trust the notebook. <br />On GitHub, the HTML representation is unable to render, please try loading this page with nbviewer.org.</b></div><div class=\"sk-container\" hidden><div class=\"sk-item sk-dashed-wrapped\"><div class=\"sk-label-container\"><div class=\"sk-label sk-toggleable\"><input class=\"sk-toggleable__control sk-hidden--visually\" id=\"sk-estimator-id-26\" type=\"checkbox\" ><label for=\"sk-estimator-id-26\" class=\"sk-toggleable__label sk-toggleable__label-arrow\">GridSearchCV</label><div class=\"sk-toggleable__content\"><pre>GridSearchCV(cv=StratifiedKFold(n_splits=5, random_state=128, shuffle=True),\n",
       "             estimator=SVC(),\n",
       "             param_grid=[{&#x27;C&#x27;: [0.01, 0.1, 1, 10, 100, 1000],\n",
       "                          &#x27;gamma&#x27;: [0.0001, 0.001, 0.01, 0.1, &#x27;scale&#x27;, &#x27;auto&#x27;],\n",
       "                          &#x27;kernel&#x27;: [&#x27;rbf&#x27;]},\n",
       "                         {&#x27;C&#x27;: [1, 10, 100, 1000], &#x27;kernel&#x27;: [&#x27;linear&#x27;]},\n",
       "                         {&#x27;C&#x27;: [0.01, 0.1, 1, 10, 100, 1000], &#x27;coef0&#x27;: [0.0],\n",
       "                          &#x27;degree&#x27;: [2, 3, 4, 5],\n",
       "                          &#x27;gamma&#x27;: [0.0001, 0.001, 0.01, 0.1, &#x27;scale&#x27;, &#x27;auto&#x27;],\n",
       "                          &#x27;kernel&#x27;: [&#x27;poly&#x27;]}],\n",
       "             scoring=&#x27;accuracy&#x27;, verbose=1)</pre></div></div></div><div class=\"sk-parallel\"><div class=\"sk-parallel-item\"><div class=\"sk-item\"><div class=\"sk-label-container\"><div class=\"sk-label sk-toggleable\"><input class=\"sk-toggleable__control sk-hidden--visually\" id=\"sk-estimator-id-27\" type=\"checkbox\" ><label for=\"sk-estimator-id-27\" class=\"sk-toggleable__label sk-toggleable__label-arrow\">estimator: SVC</label><div class=\"sk-toggleable__content\"><pre>SVC()</pre></div></div></div><div class=\"sk-serial\"><div class=\"sk-item\"><div class=\"sk-estimator sk-toggleable\"><input class=\"sk-toggleable__control sk-hidden--visually\" id=\"sk-estimator-id-28\" type=\"checkbox\" ><label for=\"sk-estimator-id-28\" class=\"sk-toggleable__label sk-toggleable__label-arrow\">SVC</label><div class=\"sk-toggleable__content\"><pre>SVC()</pre></div></div></div></div></div></div></div></div></div></div>"
      ],
      "text/plain": [
       "GridSearchCV(cv=StratifiedKFold(n_splits=5, random_state=128, shuffle=True),\n",
       "             estimator=SVC(),\n",
       "             param_grid=[{'C': [0.01, 0.1, 1, 10, 100, 1000],\n",
       "                          'gamma': [0.0001, 0.001, 0.01, 0.1, 'scale', 'auto'],\n",
       "                          'kernel': ['rbf']},\n",
       "                         {'C': [1, 10, 100, 1000], 'kernel': ['linear']},\n",
       "                         {'C': [0.01, 0.1, 1, 10, 100, 1000], 'coef0': [0.0],\n",
       "                          'degree': [2, 3, 4, 5],\n",
       "                          'gamma': [0.0001, 0.001, 0.01, 0.1, 'scale', 'auto'],\n",
       "                          'kernel': ['poly']}],\n",
       "             scoring='accuracy', verbose=1)"
      ]
     },
     "execution_count": 68,
     "metadata": {},
     "output_type": "execute_result"
    }
   ],
   "source": [
    "# perform grid search with KFold\n",
    "grid_search_m2 = GridSearchCV(\n",
    "    SVC(),\n",
    "    param_grid=clf_hparams_spaces,\n",
    "    cv=StratifiedKFold(n_splits=5, shuffle=True, random_state=128),\n",
    "    scoring='accuracy',\n",
    "    verbose=1\n",
    ")\n",
    "\n",
    "grid_search_m2.fit(x_dev_m2, y_dev_m2)"
   ]
  },
  {
   "cell_type": "code",
   "execution_count": 69,
   "id": "6709c2f4-d81d-4081-890e-b6c247a50a6c",
   "metadata": {},
   "outputs": [
    {
     "name": "stdout",
     "output_type": "stream",
     "text": [
      "Model rank 1 - Config: {'C': 100, 'coef0': 0.0, 'degree': 2, 'gamma': 'scale', 'kernel': 'poly'}\n",
      "Mean score 0.9342 - Std score: 0.0723\n",
      "\n",
      "Model rank 2 - Config: {'C': 1000, 'coef0': 0.0, 'degree': 2, 'gamma': 0.1, 'kernel': 'poly'}\n",
      "Mean score 0.9342 - Std score: 0.0723\n",
      "\n",
      "Model rank 3 - Config: {'C': 1000, 'coef0': 0.0, 'degree': 2, 'gamma': 'scale', 'kernel': 'poly'}\n",
      "Mean score 0.9342 - Std score: 0.0723\n",
      "\n",
      "Model rank 4 - Config: {'C': 1000, 'coef0': 0.0, 'degree': 2, 'gamma': 'auto', 'kernel': 'poly'}\n",
      "Mean score 0.9342 - Std score: 0.0723\n",
      "\n",
      "Model rank 5 - Config: {'C': 100, 'coef0': 0.0, 'degree': 2, 'gamma': 0.1, 'kernel': 'poly'}\n",
      "Mean score 0.8219 - Std score: 0.1144\n",
      "\n"
     ]
    }
   ],
   "source": [
    "best_configs_m2, candidates_m2 = grid_search_top_configs(grid_search_m2.cv_results_) # top k config"
   ]
  },
  {
   "cell_type": "code",
   "execution_count": 70,
   "id": "663e9095-cdfd-46eb-9ec4-95e3f973fb14",
   "metadata": {},
   "outputs": [
    {
     "data": {
      "text/html": [
       "<style>#sk-container-id-15 {color: black;}#sk-container-id-15 pre{padding: 0;}#sk-container-id-15 div.sk-toggleable {background-color: white;}#sk-container-id-15 label.sk-toggleable__label {cursor: pointer;display: block;width: 100%;margin-bottom: 0;padding: 0.3em;box-sizing: border-box;text-align: center;}#sk-container-id-15 label.sk-toggleable__label-arrow:before {content: \"▸\";float: left;margin-right: 0.25em;color: #696969;}#sk-container-id-15 label.sk-toggleable__label-arrow:hover:before {color: black;}#sk-container-id-15 div.sk-estimator:hover label.sk-toggleable__label-arrow:before {color: black;}#sk-container-id-15 div.sk-toggleable__content {max-height: 0;max-width: 0;overflow: hidden;text-align: left;background-color: #f0f8ff;}#sk-container-id-15 div.sk-toggleable__content pre {margin: 0.2em;color: black;border-radius: 0.25em;background-color: #f0f8ff;}#sk-container-id-15 input.sk-toggleable__control:checked~div.sk-toggleable__content {max-height: 200px;max-width: 100%;overflow: auto;}#sk-container-id-15 input.sk-toggleable__control:checked~label.sk-toggleable__label-arrow:before {content: \"▾\";}#sk-container-id-15 div.sk-estimator input.sk-toggleable__control:checked~label.sk-toggleable__label {background-color: #d4ebff;}#sk-container-id-15 div.sk-label input.sk-toggleable__control:checked~label.sk-toggleable__label {background-color: #d4ebff;}#sk-container-id-15 input.sk-hidden--visually {border: 0;clip: rect(1px 1px 1px 1px);clip: rect(1px, 1px, 1px, 1px);height: 1px;margin: -1px;overflow: hidden;padding: 0;position: absolute;width: 1px;}#sk-container-id-15 div.sk-estimator {font-family: monospace;background-color: #f0f8ff;border: 1px dotted black;border-radius: 0.25em;box-sizing: border-box;margin-bottom: 0.5em;}#sk-container-id-15 div.sk-estimator:hover {background-color: #d4ebff;}#sk-container-id-15 div.sk-parallel-item::after {content: \"\";width: 100%;border-bottom: 1px solid gray;flex-grow: 1;}#sk-container-id-15 div.sk-label:hover label.sk-toggleable__label {background-color: #d4ebff;}#sk-container-id-15 div.sk-serial::before {content: \"\";position: absolute;border-left: 1px solid gray;box-sizing: border-box;top: 0;bottom: 0;left: 50%;z-index: 0;}#sk-container-id-15 div.sk-serial {display: flex;flex-direction: column;align-items: center;background-color: white;padding-right: 0.2em;padding-left: 0.2em;position: relative;}#sk-container-id-15 div.sk-item {position: relative;z-index: 1;}#sk-container-id-15 div.sk-parallel {display: flex;align-items: stretch;justify-content: center;background-color: white;position: relative;}#sk-container-id-15 div.sk-item::before, #sk-container-id-15 div.sk-parallel-item::before {content: \"\";position: absolute;border-left: 1px solid gray;box-sizing: border-box;top: 0;bottom: 0;left: 50%;z-index: -1;}#sk-container-id-15 div.sk-parallel-item {display: flex;flex-direction: column;z-index: 1;position: relative;background-color: white;}#sk-container-id-15 div.sk-parallel-item:first-child::after {align-self: flex-end;width: 50%;}#sk-container-id-15 div.sk-parallel-item:last-child::after {align-self: flex-start;width: 50%;}#sk-container-id-15 div.sk-parallel-item:only-child::after {width: 0;}#sk-container-id-15 div.sk-dashed-wrapped {border: 1px dashed gray;margin: 0 0.4em 0.5em 0.4em;box-sizing: border-box;padding-bottom: 0.4em;background-color: white;}#sk-container-id-15 div.sk-label label {font-family: monospace;font-weight: bold;display: inline-block;line-height: 1.2em;}#sk-container-id-15 div.sk-label-container {text-align: center;}#sk-container-id-15 div.sk-container {/* jupyter's `normalize.less` sets `[hidden] { display: none; }` but bootstrap.min.css set `[hidden] { display: none !important; }` so we also need the `!important` here to be able to override the default hidden behavior on the sphinx rendered scikit-learn.org. See: https://github.com/scikit-learn/scikit-learn/issues/21755 */display: inline-block !important;position: relative;}#sk-container-id-15 div.sk-text-repr-fallback {display: none;}</style><div id=\"sk-container-id-15\" class=\"sk-top-container\"><div class=\"sk-text-repr-fallback\"><pre>SVC(C=100, degree=2, kernel=&#x27;poly&#x27;)</pre><b>In a Jupyter environment, please rerun this cell to show the HTML representation or trust the notebook. <br />On GitHub, the HTML representation is unable to render, please try loading this page with nbviewer.org.</b></div><div class=\"sk-container\" hidden><div class=\"sk-item\"><div class=\"sk-estimator sk-toggleable\"><input class=\"sk-toggleable__control sk-hidden--visually\" id=\"sk-estimator-id-29\" type=\"checkbox\" checked><label for=\"sk-estimator-id-29\" class=\"sk-toggleable__label sk-toggleable__label-arrow\">SVC</label><div class=\"sk-toggleable__content\"><pre>SVC(C=100, degree=2, kernel=&#x27;poly&#x27;)</pre></div></div></div></div></div>"
      ],
      "text/plain": [
       "SVC(C=100, degree=2, kernel='poly')"
      ]
     },
     "execution_count": 70,
     "metadata": {},
     "output_type": "execute_result"
    }
   ],
   "source": [
    "# Create a SVC with the best hparams\n",
    "clf = SVC(**grid_search_m2.best_params_)\n",
    "#clf = SVC(**grid_search_cup.cv_results_['params'][candidates_m2[4]])\n",
    "\n",
    "# Train the model\n",
    "clf.fit(x_dev_m2, y_dev_m2)"
   ]
  },
  {
   "cell_type": "code",
   "execution_count": 71,
   "id": "0d8ba0c8-0979-47ae-a2a8-dfbfc0636484",
   "metadata": {},
   "outputs": [
    {
     "name": "stdout",
     "output_type": "stream",
     "text": [
      "-- DEVELOPMENT --\n",
      "              precision    recall  f1-score   support\n",
      "\n",
      "           0       1.00      1.00      1.00       105\n",
      "           1       1.00      1.00      1.00        64\n",
      "\n",
      "    accuracy                           1.00       169\n",
      "   macro avg       1.00      1.00      1.00       169\n",
      "weighted avg       1.00      1.00      1.00       169\n",
      "\n",
      "Accuracy_dev = 1.00\n",
      "MSE_dev = 0.0000\n"
     ]
    }
   ],
   "source": [
    "print('-- DEVELOPMENT --')\n",
    "print(classification_report(y_dev_m2, clf.predict(x_dev_m2)))\n",
    "accuracy_dev_m2 = accuracy_score(y_dev_m2, clf.predict(x_dev_m2))\n",
    "mse_dev_m2 = mean_squared_error(y_dev_m2, clf.predict(x_dev_m2))\n",
    "print(f\"Accuracy_dev = {accuracy_dev_m2:.2f}\")\n",
    "print(f\"MSE_dev = {mse_dev_m2:.4f}\")"
   ]
  },
  {
   "cell_type": "code",
   "execution_count": 72,
   "id": "6a942149-2b2e-4922-898d-3ec02ed06c38",
   "metadata": {},
   "outputs": [
    {
     "name": "stdout",
     "output_type": "stream",
     "text": [
      "-- TEST --\n",
      "              precision    recall  f1-score   support\n",
      "\n",
      "           0       1.00      1.00      1.00       290\n",
      "           1       1.00      1.00      1.00       142\n",
      "\n",
      "    accuracy                           1.00       432\n",
      "   macro avg       1.00      1.00      1.00       432\n",
      "weighted avg       1.00      1.00      1.00       432\n",
      "\n",
      "Accuracy_test = 1.00\n",
      "MSE_test = 0.0000\n"
     ]
    }
   ],
   "source": [
    "print('-- TEST --')\n",
    "report_test_m2 = classification_report(y_test_m2, clf.predict(x_test_m2))\n",
    "print(report_test_m2)\n",
    "accuracy_test_m2 = accuracy_score(y_test_m2, clf.predict(x_test_m2))\n",
    "mse_test_m2 = mean_squared_error(y_test_m2, clf.predict(x_test_m2))\n",
    "print(f\"Accuracy_test = {accuracy_test_m2:.2f}\")\n",
    "print(f\"MSE_test = {mse_test_m2:.4f}\")"
   ]
  },
  {
   "cell_type": "code",
   "execution_count": 73,
   "id": "49bda5cb-6a6a-487b-943e-b5e0a28dca3c",
   "metadata": {},
   "outputs": [],
   "source": [
    "store_monk_result(results_dir + '/MONK2/', best_configs_m2, report_test_m2)"
   ]
  },
  {
   "cell_type": "markdown",
   "id": "aea2e408-6d1b-4c43-b70b-c4fec0da831d",
   "metadata": {},
   "source": [
    "# MONK-3"
   ]
  },
  {
   "cell_type": "code",
   "execution_count": 74,
   "id": "4a17d8f8-56c5-4d31-a2e8-2e648b327ec0",
   "metadata": {},
   "outputs": [],
   "source": [
    "# Load MONK-3\n",
    "x_dev_m3, y_dev_m3, x_test_m3, y_test_m3 = load_monk(m3_dev_path, m3_test_path)"
   ]
  },
  {
   "cell_type": "code",
   "execution_count": 75,
   "id": "0ef3ef30-a9e1-49d2-b562-3af03a3573d2",
   "metadata": {},
   "outputs": [
    {
     "name": "stdout",
     "output_type": "stream",
     "text": [
      "Fitting 5 folds for each of 184 candidates, totalling 920 fits\n"
     ]
    },
    {
     "data": {
      "text/html": [
       "<style>#sk-container-id-16 {color: black;}#sk-container-id-16 pre{padding: 0;}#sk-container-id-16 div.sk-toggleable {background-color: white;}#sk-container-id-16 label.sk-toggleable__label {cursor: pointer;display: block;width: 100%;margin-bottom: 0;padding: 0.3em;box-sizing: border-box;text-align: center;}#sk-container-id-16 label.sk-toggleable__label-arrow:before {content: \"▸\";float: left;margin-right: 0.25em;color: #696969;}#sk-container-id-16 label.sk-toggleable__label-arrow:hover:before {color: black;}#sk-container-id-16 div.sk-estimator:hover label.sk-toggleable__label-arrow:before {color: black;}#sk-container-id-16 div.sk-toggleable__content {max-height: 0;max-width: 0;overflow: hidden;text-align: left;background-color: #f0f8ff;}#sk-container-id-16 div.sk-toggleable__content pre {margin: 0.2em;color: black;border-radius: 0.25em;background-color: #f0f8ff;}#sk-container-id-16 input.sk-toggleable__control:checked~div.sk-toggleable__content {max-height: 200px;max-width: 100%;overflow: auto;}#sk-container-id-16 input.sk-toggleable__control:checked~label.sk-toggleable__label-arrow:before {content: \"▾\";}#sk-container-id-16 div.sk-estimator input.sk-toggleable__control:checked~label.sk-toggleable__label {background-color: #d4ebff;}#sk-container-id-16 div.sk-label input.sk-toggleable__control:checked~label.sk-toggleable__label {background-color: #d4ebff;}#sk-container-id-16 input.sk-hidden--visually {border: 0;clip: rect(1px 1px 1px 1px);clip: rect(1px, 1px, 1px, 1px);height: 1px;margin: -1px;overflow: hidden;padding: 0;position: absolute;width: 1px;}#sk-container-id-16 div.sk-estimator {font-family: monospace;background-color: #f0f8ff;border: 1px dotted black;border-radius: 0.25em;box-sizing: border-box;margin-bottom: 0.5em;}#sk-container-id-16 div.sk-estimator:hover {background-color: #d4ebff;}#sk-container-id-16 div.sk-parallel-item::after {content: \"\";width: 100%;border-bottom: 1px solid gray;flex-grow: 1;}#sk-container-id-16 div.sk-label:hover label.sk-toggleable__label {background-color: #d4ebff;}#sk-container-id-16 div.sk-serial::before {content: \"\";position: absolute;border-left: 1px solid gray;box-sizing: border-box;top: 0;bottom: 0;left: 50%;z-index: 0;}#sk-container-id-16 div.sk-serial {display: flex;flex-direction: column;align-items: center;background-color: white;padding-right: 0.2em;padding-left: 0.2em;position: relative;}#sk-container-id-16 div.sk-item {position: relative;z-index: 1;}#sk-container-id-16 div.sk-parallel {display: flex;align-items: stretch;justify-content: center;background-color: white;position: relative;}#sk-container-id-16 div.sk-item::before, #sk-container-id-16 div.sk-parallel-item::before {content: \"\";position: absolute;border-left: 1px solid gray;box-sizing: border-box;top: 0;bottom: 0;left: 50%;z-index: -1;}#sk-container-id-16 div.sk-parallel-item {display: flex;flex-direction: column;z-index: 1;position: relative;background-color: white;}#sk-container-id-16 div.sk-parallel-item:first-child::after {align-self: flex-end;width: 50%;}#sk-container-id-16 div.sk-parallel-item:last-child::after {align-self: flex-start;width: 50%;}#sk-container-id-16 div.sk-parallel-item:only-child::after {width: 0;}#sk-container-id-16 div.sk-dashed-wrapped {border: 1px dashed gray;margin: 0 0.4em 0.5em 0.4em;box-sizing: border-box;padding-bottom: 0.4em;background-color: white;}#sk-container-id-16 div.sk-label label {font-family: monospace;font-weight: bold;display: inline-block;line-height: 1.2em;}#sk-container-id-16 div.sk-label-container {text-align: center;}#sk-container-id-16 div.sk-container {/* jupyter's `normalize.less` sets `[hidden] { display: none; }` but bootstrap.min.css set `[hidden] { display: none !important; }` so we also need the `!important` here to be able to override the default hidden behavior on the sphinx rendered scikit-learn.org. See: https://github.com/scikit-learn/scikit-learn/issues/21755 */display: inline-block !important;position: relative;}#sk-container-id-16 div.sk-text-repr-fallback {display: none;}</style><div id=\"sk-container-id-16\" class=\"sk-top-container\"><div class=\"sk-text-repr-fallback\"><pre>GridSearchCV(cv=StratifiedKFold(n_splits=5, random_state=128, shuffle=True),\n",
       "             estimator=SVC(),\n",
       "             param_grid=[{&#x27;C&#x27;: [0.01, 0.1, 1, 10, 100, 1000],\n",
       "                          &#x27;gamma&#x27;: [0.0001, 0.001, 0.01, 0.1, &#x27;scale&#x27;, &#x27;auto&#x27;],\n",
       "                          &#x27;kernel&#x27;: [&#x27;rbf&#x27;]},\n",
       "                         {&#x27;C&#x27;: [1, 10, 100, 1000], &#x27;kernel&#x27;: [&#x27;linear&#x27;]},\n",
       "                         {&#x27;C&#x27;: [0.01, 0.1, 1, 10, 100, 1000], &#x27;coef0&#x27;: [0.0],\n",
       "                          &#x27;degree&#x27;: [2, 3, 4, 5],\n",
       "                          &#x27;gamma&#x27;: [0.0001, 0.001, 0.01, 0.1, &#x27;scale&#x27;, &#x27;auto&#x27;],\n",
       "                          &#x27;kernel&#x27;: [&#x27;poly&#x27;]}],\n",
       "             scoring=&#x27;accuracy&#x27;, verbose=1)</pre><b>In a Jupyter environment, please rerun this cell to show the HTML representation or trust the notebook. <br />On GitHub, the HTML representation is unable to render, please try loading this page with nbviewer.org.</b></div><div class=\"sk-container\" hidden><div class=\"sk-item sk-dashed-wrapped\"><div class=\"sk-label-container\"><div class=\"sk-label sk-toggleable\"><input class=\"sk-toggleable__control sk-hidden--visually\" id=\"sk-estimator-id-30\" type=\"checkbox\" ><label for=\"sk-estimator-id-30\" class=\"sk-toggleable__label sk-toggleable__label-arrow\">GridSearchCV</label><div class=\"sk-toggleable__content\"><pre>GridSearchCV(cv=StratifiedKFold(n_splits=5, random_state=128, shuffle=True),\n",
       "             estimator=SVC(),\n",
       "             param_grid=[{&#x27;C&#x27;: [0.01, 0.1, 1, 10, 100, 1000],\n",
       "                          &#x27;gamma&#x27;: [0.0001, 0.001, 0.01, 0.1, &#x27;scale&#x27;, &#x27;auto&#x27;],\n",
       "                          &#x27;kernel&#x27;: [&#x27;rbf&#x27;]},\n",
       "                         {&#x27;C&#x27;: [1, 10, 100, 1000], &#x27;kernel&#x27;: [&#x27;linear&#x27;]},\n",
       "                         {&#x27;C&#x27;: [0.01, 0.1, 1, 10, 100, 1000], &#x27;coef0&#x27;: [0.0],\n",
       "                          &#x27;degree&#x27;: [2, 3, 4, 5],\n",
       "                          &#x27;gamma&#x27;: [0.0001, 0.001, 0.01, 0.1, &#x27;scale&#x27;, &#x27;auto&#x27;],\n",
       "                          &#x27;kernel&#x27;: [&#x27;poly&#x27;]}],\n",
       "             scoring=&#x27;accuracy&#x27;, verbose=1)</pre></div></div></div><div class=\"sk-parallel\"><div class=\"sk-parallel-item\"><div class=\"sk-item\"><div class=\"sk-label-container\"><div class=\"sk-label sk-toggleable\"><input class=\"sk-toggleable__control sk-hidden--visually\" id=\"sk-estimator-id-31\" type=\"checkbox\" ><label for=\"sk-estimator-id-31\" class=\"sk-toggleable__label sk-toggleable__label-arrow\">estimator: SVC</label><div class=\"sk-toggleable__content\"><pre>SVC()</pre></div></div></div><div class=\"sk-serial\"><div class=\"sk-item\"><div class=\"sk-estimator sk-toggleable\"><input class=\"sk-toggleable__control sk-hidden--visually\" id=\"sk-estimator-id-32\" type=\"checkbox\" ><label for=\"sk-estimator-id-32\" class=\"sk-toggleable__label sk-toggleable__label-arrow\">SVC</label><div class=\"sk-toggleable__content\"><pre>SVC()</pre></div></div></div></div></div></div></div></div></div></div>"
      ],
      "text/plain": [
       "GridSearchCV(cv=StratifiedKFold(n_splits=5, random_state=128, shuffle=True),\n",
       "             estimator=SVC(),\n",
       "             param_grid=[{'C': [0.01, 0.1, 1, 10, 100, 1000],\n",
       "                          'gamma': [0.0001, 0.001, 0.01, 0.1, 'scale', 'auto'],\n",
       "                          'kernel': ['rbf']},\n",
       "                         {'C': [1, 10, 100, 1000], 'kernel': ['linear']},\n",
       "                         {'C': [0.01, 0.1, 1, 10, 100, 1000], 'coef0': [0.0],\n",
       "                          'degree': [2, 3, 4, 5],\n",
       "                          'gamma': [0.0001, 0.001, 0.01, 0.1, 'scale', 'auto'],\n",
       "                          'kernel': ['poly']}],\n",
       "             scoring='accuracy', verbose=1)"
      ]
     },
     "execution_count": 75,
     "metadata": {},
     "output_type": "execute_result"
    }
   ],
   "source": [
    "# perform grid search with KFold\n",
    "grid_search_m3 = GridSearchCV(\n",
    "    SVC(),\n",
    "    param_grid=clf_hparams_spaces,\n",
    "    cv=StratifiedKFold(n_splits=5, shuffle=True, random_state=128),\n",
    "    scoring='accuracy',\n",
    "    verbose=1\n",
    ")\n",
    "\n",
    "grid_search_m3.fit(x_dev_m3, y_dev_m3)"
   ]
  },
  {
   "cell_type": "code",
   "execution_count": 76,
   "id": "ad10db59-c123-4ff2-afd9-06b771b4c496",
   "metadata": {},
   "outputs": [
    {
     "name": "stdout",
     "output_type": "stream",
     "text": [
      "Model rank 1 - Config: {'C': 10, 'kernel': 'linear'}\n",
      "Mean score 0.9353 - Std score: 0.0477\n",
      "\n",
      "Model rank 2 - Config: {'C': 100, 'kernel': 'linear'}\n",
      "Mean score 0.9353 - Std score: 0.0477\n",
      "\n",
      "Model rank 3 - Config: {'C': 1000, 'kernel': 'linear'}\n",
      "Mean score 0.9353 - Std score: 0.0477\n",
      "\n",
      "Model rank 4 - Config: {'C': 1000, 'gamma': 0.001, 'kernel': 'rbf'}\n",
      "Mean score 0.9353 - Std score: 0.0477\n",
      "\n",
      "Model rank 5 - Config: {'C': 1000, 'gamma': 0.0001, 'kernel': 'rbf'}\n",
      "Mean score 0.9353 - Std score: 0.0477\n",
      "\n"
     ]
    }
   ],
   "source": [
    "best_configs_m3, candidates_m3 = grid_search_top_configs(grid_search_m3.cv_results_) # top k config"
   ]
  },
  {
   "cell_type": "code",
   "execution_count": 77,
   "id": "75fd7ac4-8689-4848-ba38-b65486034aec",
   "metadata": {},
   "outputs": [
    {
     "data": {
      "text/html": [
       "<style>#sk-container-id-17 {color: black;}#sk-container-id-17 pre{padding: 0;}#sk-container-id-17 div.sk-toggleable {background-color: white;}#sk-container-id-17 label.sk-toggleable__label {cursor: pointer;display: block;width: 100%;margin-bottom: 0;padding: 0.3em;box-sizing: border-box;text-align: center;}#sk-container-id-17 label.sk-toggleable__label-arrow:before {content: \"▸\";float: left;margin-right: 0.25em;color: #696969;}#sk-container-id-17 label.sk-toggleable__label-arrow:hover:before {color: black;}#sk-container-id-17 div.sk-estimator:hover label.sk-toggleable__label-arrow:before {color: black;}#sk-container-id-17 div.sk-toggleable__content {max-height: 0;max-width: 0;overflow: hidden;text-align: left;background-color: #f0f8ff;}#sk-container-id-17 div.sk-toggleable__content pre {margin: 0.2em;color: black;border-radius: 0.25em;background-color: #f0f8ff;}#sk-container-id-17 input.sk-toggleable__control:checked~div.sk-toggleable__content {max-height: 200px;max-width: 100%;overflow: auto;}#sk-container-id-17 input.sk-toggleable__control:checked~label.sk-toggleable__label-arrow:before {content: \"▾\";}#sk-container-id-17 div.sk-estimator input.sk-toggleable__control:checked~label.sk-toggleable__label {background-color: #d4ebff;}#sk-container-id-17 div.sk-label input.sk-toggleable__control:checked~label.sk-toggleable__label {background-color: #d4ebff;}#sk-container-id-17 input.sk-hidden--visually {border: 0;clip: rect(1px 1px 1px 1px);clip: rect(1px, 1px, 1px, 1px);height: 1px;margin: -1px;overflow: hidden;padding: 0;position: absolute;width: 1px;}#sk-container-id-17 div.sk-estimator {font-family: monospace;background-color: #f0f8ff;border: 1px dotted black;border-radius: 0.25em;box-sizing: border-box;margin-bottom: 0.5em;}#sk-container-id-17 div.sk-estimator:hover {background-color: #d4ebff;}#sk-container-id-17 div.sk-parallel-item::after {content: \"\";width: 100%;border-bottom: 1px solid gray;flex-grow: 1;}#sk-container-id-17 div.sk-label:hover label.sk-toggleable__label {background-color: #d4ebff;}#sk-container-id-17 div.sk-serial::before {content: \"\";position: absolute;border-left: 1px solid gray;box-sizing: border-box;top: 0;bottom: 0;left: 50%;z-index: 0;}#sk-container-id-17 div.sk-serial {display: flex;flex-direction: column;align-items: center;background-color: white;padding-right: 0.2em;padding-left: 0.2em;position: relative;}#sk-container-id-17 div.sk-item {position: relative;z-index: 1;}#sk-container-id-17 div.sk-parallel {display: flex;align-items: stretch;justify-content: center;background-color: white;position: relative;}#sk-container-id-17 div.sk-item::before, #sk-container-id-17 div.sk-parallel-item::before {content: \"\";position: absolute;border-left: 1px solid gray;box-sizing: border-box;top: 0;bottom: 0;left: 50%;z-index: -1;}#sk-container-id-17 div.sk-parallel-item {display: flex;flex-direction: column;z-index: 1;position: relative;background-color: white;}#sk-container-id-17 div.sk-parallel-item:first-child::after {align-self: flex-end;width: 50%;}#sk-container-id-17 div.sk-parallel-item:last-child::after {align-self: flex-start;width: 50%;}#sk-container-id-17 div.sk-parallel-item:only-child::after {width: 0;}#sk-container-id-17 div.sk-dashed-wrapped {border: 1px dashed gray;margin: 0 0.4em 0.5em 0.4em;box-sizing: border-box;padding-bottom: 0.4em;background-color: white;}#sk-container-id-17 div.sk-label label {font-family: monospace;font-weight: bold;display: inline-block;line-height: 1.2em;}#sk-container-id-17 div.sk-label-container {text-align: center;}#sk-container-id-17 div.sk-container {/* jupyter's `normalize.less` sets `[hidden] { display: none; }` but bootstrap.min.css set `[hidden] { display: none !important; }` so we also need the `!important` here to be able to override the default hidden behavior on the sphinx rendered scikit-learn.org. See: https://github.com/scikit-learn/scikit-learn/issues/21755 */display: inline-block !important;position: relative;}#sk-container-id-17 div.sk-text-repr-fallback {display: none;}</style><div id=\"sk-container-id-17\" class=\"sk-top-container\"><div class=\"sk-text-repr-fallback\"><pre>SVC(C=1, gamma=0.1)</pre><b>In a Jupyter environment, please rerun this cell to show the HTML representation or trust the notebook. <br />On GitHub, the HTML representation is unable to render, please try loading this page with nbviewer.org.</b></div><div class=\"sk-container\" hidden><div class=\"sk-item\"><div class=\"sk-estimator sk-toggleable\"><input class=\"sk-toggleable__control sk-hidden--visually\" id=\"sk-estimator-id-33\" type=\"checkbox\" checked><label for=\"sk-estimator-id-33\" class=\"sk-toggleable__label sk-toggleable__label-arrow\">SVC</label><div class=\"sk-toggleable__content\"><pre>SVC(C=1, gamma=0.1)</pre></div></div></div></div></div>"
      ],
      "text/plain": [
       "SVC(C=1, gamma=0.1)"
      ]
     },
     "execution_count": 77,
     "metadata": {},
     "output_type": "execute_result"
    }
   ],
   "source": [
    "# Create a SVC with the best hparams\n",
    "clf = SVC(**grid_search_m3.best_params_)\n",
    "#clf = SVC(**grid_search_cup.cv_results_['params'][candidates_m3[4]])\n",
    "\n",
    "# Train the model\n",
    "clf.fit(x_dev_m3, y_dev_m3)"
   ]
  },
  {
   "cell_type": "code",
   "execution_count": 78,
   "id": "59327b63-b89c-4ba9-8c18-6f2336d906ad",
   "metadata": {},
   "outputs": [
    {
     "name": "stdout",
     "output_type": "stream",
     "text": [
      "-- DEVELOPMENT --\n",
      "              precision    recall  f1-score   support\n",
      "\n",
      "           0       0.95      0.92      0.93        62\n",
      "           1       0.92      0.95      0.93        60\n",
      "\n",
      "    accuracy                           0.93       122\n",
      "   macro avg       0.93      0.93      0.93       122\n",
      "weighted avg       0.93      0.93      0.93       122\n",
      "\n",
      "Accuracy_dev = 0.93\n",
      "MSE_dev = 0.0278\n"
     ]
    }
   ],
   "source": [
    "print('-- DEVELOPMENT --')\n",
    "print(classification_report(y_dev_m3, clf.predict(x_dev_m3)))\n",
    "accuracy_dev_m3 = accuracy_score(y_dev_m3, clf.predict(x_dev_m3))\n",
    "mse_dev_m3 = mean_squared_error(y_dev_m3, clf.predict(x_dev_m3))\n",
    "print(f\"Accuracy_dev = {accuracy_dev_m3:.2f}\")\n",
    "print(f\"MSE_dev = {mse_dev_m3:.4f}\")"
   ]
  },
  {
   "cell_type": "code",
   "execution_count": 79,
   "id": "eb70c03f-7d3d-4518-8311-aa1328762b79",
   "metadata": {},
   "outputs": [
    {
     "name": "stdout",
     "output_type": "stream",
     "text": [
      "-- TEST --\n",
      "              precision    recall  f1-score   support\n",
      "\n",
      "           0       0.94      1.00      0.97       204\n",
      "           1       1.00      0.95      0.97       228\n",
      "\n",
      "    accuracy                           0.97       432\n",
      "   macro avg       0.97      0.97      0.97       432\n",
      "weighted avg       0.97      0.97      0.97       432\n",
      "\n",
      "Accuracy_test = 0.97\n",
      "MSE_test = 0.0278\n"
     ]
    }
   ],
   "source": [
    "print('-- TEST --')\n",
    "report_test_m3 = classification_report(y_test_m3, clf.predict(x_test_m3))\n",
    "print(report_test_m3)\n",
    "accuracy_test_m3 = accuracy_score(y_test_m3, clf.predict(x_test_m3))\n",
    "mse_test_m3 = mean_squared_error(y_test_m3, clf.predict(x_test_m3))\n",
    "print(f\"Accuracy_test = {accuracy_test_m3:.2f}\")\n",
    "print(f\"MSE_test = {mse_test_m3:.4f}\")"
   ]
  },
  {
   "cell_type": "code",
   "execution_count": 80,
   "id": "bfab177b-e38b-47dd-86fe-0157f345ff66",
   "metadata": {},
   "outputs": [],
   "source": [
    "store_monk_result(results_dir + '/MONK3/', best_configs_m3, report_test_m3)"
   ]
  },
  {
   "cell_type": "markdown",
   "id": "007f6603-97eb-4bf3-ae71-b1a62be020bd",
   "metadata": {},
   "source": [
    "# CUP"
   ]
  },
  {
   "cell_type": "code",
   "execution_count": 13,
   "id": "319305de-8537-410c-967c-639dad72fd16",
   "metadata": {},
   "outputs": [],
   "source": [
    "# Load CUP\n",
    "x_dev_cup, y_dev_cup, x_test_cup = load_cup(cup_dev_path, cup_test_path)"
   ]
  },
  {
   "cell_type": "code",
   "execution_count": 14,
   "id": "21e3f11f-4cb8-426b-8ec6-d4c981568cc7",
   "metadata": {},
   "outputs": [],
   "source": [
    "# Split data for internal test\n",
    "x_train_cup, x_intest_cup, y_train_cup, y_intest_cup = train_test_split(x_dev_cup, y_dev_cup, test_size=0.1, random_state=128)"
   ]
  },
  {
   "cell_type": "code",
   "execution_count": 15,
   "id": "5ef671cb-6c16-4fa1-9595-9883ede45369",
   "metadata": {},
   "outputs": [],
   "source": [
    "# SVR models can produce only one output, so the three columns of the output are separated\n",
    "y_train_cup1, y_train_cup2, y_train_cup3 = np.hsplit(y_train_cup, 3)\n",
    "y_intest_cup1, y_intest_cup2, y_intest_cup3 = np.hsplit(y_intest_cup, 3)\n",
    "y_dev_cup1, y_dev_cup2, y_dev_cup3 = np.hsplit(y_dev_cup, 3)\n",
    "\n",
    "# Targets must be of the form (n° samples, )\n",
    "y_train_cup1 = np.ravel(y_train_cup1)\n",
    "y_train_cup2 = np.ravel(y_train_cup2)\n",
    "y_train_cup3 = np.ravel(y_train_cup3)\n",
    "y_intest_cup1 = np.ravel(y_intest_cup1)\n",
    "y_intest_cup2 = np.ravel(y_intest_cup2)\n",
    "y_intest_cup3 = np.ravel(y_intest_cup3)\n",
    "y_dev_cup1 = np.ravel(y_dev_cup1)\n",
    "y_dev_cup2 = np.ravel(y_dev_cup2)\n",
    "y_dev_cup3 = np.ravel(y_dev_cup3)"
   ]
  },
  {
   "cell_type": "markdown",
   "id": "1d01fad2-3770-4aa1-97e5-caa5e8a94dfd",
   "metadata": {},
   "source": [
    "# Hyperparameters tuning\n",
    "Here, we define the grid search spaces for the SVR for the CUP dataset."
   ]
  },
  {
   "cell_type": "code",
   "execution_count": 9,
   "id": "b03d8c92-2fef-4bf7-b2bd-861d2c1150f7",
   "metadata": {},
   "outputs": [
    {
     "name": "stderr",
     "output_type": "stream",
     "text": [
      "[Parallel(n_jobs=-1)]: Using backend LokyBackend with 8 concurrent workers.\n",
      "[Parallel(n_jobs=-1)]: Done  20 out of  20 | elapsed:   23.5s finished\n",
      "[Parallel(n_jobs=-1)]: Using backend LokyBackend with 8 concurrent workers.\n",
      "[Parallel(n_jobs=-1)]: Done  20 out of  20 | elapsed:   20.4s finished\n",
      "[Parallel(n_jobs=-1)]: Using backend LokyBackend with 8 concurrent workers.\n",
      "[Parallel(n_jobs=-1)]: Done  20 out of  20 | elapsed:    9.2s finished\n",
      "[Parallel(n_jobs=-1)]: Using backend LokyBackend with 8 concurrent workers.\n",
      "[Parallel(n_jobs=-1)]: Done  20 out of  20 | elapsed:    1.8s finished\n"
     ]
    },
    {
     "data": {
      "image/png": "[encoded data removed]",
      "text/plain": [
       "<Figure size 640x480 with 4 Axes>"
      ]
     },
     "metadata": {},
     "output_type": "display_data"
    },
    {
     "name": "stdout",
     "output_type": "stream",
     "text": [
      "min_train_scores = [-0.0238, -0.0249, -0.0422, -0.1225]\n",
      "min_test_scores = [-0.1749, -0.1539, -0.1888, -0.2777]\n"
     ]
    }
   ],
   "source": [
    "# Validation curves\n",
    "param_name = \"C\"\n",
    "param_range = np.logspace(1, 4, 4)\n",
    "figure, axis = plt.subplots(2, 2)\n",
    "min_train_scores=[]\n",
    "min_test_scores=[]\n",
    "\n",
    "for (epsilon, i, j) in zip(np.logspace(-3, 0, 4), [0,0,1,1], [0,1,0,1]):\n",
    "    train_scores, test_scores = validation_curve(SVR(kernel='rbf', gamma = 'scale', epsilon=epsilon, cache_size=200), \n",
    "                                          x_train_cup, \n",
    "                                          y_train_cup1, \n",
    "                                          param_name=param_name, \n",
    "                                          param_range=param_range,\n",
    "                                          cv=KFold(n_splits=5, shuffle=True, random_state=128),\n",
    "                                          scoring= 'neg_mean_squared_error',\n",
    "                                          n_jobs=-1,\n",
    "                                          verbose=1)\n",
    "    \n",
    "    min_train_scores.append(round(np.max(train_scores),4)) #score is negative\n",
    "    min_test_scores.append(round(np.max(test_scores),4)) \n",
    "                                          \n",
    "    display = ValidationCurveDisplay(param_name=param_name, \n",
    "                                     param_range=param_range,\n",
    "                                     train_scores=train_scores, \n",
    "                                     test_scores=test_scores,\n",
    "                                     score_name=\"MSE\")\n",
    "    display.plot(ax=axis[i,j], negate_score = True)\n",
    "    axis[i,j].set_title('epsilon = %1.3f' %epsilon)\n",
    "\n",
    "figure.tight_layout()\n",
    "plt.show()\n",
    "print(f\"min_train_scores = {min_train_scores}\")\n",
    "print(f\"min_test_scores = {min_test_scores}\")"
   ]
  },
  {
   "cell_type": "code",
   "execution_count": null,
   "id": "7c8afe30-f63d-48ca-9d24-7083eaaa5092",
   "metadata": {},
   "outputs": [],
   "source": [
    "#hparams grid for grid search\n",
    "\n",
    "#The top 5 consists only of rbf kernels in all three SVR models, to speed up the grind search the other kernels are excluded\n",
    "\"\"\"\n",
    "regr_hparams_spaces = [\n",
    "    {\"kernel\": [\"rbf\"], \"gamma\": [1e-3, 1e-4, 'scale', 'auto'], \"C\": [0.01, 0.1, 1, 10, 100, 1000], \"epsilon\" : [1e-3, 1e-2, 0.1, 1.0]},\n",
    "    {\"kernel\": [\"linear\"], \"C\": [0.01, 0.1, 1, 1, 10, 100, 1000], \"epsilon\" : [1e-3, 1e-2, 0.1, 1.0]},\n",
    "    {\"kernel\": [\"poly\"], \"degree\": [2,3,4], \"gamma\": [1e-3, 1e-4, 'scale', 'auto'], \"coef0\": [0.0], \"C\": [0.01, 0.1, 1, 10, 100, 1000], \"epsilon\" : [1e-3, 1e-2, 0.1, 1.0]}\n",
    "]\"\"\""
   ]
  },
  {
   "cell_type": "code",
   "execution_count": 17,
   "id": "56f9e344-e277-413f-a97e-59b773b0be60",
   "metadata": {},
   "outputs": [],
   "source": [
    "regr_hparams_spaces = {\"kernel\": [\"rbf\"], \"gamma\": ['scale', 'auto'], \"C\": [1e3, 1.5e3, 2e3, 2.5e3, 3e3], \"epsilon\" : [0.05, 0.1, 0.25, 0.5]}"
   ]
  },
  {
   "cell_type": "markdown",
   "id": "5a18ad1f-fa83-4927-90f6-7c0d33f389ca",
   "metadata": {},
   "source": [
    "- The **gamma** parameter in rbf defines how far the influence of a single training example reaches, with low values meaning ‘far’ and high values meaning ‘close’. The gamma parameters can be seen as the inverse of the radius of influence of samples selected by the model as support vectors.\n",
    "- The **C** parameter trades off correct classification of training examples against maximization of the decision function’s margin. Large values of C implies a small margin, a lower C will encourage a larger margin. In other words C behaves as a regularization parameter in the SVM.\n",
    "- **poly** = $( \\; gamma \\;\\; * <x,y> \\; + \\; coef0 \\;)^{degree}$\n",
    "- **epsilon** specifies the epsilon-tube within which no penalty is associated in the training loss function with points predicted within a distance epsilon from the actual value. Must be non-negative."
   ]
  },
  {
   "cell_type": "markdown",
   "id": "a614d1c6-5680-4d6d-a8d5-afb6a5a6d945",
   "metadata": {},
   "source": [
    "## Grid search"
   ]
  },
  {
   "cell_type": "code",
   "execution_count": 37,
   "id": "1a45b107-4e22-4f09-9663-f7df9567fe92",
   "metadata": {},
   "outputs": [
    {
     "name": "stdout",
     "output_type": "stream",
     "text": [
      "Fitting 5 folds for each of 40 candidates, totalling 200 fits\n"
     ]
    },
    {
     "data": {
      "text/html": [
       "<style>#sk-container-id-7 {color: black;}#sk-container-id-7 pre{padding: 0;}#sk-container-id-7 div.sk-toggleable {background-color: white;}#sk-container-id-7 label.sk-toggleable__label {cursor: pointer;display: block;width: 100%;margin-bottom: 0;padding: 0.3em;box-sizing: border-box;text-align: center;}#sk-container-id-7 label.sk-toggleable__label-arrow:before {content: \"▸\";float: left;margin-right: 0.25em;color: #696969;}#sk-container-id-7 label.sk-toggleable__label-arrow:hover:before {color: black;}#sk-container-id-7 div.sk-estimator:hover label.sk-toggleable__label-arrow:before {color: black;}#sk-container-id-7 div.sk-toggleable__content {max-height: 0;max-width: 0;overflow: hidden;text-align: left;background-color: #f0f8ff;}#sk-container-id-7 div.sk-toggleable__content pre {margin: 0.2em;color: black;border-radius: 0.25em;background-color: #f0f8ff;}#sk-container-id-7 input.sk-toggleable__control:checked~div.sk-toggleable__content {max-height: 200px;max-width: 100%;overflow: auto;}#sk-container-id-7 input.sk-toggleable__control:checked~label.sk-toggleable__label-arrow:before {content: \"▾\";}#sk-container-id-7 div.sk-estimator input.sk-toggleable__control:checked~label.sk-toggleable__label {background-color: #d4ebff;}#sk-container-id-7 div.sk-label input.sk-toggleable__control:checked~label.sk-toggleable__label {background-color: #d4ebff;}#sk-container-id-7 input.sk-hidden--visually {border: 0;clip: rect(1px 1px 1px 1px);clip: rect(1px, 1px, 1px, 1px);height: 1px;margin: -1px;overflow: hidden;padding: 0;position: absolute;width: 1px;}#sk-container-id-7 div.sk-estimator {font-family: monospace;background-color: #f0f8ff;border: 1px dotted black;border-radius: 0.25em;box-sizing: border-box;margin-bottom: 0.5em;}#sk-container-id-7 div.sk-estimator:hover {background-color: #d4ebff;}#sk-container-id-7 div.sk-parallel-item::after {content: \"\";width: 100%;border-bottom: 1px solid gray;flex-grow: 1;}#sk-container-id-7 div.sk-label:hover label.sk-toggleable__label {background-color: #d4ebff;}#sk-container-id-7 div.sk-serial::before {content: \"\";position: absolute;border-left: 1px solid gray;box-sizing: border-box;top: 0;bottom: 0;left: 50%;z-index: 0;}#sk-container-id-7 div.sk-serial {display: flex;flex-direction: column;align-items: center;background-color: white;padding-right: 0.2em;padding-left: 0.2em;position: relative;}#sk-container-id-7 div.sk-item {position: relative;z-index: 1;}#sk-container-id-7 div.sk-parallel {display: flex;align-items: stretch;justify-content: center;background-color: white;position: relative;}#sk-container-id-7 div.sk-item::before, #sk-container-id-7 div.sk-parallel-item::before {content: \"\";position: absolute;border-left: 1px solid gray;box-sizing: border-box;top: 0;bottom: 0;left: 50%;z-index: -1;}#sk-container-id-7 div.sk-parallel-item {display: flex;flex-direction: column;z-index: 1;position: relative;background-color: white;}#sk-container-id-7 div.sk-parallel-item:first-child::after {align-self: flex-end;width: 50%;}#sk-container-id-7 div.sk-parallel-item:last-child::after {align-self: flex-start;width: 50%;}#sk-container-id-7 div.sk-parallel-item:only-child::after {width: 0;}#sk-container-id-7 div.sk-dashed-wrapped {border: 1px dashed gray;margin: 0 0.4em 0.5em 0.4em;box-sizing: border-box;padding-bottom: 0.4em;background-color: white;}#sk-container-id-7 div.sk-label label {font-family: monospace;font-weight: bold;display: inline-block;line-height: 1.2em;}#sk-container-id-7 div.sk-label-container {text-align: center;}#sk-container-id-7 div.sk-container {/* jupyter's `normalize.less` sets `[hidden] { display: none; }` but bootstrap.min.css set `[hidden] { display: none !important; }` so we also need the `!important` here to be able to override the default hidden behavior on the sphinx rendered scikit-learn.org. See: https://github.com/scikit-learn/scikit-learn/issues/21755 */display: inline-block !important;position: relative;}#sk-container-id-7 div.sk-text-repr-fallback {display: none;}</style><div id=\"sk-container-id-7\" class=\"sk-top-container\"><div class=\"sk-text-repr-fallback\"><pre>GridSearchCV(cv=KFold(n_splits=5, random_state=128, shuffle=True),\n",
       "             estimator=SVR(cache_size=1000), n_jobs=-1,\n",
       "             param_grid={&#x27;C&#x27;: [1000.0, 1500.0, 2000.0, 2500.0, 3000.0],\n",
       "                         &#x27;epsilon&#x27;: [0.05, 0.1, 0.25, 0.5],\n",
       "                         &#x27;gamma&#x27;: [&#x27;scale&#x27;, &#x27;auto&#x27;], &#x27;kernel&#x27;: [&#x27;rbf&#x27;]},\n",
       "             scoring=&#x27;neg_mean_squared_error&#x27;, verbose=1)</pre><b>In a Jupyter environment, please rerun this cell to show the HTML representation or trust the notebook. <br />On GitHub, the HTML representation is unable to render, please try loading this page with nbviewer.org.</b></div><div class=\"sk-container\" hidden><div class=\"sk-item sk-dashed-wrapped\"><div class=\"sk-label-container\"><div class=\"sk-label sk-toggleable\"><input class=\"sk-toggleable__control sk-hidden--visually\" id=\"sk-estimator-id-9\" type=\"checkbox\" ><label for=\"sk-estimator-id-9\" class=\"sk-toggleable__label sk-toggleable__label-arrow\">GridSearchCV</label><div class=\"sk-toggleable__content\"><pre>GridSearchCV(cv=KFold(n_splits=5, random_state=128, shuffle=True),\n",
       "             estimator=SVR(cache_size=1000), n_jobs=-1,\n",
       "             param_grid={&#x27;C&#x27;: [1000.0, 1500.0, 2000.0, 2500.0, 3000.0],\n",
       "                         &#x27;epsilon&#x27;: [0.05, 0.1, 0.25, 0.5],\n",
       "                         &#x27;gamma&#x27;: [&#x27;scale&#x27;, &#x27;auto&#x27;], &#x27;kernel&#x27;: [&#x27;rbf&#x27;]},\n",
       "             scoring=&#x27;neg_mean_squared_error&#x27;, verbose=1)</pre></div></div></div><div class=\"sk-parallel\"><div class=\"sk-parallel-item\"><div class=\"sk-item\"><div class=\"sk-label-container\"><div class=\"sk-label sk-toggleable\"><input class=\"sk-toggleable__control sk-hidden--visually\" id=\"sk-estimator-id-10\" type=\"checkbox\" ><label for=\"sk-estimator-id-10\" class=\"sk-toggleable__label sk-toggleable__label-arrow\">estimator: SVR</label><div class=\"sk-toggleable__content\"><pre>SVR(cache_size=1000)</pre></div></div></div><div class=\"sk-serial\"><div class=\"sk-item\"><div class=\"sk-estimator sk-toggleable\"><input class=\"sk-toggleable__control sk-hidden--visually\" id=\"sk-estimator-id-11\" type=\"checkbox\" ><label for=\"sk-estimator-id-11\" class=\"sk-toggleable__label sk-toggleable__label-arrow\">SVR</label><div class=\"sk-toggleable__content\"><pre>SVR(cache_size=1000)</pre></div></div></div></div></div></div></div></div></div></div>"
      ],
      "text/plain": [
       "GridSearchCV(cv=KFold(n_splits=5, random_state=128, shuffle=True),\n",
       "             estimator=SVR(cache_size=1000), n_jobs=-1,\n",
       "             param_grid={'C': [1000.0, 1500.0, 2000.0, 2500.0, 3000.0],\n",
       "                         'epsilon': [0.05, 0.1, 0.25, 0.5],\n",
       "                         'gamma': ['scale', 'auto'], 'kernel': ['rbf']},\n",
       "             scoring='neg_mean_squared_error', verbose=1)"
      ]
     },
     "execution_count": 37,
     "metadata": {},
     "output_type": "execute_result"
    }
   ],
   "source": [
    "# perform grid search with KFold\n",
    "# Increased the cache to decrease the tarining time (from 200 to 1000 MB)\n",
    "# Use n_jobs = number of jobs to run in parallel. -1 means using all processors\n",
    "# scoring=make_scorer(mean_euclidean_error, greater_is_better=False)\n",
    "grid_search_cup = GridSearchCV(\n",
    "    SVR(cache_size=1000),\n",
    "    param_grid=regr_hparams_spaces,\n",
    "    cv=KFold(n_splits=5, shuffle=True, random_state=128),\n",
    "    scoring= 'neg_mean_squared_error',\n",
    "    n_jobs=-1,\n",
    "    verbose=1\n",
    ")\n",
    "\n",
    "grid_search_cup.fit(x_train_cup, y_train_cup1)"
   ]
  },
  {
   "cell_type": "code",
   "execution_count": 38,
   "id": "d914ba9f-394f-40db-965d-358408862725",
   "metadata": {},
   "outputs": [
    {
     "name": "stdout",
     "output_type": "stream",
     "text": [
      "--OUTPUT 1--\n",
      "Model rank 1 - Config: {'C': 2500.0, 'epsilon': 0.1, 'gamma': 'scale', 'kernel': 'rbf'}\n",
      "Mean score -0.2407 - Std score: 0.0698\n",
      "\n",
      "Model rank 2 - Config: {'C': 3000.0, 'epsilon': 0.1, 'gamma': 'scale', 'kernel': 'rbf'}\n",
      "Mean score -0.2416 - Std score: 0.0703\n",
      "\n",
      "Model rank 3 - Config: {'C': 2000.0, 'epsilon': 0.1, 'gamma': 'scale', 'kernel': 'rbf'}\n",
      "Mean score -0.2433 - Std score: 0.0697\n",
      "\n",
      "Model rank 4 - Config: {'C': 2500.0, 'epsilon': 0.05, 'gamma': 'scale', 'kernel': 'rbf'}\n",
      "Mean score -0.2446 - Std score: 0.0660\n",
      "\n",
      "Model rank 5 - Config: {'C': 3000.0, 'epsilon': 0.05, 'gamma': 'scale', 'kernel': 'rbf'}\n",
      "Mean score -0.2470 - Std score: 0.0700\n",
      "\n"
     ]
    }
   ],
   "source": [
    "print('--OUTPUT 1--')\n",
    "best_configs_cup1, candidates1 = grid_search_top_configs(grid_search_cup.cv_results_) # top k config"
   ]
  },
  {
   "cell_type": "code",
   "execution_count": 39,
   "id": "74093f2e-a632-45e5-99ac-0b91438794bf",
   "metadata": {},
   "outputs": [
    {
     "data": {
      "text/html": [
       "<style>#sk-container-id-8 {color: black;}#sk-container-id-8 pre{padding: 0;}#sk-container-id-8 div.sk-toggleable {background-color: white;}#sk-container-id-8 label.sk-toggleable__label {cursor: pointer;display: block;width: 100%;margin-bottom: 0;padding: 0.3em;box-sizing: border-box;text-align: center;}#sk-container-id-8 label.sk-toggleable__label-arrow:before {content: \"▸\";float: left;margin-right: 0.25em;color: #696969;}#sk-container-id-8 label.sk-toggleable__label-arrow:hover:before {color: black;}#sk-container-id-8 div.sk-estimator:hover label.sk-toggleable__label-arrow:before {color: black;}#sk-container-id-8 div.sk-toggleable__content {max-height: 0;max-width: 0;overflow: hidden;text-align: left;background-color: #f0f8ff;}#sk-container-id-8 div.sk-toggleable__content pre {margin: 0.2em;color: black;border-radius: 0.25em;background-color: #f0f8ff;}#sk-container-id-8 input.sk-toggleable__control:checked~div.sk-toggleable__content {max-height: 200px;max-width: 100%;overflow: auto;}#sk-container-id-8 input.sk-toggleable__control:checked~label.sk-toggleable__label-arrow:before {content: \"▾\";}#sk-container-id-8 div.sk-estimator input.sk-toggleable__control:checked~label.sk-toggleable__label {background-color: #d4ebff;}#sk-container-id-8 div.sk-label input.sk-toggleable__control:checked~label.sk-toggleable__label {background-color: #d4ebff;}#sk-container-id-8 input.sk-hidden--visually {border: 0;clip: rect(1px 1px 1px 1px);clip: rect(1px, 1px, 1px, 1px);height: 1px;margin: -1px;overflow: hidden;padding: 0;position: absolute;width: 1px;}#sk-container-id-8 div.sk-estimator {font-family: monospace;background-color: #f0f8ff;border: 1px dotted black;border-radius: 0.25em;box-sizing: border-box;margin-bottom: 0.5em;}#sk-container-id-8 div.sk-estimator:hover {background-color: #d4ebff;}#sk-container-id-8 div.sk-parallel-item::after {content: \"\";width: 100%;border-bottom: 1px solid gray;flex-grow: 1;}#sk-container-id-8 div.sk-label:hover label.sk-toggleable__label {background-color: #d4ebff;}#sk-container-id-8 div.sk-serial::before {content: \"\";position: absolute;border-left: 1px solid gray;box-sizing: border-box;top: 0;bottom: 0;left: 50%;z-index: 0;}#sk-container-id-8 div.sk-serial {display: flex;flex-direction: column;align-items: center;background-color: white;padding-right: 0.2em;padding-left: 0.2em;position: relative;}#sk-container-id-8 div.sk-item {position: relative;z-index: 1;}#sk-container-id-8 div.sk-parallel {display: flex;align-items: stretch;justify-content: center;background-color: white;position: relative;}#sk-container-id-8 div.sk-item::before, #sk-container-id-8 div.sk-parallel-item::before {content: \"\";position: absolute;border-left: 1px solid gray;box-sizing: border-box;top: 0;bottom: 0;left: 50%;z-index: -1;}#sk-container-id-8 div.sk-parallel-item {display: flex;flex-direction: column;z-index: 1;position: relative;background-color: white;}#sk-container-id-8 div.sk-parallel-item:first-child::after {align-self: flex-end;width: 50%;}#sk-container-id-8 div.sk-parallel-item:last-child::after {align-self: flex-start;width: 50%;}#sk-container-id-8 div.sk-parallel-item:only-child::after {width: 0;}#sk-container-id-8 div.sk-dashed-wrapped {border: 1px dashed gray;margin: 0 0.4em 0.5em 0.4em;box-sizing: border-box;padding-bottom: 0.4em;background-color: white;}#sk-container-id-8 div.sk-label label {font-family: monospace;font-weight: bold;display: inline-block;line-height: 1.2em;}#sk-container-id-8 div.sk-label-container {text-align: center;}#sk-container-id-8 div.sk-container {/* jupyter's `normalize.less` sets `[hidden] { display: none; }` but bootstrap.min.css set `[hidden] { display: none !important; }` so we also need the `!important` here to be able to override the default hidden behavior on the sphinx rendered scikit-learn.org. See: https://github.com/scikit-learn/scikit-learn/issues/21755 */display: inline-block !important;position: relative;}#sk-container-id-8 div.sk-text-repr-fallback {display: none;}</style><div id=\"sk-container-id-8\" class=\"sk-top-container\"><div class=\"sk-text-repr-fallback\"><pre>SVR(C=2500.0)</pre><b>In a Jupyter environment, please rerun this cell to show the HTML representation or trust the notebook. <br />On GitHub, the HTML representation is unable to render, please try loading this page with nbviewer.org.</b></div><div class=\"sk-container\" hidden><div class=\"sk-item\"><div class=\"sk-estimator sk-toggleable\"><input class=\"sk-toggleable__control sk-hidden--visually\" id=\"sk-estimator-id-12\" type=\"checkbox\" checked><label for=\"sk-estimator-id-12\" class=\"sk-toggleable__label sk-toggleable__label-arrow\">SVR</label><div class=\"sk-toggleable__content\"><pre>SVR(C=2500.0)</pre></div></div></div></div></div>"
      ],
      "text/plain": [
       "SVR(C=2500.0)"
      ]
     },
     "execution_count": 39,
     "metadata": {},
     "output_type": "execute_result"
    }
   ],
   "source": [
    "# Create a SVR with the best hparams\n",
    "rfr1 = SVR(**grid_search_cup.best_params_)\n",
    "#rfr1 = SVR(**grid_search_cup.cv_results_['params'][candidates1[4]])\n",
    "\n",
    "# Train the model\n",
    "rfr1.fit(x_train_cup, y_train_cup1)"
   ]
  },
  {
   "cell_type": "code",
   "execution_count": 40,
   "id": "aff76b0c-2d99-4d70-9e51-80a8b1ec0891",
   "metadata": {},
   "outputs": [
    {
     "name": "stdout",
     "output_type": "stream",
     "text": [
      "Fitting 5 folds for each of 40 candidates, totalling 200 fits\n",
      "--OUTPUT 2--\n",
      "Model rank 1 - Config: {'C': 3000.0, 'epsilon': 0.05, 'gamma': 'scale', 'kernel': 'rbf'}\n",
      "Mean score -0.2498 - Std score: 0.0555\n",
      "\n",
      "Model rank 2 - Config: {'C': 3000.0, 'epsilon': 0.1, 'gamma': 'scale', 'kernel': 'rbf'}\n",
      "Mean score -0.2537 - Std score: 0.0541\n",
      "\n",
      "Model rank 3 - Config: {'C': 2500.0, 'epsilon': 0.05, 'gamma': 'scale', 'kernel': 'rbf'}\n",
      "Mean score -0.2540 - Std score: 0.0547\n",
      "\n",
      "Model rank 4 - Config: {'C': 2000.0, 'epsilon': 0.1, 'gamma': 'scale', 'kernel': 'rbf'}\n",
      "Mean score -0.2567 - Std score: 0.0475\n",
      "\n",
      "Model rank 5 - Config: {'C': 2000.0, 'epsilon': 0.05, 'gamma': 'scale', 'kernel': 'rbf'}\n",
      "Mean score -0.2569 - Std score: 0.0526\n",
      "\n"
     ]
    }
   ],
   "source": [
    "grid_search_cup.fit(x_train_cup, y_train_cup2)\n",
    "print('--OUTPUT 2--')\n",
    "best_configs_cup2, candidates2 = grid_search_top_configs(grid_search_cup.cv_results_)"
   ]
  },
  {
   "cell_type": "code",
   "execution_count": 44,
   "id": "f70c5e49-42c5-47da-a611-a90255b76e53",
   "metadata": {},
   "outputs": [
    {
     "data": {
      "text/html": [
       "<style>#sk-container-id-10 {color: black;}#sk-container-id-10 pre{padding: 0;}#sk-container-id-10 div.sk-toggleable {background-color: white;}#sk-container-id-10 label.sk-toggleable__label {cursor: pointer;display: block;width: 100%;margin-bottom: 0;padding: 0.3em;box-sizing: border-box;text-align: center;}#sk-container-id-10 label.sk-toggleable__label-arrow:before {content: \"▸\";float: left;margin-right: 0.25em;color: #696969;}#sk-container-id-10 label.sk-toggleable__label-arrow:hover:before {color: black;}#sk-container-id-10 div.sk-estimator:hover label.sk-toggleable__label-arrow:before {color: black;}#sk-container-id-10 div.sk-toggleable__content {max-height: 0;max-width: 0;overflow: hidden;text-align: left;background-color: #f0f8ff;}#sk-container-id-10 div.sk-toggleable__content pre {margin: 0.2em;color: black;border-radius: 0.25em;background-color: #f0f8ff;}#sk-container-id-10 input.sk-toggleable__control:checked~div.sk-toggleable__content {max-height: 200px;max-width: 100%;overflow: auto;}#sk-container-id-10 input.sk-toggleable__control:checked~label.sk-toggleable__label-arrow:before {content: \"▾\";}#sk-container-id-10 div.sk-estimator input.sk-toggleable__control:checked~label.sk-toggleable__label {background-color: #d4ebff;}#sk-container-id-10 div.sk-label input.sk-toggleable__control:checked~label.sk-toggleable__label {background-color: #d4ebff;}#sk-container-id-10 input.sk-hidden--visually {border: 0;clip: rect(1px 1px 1px 1px);clip: rect(1px, 1px, 1px, 1px);height: 1px;margin: -1px;overflow: hidden;padding: 0;position: absolute;width: 1px;}#sk-container-id-10 div.sk-estimator {font-family: monospace;background-color: #f0f8ff;border: 1px dotted black;border-radius: 0.25em;box-sizing: border-box;margin-bottom: 0.5em;}#sk-container-id-10 div.sk-estimator:hover {background-color: #d4ebff;}#sk-container-id-10 div.sk-parallel-item::after {content: \"\";width: 100%;border-bottom: 1px solid gray;flex-grow: 1;}#sk-container-id-10 div.sk-label:hover label.sk-toggleable__label {background-color: #d4ebff;}#sk-container-id-10 div.sk-serial::before {content: \"\";position: absolute;border-left: 1px solid gray;box-sizing: border-box;top: 0;bottom: 0;left: 50%;z-index: 0;}#sk-container-id-10 div.sk-serial {display: flex;flex-direction: column;align-items: center;background-color: white;padding-right: 0.2em;padding-left: 0.2em;position: relative;}#sk-container-id-10 div.sk-item {position: relative;z-index: 1;}#sk-container-id-10 div.sk-parallel {display: flex;align-items: stretch;justify-content: center;background-color: white;position: relative;}#sk-container-id-10 div.sk-item::before, #sk-container-id-10 div.sk-parallel-item::before {content: \"\";position: absolute;border-left: 1px solid gray;box-sizing: border-box;top: 0;bottom: 0;left: 50%;z-index: -1;}#sk-container-id-10 div.sk-parallel-item {display: flex;flex-direction: column;z-index: 1;position: relative;background-color: white;}#sk-container-id-10 div.sk-parallel-item:first-child::after {align-self: flex-end;width: 50%;}#sk-container-id-10 div.sk-parallel-item:last-child::after {align-self: flex-start;width: 50%;}#sk-container-id-10 div.sk-parallel-item:only-child::after {width: 0;}#sk-container-id-10 div.sk-dashed-wrapped {border: 1px dashed gray;margin: 0 0.4em 0.5em 0.4em;box-sizing: border-box;padding-bottom: 0.4em;background-color: white;}#sk-container-id-10 div.sk-label label {font-family: monospace;font-weight: bold;display: inline-block;line-height: 1.2em;}#sk-container-id-10 div.sk-label-container {text-align: center;}#sk-container-id-10 div.sk-container {/* jupyter's `normalize.less` sets `[hidden] { display: none; }` but bootstrap.min.css set `[hidden] { display: none !important; }` so we also need the `!important` here to be able to override the default hidden behavior on the sphinx rendered scikit-learn.org. See: https://github.com/scikit-learn/scikit-learn/issues/21755 */display: inline-block !important;position: relative;}#sk-container-id-10 div.sk-text-repr-fallback {display: none;}</style><div id=\"sk-container-id-10\" class=\"sk-top-container\"><div class=\"sk-text-repr-fallback\"><pre>SVR(C=2000.0)</pre><b>In a Jupyter environment, please rerun this cell to show the HTML representation or trust the notebook. <br />On GitHub, the HTML representation is unable to render, please try loading this page with nbviewer.org.</b></div><div class=\"sk-container\" hidden><div class=\"sk-item\"><div class=\"sk-estimator sk-toggleable\"><input class=\"sk-toggleable__control sk-hidden--visually\" id=\"sk-estimator-id-14\" type=\"checkbox\" checked><label for=\"sk-estimator-id-14\" class=\"sk-toggleable__label sk-toggleable__label-arrow\">SVR</label><div class=\"sk-toggleable__content\"><pre>SVR(C=2000.0)</pre></div></div></div></div></div>"
      ],
      "text/plain": [
       "SVR(C=2000.0)"
      ]
     },
     "execution_count": 44,
     "metadata": {},
     "output_type": "execute_result"
    }
   ],
   "source": [
    "#rfr2 = SVR(**grid_search_cup.best_params_)\n",
    "rfr2 = SVR(**grid_search_cup.cv_results_['params'][candidates2[3]]) #Uses different model rank (candidates[1] = best_params_)\n",
    "\n",
    "rfr2.fit(x_train_cup, y_train_cup2)"
   ]
  },
  {
   "cell_type": "code",
   "execution_count": 45,
   "id": "66e28353-dc2d-442e-b07b-09cca70f6bbe",
   "metadata": {},
   "outputs": [
    {
     "name": "stdout",
     "output_type": "stream",
     "text": [
      "Fitting 5 folds for each of 40 candidates, totalling 200 fits\n",
      "--OUTPUT 3--\n",
      "Model rank 1 - Config: {'C': 3000.0, 'epsilon': 0.05, 'gamma': 'scale', 'kernel': 'rbf'}\n",
      "Mean score -0.1107 - Std score: 0.0288\n",
      "\n",
      "Model rank 2 - Config: {'C': 2500.0, 'epsilon': 0.05, 'gamma': 'scale', 'kernel': 'rbf'}\n",
      "Mean score -0.1116 - Std score: 0.0297\n",
      "\n",
      "Model rank 3 - Config: {'C': 2000.0, 'epsilon': 0.05, 'gamma': 'scale', 'kernel': 'rbf'}\n",
      "Mean score -0.1125 - Std score: 0.0299\n",
      "\n",
      "Model rank 4 - Config: {'C': 1500.0, 'epsilon': 0.1, 'gamma': 'scale', 'kernel': 'rbf'}\n",
      "Mean score -0.1131 - Std score: 0.0269\n",
      "\n",
      "Model rank 5 - Config: {'C': 1000.0, 'epsilon': 0.1, 'gamma': 'scale', 'kernel': 'rbf'}\n",
      "Mean score -0.1142 - Std score: 0.0280\n",
      "\n"
     ]
    }
   ],
   "source": [
    "grid_search_cup.fit(x_train_cup, y_train_cup3)\n",
    "print('--OUTPUT 3--')\n",
    "best_configs_cup3, candidates3 = grid_search_top_configs(grid_search_cup.cv_results_)"
   ]
  },
  {
   "cell_type": "code",
   "execution_count": 46,
   "id": "5d0817b6-283a-4b0f-8b17-bb909d9238f4",
   "metadata": {},
   "outputs": [
    {
     "data": {
      "text/html": [
       "<style>#sk-container-id-11 {color: black;}#sk-container-id-11 pre{padding: 0;}#sk-container-id-11 div.sk-toggleable {background-color: white;}#sk-container-id-11 label.sk-toggleable__label {cursor: pointer;display: block;width: 100%;margin-bottom: 0;padding: 0.3em;box-sizing: border-box;text-align: center;}#sk-container-id-11 label.sk-toggleable__label-arrow:before {content: \"▸\";float: left;margin-right: 0.25em;color: #696969;}#sk-container-id-11 label.sk-toggleable__label-arrow:hover:before {color: black;}#sk-container-id-11 div.sk-estimator:hover label.sk-toggleable__label-arrow:before {color: black;}#sk-container-id-11 div.sk-toggleable__content {max-height: 0;max-width: 0;overflow: hidden;text-align: left;background-color: #f0f8ff;}#sk-container-id-11 div.sk-toggleable__content pre {margin: 0.2em;color: black;border-radius: 0.25em;background-color: #f0f8ff;}#sk-container-id-11 input.sk-toggleable__control:checked~div.sk-toggleable__content {max-height: 200px;max-width: 100%;overflow: auto;}#sk-container-id-11 input.sk-toggleable__control:checked~label.sk-toggleable__label-arrow:before {content: \"▾\";}#sk-container-id-11 div.sk-estimator input.sk-toggleable__control:checked~label.sk-toggleable__label {background-color: #d4ebff;}#sk-container-id-11 div.sk-label input.sk-toggleable__control:checked~label.sk-toggleable__label {background-color: #d4ebff;}#sk-container-id-11 input.sk-hidden--visually {border: 0;clip: rect(1px 1px 1px 1px);clip: rect(1px, 1px, 1px, 1px);height: 1px;margin: -1px;overflow: hidden;padding: 0;position: absolute;width: 1px;}#sk-container-id-11 div.sk-estimator {font-family: monospace;background-color: #f0f8ff;border: 1px dotted black;border-radius: 0.25em;box-sizing: border-box;margin-bottom: 0.5em;}#sk-container-id-11 div.sk-estimator:hover {background-color: #d4ebff;}#sk-container-id-11 div.sk-parallel-item::after {content: \"\";width: 100%;border-bottom: 1px solid gray;flex-grow: 1;}#sk-container-id-11 div.sk-label:hover label.sk-toggleable__label {background-color: #d4ebff;}#sk-container-id-11 div.sk-serial::before {content: \"\";position: absolute;border-left: 1px solid gray;box-sizing: border-box;top: 0;bottom: 0;left: 50%;z-index: 0;}#sk-container-id-11 div.sk-serial {display: flex;flex-direction: column;align-items: center;background-color: white;padding-right: 0.2em;padding-left: 0.2em;position: relative;}#sk-container-id-11 div.sk-item {position: relative;z-index: 1;}#sk-container-id-11 div.sk-parallel {display: flex;align-items: stretch;justify-content: center;background-color: white;position: relative;}#sk-container-id-11 div.sk-item::before, #sk-container-id-11 div.sk-parallel-item::before {content: \"\";position: absolute;border-left: 1px solid gray;box-sizing: border-box;top: 0;bottom: 0;left: 50%;z-index: -1;}#sk-container-id-11 div.sk-parallel-item {display: flex;flex-direction: column;z-index: 1;position: relative;background-color: white;}#sk-container-id-11 div.sk-parallel-item:first-child::after {align-self: flex-end;width: 50%;}#sk-container-id-11 div.sk-parallel-item:last-child::after {align-self: flex-start;width: 50%;}#sk-container-id-11 div.sk-parallel-item:only-child::after {width: 0;}#sk-container-id-11 div.sk-dashed-wrapped {border: 1px dashed gray;margin: 0 0.4em 0.5em 0.4em;box-sizing: border-box;padding-bottom: 0.4em;background-color: white;}#sk-container-id-11 div.sk-label label {font-family: monospace;font-weight: bold;display: inline-block;line-height: 1.2em;}#sk-container-id-11 div.sk-label-container {text-align: center;}#sk-container-id-11 div.sk-container {/* jupyter's `normalize.less` sets `[hidden] { display: none; }` but bootstrap.min.css set `[hidden] { display: none !important; }` so we also need the `!important` here to be able to override the default hidden behavior on the sphinx rendered scikit-learn.org. See: https://github.com/scikit-learn/scikit-learn/issues/21755 */display: inline-block !important;position: relative;}#sk-container-id-11 div.sk-text-repr-fallback {display: none;}</style><div id=\"sk-container-id-11\" class=\"sk-top-container\"><div class=\"sk-text-repr-fallback\"><pre>SVR(C=1000.0)</pre><b>In a Jupyter environment, please rerun this cell to show the HTML representation or trust the notebook. <br />On GitHub, the HTML representation is unable to render, please try loading this page with nbviewer.org.</b></div><div class=\"sk-container\" hidden><div class=\"sk-item\"><div class=\"sk-estimator sk-toggleable\"><input class=\"sk-toggleable__control sk-hidden--visually\" id=\"sk-estimator-id-15\" type=\"checkbox\" checked><label for=\"sk-estimator-id-15\" class=\"sk-toggleable__label sk-toggleable__label-arrow\">SVR</label><div class=\"sk-toggleable__content\"><pre>SVR(C=1000.0)</pre></div></div></div></div></div>"
      ],
      "text/plain": [
       "SVR(C=1000.0)"
      ]
     },
     "execution_count": 46,
     "metadata": {},
     "output_type": "execute_result"
    }
   ],
   "source": [
    "#rfr3 = SVR(**grid_search_cup.best_params_)\n",
    "rfr3 = SVR(**grid_search_cup.cv_results_['params'][candidates3[4]])\n",
    "\n",
    "rfr3.fit(x_train_cup, y_train_cup3)"
   ]
  },
  {
   "cell_type": "code",
   "execution_count": 47,
   "id": "c9fabda2-25ff-4498-8340-38ae82f5722f",
   "metadata": {},
   "outputs": [
    {
     "name": "stdout",
     "output_type": "stream",
     "text": [
      "-- DEVELOPMENT 1 --\n",
      "4.620079547197506\n",
      "\n",
      "-- DEVELOPMENT 2 --\n",
      "5.05607714129837\n",
      "\n",
      "-- DEVELOPMENT 3 --\n",
      "3.9259491745266453\n"
     ]
    }
   ],
   "source": [
    "print('-- DEVELOPMENT 1 --')\n",
    "y_preds_up1 = rfr1.predict(x_train_cup)\n",
    "dev_mee_cup1 = mean_euclidean_error(y_train_cup1, y_preds_up1)\n",
    "print(dev_mee_cup1)\n",
    "\n",
    "print('\\n-- DEVELOPMENT 2 --')\n",
    "y_preds_up2 = rfr2.predict(x_train_cup)\n",
    "dev_mee_cup2 = mean_euclidean_error(y_train_cup2, y_preds_up2)\n",
    "print(dev_mee_cup2)\n",
    "\n",
    "print('\\n-- DEVELOPMENT 3 --')\n",
    "y_preds_up3 = rfr3.predict(x_train_cup)\n",
    "dev_mee_cup3 = mean_euclidean_error(y_train_cup3, y_preds_up3)\n",
    "print(dev_mee_cup3)"
   ]
  },
  {
   "cell_type": "code",
   "execution_count": 48,
   "id": "6394585c-32c4-456e-98fd-070aaed5d221",
   "metadata": {},
   "outputs": [
    {
     "name": "stdout",
     "output_type": "stream",
     "text": [
      "--INTERNAL TEST 1--\n",
      "7.640829281794288\n",
      "\n",
      "--INTERNAL TEST 2--\n",
      "8.211616395875541\n",
      "\n",
      "--INTERNAL TEST 3--\n",
      "4.857313064052491\n",
      "\n",
      "Internal test mee = 6.9033\n"
     ]
    }
   ],
   "source": [
    "print('--INTERNAL TEST 1--')\n",
    "y_inpreds_up1 = rfr1.predict(x_intest_cup)\n",
    "intest_mee_cup1 = mean_euclidean_error(y_intest_cup1, y_inpreds_up1)\n",
    "print(intest_mee_cup1)\n",
    "\n",
    "print('\\n--INTERNAL TEST 2--')\n",
    "y_inpreds_up2 = rfr2.predict(x_intest_cup)\n",
    "intest_mee_cup2 = mean_euclidean_error(y_intest_cup2, y_inpreds_up2)\n",
    "print(intest_mee_cup2)\n",
    "\n",
    "print('\\n--INTERNAL TEST 3--')\n",
    "y_inpreds_up3 = rfr3.predict(x_intest_cup)\n",
    "intest_mee_cup3 = mean_euclidean_error(y_intest_cup3, y_inpreds_up3)\n",
    "print(intest_mee_cup3)\n",
    "\n",
    "intest_mee_cup = np.mean([intest_mee_cup1, intest_mee_cup2, intest_mee_cup3])\n",
    "print(f\"\\nInternal test mee = {intest_mee_cup:.4f}\")"
   ]
  },
  {
   "cell_type": "code",
   "execution_count": 49,
   "id": "d4b25848-1108-4c94-8ccd-05a5df6871b4",
   "metadata": {},
   "outputs": [
    {
     "name": "stdout",
     "output_type": "stream",
     "text": [
      "-- RETRAINING 1--\n",
      "5.290958171364963\n",
      "\n",
      "-- RETRAINING 2--\n",
      "5.6377969463709565\n",
      "\n",
      "-- RETRAINING 3--\n",
      "4.447134423172176\n",
      "\n",
      "Retraining mee = 5.1253\n"
     ]
    }
   ],
   "source": [
    "print('-- RETRAINING 1--')\n",
    "rfr1.fit(x_dev_cup, y_dev_cup1)\n",
    "y_preds_up1 = rfr1.predict(x_dev_cup)\n",
    "dev_mee_cup1 = mean_euclidean_error(y_dev_cup1, y_preds_up1)\n",
    "print(dev_mee_cup1)\n",
    "\n",
    "print('\\n-- RETRAINING 2--')\n",
    "rfr2.fit(x_dev_cup, y_dev_cup2)\n",
    "y_preds_up2 = rfr2.predict(x_dev_cup)\n",
    "dev_mee_cup2 = mean_euclidean_error(y_dev_cup2, y_preds_up2)\n",
    "print(dev_mee_cup2)\n",
    "\n",
    "print('\\n-- RETRAINING 3--')\n",
    "rfr3.fit(x_dev_cup, y_dev_cup3)\n",
    "y_preds_up3 = rfr3.predict(x_dev_cup)\n",
    "dev_mee_cup3 = mean_euclidean_error(y_dev_cup3, y_preds_up3)\n",
    "print(dev_mee_cup3)\n",
    "\n",
    "dev_mee_cup = np.mean([dev_mee_cup1, dev_mee_cup2, dev_mee_cup3])\n",
    "print(f\"\\nRetraining mee = {dev_mee_cup:.4f}\")"
   ]
  },
  {
   "cell_type": "code",
   "execution_count": 50,
   "id": "50a4bf99-c02c-41e7-bb07-fccbd0c0aa50",
   "metadata": {},
   "outputs": [],
   "source": [
    "# Blind test set predictions\n",
    "test_preds_cup = [rfr1.predict(x_test_cup), rfr2.predict(x_test_cup), rfr3.predict(x_test_cup)]"
   ]
  },
  {
   "cell_type": "markdown",
   "id": "89020a2f-92a1-446c-8828-9a23df6eb762",
   "metadata": {},
   "source": [
    "## Store Result"
   ]
  },
  {
   "cell_type": "code",
   "execution_count": 51,
   "id": "ba54fb68-130d-47dc-9b4b-cf9ec6c267a2",
   "metadata": {},
   "outputs": [],
   "source": [
    "store_cup_result(results_dir + '/CUP/', best_configs_cup1, 1, dev_mee_cup, intest_mee_cup, test_preds_cup)\n",
    "store_cup_result(results_dir + '/CUP/', best_configs_cup2, 2, dev_mee_cup, intest_mee_cup, test_preds_cup)\n",
    "store_cup_result(results_dir + '/CUP/', best_configs_cup3, 3, dev_mee_cup, intest_mee_cup, test_preds_cup)"
   ]
  },
  {
   "cell_type": "code",
   "execution_count": null,
   "id": "f8040d59-0165-43d6-a6e7-2272174e51d9",
   "metadata": {},
   "outputs": [],
   "source": []
  }
 ],
 "metadata": {
  "kernelspec": {
   "display_name": "Python 3 (ipykernel)",
   "language": "python",
   "name": "python3"
  },
  "language_info": {
   "codemirror_mode": {
    "name": "ipython",
    "version": 3
   },
   "file_extension": ".py",
   "mimetype": "text/x-python",
   "name": "python",
   "nbconvert_exporter": "python",
   "pygments_lexer": "ipython3",
   "version": "3.11.5"
  }
 },
 "nbformat": 4,
 "nbformat_minor": 5
}
