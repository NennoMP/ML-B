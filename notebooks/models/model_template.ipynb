{
 "cells": [
  {
   "cell_type": "markdown",
   "id": "59d3416e-3aee-496b-9a46-d86fab3fe008",
   "metadata": {
    "tags": []
   },
   "source": [
    "## Imports"
   ]
  },
  {
   "cell_type": "code",
   "execution_count": null,
   "id": "15985a7e-4206-4f13-aaad-d38982df5f10",
   "metadata": {},
   "outputs": [],
   "source": [
    "import os\n",
    "import sys\n",
    "\n",
    "import numpy as np\n",
    "import pandas as pd\n",
    "\n",
    "from sklearn.ensemble import RandomForestClassifier, RandomForestRegressor\n",
    "from sklearn.metrics import accuracy_score, classification_report, make_scorer\n",
    "from sklearn.model_selection import GridSearchCV, StratifiedKFold, KFold\n",
    "\n",
    "dir_parts = os.getcwd().split(os.path.sep)\n",
    "root_index = dir_parts.index('MyML-B')\n",
    "root_path = os.path.sep.join(dir_parts[:root_index + 1])\n",
    "sys.path.append(root_path + '/code/')\n",
    "from data.data_config import Dataset\n",
    "from data.data_utils import load_monk, load_cup, store_monk_result, store_cup_result\n",
    "from hyperparameter_tuning import grid_search_top_configs\n",
    "from training.metrics import mean_euclidean_error\n",
    "\n",
    "%load_ext autoreload\n",
    "%autoreload 2"
   ]
  },
  {
   "cell_type": "markdown",
   "id": "796c5562-6b4f-4eb0-bf78-8850ccc95a88",
   "metadata": {
    "tags": []
   },
   "source": [
    "# Random Forest\n",
    "In this notebook we test a **RandomForestClassifier** and a **RandomForestRegressor** w.r.t. the tasks at hand, i.e. the three MONK's problems and the CUP dataset respectively."
   ]
  },
  {
   "cell_type": "code",
   "execution_count": null,
   "id": "5e103d7c-0cc6-4f8c-89a9-aed6653b1abf",
   "metadata": {
    "tags": []
   },
   "outputs": [],
   "source": [
    "MODEL_NAME = 'RandomForest'"
   ]
  },
  {
   "cell_type": "markdown",
   "id": "84564330-d564-4700-9865-88576073b71b",
   "metadata": {
    "tags": []
   },
   "source": [
    "## Path"
   ]
  },
  {
   "cell_type": "code",
   "execution_count": null,
   "id": "0b342ae0-1ef2-4bdb-9128-cd10ac83adf9",
   "metadata": {},
   "outputs": [],
   "source": [
    "# Directories\n",
    "results_dir = root_path + '/results/' + MODEL_NAME\n",
    "\n",
    "# Filepaths (MONK)\n",
    "m1_dev_path, m1_test_path = Dataset.MONK_1.dev_path, Dataset.MONK_1.test_path # MONK 1\n",
    "m2_dev_path, m2_test_path = Dataset.MONK_2.dev_path, Dataset.MONK_2.test_path # MONK 2\n",
    "m3_dev_path, m3_test_path = Dataset.MONK_3.dev_path, Dataset.MONK_3.test_path # MONK 3\n",
    "\n",
    "# Filepaths (CUP)\n",
    "cup_dev_path, cup_test_path = Dataset.CUP.dev_path, Dataset.CUP.test_path"
   ]
  },
  {
   "cell_type": "markdown",
   "id": "859824b9-6c6c-4f09-b4d9-ad5f9c5e2b29",
   "metadata": {
    "tags": []
   },
   "source": [
    "# MONK-1"
   ]
  },
  {
   "cell_type": "code",
   "execution_count": null,
   "id": "83acdfd1-f9c0-4e22-9bae-3998e0273ca1",
   "metadata": {},
   "outputs": [],
   "source": [
    "# Load MONK-1\n",
    "x_dev_m1, y_dev_m1, x_test_m1, y_test_m1 = load_monk(m1_dev_path, m1_test_path)"
   ]
  },
  {
   "cell_type": "markdown",
   "id": "eaba9b76-776b-4385-b71c-2cd30f5fed9d",
   "metadata": {},
   "source": [
    "First of all, we define the grid search spaces for the RandomForestClassifier that we're going to use for all three MONK's problems."
   ]
  },
  {
   "cell_type": "code",
   "execution_count": null,
   "id": "45831b92-a6ae-4950-9a24-475f37115343",
   "metadata": {
    "tags": []
   },
   "outputs": [],
   "source": [
    "# hparams grid for grid search\n",
    "rfc_hparams_spaces = {\n",
    "    'n_estimators': [25, 50, 100],\n",
    "    'max_depth': [None, 10, 20],\n",
    "    'min_samples_leaf': [1, 2, 4],\n",
    "    'min_samples_split': [2, 5, 10],\n",
    "    'max_features': ['auto', 'sqrt'],\n",
    "    'criterion': ['gini', 'entropy'],\n",
    "    'bootstrap': [True, False],\n",
    "}"
   ]
  },
  {
   "cell_type": "markdown",
   "id": "94fcd744-bfd1-4316-b15d-ab6689988460",
   "metadata": {
    "tags": []
   },
   "source": [
    "## Grid search\n",
    "Grid search is a simple hyper-parameter tuning techniques useful for finding the best configuration for a specific ML model. It involves:\n",
    "- defining a grid of hparams values\n",
    "- systematically test all possible combinations\n",
    "\n",
    "Other approaches include Random search or Bayesian optimization."
   ]
  },
  {
   "cell_type": "code",
   "execution_count": null,
   "id": "533e2fb2-2f18-4f54-88cc-f6f9df08db60",
   "metadata": {},
   "outputs": [],
   "source": [
    "# perform grid search with KFold\n",
    "grid_search_m1 = GridSearchCV(\n",
    "    RandomForestClassifier(random_state=69),\n",
    "    param_grid=rfc_hparams_spaces,\n",
    "    cv=StratifiedKFold(n_splits=5, shuffle=True, random_state=69),\n",
    "    scoring='accuracy',\n",
    "    verbose=1\n",
    ")\n",
    "\n",
    "grid_search_m1.fit(x_dev_m1, y_dev_m1)"
   ]
  },
  {
   "cell_type": "code",
   "execution_count": null,
   "id": "ce7c6596-ab4e-4b5c-9cce-a257498ca99d",
   "metadata": {},
   "outputs": [],
   "source": [
    "best_configs_m1 = grid_search_top_configs(grid_search_m1.cv_results_) # top k config"
   ]
  },
  {
   "cell_type": "code",
   "execution_count": null,
   "id": "51d80917-9ca0-4de4-8db8-045183494e9f",
   "metadata": {},
   "outputs": [],
   "source": [
    "# Create a RandomForest with the best hparams\n",
    "rfc = RandomForestClassifier(**grid_search_m1.best_params_)\n",
    "\n",
    "# Train the model\n",
    "rfc.fit(x_dev_m1, y_dev_m1)"
   ]
  },
  {
   "cell_type": "code",
   "execution_count": null,
   "id": "e034c525-0c5a-4737-9186-4cfc0b61ae15",
   "metadata": {},
   "outputs": [],
   "source": [
    "print('-- DEVELOPMENT --')\n",
    "print(classification_report(y_dev_m1, rfc.predict(x_dev_m1)))"
   ]
  },
  {
   "cell_type": "code",
   "execution_count": null,
   "id": "38e328d0-7a8e-463d-b9f3-0b2bdd3700c9",
   "metadata": {},
   "outputs": [],
   "source": [
    "print('-- TEST --')\n",
    "report_test_m1 = classification_report(y_test_m1, rfc.predict(x_test_m1))\n",
    "print(report_test_m1)"
   ]
  },
  {
   "cell_type": "markdown",
   "id": "5d9a9e02-7de5-4fe0-8b53-5d7e98839b89",
   "metadata": {},
   "source": [
    "## Store results"
   ]
  },
  {
   "cell_type": "code",
   "execution_count": null,
   "id": "4b65fea0-49fd-4f42-be28-e03a264f7d6a",
   "metadata": {},
   "outputs": [],
   "source": [
    "store_monk_result(results_dir + '/MONK1/', best_configs_m1, report_test_m1)"
   ]
  },
  {
   "cell_type": "markdown",
   "id": "b216aed0-5ba0-4816-a889-a3be455e73c9",
   "metadata": {},
   "source": [
    "# MONK-2"
   ]
  },
  {
   "cell_type": "code",
   "execution_count": null,
   "id": "315fe162-40da-4664-b6f0-d1f01709f508",
   "metadata": {},
   "outputs": [],
   "source": []
  },
  {
   "cell_type": "markdown",
   "id": "aea2e408-6d1b-4c43-b70b-c4fec0da831d",
   "metadata": {},
   "source": [
    "# MONK-3"
   ]
  },
  {
   "cell_type": "code",
   "execution_count": null,
   "id": "9f02aae1-f31b-4403-9d85-fbfaf144d224",
   "metadata": {},
   "outputs": [],
   "source": []
  },
  {
   "cell_type": "markdown",
   "id": "007f6603-97eb-4bf3-ae71-b1a62be020bd",
   "metadata": {},
   "source": [
    "# CUP"
   ]
  },
  {
   "cell_type": "code",
   "execution_count": null,
   "id": "319305de-8537-410c-967c-639dad72fd16",
   "metadata": {},
   "outputs": [],
   "source": [
    "# Load CUP\n",
    "x_dev_cup, y_dev_cup, x_test_cup = load_cup(cup_dev_path, cup_test_path)"
   ]
  },
  {
   "cell_type": "markdown",
   "id": "e1f8de1b-5cac-47df-9b3e-b09f759c1c81",
   "metadata": {},
   "source": [
    "Here, we define the grid search spaces for the RandomForestRegression for the CUP dataset."
   ]
  },
  {
   "cell_type": "code",
   "execution_count": null,
   "id": "8a9876fe-17b0-483e-9604-77757d5f797b",
   "metadata": {},
   "outputs": [],
   "source": [
    "rfr_hparams_spaces = {\n",
    "    'n_estimators': [25, 50, 100],\n",
    "    'max_depth': [None, 10, 20],\n",
    "    'min_samples_leaf': [1, 2, 4],\n",
    "    'min_samples_split': [2, 5, 10],\n",
    "    'max_features': ['auto', 'sqrt'],\n",
    "    'criterion': ['squared_error'],\n",
    "    'bootstrap': [True, False],\n",
    "}"
   ]
  },
  {
   "cell_type": "markdown",
   "id": "a614d1c6-5680-4d6d-a8d5-afb6a5a6d945",
   "metadata": {},
   "source": [
    "## Grid search"
   ]
  },
  {
   "cell_type": "code",
   "execution_count": null,
   "id": "1a45b107-4e22-4f09-9663-f7df9567fe92",
   "metadata": {},
   "outputs": [],
   "source": [
    "# perform grid search with KFold\n",
    "grid_search_cup = GridSearchCV(\n",
    "    RandomForestRegressor(random_state=69),\n",
    "    param_grid=rfr_hparams_spaces,\n",
    "    cv=KFold(n_splits=5, shuffle=True, random_state=69),\n",
    "    scoring=make_scorer(mean_euclidean_error, greater_is_better=False),\n",
    "    verbose=1\n",
    ")\n",
    "\n",
    "grid_search_cup.fit(x_dev_cup, y_dev_cup)"
   ]
  },
  {
   "cell_type": "code",
   "execution_count": null,
   "id": "d914ba9f-394f-40db-965d-358408862725",
   "metadata": {},
   "outputs": [],
   "source": [
    "best_configs_cup = grid_search_top_configs(grid_search_cup.cv_results_) # top k config"
   ]
  },
  {
   "cell_type": "code",
   "execution_count": null,
   "id": "74093f2e-a632-45e5-99ac-0b91438794bf",
   "metadata": {},
   "outputs": [],
   "source": [
    "# Create a RandomForest with the best hparams\n",
    "rfr = RandomForestRegressor(**grid_search_cup.best_params_)\n",
    "\n",
    "# Train the model\n",
    "rfr.fit(x_dev_cup, y_dev_cup)"
   ]
  },
  {
   "cell_type": "code",
   "execution_count": null,
   "id": "c9fabda2-25ff-4498-8340-38ae82f5722f",
   "metadata": {},
   "outputs": [],
   "source": [
    "print('-- DEVELOPMENT --')\n",
    "dev_mee_cup = mean_euclidean_error(y_dev_cup, rfr.predict(x_dev_cup))\n",
    "print(dev_mee_cup)"
   ]
  },
  {
   "cell_type": "code",
   "execution_count": null,
   "id": "50a4bf99-c02c-41e7-bb07-fccbd0c0aa50",
   "metadata": {},
   "outputs": [],
   "source": [
    "# Blind test set predictions\n",
    "test_preds_cup = rfr.predict(x_test_cup)"
   ]
  },
  {
   "cell_type": "markdown",
   "id": "89020a2f-92a1-446c-8828-9a23df6eb762",
   "metadata": {},
   "source": [
    "## Store Result"
   ]
  },
  {
   "cell_type": "code",
   "execution_count": null,
   "id": "ba54fb68-130d-47dc-9b4b-cf9ec6c267a2",
   "metadata": {},
   "outputs": [],
   "source": [
    "store_cup_result(results_dir + '/CUP/', best_configs_cup, dev_mee_cup, test_preds_cup)"
   ]
  },
  {
   "cell_type": "code",
   "execution_count": null,
   "id": "e3243c1b-4ce3-4dd7-82db-55583fe4d494",
   "metadata": {},
   "outputs": [],
   "source": []
  }
 ],
 "metadata": {
  "kernelspec": {
   "display_name": "hlt",
   "language": "python",
   "name": "hlt"
  },
  "language_info": {
   "codemirror_mode": {
    "name": "ipython",
    "version": 3
   },
   "file_extension": ".py",
   "mimetype": "text/x-python",
   "name": "python",
   "nbconvert_exporter": "python",
   "pygments_lexer": "ipython3",
   "version": "3.9.7"
  }
 },
 "nbformat": 4,
 "nbformat_minor": 5
}
