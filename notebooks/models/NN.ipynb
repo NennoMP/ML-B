{
 "cells": [
  {
   "cell_type": "markdown",
   "id": "59d3416e-3aee-496b-9a46-d86fab3fe008",
   "metadata": {
    "tags": []
   },
   "source": [
    "## Imports"
   ]
  },
  {
   "cell_type": "code",
   "execution_count": 55,
   "id": "15985a7e-4206-4f13-aaad-d38982df5f10",
   "metadata": {},
   "outputs": [
    {
     "name": "stdout",
     "output_type": "stream",
     "text": [
      "The autoreload extension is already loaded. To reload it, use:\n",
      "  %reload_ext autoreload\n"
     ]
    }
   ],
   "source": [
    "import json\n",
    "import os\n",
    "import sys\n",
    "\n",
    "import numpy as np\n",
    "import pandas as pd\n",
    "import tensorflow as tf\n",
    "\n",
    "from sklearn.metrics import accuracy_score, mean_squared_error, make_scorer\n",
    "from sklearn.model_selection import train_test_split, StratifiedKFold, KFold\n",
    "\n",
    "from tensorflow.keras.models import Sequential\n",
    "from tensorflow.keras.layers import Dense, Input\n",
    "from tensorflow.keras.initializers import RandomUniform, RandomNormal, HeNormal, GlorotUniform\n",
    "from keras.optimizers import SGD, Adam\n",
    "from tensorflow.keras.regularizers import l2\n",
    "\n",
    "\n",
    "dir_parts = os.getcwd().split(os.path.sep)\n",
    "root_index = dir_parts.index('ML-B')\n",
    "root_path = os.path.sep.join(dir_parts[:root_index + 1])\n",
    "sys.path.append(root_path + '/code/')\n",
    "from data.data_config import Dataset\n",
    "from data.data_utils import load_monk, load_cup, store_monk_result, store_cup_result\n",
    "from hyperparameter_tuning import grid_search, grid_search_top_configs\n",
    "from training.metrics import mean_euclidean_error\n",
    "from training.solver import Solver\n",
    "\n",
    "%load_ext autoreload\n",
    "%autoreload 2"
   ]
  },
  {
   "cell_type": "markdown",
   "id": "2c866a15-7062-4d33-a206-2ec35f8643f1",
   "metadata": {
    "tags": []
   },
   "source": [
    "# NN\n",
    "In this notebook we implement and test a custom (feed-forward) Neural Network w.r.t. the tasks at hand, i.e. the three MONK's problem and the CUP dataset.\n",
    "\n",
    "Specifically:\n",
    "- **get_nn_classifier(...)**: defines the NN classifier for the MONK's problems;\n",
    "- **get_nn_regressor(...)**: defines the NN regressor for the CUP dataset."
   ]
  },
  {
   "cell_type": "markdown",
   "id": "558a076d-71ee-46dc-949f-caa3a3bf2df7",
   "metadata": {
    "tags": []
   },
   "source": [
    "## Settings"
   ]
  },
  {
   "cell_type": "code",
   "execution_count": 3,
   "id": "1fcfe3c3-e764-453e-879e-96937623ab48",
   "metadata": {
    "tags": []
   },
   "outputs": [],
   "source": [
    "MODEL_NAME = 'NN'\n",
    "VAL_SPLIT = 0.2 # validation set percentage\n",
    "INTERNAL_TEST_SPLIT = 0.5 # internal test split (50% of validation split)\n",
    "RANDOM_STATE = 128 # reproducibility"
   ]
  },
  {
   "cell_type": "markdown",
   "id": "84564330-d564-4700-9865-88576073b71b",
   "metadata": {
    "tags": []
   },
   "source": [
    "## Path"
   ]
  },
  {
   "cell_type": "code",
   "execution_count": 4,
   "id": "0b342ae0-1ef2-4bdb-9128-cd10ac83adf9",
   "metadata": {},
   "outputs": [],
   "source": [
    "# Directories\n",
    "results_dir = root_path + '/results/' + MODEL_NAME\n",
    "\n",
    "# Filepaths (MONK)\n",
    "m1_dev_path, m1_test_path = Dataset.MONK_1.dev_path, Dataset.MONK_1.test_path # MONK 1\n",
    "m2_dev_path, m2_test_path = Dataset.MONK_2.dev_path, Dataset.MONK_2.test_path # MONK 2\n",
    "m3_dev_path, m3_test_path = Dataset.MONK_3.dev_path, Dataset.MONK_3.test_path # MONK 3\n",
    "\n",
    "# Filepaths (CUP)\n",
    "cup_dev_path, cup_test_path = Dataset.CUP.dev_path, Dataset.CUP.test_path"
   ]
  },
  {
   "cell_type": "markdown",
   "id": "859824b9-6c6c-4f09-b4d9-ad5f9c5e2b29",
   "metadata": {
    "tags": []
   },
   "source": [
    "# MONK-1"
   ]
  },
  {
   "cell_type": "code",
   "execution_count": 5,
   "id": "905cca8a-3ad3-4f0f-a1d8-8ff6253f962b",
   "metadata": {},
   "outputs": [],
   "source": [
    "# Load MONK-1\n",
    "x_dev_m1, y_dev_m1, x_test_m1, y_test_m1 = load_monk(m1_dev_path, m1_test_path)"
   ]
  },
  {
   "cell_type": "markdown",
   "id": "4ad13309-e6ed-43ce-b6be-b641c3a9f418",
   "metadata": {
    "tags": []
   },
   "source": [
    "## Model"
   ]
  },
  {
   "cell_type": "code",
   "execution_count": 6,
   "id": "8f66a645-e4b3-4812-9db6-1da781188456",
   "metadata": {
    "tags": []
   },
   "outputs": [],
   "source": [
    "def get_nn_classifier(hparams):\n",
    "    initializer = GlorotUniform(seed=RANDOM_STATE) # Glorot (Xavier)\n",
    "    \n",
    "    model = Sequential([\n",
    "        Dense(hparams['h_dim'], activation='tanh', input_shape=(17,), kernel_initializer=initializer),\n",
    "        Dense(1, activation='sigmoid', kernel_regularizer=l2(hparams['reg']))\n",
    "    ])\n",
    "    \n",
    "    optimizer = SGD(learning_rate=hparams['lr'])\n",
    "    model.compile(optimizer=optimizer, loss='binary_crossentropy', metrics=['accuracy', 'mse'])\n",
    "    return model"
   ]
  },
  {
   "cell_type": "markdown",
   "id": "eaba9b76-776b-4385-b71c-2cd30f5fed9d",
   "metadata": {},
   "source": [
    "First of all, we define the grid search spaces for the RandomForestClassifier that we're going to use for all three MONK's problems."
   ]
  },
  {
   "cell_type": "markdown",
   "id": "eae5a366-1520-4768-a26e-f461426e2393",
   "metadata": {},
   "source": [
    "## Training - Testing"
   ]
  },
  {
   "cell_type": "code",
   "execution_count": 73,
   "id": "102a1f41-1825-41af-9d22-e526af69b270",
   "metadata": {},
   "outputs": [
    {
     "name": "stdout",
     "output_type": "stream",
     "text": [
      "Epoch 1/5\n",
      "4/4 [==============================] - 0s 2ms/step - loss: 0.7297 - accuracy: 0.4274 - mse: 0.2678\n",
      "Epoch 2/5\n",
      "4/4 [==============================] - 0s 2ms/step - loss: 0.7081 - accuracy: 0.5161 - mse: 0.2573\n",
      "Epoch 3/5\n",
      "4/4 [==============================] - 0s 2ms/step - loss: 0.6904 - accuracy: 0.5403 - mse: 0.2486\n",
      "Epoch 4/5\n",
      "4/4 [==============================] - 0s 2ms/step - loss: 0.6753 - accuracy: 0.5726 - mse: 0.2412\n",
      "Epoch 5/5\n",
      "4/4 [==============================] - 0s 2ms/step - loss: 0.6621 - accuracy: 0.6048 - mse: 0.2348\n",
      "Restoring best model weights.\n",
      "Best loss: 0.6621195077896118\n"
     ]
    }
   ],
   "source": [
    "hparams_m1 = {\n",
    "    'lr': 0.1,\n",
    "    'h_dim': 16,\n",
    "    'reg': 0,\n",
    "}\n",
    "\n",
    "model_m1 = get_nn_classifier(hparams_m1)\n",
    "solver = Solver(model_m1, x_dev_m1, y_dev_m1)\n",
    "solver.train(epochs=5, patience=5, batch_size=32)"
   ]
  },
  {
   "cell_type": "code",
   "execution_count": 7,
   "id": "79ac744c-68b2-412d-ae72-cc3126fd83d0",
   "metadata": {},
   "outputs": [
    {
     "name": "stdout",
     "output_type": "stream",
     "text": [
      "-- DEVELOPMENT --\n",
      "2/2 [==============================] - 0s 4ms/step - loss: 0.6887 - accuracy: 0.5484 - mse: 0.2475\n",
      "Loss: 0.6887 - Accuracy: 0.5484 - MSE: 0.2475\n"
     ]
    }
   ],
   "source": [
    "print('-- DEVELOPMENT --')\n",
    "loss_dev_m1, acc_dev_m1, mse_dev_m1 = model_m1.evaluate(x_dev_m1, y_dev_m1, batch_size=64)\n",
    "print(f'Loss: {loss_dev_m1:.4f} - Accuracy: {acc_dev_m1:.4f} - MSE: {mse_dev_m1:.4f}')"
   ]
  },
  {
   "cell_type": "code",
   "execution_count": 8,
   "id": "38e328d0-7a8e-463d-b9f3-0b2bdd3700c9",
   "metadata": {},
   "outputs": [
    {
     "name": "stdout",
     "output_type": "stream",
     "text": [
      "-- TEST --\n",
      "14/14 [==============================] - 0s 1ms/step - loss: 0.7301 - accuracy: 0.4884 - mse: 0.2671\n",
      "Loss: 0.7301 - Accuracy: 0.4884 - MSE: 0.2671\n"
     ]
    }
   ],
   "source": [
    "print('-- TEST --')\n",
    "loss_test_m1, acc_test_m1, mse_test_m1 = model_m1.evaluate(x_test_m1, y_test_m1)\n",
    "print(f'Loss: {loss_test_m1:.4f} - Accuracy: {acc_test_m1:.4f} - MSE: {mse_test_m1:.4f}')"
   ]
  },
  {
   "cell_type": "markdown",
   "id": "5d9a9e02-7de5-4fe0-8b53-5d7e98839b89",
   "metadata": {},
   "source": [
    "## Store results"
   ]
  },
  {
   "cell_type": "code",
   "execution_count": 75,
   "id": "4b65fea0-49fd-4f42-be28-e03a264f7d6a",
   "metadata": {},
   "outputs": [],
   "source": [
    "dev_report_m1 = {'loss': loss_dev_m1, 'accuracy': acc_dev_m1, 'mse': mse_dev_m1}\n",
    "test_report_m1 = {'loss': loss_test_m1, 'accuracy': acc_test_m1, 'mse': mse_test_m1}\n",
    "\n",
    "store_monk_result(results_dir + '/MONK1/', hparams_m1, dev_report_m1, test_report_m1)"
   ]
  },
  {
   "cell_type": "markdown",
   "id": "b216aed0-5ba0-4816-a889-a3be455e73c9",
   "metadata": {},
   "source": [
    "# MONK-2"
   ]
  },
  {
   "cell_type": "code",
   "execution_count": null,
   "id": "315fe162-40da-4664-b6f0-d1f01709f508",
   "metadata": {},
   "outputs": [],
   "source": []
  },
  {
   "cell_type": "markdown",
   "id": "aea2e408-6d1b-4c43-b70b-c4fec0da831d",
   "metadata": {},
   "source": [
    "# MONK-3"
   ]
  },
  {
   "cell_type": "code",
   "execution_count": null,
   "id": "9f02aae1-f31b-4403-9d85-fbfaf144d224",
   "metadata": {},
   "outputs": [],
   "source": []
  },
  {
   "cell_type": "markdown",
   "id": "007f6603-97eb-4bf3-ae71-b1a62be020bd",
   "metadata": {},
   "source": [
    "# CUP"
   ]
  },
  {
   "cell_type": "code",
   "execution_count": 7,
   "id": "f5712241-dfcf-497e-ae57-60879717a63a",
   "metadata": {},
   "outputs": [],
   "source": [
    "# Load CUP\n",
    "x_dev_cup, y_dev_cup, x_test_cup = load_cup(cup_dev_path, cup_test_path)"
   ]
  },
  {
   "cell_type": "markdown",
   "id": "d24ae8aa-990f-4b6d-a301-186c83d60e1e",
   "metadata": {},
   "source": [
    "## Train-Val Split"
   ]
  },
  {
   "cell_type": "code",
   "execution_count": 8,
   "id": "be384cb9-dcd7-48b6-8993-563d6e1548a9",
   "metadata": {},
   "outputs": [],
   "source": [
    "x_train_cup, x_val_tmp_cup, y_train_cup, y_val_tmp_cup = train_test_split(\n",
    "    x_dev_cup, y_dev_cup, test_size=VAL_SPLIT, random_state=128\n",
    ")"
   ]
  },
  {
   "cell_type": "markdown",
   "id": "896f59d8-d306-470b-b71c-6e22cfa6d950",
   "metadata": {},
   "source": [
    "## Val-Test Split\n",
    "To comply with the **internal test** requirement of the project, we further split the validation data into validation and internal test, i.e. $50-50$ so that the final split of the development data is $80-10-10$."
   ]
  },
  {
   "cell_type": "code",
   "execution_count": 9,
   "id": "0139c55e-570f-49d3-870a-309fed50917a",
   "metadata": {},
   "outputs": [],
   "source": [
    "x_val_cup, x_internal_test_cup, y_val_cup, y_internal_test_cup = train_test_split(\n",
    "    x_val_tmp_cup, y_val_tmp_cup, test_size=INTERNAL_TEST_SPLIT, random_state=128  # 50% of 20% of validation set\n",
    ")"
   ]
  },
  {
   "cell_type": "markdown",
   "id": "bc4e58e7-2518-4de8-8ebd-1b62c8412539",
   "metadata": {},
   "source": [
    "## NN-SGD (no momentum)"
   ]
  },
  {
   "cell_type": "code",
   "execution_count": 20,
   "id": "edfd8cef-e90f-43f3-81d7-dbc7edc260b0",
   "metadata": {},
   "outputs": [],
   "source": [
    "# Directories\n",
    "results_dir = root_path + '/results/' + MODEL_NAME + '/NN-SGD'"
   ]
  },
  {
   "cell_type": "code",
   "execution_count": 11,
   "id": "c7eb6f38-bf75-4e8e-b2be-ffbe854bd5ee",
   "metadata": {},
   "outputs": [],
   "source": [
    "def get_nn_sgd_regressor(hparams):\n",
    "    #initializer = RandomUniform(minval=-0.5, maxval=0.5)\n",
    "    if hparams['activation'] == 'tanh':\n",
    "        initializer = GlorotUniform(seed=RANDOM_STATE) # Glorot (Xavier)\n",
    "    elif hparams['activation'] == 'ReLU':\n",
    "        initializer = HeNormal(seed=RANDOM_STATE) # He (Kaiming)\n",
    "\n",
    "        \n",
    "    reg = l2(hparams['reg'])\n",
    "        \n",
    "    model = Sequential()\n",
    "    model.add(Dense(\n",
    "        hparams['h_dim'], \n",
    "        activation=hparams['activation'], \n",
    "        input_shape=(10,), \n",
    "        kernel_initializer=initializer)\n",
    "    )\n",
    "\n",
    "    h_dim = hparams['h_dim']\n",
    "    for i in range(hparams['n_layers']):\n",
    "        model.add(\n",
    "            Dense(h_dim, activation=hparams['activation'], kernel_initializer=initializer))\n",
    "        h_dim //= 2\n",
    "\n",
    "\n",
    "    model.add(Dense(3, activation='linear', kernel_regularizer=l2(hparams['reg']), kernel_initializer=initializer))\n",
    "\n",
    "    optimizer = SGD(learning_rate=hparams['lr'])\n",
    "    model.compile(optimizer=optimizer, loss='mse', metrics=[mean_euclidean_error])\n",
    "    return model"
   ]
  },
  {
   "cell_type": "markdown",
   "id": "e1f8de1b-5cac-47df-9b3e-b09f759c1c81",
   "metadata": {},
   "source": [
    "Here, we define the grid search spaces for the RandomForestRegression for the CUP dataset."
   ]
  },
  {
   "cell_type": "markdown",
   "id": "a614d1c6-5680-4d6d-a8d5-afb6a5a6d945",
   "metadata": {},
   "source": [
    "## Grid search"
   ]
  },
  {
   "cell_type": "code",
   "execution_count": 12,
   "id": "aa2603d3-e454-499a-84dd-d502c270191d",
   "metadata": {},
   "outputs": [],
   "source": [
    "grid_search_spaces_cup = {\n",
    "    'lr': [0.01, 0.001, 0.003, 0.006, 0.0001],\n",
    "    'h_dim': [32, 64],\n",
    "    'n_layers': [1, 2],\n",
    "    'activation': ['ReLU'],\n",
    "    'reg': [0.01, 0.001, 0.0001],\n",
    "    'batch_size': len(x_dev_cup),\n",
    "}"
   ]
  },
  {
   "cell_type": "code",
   "execution_count": null,
   "id": "95845280-9ba2-449e-b5e5-a9666031c7b4",
   "metadata": {},
   "outputs": [],
   "source": [
    "grid_search(get_nn_sgd_regressor, x_train_cup, y_train_cup, x_val_cup, y_val_cup, grid_search_spaces_cup, TARGET='mean_euclidean_error', EPOCHS=300, PATIENCE=30)"
   ]
  },
  {
   "cell_type": "code",
   "execution_count": null,
   "id": "ab8e8858-431b-4547-a01d-2caa202cce04",
   "metadata": {},
   "outputs": [],
   "source": [
    "best_config['best_mee'] = min(results, key=lambda x: x[1]['val_mean_euclidean_error'])[1]['val_mean_euclidean_error']\n",
    "\n",
    "# Store it\n",
    "output_path = results_dir + '/CUP/' + 'best_config.json'\n",
    "with open(output_path, 'w') as outf:\n",
    "    json.dump(best_config, outf, indent=4)"
   ]
  },
  {
   "cell_type": "markdown",
   "id": "c8734a58-90f9-4155-aee9-eadaf1d6c8b4",
   "metadata": {},
   "source": [
    "## Training"
   ]
  },
  {
   "cell_type": "code",
   "execution_count": null,
   "id": "2f6ad475-7b03-4eb8-ad34-381d8e9e199e",
   "metadata": {},
   "outputs": [],
   "source": [
    "best_config = {\n",
    "    'lr': 0.0035,\n",
    "    'h_dim': 64,\n",
    "    'n_layers': 1,\n",
    "    'activation': 'ReLU',\n",
    "    'reg': 0.01,\n",
    "    'batch_size': len(x_train_cup),\n",
    "}\n",
    "\n",
    "model_nn_sgd_cup = get_nn_sgd_regressor(best_config)\n",
    "solver = Solver(model_nn_sgd_cup, x_train_cup, y_train_cup, x_val_cup, y_val_cup, target='mean_euclidean_error')\n",
    "solver.train(epochs=800, patience=50)"
   ]
  },
  {
   "cell_type": "code",
   "execution_count": 32,
   "id": "8b870ef6-e044-4982-9d7d-ea71ba02cc9a",
   "metadata": {},
   "outputs": [
    {
     "data": {
      "image/png": "[encoded data removed]",
      "text/plain": [
       "<Figure size 1200x500 with 2 Axes>"
      ]
     },
     "metadata": {},
     "output_type": "display_data"
    }
   ],
   "source": [
    "solver.plot_history(results_dir + '/CUP/history')"
   ]
  },
  {
   "cell_type": "code",
   "execution_count": 36,
   "id": "50bd9c75-258f-4cb5-9a52-6834fd6ea856",
   "metadata": {},
   "outputs": [
    {
     "name": "stdout",
     "output_type": "stream",
     "text": [
      "-- TRAINING --\n",
      "25/25 [==============================] - 0s 1ms/step - loss: 0.5243 - mean_euclidean_error: 0.7897\n",
      "Loss: 0.5243 -  MEE: 0.7897\n"
     ]
    }
   ],
   "source": [
    "print('-- TRAINING --')\n",
    "loss_train_cup, mee_train_cup = model_nn_sgd_cup.evaluate(x_train_cup, y_train_cup)\n",
    "print(f'Loss: {loss_train_cup:.4f} -  MEE: {mee_train_m3:.4f}')"
   ]
  },
  {
   "cell_type": "code",
   "execution_count": 37,
   "id": "2be3cb9b-8e0c-4406-bee3-bf22c73002ea",
   "metadata": {},
   "outputs": [
    {
     "name": "stdout",
     "output_type": "stream",
     "text": [
      "-- VALIDATION --\n",
      "4/4 [==============================] - 0s 2ms/step - loss: 0.8215 - mean_euclidean_error: 1.0687\n",
      "Loss: 0.8215 -  MEE: 1.0687\n"
     ]
    }
   ],
   "source": [
    "print('-- VALIDATION --')\n",
    "loss_val_cup, mee_val_cup = model_nn_sgd_cup.evaluate(x_val_cup, y_val_cup)\n",
    "print(f'Loss: {loss_val_cup:.4f} -  MEE: {mee_val_m3:.4f}')"
   ]
  },
  {
   "cell_type": "code",
   "execution_count": 38,
   "id": "22fdab8b-1c14-432a-9979-15016a37454c",
   "metadata": {},
   "outputs": [
    {
     "name": "stdout",
     "output_type": "stream",
     "text": [
      "-- INTERNAL TEST --\n",
      "4/4 [==============================] - 0s 2ms/step - loss: 1.1028 - mean_euclidean_error: 1.2042\n",
      "Loss: 1.1028 -  MEE: 1.2042\n"
     ]
    }
   ],
   "source": [
    "print('-- INTERNAL TEST --')\n",
    "loss_internal_test_cup, mee_internal_test_cup = model_nn_sgd_cup.evaluate(x_internal_test_cup, y_internal_test_cup)\n",
    "print(f'Loss: {loss_internal_test_cup:.4f} -  MEE: {mee_internal_test_cup:.4f}')"
   ]
  },
  {
   "cell_type": "markdown",
   "id": "de59161f-059d-403b-b3ba-9e395dc4e004",
   "metadata": {},
   "source": [
    "## Blind Test Predictions"
   ]
  },
  {
   "cell_type": "code",
   "execution_count": null,
   "id": "380f974c-c16b-42c3-bc0f-85bff5d5fa07",
   "metadata": {},
   "outputs": [
    {
     "name": "stdout",
     "output_type": "stream",
     "text": [
      "29/29 [==============================] - 0s 1ms/step\n"
     ]
    }
   ],
   "source": [
    "# Blind test set predictions\n",
    "nn_sgd_preds_cup = model_nn_sgd_cup.predict(x_test_cup)"
   ]
  },
  {
   "cell_type": "markdown",
   "id": "89020a2f-92a1-446c-8828-9a23df6eb762",
   "metadata": {},
   "source": [
    "## Store Result"
   ]
  },
  {
   "cell_type": "code",
   "execution_count": 56,
   "id": "e3243c1b-4ce3-4dd7-82db-55583fe4d494",
   "metadata": {},
   "outputs": [],
   "source": [
    "report_nn_sgd = {\n",
    "    'train': {'mse_loss': loss_train_cup, 'mse': mee_train_cup},\n",
    "    'val': {'mse_loss': loss_val_cup, 'mse': mee_val_cup},\n",
    "    'internal_test': {'mse_loss': loss_internal_test_cup, 'mee': mee_internal_test_cup}\n",
    "}\n",
    "\n",
    "store_cup_result(results_dir + '/CUP/', report_nn_sgd, nn_sgd_preds_cup)"
   ]
  }
 ],
 "metadata": {
  "kernelspec": {
   "display_name": "hlt",
   "language": "python",
   "name": "hlt"
  },
  "language_info": {
   "codemirror_mode": {
    "name": "ipython",
    "version": 3
   },
   "file_extension": ".py",
   "mimetype": "text/x-python",
   "name": "python",
   "nbconvert_exporter": "python",
   "pygments_lexer": "ipython3",
   "version": "3.9.7"
  }
 },
 "nbformat": 4,
 "nbformat_minor": 5
}
