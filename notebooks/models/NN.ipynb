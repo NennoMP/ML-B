{
 "cells": [
  {
   "cell_type": "markdown",
   "id": "59d3416e-3aee-496b-9a46-d86fab3fe008",
   "metadata": {
    "tags": []
   },
   "source": [
    "## Imports"
   ]
  },
  {
   "cell_type": "code",
   "execution_count": 2,
   "id": "15985a7e-4206-4f13-aaad-d38982df5f10",
   "metadata": {},
   "outputs": [],
   "source": [
    "import os\n",
    "import sys\n",
    "\n",
    "import numpy as np\n",
    "import pandas as pd\n",
    "import tensorflow as tf\n",
    "\n",
    "from sklearn.metrics import accuracy_score, classification_report, make_scorer\n",
    "from sklearn.model_selection import train_test_split, StratifiedKFold, KFold\n",
    "\n",
    "from tensorflow.keras.models import Sequential\n",
    "from tensorflow.keras.layers import Dense, Input\n",
    "from tensorflow.keras.initializers import HeNormal, GlorotUniform\n",
    "from keras.optimizers import SGD, Adam\n",
    "from tensorflow.keras.regularizers import l2\n",
    "\n",
    "\n",
    "dir_parts = os.getcwd().split(os.path.sep)\n",
    "root_index = dir_parts.index('ML-B')\n",
    "root_path = os.path.sep.join(dir_parts[:root_index + 1])\n",
    "sys.path.append(root_path + '/code/')\n",
    "from data.data_config import Dataset\n",
    "from data.data_utils import load_monk, load_cup, store_monk_result, store_cup_result\n",
    "from hyperparameter_tuning import grid_search_top_configs\n",
    "from training.metrics import mean_euclidean_error\n",
    "from training.solver import Solver\n",
    "\n",
    "%load_ext autoreload\n",
    "%autoreload 2"
   ]
  },
  {
   "cell_type": "markdown",
   "id": "2c866a15-7062-4d33-a206-2ec35f8643f1",
   "metadata": {
    "tags": []
   },
   "source": [
    "# NN\n",
    "In this notebook we implement and test a custom (feed-forward) Neural Network w.r.t. the tasks at hand, i.e. the three MONK's problem and the CUP dataset.\n",
    "\n",
    "Specifically:\n",
    "- **get_nn_classifier(...)**: defines the NN classifier for the MONK's problems;\n",
    "- **get_nn_regressor(...)**: defines the NN regressor for the CUP dataset."
   ]
  },
  {
   "cell_type": "markdown",
   "id": "558a076d-71ee-46dc-949f-caa3a3bf2df7",
   "metadata": {
    "tags": []
   },
   "source": [
    "## Settings"
   ]
  },
  {
   "cell_type": "code",
   "execution_count": 3,
   "id": "1fcfe3c3-e764-453e-879e-96937623ab48",
   "metadata": {
    "tags": []
   },
   "outputs": [],
   "source": [
    "MODEL_NAME = 'NN'\n",
    "VAL_SPLIT = 0.2 # validation set percentage\n",
    "RANDOM_STATE = 128"
   ]
  },
  {
   "cell_type": "markdown",
   "id": "4ad13309-e6ed-43ce-b6be-b641c3a9f418",
   "metadata": {
    "tags": []
   },
   "source": [
    "## Model"
   ]
  },
  {
   "cell_type": "code",
   "execution_count": 4,
   "id": "8f66a645-e4b3-4812-9db6-1da781188456",
   "metadata": {
    "tags": []
   },
   "outputs": [],
   "source": [
    "hparams = {\n",
    "    'lr': [0.1, 0.01],\n",
    "    'h_dim': [16, 32],\n",
    "    'activation': ['relu', 'tanh'],\n",
    "    'reg': [0.1, 0.01],\n",
    "}\n",
    "\n",
    "def get_nn_classifier(hparams):\n",
    "    # Determine appropriate initializer\n",
    "    if hparams['activation'] == 'relu':\n",
    "        initializer = HeNormal() # Kaiming (He)\n",
    "    else:\n",
    "        initializer = GlorotUniform() # Xavier (Glorot)\n",
    "    \n",
    "    model = Sequential([\n",
    "        Dense(hparams['h_dim'], activation=hparams['activation'], input_shape=(17,), kernel_initializer=initializer),\n",
    "        Dense(1, activation='sigmoid', kernel_regularizer=l2(hparams['reg']))\n",
    "    ])\n",
    "    \n",
    "    optimizer = SGD(learning_rate=hparams['lr'])\n",
    "    model.compile(optimizer=optimizer, loss='binary_crossentropy', metrics=['accuracy'])\n",
    "    return model"
   ]
  },
  {
   "cell_type": "markdown",
   "id": "84564330-d564-4700-9865-88576073b71b",
   "metadata": {
    "tags": []
   },
   "source": [
    "## Path"
   ]
  },
  {
   "cell_type": "code",
   "execution_count": 5,
   "id": "0b342ae0-1ef2-4bdb-9128-cd10ac83adf9",
   "metadata": {},
   "outputs": [],
   "source": [
    "# Directories\n",
    "results_dir = root_path + '/results/' + MODEL_NAME\n",
    "\n",
    "# Filepaths (MONK)\n",
    "m1_dev_path, m1_test_path = Dataset.MONK_1.dev_path, Dataset.MONK_1.test_path # MONK 1\n",
    "m2_dev_path, m2_test_path = Dataset.MONK_2.dev_path, Dataset.MONK_2.test_path # MONK 2\n",
    "m3_dev_path, m3_test_path = Dataset.MONK_3.dev_path, Dataset.MONK_3.test_path # MONK 3\n",
    "\n",
    "# Filepaths (CUP)\n",
    "cup_dev_path, cup_test_path = Dataset.CUP.dev_path, Dataset.CUP.test_path"
   ]
  },
  {
   "cell_type": "markdown",
   "id": "859824b9-6c6c-4f09-b4d9-ad5f9c5e2b29",
   "metadata": {
    "tags": []
   },
   "source": [
    "# MONK-1"
   ]
  },
  {
   "cell_type": "code",
   "execution_count": 6,
   "id": "905cca8a-3ad3-4f0f-a1d8-8ff6253f962b",
   "metadata": {},
   "outputs": [],
   "source": [
    "# Load MONK-1\n",
    "x_dev_m1, y_dev_m1, x_test_m1, y_test_m1 = load_monk(m1_dev_path, m1_test_path)"
   ]
  },
  {
   "cell_type": "markdown",
   "id": "eaba9b76-776b-4385-b71c-2cd30f5fed9d",
   "metadata": {},
   "source": [
    "First of all, we define the grid search spaces for the RandomForestClassifier that we're going to use for all three MONK's problems."
   ]
  },
  {
   "cell_type": "code",
   "execution_count": null,
   "id": "45831b92-a6ae-4950-9a24-475f37115343",
   "metadata": {
    "tags": []
   },
   "outputs": [],
   "source": [
    "# hparams grid for grid search\n",
    "rfc_hparams_spaces = {\n",
    "    'n_estimators': [25, 50, 100],\n",
    "    'max_depth': [None, 10, 20],\n",
    "    'min_samples_leaf': [1, 2, 4],\n",
    "    'min_samples_split': [2, 5, 10],\n",
    "    'max_features': ['auto', 'sqrt'],\n",
    "    'criterion': ['gini', 'entropy'],\n",
    "    'bootstrap': [True, False],\n",
    "}"
   ]
  },
  {
   "cell_type": "markdown",
   "id": "94fcd744-bfd1-4316-b15d-ab6689988460",
   "metadata": {
    "tags": []
   },
   "source": [
    "## Grid search\n",
    "Grid search is a simple hyper-parameter tuning techniques useful for finding the best configuration for a specific ML model. It involves:\n",
    "- defining a grid of hparams values\n",
    "- systematically test all possible combinations\n",
    "\n",
    "Other approaches include Random search or Bayesian optimization."
   ]
  },
  {
   "cell_type": "code",
   "execution_count": null,
   "id": "533e2fb2-2f18-4f54-88cc-f6f9df08db60",
   "metadata": {},
   "outputs": [],
   "source": []
  },
  {
   "cell_type": "code",
   "execution_count": null,
   "id": "ce7c6596-ab4e-4b5c-9cce-a257498ca99d",
   "metadata": {},
   "outputs": [],
   "source": []
  },
  {
   "cell_type": "markdown",
   "id": "440b802b-99b6-48d8-afff-692422983566",
   "metadata": {},
   "source": [
    "## Split Train-Val"
   ]
  },
  {
   "cell_type": "code",
   "execution_count": 7,
   "id": "b0717519-e253-4e02-b006-75ae5530aab6",
   "metadata": {},
   "outputs": [],
   "source": [
    "x_train_m1, x_val_m1, y_train_m1, y_val_m1 = train_test_split(x_dev_m1, y_dev_m1, test_size=VAL_SPLIT, random_state=RANDOM_STATE)"
   ]
  },
  {
   "cell_type": "code",
   "execution_count": 27,
   "id": "6273cbf5-260f-4a3f-b2cb-1e0e2b6db160",
   "metadata": {},
   "outputs": [
    {
     "name": "stdout",
     "output_type": "stream",
     "text": [
      "\n",
      "Epoch 1/15 - loss: 0.7956 - accuracy: 0.5657 - val_loss: 1.0366 - val_accuracy: 0.3200\n",
      "\n",
      "\n",
      "Epoch 2/15 - loss: 0.7457 - accuracy: 0.5859 - val_loss: 0.9038 - val_accuracy: 0.3200\n",
      "\n",
      "\n",
      "Epoch 3/15 - loss: 0.6932 - accuracy: 0.5960 - val_loss: 0.8525 - val_accuracy: 0.4000\n",
      "\n",
      "\n",
      "Epoch 4/15 - loss: 0.6758 - accuracy: 0.6061 - val_loss: 0.7801 - val_accuracy: 0.4800\n",
      "\n",
      "\n",
      "Epoch 5/15 - loss: 0.6515 - accuracy: 0.6061 - val_loss: 0.7216 - val_accuracy: 0.4400\n",
      "\n",
      "\n",
      "Epoch 6/15 - loss: 0.6396 - accuracy: 0.6364 - val_loss: 0.7158 - val_accuracy: 0.4400\n",
      "\n",
      "\n",
      "Epoch 7/15 - loss: 0.6305 - accuracy: 0.6465 - val_loss: 0.7228 - val_accuracy: 0.4400\n",
      "\n",
      "\n",
      "Epoch 8/15 - loss: 0.6236 - accuracy: 0.6667 - val_loss: 0.7349 - val_accuracy: 0.4000\n",
      "\n",
      "\n",
      "Epoch 9/15 - loss: 0.6195 - accuracy: 0.6465 - val_loss: 0.6803 - val_accuracy: 0.5600\n",
      "\n",
      "\n",
      "Epoch 10/15 - loss: 0.6117 - accuracy: 0.6768 - val_loss: 0.7258 - val_accuracy: 0.4000\n",
      "\n",
      "\n",
      "Epoch 11/15 - loss: 0.6059 - accuracy: 0.6768 - val_loss: 0.7435 - val_accuracy: 0.4000\n",
      "\n",
      "\n",
      "Epoch 12/15 - loss: 0.5978 - accuracy: 0.6465 - val_loss: 0.6441 - val_accuracy: 0.6400\n",
      "\n",
      "\n",
      "Epoch 13/15 - loss: 0.5923 - accuracy: 0.6970 - val_loss: 0.6440 - val_accuracy: 0.6400\n",
      "\n",
      "\n",
      "Epoch 14/15 - loss: 0.5824 - accuracy: 0.6970 - val_loss: 0.6449 - val_accuracy: 0.5600\n",
      "\n",
      "\n",
      "Epoch 15/15 - loss: 0.5792 - accuracy: 0.6970 - val_loss: 0.6369 - val_accuracy: 0.6400\n",
      "\n",
      "Restoring best model weights.\n",
      "Best validation accuracy: 0.6399999856948853\n"
     ]
    }
   ],
   "source": [
    "hparams = {\n",
    "    'lr': 0.1,\n",
    "    'h_dim': 16,\n",
    "    'activation': 'relu',\n",
    "    'reg': 0,\n",
    "}\n",
    "\n",
    "model_m1 = get_nn_classifier(hparams)\n",
    "solver = Solver(model_m1, x_train_m1, y_train_m1, x_val_m1, y_val_m1)\n",
    "solver.train(epochs=20, patience=5, batch_size=32)"
   ]
  },
  {
   "cell_type": "code",
   "execution_count": 22,
   "id": "808cdf17-d985-46cc-8421-a7704eaf6569",
   "metadata": {},
   "outputs": [
    {
     "name": "stdout",
     "output_type": "stream",
     "text": [
      "-- DEVELOPMENT --\n",
      "4/4 [==============================] - 0s 1ms/step\n",
      "              precision    recall  f1-score   support\n",
      "\n",
      "           0     0.5046    0.8871    0.6433        62\n",
      "           1     0.5333    0.1290    0.2078        62\n",
      "\n",
      "    accuracy                         0.5081       124\n",
      "   macro avg     0.5190    0.5081    0.4255       124\n",
      "weighted avg     0.5190    0.5081    0.4255       124\n",
      "\n"
     ]
    }
   ],
   "source": [
    "print('-- DEVELOPMENT --')\n",
    "y_dev_pred_m1 = np.where(model_m1.predict(x_dev_m1) > 0.5, 1, 0)\n",
    "print(classification_report(y_dev_m1, y_dev_pred_m1, digits=4))"
   ]
  },
  {
   "cell_type": "code",
   "execution_count": 23,
   "id": "38e328d0-7a8e-463d-b9f3-0b2bdd3700c9",
   "metadata": {},
   "outputs": [
    {
     "name": "stdout",
     "output_type": "stream",
     "text": [
      "-- TEST --\n",
      "4/4 [==============================] - 0s 1ms/step\n",
      "              precision    recall  f1-score   support\n",
      "\n",
      "           0     0.5046    0.8871    0.6433        62\n",
      "           1     0.5333    0.1290    0.2078        62\n",
      "\n",
      "    accuracy                         0.5081       124\n",
      "   macro avg     0.5190    0.5081    0.4255       124\n",
      "weighted avg     0.5190    0.5081    0.4255       124\n",
      "\n"
     ]
    }
   ],
   "source": [
    "print('-- TEST --')\n",
    "y_test_pred_m1 = np.where(model_m1.predict(x_test_m1) > 0.5, 1, 0)\n",
    "print(classification_report(y_test_m1, y_test_pred_m1, digits=4))"
   ]
  },
  {
   "cell_type": "markdown",
   "id": "5d9a9e02-7de5-4fe0-8b53-5d7e98839b89",
   "metadata": {},
   "source": [
    "## Store results"
   ]
  },
  {
   "cell_type": "code",
   "execution_count": null,
   "id": "4b65fea0-49fd-4f42-be28-e03a264f7d6a",
   "metadata": {},
   "outputs": [],
   "source": [
    "store_monk_result(results_dir + '/MONK1/', best_configs_m1, report_test_m1)"
   ]
  },
  {
   "cell_type": "markdown",
   "id": "b216aed0-5ba0-4816-a889-a3be455e73c9",
   "metadata": {},
   "source": [
    "# MONK-2"
   ]
  },
  {
   "cell_type": "code",
   "execution_count": null,
   "id": "315fe162-40da-4664-b6f0-d1f01709f508",
   "metadata": {},
   "outputs": [],
   "source": []
  },
  {
   "cell_type": "markdown",
   "id": "aea2e408-6d1b-4c43-b70b-c4fec0da831d",
   "metadata": {},
   "source": [
    "# MONK-3"
   ]
  },
  {
   "cell_type": "code",
   "execution_count": null,
   "id": "9f02aae1-f31b-4403-9d85-fbfaf144d224",
   "metadata": {},
   "outputs": [],
   "source": []
  },
  {
   "cell_type": "markdown",
   "id": "007f6603-97eb-4bf3-ae71-b1a62be020bd",
   "metadata": {},
   "source": [
    "# CUP"
   ]
  },
  {
   "cell_type": "code",
   "execution_count": null,
   "id": "319305de-8537-410c-967c-639dad72fd16",
   "metadata": {},
   "outputs": [],
   "source": [
    "# Load CUP\n",
    "x_dev_cup, y_dev_cup, x_test_cup = load_cup(cup_dev_path, cup_test_path)"
   ]
  },
  {
   "cell_type": "markdown",
   "id": "e1f8de1b-5cac-47df-9b3e-b09f759c1c81",
   "metadata": {},
   "source": [
    "Here, we define the grid search spaces for the RandomForestRegression for the CUP dataset."
   ]
  },
  {
   "cell_type": "code",
   "execution_count": null,
   "id": "8a9876fe-17b0-483e-9604-77757d5f797b",
   "metadata": {},
   "outputs": [],
   "source": [
    "rfr_hparams_spaces = {\n",
    "    'n_estimators': [25, 50, 100],\n",
    "    'max_depth': [None, 10, 20],\n",
    "    'min_samples_leaf': [1, 2, 4],\n",
    "    'min_samples_split': [2, 5, 10],\n",
    "    'max_features': ['auto', 'sqrt'],\n",
    "    'criterion': ['squared_error'],\n",
    "    'bootstrap': [True, False],\n",
    "}"
   ]
  },
  {
   "cell_type": "markdown",
   "id": "a614d1c6-5680-4d6d-a8d5-afb6a5a6d945",
   "metadata": {},
   "source": [
    "## Grid search"
   ]
  },
  {
   "cell_type": "code",
   "execution_count": null,
   "id": "1a45b107-4e22-4f09-9663-f7df9567fe92",
   "metadata": {},
   "outputs": [],
   "source": [
    "# perform grid search with KFold\n",
    "grid_search_cup = GridSearchCV(\n",
    "    RandomForestRegressor(random_state=69),\n",
    "    param_grid=rfr_hparams_spaces,\n",
    "    cv=KFold(n_splits=5, shuffle=True, random_state=69),\n",
    "    scoring=make_scorer(mean_euclidean_error, greater_is_better=False),\n",
    "    verbose=1\n",
    ")\n",
    "\n",
    "grid_search_cup.fit(x_dev_cup, y_dev_cup)"
   ]
  },
  {
   "cell_type": "code",
   "execution_count": null,
   "id": "d914ba9f-394f-40db-965d-358408862725",
   "metadata": {},
   "outputs": [],
   "source": [
    "best_configs_cup = grid_search_top_configs(grid_search_cup.cv_results_) # top k config"
   ]
  },
  {
   "cell_type": "code",
   "execution_count": null,
   "id": "74093f2e-a632-45e5-99ac-0b91438794bf",
   "metadata": {},
   "outputs": [],
   "source": [
    "# Create a RandomForest with the best hparams\n",
    "rfr = RandomForestRegressor(**grid_search_cup.best_params_)\n",
    "\n",
    "# Train the model\n",
    "rfr.fit(x_dev_cup, y_dev_cup)"
   ]
  },
  {
   "cell_type": "code",
   "execution_count": null,
   "id": "c9fabda2-25ff-4498-8340-38ae82f5722f",
   "metadata": {},
   "outputs": [],
   "source": [
    "print('-- DEVELOPMENT --')\n",
    "dev_mee_cup = mean_euclidean_error(y_dev_cup, rfr.predict(x_dev_cup))\n",
    "print(dev_mee_cup)"
   ]
  },
  {
   "cell_type": "code",
   "execution_count": null,
   "id": "50a4bf99-c02c-41e7-bb07-fccbd0c0aa50",
   "metadata": {},
   "outputs": [],
   "source": [
    "# Blind test set predictions\n",
    "test_preds_cup = rfr.predict(x_test_cup)"
   ]
  },
  {
   "cell_type": "markdown",
   "id": "89020a2f-92a1-446c-8828-9a23df6eb762",
   "metadata": {},
   "source": [
    "## Store Result"
   ]
  },
  {
   "cell_type": "code",
   "execution_count": null,
   "id": "ba54fb68-130d-47dc-9b4b-cf9ec6c267a2",
   "metadata": {},
   "outputs": [],
   "source": [
    "store_cup_result(results_dir + '/CUP/', best_configs_cup, dev_mee_cup, test_preds_cup)"
   ]
  },
  {
   "cell_type": "code",
   "execution_count": null,
   "id": "e3243c1b-4ce3-4dd7-82db-55583fe4d494",
   "metadata": {},
   "outputs": [],
   "source": []
  }
 ],
 "metadata": {
  "kernelspec": {
   "display_name": "hlt",
   "language": "python",
   "name": "hlt"
  },
  "language_info": {
   "codemirror_mode": {
    "name": "ipython",
    "version": 3
   },
   "file_extension": ".py",
   "mimetype": "text/x-python",
   "name": "python",
   "nbconvert_exporter": "python",
   "pygments_lexer": "ipython3",
   "version": "3.9.7"
  }
 },
 "nbformat": 4,
 "nbformat_minor": 5
}
