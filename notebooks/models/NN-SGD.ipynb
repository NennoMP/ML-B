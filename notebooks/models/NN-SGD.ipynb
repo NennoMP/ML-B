{
 "cells": [
  {
   "cell_type": "markdown",
   "id": "59d3416e-3aee-496b-9a46-d86fab3fe008",
   "metadata": {
    "tags": []
   },
   "source": [
    "## Imports"
   ]
  },
  {
   "cell_type": "code",
   "execution_count": null,
   "id": "15985a7e-4206-4f13-aaad-d38982df5f10",
   "metadata": {},
   "outputs": [],
   "source": [
    "import json\n",
    "import os\n",
    "import sys\n",
    "\n",
    "import numpy as np\n",
    "import pandas as pd\n",
    "import tensorflow as tf\n",
    "\n",
    "from sklearn.metrics import accuracy_score, mean_squared_error, make_scorer\n",
    "from sklearn.model_selection import train_test_split, StratifiedKFold, KFold\n",
    "\n",
    "from tensorflow.keras.models import Sequential\n",
    "from tensorflow.keras.layers import Input, Dense\n",
    "from tensorflow.keras.initializers import RandomUniform, RandomNormal, HeNormal, GlorotUniform, Constant, Zeros\n",
    "from keras.optimizers import SGD, Adam\n",
    "from tensorflow.keras.regularizers import l2\n",
    "\n",
    "\n",
    "dir_parts = os.getcwd().split(os.path.sep)\n",
    "root_index = dir_parts.index('ML-B')\n",
    "root_path = os.path.sep.join(dir_parts[:root_index + 1])\n",
    "sys.path.append(root_path + '/code/')\n",
    "from data.data_config import Dataset\n",
    "from data.data_utils import load_monk, load_cup, store_monk_result, store_cup_result\n",
    "from hyperparameter_tuning import grid_search, random_search, tuning_search_top_configs\n",
    "from training.solver import Solver\n",
    "\n",
    "%load_ext autoreload\n",
    "%autoreload 2"
   ]
  },
  {
   "cell_type": "markdown",
   "id": "2c866a15-7062-4d33-a206-2ec35f8643f1",
   "metadata": {
    "tags": []
   },
   "source": [
    "# Neural Networks\n",
    "In this notebook we implement and test a custom (feed-forward) Neural Network w.r.t. the tasks at hand, i.e. the three MONK's problem and the CUP dataset.\n",
    "\n",
    "Specifically:\n",
    "- **get_nn_classifier(...)**: defines the NN classifier for the MONK's problems;\n",
    "- **get_nn_regressor(...)**: defines the NN regressor for the CUP dataset."
   ]
  },
  {
   "cell_type": "markdown",
   "id": "558a076d-71ee-46dc-949f-caa3a3bf2df7",
   "metadata": {
    "tags": []
   },
   "source": [
    "## Settings"
   ]
  },
  {
   "cell_type": "code",
   "execution_count": null,
   "id": "1fcfe3c3-e764-453e-879e-96937623ab48",
   "metadata": {
    "tags": []
   },
   "outputs": [],
   "source": [
    "MODEL_NAME = 'NN-SGD'\n",
    "INTERNAL_TEST_SPLIT = 0.1 # internal test split percentage\n",
    "RANDOM_STATE = 128 # reproducibility\n",
    "N_SPLITS = 5 # cross-validation"
   ]
  },
  {
   "cell_type": "markdown",
   "id": "84564330-d564-4700-9865-88576073b71b",
   "metadata": {
    "tags": []
   },
   "source": [
    "## Path"
   ]
  },
  {
   "cell_type": "code",
   "execution_count": null,
   "id": "0b342ae0-1ef2-4bdb-9128-cd10ac83adf9",
   "metadata": {},
   "outputs": [],
   "source": [
    "# Directories\n",
    "results_dir = root_path + '/results/' + MODEL_NAME\n",
    "\n",
    "# Filepaths (MONK)\n",
    "m1_dev_path, m1_test_path = Dataset.MONK_1.dev_path, Dataset.MONK_1.test_path # MONK 1\n",
    "m2_dev_path, m2_test_path = Dataset.MONK_2.dev_path, Dataset.MONK_2.test_path # MONK 2\n",
    "m3_dev_path, m3_test_path = Dataset.MONK_3.dev_path, Dataset.MONK_3.test_path # MONK 3\n",
    "\n",
    "# Filepaths (CUP)\n",
    "cup_dev_path, cup_test_path = Dataset.CUP.dev_path, Dataset.CUP.test_path"
   ]
  },
  {
   "cell_type": "markdown",
   "id": "859824b9-6c6c-4f09-b4d9-ad5f9c5e2b29",
   "metadata": {
    "jp-MarkdownHeadingCollapsed": true,
    "tags": []
   },
   "source": [
    "# MONK-1"
   ]
  },
  {
   "cell_type": "code",
   "execution_count": null,
   "id": "905cca8a-3ad3-4f0f-a1d8-8ff6253f962b",
   "metadata": {},
   "outputs": [],
   "source": [
    "# Load MONK-1\n",
    "x_dev_m1, y_dev_m1, x_test_m1, y_test_m1 = load_monk(m1_dev_path, m1_test_path)"
   ]
  },
  {
   "cell_type": "markdown",
   "id": "4ad13309-e6ed-43ce-b6be-b641c3a9f418",
   "metadata": {
    "tags": []
   },
   "source": [
    "## Model"
   ]
  },
  {
   "cell_type": "code",
   "execution_count": null,
   "id": "8787a40f-87d1-45e9-b24d-90b45367ab60",
   "metadata": {
    "tags": []
   },
   "outputs": [],
   "source": [
    "def get_nn_classifier(hparams):\n",
    "    initializer = GlorotUniform(seed=RANDOM_STATE) # Glorot (Xavier)\n",
    "    \n",
    "    model = Sequential([\n",
    "        Dense(hparams['h_dim'], activation='tanh', input_shape=(17,), kernel_initializer=initializer),\n",
    "        Dense(1, activation='sigmoid', kernel_regularizer=l2(hparams['reg']))\n",
    "    ])\n",
    "    \n",
    "    optimizer = SGD(learning_rate=hparams['lr'])\n",
    "    model.compile(optimizer=optimizer, loss='binary_crossentropy', metrics=['accuracy', 'mse'])\n",
    "    \n",
    "    model.hparams = hparams\n",
    "    return model"
   ]
  },
  {
   "cell_type": "markdown",
   "id": "eae5a366-1520-4768-a26e-f461426e2393",
   "metadata": {
    "jp-MarkdownHeadingCollapsed": true,
    "tags": []
   },
   "source": [
    "## Training - Testing"
   ]
  },
  {
   "cell_type": "code",
   "execution_count": null,
   "id": "102a1f41-1825-41af-9d22-e526af69b270",
   "metadata": {},
   "outputs": [],
   "source": [
    "model_m1 = get_nn_classifier(hparams={'lr': 0.5, 'h_dim': 4, 'reg': 0})\n",
    "solver = Solver(model_m1, x_dev_m1, y_dev_m1, target='loss')\n",
    "solver.train(epochs=300, patience=50, batch_size=len(x_dev_m1))"
   ]
  },
  {
   "cell_type": "code",
   "execution_count": null,
   "id": "79ac744c-68b2-412d-ae72-cc3126fd83d0",
   "metadata": {},
   "outputs": [],
   "source": [
    "print('-- DEVELOPMENT --')\n",
    "loss_dev_m1, acc_dev_m1, mse_dev_m1 = model_m1.evaluate(x_dev_m1, y_dev_m1)\n",
    "print(f'Loss (BCE): {loss_dev_m1:.4f} - Accuracy: {acc_dev_m1:.4f} - MSE: {mse_dev_m1:.4f}')"
   ]
  },
  {
   "cell_type": "code",
   "execution_count": null,
   "id": "38e328d0-7a8e-463d-b9f3-0b2bdd3700c9",
   "metadata": {},
   "outputs": [],
   "source": [
    "print('-- TEST --')\n",
    "loss_test_m1, acc_test_m1, mse_test_m1 = model_m1.evaluate(x_test_m1, y_test_m1)\n",
    "print(f'Loss (BCE): {loss_test_m1:.4f} - Accuracy: {acc_test_m1:.4f} - MSE: {mse_test_m1:.4f}')"
   ]
  },
  {
   "cell_type": "markdown",
   "id": "5d9a9e02-7de5-4fe0-8b53-5d7e98839b89",
   "metadata": {
    "jp-MarkdownHeadingCollapsed": true,
    "tags": []
   },
   "source": [
    "## Store results"
   ]
  },
  {
   "cell_type": "code",
   "execution_count": null,
   "id": "523b49cf-3f01-496d-a99a-d7bded86f22d",
   "metadata": {},
   "outputs": [],
   "source": [
    "report_m1 = {\n",
    "    'dev': {'loss': loss_dev_m1, 'accuracy': acc_dev_m1, 'mse': mse_dev_m1},\n",
    "    'test': {'loss': loss_test_m1, 'accuracy': acc_test_m1, 'mse': mse_test_m1}\n",
    "}\n",
    "\n",
    "store_monk_result(results_dir + '/MONK1/', model_m1.hparams, report_m1)"
   ]
  },
  {
   "cell_type": "markdown",
   "id": "b216aed0-5ba0-4816-a889-a3be455e73c9",
   "metadata": {
    "jp-MarkdownHeadingCollapsed": true,
    "tags": []
   },
   "source": [
    "# MONK-2"
   ]
  },
  {
   "cell_type": "code",
   "execution_count": null,
   "id": "b9efe875-d6ff-42c0-b719-85a47a5855b3",
   "metadata": {},
   "outputs": [],
   "source": [
    "# Load MONK-2\n",
    "x_dev_m2, y_dev_m2, x_test_m2, y_test_m2 = load_monk(m2_dev_path, m2_test_path)"
   ]
  },
  {
   "cell_type": "markdown",
   "id": "dd0f49c0-396e-4904-909a-7b2c01076bad",
   "metadata": {},
   "source": [
    "## Training - Testing"
   ]
  },
  {
   "cell_type": "code",
   "execution_count": null,
   "id": "253814c7-9d0b-463b-b021-8e2e05e676d1",
   "metadata": {},
   "outputs": [],
   "source": [
    "model_m2 = get_nn_classifier(hparams={'lr': 0.5, 'h_dim': 4, 'reg': 0})\n",
    "solver = Solver(model_m2, x_dev_m2, y_dev_m2, target='loss')\n",
    "solver.train(epochs=300, patience=50, batch_size=len(x_dev_m2))"
   ]
  },
  {
   "cell_type": "code",
   "execution_count": null,
   "id": "4f52af39-5893-4dcf-bdf2-8703c6e202fb",
   "metadata": {},
   "outputs": [],
   "source": [
    "print('-- DEVELOPMENT --')\n",
    "loss_dev_m2, acc_dev_m2, mse_dev_m2 = model_m2.evaluate(x_dev_m2, y_dev_m2)\n",
    "print(f'Loss (BCE): {loss_dev_m2:.4f} - Accuracy: {acc_dev_m2:.4f} - MSE: {mse_dev_m2:.4f}')"
   ]
  },
  {
   "cell_type": "code",
   "execution_count": null,
   "id": "19bc4807-03c1-421c-bc8a-a7b2154e6236",
   "metadata": {},
   "outputs": [],
   "source": [
    "print('-- TEST --')\n",
    "loss_test_m2, acc_test_m2, mse_test_m2 = model_m2.evaluate(x_test_m2, y_test_m2)\n",
    "print(f'Loss (BCE): {loss_test_m2:.4f} - Accuracy: {acc_test_m2:.4f} - MSE: {mse_test_m2:.4f}')"
   ]
  },
  {
   "cell_type": "markdown",
   "id": "284ca457-cb8a-48d7-9c9e-4e9d473efe3a",
   "metadata": {},
   "source": [
    "## Store results"
   ]
  },
  {
   "cell_type": "code",
   "execution_count": null,
   "id": "569ead2f-5368-4648-b36c-73f9aa69b268",
   "metadata": {},
   "outputs": [],
   "source": [
    "report_m2 = {\n",
    "    'dev': {'loss': loss_dev_m2, 'accuracy': acc_dev_m2, 'mse': mse_dev_m2},\n",
    "    'test': {'loss': loss_test_m2, 'accuracy': acc_test_m2, 'mse': mse_test_m2}\n",
    "}\n",
    "\n",
    "store_monk_result(results_dir + '/MONK2/', model_m2.hparams, report_m2)"
   ]
  },
  {
   "cell_type": "markdown",
   "id": "aea2e408-6d1b-4c43-b70b-c4fec0da831d",
   "metadata": {
    "jp-MarkdownHeadingCollapsed": true,
    "tags": []
   },
   "source": [
    "# MONK-3"
   ]
  },
  {
   "cell_type": "code",
   "execution_count": null,
   "id": "9f02aae1-f31b-4403-9d85-fbfaf144d224",
   "metadata": {},
   "outputs": [],
   "source": [
    "# Load MONK-3\n",
    "x_dev_m3, y_dev_m3, x_test_m3, y_test_m3 = load_monk(m3_dev_path, m3_test_path)"
   ]
  },
  {
   "cell_type": "markdown",
   "id": "bef02d30-2efb-4f50-9f4c-c097cb021264",
   "metadata": {},
   "source": [
    "## Training - Testing"
   ]
  },
  {
   "cell_type": "code",
   "execution_count": null,
   "id": "5461f5ae-6536-4b50-ab54-f1f81e4444bf",
   "metadata": {},
   "outputs": [],
   "source": [
    "model_m3 = get_nn_classifier(hparams={'lr': 0.5, 'h_dim': 4, 'reg': 0.01})\n",
    "solver = Solver(model_m3, x_dev_m3, y_dev_m3, target='accuracy')\n",
    "solver.train(epochs=300, patience=50, batch_size=len(x_dev_m3))"
   ]
  },
  {
   "cell_type": "code",
   "execution_count": null,
   "id": "e89050a9-a2d0-4a50-9ba1-8839be3bc549",
   "metadata": {},
   "outputs": [],
   "source": [
    "print('-- DEVELOPMENT --')\n",
    "loss_dev_m3, acc_dev_m3, mse_dev_m3 = model_m3.evaluate(x_dev_m3, y_dev_m3)\n",
    "print(f'Loss (BCE): {loss_dev_m3:.4f} - Accuracy: {acc_dev_m3:.4f} - MSE: {mse_dev_m3:.4f}')"
   ]
  },
  {
   "cell_type": "code",
   "execution_count": null,
   "id": "47b7771d-67c6-433f-b0ef-da8f41c7fc82",
   "metadata": {},
   "outputs": [],
   "source": [
    "print('-- TEST --')\n",
    "loss_test_m3, acc_test_m3, mse_test_m3 = model_m3.evaluate(x_test_m3, y_test_m3)\n",
    "print(f'Loss (BCE): {loss_test_m3:.4f} - Accuracy: {acc_test_m3:.4f} - MSE: {mse_test_m3:.4f}')"
   ]
  },
  {
   "cell_type": "markdown",
   "id": "bb110c7d-e148-4c70-9be3-e43803d20f10",
   "metadata": {},
   "source": [
    "## Store results"
   ]
  },
  {
   "cell_type": "code",
   "execution_count": null,
   "id": "3f77e7d4-97a9-4ceb-87d0-a4a2a0f0f781",
   "metadata": {},
   "outputs": [],
   "source": [
    "report_m3 = {\n",
    "    'dev': {'loss': loss_dev_m3, 'accuracy': acc_dev_m3, 'mse': mse_dev_m3},\n",
    "    'test': {'loss': loss_test_m3, 'accuracy': acc_test_m3, 'mse': mse_test_m3}\n",
    "}\n",
    "\n",
    "store_monk_result(results_dir + '/MONK3/', model_m3.hparams, report_m3)"
   ]
  },
  {
   "cell_type": "markdown",
   "id": "007f6603-97eb-4bf3-ae71-b1a62be020bd",
   "metadata": {
    "tags": []
   },
   "source": [
    "# CUP"
   ]
  },
  {
   "cell_type": "code",
   "execution_count": 12,
   "id": "1ec7e3ff-908a-480a-bc16-bd7a020f41f6",
   "metadata": {},
   "outputs": [],
   "source": [
    "# Load CUP\n",
    "x_dev_cup, y_dev_cup, x_test_cup = load_cup(cup_dev_path, cup_test_path)"
   ]
  },
  {
   "cell_type": "code",
   "execution_count": 13,
   "id": "1274b55b-f97f-48d0-8d4c-8afa1c001b20",
   "metadata": {},
   "outputs": [],
   "source": [
    "def mean_euclidean_error(y_true: np.ndarray, y_pred: np.ndarray):\n",
    "    \"\"\"\n",
    "    Utility function to compute the Mean Euclidean Error (MEE) between \n",
    "    true and predicted values for a tensorflow model. \n",
    "    Return the MEE score as a tensor.\n",
    "\n",
    "    Required arguments:\n",
    "    - y_true: array containing true values (ground truth).\n",
    "    - y_pred: array containing predicted values.\n",
    "    \"\"\"\n",
    "    return tf.reduce_mean(tf.sqrt(tf.reduce_sum(tf.square(y_pred - y_true), axis=-1)))"
   ]
  },
  {
   "cell_type": "markdown",
   "id": "d24ae8aa-990f-4b6d-a301-186c83d60e1e",
   "metadata": {
    "tags": []
   },
   "source": [
    "## Train-Val + Internal Test Split \n",
    "First, the development data is split between training and internal test ($90-10$). Then, the training data is further split between training and validation so that the final split is exactly $80-10-10$, for training, validation and internal test sets."
   ]
  },
  {
   "cell_type": "code",
   "execution_count": 14,
   "id": "371a0d14-f694-4424-a2f8-f497f42203e9",
   "metadata": {},
   "outputs": [],
   "source": [
    "# Split dev data into train - internal test\n",
    "x_train_cup, x_internal_test_cup, y_train_cup, y_internal_test_cup = train_test_split(\n",
    "    x_dev_cup, \n",
    "    y_dev_cup, \n",
    "    test_size=INTERNAL_TEST_SPLIT, \n",
    "    random_state=128\n",
    ")"
   ]
  },
  {
   "cell_type": "markdown",
   "id": "bc4e58e7-2518-4de8-8ebd-1b62c8412539",
   "metadata": {
    "tags": []
   },
   "source": [
    "# NN-SGD (mb)"
   ]
  },
  {
   "cell_type": "code",
   "execution_count": null,
   "id": "c7eb6f38-bf75-4e8e-b2be-ffbe854bd5ee",
   "metadata": {},
   "outputs": [],
   "source": [
    "def get_nn_sgd_regressor(hparams):\n",
    "    if hparams['activation'] == 'tanh':\n",
    "        initializer = GlorotUniform(seed=RANDOM_STATE) # Glorot (Xavier)\n",
    "        bias_initializer = Zeros()\n",
    "    elif hparams['activation'] == 'ReLU':\n",
    "        initializer = HeNormal(seed=RANDOM_STATE) # He (Kaiming)\n",
    "        bias_initializer = Constant(0.1)\n",
    "        \n",
    "    reg = l2(hparams['reg'])\n",
    "        \n",
    "    model = Sequential()\n",
    "    model.add(Dense(\n",
    "        hparams['h_dim'], \n",
    "        activation=hparams['activation'], \n",
    "        input_shape=(10,), \n",
    "        kernel_regularizer=l2(hparams['reg']),\n",
    "        kernel_initializer=initializer,\n",
    "        bias_initializer=bias_initializer))\n",
    "\n",
    "    h_dim = hparams['h_dim']\n",
    "    for i in range(hparams['n_layers'] - 1):\n",
    "        model.add(\n",
    "            Dense(\n",
    "                h_dim, \n",
    "                activation=hparams['activation'],\n",
    "                kernel_regularizer=l2(hparams['reg']),\n",
    "                kernel_initializer=initializer,\n",
    "                bias_initializer=bias_initializer))\n",
    "        h_dim //= 2\n",
    "\n",
    "    model.add(Dense(\n",
    "        3, \n",
    "        activation='linear', \n",
    "        kernel_regularizer=l2(hparams['reg']), \n",
    "        kernel_initializer=initializer,\n",
    "        bias_initializer=bias_initializer))\n",
    "\n",
    "    optimizer = SGD(learning_rate=hparams['lr'], momentum=hparams['momentum'])\n",
    "    model.compile(optimizer=optimizer, loss='mse', metrics=[mean_euclidean_error])\n",
    "    return model"
   ]
  },
  {
   "cell_type": "markdown",
   "id": "a7b1643c-dbbd-445b-8da2-95bd733cbd4f",
   "metadata": {
    "jp-MarkdownHeadingCollapsed": true,
    "tags": []
   },
   "source": [
    "## Hyper-parameters Tuning\n",
    "A common approach is to start with a coarse search across a wide range of values to find promising sub-ranges of our parameter space. Then, you would zoom into these ranges and perform another search to fine-tune the configurations.\n",
    "\n",
    "Here, we proceed as follows:\n",
    "1. (coarse) Grid-search across a wide range of hyper-paramaters and values;\n",
    "2. (fine-tune) Random-search into zoomed intervals w.r.t. best configuration found by grid-search."
   ]
  },
  {
   "cell_type": "markdown",
   "id": "795ed45c-74e8-49c3-8beb-463376221f15",
   "metadata": {
    "tags": []
   },
   "source": [
    "### Grid Search"
   ]
  },
  {
   "cell_type": "code",
   "execution_count": null,
   "id": "aa2603d3-e454-499a-84dd-d502c270191d",
   "metadata": {},
   "outputs": [],
   "source": [
    "grid_search_spaces_cup = {\n",
    "    'lr': [0.01, 0.001, 0.0001],\n",
    "    'n_layers': [2, 3],\n",
    "    'h_dim': [32, 64, 128],\n",
    "    'activation': ['tanh'],\n",
    "    'reg': [0.01, 0.001],\n",
    "    'momentum': [0.9],\n",
    "    'batch_size': [32, 64, 128],\n",
    "}"
   ]
  },
  {
   "cell_type": "code",
   "execution_count": null,
   "id": "ec21e58a-90e9-4b5a-a180-b68f8c791e27",
   "metadata": {},
   "outputs": [],
   "source": [
    "# Grid search (coarse)\n",
    "best_model_coarse, best_config_coarse, results_coarse = grid_search(\n",
    "    get_nn_sgd_regressor, \n",
    "    x_train_cup,\n",
    "    y_train_cup,\n",
    "    grid_search_spaces_cup, \n",
    "    target='mean_euclidean_error', \n",
    "    N_SPLITS=N_SPLITS,\n",
    "    EPOCHS=800, \n",
    "    PATIENCE=50\n",
    ")"
   ]
  },
  {
   "cell_type": "markdown",
   "id": "e867d32b-bafa-45d8-b312-bdd7363b9aa5",
   "metadata": {
    "tags": []
   },
   "source": [
    "### Random Search"
   ]
  },
  {
   "cell_type": "code",
   "execution_count": null,
   "id": "f60ffa90-058d-4b69-b27f-6811b0ea5201",
   "metadata": {},
   "outputs": [],
   "source": [
    "# set new intervals for fine-tune random search\n",
    "lr = best_config_coarse['lr']\n",
    "n_layers = best_config_coarse['n_layers']\n",
    "h_dim = best_config_coarse['h_dim']\n",
    "activation = best_config_coarse['activation']\n",
    "reg = best_config_coarse['reg']\n",
    "momentum = best_config_coarse['momentum']\n",
    "batch_size = best_config_coarse['batch_size']"
   ]
  },
  {
   "cell_type": "code",
   "execution_count": null,
   "id": "c1f922c0-0643-4c93-b299-49ae3229ac1a",
   "metadata": {},
   "outputs": [],
   "source": [
    "\"\"\"\n",
    "epsilon = 0.2\n",
    "random_search_spaces_cup = {\n",
    "    'lr': ([10 ** (np.log10(lr) - epsilon), 10 ** (np.log10(lr) + epsilon)], 'float'),\n",
    "    'n_layers': ([n_layers], 'item'),\n",
    "    'h_dim': ([h_dim - 20, h_dim + 20], 'item'),\n",
    "    'activation': ([activation], 'item'),\n",
    "    'reg': ([10 ** (np.log10(reg) - epsilon), 10 ** (np.log10(reg) + epsilon)], 'float'),\n",
    "    'momentum': ([10 ** (np.log10(momentum) - epsilon), 10 ** (np.log10(momentum) + epsilon)], 'float'),\n",
    "    'batch_size': ([batch_size], 'item'),\n",
    "}\n",
    "\"\"\"\n",
    "\n",
    "random_search_spaces_cup = {\n",
    "    'lr': ([0.01, 0.004], 'float'),\n",
    "    'n_layers': ([2, 3], 'item'),\n",
    "    'h_dim': ([64, 80, 100], 'item'),\n",
    "    'activation': (['tanh'], 'item'),\n",
    "    'reg': ([0.001], 'item'),\n",
    "    'momentum': ([0.93, 0.98], 'float'),\n",
    "    'batch_size': ([32], 'item'),\n",
    "}"
   ]
  },
  {
   "cell_type": "code",
   "execution_count": null,
   "id": "6f0fe9b2-1a0c-47e8-a700-3a8f282bc220",
   "metadata": {},
   "outputs": [],
   "source": [
    "# Random search (fine-tune)\n",
    "best_model_finetune, best_config_finetune, results_finetune = random_search(\n",
    "    get_nn_sgd_regressor, \n",
    "    x_train_cup,\n",
    "    y_train_cup,\n",
    "    random_search_spaces_cup, \n",
    "    target='mean_euclidean_error', \n",
    "    N_SPLITS=N_SPLITS,\n",
    "    NUM_SEARCH=20,\n",
    "    EPOCHS=800, \n",
    "    PATIENCE=50\n",
    ")"
   ]
  },
  {
   "cell_type": "markdown",
   "id": "ee4ec6a7-5655-4a29-ac79-732badb4673f",
   "metadata": {
    "tags": []
   },
   "source": [
    "### Save tuning results"
   ]
  },
  {
   "cell_type": "code",
   "execution_count": null,
   "id": "f4e5ee57-e3a8-4ea5-96bd-027f69dccd31",
   "metadata": {},
   "outputs": [],
   "source": [
    "mee_coarse = best_config_coarse['mean_euclidean_error']\n",
    "mee_finetune = best_config_finetune['mean_euclidean_error']\n",
    "\n",
    "best_config_cup = best_config_finetune if mee_finetune < mee_coarse else best_config_coarse"
   ]
  },
  {
   "cell_type": "code",
   "execution_count": null,
   "id": "1bc5ca89-2420-4d0c-9c0a-9c6bdbaebb03",
   "metadata": {},
   "outputs": [],
   "source": [
    "# Store grid-search\n",
    "best_config_coarse['n_layers'] = int(best_config_coarse['n_layers'])\n",
    "best_config_coarse['h_dim'] = int(best_config_coarse['h_dim'])\n",
    "best_config_coarse['batch_size'] = int(best_config_coarse['batch_size'])\n",
    "with open(results_dir + '/CUP/grid_search.json', 'w') as outf:\n",
    "    json.dump(best_config_coarse, outf, indent=4)\n",
    "    \n",
    "# Store random-search\n",
    "best_config_finetune['n_layers'] = int(best_config_finetune['n_layers'])\n",
    "best_config_finetune['h_dim'] = int(best_config_finetune['h_dim'])\n",
    "best_config_finetune['batch_size'] = int(best_config_finetune['batch_size'])\n",
    "with open(results_dir + '/CUP/random_search.json', 'w') as outf:\n",
    "    json.dump(best_config_finetune, outf, indent=4)"
   ]
  },
  {
   "cell_type": "markdown",
   "id": "c8734a58-90f9-4155-aee9-eadaf1d6c8b4",
   "metadata": {},
   "source": [
    "## Training"
   ]
  },
  {
   "cell_type": "code",
   "execution_count": null,
   "id": "4ee3a6c5-cc26-4afe-9018-441fba2b2ba0",
   "metadata": {},
   "outputs": [],
   "source": [
    "best_config_cup = {\n",
    "    'lr': 0.00035,\n",
    "    'h_dim': 100,\n",
    "    'n_layers': 3,\n",
    "    'activation': 'tanh',\n",
    "    'reg': 0.001,\n",
    "    'momentum': 0.95, \n",
    "    'batch_size': 32,\n",
    "}\n",
    "\n",
    "model_nn_cup = get_nn_sgd_regressor(best_config_cup)\n",
    "solver = Solver(model_nn_cup, x_train_cup, y_train_cup, x_internal_test_cup, y_internal_test_cup, target='mean_euclidean_error')\n",
    "solver.train(epochs=1500, patience=100)"
   ]
  },
  {
   "cell_type": "code",
   "execution_count": 20,
   "id": "8b870ef6-e044-4982-9d7d-ea71ba02cc9a",
   "metadata": {},
   "outputs": [
    {
     "data": {
      "image/png": "[encoded data removed]",
      "text/plain": [
       "<Figure size 1200x500 with 2 Axes>"
      ]
     },
     "metadata": {},
     "output_type": "display_data"
    }
   ],
   "source": [
    "solver.plot_history(results_dir + '/CUP/history')"
   ]
  },
  {
   "cell_type": "code",
   "execution_count": null,
   "id": "50bd9c75-258f-4cb5-9a52-6834fd6ea856",
   "metadata": {},
   "outputs": [],
   "source": [
    "print('-- TRAINING --')\n",
    "loss_train_cup, mee_train_cup = model_nn_cup.evaluate(x_train_cup, y_train_cup)\n",
    "print(f'Loss (MSE): {loss_train_cup:.4f} -  MEE: {mee_train_cup:.4f}')"
   ]
  },
  {
   "cell_type": "code",
   "execution_count": null,
   "id": "22fdab8b-1c14-432a-9979-15016a37454c",
   "metadata": {},
   "outputs": [],
   "source": [
    "print('-- INTERNAL TEST --')\n",
    "loss_internal_test_cup, mee_internal_test_cup = model_nn_cup.evaluate(x_internal_test_cup, y_internal_test_cup)\n",
    "print(f'Loss (MSE): {loss_internal_test_cup:.4f} -  MEE: {mee_internal_test_cup:.4f}')"
   ]
  },
  {
   "cell_type": "markdown",
   "id": "de59161f-059d-403b-b3ba-9e395dc4e004",
   "metadata": {},
   "source": [
    "## Blind Test Predictions"
   ]
  },
  {
   "cell_type": "code",
   "execution_count": null,
   "id": "380f974c-c16b-42c3-bc0f-85bff5d5fa07",
   "metadata": {},
   "outputs": [],
   "source": [
    "# Blind test set predictions\n",
    "nn_preds_cup = model_nn_cup.predict(x_test_cup)"
   ]
  },
  {
   "cell_type": "markdown",
   "id": "89020a2f-92a1-446c-8828-9a23df6eb762",
   "metadata": {},
   "source": [
    "## Store Result"
   ]
  },
  {
   "cell_type": "code",
   "execution_count": 24,
   "id": "e3243c1b-4ce3-4dd7-82db-55583fe4d494",
   "metadata": {},
   "outputs": [],
   "source": [
    "report_nn = {\n",
    "    'train': {'mse': loss_train_cup, 'mee': mee_train_cup},\n",
    "    'internal_test': {'mse': loss_internal_test_cup, 'mee': mee_internal_test_cup}\n",
    "}\n",
    "\n",
    "store_cup_result(results_dir + '/CUP/', best_config_cup, report_nn, nn_preds_cup)"
   ]
  }
 ],
 "metadata": {
  "kernelspec": {
   "display_name": "hlt",
   "language": "python",
   "name": "hlt"
  },
  "language_info": {
   "codemirror_mode": {
    "name": "ipython",
    "version": 3
   },
   "file_extension": ".py",
   "mimetype": "text/x-python",
   "name": "python",
   "nbconvert_exporter": "python",
   "pygments_lexer": "ipython3",
   "version": "3.9.7"
  }
 },
 "nbformat": 4,
 "nbformat_minor": 5
}
