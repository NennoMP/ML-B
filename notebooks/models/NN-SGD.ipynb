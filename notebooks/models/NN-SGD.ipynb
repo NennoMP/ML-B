{
 "cells": [
  {
   "cell_type": "markdown",
   "id": "59d3416e-3aee-496b-9a46-d86fab3fe008",
   "metadata": {
    "tags": []
   },
   "source": [
    "## Imports"
   ]
  },
  {
   "cell_type": "code",
   "execution_count": null,
   "id": "15985a7e-4206-4f13-aaad-d38982df5f10",
   "metadata": {},
   "outputs": [],
   "source": [
    "import json\n",
    "import os\n",
    "import sys\n",
    "\n",
    "import numpy as np\n",
    "import pandas as pd\n",
    "import tensorflow as tf\n",
    "\n",
    "from sklearn.metrics import accuracy_score, mean_squared_error, make_scorer\n",
    "from sklearn.model_selection import train_test_split, StratifiedKFold, KFold\n",
    "from sklearn.preprocessing import PolynomialFeatures\n",
    "\n",
    "from tensorflow import keras\n",
    "from tensorflow.keras.models import Sequential\n",
    "from tensorflow.keras.layers import Input, Dense\n",
    "from tensorflow.keras.initializers import RandomUniform, RandomNormal, HeNormal, GlorotUniform, Constant, Zeros\n",
    "from keras.optimizers import SGD\n",
    "from tensorflow.keras.regularizers import l2\n",
    "\n",
    "\n",
    "dir_parts = os.getcwd().split(os.path.sep)\n",
    "root_index = dir_parts.index('ML-B')\n",
    "root_path = os.path.sep.join(dir_parts[:root_index + 1])\n",
    "sys.path.append(root_path + '/code/')\n",
    "from data.data_config import Dataset\n",
    "from data.data_utils import load_monk, load_cup, store_monk_result, store_cup_result\n",
    "from hyperparameter_tuning import grid_search, random_search, tuning_search_top_configs\n",
    "from training.solver import Solver\n",
    "\n",
    "%load_ext autoreload\n",
    "%autoreload 2"
   ]
  },
  {
   "cell_type": "markdown",
   "id": "2c866a15-7062-4d33-a206-2ec35f8643f1",
   "metadata": {
    "tags": []
   },
   "source": [
    "# Neural Networks\n",
    "In this notebook we implement and test a custom (feed-forward) Neural Network w.r.t. the tasks at hand, i.e. the three MONK's problem and the CUP dataset. \n",
    "\n",
    "The employed optimizer is **Stochastic Gradient Descent (SGD) with mini-batch**.\n",
    "\n",
    "Specifically:\n",
    "- **get_nn_classifier(...)**: defines the (SGD) NN classifier for the MONK's problems;\n",
    "- **get_nn_sgd_regressor(...)**: defines the (SGD) NN regressor for the CUP dataset."
   ]
  },
  {
   "cell_type": "markdown",
   "id": "558a076d-71ee-46dc-949f-caa3a3bf2df7",
   "metadata": {
    "tags": []
   },
   "source": [
    "## Settings"
   ]
  },
  {
   "cell_type": "code",
   "execution_count": null,
   "id": "1fcfe3c3-e764-453e-879e-96937623ab48",
   "metadata": {
    "tags": []
   },
   "outputs": [],
   "source": [
    "MODEL_NAME = 'NN-SGD'\n",
    "INTERNAL_TEST_SPLIT = 0.1 # internal test split percentage\n",
    "RANDOM_STATE = 128 # reproducibility\n",
    "N_SPLITS = 5 # cross-validation\n",
    "POLY_DEGREE = 3 # polynomial features pre-processing"
   ]
  },
  {
   "cell_type": "markdown",
   "id": "84564330-d564-4700-9865-88576073b71b",
   "metadata": {
    "tags": []
   },
   "source": [
    "## Path"
   ]
  },
  {
   "cell_type": "code",
   "execution_count": null,
   "id": "0b342ae0-1ef2-4bdb-9128-cd10ac83adf9",
   "metadata": {},
   "outputs": [],
   "source": [
    "# Directories\n",
    "results_dir = root_path + '/results/' + MODEL_NAME\n",
    "\n",
    "# Filepaths (MONK)\n",
    "m1_dev_path, m1_test_path = Dataset.MONK_1.dev_path, Dataset.MONK_1.test_path # MONK 1\n",
    "m2_dev_path, m2_test_path = Dataset.MONK_2.dev_path, Dataset.MONK_2.test_path # MONK 2\n",
    "m3_dev_path, m3_test_path = Dataset.MONK_3.dev_path, Dataset.MONK_3.test_path # MONK 3\n",
    "\n",
    "# Filepaths (CUP)\n",
    "cup_dev_path, cup_test_path = Dataset.CUP.dev_path, Dataset.CUP.test_path"
   ]
  },
  {
   "cell_type": "markdown",
   "id": "859824b9-6c6c-4f09-b4d9-ad5f9c5e2b29",
   "metadata": {
    "tags": []
   },
   "source": [
    "# MONK-1"
   ]
  },
  {
   "cell_type": "code",
   "execution_count": null,
   "id": "905cca8a-3ad3-4f0f-a1d8-8ff6253f962b",
   "metadata": {},
   "outputs": [],
   "source": [
    "# Load MONK-1\n",
    "x_dev_m1, y_dev_m1, x_test_m1, y_test_m1 = load_monk(m1_dev_path, m1_test_path)"
   ]
  },
  {
   "cell_type": "markdown",
   "id": "4ad13309-e6ed-43ce-b6be-b641c3a9f418",
   "metadata": {
    "tags": []
   },
   "source": [
    "## Model"
   ]
  },
  {
   "cell_type": "code",
   "execution_count": null,
   "id": "8787a40f-87d1-45e9-b24d-90b45367ab60",
   "metadata": {
    "tags": []
   },
   "outputs": [],
   "source": [
    "def get_nn_classifier(hparams):\n",
    "    \"\"\"Returns a NN with SGD classifier.\n",
    "    \n",
    "    Args:\n",
    "        - hparams: a set of hyper-parameters\n",
    "    \"\"\"\n",
    "    \n",
    "    initializer = GlorotUniform(seed=RANDOM_STATE) # Glorot (Xavier)\n",
    "    \n",
    "    model = Sequential([\n",
    "        Dense(hparams['h_dim'], activation='tanh', input_shape=(17,), kernel_initializer=initializer),\n",
    "        Dense(1, activation='sigmoid', kernel_regularizer=l2(hparams['reg']))\n",
    "    ])\n",
    "    \n",
    "    optimizer = SGD(learning_rate=hparams['lr'])\n",
    "    model.compile(optimizer=optimizer, loss='mse', metrics=['accuracy'])\n",
    "    \n",
    "    model.hparams = hparams\n",
    "    return model"
   ]
  },
  {
   "cell_type": "markdown",
   "id": "eae5a366-1520-4768-a26e-f461426e2393",
   "metadata": {
    "tags": []
   },
   "source": [
    "## Training - Testing"
   ]
  },
  {
   "cell_type": "code",
   "execution_count": null,
   "id": "7b453a93-3e67-4b59-a502-0eabcc3649ea",
   "metadata": {},
   "outputs": [],
   "source": [
    "model_m1 = get_nn_classifier(hparams={'lr': 0.6, 'h_dim': 4, 'reg': 0.0})\n",
    "solver = Solver(model_m1, x_dev_m1, y_dev_m1,  x_test_m1, y_test_m1, target='accuracy')\n",
    "solver.train(epochs=400, patience=None, batch_size=16)"
   ]
  },
  {
   "cell_type": "code",
   "execution_count": null,
   "id": "e9c22ab1-f049-4c08-bab9-d5f924a8a8b5",
   "metadata": {},
   "outputs": [],
   "source": [
    "solver.plot_history(results_dir + '/MONK1/history', 'MSE', 'Accuracy')"
   ]
  },
  {
   "cell_type": "code",
   "execution_count": null,
   "id": "79ac744c-68b2-412d-ae72-cc3126fd83d0",
   "metadata": {},
   "outputs": [],
   "source": [
    "print('-- DEVELOPMENT --')\n",
    "mse_dev_m1, acc_dev_m1 = model_m1.evaluate(x_dev_m1, y_dev_m1)\n",
    "print(f'Accuracy: {acc_dev_m1:.4f} - MSE: {mse_dev_m1:.4f}')"
   ]
  },
  {
   "cell_type": "code",
   "execution_count": null,
   "id": "191f531e-c1e2-4925-945b-b4233abb9389",
   "metadata": {},
   "outputs": [],
   "source": [
    "print('-- TEST --')\n",
    "mse_test_m1, acc_test_m1 = model_m1.evaluate(x_test_m1, y_test_m1)\n",
    "print(f'Accuracy: {acc_test_m1:.4f} - MSE: {mse_test_m1:.4f}')"
   ]
  },
  {
   "cell_type": "markdown",
   "id": "5d9a9e02-7de5-4fe0-8b53-5d7e98839b89",
   "metadata": {
    "tags": []
   },
   "source": [
    "## Store results"
   ]
  },
  {
   "cell_type": "code",
   "execution_count": null,
   "id": "523b49cf-3f01-496d-a99a-d7bded86f22d",
   "metadata": {},
   "outputs": [],
   "source": [
    "report_m1 = {\n",
    "    'dev': {'accuracy': acc_dev_m1, 'mse': mse_dev_m1},\n",
    "    'test': {'accuracy': acc_test_m1, 'mse': mse_test_m1}\n",
    "}\n",
    "\n",
    "store_monk_result(results_dir + '/MONK1/', model_m1.hparams, report_m1)"
   ]
  },
  {
   "cell_type": "markdown",
   "id": "b216aed0-5ba0-4816-a889-a3be455e73c9",
   "metadata": {
    "tags": []
   },
   "source": [
    "# MONK-2"
   ]
  },
  {
   "cell_type": "code",
   "execution_count": null,
   "id": "b9efe875-d6ff-42c0-b719-85a47a5855b3",
   "metadata": {},
   "outputs": [],
   "source": [
    "# Load MONK-2\n",
    "x_dev_m2, y_dev_m2, x_test_m2, y_test_m2 = load_monk(m2_dev_path, m2_test_path)"
   ]
  },
  {
   "cell_type": "markdown",
   "id": "dd0f49c0-396e-4904-909a-7b2c01076bad",
   "metadata": {},
   "source": [
    "## Training - Testing"
   ]
  },
  {
   "cell_type": "code",
   "execution_count": null,
   "id": "952615c2-b564-4bc5-b725-51061131ced1",
   "metadata": {},
   "outputs": [],
   "source": [
    "model_m2 = get_nn_classifier(hparams={'lr': 0.6, 'h_dim': 4, 'reg': 0})\n",
    "solver = Solver(model_m2, x_dev_m2, y_dev_m2, x_test_m2, y_test_m2, target='accuracy')\n",
    "solver.train(epochs=400, patience=None, batch_size=64)"
   ]
  },
  {
   "cell_type": "code",
   "execution_count": null,
   "id": "9af34815-5941-4f57-af32-087317f3adec",
   "metadata": {},
   "outputs": [],
   "source": [
    "solver.plot_history(results_dir + '/MONK2/history','MSE', 'Accuracy')"
   ]
  },
  {
   "cell_type": "code",
   "execution_count": null,
   "id": "4f52af39-5893-4dcf-bdf2-8703c6e202fb",
   "metadata": {},
   "outputs": [],
   "source": [
    "print('-- DEVELOPMENT --')\n",
    "mse_dev_m2, acc_dev_m2 = model_m2.evaluate(x_dev_m2, y_dev_m2)\n",
    "print(f'Accuracy: {acc_dev_m2:.4f} - MSE: {mse_dev_m2:.4f}')"
   ]
  },
  {
   "cell_type": "code",
   "execution_count": null,
   "id": "19bc4807-03c1-421c-bc8a-a7b2154e6236",
   "metadata": {},
   "outputs": [],
   "source": [
    "print('-- TEST --')\n",
    "mse_test_m2, acc_test_m2 = model_m2.evaluate(x_test_m2, y_test_m2)\n",
    "print(f'Accuracy: {acc_test_m2:.4f} - MSE: {mse_test_m2:.4f}')"
   ]
  },
  {
   "cell_type": "markdown",
   "id": "284ca457-cb8a-48d7-9c9e-4e9d473efe3a",
   "metadata": {},
   "source": [
    "## Store results"
   ]
  },
  {
   "cell_type": "code",
   "execution_count": null,
   "id": "daf8efff-6824-4189-b478-910f1d1b4d59",
   "metadata": {},
   "outputs": [],
   "source": [
    "report_m2 = {\n",
    "    'dev': {'accuracy': acc_dev_m2, 'mse': mse_dev_m2},\n",
    "    'test': {'accuracy': acc_test_m2, 'mse': mse_test_m2}\n",
    "}\n",
    "\n",
    "store_monk_result(results_dir + '/MONK2/', model_m2.hparams, report_m2)"
   ]
  },
  {
   "cell_type": "markdown",
   "id": "b43d4f94-b9f5-4730-bea0-045e83419327",
   "metadata": {
    "tags": []
   },
   "source": [
    "# MONK-3 (no regularization)"
   ]
  },
  {
   "cell_type": "code",
   "execution_count": null,
   "id": "81ed523a-c874-42ff-ad52-64df42cb4236",
   "metadata": {},
   "outputs": [],
   "source": [
    "# Load MONK-3\n",
    "x_dev_m3, y_dev_m3, x_test_m3, y_test_m3 = load_monk(m3_dev_path, m3_test_path)"
   ]
  },
  {
   "cell_type": "markdown",
   "id": "d6d33359-9cab-4218-ae22-6a37273378df",
   "metadata": {
    "tags": []
   },
   "source": [
    "## Training - Testing"
   ]
  },
  {
   "cell_type": "code",
   "execution_count": null,
   "id": "b7497f47-1ecf-46e4-ad39-bebed52f56bb",
   "metadata": {},
   "outputs": [],
   "source": [
    "model_m3 = get_nn_classifier(hparams={'lr': 0.6, 'h_dim': 4, 'reg': 0})\n",
    "solver = Solver(model_m3, x_dev_m3, y_dev_m3, x_test_m3, y_test_m3, target='accuracy')\n",
    "solver.train(epochs=300, patience=None, batch_size=128)"
   ]
  },
  {
   "cell_type": "code",
   "execution_count": null,
   "id": "bb5db286-832e-4670-b7eb-fed0b0e34e40",
   "metadata": {},
   "outputs": [],
   "source": [
    "solver.plot_history(results_dir + '/MONK3/history','MSE', 'Accuracy')"
   ]
  },
  {
   "cell_type": "code",
   "execution_count": null,
   "id": "e26f1769-47af-4a58-8445-c108e951df8e",
   "metadata": {},
   "outputs": [],
   "source": [
    "print('-- DEVELOPMENT --')\n",
    "mse_dev_m3, acc_dev_m3 = model_m3.evaluate(x_dev_m3, y_dev_m3)\n",
    "print(f'Accuracy: {acc_dev_m3:.4f} - MSE: {mse_dev_m3:.4f}')"
   ]
  },
  {
   "cell_type": "code",
   "execution_count": null,
   "id": "23f8cd24-3cf2-4954-b923-ccf8a56fd35a",
   "metadata": {},
   "outputs": [],
   "source": [
    "print('-- TEST --')\n",
    "mse_test_m3, acc_test_m3 = model_m3.evaluate(x_test_m3, y_test_m3)\n",
    "print(f'Accuracy: {acc_test_m3:.4f} - MSE: {mse_test_m3:.4f}')"
   ]
  },
  {
   "cell_type": "markdown",
   "id": "01267cd2-2915-4064-9199-092760225e0e",
   "metadata": {},
   "source": [
    "## Store results"
   ]
  },
  {
   "cell_type": "code",
   "execution_count": null,
   "id": "df07ae63-b124-49a6-9ea8-2462e1071763",
   "metadata": {},
   "outputs": [],
   "source": [
    "report_m3 = {\n",
    "    'dev': {'accuracy': acc_dev_m3, 'mse': mse_dev_m3},\n",
    "    'test': {'accuracy': acc_test_m3, 'mse': mse_test_m3}\n",
    "}\n",
    "\n",
    "store_monk_result(results_dir + '/MONK3/', model_m3.hparams, report_m3)"
   ]
  },
  {
   "cell_type": "markdown",
   "id": "aea2e408-6d1b-4c43-b70b-c4fec0da831d",
   "metadata": {
    "tags": []
   },
   "source": [
    "# MONK-3 (with regularization)\n",
    "MONK3 when setting some regularization value."
   ]
  },
  {
   "cell_type": "markdown",
   "id": "bef02d30-2efb-4f50-9f4c-c097cb021264",
   "metadata": {
    "tags": []
   },
   "source": [
    "## Training - Testing"
   ]
  },
  {
   "cell_type": "code",
   "execution_count": null,
   "id": "32c1c400-e6f3-4104-b8c3-66a18715e772",
   "metadata": {},
   "outputs": [],
   "source": [
    "model_m3_reg = get_nn_classifier(hparams={'lr': 0.01, 'h_dim': 4, 'reg': 0.01})\n",
    "solver = Solver(model_m3_reg, x_dev_m3, y_dev_m3,  x_test_m3, y_test_m3, target='accuracy')\n",
    "solver.train(epochs=300, patience=None, batch_size=128)"
   ]
  },
  {
   "cell_type": "code",
   "execution_count": null,
   "id": "005d7d86-075d-4a02-b06c-47b36a24624a",
   "metadata": {},
   "outputs": [],
   "source": [
    "solver.plot_history(results_dir + '/MONK3-reg/history','MSE', 'Accuracy')"
   ]
  },
  {
   "cell_type": "code",
   "execution_count": null,
   "id": "e89050a9-a2d0-4a50-9ba1-8839be3bc549",
   "metadata": {},
   "outputs": [],
   "source": [
    "print('-- DEVELOPMENT --')\n",
    "mse_dev_m3_reg, acc_dev_m3_reg = model_m3_reg.evaluate(x_dev_m3, y_dev_m3)\n",
    "print(f'Accuracy: {acc_dev_m3_reg:.4f} - MSE: {mse_dev_m3_reg:.4f}')"
   ]
  },
  {
   "cell_type": "code",
   "execution_count": null,
   "id": "47b7771d-67c6-433f-b0ef-da8f41c7fc82",
   "metadata": {},
   "outputs": [],
   "source": [
    "print('-- TEST --')\n",
    "mse_test_m3_reg, acc_test_m3_reg = model_m3_reg.evaluate(x_test_m3, y_test_m3)\n",
    "print(f'Accuracy: {acc_test_m3_reg:.4f} - MSE: {mse_test_m3_reg:.4f}')"
   ]
  },
  {
   "cell_type": "markdown",
   "id": "bb110c7d-e148-4c70-9be3-e43803d20f10",
   "metadata": {},
   "source": [
    "## Store results"
   ]
  },
  {
   "cell_type": "code",
   "execution_count": null,
   "id": "3f77e7d4-97a9-4ceb-87d0-a4a2a0f0f781",
   "metadata": {},
   "outputs": [],
   "source": [
    "report_m3_reg = {\n",
    "    'dev': {'accuracy': acc_dev_m3_reg, 'mse': mse_dev_m3_reg},\n",
    "    'test': {'accuracy': acc_test_m3_reg, 'mse': mse_test_m3_reg}\n",
    "}\n",
    "\n",
    "store_monk_result(results_dir + '/MONK3-reg/', model_m3_reg.hparams, report_m3_reg)"
   ]
  },
  {
   "cell_type": "markdown",
   "id": "007f6603-97eb-4bf3-ae71-b1a62be020bd",
   "metadata": {
    "tags": []
   },
   "source": [
    "# CUP"
   ]
  },
  {
   "cell_type": "code",
   "execution_count": null,
   "id": "1ec7e3ff-908a-480a-bc16-bd7a020f41f6",
   "metadata": {},
   "outputs": [],
   "source": [
    "# Load CUP\n",
    "x_dev_cup, y_dev_cup, x_test_cup = load_cup(cup_dev_path, cup_test_path)"
   ]
  },
  {
   "cell_type": "code",
   "execution_count": null,
   "id": "1274b55b-f97f-48d0-8d4c-8afa1c001b20",
   "metadata": {},
   "outputs": [],
   "source": [
    "@keras.utils.register_keras_serializable()\n",
    "def mean_euclidean_error(y_true: np.ndarray, y_pred: np.ndarray):\n",
    "    \"\"\"\n",
    "    Utility function to compute the Mean Euclidean Error (MEE) between \n",
    "    true and predicted values for a tensorflow model. \n",
    "    Return the MEE score as a tensor.\n",
    "\n",
    "    Required arguments:\n",
    "    - y_true: array containing true values (ground truth).\n",
    "    - y_pred: array containing predicted values.\n",
    "    \"\"\"\n",
    "    return tf.reduce_mean(tf.sqrt(tf.reduce_sum(tf.square(y_pred - y_true), axis=-1)))"
   ]
  },
  {
   "cell_type": "markdown",
   "id": "d24ae8aa-990f-4b6d-a301-186c83d60e1e",
   "metadata": {
    "tags": []
   },
   "source": [
    "## Dev - Internal Test Split \n",
    "The development dataset is split between training and internal test ($90-10$)."
   ]
  },
  {
   "cell_type": "code",
   "execution_count": null,
   "id": "4cff8b16-aef5-44fd-9752-ffb64d1901d0",
   "metadata": {},
   "outputs": [],
   "source": [
    "# Split dev data into train - internal test\n",
    "x_train_cup, x_internal_test_cup, y_train_cup, y_internal_test_cup = train_test_split(\n",
    "    x_dev_cup, \n",
    "    y_dev_cup, \n",
    "    test_size=INTERNAL_TEST_SPLIT, \n",
    "    random_state=128\n",
    ")"
   ]
  },
  {
   "cell_type": "markdown",
   "id": "7410a93e-b7be-4b0b-9d0b-dba8203910f1",
   "metadata": {
    "tags": []
   },
   "source": [
    "## Polynomial features pre-processing\n",
    "We create a version of our dataset to which PolynoMialFeatures pre-processing is applied with a fixed degree."
   ]
  },
  {
   "cell_type": "code",
   "execution_count": null,
   "id": "89a6679b-321f-4a6e-bbf1-98444b86e756",
   "metadata": {},
   "outputs": [],
   "source": [
    "# --- COMMENT TO USE NON-ENCHANED DATASET --- \n",
    "# Polynomial features pre-processing\n",
    "poly = PolynomialFeatures(degree=POLY_DEGREE)\n",
    "x_train_cup = poly.fit_transform(x_train_cup)\n",
    "x_internal_test_cup = poly.transform(x_internal_test_cup)\n",
    "x_test_cup = poly.transform(x_test_cup)"
   ]
  },
  {
   "cell_type": "markdown",
   "id": "bc4e58e7-2518-4de8-8ebd-1b62c8412539",
   "metadata": {
    "tags": []
   },
   "source": [
    "# NN-SGD (mb)"
   ]
  },
  {
   "cell_type": "code",
   "execution_count": null,
   "id": "c7eb6f38-bf75-4e8e-b2be-ffbe854bd5ee",
   "metadata": {},
   "outputs": [],
   "source": [
    "def get_nn_sgd_regressor(hparams: dict, in_dim: int):\n",
    "    \"\"\"Returns a NN with SGD regressor.\n",
    "    \n",
    "    Args:\n",
    "        - hparams: a set of hyper-parameters\n",
    "        - in_dim: input dimension [1]\n",
    "    \"\"\"\n",
    "    \n",
    "    if hparams['activation'] == 'tanh':\n",
    "        initializer = GlorotUniform(seed=RANDOM_STATE) # Glorot (Xavier)\n",
    "        bias_initializer = Zeros()\n",
    "    elif hparams['activation'] == 'ReLU':\n",
    "        initializer = HeNormal(seed=RANDOM_STATE) # He (Kaiming)\n",
    "        bias_initializer = Constant(0.1)\n",
    "        \n",
    "    reg = l2(hparams['reg'])\n",
    "        \n",
    "    model = Sequential()\n",
    "    model.add(Dense(\n",
    "        hparams['h_dim'], \n",
    "        activation=hparams['activation'], \n",
    "        input_shape=(in_dim,), \n",
    "        kernel_regularizer=l2(hparams['reg']),\n",
    "        kernel_initializer=initializer,\n",
    "        bias_initializer=bias_initializer))\n",
    "\n",
    "    h_dim = hparams['h_dim']\n",
    "    for i in range(hparams['n_layers'] - 1):\n",
    "        model.add(\n",
    "            Dense(\n",
    "                h_dim, \n",
    "                activation=hparams['activation'],\n",
    "                kernel_regularizer=l2(hparams['reg']),\n",
    "                kernel_initializer=initializer,\n",
    "                bias_initializer=bias_initializer))\n",
    "        h_dim //= 2\n",
    "        \n",
    "    model.add(Dense(\n",
    "        3, \n",
    "        activation='linear', \n",
    "        kernel_regularizer=l2(hparams['reg']), \n",
    "        kernel_initializer=initializer,\n",
    "        bias_initializer=bias_initializer))\n",
    "\n",
    "    optimizer = SGD(learning_rate=hparams['lr'], momentum=hparams['momentum'])\n",
    "    model.compile(optimizer=optimizer, loss='mse', metrics=[mean_euclidean_error])\n",
    "    return model"
   ]
  },
  {
   "cell_type": "markdown",
   "id": "fe16aea5-d2e9-4abc-84b7-9185ef2c06a2",
   "metadata": {
    "tags": []
   },
   "source": [
    "## Hyper-parameters Tuning\n",
    "A common approach is to start with a coarse search across a wide range of values to find promising sub-ranges of our parameter space. Then, you would zoom into these ranges and perform another search to fine-tune the configurations.\n",
    "\n",
    "Here, we proceed as follows:\n",
    "1. (coarse) Grid-search across a wide range of hyper-paramaters and values;\n",
    "2. (fine-tune) Random-search into zoomed intervals w.r.t. best configuration found by grid-search.\n",
    "\n",
    "Then, we perform a single run of grid-search and random-search with the respectively best configurations while taking into account a PolynomialFeatures pre-processing with fixed degree. The best configurations that will be used for final re-training and evaluation on internal test is the one with the best mean MEE on the validation cross-validation.\n",
    "\n",
    "Note that, tuning of the polynomial degree wasn't performed because it would be very expensive. Thus, we simply decided to use a fixed degree value."
   ]
  },
  {
   "cell_type": "markdown",
   "id": "795ed45c-74e8-49c3-8beb-463376221f15",
   "metadata": {
    "tags": []
   },
   "source": [
    "### Grid Search"
   ]
  },
  {
   "cell_type": "code",
   "execution_count": null,
   "id": "aa2603d3-e454-499a-84dd-d502c270191d",
   "metadata": {},
   "outputs": [],
   "source": [
    "grid_search_spaces_cup = {\n",
    "    'lr': [0.01, 0.001, 0.0001],\n",
    "    'n_layers': [2, 3],\n",
    "    'h_dim': [32, 64, 128],\n",
    "    'activation': ['tanh'],\n",
    "    'reg': [0.01, 0.001],\n",
    "    'momentum': [0.9],\n",
    "    'batch_size': [32, 64, 128],\n",
    "}"
   ]
  },
  {
   "cell_type": "code",
   "execution_count": null,
   "id": "ec21e58a-90e9-4b5a-a180-b68f8c791e27",
   "metadata": {},
   "outputs": [],
   "source": [
    "# Grid search (coarse)\n",
    "best_model_coarse, best_config_coarse, results_coarse = grid_search(\n",
    "    get_nn_sgd_regressor,\n",
    "    x_train_cup.shape[1],\n",
    "    x_train_cup,\n",
    "    y_train_cup,\n",
    "    grid_search_spaces_cup, \n",
    "    target='val_mean_euclidean_error', \n",
    "    N_SPLITS=N_SPLITS,\n",
    "    EPOCHS=800, \n",
    "    PATIENCE=50\n",
    ")"
   ]
  },
  {
   "cell_type": "markdown",
   "id": "e867d32b-bafa-45d8-b312-bdd7363b9aa5",
   "metadata": {
    "tags": []
   },
   "source": [
    "### Random Search"
   ]
  },
  {
   "cell_type": "code",
   "execution_count": null,
   "id": "f60ffa90-058d-4b69-b27f-6811b0ea5201",
   "metadata": {},
   "outputs": [],
   "source": [
    "# set new intervals for fine-tune random search\n",
    "lr = best_config_coarse['lr']\n",
    "n_layers = best_config_coarse['n_layers']\n",
    "h_dim = best_config_coarse['h_dim']\n",
    "activation = best_config_coarse['activation']\n",
    "reg = best_config_coarse['reg']\n",
    "momentum = best_config_coarse['momentum']\n",
    "batch_size = best_config_coarse['batch_size']"
   ]
  },
  {
   "cell_type": "code",
   "execution_count": null,
   "id": "c1f922c0-0643-4c93-b299-49ae3229ac1a",
   "metadata": {},
   "outputs": [],
   "source": [
    "random_search_spaces_cup = {\n",
    "    'lr': ([0.0001, 0.001], 'float'),\n",
    "    'n_layers': ([3], 'item'),\n",
    "    'h_dim': ([128, 140], 'int'),\n",
    "    'activation': (['tanh'], 'item'),\n",
    "    'reg': ([0.001, 0.01], 'item'),\n",
    "    'momentum': ([0.88, 0.98], 'float'),\n",
    "    'batch_size': ([32], 'item'),\n",
    "}"
   ]
  },
  {
   "cell_type": "code",
   "execution_count": null,
   "id": "6f0fe9b2-1a0c-47e8-a700-3a8f282bc220",
   "metadata": {},
   "outputs": [],
   "source": [
    "# Random search (fine-tune)\n",
    "best_model_finetune, best_config_finetune, results_finetune = random_search(\n",
    "    get_nn_sgd_regressor,\n",
    "    x_train_cup.shape[1],\n",
    "    x_train_cup,\n",
    "    y_train_cup,\n",
    "    random_search_spaces_cup, \n",
    "    target='val_mean_euclidean_error', \n",
    "    N_SPLITS=N_SPLITS,\n",
    "    NUM_SEARCH=50,\n",
    "    EPOCHS=800, \n",
    "    PATIENCE=50\n",
    ")"
   ]
  },
  {
   "cell_type": "markdown",
   "id": "ee4ec6a7-5655-4a29-ac79-732badb4673f",
   "metadata": {
    "tags": []
   },
   "source": [
    "### Save tuning results"
   ]
  },
  {
   "cell_type": "code",
   "execution_count": null,
   "id": "f4e5ee57-e3a8-4ea5-96bd-027f69dccd31",
   "metadata": {},
   "outputs": [],
   "source": [
    "mee_coarse = best_config_coarse['val_mean_euclidean_error']\n",
    "mee_finetune = best_config_finetune['val_mean_euclidean_error']\n",
    "\n",
    "best_config_cup = best_config_finetune if mee_finetune < mee_coarse else best_config_coarse"
   ]
  },
  {
   "cell_type": "code",
   "execution_count": null,
   "id": "1bc5ca89-2420-4d0c-9c0a-9c6bdbaebb03",
   "metadata": {},
   "outputs": [],
   "source": [
    "# Store grid-search\n",
    "best_config_coarse['n_layers'] = int(best_config_coarse['n_layers'])\n",
    "best_config_coarse['h_dim'] = int(best_config_coarse['h_dim'])\n",
    "best_config_coarse['batch_size'] = int(best_config_coarse['batch_size'])\n",
    "with open(results_dir + '/CUP/grid_search.json', 'w') as outf:\n",
    "    json.dump(best_config_coarse, outf, indent=4)\n",
    "    \n",
    "# Store random-search\n",
    "best_config_finetune['n_layers'] = int(best_config_finetune['n_layers'])\n",
    "best_config_finetune['h_dim'] = int(best_config_finetune['h_dim'])\n",
    "best_config_finetune['batch_size'] = int(best_config_finetune['batch_size'])\n",
    "with open(results_dir + '/CUP/random_search.json', 'w') as outf:\n",
    "    json.dump(best_config_finetune, outf, indent=4)"
   ]
  },
  {
   "cell_type": "markdown",
   "id": "c8734a58-90f9-4155-aee9-eadaf1d6c8b4",
   "metadata": {
    "tags": []
   },
   "source": [
    "## Training and Internal test assessment\n",
    "Let's perform a re-training of our model on the entire training/validation set. In this way, we're able to leverage the entire training/validation data (early stopping is applied w.r.t. the train MEE). Finally, predict on the (untouched) internal test to perform model assessment and estimate our performance on the blind test set.\n",
    "\n",
    "Note that, in this phase, we don't use the internal test in any way (i.e., no training and no validation). We only estimate its errors and plot its curves."
   ]
  },
  {
   "cell_type": "code",
   "execution_count": 11,
   "id": "011d13af-da0d-4441-9643-42dab4d9c323",
   "metadata": {},
   "outputs": [],
   "source": [
    "# --- UNCOMMENT TO TEST ---\n",
    "# Best (tuning) configuration\n",
    "# Best configuration\n",
    "best_config_cup = {\n",
    "    'lr': 0.00036,\n",
    "    'h_dim': 128,\n",
    "    'n_layers': 3,\n",
    "    'activation': 'tanh',\n",
    "    'reg': 0.001,\n",
    "    'momentum': 0.93, \n",
    "    'batch_size': 32,\n",
    "}"
   ]
  },
  {
   "cell_type": "code",
   "execution_count": null,
   "id": "43456ab0-6d2a-4259-9fa2-6210956724d8",
   "metadata": {},
   "outputs": [],
   "source": [
    "# Train to plot learning curves\n",
    "model_nn_cup = get_nn_sgd_regressor(best_config_cup, x_train_cup.shape[1])\n",
    "solver = Solver(model_nn_cup, x_train_cup, y_train_cup, x_internal_test_cup, y_internal_test_cup, target='mean_euclidean_error')\n",
    "solver.train(epochs=800, patience=50)"
   ]
  },
  {
   "cell_type": "code",
   "execution_count": null,
   "id": "8b870ef6-e044-4982-9d7d-ea71ba02cc9a",
   "metadata": {},
   "outputs": [],
   "source": [
    "# Store learning curves\n",
    "solver.plot_history(results_dir + '/55/history_poly', loss='MSE', metric='MEE')"
   ]
  },
  {
   "cell_type": "markdown",
   "id": "5b0c16f5-0483-4915-a291-9bd5d0b84abc",
   "metadata": {
    "tags": []
   },
   "source": [
    "## Training average"
   ]
  },
  {
   "cell_type": "markdown",
   "id": "e1f3f84c-4f79-4198-a4f5-f110c2cf349a",
   "metadata": {},
   "source": [
    "To obtain a more accurate estimate on the internal test (and thus on the blind test), we perform 5 trials with the exact same setting, and then take the average.\n",
    "In this phase, we don't use the internal test in any way (i.e., no training and no validation). We only predict and plot its curves.\n",
    "\n",
    "Specifically, we train execute $<N\\_TRIALS>$ trials of training."
   ]
  },
  {
   "cell_type": "code",
   "execution_count": null,
   "id": "46e51201-e8d4-462f-9074-3b33cd988d17",
   "metadata": {},
   "outputs": [],
   "source": [
    "N_TRIALS = 5\n",
    "\n",
    "# Keep track of the trials results\n",
    "train_preds_arr = np.zeros((N_TRIALS, 900, 3))\n",
    "internal_test_preds_arr = np.zeros((N_TRIALS, 100, 3))\n",
    "test_preds_arr = np.zeros((N_TRIALS, 900, 3))"
   ]
  },
  {
   "cell_type": "code",
   "execution_count": null,
   "id": "a7856967-b89a-4204-9183-798bf5a05324",
   "metadata": {},
   "outputs": [],
   "source": [
    "# Perform 5 training trials\n",
    "for i in range(N_TRIALS):\n",
    "    # Train (early stopping on train MEE)\n",
    "    model_nn_cup = get_nn_sgd_regressor(best_config_cup, x_train_cup.shape[1])\n",
    "    solver = Solver(model_nn_cup, x_train_cup, y_train_cup, x_internal_test_cup, y_internal_test_cup, target='mean_euclidean_error')\n",
    "    solver.train(epochs=800, patience=50)\n",
    "\n",
    "    # Store train predictions\n",
    "    train_preds_arr[i] = model_nn_cup.predict(x_train_cup)\n",
    "    # Store internal test predictions\n",
    "    internal_test_preds_arr[i] = model_nn_cup.predict(x_internal_test_cup)\n",
    "    # Blind test predictions\n",
    "    test_preds_arr[i] = model_nn_cup.predict(x_test_cup)"
   ]
  },
  {
   "cell_type": "code",
   "execution_count": null,
   "id": "b3ecb484-8f8e-4e22-bb81-fb20fd8b59bc",
   "metadata": {},
   "outputs": [],
   "source": [
    "print('-- TRAINING (MEAN 5 TRIALS) --')\n",
    "loss_train_mean, mee_train_mean = mean_squared_error(y_train_cup, np.mean(train_preds_arr, axis=0)), mean_euclidean_error(y_train_cup, np.mean(train_preds_arr, axis=0))\n",
    "print(f'Mean Loss (MSE): {loss_train_mean:.4f} - Mean MEE: {mee_train_mean:.4f}')"
   ]
  },
  {
   "cell_type": "code",
   "execution_count": null,
   "id": "0cee1375-5b33-4336-9c6e-b9314e651560",
   "metadata": {},
   "outputs": [],
   "source": [
    "print('-- INTERNAL TEST (MEAN 5 TRIALS) --')\n",
    "loss_internal_test_mean, mee_internal_test_mean = mean_squared_error(y_internal_test_cup, np.mean(internal_test_preds_arr, axis=0)), mean_euclidean_error(y_internal_test_cup, np.mean(internal_test_preds_arr, axis=0))\n",
    "print(f'Mean Loss (MSE): {loss_internal_test_mean:.4f} -  Mean MEE: {mee_internal_test_mean:.4f}')"
   ]
  },
  {
   "cell_type": "code",
   "execution_count": null,
   "id": "ded66edd-b811-4de8-8d24-014fa2e44c91",
   "metadata": {},
   "outputs": [],
   "source": [
    "# Blind test set predictions\n",
    "mean_preds_cup = np.mean(test_preds_arr, axis=0)"
   ]
  },
  {
   "cell_type": "markdown",
   "id": "a15c9d37-63cd-483e-88d9-000877a88d94",
   "metadata": {},
   "source": [
    "### Store result"
   ]
  },
  {
   "cell_type": "code",
   "execution_count": null,
   "id": "a5e777d6-f2b2-4483-8c0f-9b2d74f5b1bf",
   "metadata": {},
   "outputs": [],
   "source": [
    "# Store report\n",
    "report_nn_mean = {\n",
    "    'train': {\n",
    "        'mean_mse': loss_train_mean, \n",
    "        'mean_mee': float(mee_train_mean),\n",
    "    },\n",
    "    'internal_test': {\n",
    "        'mean_mse': loss_internal_test_mean, \n",
    "        'mean_mee': float(mee_internal_test_mean),\n",
    "    }\n",
    "}\n",
    "\n",
    "store_cup_result(results_dir + '/CUP/mean_5_', best_config_cup, report_nn_mean, mean_preds_cup, is_poly=True)"
   ]
  },
  {
   "cell_type": "markdown",
   "id": "685cdf9e-d444-4eec-b315-a3e6e0fdf68e",
   "metadata": {},
   "source": [
    "Store the train and internal test (mean) predictions so that they can be used for the estimate of the ensembles"
   ]
  },
  {
   "cell_type": "code",
   "execution_count": null,
   "id": "7684feef-4928-4def-94c5-174a84034eb8",
   "metadata": {},
   "outputs": [],
   "source": [
    "# Store train mean predictions\n",
    "with open(results_dir + '/CUP/mean_5_train_preds_poly.csv', 'w') as outf:\n",
    "    # Team Info\n",
    "    outf.write(\"# Matteo Pinna, Leonardo Caridi, Marco Sanna\\n\")\n",
    "    outf.write(\"# ACD-TEAM\\n\")\n",
    "    outf.write(\"# ML-CUP23 v2\\n\")\n",
    "    outf.write(\"# 20/01/2024\\n\")\n",
    "\n",
    "    # Writing predictions\n",
    "    for i, pred in enumerate(np.mean(train_preds_arr, axis=0), 1):\n",
    "        outf.write(f\"{i},{','.join(map(str, pred))}\\n\")\n",
    "        \n",
    "# Store internal test mean predictions\n",
    "with open(results_dir + '/CUP/mean_5_internal_test_preds_poly.csv', 'w') as outf:\n",
    "    # Team Info\n",
    "    outf.write(\"# Matteo Pinna, Leonardo Caridi, Marco Sanna\\n\")\n",
    "    outf.write(\"# ACD-TEAM\\n\")\n",
    "    outf.write(\"# ML-CUP23 v2\\n\")\n",
    "    outf.write(\"# 20/01/2024\\n\")\n",
    "\n",
    "    # Writing predictions\n",
    "    for i, pred in enumerate(np.mean(internal_test_preds_arr, axis=0), 1):\n",
    "        outf.write(f\"{i},{','.join(map(str, pred))}\\n\")"
   ]
  },
  {
   "cell_type": "markdown",
   "id": "f06d6c80-1a72-4dad-a24f-d9bba1300294",
   "metadata": {},
   "source": [
    "# Final re-training\n",
    "Since the test error has already been estimated by leveraging the (untouched) internal test, we now perform a final re-training with all the development data. This does not violate the rules, since the internal test is not (and has never) been used for any model selection.\n",
    "\n",
    "Thus, we train on the entire development data, i.e. $90$ train/val + $10$ internal test. Early stopping is w.r.t. the MEE."
   ]
  },
  {
   "cell_type": "code",
   "execution_count": null,
   "id": "3adc7df6-0a93-4275-8e65-30063f598188",
   "metadata": {},
   "outputs": [],
   "source": [
    "# Apply polynomial to the entire development set\n",
    "x_dev_cup = poly.transform(x_dev_cup)\n",
    "\n",
    "# Keep track of the trials results\n",
    "dev_preds_arr = np.zeros((N_TRIALS, 1000, 3))\n",
    "final_blind_test_preds_arr = np.zeros((N_TRIALS, 900, 3))"
   ]
  },
  {
   "cell_type": "markdown",
   "id": "0f5b1da1-c043-4f54-af6a-0049b0545279",
   "metadata": {},
   "source": [
    "This time - since the internal test estimate has already been performed - we're able to use the internal test set either as training data or as validation for the early stopping mechanism."
   ]
  },
  {
   "cell_type": "code",
   "execution_count": null,
   "id": "a458fe20-47bd-4df6-9b19-f0d2e0277b36",
   "metadata": {},
   "outputs": [],
   "source": [
    "# Perform 5 training trials\n",
    "for i in range(N_TRIALS):\n",
    "    # Train (early stopping on validation/internal test MEE)\n",
    "    model_nn_cup = get_nn_sgd_regressor(best_config_cup, x_train_cup.shape[1])\n",
    "    solver = Solver(model_nn_cup, x_dev_cup, y_dev_cup, target='mean_euclidean_error')\n",
    "    solver.train(epochs=800, patience=50)\n",
    "\n",
    "    # Dev predictions\n",
    "    dev_preds_arr[i] = model_nn_cup.predict(x_dev_cup)\n",
    "    # Blind test predictions\n",
    "    final_blind_test_preds_arr[i] = model_nn_cup.predict(x_test_cup)"
   ]
  },
  {
   "cell_type": "code",
   "execution_count": null,
   "id": "d5282922-0dad-463d-91a2-a40cb01890f8",
   "metadata": {},
   "outputs": [],
   "source": [
    "print('-- DEVELOPMENT (MEAN 5 TRIALS) --')\n",
    "final_train_preds = np.mean(dev_preds_arr, axis=0)\n",
    "loss_dev_cup_mean, mee_dev_cup_mean = mean_squared_error(y_dev_cup, final_train_preds), mean_euclidean_error(y_dev_cup, final_train_preds)\n",
    "print(f'Mean Loss (MSE): {loss_dev_cup_mean:.4f} - Mean MEE: {mee_dev_cup_mean:.4f}')"
   ]
  },
  {
   "cell_type": "code",
   "execution_count": null,
   "id": "e1ec6650-5aa5-4d27-8ce4-1bd3b0058175",
   "metadata": {},
   "outputs": [],
   "source": [
    "# Final blind test set predictions\n",
    "final_blind_test_preds = np.mean(final_blind_test_preds_arr, axis=0)"
   ]
  },
  {
   "cell_type": "code",
   "execution_count": null,
   "id": "715591a8-cb55-4b1e-afb9-55551a92f52c",
   "metadata": {},
   "outputs": [],
   "source": [
    "# Store final re-training train/dev mean predictions\n",
    "with open(results_dir + '/CUP/final_train.csv', 'w') as outf:\n",
    "    # Team Info\n",
    "    outf.write(\"# Matteo Pinna, Leonardo Caridi, Marco Sanna\\n\")\n",
    "    outf.write(\"# ACD-TEAM\\n\")\n",
    "    outf.write(\"# ML-CUP23 v2\\n\")\n",
    "    outf.write(\"# 20/01/2024\\n\")\n",
    "\n",
    "    # Writing predictions\n",
    "    for i, pred in enumerate(final_train_preds, 1):\n",
    "        outf.write(f\"{i},{','.join(map(str, pred))}\\n\")\n",
    "\n",
    "# Store final blind test mean predictions\n",
    "with open(results_dir + '/CUP/final_blind_test.csv', 'w') as outf:\n",
    "    # Team Info\n",
    "    outf.write(\"# Matteo Pinna, Leonardo Caridi, Marco Sanna\\n\")\n",
    "    outf.write(\"# ACD-TEAM\\n\")\n",
    "    outf.write(\"# ML-CUP23 v2\\n\")\n",
    "    outf.write(\"# 20/01/2024\\n\")\n",
    "\n",
    "    # Writing predictions\n",
    "    for i, pred in enumerate(final_blind_test_preds, 1):\n",
    "        outf.write(f\"{i},{','.join(map(str, pred))}\\n\")"
   ]
  }
 ],
 "metadata": {
  "kernelspec": {
   "display_name": "hlt",
   "language": "python",
   "name": "hlt"
  },
  "language_info": {
   "codemirror_mode": {
    "name": "ipython",
    "version": 3
   },
   "file_extension": ".py",
   "mimetype": "text/x-python",
   "name": "python",
   "nbconvert_exporter": "python",
   "pygments_lexer": "ipython3",
   "version": "3.9.7"
  }
 },
 "nbformat": 4,
 "nbformat_minor": 5
}
