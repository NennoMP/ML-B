{
 "cells": [
  {
   "cell_type": "markdown",
   "id": "59d3416e-3aee-496b-9a46-d86fab3fe008",
   "metadata": {
    "tags": []
   },
   "source": [
    "## Imports"
   ]
  },
  {
   "cell_type": "code",
   "execution_count": 76,
   "id": "15985a7e-4206-4f13-aaad-d38982df5f10",
   "metadata": {},
   "outputs": [
    {
     "name": "stdout",
     "output_type": "stream",
     "text": [
      "The autoreload extension is already loaded. To reload it, use:\n",
      "  %reload_ext autoreload\n"
     ]
    }
   ],
   "source": [
    "import os\n",
    "import sys\n",
    "\n",
    "import numpy as np\n",
    "import pandas as pd\n",
    "\n",
    "from sklearn.ensemble import RandomForestClassifier, RandomForestRegressor\n",
    "from sklearn.metrics import accuracy_score, classification_report, make_scorer\n",
    "from sklearn.model_selection import GridSearchCV, StratifiedKFold, KFold, train_test_split\n",
    "\n",
    "dir_parts = os.getcwd().split(os.path.sep)\n",
    "root_index = dir_parts.index('ML-B')\n",
    "root_path = os.path.sep.join(dir_parts[:root_index + 1])\n",
    "sys.path.append(root_path + '/code/')\n",
    "from data.data_config import Dataset\n",
    "from data.data_utils import load_monk, load_cup, store_monk_result, store_cup_result\n",
    "from hyperparameter_tuning import grid_search_top_configs\n",
    "from training.metrics import mean_euclidean_error\n",
    "\n",
    "%load_ext autoreload\n",
    "%autoreload 2"
   ]
  },
  {
   "cell_type": "markdown",
   "id": "796c5562-6b4f-4eb0-bf78-8850ccc95a88",
   "metadata": {
    "tags": []
   },
   "source": [
    "# Random Forest\n",
    "In this notebook we test a **RandomForestClassifier** and a **RandomForestRegressor** w.r.t. the tasks at hand, i.e. the three MONK's problems and the CUP dataset respectively."
   ]
  },
  {
   "cell_type": "code",
   "execution_count": 77,
   "id": "5e103d7c-0cc6-4f8c-89a9-aed6653b1abf",
   "metadata": {
    "tags": []
   },
   "outputs": [],
   "source": [
    "MODEL_NAME = 'RandomForest'\n",
    "\n",
    "VAL_SPLIT = 0.2\n",
    "\n",
    "RANDOM_STATE = 128"
   ]
  },
  {
   "cell_type": "markdown",
   "id": "84564330-d564-4700-9865-88576073b71b",
   "metadata": {
    "tags": []
   },
   "source": [
    "## Path"
   ]
  },
  {
   "cell_type": "code",
   "execution_count": 78,
   "id": "0b342ae0-1ef2-4bdb-9128-cd10ac83adf9",
   "metadata": {},
   "outputs": [],
   "source": [
    "# Directories\n",
    "results_dir = root_path + '/results/' + MODEL_NAME\n",
    "\n",
    "# Filepaths (MONK)\n",
    "m1_dev_path, m1_test_path = Dataset.MONK_1.dev_path, Dataset.MONK_1.test_path # MONK 1\n",
    "m2_dev_path, m2_test_path = Dataset.MONK_2.dev_path, Dataset.MONK_2.test_path # MONK 2\n",
    "m3_dev_path, m3_test_path = Dataset.MONK_3.dev_path, Dataset.MONK_3.test_path # MONK 3\n",
    "\n",
    "# Filepaths (CUP)\n",
    "cup_dev_path, cup_test_path = Dataset.CUP.dev_path, Dataset.CUP.test_path"
   ]
  },
  {
   "cell_type": "markdown",
   "id": "859824b9-6c6c-4f09-b4d9-ad5f9c5e2b29",
   "metadata": {
    "tags": []
   },
   "source": [
    "# MONK-1"
   ]
  },
  {
   "cell_type": "code",
   "execution_count": 79,
   "id": "9d8122e9-8291-4384-8877-35138e33476d",
   "metadata": {},
   "outputs": [],
   "source": [
    "# Load MONK-1\n",
    "x_dev_m1, y_dev_m1, x_test_m1, y_test_m1 = load_monk(m1_dev_path, m1_test_path)"
   ]
  },
  {
   "cell_type": "code",
   "execution_count": 80,
   "id": "fc951519-7dcd-4864-99a2-73eaffa19745",
   "metadata": {},
   "outputs": [
    {
     "data": {
      "text/plain": [
       "[array([[ True, False, False, ..., False, False,  True],\n",
       "        [ True, False, False, ..., False, False,  True],\n",
       "        [False, False,  True, ..., False, False,  True],\n",
       "        ...,\n",
       "        [False, False,  True, ..., False,  True, False],\n",
       "        [False,  True, False, ..., False,  True, False],\n",
       "        [False,  True, False, ..., False, False,  True]]),\n",
       " array([[ True, False, False, False,  True, False,  True, False,  True,\n",
       "         False, False, False, False,  True, False,  True, False],\n",
       "        [False, False,  True, False, False,  True, False,  True, False,\n",
       "         False,  True,  True, False, False, False, False,  True],\n",
       "        [False,  True, False, False, False,  True,  True, False, False,\n",
       "          True, False, False, False,  True, False,  True, False],\n",
       "        [False, False,  True,  True, False, False, False,  True, False,\n",
       "         False,  True, False,  True, False, False, False,  True],\n",
       "        [ True, False, False, False,  True, False,  True, False, False,\n",
       "         False,  True, False, False, False,  True, False,  True],\n",
       "        [False,  True, False, False, False,  True, False,  True, False,\n",
       "         False,  True, False, False,  True, False, False,  True],\n",
       "        [False,  True, False, False,  True, False,  True, False,  True,\n",
       "         False, False, False,  True, False, False, False,  True],\n",
       "        [False,  True, False,  True, False, False, False,  True, False,\n",
       "         False,  True, False,  True, False, False, False,  True],\n",
       "        [ True, False, False, False,  True, False,  True, False, False,\n",
       "          True, False, False, False,  True, False,  True, False],\n",
       "        [False, False,  True, False,  True, False, False,  True,  True,\n",
       "         False, False, False, False,  True, False, False,  True],\n",
       "        [False,  True, False,  True, False, False,  True, False,  True,\n",
       "         False, False, False, False,  True, False, False,  True],\n",
       "        [ True, False, False, False, False,  True,  True, False,  True,\n",
       "         False, False, False,  True, False, False,  True, False],\n",
       "        [ True, False, False, False, False,  True, False,  True, False,\n",
       "          True, False, False,  True, False, False, False,  True],\n",
       "        [ True, False, False,  True, False, False,  True, False, False,\n",
       "         False,  True, False,  True, False, False,  True, False],\n",
       "        [False, False,  True, False, False,  True,  True, False, False,\n",
       "          True, False, False, False,  True, False, False,  True],\n",
       "        [False,  True, False,  True, False, False,  True, False, False,\n",
       "          True, False, False,  True, False, False, False,  True],\n",
       "        [False,  True, False, False, False,  True, False,  True, False,\n",
       "          True, False, False,  True, False, False,  True, False],\n",
       "        [False, False,  True, False, False,  True, False,  True, False,\n",
       "         False,  True, False,  True, False, False, False,  True],\n",
       "        [ True, False, False, False, False,  True,  True, False, False,\n",
       "         False,  True, False,  True, False, False, False,  True],\n",
       "        [ True, False, False, False, False,  True,  True, False, False,\n",
       "          True, False, False,  True, False, False,  True, False],\n",
       "        [False,  True, False,  True, False, False, False,  True, False,\n",
       "          True, False, False, False, False,  True, False,  True],\n",
       "        [ True, False, False, False,  True, False, False,  True, False,\n",
       "         False,  True, False, False,  True, False,  True, False],\n",
       "        [False,  True, False, False,  True, False,  True, False, False,\n",
       "         False,  True, False, False,  True, False, False,  True],\n",
       "        [ True, False, False, False, False,  True,  True, False, False,\n",
       "         False,  True, False, False, False,  True,  True, False],\n",
       "        [False, False,  True,  True, False, False,  True, False, False,\n",
       "          True, False,  True, False, False, False,  True, False]]),\n",
       " array([0, 1, 0, 1, 0, 0, 0, 1, 1, 1, 1, 1, 1, 0, 1, 1, 1, 1, 0, 0, 1, 1,\n",
       "        1, 0, 1, 1, 0, 1, 0, 1, 0, 0, 1, 1, 1, 0, 1, 1, 0, 0, 1, 0, 0, 1,\n",
       "        1, 0, 1, 1, 1, 1, 0, 0, 0, 0, 0, 0, 1, 0, 0, 0, 1, 0, 1, 1, 1, 0,\n",
       "        1, 0, 0, 1, 1, 1, 1, 1, 1, 1, 0, 0, 0, 0, 1, 1, 0, 1, 1, 0, 1, 0,\n",
       "        1, 0, 0, 1, 0, 0, 1, 1, 1, 1, 0], dtype=int64),\n",
       " array([0, 1, 0, 0, 0, 0, 1, 0, 0, 0, 0, 0, 0, 1, 1, 0, 0, 1, 0, 0, 0, 0,\n",
       "        1, 0, 1], dtype=int64)]"
      ]
     },
     "execution_count": 80,
     "metadata": {},
     "output_type": "execute_result"
    }
   ],
   "source": [
    "train_test_split(x_dev_m1, y_dev_m1, test_size=VAL_SPLIT, random_state=RANDOM_STATE)"
   ]
  },
  {
   "cell_type": "markdown",
   "id": "eaba9b76-776b-4385-b71c-2cd30f5fed9d",
   "metadata": {},
   "source": [
    "First of all, we define the grid search spaces for the RandomForestClassifier that we're going to use for all three MONK's problems."
   ]
  },
  {
   "cell_type": "markdown",
   "id": "94fcd744-bfd1-4316-b15d-ab6689988460",
   "metadata": {
    "tags": []
   },
   "source": [
    "## Grid search\n",
    "Grid search is a simple hyper-parameter tuning techniques useful for finding the best configuration for a specific ML model. It involves:\n",
    "- defining a grid of hparams values\n",
    "- systematically test all possible combinations\n",
    "\n",
    "Other approaches include Random search or Bayesian optimization."
   ]
  },
  {
   "cell_type": "code",
   "execution_count": 81,
   "id": "04e445f5-bb11-4cd9-902e-02c2f7cb3ff0",
   "metadata": {},
   "outputs": [],
   "source": [
    "# hparams grid for grid search\n",
    "rfc_hparams_spaces = {\n",
    "    'n_estimators': [25, 50, 100],\n",
    "    'max_depth': [None, 10, 20],\n",
    "    'min_samples_leaf': [1, 2, 4],\n",
    "    'min_samples_split': [2, 5, 10],\n",
    "    'max_features': ['sqrt'],\n",
    "    'criterion': ['gini', 'entropy'],\n",
    "    'bootstrap': [True, False],\n",
    "}"
   ]
  },
  {
   "cell_type": "code",
   "execution_count": 82,
   "id": "1efe47c6-c887-411f-a4a2-e6c3083f3ecd",
   "metadata": {},
   "outputs": [
    {
     "name": "stdout",
     "output_type": "stream",
     "text": [
      "Fitting 2 folds for each of 324 candidates, totalling 648 fits\n"
     ]
    },
    {
     "data": {
      "text/html": [
       "<style>#sk-container-id-18 {color: black;}#sk-container-id-18 pre{padding: 0;}#sk-container-id-18 div.sk-toggleable {background-color: white;}#sk-container-id-18 label.sk-toggleable__label {cursor: pointer;display: block;width: 100%;margin-bottom: 0;padding: 0.3em;box-sizing: border-box;text-align: center;}#sk-container-id-18 label.sk-toggleable__label-arrow:before {content: \"▸\";float: left;margin-right: 0.25em;color: #696969;}#sk-container-id-18 label.sk-toggleable__label-arrow:hover:before {color: black;}#sk-container-id-18 div.sk-estimator:hover label.sk-toggleable__label-arrow:before {color: black;}#sk-container-id-18 div.sk-toggleable__content {max-height: 0;max-width: 0;overflow: hidden;text-align: left;background-color: #f0f8ff;}#sk-container-id-18 div.sk-toggleable__content pre {margin: 0.2em;color: black;border-radius: 0.25em;background-color: #f0f8ff;}#sk-container-id-18 input.sk-toggleable__control:checked~div.sk-toggleable__content {max-height: 200px;max-width: 100%;overflow: auto;}#sk-container-id-18 input.sk-toggleable__control:checked~label.sk-toggleable__label-arrow:before {content: \"▾\";}#sk-container-id-18 div.sk-estimator input.sk-toggleable__control:checked~label.sk-toggleable__label {background-color: #d4ebff;}#sk-container-id-18 div.sk-label input.sk-toggleable__control:checked~label.sk-toggleable__label {background-color: #d4ebff;}#sk-container-id-18 input.sk-hidden--visually {border: 0;clip: rect(1px 1px 1px 1px);clip: rect(1px, 1px, 1px, 1px);height: 1px;margin: -1px;overflow: hidden;padding: 0;position: absolute;width: 1px;}#sk-container-id-18 div.sk-estimator {font-family: monospace;background-color: #f0f8ff;border: 1px dotted black;border-radius: 0.25em;box-sizing: border-box;margin-bottom: 0.5em;}#sk-container-id-18 div.sk-estimator:hover {background-color: #d4ebff;}#sk-container-id-18 div.sk-parallel-item::after {content: \"\";width: 100%;border-bottom: 1px solid gray;flex-grow: 1;}#sk-container-id-18 div.sk-label:hover label.sk-toggleable__label {background-color: #d4ebff;}#sk-container-id-18 div.sk-serial::before {content: \"\";position: absolute;border-left: 1px solid gray;box-sizing: border-box;top: 0;bottom: 0;left: 50%;z-index: 0;}#sk-container-id-18 div.sk-serial {display: flex;flex-direction: column;align-items: center;background-color: white;padding-right: 0.2em;padding-left: 0.2em;position: relative;}#sk-container-id-18 div.sk-item {position: relative;z-index: 1;}#sk-container-id-18 div.sk-parallel {display: flex;align-items: stretch;justify-content: center;background-color: white;position: relative;}#sk-container-id-18 div.sk-item::before, #sk-container-id-18 div.sk-parallel-item::before {content: \"\";position: absolute;border-left: 1px solid gray;box-sizing: border-box;top: 0;bottom: 0;left: 50%;z-index: -1;}#sk-container-id-18 div.sk-parallel-item {display: flex;flex-direction: column;z-index: 1;position: relative;background-color: white;}#sk-container-id-18 div.sk-parallel-item:first-child::after {align-self: flex-end;width: 50%;}#sk-container-id-18 div.sk-parallel-item:last-child::after {align-self: flex-start;width: 50%;}#sk-container-id-18 div.sk-parallel-item:only-child::after {width: 0;}#sk-container-id-18 div.sk-dashed-wrapped {border: 1px dashed gray;margin: 0 0.4em 0.5em 0.4em;box-sizing: border-box;padding-bottom: 0.4em;background-color: white;}#sk-container-id-18 div.sk-label label {font-family: monospace;font-weight: bold;display: inline-block;line-height: 1.2em;}#sk-container-id-18 div.sk-label-container {text-align: center;}#sk-container-id-18 div.sk-container {/* jupyter's `normalize.less` sets `[hidden] { display: none; }` but bootstrap.min.css set `[hidden] { display: none !important; }` so we also need the `!important` here to be able to override the default hidden behavior on the sphinx rendered scikit-learn.org. See: https://github.com/scikit-learn/scikit-learn/issues/21755 */display: inline-block !important;position: relative;}#sk-container-id-18 div.sk-text-repr-fallback {display: none;}</style><div id=\"sk-container-id-18\" class=\"sk-top-container\"><div class=\"sk-text-repr-fallback\"><pre>GridSearchCV(cv=StratifiedKFold(n_splits=2, random_state=128, shuffle=True),\n",
       "             estimator=RandomForestClassifier(random_state=128),\n",
       "             param_grid={&#x27;bootstrap&#x27;: [True, False],\n",
       "                         &#x27;criterion&#x27;: [&#x27;gini&#x27;, &#x27;entropy&#x27;],\n",
       "                         &#x27;max_depth&#x27;: [None, 10, 20], &#x27;max_features&#x27;: [&#x27;sqrt&#x27;],\n",
       "                         &#x27;min_samples_leaf&#x27;: [1, 2, 4],\n",
       "                         &#x27;min_samples_split&#x27;: [2, 5, 10],\n",
       "                         &#x27;n_estimators&#x27;: [25, 50, 100]},\n",
       "             scoring=&#x27;accuracy&#x27;, verbose=1)</pre><b>In a Jupyter environment, please rerun this cell to show the HTML representation or trust the notebook. <br />On GitHub, the HTML representation is unable to render, please try loading this page with nbviewer.org.</b></div><div class=\"sk-container\" hidden><div class=\"sk-item sk-dashed-wrapped\"><div class=\"sk-label-container\"><div class=\"sk-label sk-toggleable\"><input class=\"sk-toggleable__control sk-hidden--visually\" id=\"sk-estimator-id-36\" type=\"checkbox\" ><label for=\"sk-estimator-id-36\" class=\"sk-toggleable__label sk-toggleable__label-arrow\">GridSearchCV</label><div class=\"sk-toggleable__content\"><pre>GridSearchCV(cv=StratifiedKFold(n_splits=2, random_state=128, shuffle=True),\n",
       "             estimator=RandomForestClassifier(random_state=128),\n",
       "             param_grid={&#x27;bootstrap&#x27;: [True, False],\n",
       "                         &#x27;criterion&#x27;: [&#x27;gini&#x27;, &#x27;entropy&#x27;],\n",
       "                         &#x27;max_depth&#x27;: [None, 10, 20], &#x27;max_features&#x27;: [&#x27;sqrt&#x27;],\n",
       "                         &#x27;min_samples_leaf&#x27;: [1, 2, 4],\n",
       "                         &#x27;min_samples_split&#x27;: [2, 5, 10],\n",
       "                         &#x27;n_estimators&#x27;: [25, 50, 100]},\n",
       "             scoring=&#x27;accuracy&#x27;, verbose=1)</pre></div></div></div><div class=\"sk-parallel\"><div class=\"sk-parallel-item\"><div class=\"sk-item\"><div class=\"sk-label-container\"><div class=\"sk-label sk-toggleable\"><input class=\"sk-toggleable__control sk-hidden--visually\" id=\"sk-estimator-id-37\" type=\"checkbox\" ><label for=\"sk-estimator-id-37\" class=\"sk-toggleable__label sk-toggleable__label-arrow\">estimator: RandomForestClassifier</label><div class=\"sk-toggleable__content\"><pre>RandomForestClassifier(random_state=128)</pre></div></div></div><div class=\"sk-serial\"><div class=\"sk-item\"><div class=\"sk-estimator sk-toggleable\"><input class=\"sk-toggleable__control sk-hidden--visually\" id=\"sk-estimator-id-38\" type=\"checkbox\" ><label for=\"sk-estimator-id-38\" class=\"sk-toggleable__label sk-toggleable__label-arrow\">RandomForestClassifier</label><div class=\"sk-toggleable__content\"><pre>RandomForestClassifier(random_state=128)</pre></div></div></div></div></div></div></div></div></div></div>"
      ],
      "text/plain": [
       "GridSearchCV(cv=StratifiedKFold(n_splits=2, random_state=128, shuffle=True),\n",
       "             estimator=RandomForestClassifier(random_state=128),\n",
       "             param_grid={'bootstrap': [True, False],\n",
       "                         'criterion': ['gini', 'entropy'],\n",
       "                         'max_depth': [None, 10, 20], 'max_features': ['sqrt'],\n",
       "                         'min_samples_leaf': [1, 2, 4],\n",
       "                         'min_samples_split': [2, 5, 10],\n",
       "                         'n_estimators': [25, 50, 100]},\n",
       "             scoring='accuracy', verbose=1)"
      ]
     },
     "execution_count": 82,
     "metadata": {},
     "output_type": "execute_result"
    }
   ],
   "source": [
    "# perform grid search with KFold\n",
    "grid_search_m1 = GridSearchCV(\n",
    "    RandomForestClassifier(random_state=128),\n",
    "    param_grid=rfc_hparams_spaces,\n",
    "    cv=StratifiedKFold(n_splits=2, shuffle=True, random_state=128),\n",
    "    scoring='accuracy',\n",
    "    verbose=1\n",
    ")\n",
    "\n",
    "grid_search_m1.fit(x_dev_m1, y_dev_m1)"
   ]
  },
  {
   "cell_type": "code",
   "execution_count": 83,
   "id": "ce7c6596-ab4e-4b5c-9cce-a257498ca99d",
   "metadata": {},
   "outputs": [
    {
     "name": "stdout",
     "output_type": "stream",
     "text": [
      "Model rank 1 - Config: {'bootstrap': False, 'criterion': 'gini', 'max_depth': 20, 'max_features': 'sqrt', 'min_samples_leaf': 1, 'min_samples_split': 5, 'n_estimators': 100}\n",
      "Mean score 0.8790 - Std score: 0.0081\n",
      "\n",
      "Model rank 2 - Config: {'bootstrap': False, 'criterion': 'gini', 'max_depth': None, 'max_features': 'sqrt', 'min_samples_leaf': 1, 'min_samples_split': 5, 'n_estimators': 100}\n",
      "Mean score 0.8790 - Std score: 0.0081\n",
      "\n",
      "Model rank 3 - Config: {'bootstrap': False, 'criterion': 'gini', 'max_depth': None, 'max_features': 'sqrt', 'min_samples_leaf': 1, 'min_samples_split': 5, 'n_estimators': 50}\n",
      "Mean score 0.8790 - Std score: 0.0081\n",
      "\n",
      "Model rank 4 - Config: {'bootstrap': False, 'criterion': 'gini', 'max_depth': 10, 'max_features': 'sqrt', 'min_samples_leaf': 1, 'min_samples_split': 5, 'n_estimators': 50}\n",
      "Mean score 0.8790 - Std score: 0.0081\n",
      "\n",
      "Model rank 5 - Config: {'bootstrap': False, 'criterion': 'gini', 'max_depth': 10, 'max_features': 'sqrt', 'min_samples_leaf': 1, 'min_samples_split': 5, 'n_estimators': 100}\n",
      "Mean score 0.8790 - Std score: 0.0081\n",
      "\n"
     ]
    }
   ],
   "source": [
    "best_configs_m1 = grid_search_top_configs(grid_search_m1.cv_results_) # top k config"
   ]
  },
  {
   "cell_type": "code",
   "execution_count": 84,
   "id": "0a4e6f81-14f4-4f06-9339-710da3c6ef95",
   "metadata": {},
   "outputs": [
    {
     "data": {
      "text/html": [
       "<style>#sk-container-id-19 {color: black;}#sk-container-id-19 pre{padding: 0;}#sk-container-id-19 div.sk-toggleable {background-color: white;}#sk-container-id-19 label.sk-toggleable__label {cursor: pointer;display: block;width: 100%;margin-bottom: 0;padding: 0.3em;box-sizing: border-box;text-align: center;}#sk-container-id-19 label.sk-toggleable__label-arrow:before {content: \"▸\";float: left;margin-right: 0.25em;color: #696969;}#sk-container-id-19 label.sk-toggleable__label-arrow:hover:before {color: black;}#sk-container-id-19 div.sk-estimator:hover label.sk-toggleable__label-arrow:before {color: black;}#sk-container-id-19 div.sk-toggleable__content {max-height: 0;max-width: 0;overflow: hidden;text-align: left;background-color: #f0f8ff;}#sk-container-id-19 div.sk-toggleable__content pre {margin: 0.2em;color: black;border-radius: 0.25em;background-color: #f0f8ff;}#sk-container-id-19 input.sk-toggleable__control:checked~div.sk-toggleable__content {max-height: 200px;max-width: 100%;overflow: auto;}#sk-container-id-19 input.sk-toggleable__control:checked~label.sk-toggleable__label-arrow:before {content: \"▾\";}#sk-container-id-19 div.sk-estimator input.sk-toggleable__control:checked~label.sk-toggleable__label {background-color: #d4ebff;}#sk-container-id-19 div.sk-label input.sk-toggleable__control:checked~label.sk-toggleable__label {background-color: #d4ebff;}#sk-container-id-19 input.sk-hidden--visually {border: 0;clip: rect(1px 1px 1px 1px);clip: rect(1px, 1px, 1px, 1px);height: 1px;margin: -1px;overflow: hidden;padding: 0;position: absolute;width: 1px;}#sk-container-id-19 div.sk-estimator {font-family: monospace;background-color: #f0f8ff;border: 1px dotted black;border-radius: 0.25em;box-sizing: border-box;margin-bottom: 0.5em;}#sk-container-id-19 div.sk-estimator:hover {background-color: #d4ebff;}#sk-container-id-19 div.sk-parallel-item::after {content: \"\";width: 100%;border-bottom: 1px solid gray;flex-grow: 1;}#sk-container-id-19 div.sk-label:hover label.sk-toggleable__label {background-color: #d4ebff;}#sk-container-id-19 div.sk-serial::before {content: \"\";position: absolute;border-left: 1px solid gray;box-sizing: border-box;top: 0;bottom: 0;left: 50%;z-index: 0;}#sk-container-id-19 div.sk-serial {display: flex;flex-direction: column;align-items: center;background-color: white;padding-right: 0.2em;padding-left: 0.2em;position: relative;}#sk-container-id-19 div.sk-item {position: relative;z-index: 1;}#sk-container-id-19 div.sk-parallel {display: flex;align-items: stretch;justify-content: center;background-color: white;position: relative;}#sk-container-id-19 div.sk-item::before, #sk-container-id-19 div.sk-parallel-item::before {content: \"\";position: absolute;border-left: 1px solid gray;box-sizing: border-box;top: 0;bottom: 0;left: 50%;z-index: -1;}#sk-container-id-19 div.sk-parallel-item {display: flex;flex-direction: column;z-index: 1;position: relative;background-color: white;}#sk-container-id-19 div.sk-parallel-item:first-child::after {align-self: flex-end;width: 50%;}#sk-container-id-19 div.sk-parallel-item:last-child::after {align-self: flex-start;width: 50%;}#sk-container-id-19 div.sk-parallel-item:only-child::after {width: 0;}#sk-container-id-19 div.sk-dashed-wrapped {border: 1px dashed gray;margin: 0 0.4em 0.5em 0.4em;box-sizing: border-box;padding-bottom: 0.4em;background-color: white;}#sk-container-id-19 div.sk-label label {font-family: monospace;font-weight: bold;display: inline-block;line-height: 1.2em;}#sk-container-id-19 div.sk-label-container {text-align: center;}#sk-container-id-19 div.sk-container {/* jupyter's `normalize.less` sets `[hidden] { display: none; }` but bootstrap.min.css set `[hidden] { display: none !important; }` so we also need the `!important` here to be able to override the default hidden behavior on the sphinx rendered scikit-learn.org. See: https://github.com/scikit-learn/scikit-learn/issues/21755 */display: inline-block !important;position: relative;}#sk-container-id-19 div.sk-text-repr-fallback {display: none;}</style><div id=\"sk-container-id-19\" class=\"sk-top-container\"><div class=\"sk-text-repr-fallback\"><pre>RandomForestClassifier(bootstrap=False, min_samples_split=5, n_estimators=50)</pre><b>In a Jupyter environment, please rerun this cell to show the HTML representation or trust the notebook. <br />On GitHub, the HTML representation is unable to render, please try loading this page with nbviewer.org.</b></div><div class=\"sk-container\" hidden><div class=\"sk-item\"><div class=\"sk-estimator sk-toggleable\"><input class=\"sk-toggleable__control sk-hidden--visually\" id=\"sk-estimator-id-39\" type=\"checkbox\" checked><label for=\"sk-estimator-id-39\" class=\"sk-toggleable__label sk-toggleable__label-arrow\">RandomForestClassifier</label><div class=\"sk-toggleable__content\"><pre>RandomForestClassifier(bootstrap=False, min_samples_split=5, n_estimators=50)</pre></div></div></div></div></div>"
      ],
      "text/plain": [
       "RandomForestClassifier(bootstrap=False, min_samples_split=5, n_estimators=50)"
      ]
     },
     "execution_count": 84,
     "metadata": {},
     "output_type": "execute_result"
    }
   ],
   "source": [
    "# Create a RandomForest with the best hparams\n",
    "rfc = RandomForestClassifier(**grid_search_m1.best_params_)\n",
    "\n",
    "# Train the model\n",
    "rfc.fit(x_dev_m1, y_dev_m1)"
   ]
  },
  {
   "cell_type": "code",
   "execution_count": 85,
   "id": "e034c525-0c5a-4737-9186-4cfc0b61ae15",
   "metadata": {},
   "outputs": [
    {
     "name": "stdout",
     "output_type": "stream",
     "text": [
      "-- DEVELOPMENT --\n",
      "              precision    recall  f1-score   support\n",
      "\n",
      "           0       1.00      1.00      1.00        62\n",
      "           1       1.00      1.00      1.00        62\n",
      "\n",
      "    accuracy                           1.00       124\n",
      "   macro avg       1.00      1.00      1.00       124\n",
      "weighted avg       1.00      1.00      1.00       124\n",
      "\n"
     ]
    }
   ],
   "source": [
    "print('-- DEVELOPMENT --')\n",
    "print(classification_report(y_dev_m1, rfc.predict(x_dev_m1)))"
   ]
  },
  {
   "cell_type": "code",
   "execution_count": 86,
   "id": "38e328d0-7a8e-463d-b9f3-0b2bdd3700c9",
   "metadata": {},
   "outputs": [
    {
     "name": "stdout",
     "output_type": "stream",
     "text": [
      "-- TEST --\n",
      "              precision    recall  f1-score   support\n",
      "\n",
      "           0       0.94      0.98      0.96       216\n",
      "           1       0.98      0.94      0.96       216\n",
      "\n",
      "    accuracy                           0.96       432\n",
      "   macro avg       0.96      0.96      0.96       432\n",
      "weighted avg       0.96      0.96      0.96       432\n",
      "\n"
     ]
    }
   ],
   "source": [
    "print('-- TEST --')\n",
    "report_test_m1 = classification_report(y_test_m1, rfc.predict(x_test_m1))\n",
    "print(report_test_m1)"
   ]
  },
  {
   "cell_type": "markdown",
   "id": "5d9a9e02-7de5-4fe0-8b53-5d7e98839b89",
   "metadata": {},
   "source": [
    "## Store results"
   ]
  },
  {
   "cell_type": "code",
   "execution_count": 87,
   "id": "4b65fea0-49fd-4f42-be28-e03a264f7d6a",
   "metadata": {},
   "outputs": [],
   "source": [
    "store_monk_result(results_dir + '/MONK1/', best_configs_m1, report_test_m1)"
   ]
  },
  {
   "cell_type": "markdown",
   "id": "b216aed0-5ba0-4816-a889-a3be455e73c9",
   "metadata": {},
   "source": [
    "# MONK-2"
   ]
  },
  {
   "cell_type": "code",
   "execution_count": 88,
   "id": "315fe162-40da-4664-b6f0-d1f01709f508",
   "metadata": {},
   "outputs": [],
   "source": [
    "# Load MONK-2\n",
    "x_dev_m2, y_dev_m2, x_test_m2, y_test_m2 = load_monk(m2_dev_path, m2_test_path)"
   ]
  },
  {
   "cell_type": "code",
   "execution_count": 89,
   "id": "659790ff",
   "metadata": {},
   "outputs": [
    {
     "data": {
      "text/plain": [
       "[array([[False, False,  True, ..., False,  True, False],\n",
       "        [False,  True, False, ..., False, False,  True],\n",
       "        [False, False,  True, ..., False,  True, False],\n",
       "        ...,\n",
       "        [False, False,  True, ...,  True, False,  True],\n",
       "        [False,  True, False, ..., False,  True, False],\n",
       "        [False,  True, False, ..., False, False,  True]]),\n",
       " array([[ True, False, False, False,  True, False,  True, False, False,\n",
       "          True, False, False, False, False,  True,  True, False],\n",
       "        [False, False,  True,  True, False, False,  True, False, False,\n",
       "          True, False, False, False, False,  True,  True, False],\n",
       "        [False, False,  True,  True, False, False, False,  True,  True,\n",
       "         False, False, False,  True, False, False, False,  True],\n",
       "        [ True, False, False,  True, False, False,  True, False, False,\n",
       "         False,  True, False, False, False,  True,  True, False],\n",
       "        [False,  True, False, False,  True, False, False,  True,  True,\n",
       "         False, False, False, False, False,  True,  True, False],\n",
       "        [False, False,  True, False, False,  True, False,  True, False,\n",
       "         False,  True, False,  True, False, False,  True, False],\n",
       "        [ True, False, False, False, False,  True,  True, False, False,\n",
       "         False,  True, False,  True, False, False, False,  True],\n",
       "        [ True, False, False, False, False,  True, False,  True, False,\n",
       "          True, False, False, False, False,  True, False,  True],\n",
       "        [False, False,  True, False,  True, False, False,  True, False,\n",
       "          True, False, False,  True, False, False, False,  True],\n",
       "        [ True, False, False, False, False,  True,  True, False,  True,\n",
       "         False, False, False, False,  True, False,  True, False],\n",
       "        [False, False,  True,  True, False, False,  True, False, False,\n",
       "          True, False,  True, False, False, False, False,  True],\n",
       "        [ True, False, False,  True, False, False,  True, False, False,\n",
       "          True, False, False, False, False,  True,  True, False],\n",
       "        [ True, False, False, False,  True, False,  True, False, False,\n",
       "         False,  True, False, False,  True, False,  True, False],\n",
       "        [False, False,  True, False, False,  True, False,  True, False,\n",
       "         False,  True, False, False, False,  True, False,  True],\n",
       "        [ True, False, False,  True, False, False, False,  True, False,\n",
       "          True, False, False, False, False,  True,  True, False],\n",
       "        [False,  True, False, False,  True, False,  True, False, False,\n",
       "         False,  True, False, False, False,  True,  True, False],\n",
       "        [False,  True, False, False,  True, False,  True, False, False,\n",
       "          True, False, False, False,  True, False,  True, False],\n",
       "        [ True, False, False, False, False,  True, False,  True,  True,\n",
       "         False, False, False, False,  True, False,  True, False],\n",
       "        [ True, False, False, False,  True, False,  True, False, False,\n",
       "         False,  True, False, False, False,  True, False,  True],\n",
       "        [False,  True, False, False,  True, False,  True, False, False,\n",
       "         False,  True, False, False,  True, False, False,  True],\n",
       "        [False,  True, False, False,  True, False, False,  True, False,\n",
       "          True, False, False,  True, False, False, False,  True],\n",
       "        [ True, False, False, False, False,  True, False,  True, False,\n",
       "          True, False, False, False,  True, False, False,  True],\n",
       "        [False,  True, False,  True, False, False,  True, False, False,\n",
       "         False,  True, False,  True, False, False, False,  True],\n",
       "        [False,  True, False, False,  True, False,  True, False, False,\n",
       "          True, False,  True, False, False, False,  True, False],\n",
       "        [False,  True, False, False,  True, False, False,  True, False,\n",
       "         False,  True, False,  True, False, False, False,  True],\n",
       "        [ True, False, False, False, False,  True,  True, False, False,\n",
       "          True, False, False,  True, False, False,  True, False],\n",
       "        [False, False,  True, False,  True, False,  True, False, False,\n",
       "          True, False,  True, False, False, False, False,  True],\n",
       "        [False, False,  True,  True, False, False, False,  True, False,\n",
       "         False,  True,  True, False, False, False, False,  True],\n",
       "        [False,  True, False, False, False,  True,  True, False,  True,\n",
       "         False, False, False, False,  True, False, False,  True],\n",
       "        [ True, False, False, False,  True, False, False,  True, False,\n",
       "         False,  True, False, False, False,  True,  True, False],\n",
       "        [ True, False, False,  True, False, False, False,  True, False,\n",
       "          True, False, False, False,  True, False,  True, False],\n",
       "        [False, False,  True,  True, False, False,  True, False, False,\n",
       "          True, False, False,  True, False, False, False,  True],\n",
       "        [False, False,  True, False,  True, False, False,  True, False,\n",
       "          True, False, False, False,  True, False, False,  True],\n",
       "        [False,  True, False, False,  True, False,  True, False,  True,\n",
       "         False, False, False, False,  True, False,  True, False]]),\n",
       " array([0, 1, 0, 1, 1, 0, 1, 0, 0, 0, 0, 0, 0, 1, 1, 0, 0, 1, 0, 1, 1, 0,\n",
       "        0, 0, 0, 1, 1, 1, 1, 0, 1, 0, 1, 1, 0, 1, 1, 0, 1, 0, 0, 1, 1, 0,\n",
       "        0, 1, 0, 1, 0, 0, 0, 1, 0, 0, 1, 0, 0, 0, 0, 1, 0, 1, 1, 0, 0, 0,\n",
       "        0, 1, 1, 1, 0, 0, 1, 0, 0, 0, 1, 1, 0, 1, 1, 0, 0, 0, 0, 0, 0, 0,\n",
       "        0, 1, 0, 0, 1, 0, 0, 0, 1, 0, 0, 1, 1, 0, 0, 1, 1, 1, 0, 1, 0, 0,\n",
       "        1, 0, 1, 1, 1, 0, 0, 0, 0, 0, 0, 0, 0, 0, 0, 0, 0, 1, 0, 0, 1, 0,\n",
       "        1, 0, 0], dtype=int64),\n",
       " array([0, 0, 1, 0, 1, 0, 1, 0, 0, 0, 0, 0, 0, 0, 0, 1, 1, 0, 1, 0, 0, 0,\n",
       "        1, 0, 0, 0, 1, 1, 1, 1, 0, 1, 0, 0], dtype=int64)]"
      ]
     },
     "execution_count": 89,
     "metadata": {},
     "output_type": "execute_result"
    }
   ],
   "source": [
    "train_test_split(x_dev_m2, y_dev_m2, test_size=VAL_SPLIT, random_state=RANDOM_STATE)"
   ]
  },
  {
   "cell_type": "markdown",
   "id": "e4a4360e",
   "metadata": {},
   "source": [
    "### grid search, monk 2"
   ]
  },
  {
   "cell_type": "code",
   "execution_count": 90,
   "id": "2edf48db",
   "metadata": {},
   "outputs": [
    {
     "name": "stdout",
     "output_type": "stream",
     "text": [
      "Fitting 2 folds for each of 324 candidates, totalling 648 fits\n"
     ]
    },
    {
     "data": {
      "text/html": [
       "<style>#sk-container-id-20 {color: black;}#sk-container-id-20 pre{padding: 0;}#sk-container-id-20 div.sk-toggleable {background-color: white;}#sk-container-id-20 label.sk-toggleable__label {cursor: pointer;display: block;width: 100%;margin-bottom: 0;padding: 0.3em;box-sizing: border-box;text-align: center;}#sk-container-id-20 label.sk-toggleable__label-arrow:before {content: \"▸\";float: left;margin-right: 0.25em;color: #696969;}#sk-container-id-20 label.sk-toggleable__label-arrow:hover:before {color: black;}#sk-container-id-20 div.sk-estimator:hover label.sk-toggleable__label-arrow:before {color: black;}#sk-container-id-20 div.sk-toggleable__content {max-height: 0;max-width: 0;overflow: hidden;text-align: left;background-color: #f0f8ff;}#sk-container-id-20 div.sk-toggleable__content pre {margin: 0.2em;color: black;border-radius: 0.25em;background-color: #f0f8ff;}#sk-container-id-20 input.sk-toggleable__control:checked~div.sk-toggleable__content {max-height: 200px;max-width: 100%;overflow: auto;}#sk-container-id-20 input.sk-toggleable__control:checked~label.sk-toggleable__label-arrow:before {content: \"▾\";}#sk-container-id-20 div.sk-estimator input.sk-toggleable__control:checked~label.sk-toggleable__label {background-color: #d4ebff;}#sk-container-id-20 div.sk-label input.sk-toggleable__control:checked~label.sk-toggleable__label {background-color: #d4ebff;}#sk-container-id-20 input.sk-hidden--visually {border: 0;clip: rect(1px 1px 1px 1px);clip: rect(1px, 1px, 1px, 1px);height: 1px;margin: -1px;overflow: hidden;padding: 0;position: absolute;width: 1px;}#sk-container-id-20 div.sk-estimator {font-family: monospace;background-color: #f0f8ff;border: 1px dotted black;border-radius: 0.25em;box-sizing: border-box;margin-bottom: 0.5em;}#sk-container-id-20 div.sk-estimator:hover {background-color: #d4ebff;}#sk-container-id-20 div.sk-parallel-item::after {content: \"\";width: 100%;border-bottom: 1px solid gray;flex-grow: 1;}#sk-container-id-20 div.sk-label:hover label.sk-toggleable__label {background-color: #d4ebff;}#sk-container-id-20 div.sk-serial::before {content: \"\";position: absolute;border-left: 1px solid gray;box-sizing: border-box;top: 0;bottom: 0;left: 50%;z-index: 0;}#sk-container-id-20 div.sk-serial {display: flex;flex-direction: column;align-items: center;background-color: white;padding-right: 0.2em;padding-left: 0.2em;position: relative;}#sk-container-id-20 div.sk-item {position: relative;z-index: 1;}#sk-container-id-20 div.sk-parallel {display: flex;align-items: stretch;justify-content: center;background-color: white;position: relative;}#sk-container-id-20 div.sk-item::before, #sk-container-id-20 div.sk-parallel-item::before {content: \"\";position: absolute;border-left: 1px solid gray;box-sizing: border-box;top: 0;bottom: 0;left: 50%;z-index: -1;}#sk-container-id-20 div.sk-parallel-item {display: flex;flex-direction: column;z-index: 1;position: relative;background-color: white;}#sk-container-id-20 div.sk-parallel-item:first-child::after {align-self: flex-end;width: 50%;}#sk-container-id-20 div.sk-parallel-item:last-child::after {align-self: flex-start;width: 50%;}#sk-container-id-20 div.sk-parallel-item:only-child::after {width: 0;}#sk-container-id-20 div.sk-dashed-wrapped {border: 1px dashed gray;margin: 0 0.4em 0.5em 0.4em;box-sizing: border-box;padding-bottom: 0.4em;background-color: white;}#sk-container-id-20 div.sk-label label {font-family: monospace;font-weight: bold;display: inline-block;line-height: 1.2em;}#sk-container-id-20 div.sk-label-container {text-align: center;}#sk-container-id-20 div.sk-container {/* jupyter's `normalize.less` sets `[hidden] { display: none; }` but bootstrap.min.css set `[hidden] { display: none !important; }` so we also need the `!important` here to be able to override the default hidden behavior on the sphinx rendered scikit-learn.org. See: https://github.com/scikit-learn/scikit-learn/issues/21755 */display: inline-block !important;position: relative;}#sk-container-id-20 div.sk-text-repr-fallback {display: none;}</style><div id=\"sk-container-id-20\" class=\"sk-top-container\"><div class=\"sk-text-repr-fallback\"><pre>GridSearchCV(cv=StratifiedKFold(n_splits=2, random_state=128, shuffle=True),\n",
       "             estimator=RandomForestClassifier(random_state=128),\n",
       "             param_grid={&#x27;bootstrap&#x27;: [True, False],\n",
       "                         &#x27;criterion&#x27;: [&#x27;gini&#x27;, &#x27;entropy&#x27;],\n",
       "                         &#x27;max_depth&#x27;: [None, 10, 20], &#x27;max_features&#x27;: [&#x27;sqrt&#x27;],\n",
       "                         &#x27;min_samples_leaf&#x27;: [1, 2, 4],\n",
       "                         &#x27;min_samples_split&#x27;: [2, 5, 10],\n",
       "                         &#x27;n_estimators&#x27;: [25, 50, 100]},\n",
       "             scoring=&#x27;accuracy&#x27;, verbose=1)</pre><b>In a Jupyter environment, please rerun this cell to show the HTML representation or trust the notebook. <br />On GitHub, the HTML representation is unable to render, please try loading this page with nbviewer.org.</b></div><div class=\"sk-container\" hidden><div class=\"sk-item sk-dashed-wrapped\"><div class=\"sk-label-container\"><div class=\"sk-label sk-toggleable\"><input class=\"sk-toggleable__control sk-hidden--visually\" id=\"sk-estimator-id-40\" type=\"checkbox\" ><label for=\"sk-estimator-id-40\" class=\"sk-toggleable__label sk-toggleable__label-arrow\">GridSearchCV</label><div class=\"sk-toggleable__content\"><pre>GridSearchCV(cv=StratifiedKFold(n_splits=2, random_state=128, shuffle=True),\n",
       "             estimator=RandomForestClassifier(random_state=128),\n",
       "             param_grid={&#x27;bootstrap&#x27;: [True, False],\n",
       "                         &#x27;criterion&#x27;: [&#x27;gini&#x27;, &#x27;entropy&#x27;],\n",
       "                         &#x27;max_depth&#x27;: [None, 10, 20], &#x27;max_features&#x27;: [&#x27;sqrt&#x27;],\n",
       "                         &#x27;min_samples_leaf&#x27;: [1, 2, 4],\n",
       "                         &#x27;min_samples_split&#x27;: [2, 5, 10],\n",
       "                         &#x27;n_estimators&#x27;: [25, 50, 100]},\n",
       "             scoring=&#x27;accuracy&#x27;, verbose=1)</pre></div></div></div><div class=\"sk-parallel\"><div class=\"sk-parallel-item\"><div class=\"sk-item\"><div class=\"sk-label-container\"><div class=\"sk-label sk-toggleable\"><input class=\"sk-toggleable__control sk-hidden--visually\" id=\"sk-estimator-id-41\" type=\"checkbox\" ><label for=\"sk-estimator-id-41\" class=\"sk-toggleable__label sk-toggleable__label-arrow\">estimator: RandomForestClassifier</label><div class=\"sk-toggleable__content\"><pre>RandomForestClassifier(random_state=128)</pre></div></div></div><div class=\"sk-serial\"><div class=\"sk-item\"><div class=\"sk-estimator sk-toggleable\"><input class=\"sk-toggleable__control sk-hidden--visually\" id=\"sk-estimator-id-42\" type=\"checkbox\" ><label for=\"sk-estimator-id-42\" class=\"sk-toggleable__label sk-toggleable__label-arrow\">RandomForestClassifier</label><div class=\"sk-toggleable__content\"><pre>RandomForestClassifier(random_state=128)</pre></div></div></div></div></div></div></div></div></div></div>"
      ],
      "text/plain": [
       "GridSearchCV(cv=StratifiedKFold(n_splits=2, random_state=128, shuffle=True),\n",
       "             estimator=RandomForestClassifier(random_state=128),\n",
       "             param_grid={'bootstrap': [True, False],\n",
       "                         'criterion': ['gini', 'entropy'],\n",
       "                         'max_depth': [None, 10, 20], 'max_features': ['sqrt'],\n",
       "                         'min_samples_leaf': [1, 2, 4],\n",
       "                         'min_samples_split': [2, 5, 10],\n",
       "                         'n_estimators': [25, 50, 100]},\n",
       "             scoring='accuracy', verbose=1)"
      ]
     },
     "execution_count": 90,
     "metadata": {},
     "output_type": "execute_result"
    }
   ],
   "source": [
    "# perform grid search with KFold\n",
    "grid_search_m2 = GridSearchCV(\n",
    "    RandomForestClassifier(random_state=128),\n",
    "    param_grid=rfc_hparams_spaces,\n",
    "    cv=StratifiedKFold(n_splits=2, shuffle=True, random_state=128),\n",
    "    scoring='accuracy',\n",
    "    verbose=1\n",
    ")\n",
    "\n",
    "grid_search_m2.fit(x_dev_m2, y_dev_m2)"
   ]
  },
  {
   "cell_type": "code",
   "execution_count": 91,
   "id": "d92e1120",
   "metadata": {},
   "outputs": [
    {
     "name": "stdout",
     "output_type": "stream",
     "text": [
      "Model rank 1 - Config: {'bootstrap': False, 'criterion': 'entropy', 'max_depth': 10, 'max_features': 'sqrt', 'min_samples_leaf': 1, 'min_samples_split': 5, 'n_estimators': 50}\n",
      "Mean score 0.6274 - Std score: 0.0274\n",
      "\n",
      "Model rank 2 - Config: {'bootstrap': False, 'criterion': 'entropy', 'max_depth': None, 'max_features': 'sqrt', 'min_samples_leaf': 2, 'min_samples_split': 2, 'n_estimators': 25}\n",
      "Mean score 0.6274 - Std score: 0.0274\n",
      "\n",
      "Model rank 3 - Config: {'bootstrap': False, 'criterion': 'entropy', 'max_depth': 20, 'max_features': 'sqrt', 'min_samples_leaf': 1, 'min_samples_split': 5, 'n_estimators': 50}\n",
      "Mean score 0.6274 - Std score: 0.0274\n",
      "\n",
      "Model rank 4 - Config: {'bootstrap': False, 'criterion': 'entropy', 'max_depth': 10, 'max_features': 'sqrt', 'min_samples_leaf': 2, 'min_samples_split': 2, 'n_estimators': 25}\n",
      "Mean score 0.6274 - Std score: 0.0274\n",
      "\n",
      "Model rank 5 - Config: {'bootstrap': False, 'criterion': 'entropy', 'max_depth': 20, 'max_features': 'sqrt', 'min_samples_leaf': 2, 'min_samples_split': 2, 'n_estimators': 25}\n",
      "Mean score 0.6274 - Std score: 0.0274\n",
      "\n"
     ]
    }
   ],
   "source": [
    "best_configs_m2 = grid_search_top_configs(grid_search_m2.cv_results_) # top k config"
   ]
  },
  {
   "cell_type": "code",
   "execution_count": 92,
   "id": "97b26df6",
   "metadata": {},
   "outputs": [
    {
     "data": {
      "text/html": [
       "<style>#sk-container-id-21 {color: black;}#sk-container-id-21 pre{padding: 0;}#sk-container-id-21 div.sk-toggleable {background-color: white;}#sk-container-id-21 label.sk-toggleable__label {cursor: pointer;display: block;width: 100%;margin-bottom: 0;padding: 0.3em;box-sizing: border-box;text-align: center;}#sk-container-id-21 label.sk-toggleable__label-arrow:before {content: \"▸\";float: left;margin-right: 0.25em;color: #696969;}#sk-container-id-21 label.sk-toggleable__label-arrow:hover:before {color: black;}#sk-container-id-21 div.sk-estimator:hover label.sk-toggleable__label-arrow:before {color: black;}#sk-container-id-21 div.sk-toggleable__content {max-height: 0;max-width: 0;overflow: hidden;text-align: left;background-color: #f0f8ff;}#sk-container-id-21 div.sk-toggleable__content pre {margin: 0.2em;color: black;border-radius: 0.25em;background-color: #f0f8ff;}#sk-container-id-21 input.sk-toggleable__control:checked~div.sk-toggleable__content {max-height: 200px;max-width: 100%;overflow: auto;}#sk-container-id-21 input.sk-toggleable__control:checked~label.sk-toggleable__label-arrow:before {content: \"▾\";}#sk-container-id-21 div.sk-estimator input.sk-toggleable__control:checked~label.sk-toggleable__label {background-color: #d4ebff;}#sk-container-id-21 div.sk-label input.sk-toggleable__control:checked~label.sk-toggleable__label {background-color: #d4ebff;}#sk-container-id-21 input.sk-hidden--visually {border: 0;clip: rect(1px 1px 1px 1px);clip: rect(1px, 1px, 1px, 1px);height: 1px;margin: -1px;overflow: hidden;padding: 0;position: absolute;width: 1px;}#sk-container-id-21 div.sk-estimator {font-family: monospace;background-color: #f0f8ff;border: 1px dotted black;border-radius: 0.25em;box-sizing: border-box;margin-bottom: 0.5em;}#sk-container-id-21 div.sk-estimator:hover {background-color: #d4ebff;}#sk-container-id-21 div.sk-parallel-item::after {content: \"\";width: 100%;border-bottom: 1px solid gray;flex-grow: 1;}#sk-container-id-21 div.sk-label:hover label.sk-toggleable__label {background-color: #d4ebff;}#sk-container-id-21 div.sk-serial::before {content: \"\";position: absolute;border-left: 1px solid gray;box-sizing: border-box;top: 0;bottom: 0;left: 50%;z-index: 0;}#sk-container-id-21 div.sk-serial {display: flex;flex-direction: column;align-items: center;background-color: white;padding-right: 0.2em;padding-left: 0.2em;position: relative;}#sk-container-id-21 div.sk-item {position: relative;z-index: 1;}#sk-container-id-21 div.sk-parallel {display: flex;align-items: stretch;justify-content: center;background-color: white;position: relative;}#sk-container-id-21 div.sk-item::before, #sk-container-id-21 div.sk-parallel-item::before {content: \"\";position: absolute;border-left: 1px solid gray;box-sizing: border-box;top: 0;bottom: 0;left: 50%;z-index: -1;}#sk-container-id-21 div.sk-parallel-item {display: flex;flex-direction: column;z-index: 1;position: relative;background-color: white;}#sk-container-id-21 div.sk-parallel-item:first-child::after {align-self: flex-end;width: 50%;}#sk-container-id-21 div.sk-parallel-item:last-child::after {align-self: flex-start;width: 50%;}#sk-container-id-21 div.sk-parallel-item:only-child::after {width: 0;}#sk-container-id-21 div.sk-dashed-wrapped {border: 1px dashed gray;margin: 0 0.4em 0.5em 0.4em;box-sizing: border-box;padding-bottom: 0.4em;background-color: white;}#sk-container-id-21 div.sk-label label {font-family: monospace;font-weight: bold;display: inline-block;line-height: 1.2em;}#sk-container-id-21 div.sk-label-container {text-align: center;}#sk-container-id-21 div.sk-container {/* jupyter's `normalize.less` sets `[hidden] { display: none; }` but bootstrap.min.css set `[hidden] { display: none !important; }` so we also need the `!important` here to be able to override the default hidden behavior on the sphinx rendered scikit-learn.org. See: https://github.com/scikit-learn/scikit-learn/issues/21755 */display: inline-block !important;position: relative;}#sk-container-id-21 div.sk-text-repr-fallback {display: none;}</style><div id=\"sk-container-id-21\" class=\"sk-top-container\"><div class=\"sk-text-repr-fallback\"><pre>RandomForestClassifier(bootstrap=False, min_samples_split=5, n_estimators=25)</pre><b>In a Jupyter environment, please rerun this cell to show the HTML representation or trust the notebook. <br />On GitHub, the HTML representation is unable to render, please try loading this page with nbviewer.org.</b></div><div class=\"sk-container\" hidden><div class=\"sk-item\"><div class=\"sk-estimator sk-toggleable\"><input class=\"sk-toggleable__control sk-hidden--visually\" id=\"sk-estimator-id-43\" type=\"checkbox\" checked><label for=\"sk-estimator-id-43\" class=\"sk-toggleable__label sk-toggleable__label-arrow\">RandomForestClassifier</label><div class=\"sk-toggleable__content\"><pre>RandomForestClassifier(bootstrap=False, min_samples_split=5, n_estimators=25)</pre></div></div></div></div></div>"
      ],
      "text/plain": [
       "RandomForestClassifier(bootstrap=False, min_samples_split=5, n_estimators=25)"
      ]
     },
     "execution_count": 92,
     "metadata": {},
     "output_type": "execute_result"
    }
   ],
   "source": [
    "# Create a RandomForest with the best hparams\n",
    "rfc = RandomForestClassifier(**grid_search_m2.best_params_)\n",
    "\n",
    "# Train the model\n",
    "rfc.fit(x_dev_m2, y_dev_m2)"
   ]
  },
  {
   "cell_type": "code",
   "execution_count": 93,
   "id": "717eb777",
   "metadata": {},
   "outputs": [
    {
     "name": "stdout",
     "output_type": "stream",
     "text": [
      "-- DEVELOPMENT --\n",
      "              precision    recall  f1-score   support\n",
      "\n",
      "           0       0.98      1.00      0.99       105\n",
      "           1       1.00      0.97      0.98        64\n",
      "\n",
      "    accuracy                           0.99       169\n",
      "   macro avg       0.99      0.98      0.99       169\n",
      "weighted avg       0.99      0.99      0.99       169\n",
      "\n"
     ]
    }
   ],
   "source": [
    "print('-- DEVELOPMENT --')\n",
    "print(classification_report(y_dev_m2, rfc.predict(x_dev_m2)))"
   ]
  },
  {
   "cell_type": "code",
   "execution_count": 94,
   "id": "bce38a8d",
   "metadata": {},
   "outputs": [
    {
     "name": "stdout",
     "output_type": "stream",
     "text": [
      "-- TEST --\n",
      "              precision    recall  f1-score   support\n",
      "\n",
      "           0       0.48      0.64      0.55       216\n",
      "           1       0.45      0.30      0.36       216\n",
      "\n",
      "    accuracy                           0.47       432\n",
      "   macro avg       0.46      0.47      0.45       432\n",
      "weighted avg       0.46      0.47      0.45       432\n",
      "\n"
     ]
    }
   ],
   "source": [
    "print('-- TEST --')\n",
    "report_test_m2 = classification_report(y_test_m1, rfc.predict(x_test_m2))\n",
    "print(report_test_m2)"
   ]
  },
  {
   "cell_type": "code",
   "execution_count": 95,
   "id": "dc08e7ea",
   "metadata": {},
   "outputs": [],
   "source": [
    "# RISULTATI MONK2\n",
    "\n",
    "store_monk_result(results_dir + '/MONK2/', best_configs_m2, report_test_m2)"
   ]
  },
  {
   "cell_type": "markdown",
   "id": "aea2e408-6d1b-4c43-b70b-c4fec0da831d",
   "metadata": {},
   "source": [
    "# MONK-3"
   ]
  },
  {
   "cell_type": "code",
   "execution_count": 96,
   "id": "9f02aae1-f31b-4403-9d85-fbfaf144d224",
   "metadata": {},
   "outputs": [],
   "source": [
    "# Load MONK-3\n",
    "x_dev_m3, y_dev_m3, x_test_m3, y_test_m3 = load_monk(m3_dev_path, m3_test_path)"
   ]
  },
  {
   "cell_type": "code",
   "execution_count": 97,
   "id": "21c6d3f8",
   "metadata": {},
   "outputs": [
    {
     "data": {
      "text/plain": [
       "[array([[False, False,  True, ..., False,  True, False],\n",
       "        [ True, False, False, ..., False,  True, False],\n",
       "        [False, False,  True, ...,  True,  True, False],\n",
       "        ...,\n",
       "        [False, False,  True, ..., False, False,  True],\n",
       "        [False,  True, False, ..., False,  True, False],\n",
       "        [False,  True, False, ...,  True,  True, False]]),\n",
       " array([[ True, False, False, False,  True, False, False,  True, False,\n",
       "          True, False, False,  True, False, False, False,  True],\n",
       "        [False, False,  True, False, False,  True,  True, False,  True,\n",
       "         False, False, False, False, False,  True,  True, False],\n",
       "        [False, False,  True, False, False,  True, False,  True,  True,\n",
       "         False, False,  True, False, False, False,  True, False],\n",
       "        [ True, False, False, False,  True, False, False,  True,  True,\n",
       "         False, False, False, False, False,  True, False,  True],\n",
       "        [ True, False, False, False,  True, False,  True, False, False,\n",
       "          True, False, False,  True, False, False,  True, False],\n",
       "        [False,  True, False,  True, False, False, False,  True, False,\n",
       "         False,  True,  True, False, False, False, False,  True],\n",
       "        [False,  True, False,  True, False, False, False,  True, False,\n",
       "          True, False, False, False, False,  True,  True, False],\n",
       "        [False, False,  True, False, False,  True,  True, False, False,\n",
       "         False,  True, False, False, False,  True,  True, False],\n",
       "        [ True, False, False,  True, False, False, False,  True, False,\n",
       "         False,  True,  True, False, False, False, False,  True],\n",
       "        [False,  True, False,  True, False, False,  True, False, False,\n",
       "          True, False,  True, False, False, False,  True, False],\n",
       "        [False, False,  True, False, False,  True,  True, False, False,\n",
       "         False,  True, False,  True, False, False,  True, False],\n",
       "        [ True, False, False, False,  True, False,  True, False, False,\n",
       "         False,  True, False,  True, False, False, False,  True],\n",
       "        [ True, False, False, False,  True, False, False,  True, False,\n",
       "         False,  True, False,  True, False, False,  True, False],\n",
       "        [ True, False, False,  True, False, False,  True, False,  True,\n",
       "         False, False, False,  True, False, False, False,  True],\n",
       "        [False,  True, False,  True, False, False,  True, False, False,\n",
       "         False,  True, False,  True, False, False, False,  True],\n",
       "        [False,  True, False, False, False,  True,  True, False, False,\n",
       "          True, False, False,  True, False, False,  True, False],\n",
       "        [False, False,  True, False,  True, False, False,  True,  True,\n",
       "         False, False, False,  True, False, False, False,  True],\n",
       "        [ True, False, False, False,  True, False, False,  True, False,\n",
       "         False,  True,  True, False, False, False,  True, False],\n",
       "        [False,  True, False, False, False,  True, False,  True, False,\n",
       "         False,  True, False,  True, False, False,  True, False],\n",
       "        [ True, False, False, False,  True, False,  True, False, False,\n",
       "         False,  True, False, False, False,  True,  True, False],\n",
       "        [False,  True, False, False,  True, False,  True, False,  True,\n",
       "         False, False, False, False, False,  True, False,  True],\n",
       "        [False,  True, False, False,  True, False,  True, False, False,\n",
       "         False,  True, False, False, False,  True, False,  True],\n",
       "        [False,  True, False,  True, False, False,  True, False,  True,\n",
       "         False, False,  True, False, False, False, False,  True],\n",
       "        [ True, False, False, False, False,  True,  True, False, False,\n",
       "          True, False, False, False,  True, False, False,  True],\n",
       "        [ True, False, False,  True, False, False, False,  True,  True,\n",
       "         False, False, False,  True, False, False, False,  True]]),\n",
       " array([1, 1, 0, 1, 1, 1, 0, 0, 0, 0, 0, 1, 1, 0, 0, 0, 1, 0, 1, 0, 0, 0,\n",
       "        1, 1, 1, 1, 0, 0, 1, 1, 1, 0, 0, 0, 1, 1, 0, 1, 1, 0, 1, 0, 0, 0,\n",
       "        0, 0, 0, 0, 1, 0, 1, 1, 0, 1, 0, 0, 0, 0, 1, 0, 1, 1, 0, 1, 0, 1,\n",
       "        0, 0, 0, 0, 1, 0, 1, 1, 1, 0, 1, 1, 0, 1, 0, 0, 1, 0, 1, 1, 1, 0,\n",
       "        1, 1, 0, 1, 1, 0, 1, 0, 0], dtype=int64),\n",
       " array([1, 1, 0, 0, 1, 1, 0, 0, 1, 1, 0, 1, 1, 1, 1, 0, 1, 1, 0, 0, 0, 0,\n",
       "        1, 0, 1], dtype=int64)]"
      ]
     },
     "execution_count": 97,
     "metadata": {},
     "output_type": "execute_result"
    }
   ],
   "source": [
    "train_test_split(x_dev_m3, y_dev_m3, test_size=VAL_SPLIT, random_state=RANDOM_STATE)"
   ]
  },
  {
   "cell_type": "code",
   "execution_count": 98,
   "id": "12e57618",
   "metadata": {},
   "outputs": [
    {
     "name": "stdout",
     "output_type": "stream",
     "text": [
      "Fitting 2 folds for each of 324 candidates, totalling 648 fits\n"
     ]
    },
    {
     "data": {
      "text/html": [
       "<style>#sk-container-id-22 {color: black;}#sk-container-id-22 pre{padding: 0;}#sk-container-id-22 div.sk-toggleable {background-color: white;}#sk-container-id-22 label.sk-toggleable__label {cursor: pointer;display: block;width: 100%;margin-bottom: 0;padding: 0.3em;box-sizing: border-box;text-align: center;}#sk-container-id-22 label.sk-toggleable__label-arrow:before {content: \"▸\";float: left;margin-right: 0.25em;color: #696969;}#sk-container-id-22 label.sk-toggleable__label-arrow:hover:before {color: black;}#sk-container-id-22 div.sk-estimator:hover label.sk-toggleable__label-arrow:before {color: black;}#sk-container-id-22 div.sk-toggleable__content {max-height: 0;max-width: 0;overflow: hidden;text-align: left;background-color: #f0f8ff;}#sk-container-id-22 div.sk-toggleable__content pre {margin: 0.2em;color: black;border-radius: 0.25em;background-color: #f0f8ff;}#sk-container-id-22 input.sk-toggleable__control:checked~div.sk-toggleable__content {max-height: 200px;max-width: 100%;overflow: auto;}#sk-container-id-22 input.sk-toggleable__control:checked~label.sk-toggleable__label-arrow:before {content: \"▾\";}#sk-container-id-22 div.sk-estimator input.sk-toggleable__control:checked~label.sk-toggleable__label {background-color: #d4ebff;}#sk-container-id-22 div.sk-label input.sk-toggleable__control:checked~label.sk-toggleable__label {background-color: #d4ebff;}#sk-container-id-22 input.sk-hidden--visually {border: 0;clip: rect(1px 1px 1px 1px);clip: rect(1px, 1px, 1px, 1px);height: 1px;margin: -1px;overflow: hidden;padding: 0;position: absolute;width: 1px;}#sk-container-id-22 div.sk-estimator {font-family: monospace;background-color: #f0f8ff;border: 1px dotted black;border-radius: 0.25em;box-sizing: border-box;margin-bottom: 0.5em;}#sk-container-id-22 div.sk-estimator:hover {background-color: #d4ebff;}#sk-container-id-22 div.sk-parallel-item::after {content: \"\";width: 100%;border-bottom: 1px solid gray;flex-grow: 1;}#sk-container-id-22 div.sk-label:hover label.sk-toggleable__label {background-color: #d4ebff;}#sk-container-id-22 div.sk-serial::before {content: \"\";position: absolute;border-left: 1px solid gray;box-sizing: border-box;top: 0;bottom: 0;left: 50%;z-index: 0;}#sk-container-id-22 div.sk-serial {display: flex;flex-direction: column;align-items: center;background-color: white;padding-right: 0.2em;padding-left: 0.2em;position: relative;}#sk-container-id-22 div.sk-item {position: relative;z-index: 1;}#sk-container-id-22 div.sk-parallel {display: flex;align-items: stretch;justify-content: center;background-color: white;position: relative;}#sk-container-id-22 div.sk-item::before, #sk-container-id-22 div.sk-parallel-item::before {content: \"\";position: absolute;border-left: 1px solid gray;box-sizing: border-box;top: 0;bottom: 0;left: 50%;z-index: -1;}#sk-container-id-22 div.sk-parallel-item {display: flex;flex-direction: column;z-index: 1;position: relative;background-color: white;}#sk-container-id-22 div.sk-parallel-item:first-child::after {align-self: flex-end;width: 50%;}#sk-container-id-22 div.sk-parallel-item:last-child::after {align-self: flex-start;width: 50%;}#sk-container-id-22 div.sk-parallel-item:only-child::after {width: 0;}#sk-container-id-22 div.sk-dashed-wrapped {border: 1px dashed gray;margin: 0 0.4em 0.5em 0.4em;box-sizing: border-box;padding-bottom: 0.4em;background-color: white;}#sk-container-id-22 div.sk-label label {font-family: monospace;font-weight: bold;display: inline-block;line-height: 1.2em;}#sk-container-id-22 div.sk-label-container {text-align: center;}#sk-container-id-22 div.sk-container {/* jupyter's `normalize.less` sets `[hidden] { display: none; }` but bootstrap.min.css set `[hidden] { display: none !important; }` so we also need the `!important` here to be able to override the default hidden behavior on the sphinx rendered scikit-learn.org. See: https://github.com/scikit-learn/scikit-learn/issues/21755 */display: inline-block !important;position: relative;}#sk-container-id-22 div.sk-text-repr-fallback {display: none;}</style><div id=\"sk-container-id-22\" class=\"sk-top-container\"><div class=\"sk-text-repr-fallback\"><pre>GridSearchCV(cv=StratifiedKFold(n_splits=2, random_state=128, shuffle=True),\n",
       "             estimator=RandomForestClassifier(random_state=128),\n",
       "             param_grid={&#x27;bootstrap&#x27;: [True, False],\n",
       "                         &#x27;criterion&#x27;: [&#x27;gini&#x27;, &#x27;entropy&#x27;],\n",
       "                         &#x27;max_depth&#x27;: [None, 10, 20], &#x27;max_features&#x27;: [&#x27;sqrt&#x27;],\n",
       "                         &#x27;min_samples_leaf&#x27;: [1, 2, 4],\n",
       "                         &#x27;min_samples_split&#x27;: [2, 5, 10],\n",
       "                         &#x27;n_estimators&#x27;: [25, 50, 100]},\n",
       "             scoring=&#x27;accuracy&#x27;, verbose=1)</pre><b>In a Jupyter environment, please rerun this cell to show the HTML representation or trust the notebook. <br />On GitHub, the HTML representation is unable to render, please try loading this page with nbviewer.org.</b></div><div class=\"sk-container\" hidden><div class=\"sk-item sk-dashed-wrapped\"><div class=\"sk-label-container\"><div class=\"sk-label sk-toggleable\"><input class=\"sk-toggleable__control sk-hidden--visually\" id=\"sk-estimator-id-44\" type=\"checkbox\" ><label for=\"sk-estimator-id-44\" class=\"sk-toggleable__label sk-toggleable__label-arrow\">GridSearchCV</label><div class=\"sk-toggleable__content\"><pre>GridSearchCV(cv=StratifiedKFold(n_splits=2, random_state=128, shuffle=True),\n",
       "             estimator=RandomForestClassifier(random_state=128),\n",
       "             param_grid={&#x27;bootstrap&#x27;: [True, False],\n",
       "                         &#x27;criterion&#x27;: [&#x27;gini&#x27;, &#x27;entropy&#x27;],\n",
       "                         &#x27;max_depth&#x27;: [None, 10, 20], &#x27;max_features&#x27;: [&#x27;sqrt&#x27;],\n",
       "                         &#x27;min_samples_leaf&#x27;: [1, 2, 4],\n",
       "                         &#x27;min_samples_split&#x27;: [2, 5, 10],\n",
       "                         &#x27;n_estimators&#x27;: [25, 50, 100]},\n",
       "             scoring=&#x27;accuracy&#x27;, verbose=1)</pre></div></div></div><div class=\"sk-parallel\"><div class=\"sk-parallel-item\"><div class=\"sk-item\"><div class=\"sk-label-container\"><div class=\"sk-label sk-toggleable\"><input class=\"sk-toggleable__control sk-hidden--visually\" id=\"sk-estimator-id-45\" type=\"checkbox\" ><label for=\"sk-estimator-id-45\" class=\"sk-toggleable__label sk-toggleable__label-arrow\">estimator: RandomForestClassifier</label><div class=\"sk-toggleable__content\"><pre>RandomForestClassifier(random_state=128)</pre></div></div></div><div class=\"sk-serial\"><div class=\"sk-item\"><div class=\"sk-estimator sk-toggleable\"><input class=\"sk-toggleable__control sk-hidden--visually\" id=\"sk-estimator-id-46\" type=\"checkbox\" ><label for=\"sk-estimator-id-46\" class=\"sk-toggleable__label sk-toggleable__label-arrow\">RandomForestClassifier</label><div class=\"sk-toggleable__content\"><pre>RandomForestClassifier(random_state=128)</pre></div></div></div></div></div></div></div></div></div></div>"
      ],
      "text/plain": [
       "GridSearchCV(cv=StratifiedKFold(n_splits=2, random_state=128, shuffle=True),\n",
       "             estimator=RandomForestClassifier(random_state=128),\n",
       "             param_grid={'bootstrap': [True, False],\n",
       "                         'criterion': ['gini', 'entropy'],\n",
       "                         'max_depth': [None, 10, 20], 'max_features': ['sqrt'],\n",
       "                         'min_samples_leaf': [1, 2, 4],\n",
       "                         'min_samples_split': [2, 5, 10],\n",
       "                         'n_estimators': [25, 50, 100]},\n",
       "             scoring='accuracy', verbose=1)"
      ]
     },
     "execution_count": 98,
     "metadata": {},
     "output_type": "execute_result"
    }
   ],
   "source": [
    "\n",
    "# perform grid search with KFold\n",
    "grid_search_m3 = GridSearchCV(\n",
    "    RandomForestClassifier(random_state=128),\n",
    "    param_grid=rfc_hparams_spaces,\n",
    "    cv=StratifiedKFold(n_splits=2, shuffle=True, random_state=128),\n",
    "    scoring='accuracy',\n",
    "    verbose=1\n",
    ")\n",
    "\n",
    "grid_search_m3.fit(x_dev_m3, y_dev_m3)"
   ]
  },
  {
   "cell_type": "code",
   "execution_count": 99,
   "id": "32df1ea2",
   "metadata": {},
   "outputs": [
    {
     "name": "stdout",
     "output_type": "stream",
     "text": [
      "Model rank 1 - Config: {'bootstrap': True, 'criterion': 'entropy', 'max_depth': 20, 'max_features': 'sqrt', 'min_samples_leaf': 4, 'min_samples_split': 10, 'n_estimators': 100}\n",
      "Mean score 0.9344 - Std score: 0.0492\n",
      "\n",
      "Model rank 2 - Config: {'bootstrap': False, 'criterion': 'gini', 'max_depth': 10, 'max_features': 'sqrt', 'min_samples_leaf': 2, 'min_samples_split': 10, 'n_estimators': 25}\n",
      "Mean score 0.9344 - Std score: 0.0492\n",
      "\n",
      "Model rank 3 - Config: {'bootstrap': False, 'criterion': 'gini', 'max_depth': 10, 'max_features': 'sqrt', 'min_samples_leaf': 1, 'min_samples_split': 10, 'n_estimators': 100}\n",
      "Mean score 0.9344 - Std score: 0.0492\n",
      "\n",
      "Model rank 4 - Config: {'bootstrap': False, 'criterion': 'gini', 'max_depth': 10, 'max_features': 'sqrt', 'min_samples_leaf': 1, 'min_samples_split': 10, 'n_estimators': 50}\n",
      "Mean score 0.9344 - Std score: 0.0492\n",
      "\n",
      "Model rank 5 - Config: {'bootstrap': False, 'criterion': 'gini', 'max_depth': 10, 'max_features': 'sqrt', 'min_samples_leaf': 1, 'min_samples_split': 10, 'n_estimators': 25}\n",
      "Mean score 0.9344 - Std score: 0.0492\n",
      "\n"
     ]
    }
   ],
   "source": [
    "best_configs_m3 = grid_search_top_configs(grid_search_m3.cv_results_) # top k config"
   ]
  },
  {
   "cell_type": "code",
   "execution_count": 100,
   "id": "c46eddf0",
   "metadata": {},
   "outputs": [
    {
     "data": {
      "text/html": [
       "<style>#sk-container-id-23 {color: black;}#sk-container-id-23 pre{padding: 0;}#sk-container-id-23 div.sk-toggleable {background-color: white;}#sk-container-id-23 label.sk-toggleable__label {cursor: pointer;display: block;width: 100%;margin-bottom: 0;padding: 0.3em;box-sizing: border-box;text-align: center;}#sk-container-id-23 label.sk-toggleable__label-arrow:before {content: \"▸\";float: left;margin-right: 0.25em;color: #696969;}#sk-container-id-23 label.sk-toggleable__label-arrow:hover:before {color: black;}#sk-container-id-23 div.sk-estimator:hover label.sk-toggleable__label-arrow:before {color: black;}#sk-container-id-23 div.sk-toggleable__content {max-height: 0;max-width: 0;overflow: hidden;text-align: left;background-color: #f0f8ff;}#sk-container-id-23 div.sk-toggleable__content pre {margin: 0.2em;color: black;border-radius: 0.25em;background-color: #f0f8ff;}#sk-container-id-23 input.sk-toggleable__control:checked~div.sk-toggleable__content {max-height: 200px;max-width: 100%;overflow: auto;}#sk-container-id-23 input.sk-toggleable__control:checked~label.sk-toggleable__label-arrow:before {content: \"▾\";}#sk-container-id-23 div.sk-estimator input.sk-toggleable__control:checked~label.sk-toggleable__label {background-color: #d4ebff;}#sk-container-id-23 div.sk-label input.sk-toggleable__control:checked~label.sk-toggleable__label {background-color: #d4ebff;}#sk-container-id-23 input.sk-hidden--visually {border: 0;clip: rect(1px 1px 1px 1px);clip: rect(1px, 1px, 1px, 1px);height: 1px;margin: -1px;overflow: hidden;padding: 0;position: absolute;width: 1px;}#sk-container-id-23 div.sk-estimator {font-family: monospace;background-color: #f0f8ff;border: 1px dotted black;border-radius: 0.25em;box-sizing: border-box;margin-bottom: 0.5em;}#sk-container-id-23 div.sk-estimator:hover {background-color: #d4ebff;}#sk-container-id-23 div.sk-parallel-item::after {content: \"\";width: 100%;border-bottom: 1px solid gray;flex-grow: 1;}#sk-container-id-23 div.sk-label:hover label.sk-toggleable__label {background-color: #d4ebff;}#sk-container-id-23 div.sk-serial::before {content: \"\";position: absolute;border-left: 1px solid gray;box-sizing: border-box;top: 0;bottom: 0;left: 50%;z-index: 0;}#sk-container-id-23 div.sk-serial {display: flex;flex-direction: column;align-items: center;background-color: white;padding-right: 0.2em;padding-left: 0.2em;position: relative;}#sk-container-id-23 div.sk-item {position: relative;z-index: 1;}#sk-container-id-23 div.sk-parallel {display: flex;align-items: stretch;justify-content: center;background-color: white;position: relative;}#sk-container-id-23 div.sk-item::before, #sk-container-id-23 div.sk-parallel-item::before {content: \"\";position: absolute;border-left: 1px solid gray;box-sizing: border-box;top: 0;bottom: 0;left: 50%;z-index: -1;}#sk-container-id-23 div.sk-parallel-item {display: flex;flex-direction: column;z-index: 1;position: relative;background-color: white;}#sk-container-id-23 div.sk-parallel-item:first-child::after {align-self: flex-end;width: 50%;}#sk-container-id-23 div.sk-parallel-item:last-child::after {align-self: flex-start;width: 50%;}#sk-container-id-23 div.sk-parallel-item:only-child::after {width: 0;}#sk-container-id-23 div.sk-dashed-wrapped {border: 1px dashed gray;margin: 0 0.4em 0.5em 0.4em;box-sizing: border-box;padding-bottom: 0.4em;background-color: white;}#sk-container-id-23 div.sk-label label {font-family: monospace;font-weight: bold;display: inline-block;line-height: 1.2em;}#sk-container-id-23 div.sk-label-container {text-align: center;}#sk-container-id-23 div.sk-container {/* jupyter's `normalize.less` sets `[hidden] { display: none; }` but bootstrap.min.css set `[hidden] { display: none !important; }` so we also need the `!important` here to be able to override the default hidden behavior on the sphinx rendered scikit-learn.org. See: https://github.com/scikit-learn/scikit-learn/issues/21755 */display: inline-block !important;position: relative;}#sk-container-id-23 div.sk-text-repr-fallback {display: none;}</style><div id=\"sk-container-id-23\" class=\"sk-top-container\"><div class=\"sk-text-repr-fallback\"><pre>RandomForestClassifier(min_samples_split=10)</pre><b>In a Jupyter environment, please rerun this cell to show the HTML representation or trust the notebook. <br />On GitHub, the HTML representation is unable to render, please try loading this page with nbviewer.org.</b></div><div class=\"sk-container\" hidden><div class=\"sk-item\"><div class=\"sk-estimator sk-toggleable\"><input class=\"sk-toggleable__control sk-hidden--visually\" id=\"sk-estimator-id-47\" type=\"checkbox\" checked><label for=\"sk-estimator-id-47\" class=\"sk-toggleable__label sk-toggleable__label-arrow\">RandomForestClassifier</label><div class=\"sk-toggleable__content\"><pre>RandomForestClassifier(min_samples_split=10)</pre></div></div></div></div></div>"
      ],
      "text/plain": [
       "RandomForestClassifier(min_samples_split=10)"
      ]
     },
     "execution_count": 100,
     "metadata": {},
     "output_type": "execute_result"
    }
   ],
   "source": [
    "# Create a RandomForest with the best hparams\n",
    "rfc = RandomForestClassifier(**grid_search_m3.best_params_)\n",
    "\n",
    "# Train the model\n",
    "rfc.fit(x_dev_m3, y_dev_m3)"
   ]
  },
  {
   "cell_type": "code",
   "execution_count": 101,
   "id": "3abc83c5",
   "metadata": {},
   "outputs": [
    {
     "name": "stdout",
     "output_type": "stream",
     "text": [
      "-- DEVELOPMENT --\n",
      "              precision    recall  f1-score   support\n",
      "\n",
      "           0       0.95      0.92      0.93        62\n",
      "           1       0.92      0.95      0.93        60\n",
      "\n",
      "    accuracy                           0.93       122\n",
      "   macro avg       0.93      0.93      0.93       122\n",
      "weighted avg       0.93      0.93      0.93       122\n",
      "\n"
     ]
    }
   ],
   "source": [
    "print('-- DEVELOPMENT --')\n",
    "print(classification_report(y_dev_m3, rfc.predict(x_dev_m3)))"
   ]
  },
  {
   "cell_type": "code",
   "execution_count": 102,
   "id": "f99092bb",
   "metadata": {},
   "outputs": [
    {
     "name": "stdout",
     "output_type": "stream",
     "text": [
      "-- TEST --\n",
      "              precision    recall  f1-score   support\n",
      "\n",
      "           0       0.94      1.00      0.97       204\n",
      "           1       1.00      0.95      0.97       228\n",
      "\n",
      "    accuracy                           0.97       432\n",
      "   macro avg       0.97      0.97      0.97       432\n",
      "weighted avg       0.97      0.97      0.97       432\n",
      "\n"
     ]
    }
   ],
   "source": [
    "print('-- TEST --')\n",
    "report_test_m3 = classification_report(y_test_m3, rfc.predict(x_test_m3))\n",
    "print(report_test_m3)"
   ]
  },
  {
   "cell_type": "code",
   "execution_count": 103,
   "id": "2de65a68",
   "metadata": {},
   "outputs": [],
   "source": [
    "# RISULTATI MONK3\n",
    "\n",
    "store_monk_result(results_dir + '/MONK3/', best_configs_m3, report_test_m3)"
   ]
  },
  {
   "cell_type": "markdown",
   "id": "007f6603-97eb-4bf3-ae71-b1a62be020bd",
   "metadata": {},
   "source": [
    "# CUP"
   ]
  },
  {
   "cell_type": "code",
   "execution_count": 104,
   "id": "319305de-8537-410c-967c-639dad72fd16",
   "metadata": {},
   "outputs": [],
   "source": [
    "# Load CUP\n",
    "x_dev_cup, y_dev_cup, x_test_cup = load_cup(cup_dev_path, cup_test_path)"
   ]
  },
  {
   "cell_type": "markdown",
   "id": "e1f8de1b-5cac-47df-9b3e-b09f759c1c81",
   "metadata": {},
   "source": [
    "Here, we define the grid search spaces for the RandomForestRegression for the CUP dataset."
   ]
  },
  {
   "cell_type": "code",
   "execution_count": 105,
   "id": "8a9876fe-17b0-483e-9604-77757d5f797b",
   "metadata": {},
   "outputs": [],
   "source": [
    "rfr_hparams_spaces = {\n",
    "    'n_estimators': [25, 50, 100],\n",
    "    'max_depth': [5, 10, 20, 40],\n",
    "    'min_samples_leaf': [1, 2, 4],\n",
    "    'max_features': ['sqrt'],\n",
    "    'criterion': ['squared_error'],\n",
    "    'bootstrap': [True, False],\n",
    "}"
   ]
  },
  {
   "cell_type": "markdown",
   "id": "a614d1c6-5680-4d6d-a8d5-afb6a5a6d945",
   "metadata": {},
   "source": [
    "## Grid search"
   ]
  },
  {
   "cell_type": "code",
   "execution_count": 106,
   "id": "cbcab8f9",
   "metadata": {},
   "outputs": [
    {
     "data": {
      "text/plain": [
       "[array([[ 0.61149246,  0.9951097 , -0.9565687 , ...,  0.99912935,\n",
       "         -0.6267533 , -0.9778796 ],\n",
       "        [-0.9590803 ,  0.7285206 , -0.9971069 , ...,  0.8586828 ,\n",
       "         -0.8859362 ,  0.7572728 ],\n",
       "        [-0.786939  ,  0.963124  , -0.99197435, ...,  0.9884821 ,\n",
       "         -0.89324707, -0.45198295],\n",
       "        ...,\n",
       "        [-0.8153907 ,  0.24062237, -0.9951211 , ...,  0.9472486 ,\n",
       "         -0.86275923, -0.10523301],\n",
       "        [ 0.9704041 , -0.9608475 ,  0.95187455, ...,  0.7523884 ,\n",
       "          0.72169656, -0.9888743 ],\n",
       "        [ 0.9919152 ,  0.7415747 ,  0.78942555, ...,  0.9980771 ,\n",
       "         -0.9616746 , -0.9735993 ]]),\n",
       " array([[-0.5298587 ,  0.46753138, -0.99022156, ...,  0.9769632 ,\n",
       "         -0.9473218 , -0.16472916],\n",
       "        [-0.99163544,  0.9788987 , -0.99908805, ...,  0.16020666,\n",
       "         -0.00505242,  0.9638261 ],\n",
       "        [-0.798371  , -0.90621626, -0.964229  , ..., -0.10577794,\n",
       "         -0.7499545 ,  0.7000535 ],\n",
       "        ...,\n",
       "        [-0.90590656,  0.3944241 , -0.99603516, ...,  0.90996605,\n",
       "         -0.87951607,  0.41652778],\n",
       "        [-0.99164206,  0.9793924 , -0.9990792 , ...,  0.27758095,\n",
       "         -0.10669073,  0.95729715],\n",
       "        [-0.99704295,  0.5867718 , -0.99315053, ..., -0.19280444,\n",
       "          0.8378477 ,  0.07511579]]),\n",
       " array([[-34.683903 ,   9.711925 ,  11.736607 ],\n",
       "        [ 11.942022 ,  -3.4431956,  26.838408 ],\n",
       "        [ -2.1889758,   7.833246 ,  31.333508 ],\n",
       "        ...,\n",
       "        [  2.253901 , -16.351702 ,  27.137531 ],\n",
       "        [-37.89454  , -36.345974 ,  16.520624 ],\n",
       "        [-65.40828  ,  -0.610249 ,  29.721237 ]]),\n",
       " array([[  1.6414009 ,  -6.834951  ,  33.280838  ],\n",
       "        [ 16.844284  ,   9.253183  ,  13.486335  ],\n",
       "        [  7.1532598 , -44.97589   ,  21.290495  ],\n",
       "        [  6.2409616 ,  10.620652  ,  26.246874  ],\n",
       "        [-44.160084  , -27.80374   ,   4.066269  ],\n",
       "        [-20.080992  , -50.647976  ,  16.135265  ],\n",
       "        [  7.4122024 ,  15.241326  ,  13.434081  ],\n",
       "        [  9.000873  ,   0.2973946 ,  19.27942   ],\n",
       "        [ -2.6580944 ,   9.42998   ,  25.197104  ],\n",
       "        [  8.50183   ,   1.5898813 ,   6.470278  ],\n",
       "        [ -0.9991931 , -55.24086   ,   2.6915643 ],\n",
       "        [  4.9547386 ,   5.2367353 ,   8.033363  ],\n",
       "        [ 11.115044  , -50.50375   ,   2.5814452 ],\n",
       "        [  0.35397652,   8.213431  ,  19.907537  ],\n",
       "        [  9.021931  ,   4.614357  ,   8.092245  ],\n",
       "        [ 15.233251  , -12.5912695 ,   1.9994602 ],\n",
       "        [ -0.39671484,  18.084509  ,   1.1964043 ],\n",
       "        [-32.14868   ,  12.555765  ,  18.124931  ],\n",
       "        [  6.0173297 , -15.992338  ,   8.422744  ],\n",
       "        [-22.849262  , -42.576057  ,  22.642532  ],\n",
       "        [ 20.276125  , -17.805468  ,   8.325178  ],\n",
       "        [ -4.629166  ,   5.72007   ,  18.84445   ],\n",
       "        [ 11.870549  , -51.872158  ,   8.911671  ],\n",
       "        [-27.225437  ,   3.9788778 ,   5.6247096 ],\n",
       "        [  7.588609  , -44.54909   ,  15.028754  ],\n",
       "        [  2.6705682 ,  11.528117  ,   6.2553515 ],\n",
       "        [-24.25339   , -55.45362   ,  28.813517  ],\n",
       "        [-47.196457  ,  17.146015  ,   5.475065  ],\n",
       "        [ 17.97714   ,  15.04412   ,  19.549334  ],\n",
       "        [-35.22689   , -45.061447  ,  16.349527  ],\n",
       "        [-24.157822  , -54.96291   ,  16.238201  ],\n",
       "        [  7.897453  , -35.936382  ,  21.077147  ],\n",
       "        [-70.07631   ,  -8.842091  ,  29.611027  ],\n",
       "        [  6.778073  ,  -5.7361026 ,   7.8466415 ],\n",
       "        [  0.2998311 , -45.080944  ,  33.87747   ],\n",
       "        [-35.96424   ,  17.368061  ,  30.731852  ],\n",
       "        [  2.5217137 ,   3.4193914 ,  19.032495  ],\n",
       "        [ 10.977781  , -70.42327   ,  28.08684   ],\n",
       "        [ 19.443367  ,   8.0079565 ,   0.9010141 ],\n",
       "        [-11.274782  ,   8.243166  ,   5.8852253 ],\n",
       "        [ 10.568085  ,  -0.75626683,  14.018635  ],\n",
       "        [ -5.028387  , -67.31724   ,  34.49984   ],\n",
       "        [  1.6926883 ,   6.955458  ,  12.443427  ],\n",
       "        [ -2.1810088 , -63.846684  ,  15.567244  ],\n",
       "        [  2.3608947 ,   0.15704069,  25.88219   ],\n",
       "        [-27.29773   , -43.879105  ,  28.869574  ],\n",
       "        [-46.591854  ,  13.734777  ,  17.9536    ],\n",
       "        [-62.275024  ,  14.457353  ,  11.543496  ],\n",
       "        [ 10.064119  ,  14.893126  ,  32.382812  ],\n",
       "        [ -5.12768   ,  13.518516  ,   1.4318533 ],\n",
       "        [ -3.0341203 ,  -0.48104972,   6.3207846 ],\n",
       "        [  2.7541928 ,  16.001318  ,  31.793118  ],\n",
       "        [  6.0217347 ,   9.808238  ,  13.416476  ],\n",
       "        [  4.392878  , -26.197523  ,  33.776035  ],\n",
       "        [-45.656002  ,  11.272384  ,   5.3599653 ],\n",
       "        [-17.673475  ,  12.509193  ,  30.974161  ],\n",
       "        [ 14.803834  ,   1.7218934 ,   7.2914124 ],\n",
       "        [  2.1522584 , -75.07027   ,  28.106615  ],\n",
       "        [  1.1175461 , -41.53236   ,  21.253006  ],\n",
       "        [-59.39115   ,  -5.5239916 ,  23.367281  ],\n",
       "        [-20.33439   , -44.674488  ,  16.30102   ],\n",
       "        [-11.620489  , -63.79928   ,  22.36618   ],\n",
       "        [-13.162647  , -66.55107   ,  34.95278   ],\n",
       "        [ -0.51547265, -69.18435   ,  15.783106  ],\n",
       "        [-11.185162  ,  11.650375  ,  12.304002  ],\n",
       "        [ 15.320242  ,  10.735276  ,   7.1141615 ],\n",
       "        [ 14.592114  ,  -5.124435  ,  14.4549055 ],\n",
       "        [-45.087955  ,  12.017973  ,  30.495987  ],\n",
       "        [-57.411427  ,  13.913188  ,  24.170555  ],\n",
       "        [ 11.284805  , -48.533123  ,   2.4693654 ],\n",
       "        [-28.92553   ,   5.417356  ,  24.495893  ],\n",
       "        [-17.19512   ,   6.6218853 ,  24.889006  ],\n",
       "        [  7.4996533 , -45.772118  ,   2.5475311 ],\n",
       "        [-30.282824  , -52.175797  ,  10.096441  ],\n",
       "        [ 10.020672  ,   6.0983047 ,   6.9475355 ],\n",
       "        [  5.8357363 , -59.32802   ,  15.348819  ],\n",
       "        [ 15.828887  ,   4.769411  ,  20.039986  ],\n",
       "        [-36.22877   ,  13.06743   ,  11.672133  ],\n",
       "        [ -0.9885123 ,   4.355258  ,  32.28429   ],\n",
       "        [-34.65409   , -44.611095  ,  29.023764  ],\n",
       "        [ 17.930767  ,   4.0604057 ,  13.736794  ],\n",
       "        [ 11.146646  , -42.766457  ,  15.063598  ],\n",
       "        [  2.0835476 ,  15.542607  ,  12.669181  ],\n",
       "        [  5.7221975 ,  23.019846  ,   6.5857778 ],\n",
       "        [ 15.238668  , -47.703693  ,   8.752226  ],\n",
       "        [  5.8130455 , -57.405605  ,  15.385999  ],\n",
       "        [ 10.84111   ,  -4.8848386 ,  14.060348  ],\n",
       "        [-12.653601  ,   5.3438015 ,   5.752017  ],\n",
       "        [  7.617727  , -57.689575  ,   8.96572   ],\n",
       "        [  6.7598767 ,   4.318907  ,  19.077427  ],\n",
       "        [  4.201086  ,  -5.4260473 ,  20.498999  ],\n",
       "        [  6.8209224 ,  15.695568  ,  31.77853   ],\n",
       "        [ -0.6358968 ,   5.0005727 ,   6.091441  ],\n",
       "        [-57.206066  , -18.018057  ,   4.2600307 ],\n",
       "        [-56.375225  ,   5.7704306 ,  17.835794  ],\n",
       "        [-32.54989   ,  11.614191  ,   5.723297  ],\n",
       "        [ -9.330632  ,  19.901571  ,   6.0691543 ],\n",
       "        [-29.669224  ,  11.231932  ,   5.494561  ],\n",
       "        [-53.62908   , -24.491669  ,  10.463803  ],\n",
       "        [-28.975817  , -48.42997   ,  10.081439  ],\n",
       "        [-21.071712  , -58.774635  ,  34.867443  ],\n",
       "        [-15.689543  ,   5.072209  ,  24.796995  ],\n",
       "        [  6.1020427 ,   2.1245337 ,   7.6720147 ],\n",
       "        [  8.157539  ,  12.683676  ,  19.162325  ],\n",
       "        [ -9.051805  , -48.918755  ,  16.207407  ],\n",
       "        [-21.87168   ,   6.6454015 ,  30.904726  ],\n",
       "        [ -5.4476695 , -69.77786   ,   3.305638  ],\n",
       "        [-60.749084  , -12.40549   ,   4.3544683 ],\n",
       "        [  7.274466  , -47.509018  ,  15.213795  ],\n",
       "        [  7.6897616 , -66.966515  ,  28.248447  ],\n",
       "        [  3.5200913 ,  -1.7041457 ,   1.4613785 ],\n",
       "        [  0.6159841 ,   7.5863624 ,  13.565807  ],\n",
       "        [  8.394311  ,  -0.47575903,  31.88924   ],\n",
       "        [  3.2305305 , -70.938576  ,   3.0202312 ],\n",
       "        [-42.129177  , -31.278479  ,   4.0585284 ],\n",
       "        [-53.99652   ,   3.370324  ,  11.316489  ],\n",
       "        [-45.98376   ,   0.23966128,  30.54522   ],\n",
       "        [ -3.3573074 ,  18.971174  ,  12.3309    ],\n",
       "        [ 13.077719  , -14.5065    ,  26.98224   ],\n",
       "        [-67.43393   ,   8.023221  ,  11.011263  ],\n",
       "        [  6.936779  , -67.695045  ,  15.486672  ],\n",
       "        [-47.52072   , -22.676792  ,  10.409573  ],\n",
       "        [ -3.6532438 , -69.49656   ,   9.490307  ],\n",
       "        [-38.513187  , -32.05857   ,  29.04966   ],\n",
       "        [ 15.279239  ,  11.999985  ,   1.2235483 ],\n",
       "        [  7.958916  ,  -2.073826  ,  31.40465   ],\n",
       "        [ 11.025786  ,  12.492423  ,  31.723166  ],\n",
       "        [-16.6575    , -52.158474  ,   9.905928  ],\n",
       "        [-25.17306   , -27.135962  ,  22.735708  ],\n",
       "        [-61.809967  , -18.577278  ,   4.254163  ],\n",
       "        [ 10.843685  , -54.33485   ,  33.99363   ],\n",
       "        [  1.491359  , -77.615326  ,  15.772331  ],\n",
       "        [ 16.312563  ,   8.963915  ,   0.8007277 ],\n",
       "        [-49.93503   ,   3.3458037 ,  30.516874  ],\n",
       "        [-21.752155  , -69.433426  ,   9.829386  ],\n",
       "        [  2.257401  ,  -1.8682723 ,  20.211231  ],\n",
       "        [-18.978628  , -53.15542   ,  16.287619  ],\n",
       "        [-47.95996   ,   0.67287594,  30.356941  ],\n",
       "        [ 14.699104  ,  10.413984  ,  26.304308  ],\n",
       "        [ 11.58633   ,  -5.317598  ,  33.275753  ],\n",
       "        [-63.239326  , -11.521557  ,  10.609895  ],\n",
       "        [-57.538204  , -18.930254  ,  10.5973625 ],\n",
       "        [  8.705343  , -54.252216  ,  21.516296  ],\n",
       "        [ 10.799888  ,  11.701043  ,   7.4502015 ],\n",
       "        [-10.676521  , -64.10075   ,   9.705292  ],\n",
       "        [-58.1236    ,  13.568378  ,   5.134779  ],\n",
       "        [-19.939817  , -55.73073   ,  16.233984  ],\n",
       "        [ -8.715402  ,   8.472854  ,  24.762306  ],\n",
       "        [ 19.700405  ,   8.0416975 ,   1.112159  ],\n",
       "        [  6.2400055 ,  -0.95184124,  32.146606  ],\n",
       "        [ 15.132887  ,  -6.588049  ,  13.705746  ],\n",
       "        [  8.053836  ,  -4.9360843 ,  14.341548  ],\n",
       "        [-49.15756   , -15.955054  ,   4.183742  ],\n",
       "        [ 12.948206  ,  -4.602147  ,  20.20795   ],\n",
       "        [  1.5782293 ,  11.6451    ,  19.214174  ],\n",
       "        [-65.996895  ,  10.741963  ,  23.635296  ],\n",
       "        [  7.7383637 ,  -0.18537845,   1.2109269 ],\n",
       "        [  3.6852148 , -16.44882   ,  20.857613  ],\n",
       "        [-72.199936  ,   8.785388  ,  23.69044   ],\n",
       "        [-18.031538  ,  15.396736  ,  18.313978  ],\n",
       "        [  7.1266575 ,   6.7558775 ,  19.958677  ],\n",
       "        [-35.630905  , -33.10285   ,  10.241815  ],\n",
       "        [ -9.088319  ,   9.870325  ,  24.763788  ],\n",
       "        [ 11.076527  , -56.847004  ,   8.852145  ],\n",
       "        [ -5.637258  , -82.387726  ,  21.990082  ],\n",
       "        [  2.5167522 , -37.69712   ,  27.597212  ],\n",
       "        [  5.268777  ,   9.318603  ,  13.54164   ],\n",
       "        [ 16.575014  ,  -5.004003  ,  26.869356  ],\n",
       "        [  0.761787  , -12.973977  ,   8.25323   ],\n",
       "        [-41.274433  , -41.948586  ,  16.51738   ],\n",
       "        [ 12.274029  ,  10.840333  ,  32.351875  ],\n",
       "        [-37.881947  , -36.47179   ,   3.879618  ],\n",
       "        [-22.271055  ,  10.853416  ,  12.108163  ],\n",
       "        [-66.85214   ,  -9.871619  ,  16.99346   ],\n",
       "        [  4.519991  ,   6.8699965 ,   1.312744  ],\n",
       "        [-31.285555  ,   0.73777914,   5.552659  ],\n",
       "        [  8.463378  , -21.09853   ,  33.472206  ],\n",
       "        [  2.7903929 ,   6.4299483 ,  25.742065  ],\n",
       "        [ -0.3845986 ,  18.45687   ,  25.090982  ],\n",
       "        [ -8.64158   ,   5.160934  ,   6.187581  ],\n",
       "        [ -1.3397303 , -17.948723  ,  14.571153  ],\n",
       "        [ 12.178988  , -12.632469  ,   8.307867  ],\n",
       "        [ 11.298819  ,  -4.4496174 ,   8.057782  ],\n",
       "        [-36.048832  ,  21.785639  ,  24.44504   ],\n",
       "        [ 14.905713  ,   1.7823709 ,  14.334106  ],\n",
       "        [-53.022263  ,   8.136392  ,  11.585348  ],\n",
       "        [ 13.135602  ,   6.368785  ,   1.1321186 ],\n",
       "        [ -1.8111998 , -73.56865   ,   3.176866  ],\n",
       "        [ -0.2450949 ,   6.4916263 ,  13.008907  ],\n",
       "        [-13.132912  ,  10.190744  ,  12.150753  ],\n",
       "        [-39.34656   , -34.96996   ,   4.0167956 ],\n",
       "        [-40.749176  ,   9.44605   ,  24.280727  ],\n",
       "        [-18.435583  ,  18.703588  ,  30.982151  ],\n",
       "        [ -5.1667213 , -69.33795   ,  21.75837   ],\n",
       "        [ -3.5765815 ,   1.204121  ,  25.086851  ],\n",
       "        [  9.512378  ,   3.2239637 ,   1.0319672 ],\n",
       "        [ 13.420533  , -16.811373  ,  14.559743  ],\n",
       "        [  7.399325  , -12.472006  ,  26.819893  ],\n",
       "        [ 15.795874  ,   8.728454  ,  14.175143  ],\n",
       "        [  7.731333  , -17.75067   ,   1.8693215 ]])]"
      ]
     },
     "execution_count": 106,
     "metadata": {},
     "output_type": "execute_result"
    }
   ],
   "source": [
    "train_test_split(x_dev_cup, y_dev_cup, test_size=VAL_SPLIT, random_state=RANDOM_STATE)"
   ]
  },
  {
   "cell_type": "code",
   "execution_count": 107,
   "id": "1a45b107-4e22-4f09-9663-f7df9567fe92",
   "metadata": {},
   "outputs": [
    {
     "name": "stdout",
     "output_type": "stream",
     "text": [
      "Fitting 5 folds for each of 72 candidates, totalling 360 fits\n"
     ]
    },
    {
     "data": {
      "text/html": [
       "<style>#sk-container-id-24 {color: black;}#sk-container-id-24 pre{padding: 0;}#sk-container-id-24 div.sk-toggleable {background-color: white;}#sk-container-id-24 label.sk-toggleable__label {cursor: pointer;display: block;width: 100%;margin-bottom: 0;padding: 0.3em;box-sizing: border-box;text-align: center;}#sk-container-id-24 label.sk-toggleable__label-arrow:before {content: \"▸\";float: left;margin-right: 0.25em;color: #696969;}#sk-container-id-24 label.sk-toggleable__label-arrow:hover:before {color: black;}#sk-container-id-24 div.sk-estimator:hover label.sk-toggleable__label-arrow:before {color: black;}#sk-container-id-24 div.sk-toggleable__content {max-height: 0;max-width: 0;overflow: hidden;text-align: left;background-color: #f0f8ff;}#sk-container-id-24 div.sk-toggleable__content pre {margin: 0.2em;color: black;border-radius: 0.25em;background-color: #f0f8ff;}#sk-container-id-24 input.sk-toggleable__control:checked~div.sk-toggleable__content {max-height: 200px;max-width: 100%;overflow: auto;}#sk-container-id-24 input.sk-toggleable__control:checked~label.sk-toggleable__label-arrow:before {content: \"▾\";}#sk-container-id-24 div.sk-estimator input.sk-toggleable__control:checked~label.sk-toggleable__label {background-color: #d4ebff;}#sk-container-id-24 div.sk-label input.sk-toggleable__control:checked~label.sk-toggleable__label {background-color: #d4ebff;}#sk-container-id-24 input.sk-hidden--visually {border: 0;clip: rect(1px 1px 1px 1px);clip: rect(1px, 1px, 1px, 1px);height: 1px;margin: -1px;overflow: hidden;padding: 0;position: absolute;width: 1px;}#sk-container-id-24 div.sk-estimator {font-family: monospace;background-color: #f0f8ff;border: 1px dotted black;border-radius: 0.25em;box-sizing: border-box;margin-bottom: 0.5em;}#sk-container-id-24 div.sk-estimator:hover {background-color: #d4ebff;}#sk-container-id-24 div.sk-parallel-item::after {content: \"\";width: 100%;border-bottom: 1px solid gray;flex-grow: 1;}#sk-container-id-24 div.sk-label:hover label.sk-toggleable__label {background-color: #d4ebff;}#sk-container-id-24 div.sk-serial::before {content: \"\";position: absolute;border-left: 1px solid gray;box-sizing: border-box;top: 0;bottom: 0;left: 50%;z-index: 0;}#sk-container-id-24 div.sk-serial {display: flex;flex-direction: column;align-items: center;background-color: white;padding-right: 0.2em;padding-left: 0.2em;position: relative;}#sk-container-id-24 div.sk-item {position: relative;z-index: 1;}#sk-container-id-24 div.sk-parallel {display: flex;align-items: stretch;justify-content: center;background-color: white;position: relative;}#sk-container-id-24 div.sk-item::before, #sk-container-id-24 div.sk-parallel-item::before {content: \"\";position: absolute;border-left: 1px solid gray;box-sizing: border-box;top: 0;bottom: 0;left: 50%;z-index: -1;}#sk-container-id-24 div.sk-parallel-item {display: flex;flex-direction: column;z-index: 1;position: relative;background-color: white;}#sk-container-id-24 div.sk-parallel-item:first-child::after {align-self: flex-end;width: 50%;}#sk-container-id-24 div.sk-parallel-item:last-child::after {align-self: flex-start;width: 50%;}#sk-container-id-24 div.sk-parallel-item:only-child::after {width: 0;}#sk-container-id-24 div.sk-dashed-wrapped {border: 1px dashed gray;margin: 0 0.4em 0.5em 0.4em;box-sizing: border-box;padding-bottom: 0.4em;background-color: white;}#sk-container-id-24 div.sk-label label {font-family: monospace;font-weight: bold;display: inline-block;line-height: 1.2em;}#sk-container-id-24 div.sk-label-container {text-align: center;}#sk-container-id-24 div.sk-container {/* jupyter's `normalize.less` sets `[hidden] { display: none; }` but bootstrap.min.css set `[hidden] { display: none !important; }` so we also need the `!important` here to be able to override the default hidden behavior on the sphinx rendered scikit-learn.org. See: https://github.com/scikit-learn/scikit-learn/issues/21755 */display: inline-block !important;position: relative;}#sk-container-id-24 div.sk-text-repr-fallback {display: none;}</style><div id=\"sk-container-id-24\" class=\"sk-top-container\"><div class=\"sk-text-repr-fallback\"><pre>GridSearchCV(cv=KFold(n_splits=5, random_state=128, shuffle=True),\n",
       "             estimator=RandomForestRegressor(random_state=128),\n",
       "             param_grid={&#x27;bootstrap&#x27;: [True, False],\n",
       "                         &#x27;criterion&#x27;: [&#x27;squared_error&#x27;],\n",
       "                         &#x27;max_depth&#x27;: [5, 10, 20, 40], &#x27;max_features&#x27;: [&#x27;sqrt&#x27;],\n",
       "                         &#x27;min_samples_leaf&#x27;: [1, 2, 4],\n",
       "                         &#x27;n_estimators&#x27;: [25, 50, 100]},\n",
       "             scoring=make_scorer(mean_euclidean_error, greater_is_better=False),\n",
       "             verbose=1)</pre><b>In a Jupyter environment, please rerun this cell to show the HTML representation or trust the notebook. <br />On GitHub, the HTML representation is unable to render, please try loading this page with nbviewer.org.</b></div><div class=\"sk-container\" hidden><div class=\"sk-item sk-dashed-wrapped\"><div class=\"sk-label-container\"><div class=\"sk-label sk-toggleable\"><input class=\"sk-toggleable__control sk-hidden--visually\" id=\"sk-estimator-id-48\" type=\"checkbox\" ><label for=\"sk-estimator-id-48\" class=\"sk-toggleable__label sk-toggleable__label-arrow\">GridSearchCV</label><div class=\"sk-toggleable__content\"><pre>GridSearchCV(cv=KFold(n_splits=5, random_state=128, shuffle=True),\n",
       "             estimator=RandomForestRegressor(random_state=128),\n",
       "             param_grid={&#x27;bootstrap&#x27;: [True, False],\n",
       "                         &#x27;criterion&#x27;: [&#x27;squared_error&#x27;],\n",
       "                         &#x27;max_depth&#x27;: [5, 10, 20, 40], &#x27;max_features&#x27;: [&#x27;sqrt&#x27;],\n",
       "                         &#x27;min_samples_leaf&#x27;: [1, 2, 4],\n",
       "                         &#x27;n_estimators&#x27;: [25, 50, 100]},\n",
       "             scoring=make_scorer(mean_euclidean_error, greater_is_better=False),\n",
       "             verbose=1)</pre></div></div></div><div class=\"sk-parallel\"><div class=\"sk-parallel-item\"><div class=\"sk-item\"><div class=\"sk-label-container\"><div class=\"sk-label sk-toggleable\"><input class=\"sk-toggleable__control sk-hidden--visually\" id=\"sk-estimator-id-49\" type=\"checkbox\" ><label for=\"sk-estimator-id-49\" class=\"sk-toggleable__label sk-toggleable__label-arrow\">estimator: RandomForestRegressor</label><div class=\"sk-toggleable__content\"><pre>RandomForestRegressor(random_state=128)</pre></div></div></div><div class=\"sk-serial\"><div class=\"sk-item\"><div class=\"sk-estimator sk-toggleable\"><input class=\"sk-toggleable__control sk-hidden--visually\" id=\"sk-estimator-id-50\" type=\"checkbox\" ><label for=\"sk-estimator-id-50\" class=\"sk-toggleable__label sk-toggleable__label-arrow\">RandomForestRegressor</label><div class=\"sk-toggleable__content\"><pre>RandomForestRegressor(random_state=128)</pre></div></div></div></div></div></div></div></div></div></div>"
      ],
      "text/plain": [
       "GridSearchCV(cv=KFold(n_splits=5, random_state=128, shuffle=True),\n",
       "             estimator=RandomForestRegressor(random_state=128),\n",
       "             param_grid={'bootstrap': [True, False],\n",
       "                         'criterion': ['squared_error'],\n",
       "                         'max_depth': [5, 10, 20, 40], 'max_features': ['sqrt'],\n",
       "                         'min_samples_leaf': [1, 2, 4],\n",
       "                         'n_estimators': [25, 50, 100]},\n",
       "             scoring=make_scorer(mean_euclidean_error, greater_is_better=False),\n",
       "             verbose=1)"
      ]
     },
     "execution_count": 107,
     "metadata": {},
     "output_type": "execute_result"
    }
   ],
   "source": [
    "\n",
    "# perform grid search with KFold\n",
    "grid_search_cup = GridSearchCV(\n",
    "    RandomForestRegressor(random_state=128),\n",
    "    param_grid=rfr_hparams_spaces,\n",
    "    cv=KFold(n_splits=5, shuffle=True, random_state=128),\n",
    "    scoring=make_scorer(mean_euclidean_error, greater_is_better=False),\n",
    "    verbose=1\n",
    ")\n",
    "\n",
    "grid_search_cup.fit(x_dev_cup, y_dev_cup)\n"
   ]
  },
  {
   "cell_type": "code",
   "execution_count": 108,
   "id": "d914ba9f-394f-40db-965d-358408862725",
   "metadata": {},
   "outputs": [
    {
     "name": "stdout",
     "output_type": "stream",
     "text": [
      "Model rank 1 - Config: {'bootstrap': False, 'criterion': 'squared_error', 'max_depth': 20, 'max_features': 'sqrt', 'min_samples_leaf': 1, 'n_estimators': 100}\n",
      "Mean score -2.2206 - Std score: 0.1443\n",
      "\n",
      "Model rank 2 - Config: {'bootstrap': False, 'criterion': 'squared_error', 'max_depth': 40, 'max_features': 'sqrt', 'min_samples_leaf': 1, 'n_estimators': 100}\n",
      "Mean score -2.2206 - Std score: 0.1443\n",
      "\n",
      "Model rank 3 - Config: {'bootstrap': False, 'criterion': 'squared_error', 'max_depth': 20, 'max_features': 'sqrt', 'min_samples_leaf': 1, 'n_estimators': 50}\n",
      "Mean score -2.2753 - Std score: 0.1805\n",
      "\n",
      "Model rank 4 - Config: {'bootstrap': False, 'criterion': 'squared_error', 'max_depth': 40, 'max_features': 'sqrt', 'min_samples_leaf': 1, 'n_estimators': 50}\n",
      "Mean score -2.2753 - Std score: 0.1805\n",
      "\n",
      "Model rank 5 - Config: {'bootstrap': False, 'criterion': 'squared_error', 'max_depth': 10, 'max_features': 'sqrt', 'min_samples_leaf': 1, 'n_estimators': 100}\n",
      "Mean score -2.4006 - Std score: 0.1223\n",
      "\n"
     ]
    }
   ],
   "source": [
    "best_configs_cup = grid_search_top_configs(grid_search_cup.cv_results_) # top k config"
   ]
  },
  {
   "cell_type": "code",
   "execution_count": 109,
   "id": "74093f2e-a632-45e5-99ac-0b91438794bf",
   "metadata": {},
   "outputs": [
    {
     "data": {
      "text/html": [
       "<style>#sk-container-id-25 {color: black;}#sk-container-id-25 pre{padding: 0;}#sk-container-id-25 div.sk-toggleable {background-color: white;}#sk-container-id-25 label.sk-toggleable__label {cursor: pointer;display: block;width: 100%;margin-bottom: 0;padding: 0.3em;box-sizing: border-box;text-align: center;}#sk-container-id-25 label.sk-toggleable__label-arrow:before {content: \"▸\";float: left;margin-right: 0.25em;color: #696969;}#sk-container-id-25 label.sk-toggleable__label-arrow:hover:before {color: black;}#sk-container-id-25 div.sk-estimator:hover label.sk-toggleable__label-arrow:before {color: black;}#sk-container-id-25 div.sk-toggleable__content {max-height: 0;max-width: 0;overflow: hidden;text-align: left;background-color: #f0f8ff;}#sk-container-id-25 div.sk-toggleable__content pre {margin: 0.2em;color: black;border-radius: 0.25em;background-color: #f0f8ff;}#sk-container-id-25 input.sk-toggleable__control:checked~div.sk-toggleable__content {max-height: 200px;max-width: 100%;overflow: auto;}#sk-container-id-25 input.sk-toggleable__control:checked~label.sk-toggleable__label-arrow:before {content: \"▾\";}#sk-container-id-25 div.sk-estimator input.sk-toggleable__control:checked~label.sk-toggleable__label {background-color: #d4ebff;}#sk-container-id-25 div.sk-label input.sk-toggleable__control:checked~label.sk-toggleable__label {background-color: #d4ebff;}#sk-container-id-25 input.sk-hidden--visually {border: 0;clip: rect(1px 1px 1px 1px);clip: rect(1px, 1px, 1px, 1px);height: 1px;margin: -1px;overflow: hidden;padding: 0;position: absolute;width: 1px;}#sk-container-id-25 div.sk-estimator {font-family: monospace;background-color: #f0f8ff;border: 1px dotted black;border-radius: 0.25em;box-sizing: border-box;margin-bottom: 0.5em;}#sk-container-id-25 div.sk-estimator:hover {background-color: #d4ebff;}#sk-container-id-25 div.sk-parallel-item::after {content: \"\";width: 100%;border-bottom: 1px solid gray;flex-grow: 1;}#sk-container-id-25 div.sk-label:hover label.sk-toggleable__label {background-color: #d4ebff;}#sk-container-id-25 div.sk-serial::before {content: \"\";position: absolute;border-left: 1px solid gray;box-sizing: border-box;top: 0;bottom: 0;left: 50%;z-index: 0;}#sk-container-id-25 div.sk-serial {display: flex;flex-direction: column;align-items: center;background-color: white;padding-right: 0.2em;padding-left: 0.2em;position: relative;}#sk-container-id-25 div.sk-item {position: relative;z-index: 1;}#sk-container-id-25 div.sk-parallel {display: flex;align-items: stretch;justify-content: center;background-color: white;position: relative;}#sk-container-id-25 div.sk-item::before, #sk-container-id-25 div.sk-parallel-item::before {content: \"\";position: absolute;border-left: 1px solid gray;box-sizing: border-box;top: 0;bottom: 0;left: 50%;z-index: -1;}#sk-container-id-25 div.sk-parallel-item {display: flex;flex-direction: column;z-index: 1;position: relative;background-color: white;}#sk-container-id-25 div.sk-parallel-item:first-child::after {align-self: flex-end;width: 50%;}#sk-container-id-25 div.sk-parallel-item:last-child::after {align-self: flex-start;width: 50%;}#sk-container-id-25 div.sk-parallel-item:only-child::after {width: 0;}#sk-container-id-25 div.sk-dashed-wrapped {border: 1px dashed gray;margin: 0 0.4em 0.5em 0.4em;box-sizing: border-box;padding-bottom: 0.4em;background-color: white;}#sk-container-id-25 div.sk-label label {font-family: monospace;font-weight: bold;display: inline-block;line-height: 1.2em;}#sk-container-id-25 div.sk-label-container {text-align: center;}#sk-container-id-25 div.sk-container {/* jupyter's `normalize.less` sets `[hidden] { display: none; }` but bootstrap.min.css set `[hidden] { display: none !important; }` so we also need the `!important` here to be able to override the default hidden behavior on the sphinx rendered scikit-learn.org. See: https://github.com/scikit-learn/scikit-learn/issues/21755 */display: inline-block !important;position: relative;}#sk-container-id-25 div.sk-text-repr-fallback {display: none;}</style><div id=\"sk-container-id-25\" class=\"sk-top-container\"><div class=\"sk-text-repr-fallback\"><pre>RandomForestRegressor(bootstrap=False, max_depth=20, max_features=&#x27;sqrt&#x27;)</pre><b>In a Jupyter environment, please rerun this cell to show the HTML representation or trust the notebook. <br />On GitHub, the HTML representation is unable to render, please try loading this page with nbviewer.org.</b></div><div class=\"sk-container\" hidden><div class=\"sk-item\"><div class=\"sk-estimator sk-toggleable\"><input class=\"sk-toggleable__control sk-hidden--visually\" id=\"sk-estimator-id-51\" type=\"checkbox\" checked><label for=\"sk-estimator-id-51\" class=\"sk-toggleable__label sk-toggleable__label-arrow\">RandomForestRegressor</label><div class=\"sk-toggleable__content\"><pre>RandomForestRegressor(bootstrap=False, max_depth=20, max_features=&#x27;sqrt&#x27;)</pre></div></div></div></div></div>"
      ],
      "text/plain": [
       "RandomForestRegressor(bootstrap=False, max_depth=20, max_features='sqrt')"
      ]
     },
     "execution_count": 109,
     "metadata": {},
     "output_type": "execute_result"
    }
   ],
   "source": [
    "# Create a RandomForest with the best hparams\n",
    "rfr = RandomForestRegressor(**grid_search_cup.best_params_)\n",
    "\n",
    "# Train the model\n",
    "rfr.fit(x_dev_cup, y_dev_cup)"
   ]
  },
  {
   "cell_type": "code",
   "execution_count": 110,
   "id": "c9fabda2-25ff-4498-8340-38ae82f5722f",
   "metadata": {},
   "outputs": [
    {
     "name": "stdout",
     "output_type": "stream",
     "text": [
      "-- DEVELOPMENT --\n",
      "5.515234493593812e-14\n"
     ]
    }
   ],
   "source": [
    "print('-- DEVELOPMENT --')\n",
    "dev_mee_cup = mean_euclidean_error(y_dev_cup, rfr.predict(x_dev_cup))\n",
    "print(dev_mee_cup)"
   ]
  },
  {
   "cell_type": "code",
   "execution_count": 111,
   "id": "50a4bf99-c02c-41e7-bb07-fccbd0c0aa50",
   "metadata": {},
   "outputs": [],
   "source": [
    "# Blind test set predictions\n",
    "test_preds_cup = rfr.predict(x_test_cup)"
   ]
  },
  {
   "cell_type": "markdown",
   "id": "89020a2f-92a1-446c-8828-9a23df6eb762",
   "metadata": {},
   "source": [
    "## Store Result"
   ]
  },
  {
   "cell_type": "code",
   "execution_count": 112,
   "id": "ba54fb68-130d-47dc-9b4b-cf9ec6c267a2",
   "metadata": {},
   "outputs": [],
   "source": [
    "store_cup_result(results_dir + '/CUP/', best_configs_cup, dev_mee_cup, test_preds_cup)"
   ]
  }
 ],
 "metadata": {
  "kernelspec": {
   "display_name": "base",
   "language": "python",
   "name": "python3"
  },
  "language_info": {
   "codemirror_mode": {
    "name": "ipython",
    "version": 3
   },
   "file_extension": ".py",
   "mimetype": "text/x-python",
   "name": "python",
   "nbconvert_exporter": "python",
   "pygments_lexer": "ipython3",
   "version": "3.11.5"
  }
 },
 "nbformat": 4,
 "nbformat_minor": 5
}
