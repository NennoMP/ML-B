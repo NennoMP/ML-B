{
 "cells": [
  {
   "cell_type": "markdown",
   "id": "59d3416e-3aee-496b-9a46-d86fab3fe008",
   "metadata": {
    "tags": []
   },
   "source": [
    "## Imports"
   ]
  },
  {
   "cell_type": "code",
<<<<<<< HEAD
   "execution_count": 3,
=======
   "execution_count": 2,
>>>>>>> 5de703cf0574579528c4723d4d0d7a4ec1a54dd7
   "id": "15985a7e-4206-4f13-aaad-d38982df5f10",
   "metadata": {},
   "outputs": [],
   "source": [
    "import os\n",
    "import sys\n",
    "\n",
    "import numpy as np\n",
    "import pandas as pd\n",
<<<<<<< HEAD
    "\n",
    "from sklearn.ensemble import RandomForestClassifier, RandomForestRegressor\n",
    "from sklearn.metrics import accuracy_score, classification_report, make_scorer\n",
    "from sklearn.model_selection import GridSearchCV, StratifiedKFold, KFold, train_test_split\n",
=======
    "import tensorflow as tf\n",
    "\n",
    "from sklearn.metrics import accuracy_score, classification_report, make_scorer\n",
    "from sklearn.model_selection import train_test_split, StratifiedKFold, KFold\n",
    "\n",
    "from tensorflow.keras.models import Sequential\n",
    "from tensorflow.keras.layers import Dense, Input\n",
    "from tensorflow.keras.initializers import HeNormal, GlorotUniform\n",
    "from keras.optimizers import SGD, Adam\n",
    "from tensorflow.keras.regularizers import l2\n",
    "\n",
>>>>>>> 5de703cf0574579528c4723d4d0d7a4ec1a54dd7
    "\n",
    "dir_parts = os.getcwd().split(os.path.sep)\n",
    "root_index = dir_parts.index('ML-B')\n",
    "root_path = os.path.sep.join(dir_parts[:root_index + 1])\n",
    "sys.path.append(root_path + '/code/')\n",
    "from data.data_config import Dataset\n",
    "from data.data_utils import load_monk, load_cup, store_monk_result, store_cup_result\n",
    "from hyperparameter_tuning import grid_search_top_configs\n",
    "from training.metrics import mean_euclidean_error\n",
<<<<<<< HEAD
=======
    "from training.solver import Solver\n",
>>>>>>> 5de703cf0574579528c4723d4d0d7a4ec1a54dd7
    "\n",
    "%load_ext autoreload\n",
    "%autoreload 2"
   ]
  },
  {
   "cell_type": "markdown",
<<<<<<< HEAD
   "id": "796c5562-6b4f-4eb0-bf78-8850ccc95a88",
=======
   "id": "2c866a15-7062-4d33-a206-2ec35f8643f1",
>>>>>>> 5de703cf0574579528c4723d4d0d7a4ec1a54dd7
   "metadata": {
    "tags": []
   },
   "source": [
<<<<<<< HEAD
    "# Random Forest\n",
    "In this notebook we test a **RandomForestClassifier** and a **RandomForestRegressor** w.r.t. the tasks at hand, i.e. the three MONK's problems and the CUP dataset respectively."
=======
    "# NN\n",
    "In this notebook we implement and test a custom (feed-forward) Neural Network w.r.t. the tasks at hand, i.e. the three MONK's problem and the CUP dataset.\n",
    "\n",
    "Specifically:\n",
    "- **get_nn_classifier(...)**: defines the NN classifier for the MONK's problems;\n",
    "- **get_nn_regressor(...)**: defines the NN regressor for the CUP dataset."
   ]
  },
  {
   "cell_type": "markdown",
   "id": "558a076d-71ee-46dc-949f-caa3a3bf2df7",
   "metadata": {
    "tags": []
   },
   "source": [
    "## Settings"
>>>>>>> 5de703cf0574579528c4723d4d0d7a4ec1a54dd7
   ]
  },
  {
   "cell_type": "code",
<<<<<<< HEAD
   "execution_count": 4,
   "id": "5e103d7c-0cc6-4f8c-89a9-aed6653b1abf",
=======
   "execution_count": 3,
   "id": "1fcfe3c3-e764-453e-879e-96937623ab48",
>>>>>>> 5de703cf0574579528c4723d4d0d7a4ec1a54dd7
   "metadata": {
    "tags": []
   },
   "outputs": [],
   "source": [
<<<<<<< HEAD
    "MODEL_NAME = 'RandomForest'"
=======
    "MODEL_NAME = 'NN'\n",
    "VAL_SPLIT = 0.2 # validation set percentage\n",
    "RANDOM_STATE = 128"
   ]
  },
  {
   "cell_type": "markdown",
   "id": "4ad13309-e6ed-43ce-b6be-b641c3a9f418",
   "metadata": {
    "tags": []
   },
   "source": [
    "## Model"
   ]
  },
  {
   "cell_type": "code",
   "execution_count": 4,
   "id": "8f66a645-e4b3-4812-9db6-1da781188456",
   "metadata": {
    "tags": []
   },
   "outputs": [],
   "source": [
    "hparams = {\n",
    "    'lr': [0.1, 0.01],\n",
    "    'h_dim': [16, 32],\n",
    "    'activation': ['relu', 'tanh'],\n",
    "    'reg': [0.1, 0.01],\n",
    "}\n",
    "\n",
    "def get_nn_classifier(hparams):\n",
    "    # Determine appropriate initializer\n",
    "    if hparams['activation'] == 'relu':\n",
    "        initializer = HeNormal() # Kaiming (He)\n",
    "    else:\n",
    "        initializer = GlorotUniform() # Xavier (Glorot)\n",
    "    \n",
    "    model = Sequential([\n",
    "        Dense(hparams['h_dim'], activation=hparams['activation'], input_shape=(17,), kernel_initializer=initializer),\n",
    "        Dense(1, activation='sigmoid', kernel_regularizer=l2(hparams['reg']))\n",
    "    ])\n",
    "    \n",
    "    optimizer = SGD(learning_rate=hparams['lr'])\n",
    "    model.compile(optimizer=optimizer, loss='binary_crossentropy', metrics=['accuracy'])\n",
    "    return model"
>>>>>>> 5de703cf0574579528c4723d4d0d7a4ec1a54dd7
   ]
  },
  {
   "cell_type": "markdown",
   "id": "84564330-d564-4700-9865-88576073b71b",
   "metadata": {
    "tags": []
   },
   "source": [
    "## Path"
   ]
  },
  {
   "cell_type": "code",
   "execution_count": 5,
   "id": "0b342ae0-1ef2-4bdb-9128-cd10ac83adf9",
   "metadata": {},
   "outputs": [],
   "source": [
    "# Directories\n",
    "results_dir = root_path + '/results/' + MODEL_NAME\n",
    "\n",
    "# Filepaths (MONK)\n",
    "m1_dev_path, m1_test_path = Dataset.MONK_1.dev_path, Dataset.MONK_1.test_path # MONK 1\n",
    "m2_dev_path, m2_test_path = Dataset.MONK_2.dev_path, Dataset.MONK_2.test_path # MONK 2\n",
    "m3_dev_path, m3_test_path = Dataset.MONK_3.dev_path, Dataset.MONK_3.test_path # MONK 3\n",
    "\n",
    "# Filepaths (CUP)\n",
    "cup_dev_path, cup_test_path = Dataset.CUP.dev_path, Dataset.CUP.test_path"
   ]
  },
  {
   "cell_type": "markdown",
   "id": "859824b9-6c6c-4f09-b4d9-ad5f9c5e2b29",
   "metadata": {
    "tags": []
   },
   "source": [
    "# MONK-1"
   ]
  },
  {
   "cell_type": "code",
   "execution_count": 6,
<<<<<<< HEAD
   "id": "9d8122e9-8291-4384-8877-35138e33476d",
=======
   "id": "905cca8a-3ad3-4f0f-a1d8-8ff6253f962b",
>>>>>>> 5de703cf0574579528c4723d4d0d7a4ec1a54dd7
   "metadata": {},
   "outputs": [],
   "source": [
    "# Load MONK-1\n",
    "x_dev_m1, y_dev_m1, x_test_m1, y_test_m1 = load_monk(m1_dev_path, m1_test_path)"
   ]
  },
  {
<<<<<<< HEAD
   "cell_type": "code",
   "execution_count": 6,
   "id": "fc951519-7dcd-4864-99a2-73eaffa19745",
   "metadata": {},
   "outputs": [],
   "source": [
    "train_test_split(x_dev_m1, y_dev_m1, test_size=VAL_SPLIT, random_state=RANDOM_STATE)"
   ]
  },
  {
=======
>>>>>>> 5de703cf0574579528c4723d4d0d7a4ec1a54dd7
   "cell_type": "markdown",
   "id": "eaba9b76-776b-4385-b71c-2cd30f5fed9d",
   "metadata": {},
   "source": [
    "First of all, we define the grid search spaces for the RandomForestClassifier that we're going to use for all three MONK's problems."
   ]
  },
  {
<<<<<<< HEAD
=======
   "cell_type": "code",
   "execution_count": null,
   "id": "45831b92-a6ae-4950-9a24-475f37115343",
   "metadata": {
    "tags": []
   },
   "outputs": [],
   "source": [
    "# hparams grid for grid search\n",
    "rfc_hparams_spaces = {\n",
    "    'n_estimators': [25, 50, 100],\n",
    "    'max_depth': [None, 10, 20],\n",
    "    'min_samples_leaf': [1, 2, 4],\n",
    "    'min_samples_split': [2, 5, 10],\n",
    "    'max_features': ['auto', 'sqrt'],\n",
    "    'criterion': ['gini', 'entropy'],\n",
    "    'bootstrap': [True, False],\n",
    "}"
   ]
  },
  {
>>>>>>> 5de703cf0574579528c4723d4d0d7a4ec1a54dd7
   "cell_type": "markdown",
   "id": "94fcd744-bfd1-4316-b15d-ab6689988460",
   "metadata": {
    "tags": []
   },
   "source": [
    "## Grid search\n",
    "Grid search is a simple hyper-parameter tuning techniques useful for finding the best configuration for a specific ML model. It involves:\n",
    "- defining a grid of hparams values\n",
    "- systematically test all possible combinations\n",
    "\n",
    "Other approaches include Random search or Bayesian optimization."
   ]
  },
  {
   "cell_type": "code",
<<<<<<< HEAD
   "execution_count": 21,
   "id": "04e445f5-bb11-4cd9-902e-02c2f7cb3ff0",
   "metadata": {},
   "outputs": [],
   "source": [
    "# hparams grid for grid search\n",
    "rfc_hparams_spaces = {\n",
    "    'n_estimators': [25, 50, 100],\n",
    "    'max_depth': [None, 10, 20],\n",
    "    'min_samples_leaf': [1, 2, 4],\n",
    "    'min_samples_split': [2, 5, 10],\n",
    "    'max_features': ['sqrt'],\n",
    "    'criterion': ['gini', 'entropy'],\n",
    "    'bootstrap': [True, False],\n",
    "}"
   ]
  },
  {
   "cell_type": "code",
   "execution_count": 22,
   "id": "1efe47c6-c887-411f-a4a2-e6c3083f3ecd",
   "metadata": {},
   "outputs": [
    {
     "name": "stdout",
     "output_type": "stream",
     "text": [
      "Fitting 2 folds for each of 324 candidates, totalling 648 fits\n"
     ]
    },
    {
     "data": {
      "text/html": [
       "<style>#sk-container-id-4 {color: black;}#sk-container-id-4 pre{padding: 0;}#sk-container-id-4 div.sk-toggleable {background-color: white;}#sk-container-id-4 label.sk-toggleable__label {cursor: pointer;display: block;width: 100%;margin-bottom: 0;padding: 0.3em;box-sizing: border-box;text-align: center;}#sk-container-id-4 label.sk-toggleable__label-arrow:before {content: \"▸\";float: left;margin-right: 0.25em;color: #696969;}#sk-container-id-4 label.sk-toggleable__label-arrow:hover:before {color: black;}#sk-container-id-4 div.sk-estimator:hover label.sk-toggleable__label-arrow:before {color: black;}#sk-container-id-4 div.sk-toggleable__content {max-height: 0;max-width: 0;overflow: hidden;text-align: left;background-color: #f0f8ff;}#sk-container-id-4 div.sk-toggleable__content pre {margin: 0.2em;color: black;border-radius: 0.25em;background-color: #f0f8ff;}#sk-container-id-4 input.sk-toggleable__control:checked~div.sk-toggleable__content {max-height: 200px;max-width: 100%;overflow: auto;}#sk-container-id-4 input.sk-toggleable__control:checked~label.sk-toggleable__label-arrow:before {content: \"▾\";}#sk-container-id-4 div.sk-estimator input.sk-toggleable__control:checked~label.sk-toggleable__label {background-color: #d4ebff;}#sk-container-id-4 div.sk-label input.sk-toggleable__control:checked~label.sk-toggleable__label {background-color: #d4ebff;}#sk-container-id-4 input.sk-hidden--visually {border: 0;clip: rect(1px 1px 1px 1px);clip: rect(1px, 1px, 1px, 1px);height: 1px;margin: -1px;overflow: hidden;padding: 0;position: absolute;width: 1px;}#sk-container-id-4 div.sk-estimator {font-family: monospace;background-color: #f0f8ff;border: 1px dotted black;border-radius: 0.25em;box-sizing: border-box;margin-bottom: 0.5em;}#sk-container-id-4 div.sk-estimator:hover {background-color: #d4ebff;}#sk-container-id-4 div.sk-parallel-item::after {content: \"\";width: 100%;border-bottom: 1px solid gray;flex-grow: 1;}#sk-container-id-4 div.sk-label:hover label.sk-toggleable__label {background-color: #d4ebff;}#sk-container-id-4 div.sk-serial::before {content: \"\";position: absolute;border-left: 1px solid gray;box-sizing: border-box;top: 0;bottom: 0;left: 50%;z-index: 0;}#sk-container-id-4 div.sk-serial {display: flex;flex-direction: column;align-items: center;background-color: white;padding-right: 0.2em;padding-left: 0.2em;position: relative;}#sk-container-id-4 div.sk-item {position: relative;z-index: 1;}#sk-container-id-4 div.sk-parallel {display: flex;align-items: stretch;justify-content: center;background-color: white;position: relative;}#sk-container-id-4 div.sk-item::before, #sk-container-id-4 div.sk-parallel-item::before {content: \"\";position: absolute;border-left: 1px solid gray;box-sizing: border-box;top: 0;bottom: 0;left: 50%;z-index: -1;}#sk-container-id-4 div.sk-parallel-item {display: flex;flex-direction: column;z-index: 1;position: relative;background-color: white;}#sk-container-id-4 div.sk-parallel-item:first-child::after {align-self: flex-end;width: 50%;}#sk-container-id-4 div.sk-parallel-item:last-child::after {align-self: flex-start;width: 50%;}#sk-container-id-4 div.sk-parallel-item:only-child::after {width: 0;}#sk-container-id-4 div.sk-dashed-wrapped {border: 1px dashed gray;margin: 0 0.4em 0.5em 0.4em;box-sizing: border-box;padding-bottom: 0.4em;background-color: white;}#sk-container-id-4 div.sk-label label {font-family: monospace;font-weight: bold;display: inline-block;line-height: 1.2em;}#sk-container-id-4 div.sk-label-container {text-align: center;}#sk-container-id-4 div.sk-container {/* jupyter's `normalize.less` sets `[hidden] { display: none; }` but bootstrap.min.css set `[hidden] { display: none !important; }` so we also need the `!important` here to be able to override the default hidden behavior on the sphinx rendered scikit-learn.org. See: https://github.com/scikit-learn/scikit-learn/issues/21755 */display: inline-block !important;position: relative;}#sk-container-id-4 div.sk-text-repr-fallback {display: none;}</style><div id=\"sk-container-id-4\" class=\"sk-top-container\"><div class=\"sk-text-repr-fallback\"><pre>GridSearchCV(cv=StratifiedKFold(n_splits=2, random_state=69, shuffle=True),\n",
       "             estimator=RandomForestClassifier(random_state=69),\n",
       "             param_grid={&#x27;bootstrap&#x27;: [True, False],\n",
       "                         &#x27;criterion&#x27;: [&#x27;gini&#x27;, &#x27;entropy&#x27;],\n",
       "                         &#x27;max_depth&#x27;: [None, 10, 20], &#x27;max_features&#x27;: [&#x27;sqrt&#x27;],\n",
       "                         &#x27;min_samples_leaf&#x27;: [1, 2, 4],\n",
       "                         &#x27;min_samples_split&#x27;: [2, 5, 10],\n",
       "                         &#x27;n_estimators&#x27;: [25, 50, 100]},\n",
       "             scoring=&#x27;accuracy&#x27;, verbose=1)</pre><b>In a Jupyter environment, please rerun this cell to show the HTML representation or trust the notebook. <br />On GitHub, the HTML representation is unable to render, please try loading this page with nbviewer.org.</b></div><div class=\"sk-container\" hidden><div class=\"sk-item sk-dashed-wrapped\"><div class=\"sk-label-container\"><div class=\"sk-label sk-toggleable\"><input class=\"sk-toggleable__control sk-hidden--visually\" id=\"sk-estimator-id-10\" type=\"checkbox\" ><label for=\"sk-estimator-id-10\" class=\"sk-toggleable__label sk-toggleable__label-arrow\">GridSearchCV</label><div class=\"sk-toggleable__content\"><pre>GridSearchCV(cv=StratifiedKFold(n_splits=2, random_state=69, shuffle=True),\n",
       "             estimator=RandomForestClassifier(random_state=69),\n",
       "             param_grid={&#x27;bootstrap&#x27;: [True, False],\n",
       "                         &#x27;criterion&#x27;: [&#x27;gini&#x27;, &#x27;entropy&#x27;],\n",
       "                         &#x27;max_depth&#x27;: [None, 10, 20], &#x27;max_features&#x27;: [&#x27;sqrt&#x27;],\n",
       "                         &#x27;min_samples_leaf&#x27;: [1, 2, 4],\n",
       "                         &#x27;min_samples_split&#x27;: [2, 5, 10],\n",
       "                         &#x27;n_estimators&#x27;: [25, 50, 100]},\n",
       "             scoring=&#x27;accuracy&#x27;, verbose=1)</pre></div></div></div><div class=\"sk-parallel\"><div class=\"sk-parallel-item\"><div class=\"sk-item\"><div class=\"sk-label-container\"><div class=\"sk-label sk-toggleable\"><input class=\"sk-toggleable__control sk-hidden--visually\" id=\"sk-estimator-id-11\" type=\"checkbox\" ><label for=\"sk-estimator-id-11\" class=\"sk-toggleable__label sk-toggleable__label-arrow\">estimator: RandomForestClassifier</label><div class=\"sk-toggleable__content\"><pre>RandomForestClassifier(random_state=69)</pre></div></div></div><div class=\"sk-serial\"><div class=\"sk-item\"><div class=\"sk-estimator sk-toggleable\"><input class=\"sk-toggleable__control sk-hidden--visually\" id=\"sk-estimator-id-12\" type=\"checkbox\" ><label for=\"sk-estimator-id-12\" class=\"sk-toggleable__label sk-toggleable__label-arrow\">RandomForestClassifier</label><div class=\"sk-toggleable__content\"><pre>RandomForestClassifier(random_state=69)</pre></div></div></div></div></div></div></div></div></div></div>"
      ],
      "text/plain": [
       "GridSearchCV(cv=StratifiedKFold(n_splits=2, random_state=69, shuffle=True),\n",
       "             estimator=RandomForestClassifier(random_state=69),\n",
       "             param_grid={'bootstrap': [True, False],\n",
       "                         'criterion': ['gini', 'entropy'],\n",
       "                         'max_depth': [None, 10, 20], 'max_features': ['sqrt'],\n",
       "                         'min_samples_leaf': [1, 2, 4],\n",
       "                         'min_samples_split': [2, 5, 10],\n",
       "                         'n_estimators': [25, 50, 100]},\n",
       "             scoring='accuracy', verbose=1)"
      ]
     },
     "execution_count": 22,
     "metadata": {},
     "output_type": "execute_result"
    }
   ],
   "source": [
    "# perform grid search with KFold\n",
    "grid_search_m1 = GridSearchCV(\n",
    "    RandomForestClassifier(random_state=69),\n",
    "    param_grid=rfc_hparams_spaces,\n",
    "    cv=StratifiedKFold(n_splits=2, shuffle=True, random_state=69),\n",
    "    scoring='accuracy',\n",
    "    verbose=1\n",
    ")\n",
    "\n",
    "grid_search_m1.fit(x_dev_m1, y_dev_m1)"
   ]
=======
   "execution_count": null,
   "id": "533e2fb2-2f18-4f54-88cc-f6f9df08db60",
   "metadata": {},
   "outputs": [],
   "source": []
>>>>>>> 5de703cf0574579528c4723d4d0d7a4ec1a54dd7
  },
  {
   "cell_type": "code",
   "execution_count": null,
   "id": "ce7c6596-ab4e-4b5c-9cce-a257498ca99d",
   "metadata": {},
   "outputs": [],
<<<<<<< HEAD
   "source": [
    "best_configs_m1 = grid_search_top_configs(grid_search_m1.cv_results_) # top k config"
   ]
  },
  {
   "cell_type": "code",
   "execution_count": 2,
   "id": "0a4e6f81-14f4-4f06-9339-710da3c6ef95",
   "metadata": {},
   "outputs": [],
   "source": [
    "# Create a RandomForest with the best hparams\n",
    "rfc = RandomForestClassifier(**grid_search_m1.best_params_)\n",
    "\n",
    "# Train the model\n",
    "rfc.fit(x_dev_m1, y_dev_m1)"
   ]
  },
  {
   "cell_type": "code",
   "execution_count": 2,
   "id": "82f0f80f-f5de-4b98-b5a9-d17b2c27f78a",
   "metadata": {},
   "outputs": [
    {
     "ename": "NameError",
     "evalue": "name 'grid_search_m1' is not defined",
     "output_type": "error",
     "traceback": [
      "\u001b[1;31m---------------------------------------------------------------------------\u001b[0m",
      "\u001b[1;31mNameError\u001b[0m                                 Traceback (most recent call last)",
      "Cell \u001b[1;32mIn[2], line 2\u001b[0m\n\u001b[0;32m      1\u001b[0m \u001b[38;5;66;03m# Create a RandomForest with the best hparams\u001b[39;00m\n\u001b[1;32m----> 2\u001b[0m rfc \u001b[38;5;241m=\u001b[39m RandomForestClassifier(\u001b[38;5;241m*\u001b[39m\u001b[38;5;241m*\u001b[39m\u001b[43mgrid_search_m1\u001b[49m\u001b[38;5;241m.\u001b[39mbest_params_)\n\u001b[0;32m      4\u001b[0m \u001b[38;5;66;03m# Train the model\u001b[39;00m\n\u001b[0;32m      5\u001b[0m rfc\u001b[38;5;241m.\u001b[39mfit(x_dev_m1, y_dev_m1)\n",
      "\u001b[1;31mNameError\u001b[0m: name 'grid_search_m1' is not defined"
     ]
    }
   ],
   "source": []
  },
  {
   "cell_type": "code",
   "execution_count": null,
   "id": "e034c525-0c5a-4737-9186-4cfc0b61ae15",
   "metadata": {},
   "outputs": [],
   "source": [
    "print('-- DEVELOPMENT --')\n",
    "print(classification_report(y_dev_m1, rfc.predict(x_dev_m1)))"
=======
   "source": []
  },
  {
   "cell_type": "markdown",
   "id": "440b802b-99b6-48d8-afff-692422983566",
   "metadata": {},
   "source": [
    "## Split Train-Val"
>>>>>>> 5de703cf0574579528c4723d4d0d7a4ec1a54dd7
   ]
  },
  {
   "cell_type": "code",
<<<<<<< HEAD
   "execution_count": null,
   "id": "38e328d0-7a8e-463d-b9f3-0b2bdd3700c9",
   "metadata": {},
   "outputs": [],
   "source": [
    "print('-- TEST --')\n",
    "report_test_m1 = classification_report(y_test_m1, rfc.predict(x_test_m1))\n",
    "print(report_test_m1)"
=======
   "execution_count": 7,
   "id": "b0717519-e253-4e02-b006-75ae5530aab6",
   "metadata": {},
   "outputs": [],
   "source": [
    "x_train_m1, x_val_m1, y_train_m1, y_val_m1 = train_test_split(x_dev_m1, y_dev_m1, test_size=VAL_SPLIT, random_state=RANDOM_STATE)"
   ]
  },
  {
   "cell_type": "code",
   "execution_count": 27,
   "id": "6273cbf5-260f-4a3f-b2cb-1e0e2b6db160",
   "metadata": {},
   "outputs": [
    {
     "name": "stdout",
     "output_type": "stream",
     "text": [
      "\n",
      "Epoch 1/15 - loss: 0.7956 - accuracy: 0.5657 - val_loss: 1.0366 - val_accuracy: 0.3200\n",
      "\n",
      "\n",
      "Epoch 2/15 - loss: 0.7457 - accuracy: 0.5859 - val_loss: 0.9038 - val_accuracy: 0.3200\n",
      "\n",
      "\n",
      "Epoch 3/15 - loss: 0.6932 - accuracy: 0.5960 - val_loss: 0.8525 - val_accuracy: 0.4000\n",
      "\n",
      "\n",
      "Epoch 4/15 - loss: 0.6758 - accuracy: 0.6061 - val_loss: 0.7801 - val_accuracy: 0.4800\n",
      "\n",
      "\n",
      "Epoch 5/15 - loss: 0.6515 - accuracy: 0.6061 - val_loss: 0.7216 - val_accuracy: 0.4400\n",
      "\n",
      "\n",
      "Epoch 6/15 - loss: 0.6396 - accuracy: 0.6364 - val_loss: 0.7158 - val_accuracy: 0.4400\n",
      "\n",
      "\n",
      "Epoch 7/15 - loss: 0.6305 - accuracy: 0.6465 - val_loss: 0.7228 - val_accuracy: 0.4400\n",
      "\n",
      "\n",
      "Epoch 8/15 - loss: 0.6236 - accuracy: 0.6667 - val_loss: 0.7349 - val_accuracy: 0.4000\n",
      "\n",
      "\n",
      "Epoch 9/15 - loss: 0.6195 - accuracy: 0.6465 - val_loss: 0.6803 - val_accuracy: 0.5600\n",
      "\n",
      "\n",
      "Epoch 10/15 - loss: 0.6117 - accuracy: 0.6768 - val_loss: 0.7258 - val_accuracy: 0.4000\n",
      "\n",
      "\n",
      "Epoch 11/15 - loss: 0.6059 - accuracy: 0.6768 - val_loss: 0.7435 - val_accuracy: 0.4000\n",
      "\n",
      "\n",
      "Epoch 12/15 - loss: 0.5978 - accuracy: 0.6465 - val_loss: 0.6441 - val_accuracy: 0.6400\n",
      "\n",
      "\n",
      "Epoch 13/15 - loss: 0.5923 - accuracy: 0.6970 - val_loss: 0.6440 - val_accuracy: 0.6400\n",
      "\n",
      "\n",
      "Epoch 14/15 - loss: 0.5824 - accuracy: 0.6970 - val_loss: 0.6449 - val_accuracy: 0.5600\n",
      "\n",
      "\n",
      "Epoch 15/15 - loss: 0.5792 - accuracy: 0.6970 - val_loss: 0.6369 - val_accuracy: 0.6400\n",
      "\n",
      "Restoring best model weights.\n",
      "Best validation accuracy: 0.6399999856948853\n"
     ]
    }
   ],
   "source": [
    "hparams = {\n",
    "    'lr': 0.1,\n",
    "    'h_dim': 16,\n",
    "    'activation': 'relu',\n",
    "    'reg': 0,\n",
    "}\n",
    "\n",
    "model_m1 = get_nn_classifier(hparams)\n",
    "solver = Solver(model_m1, x_train_m1, y_train_m1, x_val_m1, y_val_m1)\n",
    "solver.train(epochs=20, patience=5, batch_size=32)"
   ]
  },
  {
   "cell_type": "code",
   "execution_count": 22,
   "id": "808cdf17-d985-46cc-8421-a7704eaf6569",
   "metadata": {},
   "outputs": [
    {
     "name": "stdout",
     "output_type": "stream",
     "text": [
      "-- DEVELOPMENT --\n",
      "4/4 [==============================] - 0s 1ms/step\n",
      "              precision    recall  f1-score   support\n",
      "\n",
      "           0     0.5046    0.8871    0.6433        62\n",
      "           1     0.5333    0.1290    0.2078        62\n",
      "\n",
      "    accuracy                         0.5081       124\n",
      "   macro avg     0.5190    0.5081    0.4255       124\n",
      "weighted avg     0.5190    0.5081    0.4255       124\n",
      "\n"
     ]
    }
   ],
   "source": [
    "print('-- DEVELOPMENT --')\n",
    "y_dev_pred_m1 = np.where(model_m1.predict(x_dev_m1) > 0.5, 1, 0)\n",
    "print(classification_report(y_dev_m1, y_dev_pred_m1, digits=4))"
   ]
  },
  {
   "cell_type": "code",
   "execution_count": 23,
   "id": "38e328d0-7a8e-463d-b9f3-0b2bdd3700c9",
   "metadata": {},
   "outputs": [
    {
     "name": "stdout",
     "output_type": "stream",
     "text": [
      "-- TEST --\n",
      "4/4 [==============================] - 0s 1ms/step\n",
      "              precision    recall  f1-score   support\n",
      "\n",
      "           0     0.5046    0.8871    0.6433        62\n",
      "           1     0.5333    0.1290    0.2078        62\n",
      "\n",
      "    accuracy                         0.5081       124\n",
      "   macro avg     0.5190    0.5081    0.4255       124\n",
      "weighted avg     0.5190    0.5081    0.4255       124\n",
      "\n"
     ]
    }
   ],
   "source": [
    "print('-- TEST --')\n",
    "y_test_pred_m1 = np.where(model_m1.predict(x_test_m1) > 0.5, 1, 0)\n",
    "print(classification_report(y_test_m1, y_test_pred_m1, digits=4))"
>>>>>>> 5de703cf0574579528c4723d4d0d7a4ec1a54dd7
   ]
  },
  {
   "cell_type": "markdown",
   "id": "5d9a9e02-7de5-4fe0-8b53-5d7e98839b89",
   "metadata": {},
   "source": [
    "## Store results"
   ]
  },
  {
   "cell_type": "code",
   "execution_count": null,
   "id": "4b65fea0-49fd-4f42-be28-e03a264f7d6a",
   "metadata": {},
   "outputs": [],
   "source": [
    "store_monk_result(results_dir + '/MONK1/', best_configs_m1, report_test_m1)"
   ]
  },
  {
   "cell_type": "markdown",
   "id": "b216aed0-5ba0-4816-a889-a3be455e73c9",
   "metadata": {},
   "source": [
    "# MONK-2"
   ]
  },
  {
   "cell_type": "code",
   "execution_count": null,
   "id": "315fe162-40da-4664-b6f0-d1f01709f508",
   "metadata": {},
   "outputs": [],
   "source": []
  },
  {
   "cell_type": "markdown",
   "id": "aea2e408-6d1b-4c43-b70b-c4fec0da831d",
   "metadata": {},
   "source": [
    "# MONK-3"
   ]
  },
  {
   "cell_type": "code",
   "execution_count": null,
   "id": "9f02aae1-f31b-4403-9d85-fbfaf144d224",
   "metadata": {},
   "outputs": [],
   "source": []
  },
  {
   "cell_type": "markdown",
   "id": "007f6603-97eb-4bf3-ae71-b1a62be020bd",
   "metadata": {},
   "source": [
    "# CUP"
   ]
  },
  {
   "cell_type": "code",
   "execution_count": null,
   "id": "319305de-8537-410c-967c-639dad72fd16",
   "metadata": {},
   "outputs": [],
   "source": [
    "# Load CUP\n",
    "x_dev_cup, y_dev_cup, x_test_cup = load_cup(cup_dev_path, cup_test_path)"
   ]
  },
  {
   "cell_type": "markdown",
   "id": "e1f8de1b-5cac-47df-9b3e-b09f759c1c81",
   "metadata": {},
   "source": [
    "Here, we define the grid search spaces for the RandomForestRegression for the CUP dataset."
   ]
  },
  {
   "cell_type": "code",
<<<<<<< HEAD
   "execution_count": 23,
=======
   "execution_count": null,
>>>>>>> 5de703cf0574579528c4723d4d0d7a4ec1a54dd7
   "id": "8a9876fe-17b0-483e-9604-77757d5f797b",
   "metadata": {},
   "outputs": [],
   "source": [
    "rfr_hparams_spaces = {\n",
    "    'n_estimators': [25, 50, 100],\n",
    "    'max_depth': [None, 10, 20],\n",
    "    'min_samples_leaf': [1, 2, 4],\n",
<<<<<<< HEAD
    "    'max_features': ['sqrt'],\n",
=======
    "    'min_samples_split': [2, 5, 10],\n",
    "    'max_features': ['auto', 'sqrt'],\n",
>>>>>>> 5de703cf0574579528c4723d4d0d7a4ec1a54dd7
    "    'criterion': ['squared_error'],\n",
    "    'bootstrap': [True, False],\n",
    "}"
   ]
  },
  {
   "cell_type": "markdown",
   "id": "a614d1c6-5680-4d6d-a8d5-afb6a5a6d945",
   "metadata": {},
   "source": [
    "## Grid search"
   ]
  },
  {
   "cell_type": "code",
   "execution_count": null,
   "id": "1a45b107-4e22-4f09-9663-f7df9567fe92",
   "metadata": {},
   "outputs": [],
   "source": [
    "# perform grid search with KFold\n",
    "grid_search_cup = GridSearchCV(\n",
    "    RandomForestRegressor(random_state=69),\n",
    "    param_grid=rfr_hparams_spaces,\n",
    "    cv=KFold(n_splits=5, shuffle=True, random_state=69),\n",
    "    scoring=make_scorer(mean_euclidean_error, greater_is_better=False),\n",
    "    verbose=1\n",
    ")\n",
    "\n",
    "grid_search_cup.fit(x_dev_cup, y_dev_cup)"
   ]
  },
  {
   "cell_type": "code",
   "execution_count": null,
   "id": "d914ba9f-394f-40db-965d-358408862725",
   "metadata": {},
   "outputs": [],
   "source": [
    "best_configs_cup = grid_search_top_configs(grid_search_cup.cv_results_) # top k config"
   ]
  },
  {
   "cell_type": "code",
   "execution_count": null,
   "id": "74093f2e-a632-45e5-99ac-0b91438794bf",
   "metadata": {},
   "outputs": [],
   "source": [
    "# Create a RandomForest with the best hparams\n",
    "rfr = RandomForestRegressor(**grid_search_cup.best_params_)\n",
    "\n",
    "# Train the model\n",
    "rfr.fit(x_dev_cup, y_dev_cup)"
   ]
  },
  {
   "cell_type": "code",
   "execution_count": null,
   "id": "c9fabda2-25ff-4498-8340-38ae82f5722f",
   "metadata": {},
   "outputs": [],
   "source": [
    "print('-- DEVELOPMENT --')\n",
    "dev_mee_cup = mean_euclidean_error(y_dev_cup, rfr.predict(x_dev_cup))\n",
    "print(dev_mee_cup)"
   ]
  },
  {
   "cell_type": "code",
   "execution_count": null,
   "id": "50a4bf99-c02c-41e7-bb07-fccbd0c0aa50",
   "metadata": {},
   "outputs": [],
   "source": [
    "# Blind test set predictions\n",
    "test_preds_cup = rfr.predict(x_test_cup)"
   ]
  },
  {
   "cell_type": "markdown",
   "id": "89020a2f-92a1-446c-8828-9a23df6eb762",
   "metadata": {},
   "source": [
    "## Store Result"
   ]
  },
  {
   "cell_type": "code",
   "execution_count": null,
   "id": "ba54fb68-130d-47dc-9b4b-cf9ec6c267a2",
   "metadata": {},
   "outputs": [],
   "source": [
    "store_cup_result(results_dir + '/CUP/', best_configs_cup, dev_mee_cup, test_preds_cup)"
   ]
  },
  {
   "cell_type": "code",
   "execution_count": null,
   "id": "e3243c1b-4ce3-4dd7-82db-55583fe4d494",
   "metadata": {},
   "outputs": [],
   "source": []
  }
 ],
 "metadata": {
  "kernelspec": {
   "display_name": "hlt",
   "language": "python",
   "name": "hlt"
  },
  "language_info": {
   "codemirror_mode": {
    "name": "ipython",
    "version": 3
   },
   "file_extension": ".py",
   "mimetype": "text/x-python",
   "name": "python",
   "nbconvert_exporter": "python",
   "pygments_lexer": "ipython3",
   "version": "3.9.7"
  }
 },
 "nbformat": 4,
 "nbformat_minor": 5
}
