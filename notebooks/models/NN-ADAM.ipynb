{
 "cells": [
  {
   "cell_type": "markdown",
   "id": "59d3416e-3aee-496b-9a46-d86fab3fe008",
   "metadata": {
    "tags": []
   },
   "source": [
    "## Imports"
   ]
  },
  {
   "cell_type": "code",
   "execution_count": 1,
   "id": "15985a7e-4206-4f13-aaad-d38982df5f10",
   "metadata": {},
   "outputs": [],
   "source": [
    "import json\n",
    "import os\n",
    "import sys\n",
    "\n",
    "import numpy as np\n",
    "import pandas as pd\n",
    "import tensorflow as tf\n",
    "\n",
    "from sklearn.metrics import accuracy_score, mean_squared_error, make_scorer\n",
    "from sklearn.model_selection import train_test_split, StratifiedKFold, KFold\n",
    "from sklearn.preprocessing import PolynomialFeatures\n",
    "\n",
    "from tensorflow.keras.callbacks import LearningRateScheduler\n",
    "from tensorflow.keras.models import Sequential\n",
    "from tensorflow.keras.layers import Input, Dense\n",
    "from tensorflow.keras.initializers import RandomUniform, RandomNormal, HeNormal, GlorotUniform, Constant, Zeros\n",
    "from keras.optimizers import Adam\n",
    "from tensorflow.keras.regularizers import l2\n",
    "\n",
    "\n",
    "\n",
    "dir_parts = os.getcwd().split(os.path.sep)\n",
    "root_index = dir_parts.index('ML-B')\n",
    "root_path = os.path.sep.join(dir_parts[:root_index + 1])\n",
    "sys.path.append(root_path + '/code/')\n",
    "from data.data_config import Dataset\n",
    "from data.data_utils import load_monk, load_cup, store_monk_result, store_cup_result\n",
    "from hyperparameter_tuning import grid_search, random_search, tuning_search_top_configs\n",
    "from training.solver import Solver\n",
    "\n",
    "%load_ext autoreload\n",
    "%autoreload 2"
   ]
  },
  {
   "cell_type": "markdown",
   "id": "2c866a15-7062-4d33-a206-2ec35f8643f1",
   "metadata": {
    "tags": []
   },
   "source": [
    "# Neural Networks\n",
    "In this notebook we implement and test a custom (feed-forward) Neural Network w.r.t. the tasks at hand, i.e. the three MONK's problem and the CUP dataset.\n",
    "\n",
    "Specifically:\n",
    "- **get_nn_classifier(...)**: defines the NN classifier for the MONK's problems;\n",
    "- **get_nn_regressor(...)**: defines the NN regressor for the CUP dataset."
   ]
  },
  {
   "cell_type": "markdown",
   "id": "558a076d-71ee-46dc-949f-caa3a3bf2df7",
   "metadata": {
    "tags": []
   },
   "source": [
    "## Settings"
   ]
  },
  {
   "cell_type": "code",
   "execution_count": 8,
   "id": "1fcfe3c3-e764-453e-879e-96937623ab48",
   "metadata": {
    "tags": []
   },
   "outputs": [],
   "source": [
    "MODEL_NAME = 'NN-ADAM'\n",
    "INTERNAL_TEST_SPLIT = 0.1 # internal test split percentage\n",
    "RANDOM_STATE = 128 # reproducibility\n",
    "N_SPLITS = 5 # cross-validation\n",
    "POLY_DEGREE = 3 # polynomial features pre-processing"
   ]
  },
  {
   "cell_type": "markdown",
   "id": "84564330-d564-4700-9865-88576073b71b",
   "metadata": {
    "tags": []
   },
   "source": [
    "## Path"
   ]
  },
  {
   "cell_type": "code",
   "execution_count": 3,
   "id": "0b342ae0-1ef2-4bdb-9128-cd10ac83adf9",
   "metadata": {},
   "outputs": [],
   "source": [
    "# Directories\n",
    "results_dir = root_path + '/results/' + MODEL_NAME\n",
    "\n",
    "# Filepaths (MONK)\n",
    "m1_dev_path, m1_test_path = Dataset.MONK_1.dev_path, Dataset.MONK_1.test_path # MONK 1\n",
    "m2_dev_path, m2_test_path = Dataset.MONK_2.dev_path, Dataset.MONK_2.test_path # MONK 2\n",
    "m3_dev_path, m3_test_path = Dataset.MONK_3.dev_path, Dataset.MONK_3.test_path # MONK 3\n",
    "\n",
    "# Filepaths (CUP)\n",
    "cup_dev_path, cup_test_path = Dataset.CUP.dev_path, Dataset.CUP.test_path"
   ]
  },
  {
   "cell_type": "markdown",
   "id": "859824b9-6c6c-4f09-b4d9-ad5f9c5e2b29",
   "metadata": {
    "jp-MarkdownHeadingCollapsed": true,
    "tags": []
   },
   "source": [
    "# MONK-1"
   ]
  },
  {
   "cell_type": "code",
   "execution_count": 284,
   "id": "905cca8a-3ad3-4f0f-a1d8-8ff6253f962b",
   "metadata": {},
   "outputs": [],
   "source": [
    "# Load MONK-1\n",
    "x_dev_m1, y_dev_m1, x_test_m1, y_test_m1 = load_monk(m1_dev_path, m1_test_path)"
   ]
  },
  {
   "cell_type": "markdown",
   "id": "4ad13309-e6ed-43ce-b6be-b641c3a9f418",
   "metadata": {
    "tags": []
   },
   "source": [
    "## Model"
   ]
  },
  {
   "cell_type": "code",
   "execution_count": 285,
   "id": "8787a40f-87d1-45e9-b24d-90b45367ab60",
   "metadata": {
    "tags": []
   },
   "outputs": [],
   "source": [
    "def get_nn_classifier(hparams):\n",
    "    initializer = GlorotUniform(seed=RANDOM_STATE) # Glorot (Xavier)\n",
    "    \n",
    "    model = Sequential([\n",
    "        Dense(\n",
    "            hparams['h_dim'], \n",
    "            activation='tanh', \n",
    "            input_shape=(17,), \n",
    "            kernel_initializer=initializer),\n",
    "        Dense(1, activation='sigmoid', kernel_regularizer=l2(hparams['reg']))\n",
    "    ])\n",
    "    \n",
    "    optimizer = Adam(learning_rate=hparams['lr'], beta_1=hparams['beta_1'], beta_2=hparams['beta_2'])\n",
    "    model.compile(optimizer=optimizer, loss='mse', metrics=['accuracy'])\n",
    "    \n",
    "    model.hparams = hparams\n",
    "    return model"
   ]
  },
  {
   "cell_type": "markdown",
   "id": "eae5a366-1520-4768-a26e-f461426e2393",
   "metadata": {
    "tags": []
   },
   "source": [
    "## Training - Testing"
   ]
  },
  {
   "cell_type": "code",
   "execution_count": null,
   "id": "156513a3-6ad0-40df-99ff-12670c23168d",
   "metadata": {},
   "outputs": [],
   "source": [
    "model_m1 = get_nn_classifier(hparams={'lr': 0.3, 'h_dim': 4, 'reg': 0, 'beta_1': 0.9, 'beta_2': 0.9})\n",
    "solver = Solver(model_m1, x_dev_m1, y_dev_m1, x_test_m1, y_test_m1, target='loss')\n",
    "solver.train(epochs=300, patience=None, batch_size=len(x_dev_m1))"
   ]
  },
  {
   "cell_type": "code",
   "execution_count": null,
   "id": "10b222ca-ff80-475e-b63e-85b4ebdc4301",
   "metadata": {},
   "outputs": [],
   "source": [
    "solver.plot_history(results_dir + '/MONK1/history', 'MSE', 'Accuracy')"
   ]
  },
  {
   "cell_type": "code",
   "execution_count": 20,
   "id": "79ac744c-68b2-412d-ae72-cc3126fd83d0",
   "metadata": {},
   "outputs": [
    {
     "name": "stdout",
     "output_type": "stream",
     "text": [
      "-- DEVELOPMENT --\n",
      "4/4 [==============================] - 0s 2ms/step - loss: 4.2429e-08 - accuracy: 1.0000 - mse: 2.2413e-15\n",
      "Loss (BCE): 0.0000 - Accuracy: 1.0000 - MSE: 0.0000\n"
     ]
    }
   ],
   "source": [
    "print('-- DEVELOPMENT --')\n",
    "mse_dev_m1, acc_dev_m1 = model_m1.evaluate(x_dev_m1, y_dev_m1)\n",
    "print(f'Accuracy: {acc_dev_m1:.4f} - MSE: {mse_dev_m1:.4f}')"
   ]
  },
  {
   "cell_type": "code",
   "execution_count": 21,
   "id": "38e328d0-7a8e-463d-b9f3-0b2bdd3700c9",
   "metadata": {},
   "outputs": [
    {
     "name": "stdout",
     "output_type": "stream",
     "text": [
      "-- TEST --\n",
      "14/14 [==============================] - 0s 2ms/step - loss: 6.5249e-08 - accuracy: 1.0000 - mse: 2.2121e-13\n",
      "Loss (BCE): 0.0000 - Accuracy: 1.0000 - MSE: 0.0000\n"
     ]
    }
   ],
   "source": [
    "print('-- TEST --')\n",
    "mse_test_m1, acc_test_m1 = model_m1.evaluate(x_test_m1, y_test_m1)\n",
    "print(f'Accuracy: {acc_test_m1:.4f} - MSE: {mse_test_m1:.4f}')"
   ]
  },
  {
   "cell_type": "markdown",
   "id": "5d9a9e02-7de5-4fe0-8b53-5d7e98839b89",
   "metadata": {
    "tags": []
   },
   "source": [
    "## Store results"
   ]
  },
  {
   "cell_type": "code",
   "execution_count": 22,
   "id": "523b49cf-3f01-496d-a99a-d7bded86f22d",
   "metadata": {},
   "outputs": [],
   "source": [
    "report_m1 = {\n",
    "    'dev': {'accuracy': acc_dev_m1, 'mse': mse_dev_m1},\n",
    "    'test': {'accuracy': acc_test_m1, 'mse': mse_test_m1}\n",
    "}\n",
    "\n",
    "store_monk_result(results_dir + '/MONK1/', model_m1.hparams, report_m1)"
   ]
  },
  {
   "cell_type": "markdown",
   "id": "b216aed0-5ba0-4816-a889-a3be455e73c9",
   "metadata": {
    "jp-MarkdownHeadingCollapsed": true,
    "tags": []
   },
   "source": [
    "# MONK-2"
   ]
  },
  {
   "cell_type": "code",
   "execution_count": 24,
   "id": "b9efe875-d6ff-42c0-b719-85a47a5855b3",
   "metadata": {},
   "outputs": [],
   "source": [
    "# Load MONK-2\n",
    "x_dev_m2, y_dev_m2, x_test_m2, y_test_m2 = load_monk(m2_dev_path, m2_test_path)"
   ]
  },
  {
   "cell_type": "markdown",
   "id": "dd0f49c0-396e-4904-909a-7b2c01076bad",
   "metadata": {
    "tags": []
   },
   "source": [
    "## Training - Testing"
   ]
  },
  {
   "cell_type": "code",
   "execution_count": null,
   "id": "37344b75-75aa-413a-8544-48beb5591d5b",
   "metadata": {},
   "outputs": [],
   "source": [
    "model_m2 = get_nn_classifier(hparams={'lr': 0.3, 'h_dim': 4, 'reg': 0, 'beta_1': 0.9, 'beta_2': 0.9})\n",
    "solver = Solver(model_m2, x_dev_m2, y_dev_m2, target='loss')\n",
    "solver.train(epochs=300, patience=None, batch_size=len(x_dev_m2))"
   ]
  },
  {
   "cell_type": "code",
   "execution_count": null,
   "id": "ded1aee3-c232-4f80-a3eb-c363aa7de7bc",
   "metadata": {},
   "outputs": [],
   "source": [
    "solver.plot_history(results_dir + '/MONK2/history', 'MSE', 'Accuracy')"
   ]
  },
  {
   "cell_type": "code",
   "execution_count": 26,
   "id": "4f52af39-5893-4dcf-bdf2-8703c6e202fb",
   "metadata": {},
   "outputs": [
    {
     "name": "stdout",
     "output_type": "stream",
     "text": [
      "-- DEVELOPMENT --\n",
      "6/6 [==============================] - 0s 3ms/step - loss: 2.9529e-06 - accuracy: 1.0000 - mse: 9.2162e-12\n",
      "Loss (BCE): 0.0000 - Accuracy: 1.0000 - MSE: 0.0000\n"
     ]
    }
   ],
   "source": [
    "print('-- DEVELOPMENT --')\n",
    "mse_dev_m2, acc_dev_m2 = model_m2.evaluate(x_dev_m2, y_dev_m2)\n",
    "print(f'Accuracy: {acc_dev_m2:.4f} - MSE: {mse_dev_m2:.4f}')"
   ]
  },
  {
   "cell_type": "code",
   "execution_count": 27,
   "id": "19bc4807-03c1-421c-bc8a-a7b2154e6236",
   "metadata": {},
   "outputs": [
    {
     "name": "stdout",
     "output_type": "stream",
     "text": [
      "-- TEST --\n",
      "14/14 [==============================] - 0s 2ms/step - loss: 2.9677e-06 - accuracy: 1.0000 - mse: 9.6690e-12\n",
      "Loss (BCE): 0.0000 - Accuracy: 1.0000 - MSE: 0.0000\n"
     ]
    }
   ],
   "source": [
    "print('-- TEST --')\n",
    "mse_test_m2, acc_test_m2 = model_m2.evaluate(x_test_m2, y_test_m2)\n",
    "print(f'Accuracy: {acc_test_m2:.4f} - MSE: {mse_test_m2:.4f}')"
   ]
  },
  {
   "cell_type": "markdown",
   "id": "284ca457-cb8a-48d7-9c9e-4e9d473efe3a",
   "metadata": {},
   "source": [
    "## Store results"
   ]
  },
  {
   "cell_type": "code",
   "execution_count": 28,
   "id": "569ead2f-5368-4648-b36c-73f9aa69b268",
   "metadata": {},
   "outputs": [],
   "source": [
    "report_m2 = {\n",
    "    'dev': {'accuracy': acc_dev_m2, 'mse': mse_dev_m2},\n",
    "    'test': {'accuracy': acc_test_m2, 'mse': mse_test_m2}\n",
    "}\n",
    "\n",
    "store_monk_result(results_dir + '/MONK2/', model_m2.hparams, report_m2)"
   ]
  },
  {
   "cell_type": "markdown",
   "id": "fcc48b71-c462-4d78-a2cd-f3a4102e5b4a",
   "metadata": {
    "jp-MarkdownHeadingCollapsed": true,
    "tags": []
   },
   "source": [
    "# MONK-3 (no regularization)"
   ]
  },
  {
   "cell_type": "code",
   "execution_count": 178,
   "id": "ac51bbd4-fdca-48cc-8c47-17eb4254af74",
   "metadata": {},
   "outputs": [],
   "source": [
    "# Load MONK-3\n",
    "x_dev_m3, y_dev_m3, x_test_m3, y_test_m3 = load_monk(m3_dev_path, m3_test_path)"
   ]
  },
  {
   "cell_type": "markdown",
   "id": "8e1e7196-0baf-459c-8f8b-df9119d32eb6",
   "metadata": {},
   "source": [
    "## Training - Testing"
   ]
  },
  {
   "cell_type": "code",
   "execution_count": null,
   "id": "c57949d3-b8f0-4717-a28d-9e527a0ad986",
   "metadata": {},
   "outputs": [],
   "source": [
    "model_m3 = get_nn_classifier(hparams={'lr': 0.5, 'h_dim': 4, 'reg': 0,  'beta_1': 0.9, 'beta_2': 0.9})\n",
    "solver = Solver(model_m3, x_dev_m3, y_dev_m3, target='loss')\n",
    "solver.train(epochs=300, patience=None, batch_size=len(x_dev_m3))"
   ]
  },
  {
   "cell_type": "code",
   "execution_count": null,
   "id": "0d28098b-fe70-4b75-9142-f2e2c8e74404",
   "metadata": {},
   "outputs": [],
   "source": [
    "solver.plot_history(results_dir + '/MONK3/history', 'MSE', 'Accuracy')"
   ]
  },
  {
   "cell_type": "code",
   "execution_count": 199,
   "id": "1733829b-b685-474e-b51b-fa653c757c68",
   "metadata": {},
   "outputs": [
    {
     "name": "stdout",
     "output_type": "stream",
     "text": [
      "-- DEVELOPMENT --\n",
      "4/4 [==============================] - 0s 2ms/step - loss: 0.0515 - accuracy: 0.9836 - mse: 0.0146\n",
      "Loss (BCE): 0.0515 - Accuracy: 0.9836 - MSE: 0.0146\n"
     ]
    }
   ],
   "source": [
    "print('-- DEVELOPMENT --')\n",
    "mse_dev_m3, acc_dev_m3 = model_m3.evaluate(x_dev_m3, y_dev_m3)\n",
    "print(f'Accuracy: {acc_dev_m3:.4f} - MSE: {mse_dev_m3:.4f}')"
   ]
  },
  {
   "cell_type": "code",
   "execution_count": 200,
   "id": "628cf725-1bc8-4e20-949c-502c7863a801",
   "metadata": {},
   "outputs": [
    {
     "name": "stdout",
     "output_type": "stream",
     "text": [
      "-- TEST --\n",
      "14/14 [==============================] - 0s 1ms/step - loss: 0.4151 - accuracy: 0.9144 - mse: 0.0704\n",
      "Loss (BCE): 0.4151 - Accuracy: 0.9144 - MSE: 0.0704\n"
     ]
    }
   ],
   "source": [
    "print('-- TEST --')\n",
    "mse_test_m3, acc_test_m3 = model_m3.evaluate(x_test_m3, y_test_m3)\n",
    "print(f'Accuracy: {acc_test_m3:.4f} - MSE: {mse_test_m3:.4f}')"
   ]
  },
  {
   "cell_type": "markdown",
   "id": "86cf13d3-919d-400d-ba43-f5a3f9f2d5f6",
   "metadata": {},
   "source": [
    "## Store results"
   ]
  },
  {
   "cell_type": "code",
   "execution_count": 201,
   "id": "ed086e45-cc54-4581-a75a-c27ee7720155",
   "metadata": {},
   "outputs": [],
   "source": [
    "report_m3 = {\n",
    "    'dev': {'accuracy': acc_dev_m3, 'mse': mse_dev_m3},\n",
    "    'test': {'accuracy': acc_test_m3, 'mse': mse_test_m3}\n",
    "}\n",
    "\n",
    "store_monk_result(results_dir + '/MONK3/', model_m3.hparams, report_m3)"
   ]
  },
  {
   "cell_type": "markdown",
   "id": "aea2e408-6d1b-4c43-b70b-c4fec0da831d",
   "metadata": {
    "jp-MarkdownHeadingCollapsed": true,
    "tags": []
   },
   "source": [
    "# MONK-3 (with regularization)\n",
    "MONK3 when setting some regularization value"
   ]
  },
  {
   "cell_type": "markdown",
   "id": "bef02d30-2efb-4f50-9f4c-c097cb021264",
   "metadata": {},
   "source": [
    "## Training - Testing"
   ]
  },
  {
   "cell_type": "code",
   "execution_count": null,
   "id": "0fd530d6-28ff-4dca-8616-33a16fae5c73",
   "metadata": {},
   "outputs": [],
   "source": [
    "model_m3_reg = get_nn_classifier(hparams={'lr': 0.3, 'h_dim': 4, 'reg': 0.01, 'beta_1': 0.9, 'beta_2': 0.9})\n",
    "solver = Solver(model_m3_reg, x_dev_m3, y_dev_m3, target='accuracy')\n",
    "solver.train(epochs=300, patience=None, batch_size=len(x_dev_m3))"
   ]
  },
  {
   "cell_type": "code",
   "execution_count": null,
   "id": "79b597b3-6134-4456-8440-c463ef84eeba",
   "metadata": {},
   "outputs": [],
   "source": [
    "solver.plot_history(results_dir + '/MONK3-reg/history', 'MSE', 'Accuracy')"
   ]
  },
  {
   "cell_type": "code",
   "execution_count": 176,
   "id": "e89050a9-a2d0-4a50-9ba1-8839be3bc549",
   "metadata": {},
   "outputs": [
    {
     "name": "stdout",
     "output_type": "stream",
     "text": [
      "-- DEVELOPMENT --\n",
      "4/4 [==============================] - 0s 3ms/step - loss: 0.0311 - accuracy: 0.9918 - mse: 0.0078\n",
      "Loss (BCE): 0.0311 - Accuracy: 0.9918 - MSE: 0.0078\n"
     ]
    }
   ],
   "source": [
    "print('-- DEVELOPMENT --')\n",
    "mse_dev_m3_reg, acc_dev_m3_reg = model_m3_reg.evaluate(x_dev_m3, y_dev_m3)\n",
    "print(f'Accuracy: {acc_dev_m3_reg:.4f} - MSE: {mse_dev_m3_reg:.4f}')"
   ]
  },
  {
   "cell_type": "code",
   "execution_count": 37,
   "id": "47b7771d-67c6-433f-b0ef-da8f41c7fc82",
   "metadata": {},
   "outputs": [
    {
     "name": "stdout",
     "output_type": "stream",
     "text": [
      "-- TEST --\n",
      "14/14 [==============================] - 0s 1ms/step - loss: 0.1717 - accuracy: 0.9792 - mse: 0.0198\n",
      "Loss (BCE): 0.1717 - Accuracy: 0.9792 - MSE: 0.0198\n"
     ]
    }
   ],
   "source": [
    "print('-- TEST --')\n",
    "mse_test_m3, acc_test_m3_reg = model_m3.evaluate(x_test_m3, y_test_m3)\n",
    "print(f'Accuracy: {acc_test_m3:.4f} - MSE: {mse_test_m3:.4f}')"
   ]
  },
  {
   "cell_type": "markdown",
   "id": "bb110c7d-e148-4c70-9be3-e43803d20f10",
   "metadata": {},
   "source": [
    "## Store results"
   ]
  },
  {
   "cell_type": "code",
   "execution_count": null,
   "id": "3f77e7d4-97a9-4ceb-87d0-a4a2a0f0f781",
   "metadata": {},
   "outputs": [],
   "source": [
    "report_m3_reg = {\n",
    "    'dev': {'accuracy': acc_dev_m3_reg, 'mse': mse_dev_m3_reg},\n",
    "    'test': {'accuracy': acc_test_m3_reg, 'mse': mse_test_m3_reg}\n",
    "}\n",
    "\n",
    "store_monk_result(results_dir + '/MONK3-reg/', model_m3_reg.hparams, report_m3_reg)"
   ]
  },
  {
   "cell_type": "markdown",
   "id": "007f6603-97eb-4bf3-ae71-b1a62be020bd",
   "metadata": {
    "tags": []
   },
   "source": [
    "# CUP"
   ]
  },
  {
   "cell_type": "code",
   "execution_count": 4,
   "id": "1ec7e3ff-908a-480a-bc16-bd7a020f41f6",
   "metadata": {},
   "outputs": [],
   "source": [
    "# Load CUP\n",
    "x_dev_cup, y_dev_cup, x_test_cup = load_cup(cup_dev_path, cup_test_path)"
   ]
  },
  {
   "cell_type": "code",
   "execution_count": 5,
   "id": "1274b55b-f97f-48d0-8d4c-8afa1c001b20",
   "metadata": {},
   "outputs": [],
   "source": [
    "def mean_euclidean_error(y_true: np.ndarray, y_pred: np.ndarray):\n",
    "    \"\"\"\n",
    "    Utility function to compute the Mean Euclidean Error (MEE) between \n",
    "    true and predicted values for a tensorflow model. \n",
    "    Return the MEE score as a tensor.\n",
    "\n",
    "    Required arguments:\n",
    "    - y_true: array containing true values (ground truth).\n",
    "    - y_pred: array containing predicted values.\n",
    "    \"\"\"\n",
    "    return tf.reduce_mean(tf.sqrt(tf.reduce_sum(tf.square(y_pred - y_true), axis=-1)))"
   ]
  },
  {
   "cell_type": "markdown",
   "id": "d24ae8aa-990f-4b6d-a301-186c83d60e1e",
   "metadata": {},
   "source": [
    "## Train-Val + Internal Test Split \n",
    "First, the development data is split between training and internal test ($90-10$). Then, the training data is further split between training and validation so that the final split is exactly $80-10-10$, for training, validation and internal test sets."
   ]
  },
  {
   "cell_type": "code",
   "execution_count": 6,
   "id": "371a0d14-f694-4424-a2f8-f497f42203e9",
   "metadata": {},
   "outputs": [],
   "source": [
    "# Split dev data into train - internal test\n",
    "x_train_cup, x_internal_test_cup, y_train_cup, y_internal_test_cup = train_test_split(\n",
    "    x_dev_cup, \n",
    "    y_dev_cup, \n",
    "    test_size=INTERNAL_TEST_SPLIT, \n",
    "    random_state=128\n",
    ")"
   ]
  },
  {
   "cell_type": "markdown",
   "id": "16de9dfd-8491-48f1-a56d-927498a0e0eb",
   "metadata": {},
   "source": [
    "We create a version of our dataset to which PolynoMialFeatures pre-processing is applied with a fixed degree."
   ]
  },
  {
   "cell_type": "code",
   "execution_count": 10,
   "id": "cee2280b-3db2-466e-a970-f89845e43551",
   "metadata": {},
   "outputs": [],
   "source": [
    "# Polynomial features pre-processing\n",
    "poly = PolynomialFeatures(degree=POLY_DEGREE) # Polynomial features pre-processing\n",
    "x_train_cup_poly = poly.fit_transform(x_train_cup)\n",
    "x_internal_test_cup_poly = poly.transform(x_internal_test_cup)"
   ]
  },
  {
   "cell_type": "markdown",
   "id": "11d14979-19ac-4d82-86a2-d7c8e2aedf9d",
   "metadata": {
    "tags": []
   },
   "source": [
    "# NN-Adam (mb)"
   ]
  },
  {
   "cell_type": "code",
   "execution_count": 13,
   "id": "8a02535f-4286-4ebb-93d3-02e32e1c5d0b",
   "metadata": {},
   "outputs": [],
   "source": [
    "def get_nn_adam_regressor(hparams: dict, in_dim: int):\n",
    "    if hparams['activation'] == 'tanh':\n",
    "        initializer = GlorotUniform(seed=RANDOM_STATE) # Glorot (Xavier)\n",
    "        bias_initializer = Zeros()\n",
    "    elif hparams['activation'] == 'ReLU':\n",
    "        initializer = HeNormal(seed=RANDOM_STATE) # He (Kaiming)\n",
    "        bias_initializer = Constant(0.1)\n",
    "        \n",
    "    reg = l2(hparams['reg'])\n",
    "        \n",
    "    model = Sequential()\n",
    "    model.add(Dense(\n",
    "        hparams['h_dim'], \n",
    "        activation=hparams['activation'], \n",
    "        input_shape=(in_dim,), \n",
    "        kernel_regularizer=l2(hparams['reg']),\n",
    "        kernel_initializer=initializer,\n",
    "        bias_initializer=bias_initializer))\n",
    "\n",
    "\n",
    "    h_dim = hparams['h_dim']\n",
    "    for i in range(hparams['n_layers'] - 1):\n",
    "        model.add(\n",
    "            Dense(\n",
    "                h_dim, \n",
    "                activation=hparams['activation'],\n",
    "                kernel_regularizer=l2(hparams['reg']),\n",
    "                kernel_initializer=initializer,\n",
    "                bias_initializer=bias_initializer))\n",
    "        h_dim //= 2\n",
    "\n",
    "\n",
    "    model.add(Dense(\n",
    "        3, \n",
    "        activation='linear', \n",
    "        kernel_regularizer=l2(hparams['reg']), \n",
    "        kernel_initializer=initializer,\n",
    "        bias_initializer=bias_initializer))\n",
    "    \n",
    "    optimizer = Adam(\n",
    "        learning_rate=hparams['lr'],\n",
    "        beta_1=hparams['beta_1'], \n",
    "        beta_2=hparams['beta_2'])\n",
    "    model.compile(optimizer=optimizer, loss='mse', metrics=[mean_euclidean_error])\n",
    "    return model"
   ]
  },
  {
   "cell_type": "markdown",
   "id": "de6a8833-8e33-4b68-938c-3eee6f2d179f",
   "metadata": {
    "jp-MarkdownHeadingCollapsed": true,
    "tags": []
   },
   "source": [
    "## Hyper-parameters Tuning\n",
    "A common approach is to start with a coarse search across a wide range of values to find promising sub-ranges of our parameter space. Then, you would zoom into these ranges and perform another search to fine-tune the configurations.\n",
    "\n",
    "Here, we proceed as follows:\n",
    "1. (coarse) Grid-search across a wide range of hyper-paramaters and values;\n",
    "2. (fine-tune) Random-search into zoomed intervals w.r.t. best configuration found by grid-search.\n",
    "\n",
    "Then, we perform a single run of grid-search and random-search with the respectively best configurations while taking into account a PolynomialFeatures pre-processing with fixed degree. The best configurations that will be used for final re-training and evaluation on internal test is the one with the best mean MEE on the validation cross-validation.\n",
    "\n",
    "Note that, tuning of the polynomial degree wasn't performed because it would be very expensive. Thus, we simply decided to use a fixed degree value."
   ]
  },
  {
   "cell_type": "markdown",
   "id": "ecc749ab-1dde-4023-8369-0653c7f695fe",
   "metadata": {
    "tags": []
   },
   "source": [
    "### Grid Search"
   ]
  },
  {
   "cell_type": "code",
   "execution_count": 43,
   "id": "ab61da62-27b3-4a5e-9739-892cf8bd4205",
   "metadata": {},
   "outputs": [],
   "source": [
    "grid_search_spaces_cup = {\n",
    "    'lr': [0.0001, 0.0005, 0.001],\n",
    "    'n_layers': [2, 3],\n",
    "    'h_dim': [32, 64, 128],\n",
    "    'activation': ['tanh'],\n",
    "    'reg': [0.01, 0.001],\n",
    "    'beta_1': [0.8, 0.9],\n",
    "    'beta_2': [0.9, 0.95, 0.99],\n",
    "    'batch_size': [32, 64, 128],\n",
    "}"
   ]
  },
  {
   "cell_type": "code",
   "execution_count": null,
   "id": "366388a7-721c-42a5-aed9-d6121f075e76",
   "metadata": {},
   "outputs": [],
   "source": [
    "# Grid search (coarse)\n",
    "best_model_coarse, best_config_coarse, results_coarse = grid_search(\n",
    "    get_nn_adam_regressor, \n",
    "    x_train_cup,\n",
    "    y_train_cup,\n",
    "    grid_search_spaces_cup, \n",
    "    target='mean_euclidean_error', \n",
    "    N_SPLITS=N_SPLITS,\n",
    "    EPOCHS=800, \n",
    "    PATIENCE=50\n",
    ")"
   ]
  },
  {
   "cell_type": "markdown",
   "id": "1815dd66-dba9-404a-a400-0509096bb571",
   "metadata": {
    "tags": []
   },
   "source": [
    "### Random Search"
   ]
  },
  {
   "cell_type": "code",
   "execution_count": null,
   "id": "06c1cf37-0020-40e4-ae34-803e74a2c9d2",
   "metadata": {},
   "outputs": [],
   "source": [
    "# set new intervals for fine-tune random search\n",
    "lr = best_config_coarse['lr']\n",
    "n_layers = best_config_coarse['n_layers']\n",
    "h_dim = best_config_coarse['h_dim']\n",
    "activation = best_config_coarse['activation']\n",
    "reg = best_config_coarse['reg']\n",
    "beta_1 = best_config_coarse['beta_1']\n",
    "beta_2 = best_config_coarse['beta_2']\n",
    "batch_size = best_config_coarse['batch_size']"
   ]
  },
  {
   "cell_type": "code",
   "execution_count": 45,
   "id": "71b5093f-d692-4bcd-bf5d-02869f261ff4",
   "metadata": {},
   "outputs": [],
   "source": [
    "\"\"\"\n",
    "epsilon = 0.2\n",
    "random_search_spaces_cup = {\n",
    "    'lr': ([10 ** (np.log10(lr) - epsilon), 10 ** (np.log10(lr) + epsilon)], 'float'),\n",
    "    'n_layers': ([n_layers], 'item'),\n",
    "    'h_dim': ([h_dim - 20, h_dim + 20], 'item'),\n",
    "    'activation': ([activation], 'item'),\n",
    "    'reg': ([10 ** (np.log10(reg) - epsilon), 10 ** (np.log10(reg) + epsilon)], 'float'),\n",
    "    'beta_1': ([10 ** (np.log10(beta_1) - epsilon), 10 ** (np.log10(beta_1) + epsilon)], 'float'),\n",
    "    'beta_2': ([10 ** (np.log10(beta_2) - epsilon), 10 ** (np.log10(beta_2) + epsilon)], 'float'),\n",
    "    'batch_size': ([batch_size], 'item'),\n",
    "}\n",
    "\"\"\"\n",
    "\n",
    "random_search_spaces_cup = {\n",
    "    'lr': ([0.001], 'item'),\n",
    "    'n_layers': ([2], 'item'),\n",
    "    'h_dim': ([64], 'item'),\n",
    "    'activation': (['tanh'], 'item'),\n",
    "    'reg': ([0.001], 'item'),\n",
    "    'beta_1': ([0.95], 'item'),\n",
    "    'beta_2': ([0.95], 'item'),\n",
    "    'batch_size': ([32], 'item'),\n",
    "}"
   ]
  },
  {
   "cell_type": "code",
   "execution_count": null,
   "id": "ea7f8061-fc4a-42b7-863b-3080e2a82009",
   "metadata": {},
   "outputs": [],
   "source": [
    "# Random search (fine-tune)\n",
    "best_model_finetune, best_config_finetune, results_finetune = random_search(\n",
    "    get_nn_adam_regressor, \n",
    "    x_train_cup,\n",
    "    y_train_cup,\n",
    "    random_search_spaces_cup, \n",
    "    target='mean_euclidean_error', \n",
    "    N_SPLITS=N_SPLITS,\n",
    "    NUM_SEARCH=20,\n",
    "    EPOCHS=800, \n",
    "    PATIENCE=50\n",
    ")"
   ]
  },
  {
   "cell_type": "markdown",
   "id": "b44a62d4-1ac7-421c-844d-81db28b83ab7",
   "metadata": {
    "tags": []
   },
   "source": [
    "### Save tuning results"
   ]
  },
  {
   "cell_type": "code",
   "execution_count": null,
   "id": "4d8ec3f7-d0f7-45e9-894d-32a8d5a08648",
   "metadata": {},
   "outputs": [],
   "source": [
    "mee_coarse = best_config_coarse['mean_euclidean_error']\n",
    "mee_finetune = best_config_finetune['mean_euclidean_error']\n",
    "\n",
    "best_config_cup = best_config_finetune if mee_finetune < mee_coarse else best_config_coarse"
   ]
  },
  {
   "cell_type": "code",
   "execution_count": null,
   "id": "03c1a54e-8ba2-46b0-ae8d-dfd92473f77a",
   "metadata": {},
   "outputs": [],
   "source": [
    "# Store grid-search\n",
    "best_config_coarse['n_layers'] = int(best_config_coarse['n_layers'])\n",
    "best_config_coarse['h_dim'] = int(best_config_coarse['h_dim'])\n",
    "best_config_coarse['batch_size'] = int(best_config_coarse['batch_size'])\n",
    "with open(results_dir + '/CUP/grid_search.json', 'w') as outf:\n",
    "    json.dump(best_config_coarse, outf, indent=4)\n",
    "    \n",
    "# Store random-search\n",
    "best_config_finetune['n_layers'] = int(best_config_finetune['n_layers'])\n",
    "best_config_finetune['h_dim'] = int(best_config_finetune['h_dim'])\n",
    "best_config_finetune['batch_size'] = int(best_config_finetune['batch_size'])\n",
    "with open(results_dir + '/CUP/random_search.json', 'w') as outf:\n",
    "    json.dump(best_config_finetune, outf, indent=4)"
   ]
  },
  {
   "cell_type": "markdown",
   "id": "e0f830e9-1e7e-4d77-80d8-1a73a6ca3eed",
   "metadata": {},
   "source": [
    "## Training"
   ]
  },
  {
   "cell_type": "code",
   "execution_count": 14,
   "id": "69f520c8-2397-44c4-a23e-884fc11f6ec7",
   "metadata": {},
   "outputs": [],
   "source": [
    "best_config_cup = {\n",
    "    'lr': 0.00026, \n",
    "    'n_layers': 3, \n",
    "    'h_dim': 128, \n",
    "    'activation': 'tanh', \n",
    "    'reg': 0.001, \n",
    "    'beta_1': 0.87, \n",
    "    'beta_2': 0.96, \n",
    "    'batch_size': 32,\n",
    "}"
   ]
  },
  {
   "cell_type": "code",
   "execution_count": 15,
   "id": "6dbdda99-85f8-471c-8155-56f3faac6c15",
   "metadata": {},
   "outputs": [],
   "source": [
    "def warmup_lr(epoch, lr):\n",
    "    \"\"\"Defines a warm-up learning rate approach to speed-up convergence.\"\"\"\n",
    "    \n",
    "    warmup_epochs = 10  # number of epochs for the warm-up\n",
    "    base_lr = best_config_cup['lr'] # desired learning rate\n",
    "    initial_lr = 0.01  # starting learning rate\n",
    "\n",
    "    if epoch < warmup_epochs:\n",
    "        # Linearly decrease learning rate\n",
    "        lr = initial_lr + (base_lr - initial_lr) * epoch / warmup_epochs\n",
    "    else:\n",
    "        # keep the learning rate constant after warm-up\n",
    "        lr = base_lr\n",
    "\n",
    "    return lr\n",
    "    \n",
    "lr_scheduler = LearningRateScheduler(warmup_lr)"
   ]
  },
  {
   "cell_type": "code",
   "execution_count": 27,
   "id": "045a131f-64ea-42ad-bf40-27750acb17b9",
   "metadata": {},
   "outputs": [
    {
     "name": "stdout",
     "output_type": "stream",
     "text": [
      "Epoch 1/800\n",
      "29/29 [==============================] - 1s 8ms/step - loss: 443.8029 - mean_euclidean_error: 30.6593 - val_loss: 209.6637 - val_mean_euclidean_error: 20.6206 - lr: 0.0100\n",
      "Epoch 2/800\n",
      "29/29 [==============================] - 0s 3ms/step - loss: 209.4566 - mean_euclidean_error: 20.2114 - val_loss: 103.6704 - val_mean_euclidean_error: 15.0109 - lr: 0.0090\n",
      "Epoch 3/800\n",
      "29/29 [==============================] - 0s 3ms/step - loss: 110.5721 - mean_euclidean_error: 15.3434 - val_loss: 56.9672 - val_mean_euclidean_error: 11.7919 - lr: 0.0081\n",
      "Epoch 4/800\n",
      "29/29 [==============================] - 0s 3ms/step - loss: 61.8481 - mean_euclidean_error: 11.6567 - val_loss: 34.6046 - val_mean_euclidean_error: 9.1999 - lr: 0.0071\n",
      "Epoch 5/800\n",
      "29/29 [==============================] - 0s 3ms/step - loss: 35.2737 - mean_euclidean_error: 8.7244 - val_loss: 20.1151 - val_mean_euclidean_error: 6.9236 - lr: 0.0061\n",
      "Epoch 6/800\n",
      "29/29 [==============================] - 0s 3ms/step - loss: 21.8265 - mean_euclidean_error: 6.5254 - val_loss: 15.0116 - val_mean_euclidean_error: 5.8628 - lr: 0.0051\n",
      "Epoch 7/800\n",
      "29/29 [==============================] - 0s 3ms/step - loss: 15.5485 - mean_euclidean_error: 5.4795 - val_loss: 10.8395 - val_mean_euclidean_error: 4.5701 - lr: 0.0042\n",
      "Epoch 8/800\n",
      "29/29 [==============================] - 0s 3ms/step - loss: 11.0578 - mean_euclidean_error: 4.3653 - val_loss: 8.0772 - val_mean_euclidean_error: 3.5518 - lr: 0.0032\n",
      "Epoch 9/800\n",
      "29/29 [==============================] - 0s 3ms/step - loss: 8.4092 - mean_euclidean_error: 3.5384 - val_loss: 6.9621 - val_mean_euclidean_error: 3.0832 - lr: 0.0022\n",
      "Epoch 10/800\n",
      "29/29 [==============================] - 0s 3ms/step - loss: 6.9013 - mean_euclidean_error: 3.2084 - val_loss: 6.0334 - val_mean_euclidean_error: 2.5372 - lr: 0.0012\n",
      "Epoch 11/800\n",
      "29/29 [==============================] - 0s 3ms/step - loss: 6.1496 - mean_euclidean_error: 2.7247 - val_loss: 5.5181 - val_mean_euclidean_error: 2.3292 - lr: 2.6000e-04\n",
      "Epoch 12/800\n",
      "29/29 [==============================] - 0s 3ms/step - loss: 5.8728 - mean_euclidean_error: 2.6594 - val_loss: 5.2986 - val_mean_euclidean_error: 2.2417 - lr: 2.6000e-04\n",
      "Epoch 13/800\n",
      "29/29 [==============================] - 0s 3ms/step - loss: 5.6682 - mean_euclidean_error: 2.5460 - val_loss: 5.1041 - val_mean_euclidean_error: 2.2022 - lr: 2.6000e-04\n",
      "Epoch 14/800\n",
      "29/29 [==============================] - 0s 3ms/step - loss: 5.4862 - mean_euclidean_error: 2.4856 - val_loss: 4.8437 - val_mean_euclidean_error: 2.1210 - lr: 2.6000e-04\n",
      "Epoch 15/800\n",
      "29/29 [==============================] - 0s 3ms/step - loss: 5.2954 - mean_euclidean_error: 2.3727 - val_loss: 4.6163 - val_mean_euclidean_error: 2.1068 - lr: 2.6000e-04\n",
      "Epoch 16/800\n",
      "29/29 [==============================] - 0s 3ms/step - loss: 5.1247 - mean_euclidean_error: 2.4337 - val_loss: 4.4081 - val_mean_euclidean_error: 1.9989 - lr: 2.6000e-04\n",
      "Epoch 17/800\n",
      "29/29 [==============================] - 0s 4ms/step - loss: 4.9219 - mean_euclidean_error: 2.3688 - val_loss: 4.2227 - val_mean_euclidean_error: 1.9702 - lr: 2.6000e-04\n",
      "Epoch 18/800\n",
      "29/29 [==============================] - 0s 3ms/step - loss: 4.7635 - mean_euclidean_error: 2.2630 - val_loss: 4.0081 - val_mean_euclidean_error: 1.9724 - lr: 2.6000e-04\n",
      "Epoch 19/800\n",
      "29/29 [==============================] - 0s 3ms/step - loss: 4.6333 - mean_euclidean_error: 2.1538 - val_loss: 3.8843 - val_mean_euclidean_error: 1.8916 - lr: 2.6000e-04\n",
      "Epoch 20/800\n",
      "29/29 [==============================] - 0s 3ms/step - loss: 4.5126 - mean_euclidean_error: 2.1099 - val_loss: 3.7554 - val_mean_euclidean_error: 1.8518 - lr: 2.6000e-04\n",
      "Epoch 21/800\n",
      "29/29 [==============================] - 0s 3ms/step - loss: 4.3926 - mean_euclidean_error: 2.0470 - val_loss: 3.5958 - val_mean_euclidean_error: 1.7922 - lr: 2.6000e-04\n",
      "Epoch 22/800\n",
      "29/29 [==============================] - 0s 3ms/step - loss: 4.2683 - mean_euclidean_error: 2.0110 - val_loss: 3.5522 - val_mean_euclidean_error: 1.8409 - lr: 2.6000e-04\n",
      "Epoch 23/800\n",
      "29/29 [==============================] - 0s 3ms/step - loss: 4.1550 - mean_euclidean_error: 2.1296 - val_loss: 3.4038 - val_mean_euclidean_error: 1.8285 - lr: 2.6000e-04\n",
      "Epoch 24/800\n",
      "29/29 [==============================] - 0s 3ms/step - loss: 4.0148 - mean_euclidean_error: 1.9293 - val_loss: 3.3109 - val_mean_euclidean_error: 1.7909 - lr: 2.6000e-04\n",
      "Epoch 25/800\n",
      "29/29 [==============================] - 0s 3ms/step - loss: 3.8865 - mean_euclidean_error: 1.8509 - val_loss: 3.1603 - val_mean_euclidean_error: 1.6999 - lr: 2.6000e-04\n",
      "Epoch 26/800\n",
      "29/29 [==============================] - 0s 3ms/step - loss: 3.7779 - mean_euclidean_error: 1.7687 - val_loss: 3.0642 - val_mean_euclidean_error: 1.6636 - lr: 2.6000e-04\n",
      "Epoch 27/800\n",
      "29/29 [==============================] - 0s 3ms/step - loss: 3.6622 - mean_euclidean_error: 1.7333 - val_loss: 3.0703 - val_mean_euclidean_error: 1.6790 - lr: 2.6000e-04\n",
      "Epoch 28/800\n",
      "29/29 [==============================] - 0s 3ms/step - loss: 3.5488 - mean_euclidean_error: 1.7129 - val_loss: 2.9777 - val_mean_euclidean_error: 1.6505 - lr: 2.6000e-04\n",
      "Epoch 29/800\n",
      "29/29 [==============================] - 0s 3ms/step - loss: 3.4372 - mean_euclidean_error: 1.6541 - val_loss: 2.8797 - val_mean_euclidean_error: 1.5870 - lr: 2.6000e-04\n",
      "Epoch 30/800\n",
      "29/29 [==============================] - 0s 3ms/step - loss: 3.3126 - mean_euclidean_error: 1.6419 - val_loss: 2.8386 - val_mean_euclidean_error: 1.5522 - lr: 2.6000e-04\n",
      "Epoch 31/800\n",
      "29/29 [==============================] - 0s 3ms/step - loss: 3.2017 - mean_euclidean_error: 1.6828 - val_loss: 2.7286 - val_mean_euclidean_error: 1.5015 - lr: 2.6000e-04\n",
      "Epoch 32/800\n",
      "29/29 [==============================] - 0s 3ms/step - loss: 3.0964 - mean_euclidean_error: 1.5221 - val_loss: 2.6820 - val_mean_euclidean_error: 1.4902 - lr: 2.6000e-04\n",
      "Epoch 33/800\n",
      "29/29 [==============================] - 0s 3ms/step - loss: 3.0306 - mean_euclidean_error: 1.4922 - val_loss: 2.5750 - val_mean_euclidean_error: 1.4266 - lr: 2.6000e-04\n",
      "Epoch 34/800\n",
      "29/29 [==============================] - 0s 3ms/step - loss: 2.9297 - mean_euclidean_error: 1.4187 - val_loss: 2.5452 - val_mean_euclidean_error: 1.4475 - lr: 2.6000e-04\n",
      "Epoch 35/800\n",
      "29/29 [==============================] - 0s 3ms/step - loss: 2.8491 - mean_euclidean_error: 1.3932 - val_loss: 2.4293 - val_mean_euclidean_error: 1.4034 - lr: 2.6000e-04\n",
      "Epoch 36/800\n",
      "29/29 [==============================] - 0s 3ms/step - loss: 2.7706 - mean_euclidean_error: 1.3729 - val_loss: 2.3879 - val_mean_euclidean_error: 1.3706 - lr: 2.6000e-04\n",
      "Epoch 37/800\n",
      "29/29 [==============================] - 0s 3ms/step - loss: 2.6928 - mean_euclidean_error: 1.3269 - val_loss: 2.3057 - val_mean_euclidean_error: 1.3419 - lr: 2.6000e-04\n",
      "Epoch 38/800\n",
      "29/29 [==============================] - 0s 3ms/step - loss: 2.6144 - mean_euclidean_error: 1.2787 - val_loss: 2.2047 - val_mean_euclidean_error: 1.2643 - lr: 2.6000e-04\n",
      "Epoch 39/800\n",
      "29/29 [==============================] - 0s 3ms/step - loss: 2.5493 - mean_euclidean_error: 1.2435 - val_loss: 2.1175 - val_mean_euclidean_error: 1.2261 - lr: 2.6000e-04\n",
      "Epoch 40/800\n",
      "29/29 [==============================] - 0s 3ms/step - loss: 2.4678 - mean_euclidean_error: 1.2037 - val_loss: 2.0399 - val_mean_euclidean_error: 1.1908 - lr: 2.6000e-04\n",
      "Epoch 41/800\n",
      "29/29 [==============================] - 0s 3ms/step - loss: 2.3769 - mean_euclidean_error: 1.1644 - val_loss: 1.9862 - val_mean_euclidean_error: 1.1541 - lr: 2.6000e-04\n",
      "Epoch 42/800\n",
      "29/29 [==============================] - 0s 4ms/step - loss: 2.3001 - mean_euclidean_error: 1.1597 - val_loss: 1.9699 - val_mean_euclidean_error: 1.2037 - lr: 2.6000e-04\n",
      "Epoch 43/800\n",
      "29/29 [==============================] - 0s 4ms/step - loss: 2.2318 - mean_euclidean_error: 1.1181 - val_loss: 1.9421 - val_mean_euclidean_error: 1.1199 - lr: 2.6000e-04\n",
      "Epoch 44/800\n",
      "29/29 [==============================] - 0s 4ms/step - loss: 2.1678 - mean_euclidean_error: 1.0739 - val_loss: 1.8803 - val_mean_euclidean_error: 1.1637 - lr: 2.6000e-04\n",
      "Epoch 45/800\n",
      "29/29 [==============================] - 0s 5ms/step - loss: 2.1038 - mean_euclidean_error: 1.0451 - val_loss: 1.9145 - val_mean_euclidean_error: 1.1276 - lr: 2.6000e-04\n",
      "Epoch 46/800\n",
      "29/29 [==============================] - 0s 3ms/step - loss: 2.0496 - mean_euclidean_error: 1.0257 - val_loss: 1.8733 - val_mean_euclidean_error: 1.1304 - lr: 2.6000e-04\n",
      "Epoch 47/800\n",
      "29/29 [==============================] - 0s 3ms/step - loss: 1.9994 - mean_euclidean_error: 1.0140 - val_loss: 1.8709 - val_mean_euclidean_error: 1.0890 - lr: 2.6000e-04\n",
      "Epoch 48/800\n",
      "29/29 [==============================] - 0s 3ms/step - loss: 1.9452 - mean_euclidean_error: 0.9681 - val_loss: 1.8510 - val_mean_euclidean_error: 1.0887 - lr: 2.6000e-04\n",
      "Epoch 49/800\n",
      "29/29 [==============================] - 0s 3ms/step - loss: 1.9018 - mean_euclidean_error: 0.9633 - val_loss: 1.8886 - val_mean_euclidean_error: 1.1255 - lr: 2.6000e-04\n",
      "Epoch 50/800\n",
      "29/29 [==============================] - 0s 3ms/step - loss: 1.8520 - mean_euclidean_error: 0.9174 - val_loss: 1.7942 - val_mean_euclidean_error: 1.0843 - lr: 2.6000e-04\n",
      "Epoch 51/800\n",
      "29/29 [==============================] - 0s 3ms/step - loss: 1.8032 - mean_euclidean_error: 0.8982 - val_loss: 1.8000 - val_mean_euclidean_error: 1.0559 - lr: 2.6000e-04\n",
      "Epoch 52/800\n",
      "29/29 [==============================] - 0s 3ms/step - loss: 1.7620 - mean_euclidean_error: 0.8779 - val_loss: 1.7577 - val_mean_euclidean_error: 0.9727 - lr: 2.6000e-04\n",
      "Epoch 53/800\n",
      "29/29 [==============================] - 0s 3ms/step - loss: 1.7240 - mean_euclidean_error: 0.8555 - val_loss: 1.7788 - val_mean_euclidean_error: 1.0243 - lr: 2.6000e-04\n",
      "Epoch 54/800\n",
      "29/29 [==============================] - 0s 3ms/step - loss: 1.6792 - mean_euclidean_error: 0.8918 - val_loss: 1.7351 - val_mean_euclidean_error: 0.9774 - lr: 2.6000e-04\n",
      "Epoch 55/800\n",
      "29/29 [==============================] - 0s 3ms/step - loss: 1.6593 - mean_euclidean_error: 0.8333 - val_loss: 1.7363 - val_mean_euclidean_error: 0.9877 - lr: 2.6000e-04\n",
      "Epoch 56/800\n",
      "29/29 [==============================] - 0s 3ms/step - loss: 1.6276 - mean_euclidean_error: 0.7928 - val_loss: 1.6998 - val_mean_euclidean_error: 0.9749 - lr: 2.6000e-04\n",
      "Epoch 57/800\n",
      "29/29 [==============================] - 0s 3ms/step - loss: 1.5923 - mean_euclidean_error: 0.7657 - val_loss: 1.6928 - val_mean_euclidean_error: 0.9943 - lr: 2.6000e-04\n",
      "Epoch 58/800\n",
      "29/29 [==============================] - 0s 3ms/step - loss: 1.5737 - mean_euclidean_error: 0.7582 - val_loss: 1.6567 - val_mean_euclidean_error: 0.9406 - lr: 2.6000e-04\n",
      "Epoch 59/800\n",
      "29/29 [==============================] - 0s 3ms/step - loss: 1.5517 - mean_euclidean_error: 0.7405 - val_loss: 1.6628 - val_mean_euclidean_error: 0.9826 - lr: 2.6000e-04\n",
      "Epoch 60/800\n",
      "29/29 [==============================] - 0s 3ms/step - loss: 1.5238 - mean_euclidean_error: 0.7179 - val_loss: 1.6351 - val_mean_euclidean_error: 0.9051 - lr: 2.6000e-04\n",
      "Epoch 61/800\n",
      "29/29 [==============================] - 0s 3ms/step - loss: 1.5002 - mean_euclidean_error: 0.7138 - val_loss: 1.6341 - val_mean_euclidean_error: 0.9125 - lr: 2.6000e-04\n",
      "Epoch 62/800\n",
      "29/29 [==============================] - 0s 3ms/step - loss: 1.4788 - mean_euclidean_error: 0.7034 - val_loss: 1.6387 - val_mean_euclidean_error: 0.9337 - lr: 2.6000e-04\n",
      "Epoch 63/800\n",
      "29/29 [==============================] - 0s 3ms/step - loss: 1.4643 - mean_euclidean_error: 0.6896 - val_loss: 1.6116 - val_mean_euclidean_error: 0.8850 - lr: 2.6000e-04\n",
      "Epoch 64/800\n",
      "29/29 [==============================] - 0s 4ms/step - loss: 1.4533 - mean_euclidean_error: 0.6879 - val_loss: 1.6322 - val_mean_euclidean_error: 0.9413 - lr: 2.6000e-04\n",
      "Epoch 65/800\n",
      "29/29 [==============================] - 0s 4ms/step - loss: 1.4257 - mean_euclidean_error: 0.6443 - val_loss: 1.6044 - val_mean_euclidean_error: 0.8826 - lr: 2.6000e-04\n",
      "Epoch 66/800\n",
      "29/29 [==============================] - 0s 3ms/step - loss: 1.4098 - mean_euclidean_error: 0.6466 - val_loss: 1.6341 - val_mean_euclidean_error: 0.8887 - lr: 2.6000e-04\n",
      "Epoch 67/800\n",
      "29/29 [==============================] - 0s 3ms/step - loss: 1.3984 - mean_euclidean_error: 0.6454 - val_loss: 1.6633 - val_mean_euclidean_error: 0.9100 - lr: 2.6000e-04\n",
      "Epoch 68/800\n",
      "29/29 [==============================] - 0s 3ms/step - loss: 1.3866 - mean_euclidean_error: 0.6395 - val_loss: 1.6322 - val_mean_euclidean_error: 0.8671 - lr: 2.6000e-04\n",
      "Epoch 69/800\n",
      "29/29 [==============================] - 0s 3ms/step - loss: 1.3722 - mean_euclidean_error: 0.6290 - val_loss: 1.5816 - val_mean_euclidean_error: 0.9127 - lr: 2.6000e-04\n",
      "Epoch 70/800\n",
      "29/29 [==============================] - 0s 3ms/step - loss: 1.3467 - mean_euclidean_error: 0.5890 - val_loss: 1.5803 - val_mean_euclidean_error: 0.8809 - lr: 2.6000e-04\n",
      "Epoch 71/800\n",
      "29/29 [==============================] - 0s 3ms/step - loss: 1.3368 - mean_euclidean_error: 0.5988 - val_loss: 1.6316 - val_mean_euclidean_error: 0.8810 - lr: 2.6000e-04\n",
      "Epoch 72/800\n",
      "29/29 [==============================] - 0s 3ms/step - loss: 1.3342 - mean_euclidean_error: 0.6006 - val_loss: 1.5490 - val_mean_euclidean_error: 0.8395 - lr: 2.6000e-04\n",
      "Epoch 73/800\n",
      "29/29 [==============================] - 0s 3ms/step - loss: 1.3134 - mean_euclidean_error: 0.5807 - val_loss: 1.5901 - val_mean_euclidean_error: 0.8587 - lr: 2.6000e-04\n",
      "Epoch 74/800\n",
      "29/29 [==============================] - 0s 3ms/step - loss: 1.3010 - mean_euclidean_error: 0.5713 - val_loss: 1.5580 - val_mean_euclidean_error: 0.8523 - lr: 2.6000e-04\n",
      "Epoch 75/800\n",
      "29/29 [==============================] - 0s 3ms/step - loss: 1.2894 - mean_euclidean_error: 0.5469 - val_loss: 1.5515 - val_mean_euclidean_error: 0.8398 - lr: 2.6000e-04\n",
      "Epoch 76/800\n",
      "29/29 [==============================] - 0s 3ms/step - loss: 1.2841 - mean_euclidean_error: 0.5497 - val_loss: 1.5514 - val_mean_euclidean_error: 0.8523 - lr: 2.6000e-04\n",
      "Epoch 77/800\n",
      "29/29 [==============================] - 0s 3ms/step - loss: 1.2718 - mean_euclidean_error: 0.5474 - val_loss: 1.5237 - val_mean_euclidean_error: 0.8133 - lr: 2.6000e-04\n",
      "Epoch 78/800\n",
      "29/29 [==============================] - 0s 3ms/step - loss: 1.2625 - mean_euclidean_error: 0.5508 - val_loss: 1.5636 - val_mean_euclidean_error: 0.8499 - lr: 2.6000e-04\n",
      "Epoch 79/800\n",
      "29/29 [==============================] - 0s 3ms/step - loss: 1.2573 - mean_euclidean_error: 0.5501 - val_loss: 1.5536 - val_mean_euclidean_error: 0.8655 - lr: 2.6000e-04\n",
      "Epoch 80/800\n",
      "29/29 [==============================] - 0s 3ms/step - loss: 1.2446 - mean_euclidean_error: 0.5214 - val_loss: 1.5335 - val_mean_euclidean_error: 0.8817 - lr: 2.6000e-04\n",
      "Epoch 81/800\n",
      "29/29 [==============================] - 0s 3ms/step - loss: 1.2376 - mean_euclidean_error: 0.5223 - val_loss: 1.5566 - val_mean_euclidean_error: 0.8185 - lr: 2.6000e-04\n",
      "Epoch 82/800\n",
      "29/29 [==============================] - 0s 3ms/step - loss: 1.2369 - mean_euclidean_error: 0.5336 - val_loss: 1.5432 - val_mean_euclidean_error: 0.8105 - lr: 2.6000e-04\n",
      "Epoch 83/800\n",
      "29/29 [==============================] - 0s 3ms/step - loss: 1.2238 - mean_euclidean_error: 0.5057 - val_loss: 1.5635 - val_mean_euclidean_error: 0.8249 - lr: 2.6000e-04\n",
      "Epoch 84/800\n",
      "29/29 [==============================] - 0s 3ms/step - loss: 1.2066 - mean_euclidean_error: 0.4820 - val_loss: 1.5192 - val_mean_euclidean_error: 0.8144 - lr: 2.6000e-04\n",
      "Epoch 85/800\n",
      "29/29 [==============================] - 0s 3ms/step - loss: 1.2008 - mean_euclidean_error: 0.5104 - val_loss: 1.4633 - val_mean_euclidean_error: 0.7890 - lr: 2.6000e-04\n",
      "Epoch 86/800\n",
      "29/29 [==============================] - 0s 3ms/step - loss: 1.1995 - mean_euclidean_error: 0.4844 - val_loss: 1.4928 - val_mean_euclidean_error: 0.8171 - lr: 2.6000e-04\n",
      "Epoch 87/800\n",
      "29/29 [==============================] - 0s 3ms/step - loss: 1.1896 - mean_euclidean_error: 0.4871 - val_loss: 1.5140 - val_mean_euclidean_error: 0.8211 - lr: 2.6000e-04\n",
      "Epoch 88/800\n",
      "29/29 [==============================] - 0s 3ms/step - loss: 1.1940 - mean_euclidean_error: 0.5052 - val_loss: 1.4590 - val_mean_euclidean_error: 0.8093 - lr: 2.6000e-04\n",
      "Epoch 89/800\n",
      "29/29 [==============================] - 0s 3ms/step - loss: 1.1770 - mean_euclidean_error: 0.4720 - val_loss: 1.5082 - val_mean_euclidean_error: 0.7812 - lr: 2.6000e-04\n",
      "Epoch 90/800\n",
      "29/29 [==============================] - 0s 3ms/step - loss: 1.1676 - mean_euclidean_error: 0.4973 - val_loss: 1.5109 - val_mean_euclidean_error: 0.7859 - lr: 2.6000e-04\n",
      "Epoch 91/800\n",
      "29/29 [==============================] - 0s 3ms/step - loss: 1.1728 - mean_euclidean_error: 0.4895 - val_loss: 1.4459 - val_mean_euclidean_error: 0.7920 - lr: 2.6000e-04\n",
      "Epoch 92/800\n",
      "29/29 [==============================] - 0s 3ms/step - loss: 1.1750 - mean_euclidean_error: 0.4768 - val_loss: 1.4203 - val_mean_euclidean_error: 0.7541 - lr: 2.6000e-04\n",
      "Epoch 93/800\n",
      "29/29 [==============================] - 0s 3ms/step - loss: 1.1519 - mean_euclidean_error: 0.4401 - val_loss: 1.4498 - val_mean_euclidean_error: 0.7748 - lr: 2.6000e-04\n",
      "Epoch 94/800\n",
      "29/29 [==============================] - 0s 3ms/step - loss: 1.1462 - mean_euclidean_error: 0.4441 - val_loss: 1.4580 - val_mean_euclidean_error: 0.7876 - lr: 2.6000e-04\n",
      "Epoch 95/800\n",
      "29/29 [==============================] - 0s 3ms/step - loss: 1.1448 - mean_euclidean_error: 0.4564 - val_loss: 1.4398 - val_mean_euclidean_error: 0.7566 - lr: 2.6000e-04\n",
      "Epoch 96/800\n",
      "29/29 [==============================] - 0s 2ms/step - loss: 1.1469 - mean_euclidean_error: 0.4567 - val_loss: 1.4108 - val_mean_euclidean_error: 0.7964 - lr: 2.6000e-04\n",
      "Epoch 97/800\n",
      "29/29 [==============================] - 0s 3ms/step - loss: 1.1424 - mean_euclidean_error: 0.4682 - val_loss: 1.4459 - val_mean_euclidean_error: 0.7911 - lr: 2.6000e-04\n",
      "Epoch 98/800\n",
      "29/29 [==============================] - 0s 3ms/step - loss: 1.1351 - mean_euclidean_error: 0.4588 - val_loss: 1.4282 - val_mean_euclidean_error: 0.8093 - lr: 2.6000e-04\n",
      "Epoch 99/800\n",
      "29/29 [==============================] - 0s 3ms/step - loss: 1.1205 - mean_euclidean_error: 0.4183 - val_loss: 1.4253 - val_mean_euclidean_error: 0.7710 - lr: 2.6000e-04\n",
      "Epoch 100/800\n",
      "29/29 [==============================] - 0s 3ms/step - loss: 1.1162 - mean_euclidean_error: 0.4275 - val_loss: 1.4023 - val_mean_euclidean_error: 0.7948 - lr: 2.6000e-04\n",
      "Epoch 101/800\n",
      "29/29 [==============================] - 0s 3ms/step - loss: 1.1206 - mean_euclidean_error: 0.4361 - val_loss: 1.4275 - val_mean_euclidean_error: 0.7500 - lr: 2.6000e-04\n",
      "Epoch 102/800\n",
      "29/29 [==============================] - 0s 3ms/step - loss: 1.1126 - mean_euclidean_error: 0.4305 - val_loss: 1.3964 - val_mean_euclidean_error: 0.7519 - lr: 2.6000e-04\n",
      "Epoch 103/800\n",
      "29/29 [==============================] - 0s 3ms/step - loss: 1.1065 - mean_euclidean_error: 0.4276 - val_loss: 1.3951 - val_mean_euclidean_error: 0.7701 - lr: 2.6000e-04\n",
      "Epoch 104/800\n",
      "29/29 [==============================] - 0s 4ms/step - loss: 1.0972 - mean_euclidean_error: 0.4014 - val_loss: 1.3833 - val_mean_euclidean_error: 0.7567 - lr: 2.6000e-04\n",
      "Epoch 105/800\n",
      "29/29 [==============================] - 0s 3ms/step - loss: 1.1042 - mean_euclidean_error: 0.4286 - val_loss: 1.3885 - val_mean_euclidean_error: 0.7524 - lr: 2.6000e-04\n",
      "Epoch 106/800\n",
      "29/29 [==============================] - 0s 3ms/step - loss: 1.1020 - mean_euclidean_error: 0.4358 - val_loss: 1.3891 - val_mean_euclidean_error: 0.7588 - lr: 2.6000e-04\n",
      "Epoch 107/800\n",
      "29/29 [==============================] - 0s 3ms/step - loss: 1.0929 - mean_euclidean_error: 0.4428 - val_loss: 1.3960 - val_mean_euclidean_error: 0.7290 - lr: 2.6000e-04\n",
      "Epoch 108/800\n",
      "29/29 [==============================] - 0s 3ms/step - loss: 1.0868 - mean_euclidean_error: 0.4119 - val_loss: 1.3766 - val_mean_euclidean_error: 0.7686 - lr: 2.6000e-04\n",
      "Epoch 109/800\n",
      "29/29 [==============================] - 0s 3ms/step - loss: 1.0868 - mean_euclidean_error: 0.4239 - val_loss: 1.3750 - val_mean_euclidean_error: 0.7691 - lr: 2.6000e-04\n",
      "Epoch 110/800\n",
      "29/29 [==============================] - 0s 3ms/step - loss: 1.0936 - mean_euclidean_error: 0.4229 - val_loss: 1.3974 - val_mean_euclidean_error: 0.7546 - lr: 2.6000e-04\n",
      "Epoch 111/800\n",
      "29/29 [==============================] - 0s 3ms/step - loss: 1.0733 - mean_euclidean_error: 0.3951 - val_loss: 1.3823 - val_mean_euclidean_error: 0.7800 - lr: 2.6000e-04\n",
      "Epoch 112/800\n",
      "29/29 [==============================] - 0s 3ms/step - loss: 1.0666 - mean_euclidean_error: 0.3877 - val_loss: 1.3937 - val_mean_euclidean_error: 0.7560 - lr: 2.6000e-04\n",
      "Epoch 113/800\n",
      "29/29 [==============================] - 0s 3ms/step - loss: 1.0769 - mean_euclidean_error: 0.4136 - val_loss: 1.3694 - val_mean_euclidean_error: 0.7940 - lr: 2.6000e-04\n",
      "Epoch 114/800\n",
      "29/29 [==============================] - 0s 3ms/step - loss: 1.0723 - mean_euclidean_error: 0.4210 - val_loss: 1.3712 - val_mean_euclidean_error: 0.7884 - lr: 2.6000e-04\n",
      "Epoch 115/800\n",
      "29/29 [==============================] - 0s 3ms/step - loss: 1.0614 - mean_euclidean_error: 0.3941 - val_loss: 1.3435 - val_mean_euclidean_error: 0.7228 - lr: 2.6000e-04\n",
      "Epoch 116/800\n",
      "29/29 [==============================] - 0s 3ms/step - loss: 1.0551 - mean_euclidean_error: 0.3770 - val_loss: 1.3667 - val_mean_euclidean_error: 0.7321 - lr: 2.6000e-04\n",
      "Epoch 117/800\n",
      "29/29 [==============================] - 0s 3ms/step - loss: 1.0519 - mean_euclidean_error: 0.3906 - val_loss: 1.3533 - val_mean_euclidean_error: 0.7239 - lr: 2.6000e-04\n",
      "Epoch 118/800\n",
      "29/29 [==============================] - 0s 3ms/step - loss: 1.0526 - mean_euclidean_error: 0.3904 - val_loss: 1.3543 - val_mean_euclidean_error: 0.7694 - lr: 2.6000e-04\n",
      "Epoch 119/800\n",
      "29/29 [==============================] - 0s 3ms/step - loss: 1.0470 - mean_euclidean_error: 0.3841 - val_loss: 1.3157 - val_mean_euclidean_error: 0.7018 - lr: 2.6000e-04\n",
      "Epoch 120/800\n",
      "29/29 [==============================] - 0s 3ms/step - loss: 1.0458 - mean_euclidean_error: 0.3767 - val_loss: 1.3031 - val_mean_euclidean_error: 0.7242 - lr: 2.6000e-04\n",
      "Epoch 121/800\n",
      "29/29 [==============================] - 0s 3ms/step - loss: 1.0398 - mean_euclidean_error: 0.3757 - val_loss: 1.3354 - val_mean_euclidean_error: 0.7354 - lr: 2.6000e-04\n",
      "Epoch 122/800\n",
      "29/29 [==============================] - 0s 4ms/step - loss: 1.0445 - mean_euclidean_error: 0.4052 - val_loss: 1.3282 - val_mean_euclidean_error: 0.7336 - lr: 2.6000e-04\n",
      "Epoch 123/800\n",
      "29/29 [==============================] - 0s 3ms/step - loss: 1.0408 - mean_euclidean_error: 0.4039 - val_loss: 1.3122 - val_mean_euclidean_error: 0.7217 - lr: 2.6000e-04\n",
      "Epoch 124/800\n",
      "29/29 [==============================] - 0s 3ms/step - loss: 1.0374 - mean_euclidean_error: 0.3870 - val_loss: 1.3149 - val_mean_euclidean_error: 0.7384 - lr: 2.6000e-04\n",
      "Epoch 125/800\n",
      "29/29 [==============================] - 0s 3ms/step - loss: 1.0261 - mean_euclidean_error: 0.3673 - val_loss: 1.2938 - val_mean_euclidean_error: 0.7125 - lr: 2.6000e-04\n",
      "Epoch 126/800\n",
      "29/29 [==============================] - 0s 3ms/step - loss: 1.0240 - mean_euclidean_error: 0.3749 - val_loss: 1.3371 - val_mean_euclidean_error: 0.7073 - lr: 2.6000e-04\n",
      "Epoch 127/800\n",
      "29/29 [==============================] - 0s 3ms/step - loss: 1.0190 - mean_euclidean_error: 0.3635 - val_loss: 1.3062 - val_mean_euclidean_error: 0.7081 - lr: 2.6000e-04\n",
      "Epoch 128/800\n",
      "29/29 [==============================] - 0s 3ms/step - loss: 1.0177 - mean_euclidean_error: 0.3806 - val_loss: 1.2840 - val_mean_euclidean_error: 0.6938 - lr: 2.6000e-04\n",
      "Epoch 129/800\n",
      "29/29 [==============================] - 0s 3ms/step - loss: 1.0145 - mean_euclidean_error: 0.3567 - val_loss: 1.2751 - val_mean_euclidean_error: 0.6802 - lr: 2.6000e-04\n",
      "Epoch 130/800\n",
      "29/29 [==============================] - 0s 3ms/step - loss: 1.0158 - mean_euclidean_error: 0.3764 - val_loss: 1.2772 - val_mean_euclidean_error: 0.7032 - lr: 2.6000e-04\n",
      "Epoch 131/800\n",
      "29/29 [==============================] - 0s 3ms/step - loss: 1.0133 - mean_euclidean_error: 0.3655 - val_loss: 1.2794 - val_mean_euclidean_error: 0.6538 - lr: 2.6000e-04\n",
      "Epoch 132/800\n",
      "29/29 [==============================] - 0s 3ms/step - loss: 1.0121 - mean_euclidean_error: 0.3733 - val_loss: 1.2717 - val_mean_euclidean_error: 0.6692 - lr: 2.6000e-04\n",
      "Epoch 133/800\n",
      "29/29 [==============================] - 0s 3ms/step - loss: 1.0096 - mean_euclidean_error: 0.3823 - val_loss: 1.2877 - val_mean_euclidean_error: 0.7069 - lr: 2.6000e-04\n",
      "Epoch 134/800\n",
      "29/29 [==============================] - 0s 3ms/step - loss: 1.0081 - mean_euclidean_error: 0.3748 - val_loss: 1.2337 - val_mean_euclidean_error: 0.6700 - lr: 2.6000e-04\n",
      "Epoch 135/800\n",
      "29/29 [==============================] - 0s 3ms/step - loss: 0.9950 - mean_euclidean_error: 0.3525 - val_loss: 1.2640 - val_mean_euclidean_error: 0.6757 - lr: 2.6000e-04\n",
      "Epoch 136/800\n",
      "29/29 [==============================] - 0s 3ms/step - loss: 1.0037 - mean_euclidean_error: 0.3790 - val_loss: 1.2740 - val_mean_euclidean_error: 0.6966 - lr: 2.6000e-04\n",
      "Epoch 137/800\n",
      "29/29 [==============================] - 0s 3ms/step - loss: 0.9971 - mean_euclidean_error: 0.3606 - val_loss: 1.2483 - val_mean_euclidean_error: 0.6920 - lr: 2.6000e-04\n",
      "Epoch 138/800\n",
      "29/29 [==============================] - 0s 3ms/step - loss: 0.9912 - mean_euclidean_error: 0.3537 - val_loss: 1.2850 - val_mean_euclidean_error: 0.7575 - lr: 2.6000e-04\n",
      "Epoch 139/800\n",
      "29/29 [==============================] - 0s 4ms/step - loss: 0.9893 - mean_euclidean_error: 0.3613 - val_loss: 1.2616 - val_mean_euclidean_error: 0.6613 - lr: 2.6000e-04\n",
      "Epoch 140/800\n",
      "29/29 [==============================] - 0s 3ms/step - loss: 0.9839 - mean_euclidean_error: 0.3488 - val_loss: 1.2263 - val_mean_euclidean_error: 0.6632 - lr: 2.6000e-04\n",
      "Epoch 141/800\n",
      "29/29 [==============================] - 0s 3ms/step - loss: 0.9798 - mean_euclidean_error: 0.3417 - val_loss: 1.2323 - val_mean_euclidean_error: 0.6705 - lr: 2.6000e-04\n",
      "Epoch 142/800\n",
      "29/29 [==============================] - 0s 3ms/step - loss: 0.9783 - mean_euclidean_error: 0.3480 - val_loss: 1.2242 - val_mean_euclidean_error: 0.6691 - lr: 2.6000e-04\n",
      "Epoch 143/800\n",
      "29/29 [==============================] - 0s 3ms/step - loss: 0.9812 - mean_euclidean_error: 0.3608 - val_loss: 1.2424 - val_mean_euclidean_error: 0.6671 - lr: 2.6000e-04\n",
      "Epoch 144/800\n",
      "29/29 [==============================] - 0s 3ms/step - loss: 0.9858 - mean_euclidean_error: 0.3701 - val_loss: 1.2607 - val_mean_euclidean_error: 0.7184 - lr: 2.6000e-04\n",
      "Epoch 145/800\n",
      "29/29 [==============================] - 0s 3ms/step - loss: 0.9770 - mean_euclidean_error: 0.3497 - val_loss: 1.2489 - val_mean_euclidean_error: 0.6778 - lr: 2.6000e-04\n",
      "Epoch 146/800\n",
      "29/29 [==============================] - 0s 3ms/step - loss: 0.9707 - mean_euclidean_error: 0.3523 - val_loss: 1.2338 - val_mean_euclidean_error: 0.7245 - lr: 2.6000e-04\n",
      "Epoch 147/800\n",
      "29/29 [==============================] - 0s 3ms/step - loss: 0.9735 - mean_euclidean_error: 0.3832 - val_loss: 1.2024 - val_mean_euclidean_error: 0.6874 - lr: 2.6000e-04\n",
      "Epoch 148/800\n",
      "29/29 [==============================] - 0s 3ms/step - loss: 0.9665 - mean_euclidean_error: 0.3416 - val_loss: 1.2056 - val_mean_euclidean_error: 0.6931 - lr: 2.6000e-04\n",
      "Epoch 149/800\n",
      "29/29 [==============================] - 0s 3ms/step - loss: 0.9636 - mean_euclidean_error: 0.3470 - val_loss: 1.2013 - val_mean_euclidean_error: 0.6380 - lr: 2.6000e-04\n",
      "Epoch 150/800\n",
      "29/29 [==============================] - 0s 3ms/step - loss: 0.9611 - mean_euclidean_error: 0.3442 - val_loss: 1.1907 - val_mean_euclidean_error: 0.6524 - lr: 2.6000e-04\n",
      "Epoch 151/800\n",
      "29/29 [==============================] - 0s 3ms/step - loss: 0.9630 - mean_euclidean_error: 0.3530 - val_loss: 1.1987 - val_mean_euclidean_error: 0.6812 - lr: 2.6000e-04\n",
      "Epoch 152/800\n",
      "29/29 [==============================] - 0s 3ms/step - loss: 0.9534 - mean_euclidean_error: 0.3330 - val_loss: 1.2123 - val_mean_euclidean_error: 0.6702 - lr: 2.6000e-04\n",
      "Epoch 153/800\n",
      "29/29 [==============================] - 0s 3ms/step - loss: 0.9508 - mean_euclidean_error: 0.3305 - val_loss: 1.2090 - val_mean_euclidean_error: 0.6381 - lr: 2.6000e-04\n",
      "Epoch 154/800\n",
      "29/29 [==============================] - 0s 3ms/step - loss: 0.9522 - mean_euclidean_error: 0.3451 - val_loss: 1.2079 - val_mean_euclidean_error: 0.6582 - lr: 2.6000e-04\n",
      "Epoch 155/800\n",
      "29/29 [==============================] - 0s 3ms/step - loss: 0.9530 - mean_euclidean_error: 0.3592 - val_loss: 1.2107 - val_mean_euclidean_error: 0.6938 - lr: 2.6000e-04\n",
      "Epoch 156/800\n",
      "29/29 [==============================] - 0s 4ms/step - loss: 0.9456 - mean_euclidean_error: 0.3328 - val_loss: 1.1650 - val_mean_euclidean_error: 0.6656 - lr: 2.6000e-04\n",
      "Epoch 157/800\n",
      "29/29 [==============================] - 0s 3ms/step - loss: 0.9456 - mean_euclidean_error: 0.3493 - val_loss: 1.2153 - val_mean_euclidean_error: 0.6663 - lr: 2.6000e-04\n",
      "Epoch 158/800\n",
      "29/29 [==============================] - 0s 3ms/step - loss: 0.9457 - mean_euclidean_error: 0.3507 - val_loss: 1.2092 - val_mean_euclidean_error: 0.7131 - lr: 2.6000e-04\n",
      "Epoch 159/800\n",
      "29/29 [==============================] - 0s 3ms/step - loss: 0.9354 - mean_euclidean_error: 0.3322 - val_loss: 1.1751 - val_mean_euclidean_error: 0.6640 - lr: 2.6000e-04\n",
      "Epoch 160/800\n",
      "29/29 [==============================] - 0s 3ms/step - loss: 0.9378 - mean_euclidean_error: 0.3431 - val_loss: 1.1672 - val_mean_euclidean_error: 0.6570 - lr: 2.6000e-04\n",
      "Epoch 161/800\n",
      "29/29 [==============================] - 0s 3ms/step - loss: 0.9329 - mean_euclidean_error: 0.3267 - val_loss: 1.1967 - val_mean_euclidean_error: 0.7118 - lr: 2.6000e-04\n",
      "Epoch 162/800\n",
      "29/29 [==============================] - 0s 3ms/step - loss: 0.9344 - mean_euclidean_error: 0.3445 - val_loss: 1.1972 - val_mean_euclidean_error: 0.6805 - lr: 2.6000e-04\n",
      "Epoch 163/800\n",
      "29/29 [==============================] - 0s 3ms/step - loss: 0.9291 - mean_euclidean_error: 0.3309 - val_loss: 1.1491 - val_mean_euclidean_error: 0.6331 - lr: 2.6000e-04\n",
      "Epoch 164/800\n",
      "29/29 [==============================] - 0s 3ms/step - loss: 0.9286 - mean_euclidean_error: 0.3365 - val_loss: 1.1733 - val_mean_euclidean_error: 0.6288 - lr: 2.6000e-04\n",
      "Epoch 165/800\n",
      "29/29 [==============================] - 0s 3ms/step - loss: 0.9325 - mean_euclidean_error: 0.3431 - val_loss: 1.1635 - val_mean_euclidean_error: 0.6654 - lr: 2.6000e-04\n",
      "Epoch 166/800\n",
      "29/29 [==============================] - 0s 3ms/step - loss: 0.9184 - mean_euclidean_error: 0.3174 - val_loss: 1.1436 - val_mean_euclidean_error: 0.6650 - lr: 2.6000e-04\n",
      "Epoch 167/800\n",
      "29/29 [==============================] - 0s 3ms/step - loss: 0.9225 - mean_euclidean_error: 0.3336 - val_loss: 1.1809 - val_mean_euclidean_error: 0.6347 - lr: 2.6000e-04\n",
      "Epoch 168/800\n",
      "29/29 [==============================] - 0s 3ms/step - loss: 0.9184 - mean_euclidean_error: 0.3252 - val_loss: 1.1293 - val_mean_euclidean_error: 0.6532 - lr: 2.6000e-04\n",
      "Epoch 169/800\n",
      "29/29 [==============================] - 0s 3ms/step - loss: 0.9219 - mean_euclidean_error: 0.3495 - val_loss: 1.1761 - val_mean_euclidean_error: 0.6609 - lr: 2.6000e-04\n",
      "Epoch 170/800\n",
      "29/29 [==============================] - 0s 3ms/step - loss: 0.9155 - mean_euclidean_error: 0.3329 - val_loss: 1.1349 - val_mean_euclidean_error: 0.6290 - lr: 2.6000e-04\n",
      "Epoch 171/800\n",
      "29/29 [==============================] - 0s 4ms/step - loss: 0.9142 - mean_euclidean_error: 0.3323 - val_loss: 1.1386 - val_mean_euclidean_error: 0.6510 - lr: 2.6000e-04\n",
      "Epoch 172/800\n",
      "29/29 [==============================] - 0s 3ms/step - loss: 0.9067 - mean_euclidean_error: 0.3157 - val_loss: 1.1454 - val_mean_euclidean_error: 0.6280 - lr: 2.6000e-04\n",
      "Epoch 173/800\n",
      "29/29 [==============================] - 0s 3ms/step - loss: 0.9037 - mean_euclidean_error: 0.3133 - val_loss: 1.1630 - val_mean_euclidean_error: 0.6640 - lr: 2.6000e-04\n",
      "Epoch 174/800\n",
      "29/29 [==============================] - 0s 3ms/step - loss: 0.9053 - mean_euclidean_error: 0.3211 - val_loss: 1.1393 - val_mean_euclidean_error: 0.6222 - lr: 2.6000e-04\n",
      "Epoch 175/800\n",
      "29/29 [==============================] - 0s 3ms/step - loss: 0.9078 - mean_euclidean_error: 0.3384 - val_loss: 1.1357 - val_mean_euclidean_error: 0.6245 - lr: 2.6000e-04\n",
      "Epoch 176/800\n",
      "29/29 [==============================] - 0s 3ms/step - loss: 0.8974 - mean_euclidean_error: 0.3096 - val_loss: 1.1229 - val_mean_euclidean_error: 0.6502 - lr: 2.6000e-04\n",
      "Epoch 177/800\n",
      "29/29 [==============================] - 0s 3ms/step - loss: 0.9006 - mean_euclidean_error: 0.3237 - val_loss: 1.1238 - val_mean_euclidean_error: 0.5999 - lr: 2.6000e-04\n",
      "Epoch 178/800\n",
      "29/29 [==============================] - 0s 3ms/step - loss: 0.9004 - mean_euclidean_error: 0.3282 - val_loss: 1.1159 - val_mean_euclidean_error: 0.6561 - lr: 2.6000e-04\n",
      "Epoch 179/800\n",
      "29/29 [==============================] - 0s 3ms/step - loss: 0.9019 - mean_euclidean_error: 0.3353 - val_loss: 1.1168 - val_mean_euclidean_error: 0.6098 - lr: 2.6000e-04\n",
      "Epoch 180/800\n",
      "29/29 [==============================] - 0s 3ms/step - loss: 0.8987 - mean_euclidean_error: 0.3373 - val_loss: 1.1036 - val_mean_euclidean_error: 0.6058 - lr: 2.6000e-04\n",
      "Epoch 181/800\n",
      "29/29 [==============================] - 0s 3ms/step - loss: 0.8860 - mean_euclidean_error: 0.3008 - val_loss: 1.1145 - val_mean_euclidean_error: 0.5916 - lr: 2.6000e-04\n",
      "Epoch 182/800\n",
      "29/29 [==============================] - 0s 3ms/step - loss: 0.8864 - mean_euclidean_error: 0.3017 - val_loss: 1.1154 - val_mean_euclidean_error: 0.6386 - lr: 2.6000e-04\n",
      "Epoch 183/800\n",
      "29/29 [==============================] - 0s 3ms/step - loss: 0.8917 - mean_euclidean_error: 0.3325 - val_loss: 1.1002 - val_mean_euclidean_error: 0.6081 - lr: 2.6000e-04\n",
      "Epoch 184/800\n",
      "29/29 [==============================] - 0s 3ms/step - loss: 0.8871 - mean_euclidean_error: 0.3175 - val_loss: 1.1300 - val_mean_euclidean_error: 0.6123 - lr: 2.6000e-04\n",
      "Epoch 185/800\n",
      "29/29 [==============================] - 0s 3ms/step - loss: 0.8913 - mean_euclidean_error: 0.3440 - val_loss: 1.0950 - val_mean_euclidean_error: 0.6208 - lr: 2.6000e-04\n",
      "Epoch 186/800\n",
      "29/29 [==============================] - 0s 3ms/step - loss: 0.8845 - mean_euclidean_error: 0.3442 - val_loss: 1.0804 - val_mean_euclidean_error: 0.6050 - lr: 2.6000e-04\n",
      "Epoch 187/800\n",
      "29/29 [==============================] - 0s 3ms/step - loss: 0.8835 - mean_euclidean_error: 0.3266 - val_loss: 1.0992 - val_mean_euclidean_error: 0.6141 - lr: 2.6000e-04\n",
      "Epoch 188/800\n",
      "29/29 [==============================] - 0s 3ms/step - loss: 0.8847 - mean_euclidean_error: 0.3356 - val_loss: 1.0990 - val_mean_euclidean_error: 0.6401 - lr: 2.6000e-04\n",
      "Epoch 189/800\n",
      "29/29 [==============================] - 0s 3ms/step - loss: 0.8769 - mean_euclidean_error: 0.3127 - val_loss: 1.1008 - val_mean_euclidean_error: 0.5863 - lr: 2.6000e-04\n",
      "Epoch 190/800\n",
      "29/29 [==============================] - 0s 3ms/step - loss: 0.8749 - mean_euclidean_error: 0.3190 - val_loss: 1.1134 - val_mean_euclidean_error: 0.6528 - lr: 2.6000e-04\n",
      "Epoch 191/800\n",
      "29/29 [==============================] - 0s 3ms/step - loss: 0.8799 - mean_euclidean_error: 0.3345 - val_loss: 1.1025 - val_mean_euclidean_error: 0.6287 - lr: 2.6000e-04\n",
      "Epoch 192/800\n",
      "29/29 [==============================] - 0s 3ms/step - loss: 0.8812 - mean_euclidean_error: 0.3312 - val_loss: 1.0865 - val_mean_euclidean_error: 0.6438 - lr: 2.6000e-04\n",
      "Epoch 193/800\n",
      "29/29 [==============================] - 0s 3ms/step - loss: 0.8731 - mean_euclidean_error: 0.3177 - val_loss: 1.0916 - val_mean_euclidean_error: 0.6196 - lr: 2.6000e-04\n",
      "Epoch 194/800\n",
      "29/29 [==============================] - 0s 3ms/step - loss: 0.8740 - mean_euclidean_error: 0.3257 - val_loss: 1.0835 - val_mean_euclidean_error: 0.6297 - lr: 2.6000e-04\n",
      "Epoch 195/800\n",
      "29/29 [==============================] - 0s 3ms/step - loss: 0.8690 - mean_euclidean_error: 0.3237 - val_loss: 1.0454 - val_mean_euclidean_error: 0.5820 - lr: 2.6000e-04\n",
      "Epoch 196/800\n",
      "29/29 [==============================] - 0s 3ms/step - loss: 0.8681 - mean_euclidean_error: 0.3133 - val_loss: 1.0485 - val_mean_euclidean_error: 0.5808 - lr: 2.6000e-04\n",
      "Epoch 197/800\n",
      "29/29 [==============================] - 0s 3ms/step - loss: 0.8659 - mean_euclidean_error: 0.3268 - val_loss: 1.1080 - val_mean_euclidean_error: 0.6542 - lr: 2.6000e-04\n",
      "Epoch 198/800\n",
      "29/29 [==============================] - 0s 3ms/step - loss: 0.8638 - mean_euclidean_error: 0.3210 - val_loss: 1.0802 - val_mean_euclidean_error: 0.6003 - lr: 2.6000e-04\n",
      "Epoch 199/800\n",
      "29/29 [==============================] - 0s 3ms/step - loss: 0.8590 - mean_euclidean_error: 0.3008 - val_loss: 1.0699 - val_mean_euclidean_error: 0.6136 - lr: 2.6000e-04\n",
      "Epoch 200/800\n",
      "29/29 [==============================] - 0s 4ms/step - loss: 0.8575 - mean_euclidean_error: 0.3110 - val_loss: 1.0735 - val_mean_euclidean_error: 0.5833 - lr: 2.6000e-04\n",
      "Epoch 201/800\n",
      "29/29 [==============================] - 0s 3ms/step - loss: 0.8613 - mean_euclidean_error: 0.3247 - val_loss: 1.0463 - val_mean_euclidean_error: 0.5869 - lr: 2.6000e-04\n",
      "Epoch 202/800\n",
      "29/29 [==============================] - 0s 3ms/step - loss: 0.8646 - mean_euclidean_error: 0.3490 - val_loss: 1.0577 - val_mean_euclidean_error: 0.5917 - lr: 2.6000e-04\n",
      "Epoch 203/800\n",
      "29/29 [==============================] - 0s 3ms/step - loss: 0.8625 - mean_euclidean_error: 0.3194 - val_loss: 1.0873 - val_mean_euclidean_error: 0.6083 - lr: 2.6000e-04\n",
      "Epoch 204/800\n",
      "29/29 [==============================] - 0s 3ms/step - loss: 0.8672 - mean_euclidean_error: 0.3412 - val_loss: 1.0770 - val_mean_euclidean_error: 0.6053 - lr: 2.6000e-04\n",
      "Epoch 205/800\n",
      "29/29 [==============================] - 0s 3ms/step - loss: 0.8496 - mean_euclidean_error: 0.3021 - val_loss: 1.0545 - val_mean_euclidean_error: 0.5777 - lr: 2.6000e-04\n",
      "Epoch 206/800\n",
      "29/29 [==============================] - 0s 3ms/step - loss: 0.8474 - mean_euclidean_error: 0.3040 - val_loss: 1.0644 - val_mean_euclidean_error: 0.6679 - lr: 2.6000e-04\n",
      "Epoch 207/800\n",
      "29/29 [==============================] - 0s 3ms/step - loss: 0.8613 - mean_euclidean_error: 0.3617 - val_loss: 1.0619 - val_mean_euclidean_error: 0.6295 - lr: 2.6000e-04\n",
      "Epoch 208/800\n",
      "29/29 [==============================] - 0s 3ms/step - loss: 0.8517 - mean_euclidean_error: 0.3179 - val_loss: 1.0345 - val_mean_euclidean_error: 0.5786 - lr: 2.6000e-04\n",
      "Epoch 209/800\n",
      "29/29 [==============================] - 0s 3ms/step - loss: 0.8481 - mean_euclidean_error: 0.3197 - val_loss: 1.0508 - val_mean_euclidean_error: 0.6078 - lr: 2.6000e-04\n",
      "Epoch 210/800\n",
      "29/29 [==============================] - 0s 3ms/step - loss: 0.8438 - mean_euclidean_error: 0.3170 - val_loss: 1.0477 - val_mean_euclidean_error: 0.5787 - lr: 2.6000e-04\n",
      "Epoch 211/800\n",
      "29/29 [==============================] - 0s 3ms/step - loss: 0.8462 - mean_euclidean_error: 0.3217 - val_loss: 1.0432 - val_mean_euclidean_error: 0.6055 - lr: 2.6000e-04\n",
      "Epoch 212/800\n",
      "29/29 [==============================] - 0s 3ms/step - loss: 0.8454 - mean_euclidean_error: 0.3205 - val_loss: 1.0308 - val_mean_euclidean_error: 0.5913 - lr: 2.6000e-04\n",
      "Epoch 213/800\n",
      "29/29 [==============================] - 0s 3ms/step - loss: 0.8440 - mean_euclidean_error: 0.3308 - val_loss: 1.0285 - val_mean_euclidean_error: 0.5778 - lr: 2.6000e-04\n",
      "Epoch 214/800\n",
      "29/29 [==============================] - 0s 4ms/step - loss: 0.8394 - mean_euclidean_error: 0.3110 - val_loss: 1.0324 - val_mean_euclidean_error: 0.5734 - lr: 2.6000e-04\n",
      "Epoch 215/800\n",
      "29/29 [==============================] - 0s 3ms/step - loss: 0.8377 - mean_euclidean_error: 0.3026 - val_loss: 1.0498 - val_mean_euclidean_error: 0.5581 - lr: 2.6000e-04\n",
      "Epoch 216/800\n",
      "29/29 [==============================] - 0s 3ms/step - loss: 0.8322 - mean_euclidean_error: 0.2997 - val_loss: 1.0309 - val_mean_euclidean_error: 0.5670 - lr: 2.6000e-04\n",
      "Epoch 217/800\n",
      "29/29 [==============================] - 0s 3ms/step - loss: 0.8358 - mean_euclidean_error: 0.3060 - val_loss: 1.0361 - val_mean_euclidean_error: 0.6046 - lr: 2.6000e-04\n",
      "Epoch 218/800\n",
      "29/29 [==============================] - 0s 3ms/step - loss: 0.8331 - mean_euclidean_error: 0.3049 - val_loss: 1.0138 - val_mean_euclidean_error: 0.5793 - lr: 2.6000e-04\n",
      "Epoch 219/800\n",
      "29/29 [==============================] - 0s 3ms/step - loss: 0.8340 - mean_euclidean_error: 0.3147 - val_loss: 1.0378 - val_mean_euclidean_error: 0.6508 - lr: 2.6000e-04\n",
      "Epoch 220/800\n",
      "29/29 [==============================] - 0s 3ms/step - loss: 0.8414 - mean_euclidean_error: 0.3416 - val_loss: 1.0101 - val_mean_euclidean_error: 0.5841 - lr: 2.6000e-04\n",
      "Epoch 221/800\n",
      "29/29 [==============================] - 0s 3ms/step - loss: 0.8358 - mean_euclidean_error: 0.3146 - val_loss: 1.0133 - val_mean_euclidean_error: 0.5653 - lr: 2.6000e-04\n",
      "Epoch 222/800\n",
      "29/29 [==============================] - 0s 3ms/step - loss: 0.8227 - mean_euclidean_error: 0.2918 - val_loss: 1.0300 - val_mean_euclidean_error: 0.5584 - lr: 2.6000e-04\n",
      "Epoch 223/800\n",
      "29/29 [==============================] - 0s 3ms/step - loss: 0.8221 - mean_euclidean_error: 0.2908 - val_loss: 1.0326 - val_mean_euclidean_error: 0.6042 - lr: 2.6000e-04\n",
      "Epoch 224/800\n",
      "29/29 [==============================] - 0s 3ms/step - loss: 0.8308 - mean_euclidean_error: 0.3263 - val_loss: 1.0369 - val_mean_euclidean_error: 0.6149 - lr: 2.6000e-04\n",
      "Epoch 225/800\n",
      "29/29 [==============================] - 0s 3ms/step - loss: 0.8282 - mean_euclidean_error: 0.3087 - val_loss: 0.9943 - val_mean_euclidean_error: 0.5897 - lr: 2.6000e-04\n",
      "Epoch 226/800\n",
      "29/29 [==============================] - 0s 3ms/step - loss: 0.8227 - mean_euclidean_error: 0.3078 - val_loss: 1.0360 - val_mean_euclidean_error: 0.6181 - lr: 2.6000e-04\n",
      "Epoch 227/800\n",
      "29/29 [==============================] - 0s 3ms/step - loss: 0.8259 - mean_euclidean_error: 0.3214 - val_loss: 1.0327 - val_mean_euclidean_error: 0.6007 - lr: 2.6000e-04\n",
      "Epoch 228/800\n",
      "29/29 [==============================] - 0s 3ms/step - loss: 0.8159 - mean_euclidean_error: 0.2974 - val_loss: 1.0135 - val_mean_euclidean_error: 0.5310 - lr: 2.6000e-04\n",
      "Epoch 229/800\n",
      "29/29 [==============================] - 0s 4ms/step - loss: 0.8121 - mean_euclidean_error: 0.2860 - val_loss: 1.0246 - val_mean_euclidean_error: 0.5706 - lr: 2.6000e-04\n",
      "Epoch 230/800\n",
      "29/29 [==============================] - 0s 3ms/step - loss: 0.8176 - mean_euclidean_error: 0.3123 - val_loss: 1.0043 - val_mean_euclidean_error: 0.5708 - lr: 2.6000e-04\n",
      "Epoch 231/800\n",
      "29/29 [==============================] - 0s 2ms/step - loss: 0.8129 - mean_euclidean_error: 0.2989 - val_loss: 0.9905 - val_mean_euclidean_error: 0.5549 - lr: 2.6000e-04\n",
      "Epoch 232/800\n",
      "29/29 [==============================] - 0s 3ms/step - loss: 0.8127 - mean_euclidean_error: 0.3053 - val_loss: 0.9987 - val_mean_euclidean_error: 0.5930 - lr: 2.6000e-04\n",
      "Epoch 233/800\n",
      "29/29 [==============================] - 0s 3ms/step - loss: 0.8103 - mean_euclidean_error: 0.2992 - val_loss: 1.0081 - val_mean_euclidean_error: 0.5793 - lr: 2.6000e-04\n",
      "Epoch 234/800\n",
      "29/29 [==============================] - 0s 3ms/step - loss: 0.8075 - mean_euclidean_error: 0.3118 - val_loss: 1.0069 - val_mean_euclidean_error: 0.5769 - lr: 2.6000e-04\n",
      "Epoch 235/800\n",
      "29/29 [==============================] - 0s 3ms/step - loss: 0.8066 - mean_euclidean_error: 0.3016 - val_loss: 0.9973 - val_mean_euclidean_error: 0.5923 - lr: 2.6000e-04\n",
      "Epoch 236/800\n",
      "29/29 [==============================] - 0s 3ms/step - loss: 0.8090 - mean_euclidean_error: 0.3166 - val_loss: 0.9901 - val_mean_euclidean_error: 0.5585 - lr: 2.6000e-04\n",
      "Epoch 237/800\n",
      "29/29 [==============================] - 0s 3ms/step - loss: 0.8105 - mean_euclidean_error: 0.3114 - val_loss: 0.9709 - val_mean_euclidean_error: 0.5603 - lr: 2.6000e-04\n",
      "Epoch 238/800\n",
      "29/29 [==============================] - 0s 3ms/step - loss: 0.8052 - mean_euclidean_error: 0.3055 - val_loss: 0.9709 - val_mean_euclidean_error: 0.5650 - lr: 2.6000e-04\n",
      "Epoch 239/800\n",
      "29/29 [==============================] - 0s 3ms/step - loss: 0.8016 - mean_euclidean_error: 0.2976 - val_loss: 1.0014 - val_mean_euclidean_error: 0.5803 - lr: 2.6000e-04\n",
      "Epoch 240/800\n",
      "29/29 [==============================] - 0s 3ms/step - loss: 0.7987 - mean_euclidean_error: 0.2878 - val_loss: 0.9980 - val_mean_euclidean_error: 0.6265 - lr: 2.6000e-04\n",
      "Epoch 241/800\n",
      "29/29 [==============================] - 0s 3ms/step - loss: 0.8039 - mean_euclidean_error: 0.3200 - val_loss: 0.9977 - val_mean_euclidean_error: 0.6139 - lr: 2.6000e-04\n",
      "Epoch 242/800\n",
      "29/29 [==============================] - 0s 4ms/step - loss: 0.7970 - mean_euclidean_error: 0.2971 - val_loss: 0.9790 - val_mean_euclidean_error: 0.6097 - lr: 2.6000e-04\n",
      "Epoch 243/800\n",
      "29/29 [==============================] - 0s 3ms/step - loss: 0.8018 - mean_euclidean_error: 0.3177 - val_loss: 1.0057 - val_mean_euclidean_error: 0.6085 - lr: 2.6000e-04\n",
      "Epoch 244/800\n",
      "29/29 [==============================] - 0s 3ms/step - loss: 0.8115 - mean_euclidean_error: 0.3561 - val_loss: 1.0208 - val_mean_euclidean_error: 0.6200 - lr: 2.6000e-04\n",
      "Epoch 245/800\n",
      "29/29 [==============================] - 0s 3ms/step - loss: 0.8270 - mean_euclidean_error: 0.3642 - val_loss: 0.9693 - val_mean_euclidean_error: 0.5546 - lr: 2.6000e-04\n",
      "Epoch 246/800\n",
      "29/29 [==============================] - 0s 3ms/step - loss: 0.7928 - mean_euclidean_error: 0.2908 - val_loss: 0.9780 - val_mean_euclidean_error: 0.5918 - lr: 2.6000e-04\n",
      "Epoch 247/800\n",
      "29/29 [==============================] - 0s 3ms/step - loss: 0.7871 - mean_euclidean_error: 0.2790 - val_loss: 0.9661 - val_mean_euclidean_error: 0.5336 - lr: 2.6000e-04\n",
      "Epoch 248/800\n",
      "29/29 [==============================] - 0s 3ms/step - loss: 0.7859 - mean_euclidean_error: 0.2791 - val_loss: 0.9844 - val_mean_euclidean_error: 0.6046 - lr: 2.6000e-04\n",
      "Epoch 249/800\n",
      "29/29 [==============================] - 0s 3ms/step - loss: 0.7860 - mean_euclidean_error: 0.2884 - val_loss: 0.9546 - val_mean_euclidean_error: 0.5661 - lr: 2.6000e-04\n",
      "Epoch 250/800\n",
      "29/29 [==============================] - 0s 3ms/step - loss: 0.7975 - mean_euclidean_error: 0.3180 - val_loss: 0.9935 - val_mean_euclidean_error: 0.6094 - lr: 2.6000e-04\n",
      "Epoch 251/800\n",
      "29/29 [==============================] - 0s 3ms/step - loss: 0.7907 - mean_euclidean_error: 0.3030 - val_loss: 0.9600 - val_mean_euclidean_error: 0.5595 - lr: 2.6000e-04\n",
      "Epoch 252/800\n",
      "29/29 [==============================] - 0s 3ms/step - loss: 0.7817 - mean_euclidean_error: 0.2835 - val_loss: 0.9673 - val_mean_euclidean_error: 0.5714 - lr: 2.6000e-04\n",
      "Epoch 253/800\n",
      "29/29 [==============================] - 0s 3ms/step - loss: 0.7943 - mean_euclidean_error: 0.3327 - val_loss: 0.9615 - val_mean_euclidean_error: 0.5808 - lr: 2.6000e-04\n",
      "Epoch 254/800\n",
      "29/29 [==============================] - 0s 3ms/step - loss: 0.7825 - mean_euclidean_error: 0.2956 - val_loss: 0.9515 - val_mean_euclidean_error: 0.5338 - lr: 2.6000e-04\n",
      "Epoch 255/800\n",
      "29/29 [==============================] - 0s 3ms/step - loss: 0.7804 - mean_euclidean_error: 0.2932 - val_loss: 0.9740 - val_mean_euclidean_error: 0.5574 - lr: 2.6000e-04\n",
      "Epoch 256/800\n",
      "29/29 [==============================] - 0s 4ms/step - loss: 0.7850 - mean_euclidean_error: 0.3087 - val_loss: 0.9545 - val_mean_euclidean_error: 0.6118 - lr: 2.6000e-04\n",
      "Epoch 257/800\n",
      "29/29 [==============================] - 0s 3ms/step - loss: 0.7971 - mean_euclidean_error: 0.3407 - val_loss: 0.9507 - val_mean_euclidean_error: 0.5513 - lr: 2.6000e-04\n",
      "Epoch 258/800\n",
      "29/29 [==============================] - 0s 3ms/step - loss: 0.7860 - mean_euclidean_error: 0.3155 - val_loss: 0.9670 - val_mean_euclidean_error: 0.5996 - lr: 2.6000e-04\n",
      "Epoch 259/800\n",
      "29/29 [==============================] - 0s 3ms/step - loss: 0.7817 - mean_euclidean_error: 0.3076 - val_loss: 0.9659 - val_mean_euclidean_error: 0.5712 - lr: 2.6000e-04\n",
      "Epoch 260/800\n",
      "29/29 [==============================] - 0s 3ms/step - loss: 0.7725 - mean_euclidean_error: 0.2818 - val_loss: 0.9756 - val_mean_euclidean_error: 0.5865 - lr: 2.6000e-04\n",
      "Epoch 261/800\n",
      "29/29 [==============================] - 0s 3ms/step - loss: 0.7797 - mean_euclidean_error: 0.3292 - val_loss: 0.9682 - val_mean_euclidean_error: 0.5964 - lr: 2.6000e-04\n",
      "Epoch 262/800\n",
      "29/29 [==============================] - 0s 3ms/step - loss: 0.8093 - mean_euclidean_error: 0.3640 - val_loss: 0.9384 - val_mean_euclidean_error: 0.5748 - lr: 2.6000e-04\n",
      "Epoch 263/800\n",
      "29/29 [==============================] - 0s 2ms/step - loss: 0.7768 - mean_euclidean_error: 0.2925 - val_loss: 0.9369 - val_mean_euclidean_error: 0.5383 - lr: 2.6000e-04\n",
      "Epoch 264/800\n",
      "29/29 [==============================] - 0s 2ms/step - loss: 0.7670 - mean_euclidean_error: 0.2715 - val_loss: 0.9721 - val_mean_euclidean_error: 0.5587 - lr: 2.6000e-04\n",
      "Epoch 265/800\n",
      "29/29 [==============================] - 0s 2ms/step - loss: 0.7743 - mean_euclidean_error: 0.3035 - val_loss: 0.9552 - val_mean_euclidean_error: 0.5608 - lr: 2.6000e-04\n",
      "Epoch 266/800\n",
      "29/29 [==============================] - 0s 2ms/step - loss: 0.7777 - mean_euclidean_error: 0.3056 - val_loss: 0.9283 - val_mean_euclidean_error: 0.5519 - lr: 2.6000e-04\n",
      "Epoch 267/800\n",
      "29/29 [==============================] - 0s 3ms/step - loss: 0.7710 - mean_euclidean_error: 0.3059 - val_loss: 0.9509 - val_mean_euclidean_error: 0.5683 - lr: 2.6000e-04\n",
      "Epoch 268/800\n",
      "29/29 [==============================] - 0s 2ms/step - loss: 0.7768 - mean_euclidean_error: 0.3249 - val_loss: 0.9451 - val_mean_euclidean_error: 0.5579 - lr: 2.6000e-04\n",
      "Epoch 269/800\n",
      "29/29 [==============================] - 0s 2ms/step - loss: 0.7666 - mean_euclidean_error: 0.2939 - val_loss: 0.9425 - val_mean_euclidean_error: 0.5339 - lr: 2.6000e-04\n",
      "Epoch 270/800\n",
      "29/29 [==============================] - 0s 3ms/step - loss: 0.7722 - mean_euclidean_error: 0.3001 - val_loss: 0.9325 - val_mean_euclidean_error: 0.5275 - lr: 2.6000e-04\n",
      "Epoch 271/800\n",
      "29/29 [==============================] - 0s 2ms/step - loss: 0.7654 - mean_euclidean_error: 0.2907 - val_loss: 0.9456 - val_mean_euclidean_error: 0.5430 - lr: 2.6000e-04\n",
      "Epoch 272/800\n",
      "29/29 [==============================] - 0s 2ms/step - loss: 0.7576 - mean_euclidean_error: 0.2772 - val_loss: 0.9361 - val_mean_euclidean_error: 0.5461 - lr: 2.6000e-04\n",
      "Epoch 273/800\n",
      "29/29 [==============================] - 0s 2ms/step - loss: 0.7658 - mean_euclidean_error: 0.3103 - val_loss: 0.9267 - val_mean_euclidean_error: 0.5654 - lr: 2.6000e-04\n",
      "Epoch 274/800\n",
      "29/29 [==============================] - 0s 3ms/step - loss: 0.7642 - mean_euclidean_error: 0.3072 - val_loss: 0.9443 - val_mean_euclidean_error: 0.5865 - lr: 2.6000e-04\n",
      "Epoch 275/800\n",
      "29/29 [==============================] - 0s 2ms/step - loss: 0.7566 - mean_euclidean_error: 0.2773 - val_loss: 0.9231 - val_mean_euclidean_error: 0.5558 - lr: 2.6000e-04\n",
      "Epoch 276/800\n",
      "29/29 [==============================] - 0s 2ms/step - loss: 0.7563 - mean_euclidean_error: 0.2912 - val_loss: 0.9341 - val_mean_euclidean_error: 0.5849 - lr: 2.6000e-04\n",
      "Epoch 277/800\n",
      "29/29 [==============================] - 0s 2ms/step - loss: 0.7631 - mean_euclidean_error: 0.3161 - val_loss: 0.9401 - val_mean_euclidean_error: 0.5965 - lr: 2.6000e-04\n",
      "Epoch 278/800\n",
      "29/29 [==============================] - 0s 2ms/step - loss: 0.7692 - mean_euclidean_error: 0.3321 - val_loss: 0.9402 - val_mean_euclidean_error: 0.5782 - lr: 2.6000e-04\n",
      "Epoch 279/800\n",
      "29/29 [==============================] - 0s 2ms/step - loss: 0.7566 - mean_euclidean_error: 0.3034 - val_loss: 0.9120 - val_mean_euclidean_error: 0.5382 - lr: 2.6000e-04\n",
      "Epoch 280/800\n",
      "29/29 [==============================] - 0s 2ms/step - loss: 0.7551 - mean_euclidean_error: 0.2968 - val_loss: 0.9441 - val_mean_euclidean_error: 0.5763 - lr: 2.6000e-04\n",
      "Epoch 281/800\n",
      "29/29 [==============================] - 0s 4ms/step - loss: 0.7593 - mean_euclidean_error: 0.3154 - val_loss: 0.9359 - val_mean_euclidean_error: 0.5529 - lr: 2.6000e-04\n",
      "Epoch 282/800\n",
      "29/29 [==============================] - 0s 2ms/step - loss: 0.7606 - mean_euclidean_error: 0.3120 - val_loss: 0.9251 - val_mean_euclidean_error: 0.5777 - lr: 2.6000e-04\n",
      "Epoch 283/800\n",
      "29/29 [==============================] - 0s 2ms/step - loss: 0.7568 - mean_euclidean_error: 0.3087 - val_loss: 0.9764 - val_mean_euclidean_error: 0.6196 - lr: 2.6000e-04\n",
      "Epoch 284/800\n",
      "29/29 [==============================] - 0s 2ms/step - loss: 0.7603 - mean_euclidean_error: 0.3188 - val_loss: 0.9208 - val_mean_euclidean_error: 0.5831 - lr: 2.6000e-04\n",
      "Epoch 285/800\n",
      "29/29 [==============================] - 0s 2ms/step - loss: 0.7588 - mean_euclidean_error: 0.3227 - val_loss: 0.9276 - val_mean_euclidean_error: 0.5848 - lr: 2.6000e-04\n",
      "Epoch 286/800\n",
      "29/29 [==============================] - 0s 2ms/step - loss: 0.7617 - mean_euclidean_error: 0.3487 - val_loss: 0.9220 - val_mean_euclidean_error: 0.5735 - lr: 2.6000e-04\n",
      "Epoch 287/800\n",
      "29/29 [==============================] - 0s 2ms/step - loss: 0.7508 - mean_euclidean_error: 0.3034 - val_loss: 0.9211 - val_mean_euclidean_error: 0.5627 - lr: 2.6000e-04\n",
      "Epoch 288/800\n",
      "29/29 [==============================] - 0s 2ms/step - loss: 0.7570 - mean_euclidean_error: 0.3285 - val_loss: 0.9102 - val_mean_euclidean_error: 0.5498 - lr: 2.6000e-04\n",
      "Epoch 289/800\n",
      "29/29 [==============================] - 0s 2ms/step - loss: 0.7524 - mean_euclidean_error: 0.3144 - val_loss: 0.9033 - val_mean_euclidean_error: 0.6134 - lr: 2.6000e-04\n",
      "Epoch 290/800\n",
      "29/29 [==============================] - 0s 2ms/step - loss: 0.7482 - mean_euclidean_error: 0.3017 - val_loss: 0.9019 - val_mean_euclidean_error: 0.5441 - lr: 2.6000e-04\n",
      "Epoch 291/800\n",
      "29/29 [==============================] - 0s 2ms/step - loss: 0.7435 - mean_euclidean_error: 0.2958 - val_loss: 0.9037 - val_mean_euclidean_error: 0.5301 - lr: 2.6000e-04\n",
      "Epoch 292/800\n",
      "29/29 [==============================] - 0s 3ms/step - loss: 0.7451 - mean_euclidean_error: 0.2970 - val_loss: 0.9240 - val_mean_euclidean_error: 0.6096 - lr: 2.6000e-04\n",
      "Epoch 293/800\n",
      "29/29 [==============================] - 0s 2ms/step - loss: 0.7431 - mean_euclidean_error: 0.2910 - val_loss: 0.9097 - val_mean_euclidean_error: 0.5533 - lr: 2.6000e-04\n",
      "Epoch 294/800\n",
      "29/29 [==============================] - 0s 2ms/step - loss: 0.7384 - mean_euclidean_error: 0.2821 - val_loss: 0.8979 - val_mean_euclidean_error: 0.5462 - lr: 2.6000e-04\n",
      "Epoch 295/800\n",
      "29/29 [==============================] - 0s 3ms/step - loss: 0.7437 - mean_euclidean_error: 0.2936 - val_loss: 0.9067 - val_mean_euclidean_error: 0.5705 - lr: 2.6000e-04\n",
      "Epoch 296/800\n",
      "29/29 [==============================] - 0s 2ms/step - loss: 0.7451 - mean_euclidean_error: 0.3107 - val_loss: 0.9062 - val_mean_euclidean_error: 0.6017 - lr: 2.6000e-04\n",
      "Epoch 297/800\n",
      "29/29 [==============================] - 0s 2ms/step - loss: 0.7411 - mean_euclidean_error: 0.3053 - val_loss: 0.8990 - val_mean_euclidean_error: 0.5682 - lr: 2.6000e-04\n",
      "Epoch 298/800\n",
      "29/29 [==============================] - 0s 3ms/step - loss: 0.7391 - mean_euclidean_error: 0.3042 - val_loss: 0.8917 - val_mean_euclidean_error: 0.5340 - lr: 2.6000e-04\n",
      "Epoch 299/800\n",
      "29/29 [==============================] - 0s 2ms/step - loss: 0.7369 - mean_euclidean_error: 0.3033 - val_loss: 0.9034 - val_mean_euclidean_error: 0.5613 - lr: 2.6000e-04\n",
      "Epoch 300/800\n",
      "29/29 [==============================] - 0s 2ms/step - loss: 0.7476 - mean_euclidean_error: 0.3273 - val_loss: 0.8945 - val_mean_euclidean_error: 0.5318 - lr: 2.6000e-04\n",
      "Epoch 301/800\n",
      "29/29 [==============================] - 0s 2ms/step - loss: 0.7351 - mean_euclidean_error: 0.2938 - val_loss: 0.8859 - val_mean_euclidean_error: 0.5284 - lr: 2.6000e-04\n",
      "Epoch 302/800\n",
      "29/29 [==============================] - 0s 2ms/step - loss: 0.7373 - mean_euclidean_error: 0.3098 - val_loss: 0.8773 - val_mean_euclidean_error: 0.5449 - lr: 2.6000e-04\n",
      "Epoch 303/800\n",
      "29/29 [==============================] - 0s 2ms/step - loss: 0.7348 - mean_euclidean_error: 0.3087 - val_loss: 0.9109 - val_mean_euclidean_error: 0.5545 - lr: 2.6000e-04\n",
      "Epoch 304/800\n",
      "29/29 [==============================] - 0s 2ms/step - loss: 0.7404 - mean_euclidean_error: 0.3264 - val_loss: 0.8876 - val_mean_euclidean_error: 0.5229 - lr: 2.6000e-04\n",
      "Epoch 305/800\n",
      "29/29 [==============================] - 0s 3ms/step - loss: 0.7387 - mean_euclidean_error: 0.3096 - val_loss: 0.8916 - val_mean_euclidean_error: 0.5534 - lr: 2.6000e-04\n",
      "Epoch 306/800\n",
      "29/29 [==============================] - 0s 2ms/step - loss: 0.7282 - mean_euclidean_error: 0.2884 - val_loss: 0.8976 - val_mean_euclidean_error: 0.5661 - lr: 2.6000e-04\n",
      "Epoch 307/800\n",
      "29/29 [==============================] - 0s 2ms/step - loss: 0.7351 - mean_euclidean_error: 0.3022 - val_loss: 0.8734 - val_mean_euclidean_error: 0.5411 - lr: 2.6000e-04\n",
      "Epoch 308/800\n",
      "29/29 [==============================] - 0s 2ms/step - loss: 0.7266 - mean_euclidean_error: 0.2872 - val_loss: 0.8975 - val_mean_euclidean_error: 0.5486 - lr: 2.6000e-04\n",
      "Epoch 309/800\n",
      "29/29 [==============================] - 0s 2ms/step - loss: 0.7326 - mean_euclidean_error: 0.3147 - val_loss: 0.8769 - val_mean_euclidean_error: 0.5637 - lr: 2.6000e-04\n",
      "Epoch 310/800\n",
      "29/29 [==============================] - 0s 2ms/step - loss: 0.7291 - mean_euclidean_error: 0.3074 - val_loss: 0.9188 - val_mean_euclidean_error: 0.5918 - lr: 2.6000e-04\n",
      "Epoch 311/800\n",
      "29/29 [==============================] - 0s 2ms/step - loss: 0.7386 - mean_euclidean_error: 0.3348 - val_loss: 0.8663 - val_mean_euclidean_error: 0.5344 - lr: 2.6000e-04\n",
      "Epoch 312/800\n",
      "29/29 [==============================] - 0s 2ms/step - loss: 0.7317 - mean_euclidean_error: 0.3115 - val_loss: 0.8694 - val_mean_euclidean_error: 0.5191 - lr: 2.6000e-04\n",
      "Epoch 313/800\n",
      "29/29 [==============================] - 0s 2ms/step - loss: 0.7221 - mean_euclidean_error: 0.2870 - val_loss: 0.8697 - val_mean_euclidean_error: 0.5706 - lr: 2.6000e-04\n",
      "Epoch 314/800\n",
      "29/29 [==============================] - 0s 2ms/step - loss: 0.7302 - mean_euclidean_error: 0.3182 - val_loss: 0.8817 - val_mean_euclidean_error: 0.5654 - lr: 2.6000e-04\n",
      "Epoch 315/800\n",
      "29/29 [==============================] - 0s 2ms/step - loss: 0.7266 - mean_euclidean_error: 0.3076 - val_loss: 0.8876 - val_mean_euclidean_error: 0.5471 - lr: 2.6000e-04\n",
      "Epoch 316/800\n",
      "29/29 [==============================] - 0s 2ms/step - loss: 0.7212 - mean_euclidean_error: 0.2929 - val_loss: 0.8691 - val_mean_euclidean_error: 0.5094 - lr: 2.6000e-04\n",
      "Epoch 317/800\n",
      "29/29 [==============================] - 0s 2ms/step - loss: 0.7240 - mean_euclidean_error: 0.3065 - val_loss: 0.8774 - val_mean_euclidean_error: 0.5648 - lr: 2.6000e-04\n",
      "Epoch 318/800\n",
      "29/29 [==============================] - 0s 3ms/step - loss: 0.7339 - mean_euclidean_error: 0.3372 - val_loss: 0.8872 - val_mean_euclidean_error: 0.5935 - lr: 2.6000e-04\n",
      "Epoch 319/800\n",
      "29/29 [==============================] - 0s 2ms/step - loss: 0.7215 - mean_euclidean_error: 0.2943 - val_loss: 0.8863 - val_mean_euclidean_error: 0.5522 - lr: 2.6000e-04\n",
      "Epoch 320/800\n",
      "29/29 [==============================] - 0s 2ms/step - loss: 0.7235 - mean_euclidean_error: 0.3080 - val_loss: 0.8956 - val_mean_euclidean_error: 0.5533 - lr: 2.6000e-04\n",
      "Epoch 321/800\n",
      "29/29 [==============================] - 0s 3ms/step - loss: 0.7150 - mean_euclidean_error: 0.2821 - val_loss: 0.8577 - val_mean_euclidean_error: 0.4837 - lr: 2.6000e-04\n",
      "Epoch 322/800\n",
      "29/29 [==============================] - 0s 2ms/step - loss: 0.7137 - mean_euclidean_error: 0.2753 - val_loss: 0.8894 - val_mean_euclidean_error: 0.6101 - lr: 2.6000e-04\n",
      "Epoch 323/800\n",
      "29/29 [==============================] - 0s 2ms/step - loss: 0.7246 - mean_euclidean_error: 0.3109 - val_loss: 0.8857 - val_mean_euclidean_error: 0.5869 - lr: 2.6000e-04\n",
      "Epoch 324/800\n",
      "29/29 [==============================] - 0s 2ms/step - loss: 0.7245 - mean_euclidean_error: 0.3286 - val_loss: 0.9142 - val_mean_euclidean_error: 0.5635 - lr: 2.6000e-04\n",
      "Epoch 325/800\n",
      "29/29 [==============================] - 0s 2ms/step - loss: 0.7202 - mean_euclidean_error: 0.3102 - val_loss: 0.8480 - val_mean_euclidean_error: 0.5311 - lr: 2.6000e-04\n",
      "Epoch 326/800\n",
      "29/29 [==============================] - 0s 2ms/step - loss: 0.7118 - mean_euclidean_error: 0.2809 - val_loss: 0.8804 - val_mean_euclidean_error: 0.5546 - lr: 2.6000e-04\n",
      "Epoch 327/800\n",
      "29/29 [==============================] - 0s 2ms/step - loss: 0.7104 - mean_euclidean_error: 0.2873 - val_loss: 0.8594 - val_mean_euclidean_error: 0.5347 - lr: 2.6000e-04\n",
      "Epoch 328/800\n",
      "29/29 [==============================] - 0s 2ms/step - loss: 0.7108 - mean_euclidean_error: 0.2897 - val_loss: 0.8693 - val_mean_euclidean_error: 0.5557 - lr: 2.6000e-04\n",
      "Epoch 329/800\n",
      "29/29 [==============================] - 0s 3ms/step - loss: 0.7138 - mean_euclidean_error: 0.3053 - val_loss: 0.8547 - val_mean_euclidean_error: 0.5261 - lr: 2.6000e-04\n",
      "Epoch 330/800\n",
      "29/29 [==============================] - 0s 2ms/step - loss: 0.7099 - mean_euclidean_error: 0.2946 - val_loss: 0.8599 - val_mean_euclidean_error: 0.5706 - lr: 2.6000e-04\n",
      "Epoch 331/800\n",
      "29/29 [==============================] - 0s 3ms/step - loss: 0.7129 - mean_euclidean_error: 0.3002 - val_loss: 0.8776 - val_mean_euclidean_error: 0.5929 - lr: 2.6000e-04\n",
      "Epoch 332/800\n",
      "29/29 [==============================] - 0s 2ms/step - loss: 0.7127 - mean_euclidean_error: 0.3169 - val_loss: 0.8614 - val_mean_euclidean_error: 0.5700 - lr: 2.6000e-04\n",
      "Epoch 333/800\n",
      "29/29 [==============================] - 0s 2ms/step - loss: 0.7107 - mean_euclidean_error: 0.3021 - val_loss: 0.8689 - val_mean_euclidean_error: 0.5749 - lr: 2.6000e-04\n",
      "Epoch 334/800\n",
      "29/29 [==============================] - 0s 2ms/step - loss: 0.7147 - mean_euclidean_error: 0.3294 - val_loss: 0.8298 - val_mean_euclidean_error: 0.5019 - lr: 2.6000e-04\n",
      "Epoch 335/800\n",
      "29/29 [==============================] - 0s 2ms/step - loss: 0.7149 - mean_euclidean_error: 0.3147 - val_loss: 0.8752 - val_mean_euclidean_error: 0.5756 - lr: 2.6000e-04\n",
      "Epoch 336/800\n",
      "29/29 [==============================] - 0s 2ms/step - loss: 0.7097 - mean_euclidean_error: 0.3136 - val_loss: 0.8382 - val_mean_euclidean_error: 0.4992 - lr: 2.6000e-04\n",
      "Epoch 337/800\n",
      "29/29 [==============================] - 0s 2ms/step - loss: 0.7003 - mean_euclidean_error: 0.2817 - val_loss: 0.8349 - val_mean_euclidean_error: 0.4973 - lr: 2.6000e-04\n",
      "Epoch 338/800\n",
      "29/29 [==============================] - 0s 2ms/step - loss: 0.6997 - mean_euclidean_error: 0.2844 - val_loss: 0.8736 - val_mean_euclidean_error: 0.5211 - lr: 2.6000e-04\n",
      "Epoch 339/800\n",
      "29/29 [==============================] - 0s 2ms/step - loss: 0.7081 - mean_euclidean_error: 0.3094 - val_loss: 0.8466 - val_mean_euclidean_error: 0.5558 - lr: 2.6000e-04\n",
      "Epoch 340/800\n",
      "29/29 [==============================] - 0s 2ms/step - loss: 0.7019 - mean_euclidean_error: 0.2960 - val_loss: 0.8412 - val_mean_euclidean_error: 0.5735 - lr: 2.6000e-04\n",
      "Epoch 341/800\n",
      "29/29 [==============================] - 0s 2ms/step - loss: 0.7020 - mean_euclidean_error: 0.3017 - val_loss: 0.8577 - val_mean_euclidean_error: 0.5234 - lr: 2.6000e-04\n",
      "Epoch 342/800\n",
      "29/29 [==============================] - 0s 2ms/step - loss: 0.6965 - mean_euclidean_error: 0.2823 - val_loss: 0.8533 - val_mean_euclidean_error: 0.5458 - lr: 2.6000e-04\n",
      "Epoch 343/800\n",
      "29/29 [==============================] - 0s 2ms/step - loss: 0.6977 - mean_euclidean_error: 0.2944 - val_loss: 0.8481 - val_mean_euclidean_error: 0.5511 - lr: 2.6000e-04\n",
      "Epoch 344/800\n",
      "29/29 [==============================] - 0s 3ms/step - loss: 0.7039 - mean_euclidean_error: 0.3153 - val_loss: 0.8531 - val_mean_euclidean_error: 0.5697 - lr: 2.6000e-04\n",
      "Epoch 345/800\n",
      "29/29 [==============================] - 0s 2ms/step - loss: 0.7027 - mean_euclidean_error: 0.3133 - val_loss: 0.8442 - val_mean_euclidean_error: 0.5259 - lr: 2.6000e-04\n",
      "Epoch 346/800\n",
      "29/29 [==============================] - 0s 2ms/step - loss: 0.7082 - mean_euclidean_error: 0.3225 - val_loss: 0.8600 - val_mean_euclidean_error: 0.5448 - lr: 2.6000e-04\n",
      "Epoch 347/800\n",
      "29/29 [==============================] - 0s 3ms/step - loss: 0.6981 - mean_euclidean_error: 0.2952 - val_loss: 0.8348 - val_mean_euclidean_error: 0.5247 - lr: 2.6000e-04\n",
      "Epoch 348/800\n",
      "29/29 [==============================] - 0s 2ms/step - loss: 0.6911 - mean_euclidean_error: 0.2753 - val_loss: 0.8529 - val_mean_euclidean_error: 0.5460 - lr: 2.6000e-04\n",
      "Epoch 349/800\n",
      "29/29 [==============================] - 0s 2ms/step - loss: 0.6939 - mean_euclidean_error: 0.2933 - val_loss: 0.8390 - val_mean_euclidean_error: 0.5515 - lr: 2.6000e-04\n",
      "Epoch 350/800\n",
      "29/29 [==============================] - 0s 2ms/step - loss: 0.6958 - mean_euclidean_error: 0.3036 - val_loss: 0.8400 - val_mean_euclidean_error: 0.5596 - lr: 2.6000e-04\n",
      "Epoch 351/800\n",
      "29/29 [==============================] - 0s 2ms/step - loss: 0.6919 - mean_euclidean_error: 0.2961 - val_loss: 0.8297 - val_mean_euclidean_error: 0.5442 - lr: 2.6000e-04\n",
      "Epoch 352/800\n",
      "29/29 [==============================] - 0s 2ms/step - loss: 0.6993 - mean_euclidean_error: 0.3074 - val_loss: 0.8310 - val_mean_euclidean_error: 0.5080 - lr: 2.6000e-04\n",
      "Epoch 353/800\n",
      "29/29 [==============================] - 0s 2ms/step - loss: 0.6965 - mean_euclidean_error: 0.3088 - val_loss: 0.8368 - val_mean_euclidean_error: 0.5638 - lr: 2.6000e-04\n",
      "Epoch 354/800\n",
      "29/29 [==============================] - 0s 2ms/step - loss: 0.6969 - mean_euclidean_error: 0.3220 - val_loss: 0.8516 - val_mean_euclidean_error: 0.5546 - lr: 2.6000e-04\n",
      "Epoch 355/800\n",
      "29/29 [==============================] - 0s 2ms/step - loss: 0.6963 - mean_euclidean_error: 0.3192 - val_loss: 0.8352 - val_mean_euclidean_error: 0.5460 - lr: 2.6000e-04\n",
      "Epoch 356/800\n",
      "29/29 [==============================] - 0s 2ms/step - loss: 0.6901 - mean_euclidean_error: 0.3105 - val_loss: 0.8214 - val_mean_euclidean_error: 0.5179 - lr: 2.6000e-04\n",
      "Epoch 357/800\n",
      "29/29 [==============================] - 0s 2ms/step - loss: 0.7118 - mean_euclidean_error: 0.3390 - val_loss: 0.8306 - val_mean_euclidean_error: 0.5270 - lr: 2.6000e-04\n",
      "Epoch 358/800\n",
      "29/29 [==============================] - 0s 2ms/step - loss: 0.6888 - mean_euclidean_error: 0.2975 - val_loss: 0.8164 - val_mean_euclidean_error: 0.4918 - lr: 2.6000e-04\n",
      "Epoch 359/800\n",
      "29/29 [==============================] - 0s 2ms/step - loss: 0.6871 - mean_euclidean_error: 0.2903 - val_loss: 0.8223 - val_mean_euclidean_error: 0.5195 - lr: 2.6000e-04\n",
      "Epoch 360/800\n",
      "29/29 [==============================] - 0s 2ms/step - loss: 0.6923 - mean_euclidean_error: 0.3076 - val_loss: 0.8285 - val_mean_euclidean_error: 0.5168 - lr: 2.6000e-04\n",
      "Epoch 361/800\n",
      "29/29 [==============================] - 0s 2ms/step - loss: 0.6859 - mean_euclidean_error: 0.2982 - val_loss: 0.8307 - val_mean_euclidean_error: 0.5304 - lr: 2.6000e-04\n",
      "Epoch 362/800\n",
      "29/29 [==============================] - 0s 2ms/step - loss: 0.6839 - mean_euclidean_error: 0.2966 - val_loss: 0.8327 - val_mean_euclidean_error: 0.5305 - lr: 2.6000e-04\n",
      "Epoch 363/800\n",
      "29/29 [==============================] - 0s 2ms/step - loss: 0.6884 - mean_euclidean_error: 0.3031 - val_loss: 0.8221 - val_mean_euclidean_error: 0.5248 - lr: 2.6000e-04\n",
      "Epoch 364/800\n",
      "29/29 [==============================] - 0s 2ms/step - loss: 0.6820 - mean_euclidean_error: 0.2895 - val_loss: 0.8393 - val_mean_euclidean_error: 0.5224 - lr: 2.6000e-04\n",
      "Epoch 365/800\n",
      "29/29 [==============================] - 0s 2ms/step - loss: 0.6844 - mean_euclidean_error: 0.3013 - val_loss: 0.8250 - val_mean_euclidean_error: 0.5370 - lr: 2.6000e-04\n",
      "Epoch 366/800\n",
      "29/29 [==============================] - 0s 2ms/step - loss: 0.6806 - mean_euclidean_error: 0.2873 - val_loss: 0.8504 - val_mean_euclidean_error: 0.5490 - lr: 2.6000e-04\n",
      "Epoch 367/800\n",
      "29/29 [==============================] - 0s 2ms/step - loss: 0.6904 - mean_euclidean_error: 0.3144 - val_loss: 0.8379 - val_mean_euclidean_error: 0.5879 - lr: 2.6000e-04\n",
      "Epoch 368/800\n",
      "29/29 [==============================] - 0s 2ms/step - loss: 0.6837 - mean_euclidean_error: 0.3090 - val_loss: 0.8474 - val_mean_euclidean_error: 0.5527 - lr: 2.6000e-04\n",
      "Epoch 369/800\n",
      "29/29 [==============================] - 0s 2ms/step - loss: 0.6811 - mean_euclidean_error: 0.3051 - val_loss: 0.8015 - val_mean_euclidean_error: 0.5085 - lr: 2.6000e-04\n",
      "Epoch 370/800\n",
      "29/29 [==============================] - 0s 3ms/step - loss: 0.6792 - mean_euclidean_error: 0.2922 - val_loss: 0.8453 - val_mean_euclidean_error: 0.5625 - lr: 2.6000e-04\n",
      "Epoch 371/800\n",
      " 1/29 [>.............................] - ETA: 0s - loss: 0.6678 - mean_euclidean_error: 0.2741Restoring model weights from the end of the best epoch: 321.\n",
      "29/29 [==============================] - 0s 3ms/step - loss: 0.6798 - mean_euclidean_error: 0.2992 - val_loss: 0.8213 - val_mean_euclidean_error: 0.5246 - lr: 2.6000e-04\n",
      "\n",
      "Epoch 371: early stopping.\n",
      "Best validation mean_euclidean_error: 0.48365506529808044\n"
     ]
    }
   ],
   "source": [
    "# Create and train the final model\n",
    "#model_nn_cup = get_nn_adam_regressor(best_config_cup, x_train_cup.shape[1])\n",
    "#solver = Solver(model_nn_cup, x_train_cup, y_train_cup, x_internal_test_cup, y_internal_test_cup, target='mean_euclidean_error')\n",
    "#solver.train(epochs=800, patience=50, lr_scheduler=lr_scheduler)\n",
    "\n",
    "# With PolynomialFeatures pre-processing\n",
    "model_nn_cup = get_nn_adam_regressor(best_config_cup, x_train_cup_poly.shape[1])\n",
    "solver = Solver(model_nn_cup, x_train_cup_poly, y_train_cup, x_internal_test_cup_poly, y_internal_test_cup, target='mean_euclidean_error')\n",
    "solver.train(epochs=800, patience=50, lr_scheduler=lr_scheduler)"
   ]
  },
  {
   "cell_type": "code",
   "execution_count": 28,
   "id": "8400b3ff-c8be-470c-917f-1210fb910db3",
   "metadata": {},
   "outputs": [
    {
     "data": {
      "image/png": "[encoded data removed]",
      "text/plain": [
       "<Figure size 1200x500 with 2 Axes>"
      ]
     },
     "metadata": {},
     "output_type": "display_data"
    }
   ],
   "source": [
    "#solver.plot_history(results_dir + '/CUP/history', loss='MSE', metric='MEE')\n",
    "solver.plot_history(results_dir + '/CUP/history_poly', loss='MSE', metric='MEE')"
   ]
  },
  {
   "cell_type": "code",
   "execution_count": 29,
   "id": "79562e68-f0b7-4cc9-8446-fa0021cb551b",
   "metadata": {},
   "outputs": [
    {
     "name": "stdout",
     "output_type": "stream",
     "text": [
      "-- TRAINING --\n",
      "29/29 [==============================] - 0s 1ms/step - loss: 0.7070 - mean_euclidean_error: 0.2471\n",
      "Loss (MSE): 0.7070 -  MEE: 0.2471\n"
     ]
    }
   ],
   "source": [
    "#print('-- TRAINING --')\n",
    "#loss_train_cup, mee_train_cup = model_nn_cup.evaluate(x_train_cup, y_train_cup)\n",
    "#print(f'Loss (MSE): {loss_train_cup:.4f} -  MEE: {mee_train_cup:.4f}')\n",
    "\n",
    "print('-- TRAINING --')\n",
    "loss_train_cup, mee_train_cup = model_nn_cup.evaluate(x_train_cup_poly, y_train_cup)\n",
    "print(f'Loss (MSE): {loss_train_cup:.4f} -  MEE: {mee_train_cup:.4f}')"
   ]
  },
  {
   "cell_type": "code",
   "execution_count": 30,
   "id": "d3396544-f010-480b-96ff-7c156dd6c0e5",
   "metadata": {},
   "outputs": [
    {
     "name": "stdout",
     "output_type": "stream",
     "text": [
      "-- INTERNAL TEST --\n",
      "4/4 [==============================] - 0s 2ms/step - loss: 0.8577 - mean_euclidean_error: 0.4837\n",
      "Loss (MSE): 0.8577 -  MEE: 0.4837\n"
     ]
    }
   ],
   "source": [
    "#print('-- INTERNAL TEST --')\n",
    "#loss_internal_test_cup, mee_internal_test_cup = model_nn_cup.evaluate(x_internal_test_cup, y_internal_test_cup)\n",
    "#print(f'Loss (MSE): {loss_internal_test_cup:.4f} -  MEE: {mee_internal_test_cup:.4f}')\n",
    "\n",
    "print('-- INTERNAL TEST --')\n",
    "loss_internal_test_cup, mee_internal_test_cup = model_nn_cup.evaluate(x_internal_test_cup_poly, y_internal_test_cup)\n",
    "print(f'Loss (MSE): {loss_internal_test_cup:.4f} -  MEE: {mee_internal_test_cup:.4f}')"
   ]
  },
  {
   "cell_type": "markdown",
   "id": "bcfd7f89-31fb-4fab-86f2-c1dd33535c54",
   "metadata": {},
   "source": [
    "## Blind Test Predictions"
   ]
  },
  {
   "cell_type": "code",
   "execution_count": 31,
   "id": "3580e273-6396-4d4a-8c3f-6b7f04ba6008",
   "metadata": {},
   "outputs": [
    {
     "name": "stdout",
     "output_type": "stream",
     "text": [
      "29/29 [==============================] - 0s 892us/step\n"
     ]
    }
   ],
   "source": [
    "# Blind test set predictions\n",
    "#nn_preds_cup = model_nn_cup.predict(x_test_cup)\n",
    "\n",
    "x_test_cup_poly = poly.transform(x_test_cup)\n",
    "nn_preds_cup = model_nn_cup.predict(x_test_cup_poly)"
   ]
  },
  {
   "cell_type": "markdown",
   "id": "9d566752-12c9-4a6f-a732-a187d7aa63d4",
   "metadata": {},
   "source": [
    "## Store Result"
   ]
  },
  {
   "cell_type": "code",
   "execution_count": 32,
   "id": "94bd432d-e1a6-4b63-98e2-99261653cff1",
   "metadata": {},
   "outputs": [],
   "source": [
    "# Store model\n",
    "#model_nn_cup.save(results_dir + '/CUP/model_adam.keras')\n",
    "model_nn_cup.save(results_dir + '/CUP/model_adam_poly.keras')"
   ]
  },
  {
   "cell_type": "code",
   "execution_count": 33,
   "id": "e412529f-4dea-4d38-bd54-7c0e28d1819c",
   "metadata": {},
   "outputs": [],
   "source": [
    "# Store report\n",
    "report_nn = {\n",
    "    'train': {'mse': loss_train_cup, 'mee': mee_train_cup},\n",
    "    'internal_test': {'mse': loss_internal_test_cup, 'mee': mee_internal_test_cup}\n",
    "}\n",
    "\n",
    "#store_cup_result(results_dir + '/CUP/', best_config_cup, report_nn, nn_preds_cup)\n",
    "store_cup_result(results_dir + '/CUP/', best_config_cup, report_nn, nn_preds_cup, is_poly=True)"
   ]
  },
  {
   "cell_type": "code",
   "execution_count": null,
   "id": "6d4f8522-7c39-48a0-ab70-5714388ea8cb",
   "metadata": {},
   "outputs": [],
   "source": []
  }
 ],
 "metadata": {
  "kernelspec": {
   "display_name": "hlt",
   "language": "python",
   "name": "hlt"
  },
  "language_info": {
   "codemirror_mode": {
    "name": "ipython",
    "version": 3
   },
   "file_extension": ".py",
   "mimetype": "text/x-python",
   "name": "python",
   "nbconvert_exporter": "python",
   "pygments_lexer": "ipython3",
   "version": "3.9.7"
  }
 },
 "nbformat": 4,
 "nbformat_minor": 5
}
