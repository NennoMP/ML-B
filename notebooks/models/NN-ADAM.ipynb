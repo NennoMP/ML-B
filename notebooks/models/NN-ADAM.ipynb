{
 "cells": [
  {
   "cell_type": "markdown",
   "id": "59d3416e-3aee-496b-9a46-d86fab3fe008",
   "metadata": {
    "tags": []
   },
   "source": [
    "## Imports"
   ]
  },
  {
   "cell_type": "code",
   "execution_count": 1,
   "id": "15985a7e-4206-4f13-aaad-d38982df5f10",
   "metadata": {},
   "outputs": [],
   "source": [
    "import json\n",
    "import os\n",
    "import sys\n",
    "\n",
    "import numpy as np\n",
    "import pandas as pd\n",
    "import tensorflow as tf\n",
    "\n",
    "from sklearn.metrics import accuracy_score, mean_squared_error, make_scorer\n",
    "from sklearn.model_selection import train_test_split, StratifiedKFold, KFold\n",
    "\n",
    "from tensorflow.keras.models import Sequential\n",
    "from tensorflow.keras.layers import Input, Dense\n",
    "from tensorflow.keras.initializers import RandomUniform, RandomNormal, HeNormal, GlorotUniform, Constant, Zeros\n",
    "from keras.optimizers import Adam\n",
    "from tensorflow.keras.regularizers import l2\n",
    "\n",
    "\n",
    "dir_parts = os.getcwd().split(os.path.sep)\n",
    "root_index = dir_parts.index('ML-B')\n",
    "root_path = os.path.sep.join(dir_parts[:root_index + 1])\n",
    "sys.path.append(root_path + '/code/')\n",
    "from data.data_config import Dataset\n",
    "from data.data_utils import load_monk, load_cup, store_monk_result, store_cup_result\n",
    "from hyperparameter_tuning import grid_search, random_search, tuning_search_top_configs\n",
    "from training.solver import Solver\n",
    "\n",
    "%load_ext autoreload\n",
    "%autoreload 2"
   ]
  },
  {
   "cell_type": "markdown",
   "id": "2c866a15-7062-4d33-a206-2ec35f8643f1",
   "metadata": {
    "tags": []
   },
   "source": [
    "# Neural Networks\n",
    "In this notebook we implement and test a custom (feed-forward) Neural Network w.r.t. the tasks at hand, i.e. the three MONK's problem and the CUP dataset.\n",
    "\n",
    "Specifically:\n",
    "- **get_nn_classifier(...)**: defines the NN classifier for the MONK's problems;\n",
    "- **get_nn_regressor(...)**: defines the NN regressor for the CUP dataset."
   ]
  },
  {
   "cell_type": "markdown",
   "id": "558a076d-71ee-46dc-949f-caa3a3bf2df7",
   "metadata": {
    "tags": []
   },
   "source": [
    "## Settings"
   ]
  },
  {
   "cell_type": "code",
   "execution_count": 2,
   "id": "1fcfe3c3-e764-453e-879e-96937623ab48",
   "metadata": {
    "tags": []
   },
   "outputs": [],
   "source": [
    "MODEL_NAME = 'NN-ADAM'\n",
    "INTERNAL_TEST_SPLIT = 0.1 # internal test split percentage\n",
    "RANDOM_STATE = 128 # reproducibility\n",
    "N_SPLITS = 5 # cross-validation"
   ]
  },
  {
   "cell_type": "markdown",
   "id": "84564330-d564-4700-9865-88576073b71b",
   "metadata": {
    "tags": []
   },
   "source": [
    "## Path"
   ]
  },
  {
   "cell_type": "code",
   "execution_count": 3,
   "id": "0b342ae0-1ef2-4bdb-9128-cd10ac83adf9",
   "metadata": {},
   "outputs": [],
   "source": [
    "# Directories\n",
    "results_dir = root_path + '/results/' + MODEL_NAME\n",
    "\n",
    "# Filepaths (MONK)\n",
    "m1_dev_path, m1_test_path = Dataset.MONK_1.dev_path, Dataset.MONK_1.test_path # MONK 1\n",
    "m2_dev_path, m2_test_path = Dataset.MONK_2.dev_path, Dataset.MONK_2.test_path # MONK 2\n",
    "m3_dev_path, m3_test_path = Dataset.MONK_3.dev_path, Dataset.MONK_3.test_path # MONK 3\n",
    "\n",
    "# Filepaths (CUP)\n",
    "cup_dev_path, cup_test_path = Dataset.CUP.dev_path, Dataset.CUP.test_path"
   ]
  },
  {
   "cell_type": "markdown",
   "id": "859824b9-6c6c-4f09-b4d9-ad5f9c5e2b29",
   "metadata": {
    "jp-MarkdownHeadingCollapsed": true,
    "tags": []
   },
   "source": [
    "# MONK-1"
   ]
  },
  {
   "cell_type": "code",
   "execution_count": 4,
   "id": "905cca8a-3ad3-4f0f-a1d8-8ff6253f962b",
   "metadata": {},
   "outputs": [],
   "source": [
    "# Load MONK-1\n",
    "x_dev_m1, y_dev_m1, x_test_m1, y_test_m1 = load_monk(m1_dev_path, m1_test_path)"
   ]
  },
  {
   "cell_type": "markdown",
   "id": "4ad13309-e6ed-43ce-b6be-b641c3a9f418",
   "metadata": {
    "tags": []
   },
   "source": [
    "## Model"
   ]
  },
  {
   "cell_type": "code",
   "execution_count": 18,
   "id": "8787a40f-87d1-45e9-b24d-90b45367ab60",
   "metadata": {
    "tags": []
   },
   "outputs": [],
   "source": [
    "def get_nn_classifier(hparams):\n",
    "    initializer = GlorotUniform(seed=RANDOM_STATE) # Glorot (Xavier)\n",
    "    \n",
    "    model = Sequential([\n",
    "        Dense(hparams['h_dim'], activation='tanh', input_shape=(17,), kernel_initializer=initializer),\n",
    "        Dense(1, activation='sigmoid', kernel_regularizer=l2(hparams['reg']))\n",
    "    ])\n",
    "    \n",
    "    optimizer = Adam(learning_rate=hparams['lr'], beta_1=hparams['beta_1'], beta_2=hparams['beta_2'])\n",
    "    model.compile(optimizer=optimizer, loss='binary_crossentropy', metrics=['accuracy', 'mse'])\n",
    "    \n",
    "    model.hparams = hparams\n",
    "    return model"
   ]
  },
  {
   "cell_type": "markdown",
   "id": "eae5a366-1520-4768-a26e-f461426e2393",
   "metadata": {
    "tags": []
   },
   "source": [
    "## Training - Testing"
   ]
  },
  {
   "cell_type": "code",
   "execution_count": null,
   "id": "102a1f41-1825-41af-9d22-e526af69b270",
   "metadata": {},
   "outputs": [],
   "source": [
    "model_m1 = get_nn_classifier(hparams={'lr': 0.3, 'h_dim': 4, 'reg': 0, 'beta_1': 0.9, 'beta_2': 0.9})\n",
    "solver = Solver(model_m1, x_dev_m1, y_dev_m1, target='loss')\n",
    "solver.train(epochs=300, patience=50, batch_size=len(x_dev_m1))"
   ]
  },
  {
   "cell_type": "code",
   "execution_count": 20,
   "id": "79ac744c-68b2-412d-ae72-cc3126fd83d0",
   "metadata": {},
   "outputs": [
    {
     "name": "stdout",
     "output_type": "stream",
     "text": [
      "-- DEVELOPMENT --\n",
      "4/4 [==============================] - 0s 2ms/step - loss: 4.2429e-08 - accuracy: 1.0000 - mse: 2.2413e-15\n",
      "Loss (BCE): 0.0000 - Accuracy: 1.0000 - MSE: 0.0000\n"
     ]
    }
   ],
   "source": [
    "print('-- DEVELOPMENT --')\n",
    "loss_dev_m1, acc_dev_m1, mse_dev_m1 = model_m1.evaluate(x_dev_m1, y_dev_m1)\n",
    "print(f'Loss (BCE): {loss_dev_m1:.4f} - Accuracy: {acc_dev_m1:.4f} - MSE: {mse_dev_m1:.4f}')"
   ]
  },
  {
   "cell_type": "code",
   "execution_count": 21,
   "id": "38e328d0-7a8e-463d-b9f3-0b2bdd3700c9",
   "metadata": {},
   "outputs": [
    {
     "name": "stdout",
     "output_type": "stream",
     "text": [
      "-- TEST --\n",
      "14/14 [==============================] - 0s 2ms/step - loss: 6.5249e-08 - accuracy: 1.0000 - mse: 2.2121e-13\n",
      "Loss (BCE): 0.0000 - Accuracy: 1.0000 - MSE: 0.0000\n"
     ]
    }
   ],
   "source": [
    "print('-- TEST --')\n",
    "loss_test_m1, acc_test_m1, mse_test_m1 = model_m1.evaluate(x_test_m1, y_test_m1)\n",
    "print(f'Loss (BCE): {loss_test_m1:.4f} - Accuracy: {acc_test_m1:.4f} - MSE: {mse_test_m1:.4f}')"
   ]
  },
  {
   "cell_type": "markdown",
   "id": "5d9a9e02-7de5-4fe0-8b53-5d7e98839b89",
   "metadata": {
    "tags": []
   },
   "source": [
    "## Store results"
   ]
  },
  {
   "cell_type": "code",
   "execution_count": 22,
   "id": "523b49cf-3f01-496d-a99a-d7bded86f22d",
   "metadata": {},
   "outputs": [],
   "source": [
    "report_m1 = {\n",
    "    'dev': {'loss': loss_dev_m1, 'accuracy': acc_dev_m1, 'mse': mse_dev_m1},\n",
    "    'test': {'loss': loss_test_m1, 'accuracy': acc_test_m1, 'mse': mse_test_m1}\n",
    "}\n",
    "\n",
    "store_monk_result(results_dir + '/MONK1/', model_m1.hparams, report_m1)"
   ]
  },
  {
   "cell_type": "markdown",
   "id": "b216aed0-5ba0-4816-a889-a3be455e73c9",
   "metadata": {
    "jp-MarkdownHeadingCollapsed": true,
    "tags": []
   },
   "source": [
    "# MONK-2"
   ]
  },
  {
   "cell_type": "code",
   "execution_count": 24,
   "id": "b9efe875-d6ff-42c0-b719-85a47a5855b3",
   "metadata": {},
   "outputs": [],
   "source": [
    "# Load MONK-2\n",
    "x_dev_m2, y_dev_m2, x_test_m2, y_test_m2 = load_monk(m2_dev_path, m2_test_path)"
   ]
  },
  {
   "cell_type": "markdown",
   "id": "dd0f49c0-396e-4904-909a-7b2c01076bad",
   "metadata": {},
   "source": [
    "## Training - Testing"
   ]
  },
  {
   "cell_type": "code",
   "execution_count": null,
   "id": "253814c7-9d0b-463b-b021-8e2e05e676d1",
   "metadata": {},
   "outputs": [],
   "source": [
    "model_m2 = get_nn_classifier(hparams={'lr': 0.3, 'h_dim': 4, 'reg': 0, 'beta_1': 0.9, 'beta_2': 0.9})\n",
    "solver = Solver(model_m2, x_dev_m2, y_dev_m2, target='loss')\n",
    "solver.train(epochs=300, patience=50, batch_size=len(x_dev_m2))"
   ]
  },
  {
   "cell_type": "code",
   "execution_count": 26,
   "id": "4f52af39-5893-4dcf-bdf2-8703c6e202fb",
   "metadata": {},
   "outputs": [
    {
     "name": "stdout",
     "output_type": "stream",
     "text": [
      "-- DEVELOPMENT --\n",
      "6/6 [==============================] - 0s 3ms/step - loss: 2.9529e-06 - accuracy: 1.0000 - mse: 9.2162e-12\n",
      "Loss (BCE): 0.0000 - Accuracy: 1.0000 - MSE: 0.0000\n"
     ]
    }
   ],
   "source": [
    "print('-- DEVELOPMENT --')\n",
    "loss_dev_m2, acc_dev_m2, mse_dev_m2 = model_m2.evaluate(x_dev_m2, y_dev_m2)\n",
    "print(f'Loss (BCE): {loss_dev_m2:.4f} - Accuracy: {acc_dev_m2:.4f} - MSE: {mse_dev_m2:.4f}')"
   ]
  },
  {
   "cell_type": "code",
   "execution_count": 27,
   "id": "19bc4807-03c1-421c-bc8a-a7b2154e6236",
   "metadata": {},
   "outputs": [
    {
     "name": "stdout",
     "output_type": "stream",
     "text": [
      "-- TEST --\n",
      "14/14 [==============================] - 0s 2ms/step - loss: 2.9677e-06 - accuracy: 1.0000 - mse: 9.6690e-12\n",
      "Loss (BCE): 0.0000 - Accuracy: 1.0000 - MSE: 0.0000\n"
     ]
    }
   ],
   "source": [
    "print('-- TEST --')\n",
    "loss_test_m2, acc_test_m2, mse_test_m2 = model_m2.evaluate(x_test_m2, y_test_m2)\n",
    "print(f'Loss (BCE): {loss_test_m2:.4f} - Accuracy: {acc_test_m2:.4f} - MSE: {mse_test_m2:.4f}')"
   ]
  },
  {
   "cell_type": "markdown",
   "id": "284ca457-cb8a-48d7-9c9e-4e9d473efe3a",
   "metadata": {},
   "source": [
    "## Store results"
   ]
  },
  {
   "cell_type": "code",
   "execution_count": 28,
   "id": "569ead2f-5368-4648-b36c-73f9aa69b268",
   "metadata": {},
   "outputs": [],
   "source": [
    "report_m2 = {\n",
    "    'dev': {'loss': loss_dev_m2, 'accuracy': acc_dev_m2, 'mse': mse_dev_m2},\n",
    "    'test': {'loss': loss_test_m2, 'accuracy': acc_test_m2, 'mse': mse_test_m2}\n",
    "}\n",
    "\n",
    "store_monk_result(results_dir + '/MONK2/', model_m2.hparams, report_m2)"
   ]
  },
  {
   "cell_type": "markdown",
   "id": "aea2e408-6d1b-4c43-b70b-c4fec0da831d",
   "metadata": {
    "jp-MarkdownHeadingCollapsed": true,
    "tags": []
   },
   "source": [
    "# MONK-3"
   ]
  },
  {
   "cell_type": "code",
   "execution_count": 29,
   "id": "9f02aae1-f31b-4403-9d85-fbfaf144d224",
   "metadata": {},
   "outputs": [],
   "source": [
    "# Load MONK-3\n",
    "x_dev_m3, y_dev_m3, x_test_m3, y_test_m3 = load_monk(m3_dev_path, m3_test_path)"
   ]
  },
  {
   "cell_type": "markdown",
   "id": "bef02d30-2efb-4f50-9f4c-c097cb021264",
   "metadata": {},
   "source": [
    "## Training - Testing"
   ]
  },
  {
   "cell_type": "code",
   "execution_count": null,
   "id": "5461f5ae-6536-4b50-ab54-f1f81e4444bf",
   "metadata": {},
   "outputs": [],
   "source": [
    "model_m3 = get_nn_classifier(hparams={'lr': 0.3, 'h_dim': 4, 'reg': 0.02, 'beta_1': 0.9, 'beta_2': 0.9})\n",
    "solver = Solver(model_m3, x_dev_m3, y_dev_m3, target='accuracy')\n",
    "solver.train(epochs=300, patience=50, batch_size=len(x_dev_m3))"
   ]
  },
  {
   "cell_type": "code",
   "execution_count": 36,
   "id": "e89050a9-a2d0-4a50-9ba1-8839be3bc549",
   "metadata": {},
   "outputs": [
    {
     "name": "stdout",
     "output_type": "stream",
     "text": [
      "-- DEVELOPMENT --\n",
      "4/4 [==============================] - 0s 2ms/step - loss: 0.2095 - accuracy: 0.9590 - mse: 0.0337\n",
      "Loss (BCE): 0.2095 - Accuracy: 0.9590 - MSE: 0.0337\n"
     ]
    }
   ],
   "source": [
    "print('-- DEVELOPMENT --')\n",
    "loss_dev_m3, acc_dev_m3, mse_dev_m3 = model_m3.evaluate(x_dev_m3, y_dev_m3)\n",
    "print(f'Loss (BCE): {loss_dev_m3:.4f} - Accuracy: {acc_dev_m3:.4f} - MSE: {mse_dev_m3:.4f}')"
   ]
  },
  {
   "cell_type": "code",
   "execution_count": 37,
   "id": "47b7771d-67c6-433f-b0ef-da8f41c7fc82",
   "metadata": {},
   "outputs": [
    {
     "name": "stdout",
     "output_type": "stream",
     "text": [
      "-- TEST --\n",
      "14/14 [==============================] - 0s 1ms/step - loss: 0.1717 - accuracy: 0.9792 - mse: 0.0198\n",
      "Loss (BCE): 0.1717 - Accuracy: 0.9792 - MSE: 0.0198\n"
     ]
    }
   ],
   "source": [
    "print('-- TEST --')\n",
    "loss_test_m3, acc_test_m3, mse_test_m3 = model_m3.evaluate(x_test_m3, y_test_m3)\n",
    "print(f'Loss (BCE): {loss_test_m3:.4f} - Accuracy: {acc_test_m3:.4f} - MSE: {mse_test_m3:.4f}')"
   ]
  },
  {
   "cell_type": "markdown",
   "id": "bb110c7d-e148-4c70-9be3-e43803d20f10",
   "metadata": {},
   "source": [
    "## Store results"
   ]
  },
  {
   "cell_type": "code",
   "execution_count": 38,
   "id": "3f77e7d4-97a9-4ceb-87d0-a4a2a0f0f781",
   "metadata": {},
   "outputs": [],
   "source": [
    "report_m3 = {\n",
    "    'dev': {'loss': loss_dev_m3, 'accuracy': acc_dev_m3, 'mse': mse_dev_m3},\n",
    "    'test': {'loss': loss_test_m3, 'accuracy': acc_test_m3, 'mse': mse_test_m3}\n",
    "}\n",
    "\n",
    "store_monk_result(results_dir + '/MONK3/', model_m3.hparams, report_m3)"
   ]
  },
  {
   "cell_type": "markdown",
   "id": "007f6603-97eb-4bf3-ae71-b1a62be020bd",
   "metadata": {
    "tags": []
   },
   "source": [
    "# CUP"
   ]
  },
  {
   "cell_type": "code",
   "execution_count": 5,
   "id": "1ec7e3ff-908a-480a-bc16-bd7a020f41f6",
   "metadata": {},
   "outputs": [],
   "source": [
    "# Load CUP\n",
    "x_dev_cup, y_dev_cup, x_test_cup = load_cup(cup_dev_path, cup_test_path)"
   ]
  },
  {
   "cell_type": "code",
   "execution_count": 6,
   "id": "1274b55b-f97f-48d0-8d4c-8afa1c001b20",
   "metadata": {},
   "outputs": [],
   "source": [
    "def mean_euclidean_error(y_true: np.ndarray, y_pred: np.ndarray):\n",
    "    \"\"\"\n",
    "    Utility function to compute the Mean Euclidean Error (MEE) between \n",
    "    true and predicted values for a tensorflow model. \n",
    "    Return the MEE score as a tensor.\n",
    "\n",
    "    Required arguments:\n",
    "    - y_true: array containing true values (ground truth).\n",
    "    - y_pred: array containing predicted values.\n",
    "    \"\"\"\n",
    "    return tf.reduce_mean(tf.sqrt(tf.reduce_sum(tf.square(y_pred - y_true), axis=-1)))"
   ]
  },
  {
   "cell_type": "markdown",
   "id": "d24ae8aa-990f-4b6d-a301-186c83d60e1e",
   "metadata": {},
   "source": [
    "## Train-Val + Internal Test Split \n",
    "First, the development data is split between training and internal test ($90-10$). Then, the training data is further split between training and validation so that the final split is exactly $80-10-10$, for training, validation and internal test sets."
   ]
  },
  {
   "cell_type": "code",
   "execution_count": 7,
   "id": "371a0d14-f694-4424-a2f8-f497f42203e9",
   "metadata": {},
   "outputs": [],
   "source": [
    "# Split dev data into train - internal test\n",
    "x_train_cup, x_internal_test_cup, y_train_cup, y_internal_test_cup = train_test_split(\n",
    "    x_dev_cup, \n",
    "    y_dev_cup, \n",
    "    test_size=INTERNAL_TEST_SPLIT, \n",
    "    random_state=128\n",
    ")"
   ]
  },
  {
   "cell_type": "markdown",
   "id": "11d14979-19ac-4d82-86a2-d7c8e2aedf9d",
   "metadata": {
    "tags": []
   },
   "source": [
    "# NN-Adam (mb)"
   ]
  },
  {
   "cell_type": "code",
   "execution_count": 8,
   "id": "8a02535f-4286-4ebb-93d3-02e32e1c5d0b",
   "metadata": {},
   "outputs": [],
   "source": [
    "def get_nn_adam_regressor(hparams):\n",
    "    if hparams['activation'] == 'tanh':\n",
    "        initializer = GlorotUniform(seed=RANDOM_STATE) # Glorot (Xavier)\n",
    "        bias_initializer = Zeros()\n",
    "    elif hparams['activation'] == 'ReLU':\n",
    "        initializer = HeNormal(seed=RANDOM_STATE) # He (Kaiming)\n",
    "        bias_initializer = Constant(0.1)\n",
    "        \n",
    "    reg = l2(hparams['reg'])\n",
    "        \n",
    "    model = Sequential()\n",
    "    model.add(Dense(\n",
    "        hparams['h_dim'], \n",
    "        activation=hparams['activation'], \n",
    "        input_shape=(10,), \n",
    "        kernel_regularizer=l2(hparams['reg']),\n",
    "        kernel_initializer=initializer,\n",
    "        bias_initializer=bias_initializer))\n",
    "\n",
    "\n",
    "    h_dim = hparams['h_dim']\n",
    "    for i in range(hparams['n_layers'] - 1):\n",
    "        model.add(\n",
    "            Dense(\n",
    "                h_dim, \n",
    "                activation=hparams['activation'],\n",
    "                kernel_regularizer=l2(hparams['reg']),\n",
    "                kernel_initializer=initializer,\n",
    "                bias_initializer=bias_initializer))\n",
    "        h_dim //= 2\n",
    "\n",
    "\n",
    "    model.add(Dense(\n",
    "        3, \n",
    "        activation='linear', \n",
    "        kernel_regularizer=l2(hparams['reg']), \n",
    "        kernel_initializer=initializer,\n",
    "        bias_initializer=bias_initializer))\n",
    "\n",
    "    optimizer = Adam(\n",
    "        learning_rate=hparams['lr'], \n",
    "        beta_1=hparams['beta_1'], \n",
    "        beta_2=hparams['beta_2'])\n",
    "    model.compile(optimizer=optimizer, loss='mse', metrics=[mean_euclidean_error])\n",
    "    return model"
   ]
  },
  {
   "cell_type": "markdown",
   "id": "de6a8833-8e33-4b68-938c-3eee6f2d179f",
   "metadata": {
    "jp-MarkdownHeadingCollapsed": true,
    "tags": []
   },
   "source": [
    "## Hyper-parameters Tuning\n",
    "A common approach is to start with a coarse search across a wide range of values to find promising sub-ranges of our parameter space. Then, you would zoom into these ranges and perform another search to fine-tune the configurations.\n",
    "\n",
    "Here, we proceed as follows:\n",
    "1. (coarse) Grid-search across a wide range of hyper-paramaters and values;\n",
    "2. (fine-tune) Random-search into zoomed intervals w.r.t. best configuration found by grid-search."
   ]
  },
  {
   "cell_type": "markdown",
   "id": "ecc749ab-1dde-4023-8369-0653c7f695fe",
   "metadata": {
    "tags": []
   },
   "source": [
    "### Grid Search"
   ]
  },
  {
   "cell_type": "code",
   "execution_count": 43,
   "id": "ab61da62-27b3-4a5e-9739-892cf8bd4205",
   "metadata": {},
   "outputs": [],
   "source": [
    "grid_search_spaces_cup = {\n",
    "    'lr': [0.01, 0.001, 0.0001],\n",
    "    'n_layers': [2, 3],\n",
    "    'h_dim': [32, 64, 128],\n",
    "    'activation': ['tanh'],\n",
    "    'reg': [0.01, 0.001],\n",
    "    'beta_1': [0.9],\n",
    "    'beta_2': [0.9],\n",
    "    'batch_size': [32, 64, 128],\n",
    "}"
   ]
  },
  {
   "cell_type": "code",
   "execution_count": null,
   "id": "366388a7-721c-42a5-aed9-d6121f075e76",
   "metadata": {},
   "outputs": [],
   "source": [
    "# Grid search (coarse)\n",
    "best_model_coarse, best_config_coarse, results_coarse = grid_search(\n",
    "    get_nn_adam_regressor, \n",
    "    x_train_cup,\n",
    "    y_train_cup,\n",
    "    grid_search_spaces_cup, \n",
    "    target='mean_euclidean_error', \n",
    "    N_SPLITS=N_SPLITS,\n",
    "    EPOCHS=800, \n",
    "    PATIENCE=50\n",
    ")"
   ]
  },
  {
   "cell_type": "markdown",
   "id": "1815dd66-dba9-404a-a400-0509096bb571",
   "metadata": {
    "tags": []
   },
   "source": [
    "### Random Search"
   ]
  },
  {
   "cell_type": "code",
   "execution_count": null,
   "id": "06c1cf37-0020-40e4-ae34-803e74a2c9d2",
   "metadata": {},
   "outputs": [],
   "source": [
    "# set new intervals for fine-tune random search\n",
    "lr = best_config_coarse['lr']\n",
    "n_layers = best_config_coarse['n_layers']\n",
    "h_dim = best_config_coarse['h_dim']\n",
    "activation = best_config_coarse['activation']\n",
    "reg = best_config_coarse['reg']\n",
    "beta_1 = best_config_coarse['beta_1']\n",
    "beta_2 = best_config_coarse['beta_2]\n",
    "batch_size = best_config_coarse['batch_size']"
   ]
  },
  {
   "cell_type": "code",
   "execution_count": 45,
   "id": "71b5093f-d692-4bcd-bf5d-02869f261ff4",
   "metadata": {},
   "outputs": [],
   "source": [
    "\"\"\"\n",
    "epsilon = 0.2\n",
    "random_search_spaces_cup = {\n",
    "    'lr': ([10 ** (np.log10(lr) - epsilon), 10 ** (np.log10(lr) + epsilon)], 'float'),\n",
    "    'n_layers': ([n_layers], 'item'),\n",
    "    'h_dim': ([h_dim - 20, h_dim + 20], 'item'),\n",
    "    'activation': ([activation], 'item'),\n",
    "    'reg': ([10 ** (np.log10(reg) - epsilon), 10 ** (np.log10(reg) + epsilon)], 'float'),\n",
    "    'beta_1': ([10 ** (np.log10(beta_1) - epsilon), 10 ** (np.log10(beta_1) + epsilon)], 'float'),\n",
    "    'beta_2': ([10 ** (np.log10(beta_2) - epsilon), 10 ** (np.log10(beta_2) + epsilon)], 'float'),\n",
    "    'batch_size': ([batch_size], 'item'),\n",
    "}\n",
    "\"\"\"\n",
    "\n",
    "random_search_spaces_cup = {\n",
    "    'lr': ([0.001], 'item'),\n",
    "    'n_layers': ([2], 'item'),\n",
    "    'h_dim': ([64], 'item'),\n",
    "    'activation': (['tanh'], 'item'),\n",
    "    'reg': ([0.001], 'item'),\n",
    "    'beta_1': ([0.95], 'item'),\n",
    "    'beta_2': ([0.95], 'item'),\n",
    "    'batch_size': ([32], 'item'),\n",
    "}"
   ]
  },
  {
   "cell_type": "code",
   "execution_count": null,
   "id": "ea7f8061-fc4a-42b7-863b-3080e2a82009",
   "metadata": {},
   "outputs": [],
   "source": [
    "# Random search (fine-tune)\n",
    "best_model_finetune, best_config_finetune, results_finetune = random_search(\n",
    "    get_nn_adam_regressor, \n",
    "    x_train_cup,\n",
    "    y_train_cup,\n",
    "    random_search_spaces_cup, \n",
    "    target='mean_euclidean_error', \n",
    "    N_SPLITS=N_SPLITS,\n",
    "    NUM_SEARCH=20,\n",
    "    EPOCHS=800, \n",
    "    PATIENCE=50\n",
    ")"
   ]
  },
  {
   "cell_type": "markdown",
   "id": "b44a62d4-1ac7-421c-844d-81db28b83ab7",
   "metadata": {
    "tags": []
   },
   "source": [
    "### Save tuning results"
   ]
  },
  {
   "cell_type": "code",
   "execution_count": null,
   "id": "4d8ec3f7-d0f7-45e9-894d-32a8d5a08648",
   "metadata": {},
   "outputs": [],
   "source": [
    "mee_coarse = best_config_coarse['mean_euclidean_error']\n",
    "mee_finetune = best_config_finetune['mean_euclidean_error']\n",
    "\n",
    "best_config_cup = best_config_finetune if mee_finetune < mee_coarse else best_config_coarse"
   ]
  },
  {
   "cell_type": "code",
   "execution_count": null,
   "id": "03c1a54e-8ba2-46b0-ae8d-dfd92473f77a",
   "metadata": {},
   "outputs": [],
   "source": [
    "# Store grid-search\n",
    "best_config_coarse['n_layers'] = int(best_config_coarse['n_layers'])\n",
    "best_config_coarse['h_dim'] = int(best_config_coarse['h_dim'])\n",
    "best_config_coarse['batch_size'] = int(best_config_coarse['batch_size'])\n",
    "with open(results_dir + '/CUP/grid_search.json', 'w') as outf:\n",
    "    json.dump(best_config_coarse, outf, indent=4)\n",
    "    \n",
    "# Store random-search\n",
    "best_config_finetune['n_layers'] = int(best_config_finetune['n_layers'])\n",
    "best_config_finetune['h_dim'] = int(best_config_finetune['h_dim'])\n",
    "best_config_finetune['batch_size'] = int(best_config_finetune['batch_size'])\n",
    "with open(results_dir + '/CUP/random_search.json', 'w') as outf:\n",
    "    json.dump(best_config_finetune, outf, indent=4)"
   ]
  },
  {
   "cell_type": "markdown",
   "id": "e0f830e9-1e7e-4d77-80d8-1a73a6ca3eed",
   "metadata": {},
   "source": [
    "## Training"
   ]
  },
  {
   "cell_type": "code",
   "execution_count": 9,
   "id": "e31fb1c3-83fc-4e33-a6eb-d98b159babad",
   "metadata": {},
   "outputs": [
    {
     "name": "stdout",
     "output_type": "stream",
     "text": [
      "Epoch 1/800\n",
      "29/29 [==============================] - 1s 7ms/step - loss: 740.7603 - mean_euclidean_error: 41.2389 - val_loss: 562.1605 - val_mean_euclidean_error: 37.1656\n",
      "Epoch 2/800\n",
      "29/29 [==============================] - 0s 2ms/step - loss: 648.3729 - mean_euclidean_error: 38.0007 - val_loss: 484.2662 - val_mean_euclidean_error: 34.1135\n",
      "Epoch 3/800\n",
      "29/29 [==============================] - 0s 2ms/step - loss: 564.3159 - mean_euclidean_error: 35.3051 - val_loss: 419.8399 - val_mean_euclidean_error: 31.3011\n",
      "Epoch 4/800\n",
      "29/29 [==============================] - 0s 2ms/step - loss: 498.8275 - mean_euclidean_error: 33.4101 - val_loss: 369.9752 - val_mean_euclidean_error: 28.9976\n",
      "Epoch 5/800\n",
      "29/29 [==============================] - 0s 2ms/step - loss: 447.3965 - mean_euclidean_error: 30.6568 - val_loss: 331.3713 - val_mean_euclidean_error: 27.1527\n",
      "Epoch 6/800\n",
      "29/29 [==============================] - 0s 2ms/step - loss: 406.3599 - mean_euclidean_error: 29.3748 - val_loss: 299.4191 - val_mean_euclidean_error: 25.5872\n",
      "Epoch 7/800\n",
      "29/29 [==============================] - 0s 2ms/step - loss: 371.0786 - mean_euclidean_error: 27.9268 - val_loss: 271.5147 - val_mean_euclidean_error: 24.1886\n",
      "Epoch 8/800\n",
      "29/29 [==============================] - 0s 2ms/step - loss: 339.9096 - mean_euclidean_error: 26.6817 - val_loss: 246.5836 - val_mean_euclidean_error: 22.9092\n",
      "Epoch 9/800\n",
      "29/29 [==============================] - 0s 2ms/step - loss: 311.9881 - mean_euclidean_error: 25.4929 - val_loss: 224.5685 - val_mean_euclidean_error: 21.7216\n",
      "Epoch 10/800\n",
      "29/29 [==============================] - 0s 2ms/step - loss: 286.5720 - mean_euclidean_error: 24.2277 - val_loss: 204.7986 - val_mean_euclidean_error: 20.6290\n",
      "Epoch 11/800\n",
      "29/29 [==============================] - 0s 2ms/step - loss: 263.6983 - mean_euclidean_error: 22.7890 - val_loss: 186.7898 - val_mean_euclidean_error: 19.6066\n",
      "Epoch 12/800\n",
      "29/29 [==============================] - 0s 2ms/step - loss: 242.8555 - mean_euclidean_error: 22.3451 - val_loss: 171.0024 - val_mean_euclidean_error: 18.6642\n",
      "Epoch 13/800\n",
      "29/29 [==============================] - 0s 2ms/step - loss: 223.7015 - mean_euclidean_error: 21.6393 - val_loss: 156.2680 - val_mean_euclidean_error: 17.7757\n",
      "Epoch 14/800\n",
      "29/29 [==============================] - 0s 2ms/step - loss: 205.8799 - mean_euclidean_error: 20.2476 - val_loss: 142.6766 - val_mean_euclidean_error: 16.9565\n",
      "Epoch 15/800\n",
      "29/29 [==============================] - 0s 2ms/step - loss: 189.6525 - mean_euclidean_error: 19.8970 - val_loss: 130.6719 - val_mean_euclidean_error: 16.2011\n",
      "Epoch 16/800\n",
      "29/29 [==============================] - 0s 2ms/step - loss: 174.5492 - mean_euclidean_error: 18.9169 - val_loss: 119.5746 - val_mean_euclidean_error: 15.4952\n",
      "Epoch 17/800\n",
      "29/29 [==============================] - 0s 2ms/step - loss: 160.7926 - mean_euclidean_error: 18.3240 - val_loss: 109.7077 - val_mean_euclidean_error: 14.8882\n",
      "Epoch 18/800\n",
      "29/29 [==============================] - 0s 2ms/step - loss: 147.7476 - mean_euclidean_error: 17.3817 - val_loss: 100.4266 - val_mean_euclidean_error: 14.2743\n",
      "Epoch 19/800\n",
      "29/29 [==============================] - 0s 2ms/step - loss: 135.8541 - mean_euclidean_error: 16.5327 - val_loss: 91.8175 - val_mean_euclidean_error: 13.6982\n",
      "Epoch 20/800\n",
      "29/29 [==============================] - 0s 2ms/step - loss: 124.7274 - mean_euclidean_error: 16.0619 - val_loss: 83.8515 - val_mean_euclidean_error: 13.1415\n",
      "Epoch 21/800\n",
      "29/29 [==============================] - 0s 2ms/step - loss: 114.0776 - mean_euclidean_error: 15.4070 - val_loss: 76.1683 - val_mean_euclidean_error: 12.5516\n",
      "Epoch 22/800\n",
      "29/29 [==============================] - 0s 2ms/step - loss: 103.8158 - mean_euclidean_error: 14.4267 - val_loss: 68.6902 - val_mean_euclidean_error: 11.9437\n",
      "Epoch 23/800\n",
      "29/29 [==============================] - 0s 2ms/step - loss: 94.0021 - mean_euclidean_error: 13.7147 - val_loss: 61.1252 - val_mean_euclidean_error: 11.1455\n",
      "Epoch 24/800\n",
      "29/29 [==============================] - 0s 2ms/step - loss: 84.5741 - mean_euclidean_error: 12.9476 - val_loss: 53.9994 - val_mean_euclidean_error: 10.3440\n",
      "Epoch 25/800\n",
      "29/29 [==============================] - 0s 2ms/step - loss: 75.6651 - mean_euclidean_error: 11.8681 - val_loss: 47.7688 - val_mean_euclidean_error: 9.7497\n",
      "Epoch 26/800\n",
      "29/29 [==============================] - 0s 2ms/step - loss: 67.8086 - mean_euclidean_error: 10.9682 - val_loss: 42.3716 - val_mean_euclidean_error: 9.2046\n",
      "Epoch 27/800\n",
      "29/29 [==============================] - 0s 2ms/step - loss: 60.7377 - mean_euclidean_error: 10.4627 - val_loss: 37.3990 - val_mean_euclidean_error: 8.5524\n",
      "Epoch 28/800\n",
      "29/29 [==============================] - 0s 2ms/step - loss: 54.2388 - mean_euclidean_error: 9.6877 - val_loss: 33.0777 - val_mean_euclidean_error: 8.0109\n",
      "Epoch 29/800\n",
      "29/29 [==============================] - 0s 2ms/step - loss: 48.3577 - mean_euclidean_error: 8.9958 - val_loss: 29.0679 - val_mean_euclidean_error: 7.5527\n",
      "Epoch 30/800\n",
      "29/29 [==============================] - 0s 2ms/step - loss: 43.1105 - mean_euclidean_error: 8.4705 - val_loss: 25.4955 - val_mean_euclidean_error: 7.0291\n",
      "Epoch 31/800\n",
      "29/29 [==============================] - 0s 2ms/step - loss: 38.3058 - mean_euclidean_error: 7.9450 - val_loss: 22.4377 - val_mean_euclidean_error: 6.5936\n",
      "Epoch 32/800\n",
      "29/29 [==============================] - 0s 2ms/step - loss: 34.0058 - mean_euclidean_error: 7.5104 - val_loss: 19.5455 - val_mean_euclidean_error: 6.1145\n",
      "Epoch 33/800\n",
      "29/29 [==============================] - 0s 2ms/step - loss: 30.1492 - mean_euclidean_error: 7.0917 - val_loss: 16.9592 - val_mean_euclidean_error: 5.6730\n",
      "Epoch 34/800\n",
      "29/29 [==============================] - 0s 2ms/step - loss: 26.6135 - mean_euclidean_error: 6.4186 - val_loss: 14.7920 - val_mean_euclidean_error: 5.2691\n",
      "Epoch 35/800\n",
      "29/29 [==============================] - 0s 2ms/step - loss: 23.5799 - mean_euclidean_error: 5.9335 - val_loss: 12.8473 - val_mean_euclidean_error: 4.8575\n",
      "Epoch 36/800\n",
      "29/29 [==============================] - 0s 2ms/step - loss: 20.9285 - mean_euclidean_error: 5.6347 - val_loss: 11.2397 - val_mean_euclidean_error: 4.5173\n",
      "Epoch 37/800\n",
      "29/29 [==============================] - 0s 2ms/step - loss: 18.5678 - mean_euclidean_error: 5.4386 - val_loss: 9.8940 - val_mean_euclidean_error: 4.2182\n",
      "Epoch 38/800\n",
      "29/29 [==============================] - 0s 2ms/step - loss: 16.4351 - mean_euclidean_error: 4.9470 - val_loss: 8.7340 - val_mean_euclidean_error: 3.9020\n",
      "Epoch 39/800\n",
      "29/29 [==============================] - 0s 2ms/step - loss: 14.6535 - mean_euclidean_error: 4.6313 - val_loss: 7.7629 - val_mean_euclidean_error: 3.6955\n",
      "Epoch 40/800\n",
      "29/29 [==============================] - 0s 2ms/step - loss: 13.0864 - mean_euclidean_error: 4.4482 - val_loss: 6.9202 - val_mean_euclidean_error: 3.4310\n",
      "Epoch 41/800\n",
      "29/29 [==============================] - 0s 3ms/step - loss: 11.7444 - mean_euclidean_error: 4.1637 - val_loss: 6.2221 - val_mean_euclidean_error: 3.2323\n",
      "Epoch 42/800\n",
      "29/29 [==============================] - 0s 3ms/step - loss: 10.6393 - mean_euclidean_error: 4.0375 - val_loss: 5.6994 - val_mean_euclidean_error: 3.1363\n",
      "Epoch 43/800\n",
      "29/29 [==============================] - 0s 4ms/step - loss: 9.6193 - mean_euclidean_error: 3.8583 - val_loss: 5.2973 - val_mean_euclidean_error: 3.0249\n",
      "Epoch 44/800\n",
      "29/29 [==============================] - 0s 2ms/step - loss: 8.7684 - mean_euclidean_error: 3.6349 - val_loss: 4.8627 - val_mean_euclidean_error: 2.8077\n",
      "Epoch 45/800\n",
      "29/29 [==============================] - 0s 2ms/step - loss: 8.0661 - mean_euclidean_error: 3.4348 - val_loss: 4.5398 - val_mean_euclidean_error: 2.7209\n",
      "Epoch 46/800\n",
      "29/29 [==============================] - 0s 2ms/step - loss: 7.4465 - mean_euclidean_error: 3.2312 - val_loss: 4.2412 - val_mean_euclidean_error: 2.6384\n",
      "Epoch 47/800\n",
      "29/29 [==============================] - 0s 2ms/step - loss: 6.9905 - mean_euclidean_error: 3.1606 - val_loss: 4.0766 - val_mean_euclidean_error: 2.6144\n",
      "Epoch 48/800\n",
      "29/29 [==============================] - 0s 2ms/step - loss: 6.5683 - mean_euclidean_error: 3.0484 - val_loss: 3.9316 - val_mean_euclidean_error: 2.5448\n",
      "Epoch 49/800\n",
      "29/29 [==============================] - 0s 2ms/step - loss: 6.1998 - mean_euclidean_error: 2.9343 - val_loss: 3.8353 - val_mean_euclidean_error: 2.4910\n",
      "Epoch 50/800\n",
      "29/29 [==============================] - 0s 2ms/step - loss: 5.8939 - mean_euclidean_error: 2.8081 - val_loss: 3.6692 - val_mean_euclidean_error: 2.4224\n",
      "Epoch 51/800\n",
      "29/29 [==============================] - 0s 4ms/step - loss: 5.6242 - mean_euclidean_error: 2.8159 - val_loss: 3.5644 - val_mean_euclidean_error: 2.4250\n",
      "Epoch 52/800\n",
      "29/29 [==============================] - 0s 3ms/step - loss: 5.3781 - mean_euclidean_error: 2.7074 - val_loss: 3.4467 - val_mean_euclidean_error: 2.3278\n",
      "Epoch 53/800\n",
      "29/29 [==============================] - 0s 2ms/step - loss: 5.1623 - mean_euclidean_error: 2.6713 - val_loss: 3.3055 - val_mean_euclidean_error: 2.3669\n",
      "Epoch 54/800\n",
      "29/29 [==============================] - 0s 2ms/step - loss: 4.9289 - mean_euclidean_error: 2.6386 - val_loss: 3.0961 - val_mean_euclidean_error: 2.2917\n",
      "Epoch 55/800\n",
      "29/29 [==============================] - 0s 2ms/step - loss: 4.7139 - mean_euclidean_error: 2.5811 - val_loss: 3.0056 - val_mean_euclidean_error: 2.1735\n",
      "Epoch 56/800\n",
      "29/29 [==============================] - 0s 2ms/step - loss: 4.5588 - mean_euclidean_error: 2.5524 - val_loss: 2.9752 - val_mean_euclidean_error: 2.2467\n",
      "Epoch 57/800\n",
      "29/29 [==============================] - 0s 2ms/step - loss: 4.3886 - mean_euclidean_error: 2.4249 - val_loss: 2.8385 - val_mean_euclidean_error: 2.1180\n",
      "Epoch 58/800\n",
      "29/29 [==============================] - 0s 2ms/step - loss: 4.2181 - mean_euclidean_error: 2.3232 - val_loss: 2.7825 - val_mean_euclidean_error: 2.0759\n",
      "Epoch 59/800\n",
      "29/29 [==============================] - 0s 2ms/step - loss: 4.0554 - mean_euclidean_error: 2.2552 - val_loss: 2.6684 - val_mean_euclidean_error: 2.0177\n",
      "Epoch 60/800\n",
      "29/29 [==============================] - 0s 2ms/step - loss: 3.8983 - mean_euclidean_error: 2.2361 - val_loss: 2.6522 - val_mean_euclidean_error: 1.9814\n",
      "Epoch 61/800\n",
      "29/29 [==============================] - 0s 2ms/step - loss: 3.7353 - mean_euclidean_error: 2.1694 - val_loss: 2.5828 - val_mean_euclidean_error: 1.9557\n",
      "Epoch 62/800\n",
      "29/29 [==============================] - 0s 2ms/step - loss: 3.5791 - mean_euclidean_error: 2.1761 - val_loss: 2.5559 - val_mean_euclidean_error: 1.9218\n",
      "Epoch 63/800\n",
      "29/29 [==============================] - 0s 2ms/step - loss: 3.4181 - mean_euclidean_error: 2.0615 - val_loss: 2.4402 - val_mean_euclidean_error: 1.8815\n",
      "Epoch 64/800\n",
      "29/29 [==============================] - 0s 2ms/step - loss: 3.2446 - mean_euclidean_error: 1.9997 - val_loss: 2.4655 - val_mean_euclidean_error: 1.8771\n",
      "Epoch 65/800\n",
      "29/29 [==============================] - 0s 2ms/step - loss: 3.0878 - mean_euclidean_error: 1.9329 - val_loss: 2.3628 - val_mean_euclidean_error: 1.8363\n",
      "Epoch 66/800\n",
      "29/29 [==============================] - 0s 2ms/step - loss: 2.9612 - mean_euclidean_error: 1.9184 - val_loss: 2.3415 - val_mean_euclidean_error: 1.8503\n",
      "Epoch 67/800\n",
      "29/29 [==============================] - 0s 2ms/step - loss: 2.8216 - mean_euclidean_error: 1.8613 - val_loss: 2.4446 - val_mean_euclidean_error: 1.9388\n",
      "Epoch 68/800\n",
      "29/29 [==============================] - 0s 2ms/step - loss: 2.7260 - mean_euclidean_error: 1.9109 - val_loss: 2.2714 - val_mean_euclidean_error: 1.7931\n",
      "Epoch 69/800\n",
      "29/29 [==============================] - 0s 2ms/step - loss: 2.5715 - mean_euclidean_error: 1.8043 - val_loss: 2.3234 - val_mean_euclidean_error: 1.7864\n",
      "Epoch 70/800\n",
      "29/29 [==============================] - 0s 2ms/step - loss: 2.4246 - mean_euclidean_error: 1.7439 - val_loss: 2.2064 - val_mean_euclidean_error: 1.7656\n",
      "Epoch 71/800\n",
      "29/29 [==============================] - 0s 3ms/step - loss: 2.3103 - mean_euclidean_error: 1.7081 - val_loss: 2.1237 - val_mean_euclidean_error: 1.7031\n",
      "Epoch 72/800\n",
      "29/29 [==============================] - 0s 2ms/step - loss: 2.1977 - mean_euclidean_error: 1.6406 - val_loss: 2.0957 - val_mean_euclidean_error: 1.6775\n",
      "Epoch 73/800\n",
      "29/29 [==============================] - 0s 2ms/step - loss: 2.1397 - mean_euclidean_error: 1.6285 - val_loss: 1.9810 - val_mean_euclidean_error: 1.6318\n",
      "Epoch 74/800\n",
      "29/29 [==============================] - 0s 2ms/step - loss: 2.0519 - mean_euclidean_error: 1.5959 - val_loss: 1.9717 - val_mean_euclidean_error: 1.6210\n",
      "Epoch 75/800\n",
      "29/29 [==============================] - 0s 3ms/step - loss: 1.9836 - mean_euclidean_error: 1.5750 - val_loss: 1.9829 - val_mean_euclidean_error: 1.6388\n",
      "Epoch 76/800\n",
      "29/29 [==============================] - 0s 2ms/step - loss: 1.9433 - mean_euclidean_error: 1.5089 - val_loss: 1.9322 - val_mean_euclidean_error: 1.6559\n",
      "Epoch 77/800\n",
      "29/29 [==============================] - 0s 2ms/step - loss: 1.8806 - mean_euclidean_error: 1.4785 - val_loss: 1.9198 - val_mean_euclidean_error: 1.5594\n",
      "Epoch 78/800\n",
      "29/29 [==============================] - 0s 2ms/step - loss: 1.8206 - mean_euclidean_error: 1.4781 - val_loss: 1.8231 - val_mean_euclidean_error: 1.5699\n",
      "Epoch 79/800\n",
      "29/29 [==============================] - 0s 2ms/step - loss: 1.7754 - mean_euclidean_error: 1.4476 - val_loss: 1.7722 - val_mean_euclidean_error: 1.5189\n",
      "Epoch 80/800\n",
      "29/29 [==============================] - 0s 2ms/step - loss: 1.7466 - mean_euclidean_error: 1.4162 - val_loss: 1.7471 - val_mean_euclidean_error: 1.5173\n",
      "Epoch 81/800\n",
      "29/29 [==============================] - 0s 2ms/step - loss: 1.7160 - mean_euclidean_error: 1.4373 - val_loss: 1.7556 - val_mean_euclidean_error: 1.4576\n",
      "Epoch 82/800\n",
      "29/29 [==============================] - 0s 2ms/step - loss: 1.6725 - mean_euclidean_error: 1.3914 - val_loss: 1.7150 - val_mean_euclidean_error: 1.4982\n",
      "Epoch 83/800\n",
      "29/29 [==============================] - 0s 2ms/step - loss: 1.6505 - mean_euclidean_error: 1.3572 - val_loss: 1.5956 - val_mean_euclidean_error: 1.4310\n",
      "Epoch 84/800\n",
      "29/29 [==============================] - 0s 2ms/step - loss: 1.5983 - mean_euclidean_error: 1.3605 - val_loss: 1.6500 - val_mean_euclidean_error: 1.4763\n",
      "Epoch 85/800\n",
      "29/29 [==============================] - 0s 2ms/step - loss: 1.5890 - mean_euclidean_error: 1.3437 - val_loss: 1.6356 - val_mean_euclidean_error: 1.3927\n",
      "Epoch 86/800\n",
      "29/29 [==============================] - 0s 2ms/step - loss: 1.5526 - mean_euclidean_error: 1.2764 - val_loss: 1.6292 - val_mean_euclidean_error: 1.4042\n",
      "Epoch 87/800\n",
      "29/29 [==============================] - 0s 2ms/step - loss: 1.5147 - mean_euclidean_error: 1.2533 - val_loss: 1.5677 - val_mean_euclidean_error: 1.4186\n",
      "Epoch 88/800\n",
      "29/29 [==============================] - 0s 2ms/step - loss: 1.4980 - mean_euclidean_error: 1.2513 - val_loss: 1.5228 - val_mean_euclidean_error: 1.3482\n",
      "Epoch 89/800\n",
      "29/29 [==============================] - 0s 2ms/step - loss: 1.4718 - mean_euclidean_error: 1.2325 - val_loss: 1.5372 - val_mean_euclidean_error: 1.3105\n",
      "Epoch 90/800\n",
      "29/29 [==============================] - 0s 2ms/step - loss: 1.4765 - mean_euclidean_error: 1.2211 - val_loss: 1.5395 - val_mean_euclidean_error: 1.3998\n",
      "Epoch 91/800\n",
      "29/29 [==============================] - 0s 2ms/step - loss: 1.4332 - mean_euclidean_error: 1.2251 - val_loss: 1.5078 - val_mean_euclidean_error: 1.3557\n",
      "Epoch 92/800\n",
      "29/29 [==============================] - 0s 2ms/step - loss: 1.4179 - mean_euclidean_error: 1.2023 - val_loss: 1.4517 - val_mean_euclidean_error: 1.2771\n",
      "Epoch 93/800\n",
      "29/29 [==============================] - 0s 2ms/step - loss: 1.4083 - mean_euclidean_error: 1.1967 - val_loss: 1.4949 - val_mean_euclidean_error: 1.3106\n",
      "Epoch 94/800\n",
      "29/29 [==============================] - 0s 2ms/step - loss: 1.3717 - mean_euclidean_error: 1.1444 - val_loss: 1.4399 - val_mean_euclidean_error: 1.2964\n",
      "Epoch 95/800\n",
      "29/29 [==============================] - 0s 2ms/step - loss: 1.3479 - mean_euclidean_error: 1.1570 - val_loss: 1.4324 - val_mean_euclidean_error: 1.2200\n",
      "Epoch 96/800\n",
      "29/29 [==============================] - 0s 2ms/step - loss: 1.3477 - mean_euclidean_error: 1.1359 - val_loss: 1.4201 - val_mean_euclidean_error: 1.2782\n",
      "Epoch 97/800\n",
      "29/29 [==============================] - 0s 2ms/step - loss: 1.3242 - mean_euclidean_error: 1.1165 - val_loss: 1.4008 - val_mean_euclidean_error: 1.2529\n",
      "Epoch 98/800\n",
      "29/29 [==============================] - 0s 2ms/step - loss: 1.3186 - mean_euclidean_error: 1.1313 - val_loss: 1.4040 - val_mean_euclidean_error: 1.2687\n",
      "Epoch 99/800\n",
      "29/29 [==============================] - 0s 2ms/step - loss: 1.2991 - mean_euclidean_error: 1.1126 - val_loss: 1.3932 - val_mean_euclidean_error: 1.1559\n",
      "Epoch 100/800\n",
      "29/29 [==============================] - 0s 2ms/step - loss: 1.2851 - mean_euclidean_error: 1.1173 - val_loss: 1.4067 - val_mean_euclidean_error: 1.2808\n",
      "Epoch 101/800\n",
      "29/29 [==============================] - 0s 2ms/step - loss: 1.2609 - mean_euclidean_error: 1.0707 - val_loss: 1.3772 - val_mean_euclidean_error: 1.2058\n",
      "Epoch 102/800\n",
      "29/29 [==============================] - 0s 2ms/step - loss: 1.2756 - mean_euclidean_error: 1.1135 - val_loss: 1.4227 - val_mean_euclidean_error: 1.3045\n",
      "Epoch 103/800\n",
      "29/29 [==============================] - 0s 2ms/step - loss: 1.2683 - mean_euclidean_error: 1.1008 - val_loss: 1.3365 - val_mean_euclidean_error: 1.2503\n",
      "Epoch 104/800\n",
      "29/29 [==============================] - 0s 2ms/step - loss: 1.2389 - mean_euclidean_error: 1.0767 - val_loss: 1.3381 - val_mean_euclidean_error: 1.1651\n",
      "Epoch 105/800\n",
      "29/29 [==============================] - 0s 2ms/step - loss: 1.2147 - mean_euclidean_error: 1.0479 - val_loss: 1.3345 - val_mean_euclidean_error: 1.1748\n",
      "Epoch 106/800\n",
      "29/29 [==============================] - 0s 2ms/step - loss: 1.2200 - mean_euclidean_error: 1.0502 - val_loss: 1.2858 - val_mean_euclidean_error: 1.1350\n",
      "Epoch 107/800\n",
      "29/29 [==============================] - 0s 2ms/step - loss: 1.2087 - mean_euclidean_error: 1.0617 - val_loss: 1.3256 - val_mean_euclidean_error: 1.2539\n",
      "Epoch 108/800\n",
      "29/29 [==============================] - 0s 2ms/step - loss: 1.1933 - mean_euclidean_error: 1.0259 - val_loss: 1.3265 - val_mean_euclidean_error: 1.1681\n",
      "Epoch 109/800\n",
      "29/29 [==============================] - 0s 2ms/step - loss: 1.1775 - mean_euclidean_error: 1.0213 - val_loss: 1.2682 - val_mean_euclidean_error: 1.1553\n",
      "Epoch 110/800\n",
      "29/29 [==============================] - 0s 2ms/step - loss: 1.1672 - mean_euclidean_error: 1.0235 - val_loss: 1.2841 - val_mean_euclidean_error: 1.1144\n",
      "Epoch 111/800\n",
      "29/29 [==============================] - 0s 2ms/step - loss: 1.1691 - mean_euclidean_error: 1.0223 - val_loss: 1.3183 - val_mean_euclidean_error: 1.2203\n",
      "Epoch 112/800\n",
      "29/29 [==============================] - 0s 2ms/step - loss: 1.1427 - mean_euclidean_error: 0.9894 - val_loss: 1.2697 - val_mean_euclidean_error: 1.0849\n",
      "Epoch 113/800\n",
      "29/29 [==============================] - 0s 2ms/step - loss: 1.1467 - mean_euclidean_error: 0.9882 - val_loss: 1.2901 - val_mean_euclidean_error: 1.1182\n",
      "Epoch 114/800\n",
      "29/29 [==============================] - 0s 2ms/step - loss: 1.1213 - mean_euclidean_error: 0.9639 - val_loss: 1.2578 - val_mean_euclidean_error: 1.0766\n",
      "Epoch 115/800\n",
      "29/29 [==============================] - 0s 2ms/step - loss: 1.1106 - mean_euclidean_error: 0.9460 - val_loss: 1.2511 - val_mean_euclidean_error: 1.0589\n",
      "Epoch 116/800\n",
      "29/29 [==============================] - 0s 3ms/step - loss: 1.1195 - mean_euclidean_error: 0.9548 - val_loss: 1.2493 - val_mean_euclidean_error: 1.0780\n",
      "Epoch 117/800\n",
      "29/29 [==============================] - 0s 3ms/step - loss: 1.1140 - mean_euclidean_error: 0.9700 - val_loss: 1.2555 - val_mean_euclidean_error: 1.1073\n",
      "Epoch 118/800\n",
      "29/29 [==============================] - 0s 3ms/step - loss: 1.1044 - mean_euclidean_error: 0.9536 - val_loss: 1.2359 - val_mean_euclidean_error: 1.0350\n",
      "Epoch 119/800\n",
      "29/29 [==============================] - 0s 2ms/step - loss: 1.1005 - mean_euclidean_error: 0.9589 - val_loss: 1.3153 - val_mean_euclidean_error: 1.1698\n",
      "Epoch 120/800\n",
      "29/29 [==============================] - 0s 2ms/step - loss: 1.1050 - mean_euclidean_error: 0.9646 - val_loss: 1.2519 - val_mean_euclidean_error: 1.0102\n",
      "Epoch 121/800\n",
      "29/29 [==============================] - 0s 2ms/step - loss: 1.1032 - mean_euclidean_error: 0.9788 - val_loss: 1.2239 - val_mean_euclidean_error: 1.0702\n",
      "Epoch 122/800\n",
      "29/29 [==============================] - 0s 2ms/step - loss: 1.0804 - mean_euclidean_error: 0.9544 - val_loss: 1.2400 - val_mean_euclidean_error: 1.0772\n",
      "Epoch 123/800\n",
      "29/29 [==============================] - 0s 2ms/step - loss: 1.0720 - mean_euclidean_error: 0.9126 - val_loss: 1.2319 - val_mean_euclidean_error: 1.0495\n",
      "Epoch 124/800\n",
      "29/29 [==============================] - 0s 2ms/step - loss: 1.0540 - mean_euclidean_error: 0.9229 - val_loss: 1.1978 - val_mean_euclidean_error: 1.0293\n",
      "Epoch 125/800\n",
      "29/29 [==============================] - 0s 2ms/step - loss: 1.0687 - mean_euclidean_error: 0.9398 - val_loss: 1.2567 - val_mean_euclidean_error: 1.0715\n",
      "Epoch 126/800\n",
      "29/29 [==============================] - 0s 2ms/step - loss: 1.0619 - mean_euclidean_error: 0.9181 - val_loss: 1.2114 - val_mean_euclidean_error: 1.0366\n",
      "Epoch 127/800\n",
      "29/29 [==============================] - 0s 2ms/step - loss: 1.0464 - mean_euclidean_error: 0.9129 - val_loss: 1.2423 - val_mean_euclidean_error: 1.1302\n",
      "Epoch 128/800\n",
      "29/29 [==============================] - 0s 2ms/step - loss: 1.0448 - mean_euclidean_error: 0.9147 - val_loss: 1.1868 - val_mean_euclidean_error: 0.9733\n",
      "Epoch 129/800\n",
      "29/29 [==============================] - 0s 2ms/step - loss: 1.0336 - mean_euclidean_error: 0.8868 - val_loss: 1.1950 - val_mean_euclidean_error: 1.0234\n",
      "Epoch 130/800\n",
      "29/29 [==============================] - 0s 2ms/step - loss: 1.0140 - mean_euclidean_error: 0.8742 - val_loss: 1.2075 - val_mean_euclidean_error: 0.9746\n",
      "Epoch 131/800\n",
      "29/29 [==============================] - 0s 2ms/step - loss: 1.0428 - mean_euclidean_error: 0.9023 - val_loss: 1.2400 - val_mean_euclidean_error: 1.0056\n",
      "Epoch 132/800\n",
      "29/29 [==============================] - 0s 2ms/step - loss: 1.0235 - mean_euclidean_error: 0.8912 - val_loss: 1.1747 - val_mean_euclidean_error: 0.9834\n",
      "Epoch 133/800\n",
      "29/29 [==============================] - 0s 2ms/step - loss: 1.0112 - mean_euclidean_error: 0.8810 - val_loss: 1.1542 - val_mean_euclidean_error: 0.9203\n",
      "Epoch 134/800\n",
      "29/29 [==============================] - 0s 2ms/step - loss: 1.0230 - mean_euclidean_error: 0.8935 - val_loss: 1.1690 - val_mean_euclidean_error: 1.0272\n",
      "Epoch 135/800\n",
      "29/29 [==============================] - 0s 2ms/step - loss: 1.0020 - mean_euclidean_error: 0.8699 - val_loss: 1.1747 - val_mean_euclidean_error: 0.9776\n",
      "Epoch 136/800\n",
      "29/29 [==============================] - 0s 2ms/step - loss: 0.9995 - mean_euclidean_error: 0.8606 - val_loss: 1.1543 - val_mean_euclidean_error: 0.9655\n",
      "Epoch 137/800\n",
      "29/29 [==============================] - 0s 2ms/step - loss: 0.9860 - mean_euclidean_error: 0.8512 - val_loss: 1.1370 - val_mean_euclidean_error: 0.9819\n",
      "Epoch 138/800\n",
      "29/29 [==============================] - 0s 2ms/step - loss: 0.9876 - mean_euclidean_error: 0.8620 - val_loss: 1.2218 - val_mean_euclidean_error: 1.0945\n",
      "Epoch 139/800\n",
      "29/29 [==============================] - 0s 2ms/step - loss: 1.0189 - mean_euclidean_error: 0.9036 - val_loss: 1.1697 - val_mean_euclidean_error: 0.9897\n",
      "Epoch 140/800\n",
      "29/29 [==============================] - 0s 2ms/step - loss: 0.9853 - mean_euclidean_error: 0.8406 - val_loss: 1.1261 - val_mean_euclidean_error: 0.8972\n",
      "Epoch 141/800\n",
      "29/29 [==============================] - 0s 2ms/step - loss: 0.9701 - mean_euclidean_error: 0.8279 - val_loss: 1.1982 - val_mean_euclidean_error: 1.0558\n",
      "Epoch 142/800\n",
      "29/29 [==============================] - 0s 2ms/step - loss: 0.9921 - mean_euclidean_error: 0.8793 - val_loss: 1.1750 - val_mean_euclidean_error: 0.9740\n",
      "Epoch 143/800\n",
      "29/29 [==============================] - 0s 2ms/step - loss: 0.9645 - mean_euclidean_error: 0.8193 - val_loss: 1.1569 - val_mean_euclidean_error: 0.9262\n",
      "Epoch 144/800\n",
      "29/29 [==============================] - 0s 2ms/step - loss: 0.9517 - mean_euclidean_error: 0.8081 - val_loss: 1.1290 - val_mean_euclidean_error: 0.9755\n",
      "Epoch 145/800\n",
      "29/29 [==============================] - 0s 2ms/step - loss: 0.9564 - mean_euclidean_error: 0.8417 - val_loss: 1.1565 - val_mean_euclidean_error: 0.9613\n",
      "Epoch 146/800\n",
      "29/29 [==============================] - 0s 2ms/step - loss: 0.9560 - mean_euclidean_error: 0.8299 - val_loss: 1.1500 - val_mean_euclidean_error: 0.9469\n",
      "Epoch 147/800\n",
      "29/29 [==============================] - 0s 2ms/step - loss: 0.9607 - mean_euclidean_error: 0.8457 - val_loss: 1.1609 - val_mean_euclidean_error: 1.0224\n",
      "Epoch 148/800\n",
      "29/29 [==============================] - 0s 2ms/step - loss: 0.9602 - mean_euclidean_error: 0.8411 - val_loss: 1.1299 - val_mean_euclidean_error: 0.9610\n",
      "Epoch 149/800\n",
      "29/29 [==============================] - 0s 2ms/step - loss: 0.9595 - mean_euclidean_error: 0.8260 - val_loss: 1.2075 - val_mean_euclidean_error: 1.0688\n",
      "Epoch 150/800\n",
      "29/29 [==============================] - 0s 2ms/step - loss: 0.9525 - mean_euclidean_error: 0.8374 - val_loss: 1.1402 - val_mean_euclidean_error: 0.9241\n",
      "Epoch 151/800\n",
      "29/29 [==============================] - 0s 2ms/step - loss: 0.9682 - mean_euclidean_error: 0.8365 - val_loss: 1.1773 - val_mean_euclidean_error: 1.0782\n",
      "Epoch 152/800\n",
      "29/29 [==============================] - 0s 2ms/step - loss: 0.9414 - mean_euclidean_error: 0.8020 - val_loss: 1.0967 - val_mean_euclidean_error: 0.8992\n",
      "Epoch 153/800\n",
      "29/29 [==============================] - 0s 2ms/step - loss: 0.9320 - mean_euclidean_error: 0.7983 - val_loss: 1.1139 - val_mean_euclidean_error: 0.9277\n",
      "Epoch 154/800\n",
      "29/29 [==============================] - 0s 2ms/step - loss: 0.9227 - mean_euclidean_error: 0.7778 - val_loss: 1.1257 - val_mean_euclidean_error: 0.9243\n",
      "Epoch 155/800\n",
      "29/29 [==============================] - 0s 2ms/step - loss: 0.9176 - mean_euclidean_error: 0.7781 - val_loss: 1.1243 - val_mean_euclidean_error: 0.9120\n",
      "Epoch 156/800\n",
      "29/29 [==============================] - 0s 2ms/step - loss: 0.9202 - mean_euclidean_error: 0.7867 - val_loss: 1.1286 - val_mean_euclidean_error: 0.9176\n",
      "Epoch 157/800\n",
      "29/29 [==============================] - 0s 2ms/step - loss: 0.9277 - mean_euclidean_error: 0.7998 - val_loss: 1.1400 - val_mean_euclidean_error: 0.9372\n",
      "Epoch 158/800\n",
      "29/29 [==============================] - 0s 2ms/step - loss: 0.9239 - mean_euclidean_error: 0.8077 - val_loss: 1.1210 - val_mean_euclidean_error: 0.9893\n",
      "Epoch 159/800\n",
      "29/29 [==============================] - 0s 2ms/step - loss: 0.9317 - mean_euclidean_error: 0.8193 - val_loss: 1.1332 - val_mean_euclidean_error: 0.9225\n",
      "Epoch 160/800\n",
      "29/29 [==============================] - 0s 2ms/step - loss: 0.9116 - mean_euclidean_error: 0.7808 - val_loss: 1.0861 - val_mean_euclidean_error: 0.9100\n",
      "Epoch 161/800\n",
      "29/29 [==============================] - 0s 3ms/step - loss: 0.9024 - mean_euclidean_error: 0.7652 - val_loss: 1.1073 - val_mean_euclidean_error: 0.8895\n",
      "Epoch 162/800\n",
      "29/29 [==============================] - 0s 2ms/step - loss: 0.9069 - mean_euclidean_error: 0.7791 - val_loss: 1.1125 - val_mean_euclidean_error: 0.8922\n",
      "Epoch 163/800\n",
      "29/29 [==============================] - 0s 3ms/step - loss: 0.9114 - mean_euclidean_error: 0.7880 - val_loss: 1.1416 - val_mean_euclidean_error: 0.9981\n",
      "Epoch 164/800\n",
      "29/29 [==============================] - 0s 3ms/step - loss: 0.8946 - mean_euclidean_error: 0.7674 - val_loss: 1.0924 - val_mean_euclidean_error: 0.8662\n",
      "Epoch 165/800\n",
      "29/29 [==============================] - 0s 4ms/step - loss: 0.8984 - mean_euclidean_error: 0.7714 - val_loss: 1.1281 - val_mean_euclidean_error: 0.9123\n",
      "Epoch 166/800\n",
      "29/29 [==============================] - 0s 3ms/step - loss: 0.8876 - mean_euclidean_error: 0.7516 - val_loss: 1.0742 - val_mean_euclidean_error: 0.8840\n",
      "Epoch 167/800\n",
      "29/29 [==============================] - 0s 3ms/step - loss: 0.8993 - mean_euclidean_error: 0.7683 - val_loss: 1.1426 - val_mean_euclidean_error: 0.9800\n",
      "Epoch 168/800\n",
      "29/29 [==============================] - 0s 3ms/step - loss: 0.8891 - mean_euclidean_error: 0.7561 - val_loss: 1.1049 - val_mean_euclidean_error: 0.9310\n",
      "Epoch 169/800\n",
      "29/29 [==============================] - 0s 2ms/step - loss: 0.8823 - mean_euclidean_error: 0.7562 - val_loss: 1.1017 - val_mean_euclidean_error: 0.8740\n",
      "Epoch 170/800\n",
      "29/29 [==============================] - 0s 3ms/step - loss: 0.8834 - mean_euclidean_error: 0.7558 - val_loss: 1.0921 - val_mean_euclidean_error: 0.9361\n",
      "Epoch 171/800\n",
      "29/29 [==============================] - 0s 3ms/step - loss: 0.8858 - mean_euclidean_error: 0.7624 - val_loss: 1.0759 - val_mean_euclidean_error: 0.8414\n",
      "Epoch 172/800\n",
      "29/29 [==============================] - 0s 3ms/step - loss: 0.8839 - mean_euclidean_error: 0.7641 - val_loss: 1.1027 - val_mean_euclidean_error: 0.9481\n",
      "Epoch 173/800\n",
      "29/29 [==============================] - 0s 2ms/step - loss: 0.8730 - mean_euclidean_error: 0.7456 - val_loss: 1.0849 - val_mean_euclidean_error: 0.8570\n",
      "Epoch 174/800\n",
      "29/29 [==============================] - 0s 3ms/step - loss: 0.8792 - mean_euclidean_error: 0.7540 - val_loss: 1.1276 - val_mean_euclidean_error: 0.9160\n",
      "Epoch 175/800\n",
      "29/29 [==============================] - 0s 2ms/step - loss: 0.8900 - mean_euclidean_error: 0.7810 - val_loss: 1.1008 - val_mean_euclidean_error: 0.8564\n",
      "Epoch 176/800\n",
      "29/29 [==============================] - 0s 2ms/step - loss: 0.8859 - mean_euclidean_error: 0.7613 - val_loss: 1.0799 - val_mean_euclidean_error: 0.8516\n",
      "Epoch 177/800\n",
      "29/29 [==============================] - 0s 2ms/step - loss: 0.8643 - mean_euclidean_error: 0.7492 - val_loss: 1.1241 - val_mean_euclidean_error: 0.9937\n",
      "Epoch 178/800\n",
      "29/29 [==============================] - 0s 2ms/step - loss: 0.8767 - mean_euclidean_error: 0.7556 - val_loss: 1.0957 - val_mean_euclidean_error: 0.9008\n",
      "Epoch 179/800\n",
      "29/29 [==============================] - 0s 2ms/step - loss: 0.8639 - mean_euclidean_error: 0.7574 - val_loss: 1.0725 - val_mean_euclidean_error: 0.8959\n",
      "Epoch 180/800\n",
      "29/29 [==============================] - 0s 2ms/step - loss: 0.8680 - mean_euclidean_error: 0.7553 - val_loss: 1.0861 - val_mean_euclidean_error: 0.9421\n",
      "Epoch 181/800\n",
      "29/29 [==============================] - 0s 2ms/step - loss: 0.8633 - mean_euclidean_error: 0.7439 - val_loss: 1.0736 - val_mean_euclidean_error: 0.8775\n",
      "Epoch 182/800\n",
      "29/29 [==============================] - 0s 2ms/step - loss: 0.8529 - mean_euclidean_error: 0.7280 - val_loss: 1.1031 - val_mean_euclidean_error: 0.9263\n",
      "Epoch 183/800\n",
      "29/29 [==============================] - 0s 2ms/step - loss: 0.8370 - mean_euclidean_error: 0.6949 - val_loss: 1.0453 - val_mean_euclidean_error: 0.8133\n",
      "Epoch 184/800\n",
      "29/29 [==============================] - 0s 2ms/step - loss: 0.8512 - mean_euclidean_error: 0.7244 - val_loss: 1.0784 - val_mean_euclidean_error: 0.8409\n",
      "Epoch 185/800\n",
      "29/29 [==============================] - 0s 2ms/step - loss: 0.8502 - mean_euclidean_error: 0.7294 - val_loss: 1.0618 - val_mean_euclidean_error: 0.8357\n",
      "Epoch 186/800\n",
      "29/29 [==============================] - 0s 2ms/step - loss: 0.8437 - mean_euclidean_error: 0.7132 - val_loss: 1.0797 - val_mean_euclidean_error: 0.8759\n",
      "Epoch 187/800\n",
      "29/29 [==============================] - 0s 2ms/step - loss: 0.8453 - mean_euclidean_error: 0.7193 - val_loss: 1.0626 - val_mean_euclidean_error: 0.8587\n",
      "Epoch 188/800\n",
      "29/29 [==============================] - 0s 2ms/step - loss: 0.8471 - mean_euclidean_error: 0.7349 - val_loss: 1.0792 - val_mean_euclidean_error: 0.9081\n",
      "Epoch 189/800\n",
      "29/29 [==============================] - 0s 2ms/step - loss: 0.8363 - mean_euclidean_error: 0.7063 - val_loss: 1.1002 - val_mean_euclidean_error: 0.9745\n",
      "Epoch 190/800\n",
      "29/29 [==============================] - 0s 2ms/step - loss: 0.8422 - mean_euclidean_error: 0.7299 - val_loss: 1.0605 - val_mean_euclidean_error: 0.8081\n",
      "Epoch 191/800\n",
      "29/29 [==============================] - 0s 2ms/step - loss: 0.8421 - mean_euclidean_error: 0.7248 - val_loss: 1.0560 - val_mean_euclidean_error: 0.8585\n",
      "Epoch 192/800\n",
      "29/29 [==============================] - 0s 2ms/step - loss: 0.8299 - mean_euclidean_error: 0.6970 - val_loss: 1.0722 - val_mean_euclidean_error: 0.8370\n",
      "Epoch 193/800\n",
      "29/29 [==============================] - 0s 2ms/step - loss: 0.8295 - mean_euclidean_error: 0.7124 - val_loss: 1.0738 - val_mean_euclidean_error: 0.9015\n",
      "Epoch 194/800\n",
      "29/29 [==============================] - 0s 2ms/step - loss: 0.8343 - mean_euclidean_error: 0.7179 - val_loss: 1.0887 - val_mean_euclidean_error: 0.9346\n",
      "Epoch 195/800\n",
      "29/29 [==============================] - 0s 2ms/step - loss: 0.8436 - mean_euclidean_error: 0.7249 - val_loss: 1.1270 - val_mean_euclidean_error: 0.9151\n",
      "Epoch 196/800\n",
      "29/29 [==============================] - 0s 2ms/step - loss: 0.8567 - mean_euclidean_error: 0.7672 - val_loss: 1.1063 - val_mean_euclidean_error: 0.9129\n",
      "Epoch 197/800\n",
      "29/29 [==============================] - 0s 2ms/step - loss: 0.8353 - mean_euclidean_error: 0.7189 - val_loss: 1.0841 - val_mean_euclidean_error: 0.8312\n",
      "Epoch 198/800\n",
      "29/29 [==============================] - 0s 2ms/step - loss: 0.8135 - mean_euclidean_error: 0.6902 - val_loss: 1.0496 - val_mean_euclidean_error: 0.8199\n",
      "Epoch 199/800\n",
      "29/29 [==============================] - 0s 2ms/step - loss: 0.8230 - mean_euclidean_error: 0.7269 - val_loss: 1.0861 - val_mean_euclidean_error: 0.9567\n",
      "Epoch 200/800\n",
      "29/29 [==============================] - 0s 2ms/step - loss: 0.8204 - mean_euclidean_error: 0.6985 - val_loss: 1.0812 - val_mean_euclidean_error: 0.9195\n",
      "Epoch 201/800\n",
      "29/29 [==============================] - 0s 2ms/step - loss: 0.8161 - mean_euclidean_error: 0.7028 - val_loss: 1.0364 - val_mean_euclidean_error: 0.8276\n",
      "Epoch 202/800\n",
      "29/29 [==============================] - 0s 2ms/step - loss: 0.8215 - mean_euclidean_error: 0.7022 - val_loss: 1.0568 - val_mean_euclidean_error: 0.8569\n",
      "Epoch 203/800\n",
      "29/29 [==============================] - 0s 2ms/step - loss: 0.8173 - mean_euclidean_error: 0.6974 - val_loss: 1.0541 - val_mean_euclidean_error: 0.8859\n",
      "Epoch 204/800\n",
      "29/29 [==============================] - 0s 2ms/step - loss: 0.8085 - mean_euclidean_error: 0.6872 - val_loss: 1.0561 - val_mean_euclidean_error: 0.8121\n",
      "Epoch 205/800\n",
      "29/29 [==============================] - 0s 2ms/step - loss: 0.8238 - mean_euclidean_error: 0.7036 - val_loss: 1.0507 - val_mean_euclidean_error: 0.8037\n",
      "Epoch 206/800\n",
      "29/29 [==============================] - 0s 2ms/step - loss: 0.8053 - mean_euclidean_error: 0.6698 - val_loss: 1.0217 - val_mean_euclidean_error: 0.8279\n",
      "Epoch 207/800\n",
      "29/29 [==============================] - 0s 2ms/step - loss: 0.8108 - mean_euclidean_error: 0.6877 - val_loss: 1.0620 - val_mean_euclidean_error: 0.8723\n",
      "Epoch 208/800\n",
      "29/29 [==============================] - 0s 2ms/step - loss: 0.8114 - mean_euclidean_error: 0.6790 - val_loss: 1.0613 - val_mean_euclidean_error: 0.9220\n",
      "Epoch 209/800\n",
      "29/29 [==============================] - 0s 2ms/step - loss: 0.8045 - mean_euclidean_error: 0.6892 - val_loss: 1.0509 - val_mean_euclidean_error: 0.8361\n",
      "Epoch 210/800\n",
      "29/29 [==============================] - 0s 2ms/step - loss: 0.8105 - mean_euclidean_error: 0.6930 - val_loss: 1.0334 - val_mean_euclidean_error: 0.8237\n",
      "Epoch 211/800\n",
      "29/29 [==============================] - 0s 2ms/step - loss: 0.8138 - mean_euclidean_error: 0.7027 - val_loss: 1.0372 - val_mean_euclidean_error: 0.8559\n",
      "Epoch 212/800\n",
      "29/29 [==============================] - 0s 2ms/step - loss: 0.8085 - mean_euclidean_error: 0.6951 - val_loss: 1.0715 - val_mean_euclidean_error: 0.9006\n",
      "Epoch 213/800\n",
      "29/29 [==============================] - 0s 2ms/step - loss: 0.7991 - mean_euclidean_error: 0.6911 - val_loss: 1.0046 - val_mean_euclidean_error: 0.8129\n",
      "Epoch 214/800\n",
      "29/29 [==============================] - 0s 2ms/step - loss: 0.8055 - mean_euclidean_error: 0.6852 - val_loss: 1.0196 - val_mean_euclidean_error: 0.8038\n",
      "Epoch 215/800\n",
      "29/29 [==============================] - 0s 2ms/step - loss: 0.7894 - mean_euclidean_error: 0.6560 - val_loss: 1.0304 - val_mean_euclidean_error: 0.7838\n",
      "Epoch 216/800\n",
      "29/29 [==============================] - 0s 2ms/step - loss: 0.7946 - mean_euclidean_error: 0.6574 - val_loss: 1.0283 - val_mean_euclidean_error: 0.8592\n",
      "Epoch 217/800\n",
      "29/29 [==============================] - 0s 2ms/step - loss: 0.7855 - mean_euclidean_error: 0.6596 - val_loss: 1.0465 - val_mean_euclidean_error: 0.8168\n",
      "Epoch 218/800\n",
      "29/29 [==============================] - 0s 2ms/step - loss: 0.8137 - mean_euclidean_error: 0.7068 - val_loss: 1.0522 - val_mean_euclidean_error: 0.8418\n",
      "Epoch 219/800\n",
      "29/29 [==============================] - 0s 2ms/step - loss: 0.7978 - mean_euclidean_error: 0.6664 - val_loss: 1.0336 - val_mean_euclidean_error: 0.8722\n",
      "Epoch 220/800\n",
      "29/29 [==============================] - 0s 2ms/step - loss: 0.7831 - mean_euclidean_error: 0.6515 - val_loss: 1.0423 - val_mean_euclidean_error: 0.8653\n",
      "Epoch 221/800\n",
      "29/29 [==============================] - 0s 2ms/step - loss: 0.8025 - mean_euclidean_error: 0.6866 - val_loss: 1.0560 - val_mean_euclidean_error: 0.9271\n",
      "Epoch 222/800\n",
      "29/29 [==============================] - 0s 2ms/step - loss: 0.7806 - mean_euclidean_error: 0.6516 - val_loss: 1.0475 - val_mean_euclidean_error: 0.8253\n",
      "Epoch 223/800\n",
      "29/29 [==============================] - 0s 2ms/step - loss: 0.7966 - mean_euclidean_error: 0.6740 - val_loss: 1.0254 - val_mean_euclidean_error: 0.8555\n",
      "Epoch 224/800\n",
      "29/29 [==============================] - 0s 2ms/step - loss: 0.7787 - mean_euclidean_error: 0.6381 - val_loss: 1.0212 - val_mean_euclidean_error: 0.8336\n",
      "Epoch 225/800\n",
      "29/29 [==============================] - 0s 2ms/step - loss: 0.7860 - mean_euclidean_error: 0.6534 - val_loss: 1.0176 - val_mean_euclidean_error: 0.8144\n",
      "Epoch 226/800\n",
      "29/29 [==============================] - 0s 2ms/step - loss: 0.7767 - mean_euclidean_error: 0.6440 - val_loss: 1.0361 - val_mean_euclidean_error: 0.8474\n",
      "Epoch 227/800\n",
      "29/29 [==============================] - 0s 2ms/step - loss: 0.7774 - mean_euclidean_error: 0.6441 - val_loss: 1.0239 - val_mean_euclidean_error: 0.8727\n",
      "Epoch 228/800\n",
      "29/29 [==============================] - 0s 2ms/step - loss: 0.7867 - mean_euclidean_error: 0.6780 - val_loss: 1.0289 - val_mean_euclidean_error: 0.8572\n",
      "Epoch 229/800\n",
      "29/29 [==============================] - 0s 2ms/step - loss: 0.7903 - mean_euclidean_error: 0.6737 - val_loss: 1.0373 - val_mean_euclidean_error: 0.8799\n",
      "Epoch 230/800\n",
      "29/29 [==============================] - 0s 3ms/step - loss: 0.7793 - mean_euclidean_error: 0.6560 - val_loss: 1.0010 - val_mean_euclidean_error: 0.8232\n",
      "Epoch 231/800\n",
      "29/29 [==============================] - 0s 3ms/step - loss: 0.7709 - mean_euclidean_error: 0.6374 - val_loss: 1.0482 - val_mean_euclidean_error: 0.8116\n",
      "Epoch 232/800\n",
      "29/29 [==============================] - 0s 2ms/step - loss: 0.7884 - mean_euclidean_error: 0.6699 - val_loss: 1.0161 - val_mean_euclidean_error: 0.8127\n",
      "Epoch 233/800\n",
      "29/29 [==============================] - 0s 2ms/step - loss: 0.7831 - mean_euclidean_error: 0.6631 - val_loss: 1.0168 - val_mean_euclidean_error: 0.8165\n",
      "Epoch 234/800\n",
      "29/29 [==============================] - 0s 2ms/step - loss: 0.7843 - mean_euclidean_error: 0.6618 - val_loss: 1.0137 - val_mean_euclidean_error: 0.8091\n",
      "Epoch 235/800\n",
      "29/29 [==============================] - 0s 2ms/step - loss: 0.7739 - mean_euclidean_error: 0.6476 - val_loss: 1.0166 - val_mean_euclidean_error: 0.8282\n",
      "Epoch 236/800\n",
      "29/29 [==============================] - 0s 2ms/step - loss: 0.7699 - mean_euclidean_error: 0.6435 - val_loss: 1.0074 - val_mean_euclidean_error: 0.8364\n",
      "Epoch 237/800\n",
      "29/29 [==============================] - 0s 2ms/step - loss: 0.7772 - mean_euclidean_error: 0.6530 - val_loss: 1.0353 - val_mean_euclidean_error: 0.8150\n",
      "Epoch 238/800\n",
      "29/29 [==============================] - 0s 2ms/step - loss: 0.7700 - mean_euclidean_error: 0.6509 - val_loss: 1.0677 - val_mean_euclidean_error: 0.8182\n",
      "Epoch 239/800\n",
      "29/29 [==============================] - 0s 2ms/step - loss: 0.7730 - mean_euclidean_error: 0.6411 - val_loss: 1.0143 - val_mean_euclidean_error: 0.8349\n",
      "Epoch 240/800\n",
      "29/29 [==============================] - 0s 2ms/step - loss: 0.7677 - mean_euclidean_error: 0.6485 - val_loss: 1.0108 - val_mean_euclidean_error: 0.7856\n",
      "Epoch 241/800\n",
      "29/29 [==============================] - 0s 2ms/step - loss: 0.7705 - mean_euclidean_error: 0.6474 - val_loss: 1.0274 - val_mean_euclidean_error: 0.8098\n",
      "Epoch 242/800\n",
      "29/29 [==============================] - 0s 2ms/step - loss: 0.7787 - mean_euclidean_error: 0.6582 - val_loss: 1.0490 - val_mean_euclidean_error: 0.8799\n",
      "Epoch 243/800\n",
      "29/29 [==============================] - 0s 2ms/step - loss: 0.7680 - mean_euclidean_error: 0.6396 - val_loss: 0.9915 - val_mean_euclidean_error: 0.8069\n",
      "Epoch 244/800\n",
      "29/29 [==============================] - 0s 3ms/step - loss: 0.7644 - mean_euclidean_error: 0.6336 - val_loss: 1.0294 - val_mean_euclidean_error: 0.7980\n",
      "Epoch 245/800\n",
      "29/29 [==============================] - 0s 2ms/step - loss: 0.7596 - mean_euclidean_error: 0.6270 - val_loss: 1.0278 - val_mean_euclidean_error: 0.7927\n",
      "Epoch 246/800\n",
      "29/29 [==============================] - 0s 2ms/step - loss: 0.7712 - mean_euclidean_error: 0.6480 - val_loss: 0.9881 - val_mean_euclidean_error: 0.7548\n",
      "Epoch 247/800\n",
      "29/29 [==============================] - 0s 2ms/step - loss: 0.7536 - mean_euclidean_error: 0.6249 - val_loss: 0.9874 - val_mean_euclidean_error: 0.7609\n",
      "Epoch 248/800\n",
      "29/29 [==============================] - 0s 2ms/step - loss: 0.7565 - mean_euclidean_error: 0.6192 - val_loss: 1.0112 - val_mean_euclidean_error: 0.7948\n",
      "Epoch 249/800\n",
      "29/29 [==============================] - 0s 2ms/step - loss: 0.7628 - mean_euclidean_error: 0.6624 - val_loss: 1.0130 - val_mean_euclidean_error: 0.8475\n",
      "Epoch 250/800\n",
      "29/29 [==============================] - 0s 2ms/step - loss: 0.7663 - mean_euclidean_error: 0.6635 - val_loss: 1.0328 - val_mean_euclidean_error: 0.8894\n",
      "Epoch 251/800\n",
      "29/29 [==============================] - 0s 2ms/step - loss: 0.7678 - mean_euclidean_error: 0.6499 - val_loss: 1.0285 - val_mean_euclidean_error: 0.8150\n",
      "Epoch 252/800\n",
      "29/29 [==============================] - 0s 2ms/step - loss: 0.7562 - mean_euclidean_error: 0.6248 - val_loss: 1.0066 - val_mean_euclidean_error: 0.8714\n",
      "Epoch 253/800\n",
      "29/29 [==============================] - 0s 2ms/step - loss: 0.7622 - mean_euclidean_error: 0.6276 - val_loss: 1.0148 - val_mean_euclidean_error: 0.8633\n",
      "Epoch 254/800\n",
      "29/29 [==============================] - 0s 2ms/step - loss: 0.7481 - mean_euclidean_error: 0.6066 - val_loss: 1.0046 - val_mean_euclidean_error: 0.8540\n",
      "Epoch 255/800\n",
      "29/29 [==============================] - 0s 2ms/step - loss: 0.7539 - mean_euclidean_error: 0.6336 - val_loss: 0.9931 - val_mean_euclidean_error: 0.7983\n",
      "Epoch 256/800\n",
      "29/29 [==============================] - 0s 2ms/step - loss: 0.7568 - mean_euclidean_error: 0.6397 - val_loss: 1.0076 - val_mean_euclidean_error: 0.8181\n",
      "Epoch 257/800\n",
      "29/29 [==============================] - 0s 2ms/step - loss: 0.7620 - mean_euclidean_error: 0.6360 - val_loss: 1.0088 - val_mean_euclidean_error: 0.8099\n",
      "Epoch 258/800\n",
      "29/29 [==============================] - 0s 2ms/step - loss: 0.7525 - mean_euclidean_error: 0.6186 - val_loss: 0.9801 - val_mean_euclidean_error: 0.7782\n",
      "Epoch 259/800\n",
      "29/29 [==============================] - 0s 2ms/step - loss: 0.7520 - mean_euclidean_error: 0.6261 - val_loss: 1.0072 - val_mean_euclidean_error: 0.8124\n",
      "Epoch 260/800\n",
      "29/29 [==============================] - 0s 2ms/step - loss: 0.7493 - mean_euclidean_error: 0.6147 - val_loss: 1.0252 - val_mean_euclidean_error: 0.7962\n",
      "Epoch 261/800\n",
      "29/29 [==============================] - 0s 2ms/step - loss: 0.7580 - mean_euclidean_error: 0.6302 - val_loss: 0.9916 - val_mean_euclidean_error: 0.7805\n",
      "Epoch 262/800\n",
      "29/29 [==============================] - 0s 2ms/step - loss: 0.7444 - mean_euclidean_error: 0.6039 - val_loss: 1.0376 - val_mean_euclidean_error: 0.8623\n",
      "Epoch 263/800\n",
      "29/29 [==============================] - 0s 2ms/step - loss: 0.7481 - mean_euclidean_error: 0.6091 - val_loss: 1.0059 - val_mean_euclidean_error: 0.7947\n",
      "Epoch 264/800\n",
      "29/29 [==============================] - 0s 2ms/step - loss: 0.7451 - mean_euclidean_error: 0.6122 - val_loss: 1.0051 - val_mean_euclidean_error: 0.7921\n",
      "Epoch 265/800\n",
      "29/29 [==============================] - 0s 3ms/step - loss: 0.7587 - mean_euclidean_error: 0.6323 - val_loss: 1.0349 - val_mean_euclidean_error: 0.8700\n",
      "Epoch 266/800\n",
      "29/29 [==============================] - 0s 2ms/step - loss: 0.7583 - mean_euclidean_error: 0.6384 - val_loss: 1.0123 - val_mean_euclidean_error: 0.8354\n",
      "Epoch 267/800\n",
      "29/29 [==============================] - 0s 3ms/step - loss: 0.7426 - mean_euclidean_error: 0.6017 - val_loss: 1.0111 - val_mean_euclidean_error: 0.8054\n",
      "Epoch 268/800\n",
      "29/29 [==============================] - 0s 2ms/step - loss: 0.7435 - mean_euclidean_error: 0.6105 - val_loss: 1.0085 - val_mean_euclidean_error: 0.8200\n",
      "Epoch 269/800\n",
      "29/29 [==============================] - 0s 2ms/step - loss: 0.7391 - mean_euclidean_error: 0.5978 - val_loss: 0.9896 - val_mean_euclidean_error: 0.8223\n",
      "Epoch 270/800\n",
      "29/29 [==============================] - 0s 2ms/step - loss: 0.7398 - mean_euclidean_error: 0.5976 - val_loss: 1.0002 - val_mean_euclidean_error: 0.7996\n",
      "Epoch 271/800\n",
      "29/29 [==============================] - 0s 2ms/step - loss: 0.7434 - mean_euclidean_error: 0.6132 - val_loss: 1.0427 - val_mean_euclidean_error: 0.8381\n",
      "Epoch 272/800\n",
      "29/29 [==============================] - 0s 2ms/step - loss: 0.7498 - mean_euclidean_error: 0.6241 - val_loss: 1.0057 - val_mean_euclidean_error: 0.8483\n",
      "Epoch 273/800\n",
      "29/29 [==============================] - 0s 2ms/step - loss: 0.7388 - mean_euclidean_error: 0.6090 - val_loss: 1.0095 - val_mean_euclidean_error: 0.7779\n",
      "Epoch 274/800\n",
      "29/29 [==============================] - 0s 2ms/step - loss: 0.7483 - mean_euclidean_error: 0.6259 - val_loss: 1.0195 - val_mean_euclidean_error: 0.8508\n",
      "Epoch 275/800\n",
      "29/29 [==============================] - 0s 2ms/step - loss: 0.7510 - mean_euclidean_error: 0.6321 - val_loss: 1.0247 - val_mean_euclidean_error: 0.8721\n",
      "Epoch 276/800\n",
      "29/29 [==============================] - 0s 2ms/step - loss: 0.7417 - mean_euclidean_error: 0.6051 - val_loss: 0.9898 - val_mean_euclidean_error: 0.7912\n",
      "Epoch 277/800\n",
      "29/29 [==============================] - 0s 2ms/step - loss: 0.7336 - mean_euclidean_error: 0.5924 - val_loss: 0.9701 - val_mean_euclidean_error: 0.7403\n",
      "Epoch 278/800\n",
      "29/29 [==============================] - 0s 2ms/step - loss: 0.7357 - mean_euclidean_error: 0.6012 - val_loss: 1.0207 - val_mean_euclidean_error: 0.8626\n",
      "Epoch 279/800\n",
      "29/29 [==============================] - 0s 2ms/step - loss: 0.7388 - mean_euclidean_error: 0.6000 - val_loss: 0.9919 - val_mean_euclidean_error: 0.8375\n",
      "Epoch 280/800\n",
      "29/29 [==============================] - 0s 2ms/step - loss: 0.7332 - mean_euclidean_error: 0.5944 - val_loss: 0.9993 - val_mean_euclidean_error: 0.8402\n",
      "Epoch 281/800\n",
      "29/29 [==============================] - 0s 2ms/step - loss: 0.7411 - mean_euclidean_error: 0.6106 - val_loss: 1.0062 - val_mean_euclidean_error: 0.8281\n",
      "Epoch 282/800\n",
      "29/29 [==============================] - 0s 2ms/step - loss: 0.7346 - mean_euclidean_error: 0.5947 - val_loss: 1.0165 - val_mean_euclidean_error: 0.8227\n",
      "Epoch 283/800\n",
      "29/29 [==============================] - 0s 2ms/step - loss: 0.7385 - mean_euclidean_error: 0.6133 - val_loss: 0.9934 - val_mean_euclidean_error: 0.7979\n",
      "Epoch 284/800\n",
      "29/29 [==============================] - 0s 2ms/step - loss: 0.7459 - mean_euclidean_error: 0.6301 - val_loss: 1.0005 - val_mean_euclidean_error: 0.7963\n",
      "Epoch 285/800\n",
      "29/29 [==============================] - 0s 2ms/step - loss: 0.7425 - mean_euclidean_error: 0.6201 - val_loss: 1.0314 - val_mean_euclidean_error: 0.8771\n",
      "Epoch 286/800\n",
      "29/29 [==============================] - 0s 2ms/step - loss: 0.7365 - mean_euclidean_error: 0.5960 - val_loss: 0.9943 - val_mean_euclidean_error: 0.7647\n",
      "Epoch 287/800\n",
      "29/29 [==============================] - 0s 2ms/step - loss: 0.7378 - mean_euclidean_error: 0.6054 - val_loss: 0.9786 - val_mean_euclidean_error: 0.8067\n",
      "Epoch 288/800\n",
      "29/29 [==============================] - 0s 2ms/step - loss: 0.7278 - mean_euclidean_error: 0.6026 - val_loss: 0.9830 - val_mean_euclidean_error: 0.8116\n",
      "Epoch 289/800\n",
      "29/29 [==============================] - 0s 2ms/step - loss: 0.7421 - mean_euclidean_error: 0.6268 - val_loss: 1.0040 - val_mean_euclidean_error: 0.8432\n",
      "Epoch 290/800\n",
      "29/29 [==============================] - 0s 2ms/step - loss: 0.7322 - mean_euclidean_error: 0.6034 - val_loss: 0.9719 - val_mean_euclidean_error: 0.7940\n",
      "Epoch 291/800\n",
      "29/29 [==============================] - 0s 2ms/step - loss: 0.7264 - mean_euclidean_error: 0.5791 - val_loss: 0.9819 - val_mean_euclidean_error: 0.7596\n",
      "Epoch 292/800\n",
      "29/29 [==============================] - 0s 2ms/step - loss: 0.7270 - mean_euclidean_error: 0.5874 - val_loss: 0.9918 - val_mean_euclidean_error: 0.8754\n",
      "Epoch 293/800\n",
      "29/29 [==============================] - 0s 2ms/step - loss: 0.7421 - mean_euclidean_error: 0.6059 - val_loss: 1.0128 - val_mean_euclidean_error: 0.8295\n",
      "Epoch 294/800\n",
      "29/29 [==============================] - 0s 2ms/step - loss: 0.7262 - mean_euclidean_error: 0.5802 - val_loss: 0.9660 - val_mean_euclidean_error: 0.7698\n",
      "Epoch 295/800\n",
      "29/29 [==============================] - 0s 2ms/step - loss: 0.7238 - mean_euclidean_error: 0.5883 - val_loss: 1.0025 - val_mean_euclidean_error: 0.8117\n",
      "Epoch 296/800\n",
      "29/29 [==============================] - 0s 2ms/step - loss: 0.7300 - mean_euclidean_error: 0.5972 - val_loss: 0.9741 - val_mean_euclidean_error: 0.7982\n",
      "Epoch 297/800\n",
      "29/29 [==============================] - 0s 2ms/step - loss: 0.7290 - mean_euclidean_error: 0.6004 - val_loss: 1.0181 - val_mean_euclidean_error: 0.8445\n",
      "Epoch 298/800\n",
      "29/29 [==============================] - 0s 3ms/step - loss: 0.7330 - mean_euclidean_error: 0.6064 - val_loss: 1.0015 - val_mean_euclidean_error: 0.8055\n",
      "Epoch 299/800\n",
      "29/29 [==============================] - 0s 3ms/step - loss: 0.7254 - mean_euclidean_error: 0.5986 - val_loss: 0.9943 - val_mean_euclidean_error: 0.7652\n",
      "Epoch 300/800\n",
      "29/29 [==============================] - 0s 3ms/step - loss: 0.7331 - mean_euclidean_error: 0.6175 - val_loss: 0.9658 - val_mean_euclidean_error: 0.7573\n",
      "Epoch 301/800\n",
      "29/29 [==============================] - 0s 3ms/step - loss: 0.7406 - mean_euclidean_error: 0.6502 - val_loss: 1.0006 - val_mean_euclidean_error: 0.8173\n",
      "Epoch 302/800\n",
      "29/29 [==============================] - 0s 3ms/step - loss: 0.7332 - mean_euclidean_error: 0.5966 - val_loss: 1.0137 - val_mean_euclidean_error: 0.8166\n",
      "Epoch 303/800\n",
      "29/29 [==============================] - 0s 4ms/step - loss: 0.7127 - mean_euclidean_error: 0.5616 - val_loss: 0.9867 - val_mean_euclidean_error: 0.8424\n",
      "Epoch 304/800\n",
      "29/29 [==============================] - 0s 2ms/step - loss: 0.7181 - mean_euclidean_error: 0.5798 - val_loss: 1.0076 - val_mean_euclidean_error: 0.8600\n",
      "Epoch 305/800\n",
      "29/29 [==============================] - 0s 2ms/step - loss: 0.7201 - mean_euclidean_error: 0.5844 - val_loss: 0.9983 - val_mean_euclidean_error: 0.8173\n",
      "Epoch 306/800\n",
      "29/29 [==============================] - 0s 2ms/step - loss: 0.7255 - mean_euclidean_error: 0.5937 - val_loss: 0.9845 - val_mean_euclidean_error: 0.7930\n",
      "Epoch 307/800\n",
      "29/29 [==============================] - 0s 2ms/step - loss: 0.7387 - mean_euclidean_error: 0.6220 - val_loss: 0.9880 - val_mean_euclidean_error: 0.8091\n",
      "Epoch 308/800\n",
      "29/29 [==============================] - 0s 2ms/step - loss: 0.7194 - mean_euclidean_error: 0.5781 - val_loss: 0.9798 - val_mean_euclidean_error: 0.8132\n",
      "Epoch 309/800\n",
      "29/29 [==============================] - 0s 2ms/step - loss: 0.7168 - mean_euclidean_error: 0.5808 - val_loss: 0.9910 - val_mean_euclidean_error: 0.8105\n",
      "Epoch 310/800\n",
      "29/29 [==============================] - 0s 2ms/step - loss: 0.7180 - mean_euclidean_error: 0.5760 - val_loss: 0.9733 - val_mean_euclidean_error: 0.7852\n",
      "Epoch 311/800\n",
      "29/29 [==============================] - 0s 2ms/step - loss: 0.7129 - mean_euclidean_error: 0.5681 - val_loss: 0.9918 - val_mean_euclidean_error: 0.7531\n",
      "Epoch 312/800\n",
      "29/29 [==============================] - 0s 2ms/step - loss: 0.7208 - mean_euclidean_error: 0.5876 - val_loss: 0.9626 - val_mean_euclidean_error: 0.7752\n",
      "Epoch 313/800\n",
      "29/29 [==============================] - 0s 2ms/step - loss: 0.7252 - mean_euclidean_error: 0.5960 - val_loss: 0.9879 - val_mean_euclidean_error: 0.7985\n",
      "Epoch 314/800\n",
      "29/29 [==============================] - 0s 2ms/step - loss: 0.7132 - mean_euclidean_error: 0.5734 - val_loss: 0.9738 - val_mean_euclidean_error: 0.7596\n",
      "Epoch 315/800\n",
      "29/29 [==============================] - 0s 2ms/step - loss: 0.7254 - mean_euclidean_error: 0.5906 - val_loss: 0.9928 - val_mean_euclidean_error: 0.8045\n",
      "Epoch 316/800\n",
      "29/29 [==============================] - 0s 2ms/step - loss: 0.7226 - mean_euclidean_error: 0.5968 - val_loss: 0.9848 - val_mean_euclidean_error: 0.7776\n",
      "Epoch 317/800\n",
      "29/29 [==============================] - 0s 2ms/step - loss: 0.7154 - mean_euclidean_error: 0.5993 - val_loss: 0.9697 - val_mean_euclidean_error: 0.7439\n",
      "Epoch 318/800\n",
      "29/29 [==============================] - 0s 2ms/step - loss: 0.7211 - mean_euclidean_error: 0.5904 - val_loss: 0.9785 - val_mean_euclidean_error: 0.7923\n",
      "Epoch 319/800\n",
      "29/29 [==============================] - 0s 2ms/step - loss: 0.7347 - mean_euclidean_error: 0.6011 - val_loss: 0.9871 - val_mean_euclidean_error: 0.8063\n",
      "Epoch 320/800\n",
      "29/29 [==============================] - 0s 2ms/step - loss: 0.7092 - mean_euclidean_error: 0.5779 - val_loss: 0.9726 - val_mean_euclidean_error: 0.8083\n",
      "Epoch 321/800\n",
      "29/29 [==============================] - 0s 2ms/step - loss: 0.7391 - mean_euclidean_error: 0.6093 - val_loss: 0.9518 - val_mean_euclidean_error: 0.7904\n",
      "Epoch 322/800\n",
      "29/29 [==============================] - 0s 2ms/step - loss: 0.7252 - mean_euclidean_error: 0.5877 - val_loss: 1.0066 - val_mean_euclidean_error: 0.8233\n",
      "Epoch 323/800\n",
      "29/29 [==============================] - 0s 2ms/step - loss: 0.7118 - mean_euclidean_error: 0.5847 - val_loss: 0.9733 - val_mean_euclidean_error: 0.8258\n",
      "Epoch 324/800\n",
      "29/29 [==============================] - 0s 2ms/step - loss: 0.7300 - mean_euclidean_error: 0.6039 - val_loss: 1.0030 - val_mean_euclidean_error: 0.8246\n",
      "Epoch 325/800\n",
      "29/29 [==============================] - 0s 2ms/step - loss: 0.7063 - mean_euclidean_error: 0.5605 - val_loss: 0.9642 - val_mean_euclidean_error: 0.7959\n",
      "Epoch 326/800\n",
      "29/29 [==============================] - 0s 2ms/step - loss: 0.7092 - mean_euclidean_error: 0.5649 - val_loss: 0.9591 - val_mean_euclidean_error: 0.7438\n",
      "Epoch 327/800\n",
      " 1/29 [>.............................] - ETA: 0s - loss: 0.6834 - mean_euclidean_error: 0.5326Restoring model weights from the end of the best epoch: 277.\n",
      "29/29 [==============================] - 0s 2ms/step - loss: 0.7152 - mean_euclidean_error: 0.5806 - val_loss: 0.9898 - val_mean_euclidean_error: 0.7954\n",
      "\n",
      "Epoch 327: early stopping.\n",
      "Best validation mean_euclidean_error: 0.7402508854866028\n"
     ]
    }
   ],
   "source": [
    "best_config_cup = {\n",
    "    'lr': 0.001,\n",
    "    'h_dim': 64,\n",
    "    'n_layers': 2,\n",
    "    'activation': 'tanh',\n",
    "    'reg': 0.001,\n",
    "    'beta_1': 0.9,\n",
    "    'beta_2': 0.99,\n",
    "    'batch_size': 32,\n",
    "}\n",
    "\n",
    "model_nn_cup = get_nn_adam_regressor(best_config_cup)\n",
    "solver = Solver(model_nn_cup, x_train_cup, y_train_cup, x_internal_test_cup, y_internal_test_cup, target='mean_euclidean_error')\n",
    "solver.train(epochs=800, patience=50)"
   ]
  },
  {
   "cell_type": "code",
   "execution_count": null,
   "id": "8400b3ff-c8be-470c-917f-1210fb910db3",
   "metadata": {},
   "outputs": [],
   "source": [
    "solver.plot_history(results_dir + '/CUP/history')"
   ]
  },
  {
   "cell_type": "code",
   "execution_count": null,
   "id": "79562e68-f0b7-4cc9-8446-fa0021cb551b",
   "metadata": {},
   "outputs": [],
   "source": [
    "print('-- TRAINING --')\n",
    "loss_train_cup, mee_train_cup = model_nn_cup.evaluate(x_train_cup, y_train_cup)\n",
    "print(f'Loss (MSE): {loss_train_cup:.4f} -  MEE: {mee_train_cup:.4f}')"
   ]
  },
  {
   "cell_type": "code",
   "execution_count": null,
   "id": "d3396544-f010-480b-96ff-7c156dd6c0e5",
   "metadata": {},
   "outputs": [],
   "source": [
    "print('-- INTERNAL TEST --')\n",
    "loss_internal_test_cup, mee_internal_test_cup = model_nn_cup.evaluate(x_internal_test_cup, y_internal_test_cup)\n",
    "print(f'Loss (MSE): {loss_internal_test_cup:.4f} -  MEE: {mee_internal_test_cup:.4f}')"
   ]
  },
  {
   "cell_type": "markdown",
   "id": "bcfd7f89-31fb-4fab-86f2-c1dd33535c54",
   "metadata": {},
   "source": [
    "## Blind Test Predictions"
   ]
  },
  {
   "cell_type": "code",
   "execution_count": null,
   "id": "3580e273-6396-4d4a-8c3f-6b7f04ba6008",
   "metadata": {},
   "outputs": [],
   "source": [
    "# Blind test set predictions\n",
    "nn_preds_cup = model_nn_cup.predict(x_test_cup)"
   ]
  },
  {
   "cell_type": "markdown",
   "id": "9d566752-12c9-4a6f-a732-a187d7aa63d4",
   "metadata": {},
   "source": [
    "## Store Result"
   ]
  },
  {
   "cell_type": "code",
   "execution_count": null,
   "id": "e412529f-4dea-4d38-bd54-7c0e28d1819c",
   "metadata": {},
   "outputs": [],
   "source": [
    "report_nn = {\n",
    "    'train': {'mse': loss_train_cup, 'mee': mee_train_cup},\n",
    "    'val': {'mse': loss_val_cup, 'mee': mee_val_cup},\n",
    "    'internal_test': {'mse': loss_internal_test_cup, 'mee': mee_internal_test_cup}\n",
    "}\n",
    "\n",
    "store_cup_result(results_dir + '/CUP/', best_config_cup,  report_nn, nn_preds_cup)"
   ]
  }
 ],
 "metadata": {
  "kernelspec": {
   "display_name": "hlt",
   "language": "python",
   "name": "hlt"
  },
  "language_info": {
   "codemirror_mode": {
    "name": "ipython",
    "version": 3
   },
   "file_extension": ".py",
   "mimetype": "text/x-python",
   "name": "python",
   "nbconvert_exporter": "python",
   "pygments_lexer": "ipython3",
   "version": "3.9.7"
  }
 },
 "nbformat": 4,
 "nbformat_minor": 5
}
