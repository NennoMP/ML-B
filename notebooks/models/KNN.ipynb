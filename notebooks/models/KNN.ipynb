{
 "cells": [
  {
   "cell_type": "markdown",
   "id": "59d3416e-3aee-496b-9a46-d86fab3fe008",
   "metadata": {
    "tags": []
   },
   "source": [
    "## Imports"
   ]
  },
  {
   "cell_type": "code",
   "execution_count": null,
   "id": "15985a7e-4206-4f13-aaad-d38982df5f10",
   "metadata": {},
   "outputs": [],
   "source": [
    "import os\n",
    "import sys\n",
    "\n",
    "import numpy as np\n",
    "import pandas as pd\n",
    "import matplotlib.pyplot as plt\n",
    "from scipy.stats import randint\n",
    "\n",
    "from sklearn.neighbors import KNeighborsClassifier, KNeighborsRegressor\n",
    "from sklearn.metrics import accuracy_score, make_scorer, mean_squared_error\n",
    "from sklearn.model_selection import GridSearchCV, RandomizedSearchCV, StratifiedKFold, KFold, train_test_split, ValidationCurveDisplay, validation_curve\n",
    "from sklearn.preprocessing import PolynomialFeatures\n",
    "\n",
    "dir_parts = os.getcwd().split(os.path.sep)\n",
    "root_index = dir_parts.index('ML-B')\n",
    "root_path = os.path.sep.join(dir_parts[:root_index + 1])\n",
    "sys.path.append(root_path + '/code/')\n",
    "from data.data_config import Dataset\n",
    "from data.data_utils import load_monk, load_cup, store_monk_result, store_cup_result\n",
    "from hyperparameter_tuning import tuning_search_top_configs\n",
    "from training.metrics import mean_euclidean_error\n",
    "\n",
    "%load_ext autoreload\n",
    "%autoreload 2"
   ]
  },
  {
   "cell_type": "markdown",
   "id": "796c5562-6b4f-4eb0-bf78-8850ccc95a88",
   "metadata": {
    "tags": []
   },
   "source": [
    "# K-NN\n",
    "In this notebook we test a **KNeighborsClassifier** and a **KNeighborsRegressor** w.r.t. the tasks at hand, i.e. the three MONK's problems and the CUP dataset respectively."
   ]
  },
  {
   "cell_type": "markdown",
   "id": "ba637d3a-c002-47e1-9ff2-26a51501df7e",
   "metadata": {},
   "source": [
    "## Settings"
   ]
  },
  {
   "cell_type": "code",
   "execution_count": null,
   "id": "5e103d7c-0cc6-4f8c-89a9-aed6653b1abf",
   "metadata": {
    "tags": []
   },
   "outputs": [],
   "source": [
    "MODEL_NAME = 'K-NN'\n",
    "INTERNAL_TEST_SPLIT = 0.1 # internal test split percentage\n",
    "RANDOM_STATE = 128 # reproducibility\n",
    "N_SPLITS = 5 # cross-validation\n",
    "POLY_DEGREE = 3 # polynomial features pre-processing"
   ]
  },
  {
   "cell_type": "markdown",
   "id": "84564330-d564-4700-9865-88576073b71b",
   "metadata": {
    "tags": []
   },
   "source": [
    "## Path"
   ]
  },
  {
   "cell_type": "code",
   "execution_count": null,
   "id": "0b342ae0-1ef2-4bdb-9128-cd10ac83adf9",
   "metadata": {},
   "outputs": [],
   "source": [
    "# Directories\n",
    "results_dir = root_path + '/results/' + MODEL_NAME\n",
    "\n",
    "# Filepaths (MONK)\n",
    "m1_dev_path, m1_test_path = Dataset.MONK_1.dev_path, Dataset.MONK_1.test_path # MONK 1\n",
    "m2_dev_path, m2_test_path = Dataset.MONK_2.dev_path, Dataset.MONK_2.test_path # MONK 2\n",
    "m3_dev_path, m3_test_path = Dataset.MONK_3.dev_path, Dataset.MONK_3.test_path # MONK 3\n",
    "\n",
    "# Filepaths (CUP)\n",
    "cup_dev_path, cup_test_path = Dataset.CUP.dev_path, Dataset.CUP.test_path"
   ]
  },
  {
   "cell_type": "markdown",
   "id": "859824b9-6c6c-4f09-b4d9-ad5f9c5e2b29",
   "metadata": {
    "tags": []
   },
   "source": [
    "# MONK-1"
   ]
  },
  {
   "cell_type": "code",
   "execution_count": null,
   "id": "83acdfd1-f9c0-4e22-9bae-3998e0273ca1",
   "metadata": {},
   "outputs": [],
   "source": [
    "# Load MONK-1\n",
    "x_dev_m1, y_dev_m1, x_test_m1, y_test_m1 = load_monk(m1_dev_path, m1_test_path)"
   ]
  },
  {
   "cell_type": "markdown",
   "id": "94fcd744-bfd1-4316-b15d-ab6689988460",
   "metadata": {
    "tags": []
   },
   "source": [
    "Let's perform a grid-search to identify promising hyper-paramaters for the task."
   ]
  },
  {
   "cell_type": "code",
   "execution_count": null,
   "id": "45831b92-a6ae-4950-9a24-475f37115343",
   "metadata": {
    "tags": []
   },
   "outputs": [],
   "source": [
    "# Grid-search spaces\n",
    "clf_hparams_spaces = {\n",
    "    'n_neighbors': list(range(2,int(len(x_dev_m1)/2))),\n",
    "    'weights': ['uniform', 'distance'],\n",
    "    'p': [1,2]\n",
    "}"
   ]
  },
  {
   "cell_type": "code",
   "execution_count": null,
   "id": "533e2fb2-2f18-4f54-88cc-f6f9df08db60",
   "metadata": {
    "scrolled": true
   },
   "outputs": [],
   "source": [
    "grid_search_m1 = GridSearchCV(\n",
    "    KNeighborsClassifier(),\n",
    "    param_grid=clf_hparams_spaces,\n",
    "    cv=StratifiedKFold(n_splits=N_SPLITS, shuffle=True, random_state=RANDOM_STATE),\n",
    "    scoring='accuracy',\n",
    "    verbose=1\n",
    ")\n",
    "\n",
    "grid_search_m1.fit(x_dev_m1, y_dev_m1)"
   ]
  },
  {
   "cell_type": "code",
   "execution_count": null,
   "id": "ce7c6596-ab4e-4b5c-9cce-a257498ca99d",
   "metadata": {},
   "outputs": [],
   "source": [
    "tuning_search_top_configs(grid_search_m1.cv_results_) # top k config"
   ]
  },
  {
   "cell_type": "markdown",
   "id": "929ceafb-cfd0-4f8b-a36e-69c5721e4309",
   "metadata": {},
   "source": [
    "## Training - Testing"
   ]
  },
  {
   "cell_type": "code",
   "execution_count": null,
   "id": "51d80917-9ca0-4de4-8db8-045183494e9f",
   "metadata": {},
   "outputs": [],
   "source": [
    "# Create a SVC with the best hparams\n",
    "#knn_m1 = KNeighborsClassifier(**grid_search_m1.best_params_)\n",
    "\n",
    "# Train the model\n",
    "knn_m1 = KNeighborsClassifier(n_neighbors=22, p=1, weights='distance')\n",
    "knn_m1.fit(x_dev_m1, y_dev_m1)"
   ]
  },
  {
   "cell_type": "code",
   "execution_count": null,
   "id": "e034c525-0c5a-4737-9186-4cfc0b61ae15",
   "metadata": {},
   "outputs": [],
   "source": [
    "print('-- DEVELOPMENT --')\n",
    "acc_dev_m1 = accuracy_score(y_dev_m1, knn_m1.predict(x_dev_m1))\n",
    "mse_dev_m1 = mean_squared_error(y_dev_m1, knn_m1.predict(x_dev_m1))\n",
    "print(f'Loss (MSE): {mse_dev_m1:.4f} - Accuracy: {acc_dev_m1:.4f}')"
   ]
  },
  {
   "cell_type": "code",
   "execution_count": null,
   "id": "38e328d0-7a8e-463d-b9f3-0b2bdd3700c9",
   "metadata": {},
   "outputs": [],
   "source": [
    "print('-- TEST --')\n",
    "acc_test_m1 = accuracy_score(y_test_m1, knn_m1.predict(x_test_m1))\n",
    "mse_test_m1 = mean_squared_error(y_test_m1, knn_m1.predict(x_test_m1))\n",
    "print(f'Loss (MSE): {mse_test_m1:.4f} - Accuracy: {acc_test_m1:.4f}')"
   ]
  },
  {
   "cell_type": "markdown",
   "id": "5d9a9e02-7de5-4fe0-8b53-5d7e98839b89",
   "metadata": {},
   "source": [
    "## Store results"
   ]
  },
  {
   "cell_type": "code",
   "execution_count": null,
   "id": "4b65fea0-49fd-4f42-be28-e03a264f7d6a",
   "metadata": {},
   "outputs": [],
   "source": [
    "report_m1 = {\n",
    "    'dev': {'mse': mse_dev_m1, 'accuracy': acc_dev_m1},\n",
    "    'test': {'mse': mse_test_m1, 'accuracy': acc_test_m1}\n",
    "}\n",
    "\n",
    "store_monk_result(results_dir + '/MONK1/', knn_m1.get_params(), report_m1)"
   ]
  },
  {
   "cell_type": "markdown",
   "id": "b216aed0-5ba0-4816-a889-a3be455e73c9",
   "metadata": {
    "tags": []
   },
   "source": [
    "# MONK-2"
   ]
  },
  {
   "cell_type": "code",
   "execution_count": null,
   "id": "ed53f005-090c-42b0-8fc7-63b6d05bae63",
   "metadata": {},
   "outputs": [],
   "source": [
    "# Load MONK-2\n",
    "x_dev_m2, y_dev_m2, x_test_m2, y_test_m2 = load_monk(m2_dev_path, m2_test_path)"
   ]
  },
  {
   "cell_type": "markdown",
   "id": "cac217f9-a72c-4ae1-b921-a4e49c8d0526",
   "metadata": {},
   "source": [
    "Let's perform a grid-search to identify promising hyper-paramaters for the task."
   ]
  },
  {
   "cell_type": "code",
   "execution_count": null,
   "id": "7f6feeba-d63e-416e-9461-753844ee76b4",
   "metadata": {},
   "outputs": [],
   "source": [
    "grid_search_m2 = GridSearchCV(\n",
    "    KNeighborsClassifier(),\n",
    "    param_grid=clf_hparams_spaces,\n",
    "    cv=StratifiedKFold(n_splits=N_SPLITS, shuffle=True, random_state=RANDOM_STATE),\n",
    "    scoring='accuracy',\n",
    "    verbose=1\n",
    ")\n",
    "\n",
    "grid_search_m2.fit(x_dev_m2, y_dev_m2)"
   ]
  },
  {
   "cell_type": "code",
   "execution_count": null,
   "id": "6709c2f4-d81d-4081-890e-b6c247a50a6c",
   "metadata": {},
   "outputs": [],
   "source": [
    "best_configs_m2 = tuning_search_top_configs(grid_search_m2.cv_results_) # top k config"
   ]
  },
  {
   "cell_type": "code",
   "execution_count": null,
   "id": "663e9095-cdfd-46eb-9ec4-95e3f973fb14",
   "metadata": {},
   "outputs": [],
   "source": [
    "# Create a SVC with the best hparams\n",
    "#knn_m2 = KNeighborsClassifier(**grid_search_m2.best_params_)\n",
    "\n",
    "# Train the model\n",
    "knn_m2 = KNeighborsClassifier(n_neighbors=56, p=1, weights='distance')\n",
    "knn_m2.fit(x_dev_m2, y_dev_m2)"
   ]
  },
  {
   "cell_type": "code",
   "execution_count": null,
   "id": "0d8ba0c8-0979-47ae-a2a8-dfbfc0636484",
   "metadata": {},
   "outputs": [],
   "source": [
    "print('-- DEVELOPMENT --')\n",
    "acc_dev_m2 = accuracy_score(y_dev_m2, knn_m2.predict(x_dev_m2))\n",
    "mse_dev_m2 = mean_squared_error(y_dev_m2, knn_m2.predict(x_dev_m2))\n",
    "print(f'MSE: {mse_dev_m2:.4f} - Accuracy: {acc_dev_m2:.4f}')"
   ]
  },
  {
   "cell_type": "code",
   "execution_count": null,
   "id": "6a942149-2b2e-4922-898d-3ec02ed06c38",
   "metadata": {},
   "outputs": [],
   "source": [
    "print('-- TEST --')\n",
    "acc_test_m2 = accuracy_score(y_test_m2, knn_m2.predict(x_test_m2))\n",
    "mse_test_m2 = mean_squared_error(y_test_m2, knn_m2.predict(x_test_m2))\n",
    "print(f'MSE: {mse_test_m2:.4f} - Accuracy: {acc_test_m2:.4f}')"
   ]
  },
  {
   "cell_type": "markdown",
   "id": "3d02eee3-3a35-4e56-8265-da8817d5d57c",
   "metadata": {},
   "source": [
    "## Store results"
   ]
  },
  {
   "cell_type": "code",
   "execution_count": null,
   "id": "49bda5cb-6a6a-487b-943e-b5e0a28dca3c",
   "metadata": {},
   "outputs": [],
   "source": [
    "report_m2 = {\n",
    "    'dev': {'mse': mse_dev_m2, 'accuracy': acc_dev_m2},\n",
    "    'test': {'mse': mse_test_m2, 'accuracy': acc_test_m2}\n",
    "}\n",
    "\n",
    "store_monk_result(results_dir + '/MONK2/', knn_m2.get_params(), report_m2)"
   ]
  },
  {
   "cell_type": "markdown",
   "id": "aea2e408-6d1b-4c43-b70b-c4fec0da831d",
   "metadata": {
    "tags": []
   },
   "source": [
    "# MONK-3"
   ]
  },
  {
   "cell_type": "code",
   "execution_count": null,
   "id": "4a17d8f8-56c5-4d31-a2e8-2e648b327ec0",
   "metadata": {},
   "outputs": [],
   "source": [
    "# Load MONK-3\n",
    "x_dev_m3, y_dev_m3, x_test_m3, y_test_m3 = load_monk(m3_dev_path, m3_test_path)"
   ]
  },
  {
   "cell_type": "markdown",
   "id": "6214736d-1663-419b-8451-2cc674b5dd6b",
   "metadata": {},
   "source": [
    "Let's perform a grid-search to identify promising hyper-paramaters for the task."
   ]
  },
  {
   "cell_type": "code",
   "execution_count": null,
   "id": "0ef3ef30-a9e1-49d2-b562-3af03a3573d2",
   "metadata": {},
   "outputs": [],
   "source": [
    "# Grid-search with KFold\n",
    "grid_search_m3 = GridSearchCV(\n",
    "    KNeighborsClassifier(),\n",
    "    param_grid=clf_hparams_spaces,\n",
    "    cv=StratifiedKFold(n_splits=N_SPLITS, shuffle=True, random_state=RANDOM_STATE),\n",
    "    scoring='accuracy',\n",
    "    verbose=1\n",
    ")\n",
    "\n",
    "grid_search_m3.fit(x_dev_m3, y_dev_m3)"
   ]
  },
  {
   "cell_type": "code",
   "execution_count": null,
   "id": "ad10db59-c123-4ff2-afd9-06b771b4c496",
   "metadata": {},
   "outputs": [],
   "source": [
    "best_configs_m3 = tuning_search_top_configs(grid_search_m3.cv_results_) # top k config"
   ]
  },
  {
   "cell_type": "markdown",
   "id": "42c6cd5a-42e5-4584-9600-5320f155e39c",
   "metadata": {
    "tags": []
   },
   "source": [
    "## Training - Testing"
   ]
  },
  {
   "cell_type": "code",
   "execution_count": null,
   "id": "75fd7ac4-8689-4848-ba38-b65486034aec",
   "metadata": {},
   "outputs": [],
   "source": [
    "# Create a SVC with the best hparams\n",
    "#knn_m3 = KNeighborsClassifier(**grid_search_m3.best_params_)\n",
    "\n",
    "# Train the model\n",
    "knn_m3 = KNeighborsClassifier(n_neighbors=43, p=1, weights='distance')\n",
    "knn_m3.fit(x_dev_m3, y_dev_m3)"
   ]
  },
  {
   "cell_type": "code",
   "execution_count": null,
   "id": "59327b63-b89c-4ba9-8c18-6f2336d906ad",
   "metadata": {},
   "outputs": [],
   "source": [
    "print('-- DEVELOPMENT --')\n",
    "acc_dev_m3 = accuracy_score(y_dev_m3, knn_m3.predict(x_dev_m3))\n",
    "mse_dev_m3 = mean_squared_error(y_dev_m3, knn_m3.predict(x_dev_m3))\n",
    "print(f'MSE: {mse_dev_m3:.4f} - Accuracy: {acc_dev_m3:.4f}')"
   ]
  },
  {
   "cell_type": "code",
   "execution_count": null,
   "id": "eb70c03f-7d3d-4518-8311-aa1328762b79",
   "metadata": {},
   "outputs": [],
   "source": [
    "print('-- TEST --')\n",
    "acc_test_m3 = accuracy_score(y_test_m3, knn_m3.predict(x_test_m3))\n",
    "mse_test_m3 = mean_squared_error(y_test_m3, knn_m3.predict(x_test_m3))\n",
    "print(f'MSE: {mse_test_m3:.4f} - Accuracy: {acc_test_m3:.4f}')"
   ]
  },
  {
   "cell_type": "markdown",
   "id": "9f69257a-1bcb-4cf7-9c53-9b15477e5cec",
   "metadata": {},
   "source": [
    "## Store results"
   ]
  },
  {
   "cell_type": "code",
   "execution_count": null,
   "id": "bfab177b-e38b-47dd-86fe-0157f345ff66",
   "metadata": {},
   "outputs": [],
   "source": [
    "report_m3 = {\n",
    "    'dev': {'mse': mse_dev_m3, 'accuracy': acc_dev_m3},\n",
    "    'test': {'mse': mse_test_m3, 'accuracy': acc_test_m3}\n",
    "}\n",
    "\n",
    "store_monk_result(results_dir + '/MONK3/', knn_m3.get_params(), report_m3)"
   ]
  },
  {
   "cell_type": "markdown",
   "id": "007f6603-97eb-4bf3-ae71-b1a62be020bd",
   "metadata": {},
   "source": [
    "# CUP"
   ]
  },
  {
   "cell_type": "code",
   "execution_count": null,
   "id": "319305de-8537-410c-967c-639dad72fd16",
   "metadata": {},
   "outputs": [],
   "source": [
    "# Load CUP\n",
    "x_dev_cup, y_dev_cup, x_test_cup = load_cup(cup_dev_path, cup_test_path)"
   ]
  },
  {
   "cell_type": "markdown",
   "id": "7ada4b68-0c6f-468a-975e-798b1437074a",
   "metadata": {
    "tags": []
   },
   "source": [
    "## Dev - Internal Test Split \n",
    "The development dataset is split between training and internal test ($90-10$)."
   ]
  },
  {
   "cell_type": "code",
   "execution_count": null,
   "id": "21e3f11f-4cb8-426b-8ec6-d4c981568cc7",
   "metadata": {},
   "outputs": [],
   "source": [
    "# Split the internal test set\n",
    "x_train_cup, x_internal_test_cup, y_train_cup, y_internal_test_cup = train_test_split(\n",
    "    x_dev_cup, y_dev_cup, test_size=INTERNAL_TEST_SPLIT, random_state=128\n",
    ")"
   ]
  },
  {
   "cell_type": "markdown",
   "id": "333c0d62-b2df-47e1-86e4-1f041a8798d1",
   "metadata": {},
   "source": [
    "## Polynomial Features pre-processing"
   ]
  },
  {
   "cell_type": "code",
   "execution_count": null,
   "id": "b48712cc-26e5-46fa-96bd-b1a9c84c8220",
   "metadata": {},
   "outputs": [],
   "source": [
    "# --- COMMENT TO USE NON-ENCHANED DATASET --- \n",
    "# Polynomial features pre-processing\n",
    "poly = PolynomialFeatures(degree=POLY_DEGREE)\n",
    "x_train_cup = poly.fit_transform(x_train_cup)\n",
    "x_internal_test_cup = poly.transform(x_internal_test_cup)\n",
    "x_test_cup = poly.transform(x_test_cup)"
   ]
  },
  {
   "cell_type": "markdown",
   "id": "1d01fad2-3770-4aa1-97e5-caa5e8a94dfd",
   "metadata": {
    "tags": []
   },
   "source": [
    "## Hyper-parameters Tuning\n",
    "A common approach is to start with a coarse search across a wide range of values to find promising sub-ranges of our parameter space. Then, you would zoom into these ranges and perform another search to fine-tune the configurations.\n",
    "\n",
    "Here, we proceed as follows:\n",
    "1. (coarse) Grid-search across a wide range of hyper-paramaters and values;\n",
    "2. (fine-tune) Random-search into zoomed intervals w.r.t. best configuration found by grid-search.\n",
    "\n",
    "Then, we perform a single run of grid-search and random-search with the respectively best configurations while taking into account a PolynomialFeatures pre-processing with fixed degree. The best configurations that will be used for final re-training and evaluation on internal test is the one with the best mean MEE on the validation cross-validation.\n",
    "\n",
    "Note that, tuning of the polynomial degree wasn't performed because it would be very expensive. Thus, we simply decided to use a fixed degree value."
   ]
  },
  {
   "cell_type": "markdown",
   "id": "a614d1c6-5680-4d6d-a8d5-afb6a5a6d945",
   "metadata": {},
   "source": [
    "### Grid search"
   ]
  },
  {
   "cell_type": "code",
   "execution_count": null,
   "id": "9646b813-74a4-4022-a637-55a2a9e128a5",
   "metadata": {},
   "outputs": [],
   "source": [
    "# Grid-search spaces\n",
    "grid_search_spaces_cup = {\n",
    "    'n_neighbors': list(range(2,int(len(x_train_cup)/2))),\n",
    "     'weights': ['uniform', 'distance'],\n",
    "     'p': [1,2]\n",
    "}"
   ]
  },
  {
   "cell_type": "code",
   "execution_count": null,
   "id": "1a45b107-4e22-4f09-9663-f7df9567fe92",
   "metadata": {},
   "outputs": [],
   "source": [
    "grid_search_cup = GridSearchCV(\n",
    "    KNeighborsRegressor(),\n",
    "    param_grid=grid_search_spaces_cup,\n",
    "    cv=KFold(n_splits=N_SPLITS, shuffle=True, random_state=RANDOM_STATE),\n",
    "    scoring=make_scorer(mean_euclidean_error, greater_is_better=False),\n",
    "    verbose=1\n",
    ")\n",
    "\n",
    "grid_search_cup.fit(x_train_cup, y_train_cup)"
   ]
  },
  {
   "cell_type": "code",
   "execution_count": null,
   "id": "d914ba9f-394f-40db-965d-358408862725",
   "metadata": {},
   "outputs": [],
   "source": [
    "tuning_search_top_configs(grid_search_cup.cv_results_) # top k config"
   ]
  },
  {
   "cell_type": "markdown",
   "id": "4702478e-4240-4639-ba59-99f23b3eeff2",
   "metadata": {},
   "source": [
    "### Random Search"
   ]
  },
  {
   "cell_type": "code",
   "execution_count": null,
   "id": "f0221a1f-758a-45b3-8843-992b33db7786",
   "metadata": {},
   "outputs": [],
   "source": [
    "best_params = grid_search_cup.best_params_\n",
    "\n",
    "# Random-search spaces\n",
    "random_search_spaces_cup = {\n",
    "    'n_neighbors': randint(max(2, best_params['n_neighbors'] * 0.5), best_params['n_neighbors'] * 2),\n",
    "    'weights': [best_params['weights']],\n",
    "    'p': [1,2]\n",
    "}"
   ]
  },
  {
   "cell_type": "code",
   "execution_count": null,
   "id": "6d6d030d-abc3-41db-8863-5785090245d7",
   "metadata": {},
   "outputs": [],
   "source": [
    "random_search_cup = RandomizedSearchCV(\n",
    "    KNeighborsRegressor(), \n",
    "    random_search_spaces_cup, \n",
    "    n_iter=20,\n",
    "    cv=KFold(n_splits=N_SPLITS, shuffle=True, random_state=RANDOM_STATE),\n",
    "    scoring=make_scorer(mean_euclidean_error, greater_is_better = False),\n",
    "    verbose=1,\n",
    "    random_state=RANDOM_STATE\n",
    ")\n",
    "\n",
    "random_search_cup.fit(x_train_cup, y_train_cup)"
   ]
  },
  {
   "cell_type": "code",
   "execution_count": null,
   "id": "abda2859-ac07-4d05-8414-5735d5e52d9e",
   "metadata": {},
   "outputs": [],
   "source": [
    "tuning_search_top_configs(random_search_cup.cv_results_) # top k config"
   ]
  },
  {
   "cell_type": "markdown",
   "id": "0e173808-6fbd-4602-8d5d-aebceb570253",
   "metadata": {},
   "source": [
    "### Save tuning results"
   ]
  },
  {
   "cell_type": "code",
   "execution_count": null,
   "id": "9a5dcccd-491f-4849-acf1-c93daa195f54",
   "metadata": {},
   "outputs": [],
   "source": [
    "best_score_grid = grid_search_cup.best_score_\n",
    "best_score_random = random_search_cup.best_score_\n",
    "\n",
    "# Check if best result is from GridSearc or RandomSearch\n",
    "if best_score_random > best_score_grid:\n",
    "    print(\"Best configuration from RandomizedSearch:\\n\")\n",
    "    best_params = random_search_cup.best_params_\n",
    "    print(best_params)\n",
    "else:\n",
    "    best_params = grid_search_cup.best_params_\n",
    "    print(\"GridSearchCV resulted in the best configuration.\")"
   ]
  },
  {
   "cell_type": "markdown",
   "id": "762fd142-0455-4d08-a272-53ab658f52de",
   "metadata": {},
   "source": [
    "## Training and Internal test assessment\n",
    "Let's perform a re-training of our model on the entire development set. In this way, we're able to leverage the entire training data (early stopping is applied w.r.t. the train MEE). Finally, predict on the (untouched) internal test to perform model assessment and estimate our performance on the blind test set."
   ]
  },
  {
   "cell_type": "code",
   "execution_count": null,
   "id": "b3d3ff5b-f3a7-46a6-8959-3368752cd96f",
   "metadata": {},
   "outputs": [],
   "source": [
    "# --- UNCOMMENT TO TEST ---\n",
    "# Best (tuning) configuration\n",
    "\"\"\"\n",
    "# Best configuration\n",
    "best_params = {'n_neighbors': 4, 'p': 1, 'weights': 'distance'}\n",
    "\"\"\"\n",
    "\n",
    "# Create a KNN with the best hparams\n",
    "knn = KNeighborsRegressor(**best_params)\n",
    "knn.fit(x_train_cup, y_train_cup)"
   ]
  },
  {
   "cell_type": "code",
   "execution_count": null,
   "id": "c9fabda2-25ff-4498-8340-38ae82f5722f",
   "metadata": {},
   "outputs": [],
   "source": [
    "print('-- TRAINING --')\n",
    "mee_train_cup = mean_euclidean_error(y_train_cup, knn.predict(x_train_cup))\n",
    "mse_train_cup = mean_squared_error(y_train_cup, knn.predict(x_train_cup))\n",
    "print(f'Loss (MSE): {mse_train_cup:.4f} - MEE: {mee_train_cup:.4f}')"
   ]
  },
  {
   "cell_type": "code",
   "execution_count": null,
   "id": "6394585c-32c4-456e-98fd-070aaed5d221",
   "metadata": {},
   "outputs": [],
   "source": [
    "print('-- INTERNAL TEST --')\n",
    "mee_internal_test_cup = mean_euclidean_error(y_internal_test_cup, knn.predict(x_internal_test_cup))\n",
    "mse_internal_test_cup = mean_squared_error(y_internal_test_cup, knn.predict(x_internal_test_cup))\n",
    "print(f'Loss (MSE): {mse_internal_test_cup:.4f} - MEE: {mee_internal_test_cup:.4f}')"
   ]
  },
  {
   "cell_type": "code",
   "execution_count": null,
   "id": "50a4bf99-c02c-41e7-bb07-fccbd0c0aa50",
   "metadata": {},
   "outputs": [],
   "source": [
    "# Blind test set predictions\n",
    "blind_test_preds_cup = knn.predict(x_test_cup)"
   ]
  },
  {
   "cell_type": "markdown",
   "id": "89020a2f-92a1-446c-8828-9a23df6eb762",
   "metadata": {},
   "source": [
    "### Store Result"
   ]
  },
  {
   "cell_type": "code",
   "execution_count": null,
   "id": "ba54fb68-130d-47dc-9b4b-cf9ec6c267a2",
   "metadata": {},
   "outputs": [],
   "source": [
    "report_cup = {\n",
    "    'train': {'mse': mse_train_cup, 'mee': mee_train_cup},\n",
    "    'internal_test': {'mse': mse_internal_test_cup, 'mee': mee_internal_test_cup},\n",
    "}\n",
    "\n",
    "store_cup_result(results_dir + '/CUP/', best_params, report_cup, blind_test_preds_cup, is_poly=True)"
   ]
  },
  {
   "cell_type": "code",
   "execution_count": null,
   "id": "f8040d59-0165-43d6-a6e7-2272174e51d9",
   "metadata": {},
   "outputs": [],
   "source": []
  }
 ],
 "metadata": {
  "kernelspec": {
   "display_name": "hlt",
   "language": "python",
   "name": "hlt"
  },
  "language_info": {
   "codemirror_mode": {
    "name": "ipython",
    "version": 3
   },
   "file_extension": ".py",
   "mimetype": "text/x-python",
   "name": "python",
   "nbconvert_exporter": "python",
   "pygments_lexer": "ipython3",
   "version": "3.9.7"
  }
 },
 "nbformat": 4,
 "nbformat_minor": 5
}
